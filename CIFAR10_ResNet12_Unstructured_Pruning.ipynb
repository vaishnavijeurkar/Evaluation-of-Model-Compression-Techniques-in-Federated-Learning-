{
  "cells": [
    {
      "cell_type": "code",
      "execution_count": 1,
      "metadata": {
        "colab": {
          "base_uri": "https://localhost:8080/"
        },
        "id": "7Tqm342Kya-5",
        "outputId": "f1338173-082f-4276-ab57-f6fb7b8df71c"
      },
      "outputs": [
        {
          "name": "stdout",
          "output_type": "stream",
          "text": [
            "Defaulting to user installation because normal site-packages is not writeable\n",
            "Requirement already satisfied: flwr_datasets[vision] in /home/vaishnavi/.local/lib/python3.10/site-packages (0.2.0)\n",
            "Requirement already satisfied: tqdm<5.0.0,>=4.66.1 in /home/vaishnavi/.local/lib/python3.10/site-packages (from flwr_datasets[vision]) (4.66.4)\n",
            "Requirement already satisfied: numpy<2.0.0,>=1.21.0 in /home/vaishnavi/.local/lib/python3.10/site-packages (from flwr_datasets[vision]) (1.26.4)\n",
            "Requirement already satisfied: seaborn<0.14.0,>=0.13.0 in /home/vaishnavi/.local/lib/python3.10/site-packages (from flwr_datasets[vision]) (0.13.2)\n",
            "Requirement already satisfied: matplotlib<4.0.0,>=3.7.5 in /home/vaishnavi/.local/lib/python3.10/site-packages (from flwr_datasets[vision]) (3.9.1)\n",
            "Requirement already satisfied: datasets<2.20.0,>=2.14.6 in /home/vaishnavi/.local/lib/python3.10/site-packages (from flwr_datasets[vision]) (2.19.2)\n",
            "Requirement already satisfied: pillow>=6.2.1 in /home/vaishnavi/.local/lib/python3.10/site-packages (from flwr_datasets[vision]) (10.4.0)\n",
            "Requirement already satisfied: filelock in /usr/lib/python3/dist-packages (from datasets<2.20.0,>=2.14.6->flwr_datasets[vision]) (3.6.0)\n",
            "Requirement already satisfied: pyyaml>=5.1 in /usr/lib/python3/dist-packages (from datasets<2.20.0,>=2.14.6->flwr_datasets[vision]) (5.4.1)\n",
            "Requirement already satisfied: pandas in /home/vaishnavi/.local/lib/python3.10/site-packages (from datasets<2.20.0,>=2.14.6->flwr_datasets[vision]) (2.2.2)\n",
            "Requirement already satisfied: huggingface-hub>=0.21.2 in /home/vaishnavi/.local/lib/python3.10/site-packages (from datasets<2.20.0,>=2.14.6->flwr_datasets[vision]) (0.24.0)\n",
            "Requirement already satisfied: pyarrow-hotfix in /home/vaishnavi/.local/lib/python3.10/site-packages (from datasets<2.20.0,>=2.14.6->flwr_datasets[vision]) (0.6)\n",
            "Requirement already satisfied: multiprocess in /home/vaishnavi/.local/lib/python3.10/site-packages (from datasets<2.20.0,>=2.14.6->flwr_datasets[vision]) (0.70.16)\n",
            "Requirement already satisfied: aiohttp in /home/vaishnavi/.local/lib/python3.10/site-packages (from datasets<2.20.0,>=2.14.6->flwr_datasets[vision]) (3.9.5)\n",
            "Requirement already satisfied: dill<0.3.9,>=0.3.0 in /home/vaishnavi/.local/lib/python3.10/site-packages (from datasets<2.20.0,>=2.14.6->flwr_datasets[vision]) (0.3.8)\n",
            "Requirement already satisfied: xxhash in /home/vaishnavi/.local/lib/python3.10/site-packages (from datasets<2.20.0,>=2.14.6->flwr_datasets[vision]) (3.4.1)\n",
            "Requirement already satisfied: pyarrow>=12.0.0 in /home/vaishnavi/.local/lib/python3.10/site-packages (from datasets<2.20.0,>=2.14.6->flwr_datasets[vision]) (17.0.0)\n",
            "Requirement already satisfied: fsspec[http]<=2024.3.1,>=2023.1.0 in /home/vaishnavi/.local/lib/python3.10/site-packages (from datasets<2.20.0,>=2.14.6->flwr_datasets[vision]) (2024.3.1)\n",
            "Requirement already satisfied: requests>=2.32.1 in /home/vaishnavi/.local/lib/python3.10/site-packages (from datasets<2.20.0,>=2.14.6->flwr_datasets[vision]) (2.32.3)\n",
            "Requirement already satisfied: packaging in /usr/lib/python3/dist-packages (from datasets<2.20.0,>=2.14.6->flwr_datasets[vision]) (21.3)\n",
            "Requirement already satisfied: fonttools>=4.22.0 in /home/vaishnavi/.local/lib/python3.10/site-packages (from matplotlib<4.0.0,>=3.7.5->flwr_datasets[vision]) (4.53.1)\n",
            "Requirement already satisfied: python-dateutil>=2.7 in /home/vaishnavi/.local/lib/python3.10/site-packages (from matplotlib<4.0.0,>=3.7.5->flwr_datasets[vision]) (2.9.0.post0)\n",
            "Requirement already satisfied: cycler>=0.10 in /home/vaishnavi/.local/lib/python3.10/site-packages (from matplotlib<4.0.0,>=3.7.5->flwr_datasets[vision]) (0.12.1)\n",
            "Requirement already satisfied: pyparsing>=2.3.1 in /usr/lib/python3/dist-packages (from matplotlib<4.0.0,>=3.7.5->flwr_datasets[vision]) (2.4.7)\n",
            "Requirement already satisfied: contourpy>=1.0.1 in /home/vaishnavi/.local/lib/python3.10/site-packages (from matplotlib<4.0.0,>=3.7.5->flwr_datasets[vision]) (1.2.1)\n",
            "Requirement already satisfied: kiwisolver>=1.3.1 in /home/vaishnavi/.local/lib/python3.10/site-packages (from matplotlib<4.0.0,>=3.7.5->flwr_datasets[vision]) (1.4.5)\n",
            "Requirement already satisfied: yarl<2.0,>=1.0 in /home/vaishnavi/.local/lib/python3.10/site-packages (from aiohttp->datasets<2.20.0,>=2.14.6->flwr_datasets[vision]) (1.9.4)\n",
            "Requirement already satisfied: aiosignal>=1.1.2 in /home/vaishnavi/.local/lib/python3.10/site-packages (from aiohttp->datasets<2.20.0,>=2.14.6->flwr_datasets[vision]) (1.3.1)\n",
            "Requirement already satisfied: attrs>=17.3.0 in /home/vaishnavi/.local/lib/python3.10/site-packages (from aiohttp->datasets<2.20.0,>=2.14.6->flwr_datasets[vision]) (23.2.0)\n",
            "Requirement already satisfied: frozenlist>=1.1.1 in /home/vaishnavi/.local/lib/python3.10/site-packages (from aiohttp->datasets<2.20.0,>=2.14.6->flwr_datasets[vision]) (1.4.1)\n",
            "Requirement already satisfied: async-timeout<5.0,>=4.0 in /home/vaishnavi/.local/lib/python3.10/site-packages (from aiohttp->datasets<2.20.0,>=2.14.6->flwr_datasets[vision]) (4.0.3)\n",
            "Requirement already satisfied: multidict<7.0,>=4.5 in /home/vaishnavi/.local/lib/python3.10/site-packages (from aiohttp->datasets<2.20.0,>=2.14.6->flwr_datasets[vision]) (6.0.5)\n",
            "Requirement already satisfied: typing-extensions>=3.7.4.3 in /home/vaishnavi/.local/lib/python3.10/site-packages (from huggingface-hub>=0.21.2->datasets<2.20.0,>=2.14.6->flwr_datasets[vision]) (4.12.2)\n",
            "Requirement already satisfied: tzdata>=2022.7 in /home/vaishnavi/.local/lib/python3.10/site-packages (from pandas->datasets<2.20.0,>=2.14.6->flwr_datasets[vision]) (2024.1)\n",
            "Requirement already satisfied: pytz>=2020.1 in /usr/lib/python3/dist-packages (from pandas->datasets<2.20.0,>=2.14.6->flwr_datasets[vision]) (2022.1)\n",
            "Requirement already satisfied: six>=1.5 in /usr/lib/python3/dist-packages (from python-dateutil>=2.7->matplotlib<4.0.0,>=3.7.5->flwr_datasets[vision]) (1.16.0)\n",
            "Requirement already satisfied: certifi>=2017.4.17 in /usr/lib/python3/dist-packages (from requests>=2.32.1->datasets<2.20.0,>=2.14.6->flwr_datasets[vision]) (2020.6.20)\n",
            "Requirement already satisfied: charset-normalizer<4,>=2 in /home/vaishnavi/.local/lib/python3.10/site-packages (from requests>=2.32.1->datasets<2.20.0,>=2.14.6->flwr_datasets[vision]) (3.3.2)\n",
            "Requirement already satisfied: idna<4,>=2.5 in /usr/lib/python3/dist-packages (from requests>=2.32.1->datasets<2.20.0,>=2.14.6->flwr_datasets[vision]) (3.3)\n",
            "Requirement already satisfied: urllib3<3,>=1.21.1 in /usr/lib/python3/dist-packages (from requests>=2.32.1->datasets<2.20.0,>=2.14.6->flwr_datasets[vision]) (1.26.5)\n"
          ]
        }
      ],
      "source": [
        "!pip install -q flwr[simulation] torch torchvision scipy\n",
        "!pip install flwr_datasets[vision]"
      ]
    },
    {
      "cell_type": "markdown",
      "metadata": {
        "id": "6Pq6T1oFya-6"
      },
      "source": [
        "Now that we have all dependencies installed, we can import everything we need for this tutorial:"
      ]
    },
    {
      "cell_type": "code",
      "execution_count": 2,
      "metadata": {
        "colab": {
          "base_uri": "https://localhost:8080/"
        },
        "id": "ayGxlwHOya-6",
        "outputId": "e21ad23f-5a43-4614-8f0f-55228e46debd"
      },
      "outputs": [
        {
          "name": "stderr",
          "output_type": "stream",
          "text": [
            "/home/vaishnavi/.local/lib/python3.10/site-packages/tqdm/auto.py:21: TqdmWarning: IProgress not found. Please update jupyter and ipywidgets. See https://ipywidgets.readthedocs.io/en/stable/user_install.html\n",
            "  from .autonotebook import tqdm as notebook_tqdm\n",
            "2024-07-25 14:57:20,631\tINFO util.py:154 -- Missing packages: ['ipywidgets']. Run `pip install -U ipywidgets`, then restart the notebook server for rich notebook output.\n"
          ]
        },
        {
          "name": "stdout",
          "output_type": "stream",
          "text": [
            "Training on cpu using PyTorch 2.3.1+cu121 and Flower 1.9.0\n"
          ]
        }
      ],
      "source": [
        "from collections import OrderedDict\n",
        "from typing import Dict, List, Optional, Tuple\n",
        "\n",
        "import numpy as np\n",
        "import torch\n",
        "import torch.nn as nn\n",
        "import torch.nn.functional as F\n",
        "import torchvision.transforms as transforms\n",
        "from torch.utils.data import DataLoader, random_split\n",
        "from torchvision.datasets import CIFAR10\n",
        "\n",
        "import flwr as fl\n",
        "\n",
        "DEVICE = torch.device(\"cpu\")  # Try \"cuda\" to train on GPU\n",
        "print(\n",
        "    f\"Training on {DEVICE} using PyTorch {torch.__version__} and Flower {fl.__version__}\"\n",
        ")"
      ]
    },
    {
      "cell_type": "markdown",
      "metadata": {
        "id": "mE9FDjOZya-6"
      },
      "source": [
        "It is possible to switch to a runtime that has GPU acceleration enabled (on Google Colab: `Runtime > Change runtime type > Hardware acclerator: GPU > Save`). Note, however, that Google Colab is not always able to offer GPU acceleration. If you see an error related to GPU availability in one of the following sections, consider switching back to CPU-based execution by setting `DEVICE = torch.device(\"cpu\")`. If the runtime has GPU acceleration enabled, you should see the output `Training on cuda`, otherwise it'll say `Training on cpu`."
      ]
    },
    {
      "cell_type": "markdown",
      "metadata": {
        "id": "Bjuuhoxcya-7"
      },
      "source": [
        "### Data loading\n",
        "\n",
        "Let's now load the CIFAR-10 training and test set, partition them into ten smaller datasets (each split into training and validation set), and wrap everything in their own `DataLoader`."
      ]
    },
    {
      "cell_type": "code",
      "execution_count": 3,
      "metadata": {
        "colab": {
          "base_uri": "https://localhost:8080/"
        },
        "id": "ff8h-Bc9ya-7",
        "outputId": "a623d82e-d3ab-4bc2-f0fc-db280075d2fe"
      },
      "outputs": [
        {
          "name": "stdout",
          "output_type": "stream",
          "text": [
            "Files already downloaded and verified\n",
            "Files already downloaded and verified\n"
          ]
        }
      ],
      "source": [
        "NUM_CLIENTS = 10\n",
        "\n",
        "\n",
        "def load_datasets(num_clients: int):\n",
        "    # Download and transform CIFAR-10 (train and test)\n",
        "    transform = transforms.Compose(\n",
        "        [transforms.ToTensor(), transforms.Normalize((0.5, 0.5, 0.5), (0.5, 0.5, 0.5))]\n",
        "    )\n",
        "    trainset = CIFAR10(\"./dataset\", train=True, download=True, transform=transform)\n",
        "    testset = CIFAR10(\"./dataset\", train=False, download=True, transform=transform)\n",
        "\n",
        "    # Split training set into `num_clients` partitions to simulate different local datasets\n",
        "    partition_size = len(trainset) // num_clients\n",
        "    lengths = [partition_size] * num_clients\n",
        "    datasets = random_split(trainset, lengths, torch.Generator().manual_seed(42))\n",
        "\n",
        "    # Split each partition into train/val and create DataLoader\n",
        "    trainloaders = []\n",
        "    valloaders = []\n",
        "    for ds in datasets:\n",
        "        len_val = len(ds) // 10  # 10 % validation set\n",
        "        len_train = len(ds) - len_val\n",
        "        lengths = [len_train, len_val]\n",
        "        ds_train, ds_val = random_split(ds, lengths, torch.Generator().manual_seed(42))\n",
        "        trainloaders.append(DataLoader(ds_train, batch_size=32, shuffle=True))\n",
        "        valloaders.append(DataLoader(ds_val, batch_size=32))\n",
        "    testloader = DataLoader(testset, batch_size=32)\n",
        "    return trainloaders, valloaders, testloader\n",
        "\n",
        "\n",
        "trainloaders, valloaders, testloader = load_datasets(NUM_CLIENTS)"
      ]
    },
    {
      "cell_type": "code",
      "execution_count": 4,
      "metadata": {
        "id": "0jXdBnto2JdD"
      },
      "outputs": [],
      "source": [
        "import torch\n",
        "import torch.nn as nn\n",
        "import torch.nn.functional as F\n",
        "\n",
        "class BasicBlockRN12(nn.Module):\n",
        "    def __init__(self, in_planes, planes, batchn):\n",
        "        super(BasicBlockRN12, self).__init__()\n",
        "        self.conv1 = nn.Conv2d(in_planes, planes, kernel_size=3, padding=1, bias=False)\n",
        "        if batchn:\n",
        "            self.bn1 = nn.BatchNorm2d(planes)\n",
        "        else:\n",
        "            self.bn1 = nn.GroupNorm(2, planes)\n",
        "            \n",
        "        self.conv2 = nn.Conv2d(planes, planes, kernel_size=3, padding=1, bias=False)\n",
        "        if batchn:\n",
        "            self.bn2 = nn.BatchNorm2d(planes)\n",
        "        else:\n",
        "            self.bn2 = nn.GroupNorm(2, planes)\n",
        "            \n",
        "        self.conv3 = nn.Conv2d(planes, planes, kernel_size=3, padding=1, bias=False)\n",
        "        if batchn:\n",
        "            self.bn3 = nn.BatchNorm2d(planes)\n",
        "        else:\n",
        "            self.bn3 = nn.GroupNorm(2, planes)\n",
        "            \n",
        "        if batchn:\n",
        "            norm = nn.BatchNorm2d(planes)\n",
        "        else:\n",
        "            norm = nn.GroupNorm(2, planes)\n",
        "            \n",
        "        self.shortcut = nn.Sequential(\n",
        "            nn.Conv2d(in_planes, planes, kernel_size=1, bias=False),\n",
        "            norm\n",
        "        )\n",
        "\n",
        "    def forward(self, x):\n",
        "        out = F.leaky_relu(self.bn1(self.conv1(x)), negative_slope=0.1)\n",
        "        out = F.leaky_relu(self.bn2(self.conv2(out)), negative_slope=0.1)\n",
        "        out = self.bn3(self.conv3(out))\n",
        "        out += self.shortcut(x)\n",
        "        return out\n",
        "\n",
        "class ResNet12(nn.Module):\n",
        "    def __init__(self, feature_maps, input_shape, num_classes, batchn=False):\n",
        "        super(ResNet12, self).__init__()\n",
        "        layers = []\n",
        "        layers.append(BasicBlockRN12(input_shape[0], feature_maps, batchn))\n",
        "        layers.append(BasicBlockRN12(feature_maps, int(2.5 * feature_maps), batchn))\n",
        "        layers.append(BasicBlockRN12(int(2.5 * feature_maps), 5 * feature_maps, batchn))\n",
        "        layers.append(BasicBlockRN12(5 * feature_maps, 10 * feature_maps, batchn))\n",
        "        self.layers = nn.Sequential(*layers)\n",
        "        self.linear = nn.Linear(10 * feature_maps, num_classes)\n",
        "        self.mp = nn.MaxPool2d((2, 2))\n",
        "\n",
        "        for m in self.modules():\n",
        "            if isinstance(m, nn.Conv2d):\n",
        "                nn.init.kaiming_normal_(m.weight, mode='fan_out', nonlinearity='leaky_relu')\n",
        "            elif isinstance(m, nn.BatchNorm2d) or isinstance(m, nn.GroupNorm):\n",
        "                nn.init.constant_(m.weight, 1)\n",
        "                nn.init.constant_(m.bias, 0)\n",
        "\n",
        "    def forward(self, x):\n",
        "        out = x\n",
        "        for i in range(len(self.layers)):\n",
        "            out = self.layers[i](out)\n",
        "            out = self.mp(F.leaky_relu(out, negative_slope=0.1))\n",
        "        out = F.avg_pool2d(out, out.shape[2])\n",
        "        features = out.view(out.size(0), -1)\n",
        "        out = self.linear(features)\n",
        "        return out\n",
        "\n",
        "# Example usage:\n",
        "# model = ResNet12(feature_maps=64, input_shape=(3, 32, 32), num_classes=10, batchn=True)\n"
      ]
    },
    {
      "cell_type": "code",
      "execution_count": 5,
      "metadata": {
        "id": "wM2301L1ya-7"
      },
      "outputs": [],
      "source": [
        "def get_parameters(model: torch.nn.ModuleList) -> List[np.ndarray]:\n",
        "    \"\"\"Get model weights as a list of NumPy ndarrays.\"\"\"\n",
        "    return [val.cpu().numpy() for _, val in model.state_dict().items()]\n",
        "\n",
        "\n",
        "def set_parameters(model: torch.nn.ModuleList, params: List[np.ndarray]):\n",
        "    \"\"\"Set model weights from a list of NumPy ndarrays.\"\"\"\n",
        "    params_dict = zip(model.state_dict().keys(), params)\n",
        "    state_dict = OrderedDict({k: torch.from_numpy(np.copy(v)) for k, v in params_dict})\n",
        "    model.load_state_dict(state_dict, strict=True)\n",
        "\n",
        "\n",
        "def train(net, trainloader, epochs: int):\n",
        "    \"\"\"Train the network on the training set.\"\"\"\n",
        "    criterion = nn.CrossEntropyLoss()\n",
        "    optimizer = torch.optim.SGD(net.parameters())\n",
        "    net.train()\n",
        "    for epoch in range(epochs):\n",
        "        correct, total, epoch_loss = 0, 0, 0.0\n",
        "        for images, labels in trainloader:\n",
        "            images, labels = images.to(DEVICE), labels.to(DEVICE)\n",
        "            optimizer.zero_grad()\n",
        "            outputs = net(images)\n",
        "            loss = criterion(outputs, labels)\n",
        "            loss.backward()\n",
        "            optimizer.step()\n",
        "            # Metrics\n",
        "            epoch_loss += loss.item() * images.size(0)  # Summing the loss\n",
        "            total += labels.size(0)\n",
        "            correct += (torch.max(outputs.data, 1)[1] == labels).sum().item()\n",
        "        epoch_loss /= total  # Averaging the loss over the entire dataset\n",
        "        epoch_acc = correct / total\n",
        "        print(f\"Epoch {epoch+1}: train loss {epoch_loss}, accuracy {epoch_acc}\")\n",
        "\n",
        "def test(net, testloader):\n",
        "    \"\"\"Evaluate the network on the entire test set.\"\"\"\n",
        "    criterion = nn.CrossEntropyLoss()\n",
        "    correct, total, loss = 0, 0, 0.0\n",
        "    net.eval()\n",
        "    with torch.no_grad():\n",
        "        for images, labels in testloader:\n",
        "            images, labels = images.to(DEVICE), labels.to(DEVICE)\n",
        "            outputs = net(images)\n",
        "            loss += criterion(outputs, labels).item() * images.size(0)  # Summing the loss\n",
        "            _, predicted = torch.max(outputs.data, 1)\n",
        "            total += labels.size(0)\n",
        "            correct += (predicted == labels).sum().item()\n",
        "    loss /= total  # Averaging the loss over the entire dataset\n",
        "    accuracy = correct / total\n",
        "    return loss, accuracy\n"
      ]
    },
    {
      "cell_type": "code",
      "execution_count": 6,
      "metadata": {
        "id": "JwiQEaqFya--"
      },
      "outputs": [],
      "source": [
        "from io import BytesIO\n",
        "from typing import cast\n",
        "\n",
        "import numpy as np\n",
        "import scipy\n",
        "\n",
        "from flwr.common.typing import NDArray, NDArrays, Parameters\n",
        "\n",
        "\n",
        "def ndarrays_to_sparse_parameters(ndarrays: NDArrays) -> Parameters:\n",
        "    \"\"\"Convert NumPy ndarrays to parameters object.\"\"\"\n",
        "    tensors = [ndarray_to_sparse_bytes(ndarray) for ndarray in ndarrays]\n",
        "    return Parameters(tensors=tensors, tensor_type=\"numpy.ndarray\")\n",
        "\n",
        "\n",
        "def sparse_parameters_to_ndarrays(parameters: Parameters) -> NDArrays:\n",
        "    \"\"\"Convert parameters object to NumPy ndarrays.\"\"\"\n",
        "    return [sparse_bytes_to_ndarray(tensor) for tensor in parameters.tensors]\n",
        "\n",
        "\n",
        "def ndarray_to_sparse_bytes(ndarray: NDArray) -> bytes:\n",
        "    \"\"\"Serialize NumPy ndarray to bytes.\"\"\"\n",
        "    bytes_io = BytesIO()\n",
        "\n",
        "    if len(ndarray.shape) > 1:\n",
        "        # Flatten higher-dimensional array to 2D\n",
        "        original_shape = ndarray.shape\n",
        "        ndarray = ndarray.reshape(-1, ndarray.shape[-1])\n",
        "\n",
        "        # Convert ndarray to sparse matrix\n",
        "        sparse_matrix = scipy.sparse.csr_matrix(ndarray)\n",
        "\n",
        "        np.savez(\n",
        "            bytes_io,\n",
        "            data=sparse_matrix.data,\n",
        "            indices=sparse_matrix.indices,\n",
        "            indptr=sparse_matrix.indptr,\n",
        "            shape=sparse_matrix.shape,\n",
        "            original_shape=original_shape,  # Store original shape for reshaping\n",
        "            allow_pickle=False,\n",
        "        )\n",
        "    else:\n",
        "        np.save(bytes_io, ndarray, allow_pickle=False)\n",
        "    return bytes_io.getvalue()\n",
        "\n",
        "\n",
        "def sparse_bytes_to_ndarray(tensor: bytes) -> NDArray:\n",
        "    \"\"\"Deserialize NumPy ndarray from bytes.\"\"\"\n",
        "    bytes_io = BytesIO(tensor)\n",
        "    loader = np.load(bytes_io, allow_pickle=False)\n",
        "\n",
        "    if \"indptr\" in loader:\n",
        "        # Convert sparse matrix back to ndarray\n",
        "        sparse_matrix = scipy.sparse.csr_matrix(\n",
        "            (loader[\"data\"], loader[\"indices\"], loader[\"indptr\"]),\n",
        "            shape=loader[\"shape\"]\n",
        "        )\n",
        "        ndarray_deserialized = sparse_matrix.toarray()\n",
        "\n",
        "        # Reshape back to original shape if needed\n",
        "        if \"original_shape\" in loader:\n",
        "            original_shape = loader[\"original_shape\"]\n",
        "            ndarray_deserialized = ndarray_deserialized.reshape(original_shape)\n",
        "    else:\n",
        "        ndarray_deserialized = loader\n",
        "    return cast(NDArray, ndarray_deserialized)"
      ]
    },
    {
      "cell_type": "markdown",
      "metadata": {
        "id": "pErPkjIDya--"
      },
      "source": [
        "### Client-side\n",
        "\n",
        "To be able to serialize our `ndarray`s into sparse parameters, we will just have to call our custom functions in our `flwr.client.Client`.\n",
        "\n",
        "Indeed, in `get_parameters` we need to serialize the parameters we got from our network using our custom `ndarrays_to_sparse_parameters` defined above.\n",
        "\n",
        "In `fit`, we first need to deserialize the parameters coming from the server using our custom `sparse_parameters_to_ndarrays` and then we need to\n",
        "serialize our local results with `ndarrays_to_sparse_parameters`.\n",
        "\n",
        "In `evaluate`, we will only need to deserialize the global parameters with our custom function."
      ]
    },
    {
      "cell_type": "code",
      "execution_count": 7,
      "metadata": {
        "id": "Yo97DTl9yhYE"
      },
      "outputs": [],
      "source": [
        "import torch\n",
        "import torch.nn.utils.prune as prune\n",
        "\n",
        "def prune_model_unstructured(model, pruning_method, **kwargs):\n",
        "    # Collect the parameters to prune\n",
        "    parameters_to_prune = []\n",
        "    for name, module in model.named_modules():\n",
        "        if isinstance(module, torch.nn.Conv2d) or isinstance(module, torch.nn.Linear):\n",
        "            parameters_to_prune.append((module, 'weight'))\n",
        "            if module.bias is not None:\n",
        "                parameters_to_prune.append((module, 'bias'))\n",
        "\n",
        "    # Apply global pruning\n",
        "    prune.global_unstructured(\n",
        "        parameters_to_prune,\n",
        "        pruning_method=pruning_method,\n",
        "        **kwargs\n",
        "    )\n",
        "\n",
        "    # Remove pruning reparameterization\n",
        "    for module, param in parameters_to_prune:\n",
        "        prune.remove(module, param)"
      ]
    },
    {
      "cell_type": "code",
      "execution_count": 8,
      "metadata": {
        "id": "fwCO1ygkya--"
      },
      "outputs": [],
      "source": [
        "from flwr.common import (\n",
        "    Code,\n",
        "    EvaluateIns,\n",
        "    EvaluateRes,\n",
        "    FitIns,\n",
        "    FitRes,\n",
        "    GetParametersIns,\n",
        "    GetParametersRes,\n",
        "    Status,\n",
        ")\n",
        "\n",
        "class FlowerClient(fl.client.Client):\n",
        "    def __init__(self, cid, net, trainloader, valloader, pruning_rate):\n",
        "        self.cid = cid\n",
        "        self.net = net\n",
        "        self.trainloader = trainloader\n",
        "        self.valloader = valloader\n",
        "        self.pruning_rate = pruning_rate\n",
        "\n",
        "    def get_parameters(self, ins: GetParametersIns) -> GetParametersRes:\n",
        "        print(f\"[Client {self.cid}] get_parameters\")\n",
        "\n",
        "        # Get parameters as a list of NumPy ndarray's\n",
        "        ndarrays: List[np.ndarray] = get_parameters(self.net)\n",
        "\n",
        "        # Serialize ndarray's into a Parameters object using our custom function\n",
        "        parameters = ndarrays_to_sparse_parameters(ndarrays)\n",
        "\n",
        "        # Build and return response\n",
        "        status = Status(code=Code.OK, message=\"Success\")\n",
        "        return GetParametersRes(\n",
        "            status=status,\n",
        "            parameters=parameters,\n",
        "        )\n",
        "\n",
        "    def fit(self, ins: FitIns) -> FitRes:\n",
        "        print(f\"[Client {self.cid}] fit, config: {ins.config}\")\n",
        "\n",
        "        # Deserialize parameters to NumPy ndarray's using our custom function\n",
        "        parameters_original = ins.parameters\n",
        "        ndarrays_original = sparse_parameters_to_ndarrays(parameters_original)\n",
        "\n",
        "        # Update local model, train, get updated parameters\n",
        "        set_parameters(self.net, ndarrays_original)\n",
        "        train(self.net, self.trainloader, epochs=1)\n",
        "        pruning_method = torch.nn.utils.prune.L1Unstructured\n",
        "        prune_model_unstructured(self.net, pruning_method, amount=self.pruning_rate)\n",
        "        ndarrays_updated = get_parameters(self.net)\n",
        "\n",
        "        # Serialize ndarray's into a Parameters object using our custom function\n",
        "        parameters_updated = ndarrays_to_sparse_parameters(ndarrays_updated)\n",
        "        # Save the sparse matrix to an .npz file\n",
        "        bytes_sent = sum(len(tensor) for tensor in parameters_updated.tensors)\n",
        "\n",
        "        # Build and return response\n",
        "        status = Status(code=Code.OK, message=\"Success\")\n",
        "        return FitRes(\n",
        "            status=status,\n",
        "            parameters=parameters_updated,\n",
        "            num_examples=len(self.trainloader),\n",
        "            metrics={\"bytes sent\" : bytes_sent},\n",
        "        )\n",
        "\n",
        "    def evaluate(self, ins: EvaluateIns) -> EvaluateRes:\n",
        "        print(f\"[Client {self.cid}] evaluate, config: {ins.config}\")\n",
        "\n",
        "        # Deserialize parameters to NumPy ndarray's using our custom function\n",
        "        parameters_original = ins.parameters\n",
        "        ndarrays_original = sparse_parameters_to_ndarrays(parameters_original)\n",
        "\n",
        "        set_parameters(self.net, ndarrays_original)\n",
        "        loss, accuracy = test(self.net, self.valloader)\n",
        "\n",
        "        # Build and return response\n",
        "        status = Status(code=Code.OK, message=\"Success\")\n",
        "        return EvaluateRes(\n",
        "            status=status,\n",
        "            loss=float(loss),\n",
        "            num_examples=len(self.valloader),\n",
        "            metrics={\"accuracy\": float(accuracy), \"loss\" : float(loss)},\n",
        "        )\n"
      ]
    },
    {
      "cell_type": "code",
      "execution_count": 9,
      "metadata": {
        "id": "NNEjOqwpyyjI"
      },
      "outputs": [],
      "source": [
        "from datasets import Dataset\n",
        "def get_evaluate_fn(testloader: Dataset):\n",
        "    \"\"\"This is a function that returns a function. The returned\n",
        "    function (i.e. `evaluate_fn`) will be executed by the strategy\n",
        "    at the end of each round to evaluate the stat of the global\n",
        "    model.\"\"\"\n",
        "\n",
        "    def evaluate_fn(server_round: int, parameters, config):\n",
        "        \"\"\"This function is executed by the strategy it will instantiate\n",
        "        a model and replace its parameters with those from the global model.\n",
        "        The, the model will be evaluate on the test set (recall this is the\n",
        "        whole MNIST test set).\"\"\"\n",
        "\n",
        "        model = ResNet12(feature_maps=64, input_shape=(3, 32, 32), num_classes=10, batchn=True)\n",
        "\n",
        "        # Determine device\n",
        "        model.to(DEVICE)  # send model to device\n",
        "\n",
        "        # set parameters to the model\n",
        "        params_dict = zip(model.state_dict().keys(), parameters)\n",
        "        state_dict = OrderedDict({k: torch.from_numpy(np.copy(v)) for k, v in params_dict})\n",
        "        model.load_state_dict(state_dict, strict=True)\n",
        "\n",
        "        loss, accuracy = test(model, testloader)\n",
        "        return loss, {\"accuracy\": accuracy}\n",
        "\n",
        "    return evaluate_fn"
      ]
    },
    {
      "cell_type": "code",
      "execution_count": 10,
      "metadata": {
        "id": "rHeJ1jZLya-_"
      },
      "outputs": [],
      "source": [
        "from logging import WARNING\n",
        "from typing import Callable, Dict, List, Optional, Tuple, Union\n",
        "\n",
        "from flwr.common import FitRes, MetricsAggregationFn, NDArrays, Parameters, Scalar\n",
        "from flwr.common.logger import log\n",
        "from flwr.server.client_proxy import ClientProxy\n",
        "from flwr.server.strategy import FedAvg\n",
        "from flwr.server.strategy.aggregate import aggregate\n",
        "\n",
        "WARNING_MIN_AVAILABLE_CLIENTS_TOO_LOW = \"\"\"\n",
        "Setting `min_available_clients` lower than `min_fit_clients` or\n",
        "`min_evaluate_clients` can cause the server to fail when there are too few clients\n",
        "connected to the server. `min_available_clients` must be set to a value larger\n",
        "than or equal to the values of `min_fit_clients` and `min_evaluate_clients`.\n",
        "\"\"\"\n",
        "\n",
        "\n",
        "class FedSparse(FedAvg):\n",
        "    def __init__(\n",
        "        self,\n",
        "        *,\n",
        "        fraction_fit: float = 1.0,\n",
        "        fraction_evaluate: float = 1.0,\n",
        "        min_fit_clients: int = 2,\n",
        "        min_evaluate_clients: int = 2,\n",
        "        min_available_clients: int = 2,\n",
        "        evaluate_fn: Optional[\n",
        "            Callable[\n",
        "                [int, NDArrays, Dict[str, Scalar]],\n",
        "                Optional[Tuple[float, Dict[str, Scalar]]],\n",
        "            ]\n",
        "        ] = None,\n",
        "        on_fit_config_fn: Optional[Callable[[int], Dict[str, Scalar]]] = None,\n",
        "        on_evaluate_config_fn: Optional[Callable[[int], Dict[str, Scalar]]] = None,\n",
        "        accept_failures: bool = True,\n",
        "        initial_parameters: Optional[Parameters] = None,\n",
        "        fit_metrics_aggregation_fn: Optional[MetricsAggregationFn] = None,\n",
        "        evaluate_metrics_aggregation_fn: Optional[MetricsAggregationFn] = None,\n",
        "    ) -> None:\n",
        "        \"\"\"Custom FedAvg strategy with sparse matrices.\n",
        "\n",
        "        Parameters\n",
        "        ----------\n",
        "        fraction_fit : float, optional\n",
        "            Fraction of clients used during training. Defaults to 0.1.\n",
        "        fraction_evaluate : float, optional\n",
        "            Fraction of clients used during validation. Defaults to 0.1.\n",
        "        min_fit_clients : int, optional\n",
        "            Minimum number of clients used during training. Defaults to 2.\n",
        "        min_evaluate_clients : int, optional\n",
        "            Minimum number of clients used during validation. Defaults to 2.\n",
        "        min_available_clients : int, optional\n",
        "            Minimum number of total clients in the system. Defaults to 2.\n",
        "        evaluate_fn : Optional[Callable[[int, NDArrays, Dict[str, Scalar]], Optional[Tuple[float, Dict[str, Scalar]]]]]\n",
        "            Optional function used for validation. Defaults to None.\n",
        "        on_fit_config_fn : Callable[[int], Dict[str, Scalar]], optional\n",
        "            Function used to configure training. Defaults to None.\n",
        "        on_evaluate_config_fn : Callable[[int], Dict[str, Scalar]], optional\n",
        "            Function used to configure validation. Defaults to None.\n",
        "        accept_failures : bool, optional\n",
        "            Whether or not accept rounds containing failures. Defaults to True.\n",
        "        initial_parameters : Parameters, optional\n",
        "            Initial global model parameters.\n",
        "        \"\"\"\n",
        "\n",
        "        if (\n",
        "            min_fit_clients > min_available_clients\n",
        "            or min_evaluate_clients > min_available_clients\n",
        "        ):\n",
        "            log(WARNING, WARNING_MIN_AVAILABLE_CLIENTS_TOO_LOW)\n",
        "\n",
        "        super().__init__(\n",
        "            fraction_fit=fraction_fit,\n",
        "            fraction_evaluate=fraction_evaluate,\n",
        "            min_fit_clients=min_fit_clients,\n",
        "            min_evaluate_clients=min_evaluate_clients,\n",
        "            min_available_clients=min_available_clients,\n",
        "            evaluate_fn=evaluate_fn,\n",
        "            on_fit_config_fn=on_fit_config_fn,\n",
        "            on_evaluate_config_fn=on_evaluate_config_fn,\n",
        "            accept_failures=accept_failures,\n",
        "            initial_parameters=initial_parameters,\n",
        "            fit_metrics_aggregation_fn=fit_metrics_aggregation_fn,\n",
        "            evaluate_metrics_aggregation_fn=evaluate_metrics_aggregation_fn,\n",
        "        )\n",
        "\n",
        "    def evaluate(\n",
        "        self, server_round: int, parameters: Parameters\n",
        "    ) -> Optional[Tuple[float, Dict[str, Scalar]]]:\n",
        "        \"\"\"Evaluate model parameters using an evaluation function.\"\"\"\n",
        "        if self.evaluate_fn is None:\n",
        "            # No evaluation function provided\n",
        "            return None\n",
        "\n",
        "        # We deserialize using our custom method\n",
        "        parameters_ndarrays = sparse_parameters_to_ndarrays(parameters)\n",
        "\n",
        "        eval_res = self.evaluate_fn(server_round, parameters_ndarrays, {})\n",
        "        if eval_res is None:\n",
        "            return None\n",
        "        loss, metrics = eval_res\n",
        "        return loss, metrics\n",
        "\n",
        "    def aggregate_fit(\n",
        "        self,\n",
        "        server_round: int,\n",
        "        results: List[Tuple[ClientProxy, FitRes]],\n",
        "        failures: List[Union[Tuple[ClientProxy, FitRes], BaseException]],\n",
        "    ) -> Tuple[Optional[Parameters], Dict[str, Scalar]]:\n",
        "        \"\"\"Aggregate fit results using weighted average.\"\"\"\n",
        "        if not results:\n",
        "            return None, {}\n",
        "        # Do not aggregate if there are failures and failures are not accepted\n",
        "        if not self.accept_failures and failures:\n",
        "            return None, {}\n",
        "\n",
        "        # We deserialize each of the results with our custom method\n",
        "        weights_results = [\n",
        "            (sparse_parameters_to_ndarrays(fit_res.parameters), fit_res.num_examples)\n",
        "            for _, fit_res in results\n",
        "        ]\n",
        "\n",
        "        # We serialize the aggregated result using our custom method\n",
        "        parameters_aggregated = ndarrays_to_sparse_parameters(\n",
        "            aggregate(weights_results)\n",
        "        )\n",
        "\n",
        "        # Aggregate custom metrics if aggregation fn was provided\n",
        "        metrics_aggregated = {}\n",
        "        if self.fit_metrics_aggregation_fn:\n",
        "            fit_metrics = [(res.num_examples, res.metrics) for _, res in results]\n",
        "            metrics_aggregated = self.fit_metrics_aggregation_fn(fit_metrics)\n",
        "        elif server_round == 1:  # Only log this warning once\n",
        "            log(WARNING, \"No fit_metrics_aggregation_fn provided\")\n",
        "\n",
        "        return parameters_aggregated, metrics_aggregated"
      ]
    },
    {
      "cell_type": "code",
      "execution_count": 11,
      "metadata": {
        "id": "_ni7tJdezAB8"
      },
      "outputs": [],
      "source": [
        "from flwr.common import Metrics\n",
        "\n",
        "def weighted_average(metrics: List[Tuple[int, Metrics]]) -> Metrics:\n",
        "    \"\"\"Aggregation function for (federated) evaluation metrics, i.e. those returned by\n",
        "    the client's evaluate() method.\"\"\"\n",
        "    # Multiply accuracy of each client by number of examples used\n",
        "    accuracies = [num_examples * m[\"accuracy\"] for num_examples, m in metrics]\n",
        "    examples = [num_examples for num_examples, _ in metrics]\n",
        "\n",
        "    # Aggregate and return custom metric (weighted average)\n",
        "    return {\"accuracy\": sum(accuracies) / sum(examples)}\n",
        "\n",
        "def aggregate_fit_metrics(metrics_list: List[Tuple[int, Dict[str, Scalar]]]) -> Dict[str, Scalar]:\n",
        "    \"\"\"Aggregate custom fit metrics from clients to calculate the average bytes sent.\n",
        "\n",
        "    Args:\n",
        "        metrics_list (List[Tuple[int, Dict[str, Scalar]]]): List of tuples, where each tuple\n",
        "        contains the number of examples and a dictionary of metrics from a client.\n",
        "\n",
        "    Returns:\n",
        "        Dict[str, Scalar]: Aggregated metrics containing the average bytes sent.\n",
        "    \"\"\"\n",
        "    total_bytes_sent = 0\n",
        "    num_clients = len(metrics_list)\n",
        "\n",
        "    for _, metrics in metrics_list:\n",
        "        total_bytes_sent += metrics[\"bytes sent\"]\n",
        "\n",
        "    # Calculate the average bytes sent\n",
        "    average_bytes_sent = total_bytes_sent / num_clients if num_clients > 0 else 0\n",
        "\n",
        "    # Create the aggregated metrics dictionary\n",
        "    aggregated_metrics = {\n",
        "        \"bytes sent\": average_bytes_sent,\n",
        "    }\n",
        "\n",
        "    return aggregated_metrics\n"
      ]
    },
    {
      "cell_type": "markdown",
      "metadata": {
        "id": "4I9xIadcya-_"
      },
      "source": [
        "We can now run our custom serialization example!"
      ]
    },
    {
      "cell_type": "code",
      "execution_count": 12,
      "metadata": {
        "colab": {
          "background_save": true,
          "base_uri": "https://localhost:8080/"
        },
        "id": "NTyPa5Bbya-_",
        "outputId": "a95d1316-81d0-453d-c3d8-d672a16dfa1b"
      },
      "outputs": [
        {
          "name": "stderr",
          "output_type": "stream",
          "text": [
            "\u001b[92mINFO \u001b[0m:      Starting Flower simulation, config: num_rounds=50, no round_timeout\n"
          ]
        },
        {
          "name": "stdout",
          "output_type": "stream",
          "text": [
            "Running simulation with pruning rate: 0.0\n"
          ]
        },
        {
          "name": "stderr",
          "output_type": "stream",
          "text": [
            "2024-07-25 14:57:26,215\tINFO worker.py:1752 -- Started a local Ray instance.\n",
            "\u001b[92mINFO \u001b[0m:      Flower VCE: Ray initialized with resources: {'accelerator_type:RTX': 1.0, 'memory': 865427078144.0, 'GPU': 3.0, 'object_store_memory': 200000000000.0, 'CPU': 40.0, 'node:10.8.0.3': 1.0, 'node:__internal_head__': 1.0}\n",
            "\u001b[92mINFO \u001b[0m:      Optimize your simulation with Flower VCE: https://flower.ai/docs/framework/how-to-run-simulations.html\n",
            "\u001b[92mINFO \u001b[0m:      No `client_resources` specified. Using minimal resources for clients.\n",
            "\u001b[92mINFO \u001b[0m:      Flower VCE: Resources for each Virtual Client: {'num_cpus': 1, 'num_gpus': 0.0}\n",
            "\u001b[92mINFO \u001b[0m:      Flower VCE: Creating VirtualClientEngineActorPool with 40 actors\n",
            "\u001b[92mINFO \u001b[0m:      [INIT]\n",
            "\u001b[92mINFO \u001b[0m:      Requesting initial parameters from one random client\n"
          ]
        },
        {
          "name": "stdout",
          "output_type": "stream",
          "text": [
            "\u001b[36m(ClientAppActor pid=192530)\u001b[0m [Client 1] get_parameters\n"
          ]
        },
        {
          "name": "stderr",
          "output_type": "stream",
          "text": [
            "\u001b[92mINFO \u001b[0m:      Received initial parameters from one random client\n",
            "\u001b[92mINFO \u001b[0m:      Evaluating initial global parameters\n",
            "\u001b[92mINFO \u001b[0m:      initial parameters (loss, other metrics): 2.3219499301910402, {'accuracy': 0.1}\n",
            "\u001b[92mINFO \u001b[0m:      \n",
            "\u001b[92mINFO \u001b[0m:      [ROUND 1]\n",
            "\u001b[92mINFO \u001b[0m:      configure_fit: strategy sampled 4 clients (out of 4)\n"
          ]
        },
        {
          "name": "stdout",
          "output_type": "stream",
          "text": [
            "\u001b[36m(ClientAppActor pid=192530)\u001b[0m [Client 1] fit, config: {}\n",
            "\u001b[36m(ClientAppActor pid=192529)\u001b[0m [Client 2] fit, config: {}\u001b[32m [repeated 2x across cluster] (Ray deduplicates logs by default. Set RAY_DEDUP_LOGS=0 to disable log deduplication, or see https://docs.ray.io/en/master/ray-observability/ray-logging.html#log-deduplication for more options.)\u001b[0m\n",
            "\u001b[36m(ClientAppActor pid=192530)\u001b[0m Epoch 1: train loss 2.115624686559041, accuracy 0.22777777777777777\n",
            "\u001b[36m(ClientAppActor pid=192528)\u001b[0m [Client 3] fit, config: {}\n",
            "\u001b[36m(ClientAppActor pid=192528)\u001b[0m Epoch 1: train loss 2.1251398724450006, accuracy 0.22355555555555556\n",
            "\u001b[36m(ClientAppActor pid=192531)\u001b[0m Epoch 1: train loss 2.128974070654975, accuracy 0.22511111111111112\n"
          ]
        },
        {
          "name": "stderr",
          "output_type": "stream",
          "text": [
            "\u001b[92mINFO \u001b[0m:      aggregate_fit: received 4 results and 0 failures\n",
            "\u001b[92mINFO \u001b[0m:      fit progress: (1, 1.9407631855010987, {'accuracy': 0.3101}, 376.2187667961698)\n",
            "\u001b[92mINFO \u001b[0m:      configure_evaluate: strategy sampled 4 clients (out of 4)\n"
          ]
        },
        {
          "name": "stdout",
          "output_type": "stream",
          "text": [
            "\u001b[36m(ClientAppActor pid=192529)\u001b[0m [Client 3] evaluate, config: {}\n",
            "\u001b[36m(ClientAppActor pid=192529)\u001b[0m Epoch 1: train loss 2.111219452963935, accuracy 0.23044444444444445\n"
          ]
        },
        {
          "name": "stderr",
          "output_type": "stream",
          "text": [
            "\u001b[92mINFO \u001b[0m:      aggregate_evaluate: received 4 results and 0 failures\n",
            "\u001b[92mINFO \u001b[0m:      \n",
            "\u001b[92mINFO \u001b[0m:      [ROUND 2]\n",
            "\u001b[92mINFO \u001b[0m:      configure_fit: strategy sampled 4 clients (out of 4)\n"
          ]
        },
        {
          "name": "stdout",
          "output_type": "stream",
          "text": [
            "\u001b[36m(ClientAppActor pid=192530)\u001b[0m [Client 3] fit, config: {}\n",
            "\u001b[36m(ClientAppActor pid=192530)\u001b[0m [Client 0] evaluate, config: {}\u001b[32m [repeated 3x across cluster]\u001b[0m\n",
            "\u001b[36m(ClientAppActor pid=192528)\u001b[0m Epoch 1: train loss 1.9089459005991618, accuracy 0.31022222222222223\n",
            "\u001b[36m(ClientAppActor pid=192529)\u001b[0m [Client 2] fit, config: {}\u001b[32m [repeated 3x across cluster]\u001b[0m\n",
            "\u001b[36m(ClientAppActor pid=192530)\u001b[0m Epoch 1: train loss 1.8949726088841756, accuracy 0.316\n",
            "\u001b[36m(ClientAppActor pid=192529)\u001b[0m Epoch 1: train loss 1.8962810162438286, accuracy 0.3151111111111111\n",
            "\u001b[36m(ClientAppActor pid=192531)\u001b[0m Epoch 1: train loss 1.8905365208519829, accuracy 0.3171111111111111\n"
          ]
        },
        {
          "name": "stderr",
          "output_type": "stream",
          "text": [
            "\u001b[92mINFO \u001b[0m:      aggregate_fit: received 4 results and 0 failures\n",
            "\u001b[92mINFO \u001b[0m:      fit progress: (2, 1.8094202508926391, {'accuracy': 0.3572}, 779.9253052959684)\n",
            "\u001b[92mINFO \u001b[0m:      configure_evaluate: strategy sampled 4 clients (out of 4)\n"
          ]
        },
        {
          "name": "stdout",
          "output_type": "stream",
          "text": [
            "\u001b[36m(ClientAppActor pid=192531)\u001b[0m [Client 1] evaluate, config: {}\n"
          ]
        },
        {
          "name": "stderr",
          "output_type": "stream",
          "text": [
            "\u001b[92mINFO \u001b[0m:      aggregate_evaluate: received 4 results and 0 failures\n",
            "\u001b[92mINFO \u001b[0m:      \n",
            "\u001b[92mINFO \u001b[0m:      [ROUND 3]\n",
            "\u001b[92mINFO \u001b[0m:      configure_fit: strategy sampled 4 clients (out of 4)\n"
          ]
        },
        {
          "name": "stdout",
          "output_type": "stream",
          "text": [
            "\u001b[36m(ClientAppActor pid=192528)\u001b[0m [Client 2] fit, config: {}\n",
            "\u001b[36m(ClientAppActor pid=192528)\u001b[0m [Client 0] evaluate, config: {}\u001b[32m [repeated 3x across cluster]\u001b[0m\n",
            "\u001b[36m(ClientAppActor pid=192528)\u001b[0m Epoch 1: train loss 1.7899673243628609, accuracy 0.3571111111111111\n",
            "\u001b[36m(ClientAppActor pid=192531)\u001b[0m [Client 1] fit, config: {}\u001b[32m [repeated 3x across cluster]\u001b[0m\n",
            "\u001b[36m(ClientAppActor pid=192531)\u001b[0m Epoch 1: train loss 1.7837347690794203, accuracy 0.3651111111111111\u001b[32m [repeated 2x across cluster]\u001b[0m\n",
            "\u001b[36m(ClientAppActor pid=192529)\u001b[0m Epoch 1: train loss 1.8007850622600978, accuracy 0.36088888888888887\n"
          ]
        },
        {
          "name": "stderr",
          "output_type": "stream",
          "text": [
            "\u001b[92mINFO \u001b[0m:      aggregate_fit: received 4 results and 0 failures\n",
            "\u001b[92mINFO \u001b[0m:      fit progress: (3, 1.7258686473846436, {'accuracy': 0.3848}, 1172.9389937841333)\n",
            "\u001b[92mINFO \u001b[0m:      configure_evaluate: strategy sampled 4 clients (out of 4)\n"
          ]
        },
        {
          "name": "stdout",
          "output_type": "stream",
          "text": [
            "\u001b[36m(ClientAppActor pid=192529)\u001b[0m [Client 3] evaluate, config: {}\n"
          ]
        },
        {
          "name": "stderr",
          "output_type": "stream",
          "text": [
            "\u001b[92mINFO \u001b[0m:      aggregate_evaluate: received 4 results and 0 failures\n",
            "\u001b[92mINFO \u001b[0m:      \n",
            "\u001b[92mINFO \u001b[0m:      [ROUND 4]\n",
            "\u001b[92mINFO \u001b[0m:      configure_fit: strategy sampled 4 clients (out of 4)\n"
          ]
        },
        {
          "name": "stdout",
          "output_type": "stream",
          "text": [
            "\u001b[36m(ClientAppActor pid=192528)\u001b[0m [Client 0] fit, config: {}\n",
            "\u001b[36m(ClientAppActor pid=192528)\u001b[0m [Client 2] evaluate, config: {}\u001b[32m [repeated 3x across cluster]\u001b[0m\n",
            "\u001b[36m(ClientAppActor pid=192530)\u001b[0m Epoch 1: train loss 1.718350418302748, accuracy 0.3868888888888889\n",
            "\u001b[36m(ClientAppActor pid=192529)\u001b[0m [Client 2] fit, config: {}\u001b[32m [repeated 3x across cluster]\u001b[0m\n",
            "\u001b[36m(ClientAppActor pid=192528)\u001b[0m Epoch 1: train loss 1.7132798096338908, accuracy 0.3917777777777778\n",
            "\u001b[36m(ClientAppActor pid=192531)\u001b[0m Epoch 1: train loss 1.6944324721230402, accuracy 0.40066666666666667\n"
          ]
        },
        {
          "name": "stderr",
          "output_type": "stream",
          "text": [
            "\u001b[92mINFO \u001b[0m:      aggregate_fit: received 4 results and 0 failures\n",
            "\u001b[92mINFO \u001b[0m:      fit progress: (4, 1.6533230991363526, {'accuracy': 0.4097}, 1579.601268175058)\n",
            "\u001b[92mINFO \u001b[0m:      configure_evaluate: strategy sampled 4 clients (out of 4)\n"
          ]
        },
        {
          "name": "stdout",
          "output_type": "stream",
          "text": [
            "\u001b[36m(ClientAppActor pid=192529)\u001b[0m [Client 2] evaluate, config: {}\n",
            "\u001b[36m(ClientAppActor pid=192529)\u001b[0m Epoch 1: train loss 1.7106061423619587, accuracy 0.37977777777777777\n"
          ]
        },
        {
          "name": "stderr",
          "output_type": "stream",
          "text": [
            "\u001b[92mINFO \u001b[0m:      aggregate_evaluate: received 4 results and 0 failures\n",
            "\u001b[92mINFO \u001b[0m:      \n",
            "\u001b[92mINFO \u001b[0m:      [ROUND 5]\n",
            "\u001b[92mINFO \u001b[0m:      configure_fit: strategy sampled 4 clients (out of 4)\n"
          ]
        },
        {
          "name": "stdout",
          "output_type": "stream",
          "text": [
            "\u001b[36m(ClientAppActor pid=192530)\u001b[0m [Client 2] fit, config: {}\n",
            "\u001b[36m(ClientAppActor pid=192530)\u001b[0m [Client 1] evaluate, config: {}\u001b[32m [repeated 3x across cluster]\u001b[0m\n",
            "\u001b[36m(ClientAppActor pid=192530)\u001b[0m Epoch 1: train loss 1.642119313346015, accuracy 0.414\n",
            "\u001b[36m(ClientAppActor pid=192529)\u001b[0m [Client 3] fit, config: {}\u001b[32m [repeated 3x across cluster]\u001b[0m\n",
            "\u001b[36m(ClientAppActor pid=192528)\u001b[0m Epoch 1: train loss 1.6500158303578694, accuracy 0.4131111111111111\n",
            "\u001b[36m(ClientAppActor pid=192529)\u001b[0m Epoch 1: train loss 1.6487047601275975, accuracy 0.4162222222222222\n",
            "\u001b[36m(ClientAppActor pid=192531)\u001b[0m Epoch 1: train loss 1.6458621014489068, accuracy 0.4171111111111111\n"
          ]
        },
        {
          "name": "stderr",
          "output_type": "stream",
          "text": [
            "\u001b[92mINFO \u001b[0m:      aggregate_fit: received 4 results and 0 failures\n",
            "\u001b[92mINFO \u001b[0m:      fit progress: (5, 1.5946123519897462, {'accuracy': 0.4326}, 1986.5489590310026)\n",
            "\u001b[92mINFO \u001b[0m:      configure_evaluate: strategy sampled 4 clients (out of 4)\n"
          ]
        },
        {
          "name": "stdout",
          "output_type": "stream",
          "text": [
            "\u001b[36m(ClientAppActor pid=192531)\u001b[0m [Client 0] evaluate, config: {}\n"
          ]
        },
        {
          "name": "stderr",
          "output_type": "stream",
          "text": [
            "\u001b[92mINFO \u001b[0m:      aggregate_evaluate: received 4 results and 0 failures\n",
            "\u001b[92mINFO \u001b[0m:      \n",
            "\u001b[92mINFO \u001b[0m:      [ROUND 6]\n",
            "\u001b[92mINFO \u001b[0m:      configure_fit: strategy sampled 4 clients (out of 4)\n"
          ]
        },
        {
          "name": "stdout",
          "output_type": "stream",
          "text": [
            "\u001b[36m(ClientAppActor pid=192530)\u001b[0m [Client 3] fit, config: {}\n",
            "\u001b[36m(ClientAppActor pid=192530)\u001b[0m [Client 2] evaluate, config: {}\u001b[32m [repeated 3x across cluster]\u001b[0m\n",
            "\u001b[36m(ClientAppActor pid=192530)\u001b[0m Epoch 1: train loss 1.5954261714087592, accuracy 0.43577777777777776\n",
            "\u001b[36m(ClientAppActor pid=192531)\u001b[0m [Client 0] fit, config: {}\u001b[32m [repeated 3x across cluster]\u001b[0m\n",
            "\u001b[36m(ClientAppActor pid=192529)\u001b[0m Epoch 1: train loss 1.601219394048055, accuracy 0.4226666666666667\n",
            "\u001b[36m(ClientAppActor pid=192531)\u001b[0m Epoch 1: train loss 1.5910842456817627, accuracy 0.44533333333333336\n",
            "\u001b[36m(ClientAppActor pid=192528)\u001b[0m Epoch 1: train loss 1.5787536589304607, accuracy 0.4451111111111111\n"
          ]
        },
        {
          "name": "stderr",
          "output_type": "stream",
          "text": [
            "\u001b[92mINFO \u001b[0m:      aggregate_fit: received 4 results and 0 failures\n",
            "\u001b[92mINFO \u001b[0m:      fit progress: (6, 1.5534907598495484, {'accuracy': 0.4459}, 2390.256210145075)\n",
            "\u001b[92mINFO \u001b[0m:      configure_evaluate: strategy sampled 4 clients (out of 4)\n"
          ]
        },
        {
          "name": "stdout",
          "output_type": "stream",
          "text": [
            "\u001b[36m(ClientAppActor pid=192528)\u001b[0m [Client 3] evaluate, config: {}\n"
          ]
        },
        {
          "name": "stderr",
          "output_type": "stream",
          "text": [
            "\u001b[92mINFO \u001b[0m:      aggregate_evaluate: received 4 results and 0 failures\n",
            "\u001b[92mINFO \u001b[0m:      \n",
            "\u001b[92mINFO \u001b[0m:      [ROUND 7]\n",
            "\u001b[92mINFO \u001b[0m:      configure_fit: strategy sampled 4 clients (out of 4)\n"
          ]
        },
        {
          "name": "stdout",
          "output_type": "stream",
          "text": [
            "\u001b[36m(ClientAppActor pid=192530)\u001b[0m [Client 2] fit, config: {}\n",
            "\u001b[36m(ClientAppActor pid=192530)\u001b[0m [Client 2] evaluate, config: {}\u001b[32m [repeated 3x across cluster]\u001b[0m\n",
            "\u001b[36m(ClientAppActor pid=192530)\u001b[0m Epoch 1: train loss 1.5497371111975775, accuracy 0.4457777777777778\n",
            "\u001b[36m(ClientAppActor pid=192528)\u001b[0m [Client 0] fit, config: {}\u001b[32m [repeated 3x across cluster]\u001b[0m\n",
            "\u001b[36m(ClientAppActor pid=192531)\u001b[0m Epoch 1: train loss 1.5496284554799398, accuracy 0.4533333333333333\n",
            "\u001b[36m(ClientAppActor pid=192529)\u001b[0m Epoch 1: train loss 1.532921196407742, accuracy 0.4617777777777778\n"
          ]
        },
        {
          "name": "stderr",
          "output_type": "stream",
          "text": [
            "\u001b[92mINFO \u001b[0m:      aggregate_fit: received 4 results and 0 failures\n",
            "\u001b[92mINFO \u001b[0m:      fit progress: (7, 1.5093932315826415, {'accuracy': 0.4604}, 2784.1125818470027)\n",
            "\u001b[92mINFO \u001b[0m:      configure_evaluate: strategy sampled 4 clients (out of 4)\n"
          ]
        },
        {
          "name": "stdout",
          "output_type": "stream",
          "text": [
            "\u001b[36m(ClientAppActor pid=192528)\u001b[0m [Client 2] evaluate, config: {}\n",
            "\u001b[36m(ClientAppActor pid=192528)\u001b[0m Epoch 1: train loss 1.5380870141983032, accuracy 0.4622222222222222\n"
          ]
        },
        {
          "name": "stderr",
          "output_type": "stream",
          "text": [
            "\u001b[92mINFO \u001b[0m:      aggregate_evaluate: received 4 results and 0 failures\n",
            "\u001b[92mINFO \u001b[0m:      \n",
            "\u001b[92mINFO \u001b[0m:      [ROUND 8]\n",
            "\u001b[92mINFO \u001b[0m:      configure_fit: strategy sampled 4 clients (out of 4)\n"
          ]
        },
        {
          "name": "stdout",
          "output_type": "stream",
          "text": [
            "\u001b[36m(ClientAppActor pid=192530)\u001b[0m [Client 1] fit, config: {}\n",
            "\u001b[36m(ClientAppActor pid=192530)\u001b[0m [Client 1] evaluate, config: {}\u001b[32m [repeated 3x across cluster]\u001b[0m\n",
            "\u001b[36m(ClientAppActor pid=192530)\u001b[0m Epoch 1: train loss 1.4814508617189195, accuracy 0.48488888888888887\n",
            "\u001b[36m(ClientAppActor pid=192528)\u001b[0m [Client 3] fit, config: {}\u001b[32m [repeated 3x across cluster]\u001b[0m\n",
            "\u001b[36m(ClientAppActor pid=192531)\u001b[0m Epoch 1: train loss 1.5091580691867406, accuracy 0.46755555555555556\n",
            "\u001b[36m(ClientAppActor pid=192529)\u001b[0m Epoch 1: train loss 1.4928852995766533, accuracy 0.4748888888888889\n",
            "\u001b[36m(ClientAppActor pid=192528)\u001b[0m Epoch 1: train loss 1.509647997432285, accuracy 0.468\n"
          ]
        },
        {
          "name": "stderr",
          "output_type": "stream",
          "text": [
            "\u001b[92mINFO \u001b[0m:      aggregate_fit: received 4 results and 0 failures\n",
            "\u001b[92mINFO \u001b[0m:      fit progress: (8, 1.4738914447784424, {'accuracy': 0.4726}, 3178.1393678011373)\n",
            "\u001b[92mINFO \u001b[0m:      configure_evaluate: strategy sampled 4 clients (out of 4)\n"
          ]
        },
        {
          "name": "stdout",
          "output_type": "stream",
          "text": [
            "\u001b[36m(ClientAppActor pid=192528)\u001b[0m [Client 0] evaluate, config: {}\n"
          ]
        },
        {
          "name": "stderr",
          "output_type": "stream",
          "text": [
            "\u001b[92mINFO \u001b[0m:      aggregate_evaluate: received 4 results and 0 failures\n",
            "\u001b[92mINFO \u001b[0m:      \n",
            "\u001b[92mINFO \u001b[0m:      [ROUND 9]\n",
            "\u001b[92mINFO \u001b[0m:      configure_fit: strategy sampled 4 clients (out of 4)\n"
          ]
        },
        {
          "name": "stdout",
          "output_type": "stream",
          "text": [
            "\u001b[36m(ClientAppActor pid=192530)\u001b[0m [Client 1] fit, config: {}\n",
            "\u001b[36m(ClientAppActor pid=192530)\u001b[0m [Client 1] evaluate, config: {}\u001b[32m [repeated 3x across cluster]\u001b[0m\n",
            "\u001b[36m(ClientAppActor pid=192530)\u001b[0m Epoch 1: train loss 1.4519543760087754, accuracy 0.48933333333333334\n",
            "\u001b[36m(ClientAppActor pid=192528)\u001b[0m [Client 2] fit, config: {}\u001b[32m [repeated 3x across cluster]\u001b[0m\n",
            "\u001b[36m(ClientAppActor pid=192529)\u001b[0m Epoch 1: train loss 1.4662429366641574, accuracy 0.486\n",
            "\u001b[36m(ClientAppActor pid=192531)\u001b[0m Epoch 1: train loss 1.4643710371653238, accuracy 0.4842222222222222\n",
            "\u001b[36m(ClientAppActor pid=192528)\u001b[0m Epoch 1: train loss 1.4692926527659098, accuracy 0.4802222222222222\n"
          ]
        },
        {
          "name": "stderr",
          "output_type": "stream",
          "text": [
            "\u001b[92mINFO \u001b[0m:      aggregate_fit: received 4 results and 0 failures\n",
            "\u001b[92mINFO \u001b[0m:      fit progress: (9, 1.44835973072052, {'accuracy': 0.4816}, 3570.16361197317)\n",
            "\u001b[92mINFO \u001b[0m:      configure_evaluate: strategy sampled 4 clients (out of 4)\n"
          ]
        },
        {
          "name": "stdout",
          "output_type": "stream",
          "text": [
            "\u001b[36m(ClientAppActor pid=192528)\u001b[0m [Client 0] evaluate, config: {}\n"
          ]
        },
        {
          "name": "stderr",
          "output_type": "stream",
          "text": [
            "\u001b[92mINFO \u001b[0m:      aggregate_evaluate: received 4 results and 0 failures\n",
            "\u001b[92mINFO \u001b[0m:      \n",
            "\u001b[92mINFO \u001b[0m:      [ROUND 10]\n",
            "\u001b[92mINFO \u001b[0m:      configure_fit: strategy sampled 4 clients (out of 4)\n"
          ]
        },
        {
          "name": "stdout",
          "output_type": "stream",
          "text": [
            "\u001b[36m(ClientAppActor pid=192530)\u001b[0m [Client 2] fit, config: {}\n",
            "\u001b[36m(ClientAppActor pid=192530)\u001b[0m [Client 2] evaluate, config: {}\u001b[32m [repeated 3x across cluster]\u001b[0m\n",
            "\u001b[36m(ClientAppActor pid=192530)\u001b[0m Epoch 1: train loss 1.4394009499020046, accuracy 0.49377777777777776\n",
            "\u001b[36m(ClientAppActor pid=192528)\u001b[0m [Client 3] fit, config: {}\u001b[32m [repeated 3x across cluster]\u001b[0m\n",
            "\u001b[36m(ClientAppActor pid=192529)\u001b[0m Epoch 1: train loss 1.4209009118609959, accuracy 0.5057777777777778\n",
            "\u001b[36m(ClientAppActor pid=192531)\u001b[0m Epoch 1: train loss 1.4295622407065498, accuracy 0.49977777777777777\n"
          ]
        },
        {
          "name": "stderr",
          "output_type": "stream",
          "text": [
            "\u001b[92mINFO \u001b[0m:      aggregate_fit: received 4 results and 0 failures\n",
            "\u001b[92mINFO \u001b[0m:      fit progress: (10, 1.4216340522766113, {'accuracy': 0.4927}, 3966.3460721240845)\n",
            "\u001b[92mINFO \u001b[0m:      configure_evaluate: strategy sampled 4 clients (out of 4)\n"
          ]
        },
        {
          "name": "stdout",
          "output_type": "stream",
          "text": [
            "\u001b[36m(ClientAppActor pid=192528)\u001b[0m [Client 3] evaluate, config: {}\n",
            "\u001b[36m(ClientAppActor pid=192528)\u001b[0m Epoch 1: train loss 1.4389787332746717, accuracy 0.4908888888888889\n"
          ]
        },
        {
          "name": "stderr",
          "output_type": "stream",
          "text": [
            "\u001b[92mINFO \u001b[0m:      aggregate_evaluate: received 4 results and 0 failures\n",
            "\u001b[92mINFO \u001b[0m:      \n",
            "\u001b[92mINFO \u001b[0m:      [ROUND 11]\n",
            "\u001b[92mINFO \u001b[0m:      configure_fit: strategy sampled 4 clients (out of 4)\n"
          ]
        },
        {
          "name": "stdout",
          "output_type": "stream",
          "text": [
            "\u001b[36m(ClientAppActor pid=192530)\u001b[0m [Client 2] fit, config: {}\n",
            "\u001b[36m(ClientAppActor pid=192530)\u001b[0m [Client 2] evaluate, config: {}\u001b[32m [repeated 3x across cluster]\u001b[0m\n",
            "\u001b[36m(ClientAppActor pid=192530)\u001b[0m Epoch 1: train loss 1.403652447382609, accuracy 0.5091111111111111\n",
            "\u001b[36m(ClientAppActor pid=192528)\u001b[0m [Client 3] fit, config: {}\u001b[32m [repeated 3x across cluster]\u001b[0m\n",
            "\u001b[36m(ClientAppActor pid=192529)\u001b[0m Epoch 1: train loss 1.3934945896996391, accuracy 0.5088888888888888\n",
            "\u001b[36m(ClientAppActor pid=192531)\u001b[0m Epoch 1: train loss 1.3929097078111436, accuracy 0.5168888888888888\n"
          ]
        },
        {
          "name": "stderr",
          "output_type": "stream",
          "text": [
            "\u001b[92mINFO \u001b[0m:      aggregate_fit: received 4 results and 0 failures\n",
            "\u001b[92mINFO \u001b[0m:      fit progress: (11, 1.3967052194595337, {'accuracy': 0.5033}, 4373.076954971068)\n",
            "\u001b[92mINFO \u001b[0m:      configure_evaluate: strategy sampled 4 clients (out of 4)\n"
          ]
        },
        {
          "name": "stdout",
          "output_type": "stream",
          "text": [
            "\u001b[36m(ClientAppActor pid=192528)\u001b[0m [Client 0] evaluate, config: {}\n",
            "\u001b[36m(ClientAppActor pid=192528)\u001b[0m Epoch 1: train loss 1.409577979405721, accuracy 0.5057777777777778\n"
          ]
        },
        {
          "name": "stderr",
          "output_type": "stream",
          "text": [
            "\u001b[92mINFO \u001b[0m:      aggregate_evaluate: received 4 results and 0 failures\n",
            "\u001b[92mINFO \u001b[0m:      \n",
            "\u001b[92mINFO \u001b[0m:      [ROUND 12]\n",
            "\u001b[92mINFO \u001b[0m:      configure_fit: strategy sampled 4 clients (out of 4)\n"
          ]
        },
        {
          "name": "stdout",
          "output_type": "stream",
          "text": [
            "\u001b[36m(ClientAppActor pid=192530)\u001b[0m [Client 2] fit, config: {}\n",
            "\u001b[36m(ClientAppActor pid=192530)\u001b[0m [Client 3] evaluate, config: {}\u001b[32m [repeated 3x across cluster]\u001b[0m\n",
            "\u001b[36m(ClientAppActor pid=192530)\u001b[0m Epoch 1: train loss 1.3768691794077554, accuracy 0.5108888888888888\n",
            "\u001b[36m(ClientAppActor pid=192528)\u001b[0m [Client 0] fit, config: {}\u001b[32m [repeated 3x across cluster]\u001b[0m\n",
            "\u001b[36m(ClientAppActor pid=192529)\u001b[0m Epoch 1: train loss 1.3565726727379692, accuracy 0.524\n",
            "\u001b[36m(ClientAppActor pid=192531)\u001b[0m Epoch 1: train loss 1.3825381730397541, accuracy 0.5215555555555556\n"
          ]
        },
        {
          "name": "stderr",
          "output_type": "stream",
          "text": [
            "\u001b[92mINFO \u001b[0m:      aggregate_fit: received 4 results and 0 failures\n",
            "\u001b[92mINFO \u001b[0m:      fit progress: (12, 1.3740241277694702, {'accuracy': 0.5103}, 4764.210376781179)\n",
            "\u001b[92mINFO \u001b[0m:      configure_evaluate: strategy sampled 4 clients (out of 4)\n"
          ]
        },
        {
          "name": "stdout",
          "output_type": "stream",
          "text": [
            "\u001b[36m(ClientAppActor pid=192528)\u001b[0m [Client 2] evaluate, config: {}\n",
            "\u001b[36m(ClientAppActor pid=192528)\u001b[0m Epoch 1: train loss 1.3634684698316786, accuracy 0.5291111111111111\n"
          ]
        },
        {
          "name": "stderr",
          "output_type": "stream",
          "text": [
            "\u001b[92mINFO \u001b[0m:      aggregate_evaluate: received 4 results and 0 failures\n",
            "\u001b[92mINFO \u001b[0m:      \n",
            "\u001b[92mINFO \u001b[0m:      [ROUND 13]\n",
            "\u001b[92mINFO \u001b[0m:      configure_fit: strategy sampled 4 clients (out of 4)\n"
          ]
        },
        {
          "name": "stdout",
          "output_type": "stream",
          "text": [
            "\u001b[36m(ClientAppActor pid=192530)\u001b[0m [Client 2] fit, config: {}\n",
            "\u001b[36m(ClientAppActor pid=192530)\u001b[0m [Client 1] evaluate, config: {}\u001b[32m [repeated 3x across cluster]\u001b[0m\n",
            "\u001b[36m(ClientAppActor pid=192530)\u001b[0m Epoch 1: train loss 1.351007225672404, accuracy 0.5211111111111111\n",
            "\u001b[36m(ClientAppActor pid=192528)\u001b[0m [Client 0] fit, config: {}\u001b[32m [repeated 3x across cluster]\u001b[0m\n",
            "\u001b[36m(ClientAppActor pid=192529)\u001b[0m Epoch 1: train loss 1.3379567377302382, accuracy 0.5408888888888889\n",
            "\u001b[36m(ClientAppActor pid=192531)\u001b[0m Epoch 1: train loss 1.3570150150722928, accuracy 0.5257777777777778\n"
          ]
        },
        {
          "name": "stderr",
          "output_type": "stream",
          "text": [
            "\u001b[92mINFO \u001b[0m:      aggregate_fit: received 4 results and 0 failures\n",
            "\u001b[92mINFO \u001b[0m:      fit progress: (13, 1.3573274305343628, {'accuracy': 0.5178}, 5160.766345893033)\n",
            "\u001b[92mINFO \u001b[0m:      configure_evaluate: strategy sampled 4 clients (out of 4)\n"
          ]
        },
        {
          "name": "stdout",
          "output_type": "stream",
          "text": [
            "\u001b[36m(ClientAppActor pid=192528)\u001b[0m [Client 2] evaluate, config: {}\n",
            "\u001b[36m(ClientAppActor pid=192528)\u001b[0m Epoch 1: train loss 1.3406595567067465, accuracy 0.5317777777777778\n"
          ]
        },
        {
          "name": "stderr",
          "output_type": "stream",
          "text": [
            "\u001b[92mINFO \u001b[0m:      aggregate_evaluate: received 4 results and 0 failures\n",
            "\u001b[92mINFO \u001b[0m:      \n",
            "\u001b[92mINFO \u001b[0m:      [ROUND 14]\n",
            "\u001b[92mINFO \u001b[0m:      configure_fit: strategy sampled 4 clients (out of 4)\n"
          ]
        },
        {
          "name": "stdout",
          "output_type": "stream",
          "text": [
            "\u001b[36m(ClientAppActor pid=192530)\u001b[0m [Client 1] fit, config: {}\n",
            "\u001b[36m(ClientAppActor pid=192530)\u001b[0m [Client 3] evaluate, config: {}\u001b[32m [repeated 3x across cluster]\u001b[0m\n",
            "\u001b[36m(ClientAppActor pid=192530)\u001b[0m Epoch 1: train loss 1.2982914604610867, accuracy 0.5497777777777778\n",
            "\u001b[36m(ClientAppActor pid=192528)\u001b[0m [Client 0] fit, config: {}\u001b[32m [repeated 3x across cluster]\u001b[0m\n",
            "\u001b[36m(ClientAppActor pid=192529)\u001b[0m Epoch 1: train loss 1.3281564217673407, accuracy 0.5331111111111111\n",
            "\u001b[36m(ClientAppActor pid=192531)\u001b[0m Epoch 1: train loss 1.3271198143429226, accuracy 0.5417777777777778\n",
            "\u001b[36m(ClientAppActor pid=192528)\u001b[0m Epoch 1: train loss 1.317530703438653, accuracy 0.5415555555555556\n"
          ]
        },
        {
          "name": "stderr",
          "output_type": "stream",
          "text": [
            "\u001b[92mINFO \u001b[0m:      aggregate_fit: received 4 results and 0 failures\n",
            "\u001b[92mINFO \u001b[0m:      fit progress: (14, 1.3394863885879518, {'accuracy': 0.5246}, 5555.087261201115)\n",
            "\u001b[92mINFO \u001b[0m:      configure_evaluate: strategy sampled 4 clients (out of 4)\n"
          ]
        },
        {
          "name": "stdout",
          "output_type": "stream",
          "text": [
            "\u001b[36m(ClientAppActor pid=192528)\u001b[0m [Client 3] evaluate, config: {}\n"
          ]
        },
        {
          "name": "stderr",
          "output_type": "stream",
          "text": [
            "\u001b[92mINFO \u001b[0m:      aggregate_evaluate: received 4 results and 0 failures\n",
            "\u001b[92mINFO \u001b[0m:      \n",
            "\u001b[92mINFO \u001b[0m:      [ROUND 15]\n",
            "\u001b[92mINFO \u001b[0m:      configure_fit: strategy sampled 4 clients (out of 4)\n"
          ]
        },
        {
          "name": "stdout",
          "output_type": "stream",
          "text": [
            "\u001b[36m(ClientAppActor pid=192530)\u001b[0m [Client 3] fit, config: {}\n",
            "\u001b[36m(ClientAppActor pid=192530)\u001b[0m [Client 2] evaluate, config: {}\u001b[32m [repeated 3x across cluster]\u001b[0m\n",
            "\u001b[36m(ClientAppActor pid=192530)\u001b[0m Epoch 1: train loss 1.30512686252594, accuracy 0.5517777777777778\n",
            "\u001b[36m(ClientAppActor pid=192528)\u001b[0m [Client 2] fit, config: {}\u001b[32m [repeated 3x across cluster]\u001b[0m\n",
            "\u001b[36m(ClientAppActor pid=192529)\u001b[0m Epoch 1: train loss 1.292037049399482, accuracy 0.5535555555555556\n",
            "\u001b[36m(ClientAppActor pid=192531)\u001b[0m Epoch 1: train loss 1.278971269607544, accuracy 0.5575555555555556\n"
          ]
        },
        {
          "name": "stderr",
          "output_type": "stream",
          "text": [
            "\u001b[92mINFO \u001b[0m:      aggregate_fit: received 4 results and 0 failures\n",
            "\u001b[92mINFO \u001b[0m:      fit progress: (15, 1.3228507078170777, {'accuracy': 0.5309}, 5952.478395045968)\n",
            "\u001b[92mINFO \u001b[0m:      configure_evaluate: strategy sampled 4 clients (out of 4)\n"
          ]
        },
        {
          "name": "stdout",
          "output_type": "stream",
          "text": [
            "\u001b[36m(ClientAppActor pid=192528)\u001b[0m [Client 3] evaluate, config: {}\n",
            "\u001b[36m(ClientAppActor pid=192528)\u001b[0m Epoch 1: train loss 1.2997825356589423, accuracy 0.5486666666666666\n"
          ]
        },
        {
          "name": "stderr",
          "output_type": "stream",
          "text": [
            "\u001b[92mINFO \u001b[0m:      aggregate_evaluate: received 4 results and 0 failures\n",
            "\u001b[92mINFO \u001b[0m:      \n",
            "\u001b[92mINFO \u001b[0m:      [ROUND 16]\n",
            "\u001b[92mINFO \u001b[0m:      configure_fit: strategy sampled 4 clients (out of 4)\n"
          ]
        },
        {
          "name": "stdout",
          "output_type": "stream",
          "text": [
            "\u001b[36m(ClientAppActor pid=192530)\u001b[0m [Client 2] fit, config: {}\n",
            "\u001b[36m(ClientAppActor pid=192530)\u001b[0m [Client 0] evaluate, config: {}\u001b[32m [repeated 3x across cluster]\u001b[0m\n",
            "\u001b[36m(ClientAppActor pid=192530)\u001b[0m Epoch 1: train loss 1.28455119366116, accuracy 0.5488888888888889\n",
            "\u001b[36m(ClientAppActor pid=192528)\u001b[0m [Client 3] fit, config: {}\u001b[32m [repeated 3x across cluster]\u001b[0m\n",
            "\u001b[36m(ClientAppActor pid=192529)\u001b[0m Epoch 1: train loss 1.2540033076604207, accuracy 0.5611111111111111\n",
            "\u001b[36m(ClientAppActor pid=192531)\u001b[0m Epoch 1: train loss 1.2682392741309272, accuracy 0.5544444444444444\n"
          ]
        },
        {
          "name": "stderr",
          "output_type": "stream",
          "text": [
            "\u001b[92mINFO \u001b[0m:      aggregate_fit: received 4 results and 0 failures\n",
            "\u001b[92mINFO \u001b[0m:      fit progress: (16, 1.3050286191940308, {'accuracy': 0.5365}, 6349.83336083102)\n",
            "\u001b[92mINFO \u001b[0m:      configure_evaluate: strategy sampled 4 clients (out of 4)\n"
          ]
        },
        {
          "name": "stdout",
          "output_type": "stream",
          "text": [
            "\u001b[36m(ClientAppActor pid=192528)\u001b[0m [Client 0] evaluate, config: {}\n",
            "\u001b[36m(ClientAppActor pid=192528)\u001b[0m Epoch 1: train loss 1.29603336291843, accuracy 0.5495555555555556\n"
          ]
        },
        {
          "name": "stderr",
          "output_type": "stream",
          "text": [
            "\u001b[92mINFO \u001b[0m:      aggregate_evaluate: received 4 results and 0 failures\n",
            "\u001b[92mINFO \u001b[0m:      \n",
            "\u001b[92mINFO \u001b[0m:      [ROUND 17]\n",
            "\u001b[92mINFO \u001b[0m:      configure_fit: strategy sampled 4 clients (out of 4)\n"
          ]
        },
        {
          "name": "stdout",
          "output_type": "stream",
          "text": [
            "\u001b[36m(ClientAppActor pid=192530)\u001b[0m [Client 3] fit, config: {}\n",
            "\u001b[36m(ClientAppActor pid=192530)\u001b[0m [Client 2] evaluate, config: {}\u001b[32m [repeated 3x across cluster]\u001b[0m\n",
            "\u001b[36m(ClientAppActor pid=192530)\u001b[0m Epoch 1: train loss 1.2678633977042304, accuracy 0.5622222222222222\n",
            "\u001b[36m(ClientAppActor pid=192528)\u001b[0m [Client 2] fit, config: {}\u001b[32m [repeated 3x across cluster]\u001b[0m\n",
            "\u001b[36m(ClientAppActor pid=192531)\u001b[0m Epoch 1: train loss 1.2323411935170492, accuracy 0.5755555555555556\n",
            "\u001b[36m(ClientAppActor pid=192529)\u001b[0m Epoch 1: train loss 1.2451023540496826, accuracy 0.5722222222222222\n",
            "\u001b[36m(ClientAppActor pid=192528)\u001b[0m Epoch 1: train loss 1.2624659536149767, accuracy 0.5655555555555556\n"
          ]
        },
        {
          "name": "stderr",
          "output_type": "stream",
          "text": [
            "\u001b[92mINFO \u001b[0m:      aggregate_fit: received 4 results and 0 failures\n",
            "\u001b[92mINFO \u001b[0m:      fit progress: (17, 1.292327419090271, {'accuracy': 0.5395}, 6744.588943234179)\n",
            "\u001b[92mINFO \u001b[0m:      configure_evaluate: strategy sampled 4 clients (out of 4)\n"
          ]
        },
        {
          "name": "stdout",
          "output_type": "stream",
          "text": [
            "\u001b[36m(ClientAppActor pid=192528)\u001b[0m [Client 2] evaluate, config: {}\n"
          ]
        },
        {
          "name": "stderr",
          "output_type": "stream",
          "text": [
            "\u001b[92mINFO \u001b[0m:      aggregate_evaluate: received 4 results and 0 failures\n",
            "\u001b[92mINFO \u001b[0m:      \n",
            "\u001b[92mINFO \u001b[0m:      [ROUND 18]\n",
            "\u001b[92mINFO \u001b[0m:      configure_fit: strategy sampled 4 clients (out of 4)\n"
          ]
        },
        {
          "name": "stdout",
          "output_type": "stream",
          "text": [
            "\u001b[36m(ClientAppActor pid=192530)\u001b[0m [Client 3] fit, config: {}\n",
            "\u001b[36m(ClientAppActor pid=192530)\u001b[0m [Client 0] evaluate, config: {}\u001b[32m [repeated 3x across cluster]\u001b[0m\n",
            "\u001b[36m(ClientAppActor pid=192530)\u001b[0m Epoch 1: train loss 1.241313355816735, accuracy 0.5735555555555556\n",
            "\u001b[36m(ClientAppActor pid=192528)\u001b[0m [Client 0] fit, config: {}\u001b[32m [repeated 3x across cluster]\u001b[0m\n",
            "\u001b[36m(ClientAppActor pid=192529)\u001b[0m Epoch 1: train loss 1.21326325501336, accuracy 0.5815555555555556\n",
            "\u001b[36m(ClientAppActor pid=192528)\u001b[0m Epoch 1: train loss 1.2238474861780801, accuracy 0.5817777777777777\n"
          ]
        },
        {
          "name": "stderr",
          "output_type": "stream",
          "text": [
            "\u001b[92mINFO \u001b[0m:      aggregate_fit: received 4 results and 0 failures\n",
            "\u001b[92mINFO \u001b[0m:      fit progress: (18, 1.2764500398635865, {'accuracy': 0.548}, 7146.107066773111)\n",
            "\u001b[92mINFO \u001b[0m:      configure_evaluate: strategy sampled 4 clients (out of 4)\n"
          ]
        },
        {
          "name": "stdout",
          "output_type": "stream",
          "text": [
            "\u001b[36m(ClientAppActor pid=192531)\u001b[0m [Client 1] evaluate, config: {}\n",
            "\u001b[36m(ClientAppActor pid=192531)\u001b[0m Epoch 1: train loss 1.2357497309578789, accuracy 0.5735555555555556\n"
          ]
        },
        {
          "name": "stderr",
          "output_type": "stream",
          "text": [
            "\u001b[92mINFO \u001b[0m:      aggregate_evaluate: received 4 results and 0 failures\n",
            "\u001b[92mINFO \u001b[0m:      \n",
            "\u001b[92mINFO \u001b[0m:      [ROUND 19]\n",
            "\u001b[92mINFO \u001b[0m:      configure_fit: strategy sampled 4 clients (out of 4)\n"
          ]
        },
        {
          "name": "stdout",
          "output_type": "stream",
          "text": [
            "\u001b[36m(ClientAppActor pid=192530)\u001b[0m [Client 3] fit, config: {}\n",
            "\u001b[36m(ClientAppActor pid=192530)\u001b[0m [Client 0] evaluate, config: {}\u001b[32m [repeated 3x across cluster]\u001b[0m\n",
            "\u001b[36m(ClientAppActor pid=192530)\u001b[0m Epoch 1: train loss 1.222633719444275, accuracy 0.5866666666666667\n",
            "\u001b[36m(ClientAppActor pid=192531)\u001b[0m [Client 2] fit, config: {}\u001b[32m [repeated 3x across cluster]\u001b[0m\n",
            "\u001b[36m(ClientAppActor pid=192529)\u001b[0m Epoch 1: train loss 1.2001648828718396, accuracy 0.5888888888888889\n",
            "\u001b[36m(ClientAppActor pid=192531)\u001b[0m Epoch 1: train loss 1.221779802640279, accuracy 0.5744444444444444\n"
          ]
        },
        {
          "name": "stderr",
          "output_type": "stream",
          "text": [
            "\u001b[92mINFO \u001b[0m:      aggregate_fit: received 4 results and 0 failures\n",
            "\u001b[92mINFO \u001b[0m:      fit progress: (19, 1.2680373428344727, {'accuracy': 0.5487}, 7541.864190384978)\n",
            "\u001b[92mINFO \u001b[0m:      configure_evaluate: strategy sampled 4 clients (out of 4)\n"
          ]
        },
        {
          "name": "stdout",
          "output_type": "stream",
          "text": [
            "\u001b[36m(ClientAppActor pid=192528)\u001b[0m [Client 1] evaluate, config: {}\n",
            "\u001b[36m(ClientAppActor pid=192528)\u001b[0m Epoch 1: train loss 1.2036457008785673, accuracy 0.5862222222222222\n"
          ]
        },
        {
          "name": "stderr",
          "output_type": "stream",
          "text": [
            "\u001b[92mINFO \u001b[0m:      aggregate_evaluate: received 4 results and 0 failures\n",
            "\u001b[92mINFO \u001b[0m:      \n",
            "\u001b[92mINFO \u001b[0m:      [ROUND 20]\n",
            "\u001b[92mINFO \u001b[0m:      configure_fit: strategy sampled 4 clients (out of 4)\n"
          ]
        },
        {
          "name": "stdout",
          "output_type": "stream",
          "text": [
            "\u001b[36m(ClientAppActor pid=192530)\u001b[0m [Client 3] fit, config: {}\n",
            "\u001b[36m(ClientAppActor pid=192530)\u001b[0m [Client 0] evaluate, config: {}\u001b[32m [repeated 3x across cluster]\u001b[0m\n",
            "\u001b[36m(ClientAppActor pid=192530)\u001b[0m Epoch 1: train loss 1.1976631689071655, accuracy 0.5986666666666667\n",
            "\u001b[36m(ClientAppActor pid=192528)\u001b[0m [Client 0] fit, config: {}\u001b[32m [repeated 3x across cluster]\u001b[0m\n",
            "\u001b[36m(ClientAppActor pid=192529)\u001b[0m Epoch 1: train loss 1.1708638146718342, accuracy 0.5968888888888889\n",
            "\u001b[36m(ClientAppActor pid=192531)\u001b[0m Epoch 1: train loss 1.1914820328818427, accuracy 0.5931111111111111\n"
          ]
        },
        {
          "name": "stderr",
          "output_type": "stream",
          "text": [
            "\u001b[92mINFO \u001b[0m:      aggregate_fit: received 4 results and 0 failures\n",
            "\u001b[92mINFO \u001b[0m:      fit progress: (20, 1.251038988685608, {'accuracy': 0.5572}, 7939.184162491001)\n",
            "\u001b[92mINFO \u001b[0m:      configure_evaluate: strategy sampled 4 clients (out of 4)\n"
          ]
        },
        {
          "name": "stdout",
          "output_type": "stream",
          "text": [
            "\u001b[36m(ClientAppActor pid=192528)\u001b[0m [Client 2] evaluate, config: {}\n",
            "\u001b[36m(ClientAppActor pid=192528)\u001b[0m Epoch 1: train loss 1.1763030237621732, accuracy 0.6015555555555555\n"
          ]
        },
        {
          "name": "stderr",
          "output_type": "stream",
          "text": [
            "\u001b[92mINFO \u001b[0m:      aggregate_evaluate: received 4 results and 0 failures\n",
            "\u001b[92mINFO \u001b[0m:      \n",
            "\u001b[92mINFO \u001b[0m:      [ROUND 21]\n",
            "\u001b[92mINFO \u001b[0m:      configure_fit: strategy sampled 4 clients (out of 4)\n"
          ]
        },
        {
          "name": "stdout",
          "output_type": "stream",
          "text": [
            "\u001b[36m(ClientAppActor pid=192530)\u001b[0m [Client 2] fit, config: {}\n",
            "\u001b[36m(ClientAppActor pid=192530)\u001b[0m [Client 3] evaluate, config: {}\u001b[32m [repeated 3x across cluster]\u001b[0m\n",
            "\u001b[36m(ClientAppActor pid=192530)\u001b[0m Epoch 1: train loss 1.1762567977375455, accuracy 0.5948888888888889\n",
            "\u001b[36m(ClientAppActor pid=192528)\u001b[0m [Client 0] fit, config: {}\u001b[32m [repeated 3x across cluster]\u001b[0m\n",
            "\u001b[36m(ClientAppActor pid=192531)\u001b[0m Epoch 1: train loss 1.185677527639601, accuracy 0.5957777777777777\u001b[32m [repeated 2x across cluster]\u001b[0m\n"
          ]
        },
        {
          "name": "stderr",
          "output_type": "stream",
          "text": [
            "\u001b[92mINFO \u001b[0m:      aggregate_fit: received 4 results and 0 failures\n",
            "\u001b[92mINFO \u001b[0m:      fit progress: (21, 1.2387411724090576, {'accuracy': 0.5634}, 8340.3924185941)\n",
            "\u001b[92mINFO \u001b[0m:      configure_evaluate: strategy sampled 4 clients (out of 4)\n"
          ]
        },
        {
          "name": "stdout",
          "output_type": "stream",
          "text": [
            "\u001b[36m(ClientAppActor pid=192528)\u001b[0m [Client 2] evaluate, config: {}\n",
            "\u001b[36m(ClientAppActor pid=192528)\u001b[0m Epoch 1: train loss 1.1574724000295002, accuracy 0.6028888888888889\n"
          ]
        },
        {
          "name": "stderr",
          "output_type": "stream",
          "text": [
            "\u001b[92mINFO \u001b[0m:      aggregate_evaluate: received 4 results and 0 failures\n",
            "\u001b[92mINFO \u001b[0m:      \n",
            "\u001b[92mINFO \u001b[0m:      [ROUND 22]\n",
            "\u001b[92mINFO \u001b[0m:      configure_fit: strategy sampled 4 clients (out of 4)\n"
          ]
        },
        {
          "name": "stdout",
          "output_type": "stream",
          "text": [
            "\u001b[36m(ClientAppActor pid=192530)\u001b[0m [Client 2] fit, config: {}\n",
            "\u001b[36m(ClientAppActor pid=192530)\u001b[0m [Client 0] evaluate, config: {}\u001b[32m [repeated 3x across cluster]\u001b[0m\n",
            "\u001b[36m(ClientAppActor pid=192530)\u001b[0m Epoch 1: train loss 1.1537695067723592, accuracy 0.6048888888888889\n",
            "\u001b[36m(ClientAppActor pid=192528)\u001b[0m [Client 1] fit, config: {}\u001b[32m [repeated 3x across cluster]\u001b[0m\n",
            "\u001b[36m(ClientAppActor pid=192529)\u001b[0m Epoch 1: train loss 1.1367204830911424, accuracy 0.6164444444444445\n",
            "\u001b[36m(ClientAppActor pid=192531)\u001b[0m Epoch 1: train loss 1.1608976917266847, accuracy 0.6064444444444445\n",
            "\u001b[36m(ClientAppActor pid=192528)\u001b[0m Epoch 1: train loss 1.1268392416636148, accuracy 0.6135555555555555\n"
          ]
        },
        {
          "name": "stderr",
          "output_type": "stream",
          "text": [
            "\u001b[92mINFO \u001b[0m:      aggregate_fit: received 4 results and 0 failures\n",
            "\u001b[92mINFO \u001b[0m:      fit progress: (22, 1.2252211141586304, {'accuracy': 0.5658}, 8737.1199808151)\n",
            "\u001b[92mINFO \u001b[0m:      configure_evaluate: strategy sampled 4 clients (out of 4)\n"
          ]
        },
        {
          "name": "stdout",
          "output_type": "stream",
          "text": [
            "\u001b[36m(ClientAppActor pid=192528)\u001b[0m [Client 1] evaluate, config: {}\n"
          ]
        },
        {
          "name": "stderr",
          "output_type": "stream",
          "text": [
            "\u001b[92mINFO \u001b[0m:      aggregate_evaluate: received 4 results and 0 failures\n",
            "\u001b[92mINFO \u001b[0m:      \n",
            "\u001b[92mINFO \u001b[0m:      [ROUND 23]\n",
            "\u001b[92mINFO \u001b[0m:      configure_fit: strategy sampled 4 clients (out of 4)\n"
          ]
        },
        {
          "name": "stdout",
          "output_type": "stream",
          "text": [
            "\u001b[36m(ClientAppActor pid=192530)\u001b[0m [Client 2] fit, config: {}\n",
            "\u001b[36m(ClientAppActor pid=192530)\u001b[0m [Client 2] evaluate, config: {}\u001b[32m [repeated 3x across cluster]\u001b[0m\n",
            "\u001b[36m(ClientAppActor pid=192530)\u001b[0m Epoch 1: train loss 1.1366101078457302, accuracy 0.6124444444444445\n",
            "\u001b[36m(ClientAppActor pid=192528)\u001b[0m [Client 3] fit, config: {}\u001b[32m [repeated 3x across cluster]\u001b[0m\n",
            "\u001b[36m(ClientAppActor pid=192529)\u001b[0m Epoch 1: train loss 1.1262020135455661, accuracy 0.6168888888888889\u001b[32m [repeated 2x across cluster]\u001b[0m\n"
          ]
        },
        {
          "name": "stderr",
          "output_type": "stream",
          "text": [
            "\u001b[92mINFO \u001b[0m:      aggregate_fit: received 4 results and 0 failures\n",
            "\u001b[92mINFO \u001b[0m:      fit progress: (23, 1.2152475173950195, {'accuracy': 0.5704}, 9129.005025569117)\n",
            "\u001b[92mINFO \u001b[0m:      configure_evaluate: strategy sampled 4 clients (out of 4)\n"
          ]
        },
        {
          "name": "stdout",
          "output_type": "stream",
          "text": [
            "\u001b[36m(ClientAppActor pid=192528)\u001b[0m [Client 0] evaluate, config: {}\n",
            "\u001b[36m(ClientAppActor pid=192528)\u001b[0m Epoch 1: train loss 1.1427701282501221, accuracy 0.6097777777777778\n"
          ]
        },
        {
          "name": "stderr",
          "output_type": "stream",
          "text": [
            "\u001b[92mINFO \u001b[0m:      aggregate_evaluate: received 4 results and 0 failures\n",
            "\u001b[92mINFO \u001b[0m:      \n",
            "\u001b[92mINFO \u001b[0m:      [ROUND 24]\n",
            "\u001b[92mINFO \u001b[0m:      configure_fit: strategy sampled 4 clients (out of 4)\n"
          ]
        },
        {
          "name": "stdout",
          "output_type": "stream",
          "text": [
            "\u001b[36m(ClientAppActor pid=192530)\u001b[0m [Client 3] fit, config: {}\n",
            "\u001b[36m(ClientAppActor pid=192530)\u001b[0m [Client 1] evaluate, config: {}\u001b[32m [repeated 3x across cluster]\u001b[0m\n",
            "\u001b[36m(ClientAppActor pid=192530)\u001b[0m Epoch 1: train loss 1.136261237250434, accuracy 0.6202222222222222\n",
            "\u001b[36m(ClientAppActor pid=192528)\u001b[0m [Client 1] fit, config: {}\u001b[32m [repeated 3x across cluster]\u001b[0m\n",
            "\u001b[36m(ClientAppActor pid=192528)\u001b[0m Epoch 1: train loss 1.097426037258572, accuracy 0.6275555555555555\u001b[32m [repeated 3x across cluster]\u001b[0m\n"
          ]
        },
        {
          "name": "stderr",
          "output_type": "stream",
          "text": [
            "\u001b[92mINFO \u001b[0m:      aggregate_fit: received 4 results and 0 failures\n",
            "\u001b[92mINFO \u001b[0m:      fit progress: (24, 1.201203056716919, {'accuracy': 0.5735}, 9525.202250353992)\n",
            "\u001b[92mINFO \u001b[0m:      configure_evaluate: strategy sampled 4 clients (out of 4)\n"
          ]
        },
        {
          "name": "stdout",
          "output_type": "stream",
          "text": [
            "\u001b[36m(ClientAppActor pid=192528)\u001b[0m [Client 1] evaluate, config: {}\n"
          ]
        },
        {
          "name": "stderr",
          "output_type": "stream",
          "text": [
            "\u001b[92mINFO \u001b[0m:      aggregate_evaluate: received 4 results and 0 failures\n",
            "\u001b[92mINFO \u001b[0m:      \n",
            "\u001b[92mINFO \u001b[0m:      [ROUND 25]\n",
            "\u001b[92mINFO \u001b[0m:      configure_fit: strategy sampled 4 clients (out of 4)\n"
          ]
        },
        {
          "name": "stdout",
          "output_type": "stream",
          "text": [
            "\u001b[36m(ClientAppActor pid=192530)\u001b[0m [Client 1] fit, config: {}\n",
            "\u001b[36m(ClientAppActor pid=192530)\u001b[0m [Client 0] evaluate, config: {}\u001b[32m [repeated 3x across cluster]\u001b[0m\n",
            "\u001b[36m(ClientAppActor pid=192529)\u001b[0m Epoch 1: train loss 1.1030271405643888, accuracy 0.6306666666666667\n",
            "\u001b[36m(ClientAppActor pid=192528)\u001b[0m [Client 2] fit, config: {}\u001b[32m [repeated 3x across cluster]\u001b[0m\n",
            "\u001b[36m(ClientAppActor pid=192528)\u001b[0m Epoch 1: train loss 1.0983992454740736, accuracy 0.6313333333333333\u001b[32m [repeated 3x across cluster]\u001b[0m\n"
          ]
        },
        {
          "name": "stderr",
          "output_type": "stream",
          "text": [
            "\u001b[92mINFO \u001b[0m:      aggregate_fit: received 4 results and 0 failures\n",
            "\u001b[92mINFO \u001b[0m:      fit progress: (25, 1.1923056922912598, {'accuracy': 0.5756}, 9927.956079608994)\n",
            "\u001b[92mINFO \u001b[0m:      configure_evaluate: strategy sampled 4 clients (out of 4)\n"
          ]
        },
        {
          "name": "stdout",
          "output_type": "stream",
          "text": [
            "\u001b[36m(ClientAppActor pid=192528)\u001b[0m [Client 1] evaluate, config: {}\n"
          ]
        },
        {
          "name": "stderr",
          "output_type": "stream",
          "text": [
            "\u001b[92mINFO \u001b[0m:      aggregate_evaluate: received 4 results and 0 failures\n",
            "\u001b[92mINFO \u001b[0m:      \n",
            "\u001b[92mINFO \u001b[0m:      [ROUND 26]\n",
            "\u001b[92mINFO \u001b[0m:      configure_fit: strategy sampled 4 clients (out of 4)\n"
          ]
        },
        {
          "name": "stdout",
          "output_type": "stream",
          "text": [
            "\u001b[36m(ClientAppActor pid=192529)\u001b[0m [Client 1] fit, config: {}\n",
            "\u001b[36m(ClientAppActor pid=192529)\u001b[0m [Client 0] evaluate, config: {}\u001b[32m [repeated 3x across cluster]\u001b[0m\n",
            "\u001b[36m(ClientAppActor pid=192530)\u001b[0m Epoch 1: train loss 1.0843119177288478, accuracy 0.6371111111111111\n",
            "\u001b[36m(ClientAppActor pid=192528)\u001b[0m [Client 0] fit, config: {}\u001b[32m [repeated 3x across cluster]\u001b[0m\n",
            "\u001b[36m(ClientAppActor pid=192529)\u001b[0m Epoch 1: train loss 1.066735419485304, accuracy 0.6397777777777778\n",
            "\u001b[36m(ClientAppActor pid=192531)\u001b[0m Epoch 1: train loss 1.08147156185574, accuracy 0.63\n",
            "\u001b[36m(ClientAppActor pid=192528)\u001b[0m Epoch 1: train loss 1.0653352168401082, accuracy 0.6424444444444445\n"
          ]
        },
        {
          "name": "stderr",
          "output_type": "stream",
          "text": [
            "\u001b[92mINFO \u001b[0m:      aggregate_fit: received 4 results and 0 failures\n",
            "\u001b[92mINFO \u001b[0m:      fit progress: (26, 1.1777034944534301, {'accuracy': 0.5797}, 10324.654034174047)\n",
            "\u001b[92mINFO \u001b[0m:      configure_evaluate: strategy sampled 4 clients (out of 4)\n"
          ]
        },
        {
          "name": "stdout",
          "output_type": "stream",
          "text": [
            "\u001b[36m(ClientAppActor pid=192528)\u001b[0m [Client 0] evaluate, config: {}\n"
          ]
        },
        {
          "name": "stderr",
          "output_type": "stream",
          "text": [
            "\u001b[92mINFO \u001b[0m:      aggregate_evaluate: received 4 results and 0 failures\n",
            "\u001b[92mINFO \u001b[0m:      \n",
            "\u001b[92mINFO \u001b[0m:      [ROUND 27]\n",
            "\u001b[92mINFO \u001b[0m:      configure_fit: strategy sampled 4 clients (out of 4)\n"
          ]
        },
        {
          "name": "stdout",
          "output_type": "stream",
          "text": [
            "\u001b[36m(ClientAppActor pid=192530)\u001b[0m [Client 3] fit, config: {}\n",
            "\u001b[36m(ClientAppActor pid=192530)\u001b[0m [Client 3] evaluate, config: {}\u001b[32m [repeated 3x across cluster]\u001b[0m\n",
            "\u001b[36m(ClientAppActor pid=192530)\u001b[0m Epoch 1: train loss 1.080730928632948, accuracy 0.636\n",
            "\u001b[36m(ClientAppActor pid=192528)\u001b[0m [Client 1] fit, config: {}\u001b[32m [repeated 3x across cluster]\u001b[0m\n",
            "\u001b[36m(ClientAppActor pid=192529)\u001b[0m Epoch 1: train loss 1.0693274704615274, accuracy 0.636\n",
            "\u001b[36m(ClientAppActor pid=192531)\u001b[0m Epoch 1: train loss 1.0526191122266981, accuracy 0.6508888888888889\n"
          ]
        },
        {
          "name": "stderr",
          "output_type": "stream",
          "text": [
            "\u001b[92mINFO \u001b[0m:      aggregate_fit: received 4 results and 0 failures\n",
            "\u001b[92mINFO \u001b[0m:      fit progress: (27, 1.1744317781448363, {'accuracy': 0.5848}, 10731.628860283177)\n",
            "\u001b[92mINFO \u001b[0m:      configure_evaluate: strategy sampled 4 clients (out of 4)\n"
          ]
        },
        {
          "name": "stdout",
          "output_type": "stream",
          "text": [
            "\u001b[36m(ClientAppActor pid=192528)\u001b[0m [Client 2] evaluate, config: {}\n",
            "\u001b[36m(ClientAppActor pid=192528)\u001b[0m Epoch 1: train loss 1.0509032983250088, accuracy 0.644\n"
          ]
        },
        {
          "name": "stderr",
          "output_type": "stream",
          "text": [
            "\u001b[92mINFO \u001b[0m:      aggregate_evaluate: received 4 results and 0 failures\n",
            "\u001b[92mINFO \u001b[0m:      \n",
            "\u001b[92mINFO \u001b[0m:      [ROUND 28]\n",
            "\u001b[92mINFO \u001b[0m:      configure_fit: strategy sampled 4 clients (out of 4)\n"
          ]
        },
        {
          "name": "stdout",
          "output_type": "stream",
          "text": [
            "\u001b[36m(ClientAppActor pid=192530)\u001b[0m [Client 3] fit, config: {}\n",
            "\u001b[36m(ClientAppActor pid=192530)\u001b[0m [Client 1] evaluate, config: {}\u001b[32m [repeated 3x across cluster]\u001b[0m\n",
            "\u001b[36m(ClientAppActor pid=192530)\u001b[0m Epoch 1: train loss 1.0628203545676338, accuracy 0.6453333333333333\n",
            "\u001b[36m(ClientAppActor pid=192528)\u001b[0m [Client 2] fit, config: {}\u001b[32m [repeated 3x across cluster]\u001b[0m\n",
            "\u001b[36m(ClientAppActor pid=192529)\u001b[0m Epoch 1: train loss 1.0321853046417235, accuracy 0.6528888888888889\n",
            "\u001b[36m(ClientAppActor pid=192531)\u001b[0m Epoch 1: train loss 1.0188757893244424, accuracy 0.6615555555555556\n",
            "\u001b[36m(ClientAppActor pid=192528)\u001b[0m Epoch 1: train loss 1.0467722959518433, accuracy 0.6417777777777778\n"
          ]
        },
        {
          "name": "stderr",
          "output_type": "stream",
          "text": [
            "\u001b[92mINFO \u001b[0m:      aggregate_fit: received 4 results and 0 failures\n",
            "\u001b[92mINFO \u001b[0m:      fit progress: (28, 1.1596173343658447, {'accuracy': 0.5903}, 11129.940062199952)\n",
            "\u001b[92mINFO \u001b[0m:      configure_evaluate: strategy sampled 4 clients (out of 4)\n"
          ]
        },
        {
          "name": "stdout",
          "output_type": "stream",
          "text": [
            "\u001b[36m(ClientAppActor pid=192528)\u001b[0m [Client 1] evaluate, config: {}\n"
          ]
        },
        {
          "name": "stderr",
          "output_type": "stream",
          "text": [
            "\u001b[92mINFO \u001b[0m:      aggregate_evaluate: received 4 results and 0 failures\n",
            "\u001b[92mINFO \u001b[0m:      \n",
            "\u001b[92mINFO \u001b[0m:      [ROUND 29]\n",
            "\u001b[92mINFO \u001b[0m:      configure_fit: strategy sampled 4 clients (out of 4)\n"
          ]
        },
        {
          "name": "stdout",
          "output_type": "stream",
          "text": [
            "\u001b[36m(ClientAppActor pid=192530)\u001b[0m [Client 2] fit, config: {}\n",
            "\u001b[36m(ClientAppActor pid=192530)\u001b[0m [Client 2] evaluate, config: {}\u001b[32m [repeated 3x across cluster]\u001b[0m\n",
            "\u001b[36m(ClientAppActor pid=192530)\u001b[0m Epoch 1: train loss 1.0298616024123297, accuracy 0.6555555555555556\n",
            "\u001b[36m(ClientAppActor pid=192528)\u001b[0m [Client 3] fit, config: {}\u001b[32m [repeated 3x across cluster]\u001b[0m\n",
            "\u001b[36m(ClientAppActor pid=192529)\u001b[0m Epoch 1: train loss 1.0160265170203315, accuracy 0.6591111111111111\n",
            "\u001b[36m(ClientAppActor pid=192531)\u001b[0m Epoch 1: train loss 1.01255388323466, accuracy 0.6613333333333333\n"
          ]
        },
        {
          "name": "stderr",
          "output_type": "stream",
          "text": [
            "\u001b[92mINFO \u001b[0m:      aggregate_fit: received 4 results and 0 failures\n",
            "\u001b[92mINFO \u001b[0m:      fit progress: (29, 1.1496053596496583, {'accuracy': 0.5933}, 11521.873728916049)\n",
            "\u001b[92mINFO \u001b[0m:      configure_evaluate: strategy sampled 4 clients (out of 4)\n"
          ]
        },
        {
          "name": "stdout",
          "output_type": "stream",
          "text": [
            "\u001b[36m(ClientAppActor pid=192528)\u001b[0m [Client 3] evaluate, config: {}\n",
            "\u001b[36m(ClientAppActor pid=192528)\u001b[0m Epoch 1: train loss 1.0357548119227091, accuracy 0.6513333333333333\n"
          ]
        },
        {
          "name": "stderr",
          "output_type": "stream",
          "text": [
            "\u001b[92mINFO \u001b[0m:      aggregate_evaluate: received 4 results and 0 failures\n",
            "\u001b[92mINFO \u001b[0m:      \n",
            "\u001b[92mINFO \u001b[0m:      [ROUND 30]\n",
            "\u001b[92mINFO \u001b[0m:      configure_fit: strategy sampled 4 clients (out of 4)\n"
          ]
        },
        {
          "name": "stdout",
          "output_type": "stream",
          "text": [
            "\u001b[36m(ClientAppActor pid=192530)\u001b[0m [Client 1] fit, config: {}\n",
            "\u001b[36m(ClientAppActor pid=192530)\u001b[0m [Client 0] evaluate, config: {}\u001b[32m [repeated 3x across cluster]\u001b[0m\n",
            "\u001b[36m(ClientAppActor pid=192530)\u001b[0m Epoch 1: train loss 0.9821328038109673, accuracy 0.6677777777777778\n",
            "\u001b[36m(ClientAppActor pid=192528)\u001b[0m [Client 2] fit, config: {}\u001b[32m [repeated 3x across cluster]\u001b[0m\n",
            "\u001b[36m(ClientAppActor pid=192531)\u001b[0m Epoch 1: train loss 1.026979568587409, accuracy 0.6553333333333333\n",
            "\u001b[36m(ClientAppActor pid=192529)\u001b[0m Epoch 1: train loss 0.9992405529022217, accuracy 0.6651111111111111\n",
            "\u001b[36m(ClientAppActor pid=192528)\u001b[0m Epoch 1: train loss 1.014279437277052, accuracy 0.6591111111111111\n"
          ]
        },
        {
          "name": "stderr",
          "output_type": "stream",
          "text": [
            "\u001b[92mINFO \u001b[0m:      aggregate_fit: received 4 results and 0 failures\n",
            "\u001b[92mINFO \u001b[0m:      fit progress: (30, 1.144148496246338, {'accuracy': 0.5946}, 11917.433105111122)\n",
            "\u001b[92mINFO \u001b[0m:      configure_evaluate: strategy sampled 4 clients (out of 4)\n"
          ]
        },
        {
          "name": "stdout",
          "output_type": "stream",
          "text": [
            "\u001b[36m(ClientAppActor pid=192528)\u001b[0m [Client 0] evaluate, config: {}\n"
          ]
        },
        {
          "name": "stderr",
          "output_type": "stream",
          "text": [
            "\u001b[92mINFO \u001b[0m:      aggregate_evaluate: received 4 results and 0 failures\n",
            "\u001b[92mINFO \u001b[0m:      \n",
            "\u001b[92mINFO \u001b[0m:      [ROUND 31]\n",
            "\u001b[92mINFO \u001b[0m:      configure_fit: strategy sampled 4 clients (out of 4)\n"
          ]
        },
        {
          "name": "stdout",
          "output_type": "stream",
          "text": [
            "\u001b[36m(ClientAppActor pid=192530)\u001b[0m [Client 3] fit, config: {}\n",
            "\u001b[36m(ClientAppActor pid=192530)\u001b[0m [Client 1] evaluate, config: {}\u001b[32m [repeated 3x across cluster]\u001b[0m\n",
            "\u001b[36m(ClientAppActor pid=192530)\u001b[0m Epoch 1: train loss 1.000995986090766, accuracy 0.6722222222222223\n",
            "\u001b[36m(ClientAppActor pid=192528)\u001b[0m [Client 2] fit, config: {}\u001b[32m [repeated 3x across cluster]\u001b[0m\n",
            "\u001b[36m(ClientAppActor pid=192531)\u001b[0m Epoch 1: train loss 0.9786125413046943, accuracy 0.664\n",
            "\u001b[36m(ClientAppActor pid=192529)\u001b[0m Epoch 1: train loss 0.9799616318808662, accuracy 0.6706666666666666\n"
          ]
        },
        {
          "name": "stderr",
          "output_type": "stream",
          "text": [
            "\u001b[92mINFO \u001b[0m:      aggregate_fit: received 4 results and 0 failures\n",
            "\u001b[92mINFO \u001b[0m:      fit progress: (31, 1.1345820014953614, {'accuracy': 0.5985}, 12308.334593717009)\n",
            "\u001b[92mINFO \u001b[0m:      configure_evaluate: strategy sampled 4 clients (out of 4)\n"
          ]
        },
        {
          "name": "stdout",
          "output_type": "stream",
          "text": [
            "\u001b[36m(ClientAppActor pid=192528)\u001b[0m [Client 1] evaluate, config: {}\n",
            "\u001b[36m(ClientAppActor pid=192528)\u001b[0m Epoch 1: train loss 0.996563397831387, accuracy 0.6744444444444444\n"
          ]
        },
        {
          "name": "stderr",
          "output_type": "stream",
          "text": [
            "\u001b[92mINFO \u001b[0m:      aggregate_evaluate: received 4 results and 0 failures\n",
            "\u001b[92mINFO \u001b[0m:      \n",
            "\u001b[92mINFO \u001b[0m:      [ROUND 32]\n",
            "\u001b[92mINFO \u001b[0m:      configure_fit: strategy sampled 4 clients (out of 4)\n"
          ]
        },
        {
          "name": "stdout",
          "output_type": "stream",
          "text": [
            "\u001b[36m(ClientAppActor pid=192530)\u001b[0m [Client 0] fit, config: {}\n",
            "\u001b[36m(ClientAppActor pid=192530)\u001b[0m [Client 3] evaluate, config: {}\u001b[32m [repeated 3x across cluster]\u001b[0m\n",
            "\u001b[36m(ClientAppActor pid=192530)\u001b[0m Epoch 1: train loss 0.9513272104263306, accuracy 0.6882222222222222\n",
            "\u001b[36m(ClientAppActor pid=192528)\u001b[0m [Client 3] fit, config: {}\u001b[32m [repeated 3x across cluster]\u001b[0m\n",
            "\u001b[36m(ClientAppActor pid=192529)\u001b[0m Epoch 1: train loss 0.9607013698683845, accuracy 0.6764444444444444\n",
            "\u001b[36m(ClientAppActor pid=192531)\u001b[0m Epoch 1: train loss 0.9782794869740804, accuracy 0.6717777777777778\n"
          ]
        },
        {
          "name": "stderr",
          "output_type": "stream",
          "text": [
            "\u001b[92mINFO \u001b[0m:      aggregate_fit: received 4 results and 0 failures\n",
            "\u001b[92mINFO \u001b[0m:      fit progress: (32, 1.129279952430725, {'accuracy': 0.6016}, 12704.112987511093)\n",
            "\u001b[92mINFO \u001b[0m:      configure_evaluate: strategy sampled 4 clients (out of 4)\n"
          ]
        },
        {
          "name": "stdout",
          "output_type": "stream",
          "text": [
            "\u001b[36m(ClientAppActor pid=192528)\u001b[0m [Client 3] evaluate, config: {}\n",
            "\u001b[36m(ClientAppActor pid=192528)\u001b[0m Epoch 1: train loss 0.9897506424585978, accuracy 0.6688888888888889\n"
          ]
        },
        {
          "name": "stderr",
          "output_type": "stream",
          "text": [
            "\u001b[92mINFO \u001b[0m:      aggregate_evaluate: received 4 results and 0 failures\n",
            "\u001b[92mINFO \u001b[0m:      \n",
            "\u001b[92mINFO \u001b[0m:      [ROUND 33]\n",
            "\u001b[92mINFO \u001b[0m:      configure_fit: strategy sampled 4 clients (out of 4)\n"
          ]
        },
        {
          "name": "stdout",
          "output_type": "stream",
          "text": [
            "\u001b[36m(ClientAppActor pid=192530)\u001b[0m [Client 2] fit, config: {}\n",
            "\u001b[36m(ClientAppActor pid=192530)\u001b[0m [Client 1] evaluate, config: {}\u001b[32m [repeated 3x across cluster]\u001b[0m\n",
            "\u001b[36m(ClientAppActor pid=192530)\u001b[0m Epoch 1: train loss 0.9645518784523011, accuracy 0.6757777777777778\n",
            "\u001b[36m(ClientAppActor pid=192528)\u001b[0m [Client 0] fit, config: {}\u001b[32m [repeated 3x across cluster]\u001b[0m\n",
            "\u001b[36m(ClientAppActor pid=192531)\u001b[0m Epoch 1: train loss 0.9423753984769185, accuracy 0.6855555555555556\n",
            "\u001b[36m(ClientAppActor pid=192529)\u001b[0m Epoch 1: train loss 0.9728891688982646, accuracy 0.6735555555555556\n"
          ]
        },
        {
          "name": "stderr",
          "output_type": "stream",
          "text": [
            "\u001b[92mINFO \u001b[0m:      aggregate_fit: received 4 results and 0 failures\n",
            "\u001b[92mINFO \u001b[0m:      fit progress: (33, 1.122243909263611, {'accuracy': 0.6014}, 13094.627261998132)\n",
            "\u001b[92mINFO \u001b[0m:      configure_evaluate: strategy sampled 4 clients (out of 4)\n"
          ]
        },
        {
          "name": "stdout",
          "output_type": "stream",
          "text": [
            "\u001b[36m(ClientAppActor pid=192528)\u001b[0m [Client 3] evaluate, config: {}\n",
            "\u001b[36m(ClientAppActor pid=192528)\u001b[0m Epoch 1: train loss 0.9495189782248603, accuracy 0.6831111111111111\n"
          ]
        },
        {
          "name": "stderr",
          "output_type": "stream",
          "text": [
            "\u001b[92mINFO \u001b[0m:      aggregate_evaluate: received 4 results and 0 failures\n",
            "\u001b[92mINFO \u001b[0m:      \n",
            "\u001b[92mINFO \u001b[0m:      [ROUND 34]\n",
            "\u001b[92mINFO \u001b[0m:      configure_fit: strategy sampled 4 clients (out of 4)\n"
          ]
        },
        {
          "name": "stdout",
          "output_type": "stream",
          "text": [
            "\u001b[36m(ClientAppActor pid=192530)\u001b[0m [Client 3] fit, config: {}\n",
            "\u001b[36m(ClientAppActor pid=192530)\u001b[0m [Client 1] evaluate, config: {}\u001b[32m [repeated 3x across cluster]\u001b[0m\n",
            "\u001b[36m(ClientAppActor pid=192530)\u001b[0m Epoch 1: train loss 0.9568528221448263, accuracy 0.6853333333333333\n",
            "\u001b[36m(ClientAppActor pid=192528)\u001b[0m [Client 0] fit, config: {}\u001b[32m [repeated 3x across cluster]\u001b[0m\n",
            "\u001b[36m(ClientAppActor pid=192529)\u001b[0m Epoch 1: train loss 0.9543069033622742, accuracy 0.6813333333333333\n",
            "\u001b[36m(ClientAppActor pid=192531)\u001b[0m Epoch 1: train loss 0.9313533430099488, accuracy 0.6931111111111111\n"
          ]
        },
        {
          "name": "stderr",
          "output_type": "stream",
          "text": [
            "\u001b[92mINFO \u001b[0m:      aggregate_fit: received 4 results and 0 failures\n",
            "\u001b[92mINFO \u001b[0m:      fit progress: (34, 1.1078289751052857, {'accuracy': 0.6077}, 13483.861158906948)\n",
            "\u001b[92mINFO \u001b[0m:      configure_evaluate: strategy sampled 4 clients (out of 4)\n"
          ]
        },
        {
          "name": "stdout",
          "output_type": "stream",
          "text": [
            "\u001b[36m(ClientAppActor pid=192528)\u001b[0m [Client 1] evaluate, config: {}\n",
            "\u001b[36m(ClientAppActor pid=192528)\u001b[0m Epoch 1: train loss 0.9405945369932387, accuracy 0.6937777777777778\n"
          ]
        },
        {
          "name": "stderr",
          "output_type": "stream",
          "text": [
            "\u001b[92mINFO \u001b[0m:      aggregate_evaluate: received 4 results and 0 failures\n",
            "\u001b[92mINFO \u001b[0m:      \n",
            "\u001b[92mINFO \u001b[0m:      [ROUND 35]\n",
            "\u001b[92mINFO \u001b[0m:      configure_fit: strategy sampled 4 clients (out of 4)\n"
          ]
        },
        {
          "name": "stdout",
          "output_type": "stream",
          "text": [
            "\u001b[36m(ClientAppActor pid=192530)\u001b[0m [Client 1] fit, config: {}\n",
            "\u001b[36m(ClientAppActor pid=192530)\u001b[0m [Client 2] evaluate, config: {}\u001b[32m [repeated 3x across cluster]\u001b[0m\n",
            "\u001b[36m(ClientAppActor pid=192530)\u001b[0m Epoch 1: train loss 0.9093294279310439, accuracy 0.6964444444444444\n",
            "\u001b[36m(ClientAppActor pid=192528)\u001b[0m [Client 3] fit, config: {}\u001b[32m [repeated 3x across cluster]\u001b[0m\n",
            "\u001b[36m(ClientAppActor pid=192529)\u001b[0m Epoch 1: train loss 0.9423684128655327, accuracy 0.6882222222222222\n",
            "\u001b[36m(ClientAppActor pid=192531)\u001b[0m Epoch 1: train loss 0.9130307515462239, accuracy 0.6948888888888889\n",
            "\u001b[36m(ClientAppActor pid=192528)\u001b[0m Epoch 1: train loss 0.9390825695461698, accuracy 0.692\n"
          ]
        },
        {
          "name": "stderr",
          "output_type": "stream",
          "text": [
            "\u001b[92mINFO \u001b[0m:      aggregate_fit: received 4 results and 0 failures\n",
            "\u001b[92mINFO \u001b[0m:      fit progress: (35, 1.100881986808777, {'accuracy': 0.6114}, 13882.057307958137)\n",
            "\u001b[92mINFO \u001b[0m:      configure_evaluate: strategy sampled 4 clients (out of 4)\n"
          ]
        },
        {
          "name": "stdout",
          "output_type": "stream",
          "text": [
            "\u001b[36m(ClientAppActor pid=192528)\u001b[0m [Client 1] evaluate, config: {}\n"
          ]
        },
        {
          "name": "stderr",
          "output_type": "stream",
          "text": [
            "\u001b[92mINFO \u001b[0m:      aggregate_evaluate: received 4 results and 0 failures\n",
            "\u001b[92mINFO \u001b[0m:      \n",
            "\u001b[92mINFO \u001b[0m:      [ROUND 36]\n",
            "\u001b[92mINFO \u001b[0m:      configure_fit: strategy sampled 4 clients (out of 4)\n"
          ]
        },
        {
          "name": "stdout",
          "output_type": "stream",
          "text": [
            "\u001b[36m(ClientAppActor pid=192530)\u001b[0m [Client 1] fit, config: {}\n",
            "\u001b[36m(ClientAppActor pid=192530)\u001b[0m [Client 2] evaluate, config: {}\u001b[32m [repeated 3x across cluster]\u001b[0m\n",
            "\u001b[36m(ClientAppActor pid=192530)\u001b[0m Epoch 1: train loss 0.8964494308895535, accuracy 0.7044444444444444\n",
            "\u001b[36m(ClientAppActor pid=192528)\u001b[0m [Client 0] fit, config: {}\u001b[32m [repeated 3x across cluster]\u001b[0m\n",
            "\u001b[36m(ClientAppActor pid=192529)\u001b[0m Epoch 1: train loss 0.9310380571153429, accuracy 0.6948888888888889\n",
            "\u001b[36m(ClientAppActor pid=192531)\u001b[0m Epoch 1: train loss 0.923353904830085, accuracy 0.6937777777777778\n"
          ]
        },
        {
          "name": "stderr",
          "output_type": "stream",
          "text": [
            "\u001b[92mINFO \u001b[0m:      aggregate_fit: received 4 results and 0 failures\n",
            "\u001b[92mINFO \u001b[0m:      fit progress: (36, 1.097139370918274, {'accuracy': 0.6138}, 14277.573948400095)\n",
            "\u001b[92mINFO \u001b[0m:      configure_evaluate: strategy sampled 4 clients (out of 4)\n"
          ]
        },
        {
          "name": "stdout",
          "output_type": "stream",
          "text": [
            "\u001b[36m(ClientAppActor pid=192528)\u001b[0m [Client 2] evaluate, config: {}\n",
            "\u001b[36m(ClientAppActor pid=192528)\u001b[0m Epoch 1: train loss 0.9084698841836717, accuracy 0.6953333333333334\n"
          ]
        },
        {
          "name": "stderr",
          "output_type": "stream",
          "text": [
            "\u001b[92mINFO \u001b[0m:      aggregate_evaluate: received 4 results and 0 failures\n",
            "\u001b[92mINFO \u001b[0m:      \n",
            "\u001b[92mINFO \u001b[0m:      [ROUND 37]\n",
            "\u001b[92mINFO \u001b[0m:      configure_fit: strategy sampled 4 clients (out of 4)\n"
          ]
        },
        {
          "name": "stdout",
          "output_type": "stream",
          "text": [
            "\u001b[36m(ClientAppActor pid=192530)\u001b[0m [Client 0] fit, config: {}\n",
            "\u001b[36m(ClientAppActor pid=192530)\u001b[0m [Client 1] evaluate, config: {}\u001b[32m [repeated 3x across cluster]\u001b[0m\n",
            "\u001b[36m(ClientAppActor pid=192530)\u001b[0m Epoch 1: train loss 0.885331389427185, accuracy 0.7066666666666667\n",
            "\u001b[36m(ClientAppActor pid=192528)\u001b[0m [Client 2] fit, config: {}\u001b[32m [repeated 3x across cluster]\u001b[0m\n",
            "\u001b[36m(ClientAppActor pid=192529)\u001b[0m Epoch 1: train loss 0.8903779275152418, accuracy 0.7062222222222222\n",
            "\u001b[36m(ClientAppActor pid=192531)\u001b[0m Epoch 1: train loss 0.9096640895207723, accuracy 0.7022222222222222\n"
          ]
        },
        {
          "name": "stderr",
          "output_type": "stream",
          "text": [
            "\u001b[92mINFO \u001b[0m:      aggregate_fit: received 4 results and 0 failures\n",
            "\u001b[92mINFO \u001b[0m:      fit progress: (37, 1.0883130218505859, {'accuracy': 0.6154}, 14667.627078666119)\n",
            "\u001b[92mINFO \u001b[0m:      configure_evaluate: strategy sampled 4 clients (out of 4)\n"
          ]
        },
        {
          "name": "stdout",
          "output_type": "stream",
          "text": [
            "\u001b[36m(ClientAppActor pid=192528)\u001b[0m [Client 3] evaluate, config: {}\n",
            "\u001b[36m(ClientAppActor pid=192528)\u001b[0m Epoch 1: train loss 0.9014891125361124, accuracy 0.702\n"
          ]
        },
        {
          "name": "stderr",
          "output_type": "stream",
          "text": [
            "\u001b[92mINFO \u001b[0m:      aggregate_evaluate: received 4 results and 0 failures\n",
            "\u001b[92mINFO \u001b[0m:      \n",
            "\u001b[92mINFO \u001b[0m:      [ROUND 38]\n",
            "\u001b[92mINFO \u001b[0m:      configure_fit: strategy sampled 4 clients (out of 4)\n"
          ]
        },
        {
          "name": "stdout",
          "output_type": "stream",
          "text": [
            "\u001b[36m(ClientAppActor pid=192530)\u001b[0m [Client 3] fit, config: {}\n",
            "\u001b[36m(ClientAppActor pid=192530)\u001b[0m [Client 0] evaluate, config: {}\u001b[32m [repeated 3x across cluster]\u001b[0m\n",
            "\u001b[36m(ClientAppActor pid=192530)\u001b[0m Epoch 1: train loss 0.8986552760336134, accuracy 0.706\n",
            "\u001b[36m(ClientAppActor pid=192528)\u001b[0m [Client 2] fit, config: {}\u001b[32m [repeated 3x across cluster]\u001b[0m\n",
            "\u001b[36m(ClientAppActor pid=192531)\u001b[0m Epoch 1: train loss 0.8674578365749783, accuracy 0.7111111111111111\n",
            "\u001b[36m(ClientAppActor pid=192529)\u001b[0m Epoch 1: train loss 0.8748530815442404, accuracy 0.7155555555555555\n",
            "\u001b[36m(ClientAppActor pid=192528)\u001b[0m Epoch 1: train loss 0.8906076850891114, accuracy 0.6984444444444444\n"
          ]
        },
        {
          "name": "stderr",
          "output_type": "stream",
          "text": [
            "\u001b[92mINFO \u001b[0m:      aggregate_fit: received 4 results and 0 failures\n",
            "\u001b[92mINFO \u001b[0m:      fit progress: (38, 1.0860944654464721, {'accuracy': 0.6116}, 15072.003939110087)\n",
            "\u001b[92mINFO \u001b[0m:      configure_evaluate: strategy sampled 4 clients (out of 4)\n"
          ]
        },
        {
          "name": "stdout",
          "output_type": "stream",
          "text": [
            "\u001b[36m(ClientAppActor pid=192528)\u001b[0m [Client 1] evaluate, config: {}\n",
            "\u001b[36m(ClientAppActor pid=192530)\u001b[0m [Client 3] evaluate, config: {}\u001b[32m [repeated 3x across cluster]\u001b[0m\n"
          ]
        },
        {
          "name": "stderr",
          "output_type": "stream",
          "text": [
            "\u001b[92mINFO \u001b[0m:      aggregate_evaluate: received 4 results and 0 failures\n",
            "\u001b[92mINFO \u001b[0m:      \n",
            "\u001b[92mINFO \u001b[0m:      [ROUND 39]\n",
            "\u001b[92mINFO \u001b[0m:      configure_fit: strategy sampled 4 clients (out of 4)\n"
          ]
        },
        {
          "name": "stdout",
          "output_type": "stream",
          "text": [
            "\u001b[36m(ClientAppActor pid=192530)\u001b[0m [Client 2] fit, config: {}\n",
            "\u001b[36m(ClientAppActor pid=192530)\u001b[0m Epoch 1: train loss 0.879411546919081, accuracy 0.7142222222222222\n",
            "\u001b[36m(ClientAppActor pid=192528)\u001b[0m [Client 0] fit, config: {}\u001b[32m [repeated 3x across cluster]\u001b[0m\n",
            "\u001b[36m(ClientAppActor pid=192531)\u001b[0m Epoch 1: train loss 0.8751706832249959, accuracy 0.7148888888888889\n",
            "\u001b[36m(ClientAppActor pid=192529)\u001b[0m Epoch 1: train loss 0.8483804570833842, accuracy 0.7257777777777777\n",
            "\u001b[36m(ClientAppActor pid=192528)\u001b[0m Epoch 1: train loss 0.8632956399917603, accuracy 0.7157777777777777\n"
          ]
        },
        {
          "name": "stderr",
          "output_type": "stream",
          "text": [
            "\u001b[92mINFO \u001b[0m:      aggregate_fit: received 4 results and 0 failures\n",
            "\u001b[92mINFO \u001b[0m:      fit progress: (39, 1.0723757434844972, {'accuracy': 0.624}, 15476.89843621105)\n",
            "\u001b[92mINFO \u001b[0m:      configure_evaluate: strategy sampled 4 clients (out of 4)\n"
          ]
        },
        {
          "name": "stdout",
          "output_type": "stream",
          "text": [
            "\u001b[36m(ClientAppActor pid=192528)\u001b[0m [Client 3] evaluate, config: {}\n"
          ]
        },
        {
          "name": "stderr",
          "output_type": "stream",
          "text": [
            "\u001b[92mINFO \u001b[0m:      aggregate_evaluate: received 4 results and 0 failures\n",
            "\u001b[92mINFO \u001b[0m:      \n",
            "\u001b[92mINFO \u001b[0m:      [ROUND 40]\n",
            "\u001b[92mINFO \u001b[0m:      configure_fit: strategy sampled 4 clients (out of 4)\n"
          ]
        },
        {
          "name": "stdout",
          "output_type": "stream",
          "text": [
            "\u001b[36m(ClientAppActor pid=192530)\u001b[0m [Client 0] fit, config: {}\n",
            "\u001b[36m(ClientAppActor pid=192530)\u001b[0m [Client 1] evaluate, config: {}\u001b[32m [repeated 3x across cluster]\u001b[0m\n",
            "\u001b[36m(ClientAppActor pid=192530)\u001b[0m Epoch 1: train loss 0.839197679731581, accuracy 0.732\n",
            "\u001b[36m(ClientAppActor pid=192528)\u001b[0m [Client 3] fit, config: {}\u001b[32m [repeated 3x across cluster]\u001b[0m\n",
            "\u001b[36m(ClientAppActor pid=192529)\u001b[0m Epoch 1: train loss 0.8694833953645494, accuracy 0.7104444444444444\n",
            "\u001b[36m(ClientAppActor pid=192531)\u001b[0m Epoch 1: train loss 0.8396423890855578, accuracy 0.7231111111111111\n",
            "\u001b[36m(ClientAppActor pid=192528)\u001b[0m Epoch 1: train loss 0.8656783367262946, accuracy 0.7224444444444444\n"
          ]
        },
        {
          "name": "stderr",
          "output_type": "stream",
          "text": [
            "\u001b[92mINFO \u001b[0m:      aggregate_fit: received 4 results and 0 failures\n",
            "\u001b[92mINFO \u001b[0m:      fit progress: (40, 1.0695513000488281, {'accuracy': 0.624}, 15874.895594176138)\n",
            "\u001b[92mINFO \u001b[0m:      configure_evaluate: strategy sampled 4 clients (out of 4)\n"
          ]
        },
        {
          "name": "stdout",
          "output_type": "stream",
          "text": [
            "\u001b[36m(ClientAppActor pid=192528)\u001b[0m [Client 0] evaluate, config: {}\n"
          ]
        },
        {
          "name": "stderr",
          "output_type": "stream",
          "text": [
            "\u001b[92mINFO \u001b[0m:      aggregate_evaluate: received 4 results and 0 failures\n",
            "\u001b[92mINFO \u001b[0m:      \n",
            "\u001b[92mINFO \u001b[0m:      [ROUND 41]\n",
            "\u001b[92mINFO \u001b[0m:      configure_fit: strategy sampled 4 clients (out of 4)\n"
          ]
        },
        {
          "name": "stdout",
          "output_type": "stream",
          "text": [
            "\u001b[36m(ClientAppActor pid=192530)\u001b[0m [Client 1] fit, config: {}\n",
            "\u001b[36m(ClientAppActor pid=192530)\u001b[0m [Client 2] evaluate, config: {}\u001b[32m [repeated 3x across cluster]\u001b[0m\n",
            "\u001b[36m(ClientAppActor pid=192530)\u001b[0m Epoch 1: train loss 0.8215851408640543, accuracy 0.7371111111111112\n",
            "\u001b[36m(ClientAppActor pid=192528)\u001b[0m [Client 0] fit, config: {}\u001b[32m [repeated 3x across cluster]\u001b[0m\n",
            "\u001b[36m(ClientAppActor pid=192531)\u001b[0m Epoch 1: train loss 0.8456983124944899, accuracy 0.7282222222222222\u001b[32m [repeated 2x across cluster]\u001b[0m\n"
          ]
        },
        {
          "name": "stderr",
          "output_type": "stream",
          "text": [
            "\u001b[92mINFO \u001b[0m:      aggregate_fit: received 4 results and 0 failures\n",
            "\u001b[92mINFO \u001b[0m:      fit progress: (41, 1.062171057319641, {'accuracy': 0.6292}, 16270.351440706989)\n",
            "\u001b[92mINFO \u001b[0m:      configure_evaluate: strategy sampled 4 clients (out of 4)\n"
          ]
        },
        {
          "name": "stdout",
          "output_type": "stream",
          "text": [
            "\u001b[36m(ClientAppActor pid=192528)\u001b[0m [Client 1] evaluate, config: {}\n",
            "\u001b[36m(ClientAppActor pid=192528)\u001b[0m Epoch 1: train loss 0.8355531618330214, accuracy 0.7293333333333333\n"
          ]
        },
        {
          "name": "stderr",
          "output_type": "stream",
          "text": [
            "\u001b[92mINFO \u001b[0m:      aggregate_evaluate: received 4 results and 0 failures\n",
            "\u001b[92mINFO \u001b[0m:      \n",
            "\u001b[92mINFO \u001b[0m:      [ROUND 42]\n",
            "\u001b[92mINFO \u001b[0m:      configure_fit: strategy sampled 4 clients (out of 4)\n"
          ]
        },
        {
          "name": "stdout",
          "output_type": "stream",
          "text": [
            "\u001b[36m(ClientAppActor pid=192530)\u001b[0m [Client 1] fit, config: {}\n",
            "\u001b[36m(ClientAppActor pid=192530)\u001b[0m [Client 0] evaluate, config: {}\u001b[32m [repeated 3x across cluster]\u001b[0m\n",
            "\u001b[36m(ClientAppActor pid=192530)\u001b[0m Epoch 1: train loss 0.8133792669508192, accuracy 0.7337777777777778\n",
            "\u001b[36m(ClientAppActor pid=192528)\u001b[0m [Client 0] fit, config: {}\u001b[32m [repeated 3x across cluster]\u001b[0m\n",
            "\u001b[36m(ClientAppActor pid=192529)\u001b[0m Epoch 1: train loss 0.8324223956002129, accuracy 0.732\n",
            "\u001b[36m(ClientAppActor pid=192531)\u001b[0m Epoch 1: train loss 0.8265585480795966, accuracy 0.7242222222222222\n",
            "\u001b[36m(ClientAppActor pid=192528)\u001b[0m Epoch 1: train loss 0.8128494505352444, accuracy 0.7375555555555555\n"
          ]
        },
        {
          "name": "stderr",
          "output_type": "stream",
          "text": [
            "\u001b[92mINFO \u001b[0m:      aggregate_fit: received 4 results and 0 failures\n",
            "\u001b[92mINFO \u001b[0m:      fit progress: (42, 1.0542758478164673, {'accuracy': 0.6305}, 16664.90049598296)\n",
            "\u001b[92mINFO \u001b[0m:      configure_evaluate: strategy sampled 4 clients (out of 4)\n"
          ]
        },
        {
          "name": "stdout",
          "output_type": "stream",
          "text": [
            "\u001b[36m(ClientAppActor pid=192528)\u001b[0m [Client 0] evaluate, config: {}\n"
          ]
        },
        {
          "name": "stderr",
          "output_type": "stream",
          "text": [
            "\u001b[92mINFO \u001b[0m:      aggregate_evaluate: received 4 results and 0 failures\n",
            "\u001b[92mINFO \u001b[0m:      \n",
            "\u001b[92mINFO \u001b[0m:      [ROUND 43]\n",
            "\u001b[92mINFO \u001b[0m:      configure_fit: strategy sampled 4 clients (out of 4)\n"
          ]
        },
        {
          "name": "stdout",
          "output_type": "stream",
          "text": [
            "\u001b[36m(ClientAppActor pid=192530)\u001b[0m [Client 3] fit, config: {}\n",
            "\u001b[36m(ClientAppActor pid=192530)\u001b[0m [Client 1] evaluate, config: {}\u001b[32m [repeated 3x across cluster]\u001b[0m\n",
            "\u001b[36m(ClientAppActor pid=192530)\u001b[0m Epoch 1: train loss 0.8262162297301823, accuracy 0.7346666666666667\n",
            "\u001b[36m(ClientAppActor pid=192528)\u001b[0m [Client 0] fit, config: {}\u001b[32m [repeated 3x across cluster]\u001b[0m\n",
            "\u001b[36m(ClientAppActor pid=192529)\u001b[0m Epoch 1: train loss 0.8111690415806241, accuracy 0.732\n",
            "\u001b[36m(ClientAppActor pid=192531)\u001b[0m Epoch 1: train loss 0.7955286247995165, accuracy 0.7437777777777778\n",
            "\u001b[36m(ClientAppActor pid=192528)\u001b[0m Epoch 1: train loss 0.8070656385421753, accuracy 0.7406666666666667\n"
          ]
        },
        {
          "name": "stderr",
          "output_type": "stream",
          "text": [
            "\u001b[92mINFO \u001b[0m:      aggregate_fit: received 4 results and 0 failures\n",
            "\u001b[92mINFO \u001b[0m:      fit progress: (43, 1.0512939343452454, {'accuracy': 0.6306}, 17062.00665942207)\n",
            "\u001b[92mINFO \u001b[0m:      configure_evaluate: strategy sampled 4 clients (out of 4)\n"
          ]
        },
        {
          "name": "stdout",
          "output_type": "stream",
          "text": [
            "\u001b[36m(ClientAppActor pid=192528)\u001b[0m [Client 3] evaluate, config: {}\n"
          ]
        },
        {
          "name": "stderr",
          "output_type": "stream",
          "text": [
            "\u001b[92mINFO \u001b[0m:      aggregate_evaluate: received 4 results and 0 failures\n",
            "\u001b[92mINFO \u001b[0m:      \n",
            "\u001b[92mINFO \u001b[0m:      [ROUND 44]\n",
            "\u001b[92mINFO \u001b[0m:      configure_fit: strategy sampled 4 clients (out of 4)\n"
          ]
        },
        {
          "name": "stdout",
          "output_type": "stream",
          "text": [
            "\u001b[36m(ClientAppActor pid=192530)\u001b[0m [Client 0] fit, config: {}\n",
            "\u001b[36m(ClientAppActor pid=192530)\u001b[0m [Client 2] evaluate, config: {}\u001b[32m [repeated 3x across cluster]\u001b[0m\n",
            "\u001b[36m(ClientAppActor pid=192530)\u001b[0m Epoch 1: train loss 0.7906451665030585, accuracy 0.7466666666666667\n",
            "\u001b[36m(ClientAppActor pid=192528)\u001b[0m [Client 3] fit, config: {}\u001b[32m [repeated 3x across cluster]\u001b[0m\n",
            "\u001b[36m(ClientAppActor pid=192529)\u001b[0m Epoch 1: train loss 0.785885732544793, accuracy 0.7437777777777778\n",
            "\u001b[36m(ClientAppActor pid=192531)\u001b[0m Epoch 1: train loss 0.7959798432456122, accuracy 0.7428888888888889\n"
          ]
        },
        {
          "name": "stderr",
          "output_type": "stream",
          "text": [
            "\u001b[92mINFO \u001b[0m:      aggregate_fit: received 4 results and 0 failures\n",
            "\u001b[92mINFO \u001b[0m:      fit progress: (44, 1.0462429986953736, {'accuracy': 0.6315}, 17454.855268049054)\n",
            "\u001b[92mINFO \u001b[0m:      configure_evaluate: strategy sampled 4 clients (out of 4)\n"
          ]
        },
        {
          "name": "stdout",
          "output_type": "stream",
          "text": [
            "\u001b[36m(ClientAppActor pid=192528)\u001b[0m [Client 0] evaluate, config: {}\n",
            "\u001b[36m(ClientAppActor pid=192528)\u001b[0m Epoch 1: train loss 0.8050494105021159, accuracy 0.7384444444444445\n"
          ]
        },
        {
          "name": "stderr",
          "output_type": "stream",
          "text": [
            "\u001b[92mINFO \u001b[0m:      aggregate_evaluate: received 4 results and 0 failures\n",
            "\u001b[92mINFO \u001b[0m:      \n",
            "\u001b[92mINFO \u001b[0m:      [ROUND 45]\n",
            "\u001b[92mINFO \u001b[0m:      configure_fit: strategy sampled 4 clients (out of 4)\n"
          ]
        },
        {
          "name": "stdout",
          "output_type": "stream",
          "text": [
            "\u001b[36m(ClientAppActor pid=192530)\u001b[0m [Client 2] fit, config: {}\n",
            "\u001b[36m(ClientAppActor pid=192530)\u001b[0m [Client 3] evaluate, config: {}\u001b[32m [repeated 3x across cluster]\u001b[0m\n",
            "\u001b[36m(ClientAppActor pid=192530)\u001b[0m Epoch 1: train loss 0.7913311269548204, accuracy 0.7466666666666667\n",
            "\u001b[36m(ClientAppActor pid=192528)\u001b[0m [Client 0] fit, config: {}\u001b[32m [repeated 3x across cluster]\u001b[0m\n",
            "\u001b[36m(ClientAppActor pid=192529)\u001b[0m Epoch 1: train loss 0.773282819641961, accuracy 0.754\n",
            "\u001b[36m(ClientAppActor pid=192531)\u001b[0m Epoch 1: train loss 0.7886462009218004, accuracy 0.754\n"
          ]
        },
        {
          "name": "stderr",
          "output_type": "stream",
          "text": [
            "\u001b[92mINFO \u001b[0m:      aggregate_fit: received 4 results and 0 failures\n",
            "\u001b[92mINFO \u001b[0m:      fit progress: (45, 1.0461399906158446, {'accuracy': 0.6326}, 17846.47943756217)\n",
            "\u001b[92mINFO \u001b[0m:      configure_evaluate: strategy sampled 4 clients (out of 4)\n"
          ]
        },
        {
          "name": "stdout",
          "output_type": "stream",
          "text": [
            "\u001b[36m(ClientAppActor pid=192528)\u001b[0m [Client 2] evaluate, config: {}\n",
            "\u001b[36m(ClientAppActor pid=192528)\u001b[0m Epoch 1: train loss 0.7799538458718194, accuracy 0.7582222222222222\n"
          ]
        },
        {
          "name": "stderr",
          "output_type": "stream",
          "text": [
            "\u001b[92mINFO \u001b[0m:      aggregate_evaluate: received 4 results and 0 failures\n",
            "\u001b[92mINFO \u001b[0m:      \n",
            "\u001b[92mINFO \u001b[0m:      [ROUND 46]\n",
            "\u001b[92mINFO \u001b[0m:      configure_fit: strategy sampled 4 clients (out of 4)\n"
          ]
        },
        {
          "name": "stdout",
          "output_type": "stream",
          "text": [
            "\u001b[36m(ClientAppActor pid=192530)\u001b[0m [Client 2] fit, config: {}\n",
            "\u001b[36m(ClientAppActor pid=192530)\u001b[0m [Client 1] evaluate, config: {}\u001b[32m [repeated 3x across cluster]\u001b[0m\n",
            "\u001b[36m(ClientAppActor pid=192530)\u001b[0m Epoch 1: train loss 0.7673899474143981, accuracy 0.7451111111111111\n",
            "\u001b[36m(ClientAppActor pid=192528)\u001b[0m [Client 3] fit, config: {}\u001b[32m [repeated 3x across cluster]\u001b[0m\n",
            "\u001b[36m(ClientAppActor pid=192529)\u001b[0m Epoch 1: train loss 0.7568252413007948, accuracy 0.7615555555555555\n",
            "\u001b[36m(ClientAppActor pid=192531)\u001b[0m Epoch 1: train loss 0.7579379829830594, accuracy 0.7617777777777778\n"
          ]
        },
        {
          "name": "stderr",
          "output_type": "stream",
          "text": [
            "\u001b[92mINFO \u001b[0m:      aggregate_fit: received 4 results and 0 failures\n",
            "\u001b[92mINFO \u001b[0m:      fit progress: (46, 1.0395710475921631, {'accuracy': 0.6355}, 18241.37029995909)\n",
            "\u001b[92mINFO \u001b[0m:      configure_evaluate: strategy sampled 4 clients (out of 4)\n"
          ]
        },
        {
          "name": "stdout",
          "output_type": "stream",
          "text": [
            "\u001b[36m(ClientAppActor pid=192528)\u001b[0m [Client 0] evaluate, config: {}\n",
            "\u001b[36m(ClientAppActor pid=192528)\u001b[0m Epoch 1: train loss 0.7773117748366462, accuracy 0.7593333333333333\n"
          ]
        },
        {
          "name": "stderr",
          "output_type": "stream",
          "text": [
            "\u001b[92mINFO \u001b[0m:      aggregate_evaluate: received 4 results and 0 failures\n",
            "\u001b[92mINFO \u001b[0m:      \n",
            "\u001b[92mINFO \u001b[0m:      [ROUND 47]\n",
            "\u001b[92mINFO \u001b[0m:      configure_fit: strategy sampled 4 clients (out of 4)\n"
          ]
        },
        {
          "name": "stdout",
          "output_type": "stream",
          "text": [
            "\u001b[36m(ClientAppActor pid=192530)\u001b[0m [Client 2] fit, config: {}\n",
            "\u001b[36m(ClientAppActor pid=192530)\u001b[0m [Client 3] evaluate, config: {}\u001b[32m [repeated 3x across cluster]\u001b[0m\n",
            "\u001b[36m(ClientAppActor pid=192530)\u001b[0m Epoch 1: train loss 0.7620625759760539, accuracy 0.7544444444444445\n",
            "\u001b[36m(ClientAppActor pid=192528)\u001b[0m [Client 0] fit, config: {}\u001b[32m [repeated 3x across cluster]\u001b[0m\n",
            "\u001b[36m(ClientAppActor pid=192529)\u001b[0m Epoch 1: train loss 0.7682001551522148, accuracy 0.7593333333333333\n",
            "\u001b[36m(ClientAppActor pid=192531)\u001b[0m Epoch 1: train loss 0.7406546388202243, accuracy 0.762\n"
          ]
        },
        {
          "name": "stderr",
          "output_type": "stream",
          "text": [
            "\u001b[92mINFO \u001b[0m:      aggregate_fit: received 4 results and 0 failures\n",
            "\u001b[92mINFO \u001b[0m:      fit progress: (47, 1.0367542642593384, {'accuracy': 0.6316}, 18632.91081422195)\n",
            "\u001b[92mINFO \u001b[0m:      configure_evaluate: strategy sampled 4 clients (out of 4)\n"
          ]
        },
        {
          "name": "stdout",
          "output_type": "stream",
          "text": [
            "\u001b[36m(ClientAppActor pid=192528)\u001b[0m [Client 3] evaluate, config: {}\n",
            "\u001b[36m(ClientAppActor pid=192528)\u001b[0m Epoch 1: train loss 0.7500902644793193, accuracy 0.7637777777777778\n"
          ]
        },
        {
          "name": "stderr",
          "output_type": "stream",
          "text": [
            "\u001b[92mINFO \u001b[0m:      aggregate_evaluate: received 4 results and 0 failures\n",
            "\u001b[92mINFO \u001b[0m:      \n",
            "\u001b[92mINFO \u001b[0m:      [ROUND 48]\n",
            "\u001b[92mINFO \u001b[0m:      configure_fit: strategy sampled 4 clients (out of 4)\n"
          ]
        },
        {
          "name": "stdout",
          "output_type": "stream",
          "text": [
            "\u001b[36m(ClientAppActor pid=192530)\u001b[0m [Client 2] fit, config: {}\n",
            "\u001b[36m(ClientAppActor pid=192530)\u001b[0m [Client 0] evaluate, config: {}\u001b[32m [repeated 3x across cluster]\u001b[0m\n",
            "\u001b[36m(ClientAppActor pid=192530)\u001b[0m Epoch 1: train loss 0.7472971924675835, accuracy 0.7608888888888888\n",
            "\u001b[36m(ClientAppActor pid=192528)\u001b[0m [Client 1] fit, config: {}\u001b[32m [repeated 3x across cluster]\u001b[0m\n",
            "\u001b[36m(ClientAppActor pid=192531)\u001b[0m Epoch 1: train loss 0.739357567999098, accuracy 0.7624444444444445\u001b[32m [repeated 2x across cluster]\u001b[0m\n"
          ]
        },
        {
          "name": "stderr",
          "output_type": "stream",
          "text": [
            "\u001b[92mINFO \u001b[0m:      aggregate_fit: received 4 results and 0 failures\n",
            "\u001b[92mINFO \u001b[0m:      fit progress: (48, 1.0242113134384154, {'accuracy': 0.6383}, 19029.890683467966)\n",
            "\u001b[92mINFO \u001b[0m:      configure_evaluate: strategy sampled 4 clients (out of 4)\n"
          ]
        },
        {
          "name": "stdout",
          "output_type": "stream",
          "text": [
            "\u001b[36m(ClientAppActor pid=192528)\u001b[0m [Client 0] evaluate, config: {}\n",
            "\u001b[36m(ClientAppActor pid=192528)\u001b[0m Epoch 1: train loss 0.7395689942042033, accuracy 0.7664444444444445\n"
          ]
        },
        {
          "name": "stderr",
          "output_type": "stream",
          "text": [
            "\u001b[92mINFO \u001b[0m:      aggregate_evaluate: received 4 results and 0 failures\n",
            "\u001b[92mINFO \u001b[0m:      \n",
            "\u001b[92mINFO \u001b[0m:      [ROUND 49]\n",
            "\u001b[92mINFO \u001b[0m:      configure_fit: strategy sampled 4 clients (out of 4)\n"
          ]
        },
        {
          "name": "stdout",
          "output_type": "stream",
          "text": [
            "\u001b[36m(ClientAppActor pid=192530)\u001b[0m [Client 3] fit, config: {}\n",
            "\u001b[36m(ClientAppActor pid=192530)\u001b[0m [Client 2] evaluate, config: {}\u001b[32m [repeated 3x across cluster]\u001b[0m\n",
            "\u001b[36m(ClientAppActor pid=192530)\u001b[0m Epoch 1: train loss 0.7420083004633585, accuracy 0.7648888888888888\n",
            "\u001b[36m(ClientAppActor pid=192528)\u001b[0m [Client 2] fit, config: {}\u001b[32m [repeated 3x across cluster]\u001b[0m\n",
            "\u001b[36m(ClientAppActor pid=192528)\u001b[0m Epoch 1: train loss 0.7307231362660725, accuracy 0.7697777777777778\u001b[32m [repeated 2x across cluster]\u001b[0m\n"
          ]
        },
        {
          "name": "stderr",
          "output_type": "stream",
          "text": [
            "\u001b[92mINFO \u001b[0m:      aggregate_fit: received 4 results and 0 failures\n",
            "\u001b[92mINFO \u001b[0m:      fit progress: (49, 1.0204152874946595, {'accuracy': 0.6406}, 19425.079309137072)\n",
            "\u001b[92mINFO \u001b[0m:      configure_evaluate: strategy sampled 4 clients (out of 4)\n"
          ]
        },
        {
          "name": "stdout",
          "output_type": "stream",
          "text": [
            "\u001b[36m(ClientAppActor pid=192531)\u001b[0m [Client 0] evaluate, config: {}\n",
            "\u001b[36m(ClientAppActor pid=192531)\u001b[0m Epoch 1: train loss 0.7153705498377482, accuracy 0.7755555555555556\n"
          ]
        },
        {
          "name": "stderr",
          "output_type": "stream",
          "text": [
            "\u001b[92mINFO \u001b[0m:      aggregate_evaluate: received 4 results and 0 failures\n",
            "\u001b[92mINFO \u001b[0m:      \n",
            "\u001b[92mINFO \u001b[0m:      [ROUND 50]\n",
            "\u001b[92mINFO \u001b[0m:      configure_fit: strategy sampled 4 clients (out of 4)\n"
          ]
        },
        {
          "name": "stdout",
          "output_type": "stream",
          "text": [
            "\u001b[36m(ClientAppActor pid=192530)\u001b[0m [Client 0] fit, config: {}\n",
            "\u001b[36m(ClientAppActor pid=192530)\u001b[0m [Client 3] evaluate, config: {}\u001b[32m [repeated 3x across cluster]\u001b[0m\n",
            "\u001b[36m(ClientAppActor pid=192530)\u001b[0m Epoch 1: train loss 0.7020197781456842, accuracy 0.7795555555555556\n",
            "\u001b[36m(ClientAppActor pid=192531)\u001b[0m [Client 3] fit, config: {}\u001b[32m [repeated 3x across cluster]\u001b[0m\n",
            "\u001b[36m(ClientAppActor pid=192529)\u001b[0m Epoch 1: train loss 0.6987834162182278, accuracy 0.7824444444444445\n",
            "\u001b[36m(ClientAppActor pid=192528)\u001b[0m Epoch 1: train loss 0.7145261512332493, accuracy 0.7753333333333333\n"
          ]
        },
        {
          "name": "stderr",
          "output_type": "stream",
          "text": [
            "\u001b[92mINFO \u001b[0m:      aggregate_fit: received 4 results and 0 failures\n",
            "\u001b[92mINFO \u001b[0m:      fit progress: (50, 1.0167280239105225, {'accuracy': 0.6413}, 19819.215606905054)\n",
            "\u001b[92mINFO \u001b[0m:      configure_evaluate: strategy sampled 4 clients (out of 4)\n"
          ]
        },
        {
          "name": "stdout",
          "output_type": "stream",
          "text": [
            "\u001b[36m(ClientAppActor pid=192531)\u001b[0m [Client 3] evaluate, config: {}\n",
            "\u001b[36m(ClientAppActor pid=192531)\u001b[0m Epoch 1: train loss 0.7235601149664985, accuracy 0.7757777777777778\n"
          ]
        },
        {
          "name": "stderr",
          "output_type": "stream",
          "text": [
            "\u001b[92mINFO \u001b[0m:      aggregate_evaluate: received 4 results and 0 failures\n",
            "\u001b[92mINFO \u001b[0m:      \n",
            "\u001b[92mINFO \u001b[0m:      [SUMMARY]\n",
            "\u001b[92mINFO \u001b[0m:      Run finished 50 round(s) in 19837.77s\n",
            "\u001b[92mINFO \u001b[0m:      \tHistory (loss, distributed):\n",
            "\u001b[92mINFO \u001b[0m:      \t\tround 1: 1.976067301750183\n",
            "\u001b[92mINFO \u001b[0m:      \t\tround 2: 1.8480620527267455\n",
            "\u001b[92mINFO \u001b[0m:      \t\tround 3: 1.760894572019577\n",
            "\u001b[92mINFO \u001b[0m:      \t\tround 4: 1.6953425128459931\n",
            "\u001b[92mINFO \u001b[0m:      \t\tround 5: 1.6365030400753022\n",
            "\u001b[92mINFO \u001b[0m:      \t\tround 6: 1.5941458599567413\n",
            "\u001b[92mINFO \u001b[0m:      \t\tround 7: 1.5525058553218842\n",
            "\u001b[92mINFO \u001b[0m:      \t\tround 8: 1.516596625804901\n",
            "\u001b[92mINFO \u001b[0m:      \t\tround 9: 1.4894109468460082\n",
            "\u001b[92mINFO \u001b[0m:      \t\tround 10: 1.4620208373069763\n",
            "\u001b[92mINFO \u001b[0m:      \t\tround 11: 1.4420910751819611\n",
            "\u001b[92mINFO \u001b[0m:      \t\tround 12: 1.4166416997909546\n",
            "\u001b[92mINFO \u001b[0m:      \t\tround 13: 1.398639031648636\n",
            "\u001b[92mINFO \u001b[0m:      \t\tround 14: 1.3799953243732452\n",
            "\u001b[92mINFO \u001b[0m:      \t\tround 15: 1.3631160349845888\n",
            "\u001b[92mINFO \u001b[0m:      \t\tround 16: 1.3480463011264803\n",
            "\u001b[92mINFO \u001b[0m:      \t\tround 17: 1.3275855865478516\n",
            "\u001b[92mINFO \u001b[0m:      \t\tround 18: 1.3168020997047425\n",
            "\u001b[92mINFO \u001b[0m:      \t\tround 19: 1.3044735429286958\n",
            "\u001b[92mINFO \u001b[0m:      \t\tround 20: 1.288954912662506\n",
            "\u001b[92mINFO \u001b[0m:      \t\tround 21: 1.274858157634735\n",
            "\u001b[92mINFO \u001b[0m:      \t\tround 22: 1.2590937283039092\n",
            "\u001b[92mINFO \u001b[0m:      \t\tround 23: 1.2547279574871064\n",
            "\u001b[92mINFO \u001b[0m:      \t\tround 24: 1.2427700574398042\n",
            "\u001b[92mINFO \u001b[0m:      \t\tround 25: 1.2365419855117799\n",
            "\u001b[92mINFO \u001b[0m:      \t\tround 26: 1.217930414199829\n",
            "\u001b[92mINFO \u001b[0m:      \t\tround 27: 1.2123074705600738\n",
            "\u001b[92mINFO \u001b[0m:      \t\tround 28: 1.1957505025863648\n",
            "\u001b[92mINFO \u001b[0m:      \t\tround 29: 1.1891394457817077\n",
            "\u001b[92mINFO \u001b[0m:      \t\tround 30: 1.1754261467456817\n",
            "\u001b[92mINFO \u001b[0m:      \t\tround 31: 1.1669228954315187\n",
            "\u001b[92mINFO \u001b[0m:      \t\tround 32: 1.1708515541553497\n",
            "\u001b[92mINFO \u001b[0m:      \t\tround 33: 1.1575407824516297\n",
            "\u001b[92mINFO \u001b[0m:      \t\tround 34: 1.1463119173049927\n",
            "\u001b[92mINFO \u001b[0m:      \t\tround 35: 1.1426925669908523\n",
            "\u001b[92mINFO \u001b[0m:      \t\tround 36: 1.1310083856582642\n",
            "\u001b[92mINFO \u001b[0m:      \t\tround 37: 1.1209940905570983\n",
            "\u001b[92mINFO \u001b[0m:      \t\tround 38: 1.125256301164627\n",
            "\u001b[92mINFO \u001b[0m:      \t\tround 39: 1.1092215678691864\n",
            "\u001b[92mINFO \u001b[0m:      \t\tround 40: 1.1060532643795014\n",
            "\u001b[92mINFO \u001b[0m:      \t\tround 41: 1.0929590349197387\n",
            "\u001b[92mINFO \u001b[0m:      \t\tround 42: 1.086111260652542\n",
            "\u001b[92mINFO \u001b[0m:      \t\tround 43: 1.0823475836515426\n",
            "\u001b[92mINFO \u001b[0m:      \t\tround 44: 1.0808431494235993\n",
            "\u001b[92mINFO \u001b[0m:      \t\tround 45: 1.0862044343948365\n",
            "\u001b[92mINFO \u001b[0m:      \t\tround 46: 1.0699604585170746\n",
            "\u001b[92mINFO \u001b[0m:      \t\tround 47: 1.0647584836483002\n",
            "\u001b[92mINFO \u001b[0m:      \t\tround 48: 1.0603542053699493\n",
            "\u001b[92mINFO \u001b[0m:      \t\tround 49: 1.0500182400941849\n",
            "\u001b[92mINFO \u001b[0m:      \t\tround 50: 1.0449752818346023\n",
            "\u001b[92mINFO \u001b[0m:      \tHistory (loss, centralized):\n",
            "\u001b[92mINFO \u001b[0m:      \t\tround 0: 2.3219499301910402\n",
            "\u001b[92mINFO \u001b[0m:      \t\tround 1: 1.9407631855010987\n",
            "\u001b[92mINFO \u001b[0m:      \t\tround 2: 1.8094202508926391\n",
            "\u001b[92mINFO \u001b[0m:      \t\tround 3: 1.7258686473846436\n",
            "\u001b[92mINFO \u001b[0m:      \t\tround 4: 1.6533230991363526\n",
            "\u001b[92mINFO \u001b[0m:      \t\tround 5: 1.5946123519897462\n",
            "\u001b[92mINFO \u001b[0m:      \t\tround 6: 1.5534907598495484\n",
            "\u001b[92mINFO \u001b[0m:      \t\tround 7: 1.5093932315826415\n",
            "\u001b[92mINFO \u001b[0m:      \t\tround 8: 1.4738914447784424\n",
            "\u001b[92mINFO \u001b[0m:      \t\tround 9: 1.44835973072052\n",
            "\u001b[92mINFO \u001b[0m:      \t\tround 10: 1.4216340522766113\n",
            "\u001b[92mINFO \u001b[0m:      \t\tround 11: 1.3967052194595337\n",
            "\u001b[92mINFO \u001b[0m:      \t\tround 12: 1.3740241277694702\n",
            "\u001b[92mINFO \u001b[0m:      \t\tround 13: 1.3573274305343628\n",
            "\u001b[92mINFO \u001b[0m:      \t\tround 14: 1.3394863885879518\n",
            "\u001b[92mINFO \u001b[0m:      \t\tround 15: 1.3228507078170777\n",
            "\u001b[92mINFO \u001b[0m:      \t\tround 16: 1.3050286191940308\n",
            "\u001b[92mINFO \u001b[0m:      \t\tround 17: 1.292327419090271\n",
            "\u001b[92mINFO \u001b[0m:      \t\tround 18: 1.2764500398635865\n",
            "\u001b[92mINFO \u001b[0m:      \t\tround 19: 1.2680373428344727\n",
            "\u001b[92mINFO \u001b[0m:      \t\tround 20: 1.251038988685608\n",
            "\u001b[92mINFO \u001b[0m:      \t\tround 21: 1.2387411724090576\n",
            "\u001b[92mINFO \u001b[0m:      \t\tround 22: 1.2252211141586304\n",
            "\u001b[92mINFO \u001b[0m:      \t\tround 23: 1.2152475173950195\n",
            "\u001b[92mINFO \u001b[0m:      \t\tround 24: 1.201203056716919\n",
            "\u001b[92mINFO \u001b[0m:      \t\tround 25: 1.1923056922912598\n",
            "\u001b[92mINFO \u001b[0m:      \t\tround 26: 1.1777034944534301\n",
            "\u001b[92mINFO \u001b[0m:      \t\tround 27: 1.1744317781448363\n",
            "\u001b[92mINFO \u001b[0m:      \t\tround 28: 1.1596173343658447\n",
            "\u001b[92mINFO \u001b[0m:      \t\tround 29: 1.1496053596496583\n",
            "\u001b[92mINFO \u001b[0m:      \t\tround 30: 1.144148496246338\n",
            "\u001b[92mINFO \u001b[0m:      \t\tround 31: 1.1345820014953614\n",
            "\u001b[92mINFO \u001b[0m:      \t\tround 32: 1.129279952430725\n",
            "\u001b[92mINFO \u001b[0m:      \t\tround 33: 1.122243909263611\n",
            "\u001b[92mINFO \u001b[0m:      \t\tround 34: 1.1078289751052857\n",
            "\u001b[92mINFO \u001b[0m:      \t\tround 35: 1.100881986808777\n",
            "\u001b[92mINFO \u001b[0m:      \t\tround 36: 1.097139370918274\n",
            "\u001b[92mINFO \u001b[0m:      \t\tround 37: 1.0883130218505859\n",
            "\u001b[92mINFO \u001b[0m:      \t\tround 38: 1.0860944654464721\n",
            "\u001b[92mINFO \u001b[0m:      \t\tround 39: 1.0723757434844972\n",
            "\u001b[92mINFO \u001b[0m:      \t\tround 40: 1.0695513000488281\n",
            "\u001b[92mINFO \u001b[0m:      \t\tround 41: 1.062171057319641\n",
            "\u001b[92mINFO \u001b[0m:      \t\tround 42: 1.0542758478164673\n",
            "\u001b[92mINFO \u001b[0m:      \t\tround 43: 1.0512939343452454\n",
            "\u001b[92mINFO \u001b[0m:      \t\tround 44: 1.0462429986953736\n",
            "\u001b[92mINFO \u001b[0m:      \t\tround 45: 1.0461399906158446\n",
            "\u001b[92mINFO \u001b[0m:      \t\tround 46: 1.0395710475921631\n",
            "\u001b[92mINFO \u001b[0m:      \t\tround 47: 1.0367542642593384\n",
            "\u001b[92mINFO \u001b[0m:      \t\tround 48: 1.0242113134384154\n",
            "\u001b[92mINFO \u001b[0m:      \t\tround 49: 1.0204152874946595\n",
            "\u001b[92mINFO \u001b[0m:      \t\tround 50: 1.0167280239105225\n",
            "\u001b[92mINFO \u001b[0m:      \tHistory (metrics, distributed, fit):\n",
            "\u001b[92mINFO \u001b[0m:      \t{'bytes sent': [(1, 116746507.0),\n",
            "\u001b[92mINFO \u001b[0m:      \t                (2, 116746507.0),\n",
            "\u001b[92mINFO \u001b[0m:      \t                (3, 116746507.0),\n",
            "\u001b[92mINFO \u001b[0m:      \t                (4, 116746507.0),\n",
            "\u001b[92mINFO \u001b[0m:      \t                (5, 116746507.0),\n",
            "\u001b[92mINFO \u001b[0m:      \t                (6, 116746507.0),\n",
            "\u001b[92mINFO \u001b[0m:      \t                (7, 116746507.0),\n",
            "\u001b[92mINFO \u001b[0m:      \t                (8, 116746507.0),\n",
            "\u001b[92mINFO \u001b[0m:      \t                (9, 116746507.0),\n",
            "\u001b[92mINFO \u001b[0m:      \t                (10, 116746507.0),\n",
            "\u001b[92mINFO \u001b[0m:      \t                (11, 116746507.0),\n",
            "\u001b[92mINFO \u001b[0m:      \t                (12, 116746507.0),\n",
            "\u001b[92mINFO \u001b[0m:      \t                (13, 116746507.0),\n",
            "\u001b[92mINFO \u001b[0m:      \t                (14, 116746507.0),\n",
            "\u001b[92mINFO \u001b[0m:      \t                (15, 116746507.0),\n",
            "\u001b[92mINFO \u001b[0m:      \t                (16, 116746507.0),\n",
            "\u001b[92mINFO \u001b[0m:      \t                (17, 116746507.0),\n",
            "\u001b[92mINFO \u001b[0m:      \t                (18, 116746507.0),\n",
            "\u001b[92mINFO \u001b[0m:      \t                (19, 116746507.0),\n",
            "\u001b[92mINFO \u001b[0m:      \t                (20, 116746507.0),\n",
            "\u001b[92mINFO \u001b[0m:      \t                (21, 116746507.0),\n",
            "\u001b[92mINFO \u001b[0m:      \t                (22, 116746507.0),\n",
            "\u001b[92mINFO \u001b[0m:      \t                (23, 116746507.0),\n",
            "\u001b[92mINFO \u001b[0m:      \t                (24, 116746507.0),\n",
            "\u001b[92mINFO \u001b[0m:      \t                (25, 116746507.0),\n",
            "\u001b[92mINFO \u001b[0m:      \t                (26, 116746507.0),\n",
            "\u001b[92mINFO \u001b[0m:      \t                (27, 116746507.0),\n",
            "\u001b[92mINFO \u001b[0m:      \t                (28, 116746507.0),\n",
            "\u001b[92mINFO \u001b[0m:      \t                (29, 116746507.0),\n",
            "\u001b[92mINFO \u001b[0m:      \t                (30, 116746507.0),\n",
            "\u001b[92mINFO \u001b[0m:      \t                (31, 116746507.0),\n",
            "\u001b[92mINFO \u001b[0m:      \t                (32, 116746507.0),\n",
            "\u001b[92mINFO \u001b[0m:      \t                (33, 116746507.0),\n",
            "\u001b[92mINFO \u001b[0m:      \t                (34, 116746507.0),\n",
            "\u001b[92mINFO \u001b[0m:      \t                (35, 116746507.0),\n",
            "\u001b[92mINFO \u001b[0m:      \t                (36, 116746507.0),\n",
            "\u001b[92mINFO \u001b[0m:      \t                (37, 116746507.0),\n",
            "\u001b[92mINFO \u001b[0m:      \t                (38, 116746507.0),\n",
            "\u001b[92mINFO \u001b[0m:      \t                (39, 116746507.0),\n",
            "\u001b[92mINFO \u001b[0m:      \t                (40, 116746507.0),\n",
            "\u001b[92mINFO \u001b[0m:      \t                (41, 116746507.0),\n",
            "\u001b[92mINFO \u001b[0m:      \t                (42, 116746507.0),\n",
            "\u001b[92mINFO \u001b[0m:      \t                (43, 116746507.0),\n",
            "\u001b[92mINFO \u001b[0m:      \t                (44, 116746507.0),\n",
            "\u001b[92mINFO \u001b[0m:      \t                (45, 116746507.0),\n",
            "\u001b[92mINFO \u001b[0m:      \t                (46, 116746507.0),\n",
            "\u001b[92mINFO \u001b[0m:      \t                (47, 116746507.0),\n",
            "\u001b[92mINFO \u001b[0m:      \t                (48, 116746507.0),\n",
            "\u001b[92mINFO \u001b[0m:      \t                (49, 116746507.0),\n",
            "\u001b[92mINFO \u001b[0m:      \t                (50, 116746507.0)]}\n",
            "\u001b[92mINFO \u001b[0m:      \tHistory (metrics, distributed, evaluate):\n",
            "\u001b[92mINFO \u001b[0m:      \t{'accuracy': [(1, 0.2765),\n",
            "\u001b[92mINFO \u001b[0m:      \t              (2, 0.327),\n",
            "\u001b[92mINFO \u001b[0m:      \t              (3, 0.35600000000000004),\n",
            "\u001b[92mINFO \u001b[0m:      \t              (4, 0.38299999999999995),\n",
            "\u001b[92mINFO \u001b[0m:      \t              (5, 0.4135),\n",
            "\u001b[92mINFO \u001b[0m:      \t              (6, 0.4325),\n",
            "\u001b[92mINFO \u001b[0m:      \t              (7, 0.4405),\n",
            "\u001b[92mINFO \u001b[0m:      \t              (8, 0.45),\n",
            "\u001b[92mINFO \u001b[0m:      \t              (9, 0.451),\n",
            "\u001b[92mINFO \u001b[0m:      \t              (10, 0.45999999999999996),\n",
            "\u001b[92mINFO \u001b[0m:      \t              (11, 0.46699999999999997),\n",
            "\u001b[92mINFO \u001b[0m:      \t              (12, 0.4775),\n",
            "\u001b[92mINFO \u001b[0m:      \t              (13, 0.4855),\n",
            "\u001b[92mINFO \u001b[0m:      \t              (14, 0.491),\n",
            "\u001b[92mINFO \u001b[0m:      \t              (15, 0.4965),\n",
            "\u001b[92mINFO \u001b[0m:      \t              (16, 0.5115000000000001),\n",
            "\u001b[92mINFO \u001b[0m:      \t              (17, 0.5165),\n",
            "\u001b[92mINFO \u001b[0m:      \t              (18, 0.527),\n",
            "\u001b[92mINFO \u001b[0m:      \t              (19, 0.523),\n",
            "\u001b[92mINFO \u001b[0m:      \t              (20, 0.5345),\n",
            "\u001b[92mINFO \u001b[0m:      \t              (21, 0.535),\n",
            "\u001b[92mINFO \u001b[0m:      \t              (22, 0.5445),\n",
            "\u001b[92mINFO \u001b[0m:      \t              (23, 0.548),\n",
            "\u001b[92mINFO \u001b[0m:      \t              (24, 0.5535),\n",
            "\u001b[92mINFO \u001b[0m:      \t              (25, 0.5455),\n",
            "\u001b[92mINFO \u001b[0m:      \t              (26, 0.552),\n",
            "\u001b[92mINFO \u001b[0m:      \t              (27, 0.558),\n",
            "\u001b[92mINFO \u001b[0m:      \t              (28, 0.5655000000000001),\n",
            "\u001b[92mINFO \u001b[0m:      \t              (29, 0.5715),\n",
            "\u001b[92mINFO \u001b[0m:      \t              (30, 0.5750000000000001),\n",
            "\u001b[92mINFO \u001b[0m:      \t              (31, 0.576),\n",
            "\u001b[92mINFO \u001b[0m:      \t              (32, 0.574),\n",
            "\u001b[92mINFO \u001b[0m:      \t              (33, 0.5745),\n",
            "\u001b[92mINFO \u001b[0m:      \t              (34, 0.58),\n",
            "\u001b[92mINFO \u001b[0m:      \t              (35, 0.583),\n",
            "\u001b[92mINFO \u001b[0m:      \t              (36, 0.593),\n",
            "\u001b[92mINFO \u001b[0m:      \t              (37, 0.597),\n",
            "\u001b[92mINFO \u001b[0m:      \t              (38, 0.5855),\n",
            "\u001b[92mINFO \u001b[0m:      \t              (39, 0.5985),\n",
            "\u001b[92mINFO \u001b[0m:      \t              (40, 0.5975),\n",
            "\u001b[92mINFO \u001b[0m:      \t              (41, 0.607),\n",
            "\u001b[92mINFO \u001b[0m:      \t              (42, 0.6044999999999999),\n",
            "\u001b[92mINFO \u001b[0m:      \t              (43, 0.6005),\n",
            "\u001b[92mINFO \u001b[0m:      \t              (44, 0.6045),\n",
            "\u001b[92mINFO \u001b[0m:      \t              (45, 0.6035),\n",
            "\u001b[92mINFO \u001b[0m:      \t              (46, 0.6145),\n",
            "\u001b[92mINFO \u001b[0m:      \t              (47, 0.609),\n",
            "\u001b[92mINFO \u001b[0m:      \t              (48, 0.6114999999999999),\n",
            "\u001b[92mINFO \u001b[0m:      \t              (49, 0.6165),\n",
            "\u001b[92mINFO \u001b[0m:      \t              (50, 0.624)]}\n",
            "\u001b[92mINFO \u001b[0m:      \tHistory (metrics, centralized):\n",
            "\u001b[92mINFO \u001b[0m:      \t{'accuracy': [(0, 0.1),\n",
            "\u001b[92mINFO \u001b[0m:      \t              (1, 0.3101),\n",
            "\u001b[92mINFO \u001b[0m:      \t              (2, 0.3572),\n",
            "\u001b[92mINFO \u001b[0m:      \t              (3, 0.3848),\n",
            "\u001b[92mINFO \u001b[0m:      \t              (4, 0.4097),\n",
            "\u001b[92mINFO \u001b[0m:      \t              (5, 0.4326),\n",
            "\u001b[92mINFO \u001b[0m:      \t              (6, 0.4459),\n",
            "\u001b[92mINFO \u001b[0m:      \t              (7, 0.4604),\n",
            "\u001b[92mINFO \u001b[0m:      \t              (8, 0.4726),\n",
            "\u001b[92mINFO \u001b[0m:      \t              (9, 0.4816),\n",
            "\u001b[92mINFO \u001b[0m:      \t              (10, 0.4927),\n",
            "\u001b[92mINFO \u001b[0m:      \t              (11, 0.5033),\n",
            "\u001b[92mINFO \u001b[0m:      \t              (12, 0.5103),\n",
            "\u001b[92mINFO \u001b[0m:      \t              (13, 0.5178),\n",
            "\u001b[92mINFO \u001b[0m:      \t              (14, 0.5246),\n",
            "\u001b[92mINFO \u001b[0m:      \t              (15, 0.5309),\n",
            "\u001b[92mINFO \u001b[0m:      \t              (16, 0.5365),\n",
            "\u001b[92mINFO \u001b[0m:      \t              (17, 0.5395),\n",
            "\u001b[92mINFO \u001b[0m:      \t              (18, 0.548),\n",
            "\u001b[92mINFO \u001b[0m:      \t              (19, 0.5487),\n",
            "\u001b[92mINFO \u001b[0m:      \t              (20, 0.5572),\n",
            "\u001b[92mINFO \u001b[0m:      \t              (21, 0.5634),\n",
            "\u001b[92mINFO \u001b[0m:      \t              (22, 0.5658),\n",
            "\u001b[92mINFO \u001b[0m:      \t              (23, 0.5704),\n",
            "\u001b[92mINFO \u001b[0m:      \t              (24, 0.5735),\n",
            "\u001b[92mINFO \u001b[0m:      \t              (25, 0.5756),\n",
            "\u001b[92mINFO \u001b[0m:      \t              (26, 0.5797),\n",
            "\u001b[92mINFO \u001b[0m:      \t              (27, 0.5848),\n",
            "\u001b[92mINFO \u001b[0m:      \t              (28, 0.5903),\n",
            "\u001b[92mINFO \u001b[0m:      \t              (29, 0.5933),\n",
            "\u001b[92mINFO \u001b[0m:      \t              (30, 0.5946),\n",
            "\u001b[92mINFO \u001b[0m:      \t              (31, 0.5985),\n",
            "\u001b[92mINFO \u001b[0m:      \t              (32, 0.6016),\n",
            "\u001b[92mINFO \u001b[0m:      \t              (33, 0.6014),\n",
            "\u001b[92mINFO \u001b[0m:      \t              (34, 0.6077),\n",
            "\u001b[92mINFO \u001b[0m:      \t              (35, 0.6114),\n",
            "\u001b[92mINFO \u001b[0m:      \t              (36, 0.6138),\n",
            "\u001b[92mINFO \u001b[0m:      \t              (37, 0.6154),\n",
            "\u001b[92mINFO \u001b[0m:      \t              (38, 0.6116),\n",
            "\u001b[92mINFO \u001b[0m:      \t              (39, 0.624),\n",
            "\u001b[92mINFO \u001b[0m:      \t              (40, 0.624),\n",
            "\u001b[92mINFO \u001b[0m:      \t              (41, 0.6292),\n",
            "\u001b[92mINFO \u001b[0m:      \t              (42, 0.6305),\n",
            "\u001b[92mINFO \u001b[0m:      \t              (43, 0.6306),\n",
            "\u001b[92mINFO \u001b[0m:      \t              (44, 0.6315),\n",
            "\u001b[92mINFO \u001b[0m:      \t              (45, 0.6326),\n",
            "\u001b[92mINFO \u001b[0m:      \t              (46, 0.6355),\n",
            "\u001b[92mINFO \u001b[0m:      \t              (47, 0.6316),\n",
            "\u001b[92mINFO \u001b[0m:      \t              (48, 0.6383),\n",
            "\u001b[92mINFO \u001b[0m:      \t              (49, 0.6406),\n",
            "\u001b[92mINFO \u001b[0m:      \t              (50, 0.6413)]}\n",
            "\u001b[92mINFO \u001b[0m:      \n",
            "\u001b[92mINFO \u001b[0m:      Starting Flower simulation, config: num_rounds=50, no round_timeout\n"
          ]
        },
        {
          "name": "stdout",
          "output_type": "stream",
          "text": [
            "Running simulation with pruning rate: 0.1\n",
            "\u001b[36m(ClientAppActor pid=192530)\u001b[0m [Client 1] evaluate, config: {}\u001b[32m [repeated 3x across cluster]\u001b[0m\n"
          ]
        },
        {
          "name": "stderr",
          "output_type": "stream",
          "text": [
            "2024-07-25 20:28:39,367\tINFO worker.py:1752 -- Started a local Ray instance.\n",
            "\u001b[92mINFO \u001b[0m:      Flower VCE: Ray initialized with resources: {'CPU': 40.0, 'node:10.8.0.3': 1.0, 'memory': 863798156288.0, 'object_store_memory': 200000000000.0, 'GPU': 3.0, 'node:__internal_head__': 1.0, 'accelerator_type:RTX': 1.0}\n",
            "\u001b[92mINFO \u001b[0m:      Optimize your simulation with Flower VCE: https://flower.ai/docs/framework/how-to-run-simulations.html\n",
            "\u001b[92mINFO \u001b[0m:      No `client_resources` specified. Using minimal resources for clients.\n",
            "\u001b[92mINFO \u001b[0m:      Flower VCE: Resources for each Virtual Client: {'num_cpus': 1, 'num_gpus': 0.0}\n",
            "\u001b[92mINFO \u001b[0m:      Flower VCE: Creating VirtualClientEngineActorPool with 40 actors\n",
            "\u001b[92mINFO \u001b[0m:      [INIT]\n",
            "\u001b[92mINFO \u001b[0m:      Requesting initial parameters from one random client\n"
          ]
        },
        {
          "name": "stdout",
          "output_type": "stream",
          "text": [
            "\u001b[36m(ClientAppActor pid=287323)\u001b[0m [Client 2] get_parameters\n"
          ]
        },
        {
          "name": "stderr",
          "output_type": "stream",
          "text": [
            "\u001b[92mINFO \u001b[0m:      Received initial parameters from one random client\n",
            "\u001b[92mINFO \u001b[0m:      Evaluating initial global parameters\n",
            "\u001b[92mINFO \u001b[0m:      initial parameters (loss, other metrics): 2.310616931915283, {'accuracy': 0.0584}\n",
            "\u001b[92mINFO \u001b[0m:      \n",
            "\u001b[92mINFO \u001b[0m:      [ROUND 1]\n",
            "\u001b[92mINFO \u001b[0m:      configure_fit: strategy sampled 4 clients (out of 4)\n"
          ]
        },
        {
          "name": "stdout",
          "output_type": "stream",
          "text": [
            "\u001b[36m(ClientAppActor pid=287323)\u001b[0m [Client 1] fit, config: {}\n",
            "\u001b[36m(ClientAppActor pid=287321)\u001b[0m [Client 3] fit, config: {}\u001b[32m [repeated 2x across cluster]\u001b[0m\n",
            "\u001b[36m(ClientAppActor pid=287323)\u001b[0m Epoch 1: train loss 2.103102123472426, accuracy 0.22555555555555556\n",
            "\u001b[36m(ClientAppActor pid=287320)\u001b[0m [Client 2] fit, config: {}\n",
            "\u001b[36m(ClientAppActor pid=287321)\u001b[0m Epoch 1: train loss 2.113854295518663, accuracy 0.22355555555555556\n",
            "\u001b[36m(ClientAppActor pid=287320)\u001b[0m Epoch 1: train loss 2.1090167695151436, accuracy 0.22466666666666665\n"
          ]
        },
        {
          "name": "stderr",
          "output_type": "stream",
          "text": [
            "\u001b[92mINFO \u001b[0m:      aggregate_fit: received 4 results and 0 failures\n",
            "\u001b[92mINFO \u001b[0m:      fit progress: (1, 1.9339944255828858, {'accuracy': 0.3092}, 379.32524375081994)\n",
            "\u001b[92mINFO \u001b[0m:      configure_evaluate: strategy sampled 4 clients (out of 4)\n"
          ]
        },
        {
          "name": "stdout",
          "output_type": "stream",
          "text": [
            "\u001b[36m(ClientAppActor pid=287322)\u001b[0m [Client 3] evaluate, config: {}\n",
            "\u001b[36m(ClientAppActor pid=287322)\u001b[0m Epoch 1: train loss 2.118867190890842, accuracy 0.2222222222222222\n"
          ]
        },
        {
          "name": "stderr",
          "output_type": "stream",
          "text": [
            "\u001b[92mINFO \u001b[0m:      aggregate_evaluate: received 4 results and 0 failures\n",
            "\u001b[92mINFO \u001b[0m:      \n",
            "\u001b[92mINFO \u001b[0m:      [ROUND 2]\n",
            "\u001b[92mINFO \u001b[0m:      configure_fit: strategy sampled 4 clients (out of 4)\n"
          ]
        },
        {
          "name": "stdout",
          "output_type": "stream",
          "text": [
            "\u001b[36m(ClientAppActor pid=287323)\u001b[0m [Client 1] fit, config: {}\n",
            "\u001b[36m(ClientAppActor pid=287323)\u001b[0m [Client 1] evaluate, config: {}\u001b[32m [repeated 3x across cluster]\u001b[0m\n",
            "\u001b[36m(ClientAppActor pid=287323)\u001b[0m Epoch 1: train loss 1.876288058069017, accuracy 0.33755555555555555\n",
            "\u001b[36m(ClientAppActor pid=287322)\u001b[0m [Client 0] fit, config: {}\u001b[32m [repeated 3x across cluster]\u001b[0m\n",
            "\u001b[36m(ClientAppActor pid=287320)\u001b[0m Epoch 1: train loss 1.8801092607710097, accuracy 0.31666666666666665\u001b[32m [repeated 2x across cluster]\u001b[0m\n"
          ]
        },
        {
          "name": "stderr",
          "output_type": "stream",
          "text": [
            "\u001b[92mINFO \u001b[0m:      aggregate_fit: received 4 results and 0 failures\n",
            "\u001b[92mINFO \u001b[0m:      fit progress: (2, 1.7988666261672974, {'accuracy': 0.3648}, 774.0676938709803)\n",
            "\u001b[92mINFO \u001b[0m:      configure_evaluate: strategy sampled 4 clients (out of 4)\n"
          ]
        },
        {
          "name": "stdout",
          "output_type": "stream",
          "text": [
            "\u001b[36m(ClientAppActor pid=287322)\u001b[0m [Client 1] evaluate, config: {}\n",
            "\u001b[36m(ClientAppActor pid=287322)\u001b[0m Epoch 1: train loss 1.892209277894762, accuracy 0.3293333333333333\n"
          ]
        },
        {
          "name": "stderr",
          "output_type": "stream",
          "text": [
            "\u001b[92mINFO \u001b[0m:      aggregate_evaluate: received 4 results and 0 failures\n",
            "\u001b[92mINFO \u001b[0m:      \n",
            "\u001b[92mINFO \u001b[0m:      [ROUND 3]\n",
            "\u001b[92mINFO \u001b[0m:      configure_fit: strategy sampled 4 clients (out of 4)\n"
          ]
        },
        {
          "name": "stdout",
          "output_type": "stream",
          "text": [
            "\u001b[36m(ClientAppActor pid=287323)\u001b[0m [Client 1] fit, config: {}\n",
            "\u001b[36m(ClientAppActor pid=287323)\u001b[0m [Client 3] evaluate, config: {}\u001b[32m [repeated 3x across cluster]\u001b[0m\n",
            "\u001b[36m(ClientAppActor pid=287323)\u001b[0m Epoch 1: train loss 1.7586234980689155, accuracy 0.38\n",
            "\u001b[36m(ClientAppActor pid=287322)\u001b[0m [Client 0] fit, config: {}\u001b[32m [repeated 3x across cluster]\u001b[0m\n",
            "\u001b[36m(ClientAppActor pid=287321)\u001b[0m Epoch 1: train loss 1.774172110027737, accuracy 0.3675555555555556\n",
            "\u001b[36m(ClientAppActor pid=287320)\u001b[0m Epoch 1: train loss 1.7743042727576361, accuracy 0.36533333333333334\n"
          ]
        },
        {
          "name": "stderr",
          "output_type": "stream",
          "text": [
            "\u001b[92mINFO \u001b[0m:      aggregate_fit: received 4 results and 0 failures\n",
            "\u001b[92mINFO \u001b[0m:      fit progress: (3, 1.7044036014556885, {'accuracy': 0.4013}, 1162.7424391899258)\n",
            "\u001b[92mINFO \u001b[0m:      configure_evaluate: strategy sampled 4 clients (out of 4)\n"
          ]
        },
        {
          "name": "stdout",
          "output_type": "stream",
          "text": [
            "\u001b[36m(ClientAppActor pid=287322)\u001b[0m [Client 2] evaluate, config: {}\n",
            "\u001b[36m(ClientAppActor pid=287322)\u001b[0m Epoch 1: train loss 1.7778272160424127, accuracy 0.37733333333333335\n"
          ]
        },
        {
          "name": "stderr",
          "output_type": "stream",
          "text": [
            "\u001b[92mINFO \u001b[0m:      aggregate_evaluate: received 4 results and 0 failures\n",
            "\u001b[92mINFO \u001b[0m:      \n",
            "\u001b[92mINFO \u001b[0m:      [ROUND 4]\n",
            "\u001b[92mINFO \u001b[0m:      configure_fit: strategy sampled 4 clients (out of 4)\n"
          ]
        },
        {
          "name": "stdout",
          "output_type": "stream",
          "text": [
            "\u001b[36m(ClientAppActor pid=287323)\u001b[0m [Client 1] fit, config: {}\n",
            "\u001b[36m(ClientAppActor pid=287323)\u001b[0m [Client 1] evaluate, config: {}\u001b[32m [repeated 3x across cluster]\u001b[0m\n",
            "\u001b[36m(ClientAppActor pid=287323)\u001b[0m Epoch 1: train loss 1.6750303835339015, accuracy 0.4031111111111111\n",
            "\u001b[36m(ClientAppActor pid=287322)\u001b[0m [Client 3] fit, config: {}\u001b[32m [repeated 3x across cluster]\u001b[0m\n",
            "\u001b[36m(ClientAppActor pid=287320)\u001b[0m Epoch 1: train loss 1.6865027900271945, accuracy 0.416\u001b[32m [repeated 2x across cluster]\u001b[0m\n",
            "\u001b[36m(ClientAppActor pid=287322)\u001b[0m Epoch 1: train loss 1.687281721750895, accuracy 0.4017777777777778\n"
          ]
        },
        {
          "name": "stderr",
          "output_type": "stream",
          "text": [
            "\u001b[92mINFO \u001b[0m:      aggregate_fit: received 4 results and 0 failures\n",
            "\u001b[92mINFO \u001b[0m:      fit progress: (4, 1.6266125591278076, {'accuracy': 0.4304}, 1569.7507386258803)\n",
            "\u001b[92mINFO \u001b[0m:      configure_evaluate: strategy sampled 4 clients (out of 4)\n"
          ]
        },
        {
          "name": "stdout",
          "output_type": "stream",
          "text": [
            "\u001b[36m(ClientAppActor pid=287322)\u001b[0m [Client 0] evaluate, config: {}\n"
          ]
        },
        {
          "name": "stderr",
          "output_type": "stream",
          "text": [
            "\u001b[92mINFO \u001b[0m:      aggregate_evaluate: received 4 results and 0 failures\n",
            "\u001b[92mINFO \u001b[0m:      \n",
            "\u001b[92mINFO \u001b[0m:      [ROUND 5]\n",
            "\u001b[92mINFO \u001b[0m:      configure_fit: strategy sampled 4 clients (out of 4)\n"
          ]
        },
        {
          "name": "stdout",
          "output_type": "stream",
          "text": [
            "\u001b[36m(ClientAppActor pid=287323)\u001b[0m [Client 3] fit, config: {}\n",
            "\u001b[36m(ClientAppActor pid=287323)\u001b[0m [Client 3] evaluate, config: {}\u001b[32m [repeated 3x across cluster]\u001b[0m\n",
            "\u001b[36m(ClientAppActor pid=287323)\u001b[0m Epoch 1: train loss 1.6182262751261394, accuracy 0.42933333333333334\n",
            "\u001b[36m(ClientAppActor pid=287322)\u001b[0m [Client 0] fit, config: {}\u001b[32m [repeated 3x across cluster]\u001b[0m\n",
            "\u001b[36m(ClientAppActor pid=287320)\u001b[0m Epoch 1: train loss 1.6276380234824286, accuracy 0.42488888888888887\u001b[32m [repeated 2x across cluster]\u001b[0m\n"
          ]
        },
        {
          "name": "stderr",
          "output_type": "stream",
          "text": [
            "\u001b[92mINFO \u001b[0m:      aggregate_fit: received 4 results and 0 failures\n",
            "\u001b[92mINFO \u001b[0m:      fit progress: (5, 1.569814175415039, {'accuracy': 0.4462}, 1957.4175427088048)\n",
            "\u001b[92mINFO \u001b[0m:      configure_evaluate: strategy sampled 4 clients (out of 4)\n"
          ]
        },
        {
          "name": "stdout",
          "output_type": "stream",
          "text": [
            "\u001b[36m(ClientAppActor pid=287322)\u001b[0m [Client 1] evaluate, config: {}\n",
            "\u001b[36m(ClientAppActor pid=287322)\u001b[0m Epoch 1: train loss 1.6178757415347629, accuracy 0.4368888888888889\n"
          ]
        },
        {
          "name": "stderr",
          "output_type": "stream",
          "text": [
            "\u001b[92mINFO \u001b[0m:      aggregate_evaluate: received 4 results and 0 failures\n",
            "\u001b[92mINFO \u001b[0m:      \n",
            "\u001b[92mINFO \u001b[0m:      [ROUND 6]\n",
            "\u001b[92mINFO \u001b[0m:      configure_fit: strategy sampled 4 clients (out of 4)\n"
          ]
        },
        {
          "name": "stdout",
          "output_type": "stream",
          "text": [
            "\u001b[36m(ClientAppActor pid=287323)\u001b[0m [Client 3] fit, config: {}\n",
            "\u001b[36m(ClientAppActor pid=287323)\u001b[0m [Client 0] evaluate, config: {}\u001b[32m [repeated 3x across cluster]\u001b[0m\n",
            "\u001b[36m(ClientAppActor pid=287321)\u001b[0m Epoch 1: train loss 1.5674261224534776, accuracy 0.44333333333333336\n",
            "\u001b[36m(ClientAppActor pid=287322)\u001b[0m [Client 0] fit, config: {}\u001b[32m [repeated 3x across cluster]\u001b[0m\n",
            "\u001b[36m(ClientAppActor pid=287320)\u001b[0m Epoch 1: train loss 1.5385192886988321, accuracy 0.4642222222222222\u001b[32m [repeated 2x across cluster]\u001b[0m\n"
          ]
        },
        {
          "name": "stderr",
          "output_type": "stream",
          "text": [
            "\u001b[92mINFO \u001b[0m:      aggregate_fit: received 4 results and 0 failures\n",
            "\u001b[92mINFO \u001b[0m:      fit progress: (6, 1.5183927597045899, {'accuracy': 0.4631}, 2345.4137904657982)\n",
            "\u001b[92mINFO \u001b[0m:      configure_evaluate: strategy sampled 4 clients (out of 4)\n"
          ]
        },
        {
          "name": "stdout",
          "output_type": "stream",
          "text": [
            "\u001b[36m(ClientAppActor pid=287322)\u001b[0m [Client 1] evaluate, config: {}\n",
            "\u001b[36m(ClientAppActor pid=287322)\u001b[0m Epoch 1: train loss 1.5617528483072918, accuracy 0.45755555555555555\n"
          ]
        },
        {
          "name": "stderr",
          "output_type": "stream",
          "text": [
            "\u001b[92mINFO \u001b[0m:      aggregate_evaluate: received 4 results and 0 failures\n",
            "\u001b[92mINFO \u001b[0m:      \n",
            "\u001b[92mINFO \u001b[0m:      [ROUND 7]\n",
            "\u001b[92mINFO \u001b[0m:      configure_fit: strategy sampled 4 clients (out of 4)\n"
          ]
        },
        {
          "name": "stdout",
          "output_type": "stream",
          "text": [
            "\u001b[36m(ClientAppActor pid=287321)\u001b[0m [Client 2] fit, config: {}\n",
            "\u001b[36m(ClientAppActor pid=287321)\u001b[0m [Client 3] evaluate, config: {}\u001b[32m [repeated 3x across cluster]\u001b[0m\n",
            "\u001b[36m(ClientAppActor pid=287323)\u001b[0m Epoch 1: train loss 1.496264921400282, accuracy 0.4748888888888889\n",
            "\u001b[36m(ClientAppActor pid=287322)\u001b[0m [Client 0] fit, config: {}\u001b[32m [repeated 3x across cluster]\u001b[0m\n",
            "\u001b[36m(ClientAppActor pid=287320)\u001b[0m Epoch 1: train loss 1.5185057559543185, accuracy 0.4657777777777778\n",
            "\u001b[36m(ClientAppActor pid=287321)\u001b[0m Epoch 1: train loss 1.5126343173980712, accuracy 0.4671111111111111\n"
          ]
        },
        {
          "name": "stderr",
          "output_type": "stream",
          "text": [
            "\u001b[92mINFO \u001b[0m:      aggregate_fit: received 4 results and 0 failures\n",
            "\u001b[92mINFO \u001b[0m:      fit progress: (7, 1.4806231258392335, {'accuracy': 0.469}, 2738.2954957529437)\n",
            "\u001b[92mINFO \u001b[0m:      configure_evaluate: strategy sampled 4 clients (out of 4)\n"
          ]
        },
        {
          "name": "stdout",
          "output_type": "stream",
          "text": [
            "\u001b[36m(ClientAppActor pid=287322)\u001b[0m [Client 1] evaluate, config: {}\n",
            "\u001b[36m(ClientAppActor pid=287322)\u001b[0m Epoch 1: train loss 1.5115430172814264, accuracy 0.48688888888888887\n"
          ]
        },
        {
          "name": "stderr",
          "output_type": "stream",
          "text": [
            "\u001b[92mINFO \u001b[0m:      aggregate_evaluate: received 4 results and 0 failures\n",
            "\u001b[92mINFO \u001b[0m:      \n",
            "\u001b[92mINFO \u001b[0m:      [ROUND 8]\n",
            "\u001b[92mINFO \u001b[0m:      configure_fit: strategy sampled 4 clients (out of 4)\n"
          ]
        },
        {
          "name": "stdout",
          "output_type": "stream",
          "text": [
            "\u001b[36m(ClientAppActor pid=287323)\u001b[0m [Client 0] fit, config: {}\n",
            "\u001b[36m(ClientAppActor pid=287323)\u001b[0m [Client 2] evaluate, config: {}\u001b[32m [repeated 3x across cluster]\u001b[0m\n",
            "\u001b[36m(ClientAppActor pid=287323)\u001b[0m Epoch 1: train loss 1.4651457078721788, accuracy 0.498\n",
            "\u001b[36m(ClientAppActor pid=287322)\u001b[0m [Client 1] fit, config: {}\u001b[32m [repeated 3x across cluster]\u001b[0m\n",
            "\u001b[36m(ClientAppActor pid=287320)\u001b[0m Epoch 1: train loss 1.475819953918457, accuracy 0.47444444444444445\u001b[32m [repeated 2x across cluster]\u001b[0m\n"
          ]
        },
        {
          "name": "stderr",
          "output_type": "stream",
          "text": [
            "\u001b[92mINFO \u001b[0m:      aggregate_fit: received 4 results and 0 failures\n",
            "\u001b[92mINFO \u001b[0m:      fit progress: (8, 1.4474051218032837, {'accuracy': 0.4824}, 3127.1840925219003)\n",
            "\u001b[92mINFO \u001b[0m:      configure_evaluate: strategy sampled 4 clients (out of 4)\n"
          ]
        },
        {
          "name": "stdout",
          "output_type": "stream",
          "text": [
            "\u001b[36m(ClientAppActor pid=287322)\u001b[0m [Client 2] evaluate, config: {}\n",
            "\u001b[36m(ClientAppActor pid=287322)\u001b[0m Epoch 1: train loss 1.4529127714369032, accuracy 0.48977777777777776\n"
          ]
        },
        {
          "name": "stderr",
          "output_type": "stream",
          "text": [
            "\u001b[92mINFO \u001b[0m:      aggregate_evaluate: received 4 results and 0 failures\n",
            "\u001b[92mINFO \u001b[0m:      \n",
            "\u001b[92mINFO \u001b[0m:      [ROUND 9]\n",
            "\u001b[92mINFO \u001b[0m:      configure_fit: strategy sampled 4 clients (out of 4)\n"
          ]
        },
        {
          "name": "stdout",
          "output_type": "stream",
          "text": [
            "\u001b[36m(ClientAppActor pid=287323)\u001b[0m [Client 0] fit, config: {}\n",
            "\u001b[36m(ClientAppActor pid=287323)\u001b[0m [Client 0] evaluate, config: {}\u001b[32m [repeated 3x across cluster]\u001b[0m\n",
            "\u001b[36m(ClientAppActor pid=287323)\u001b[0m Epoch 1: train loss 1.4285868535571629, accuracy 0.5111111111111111\n",
            "\u001b[36m(ClientAppActor pid=287322)\u001b[0m [Client 2] fit, config: {}\u001b[32m [repeated 3x across cluster]\u001b[0m\n",
            "\u001b[36m(ClientAppActor pid=287320)\u001b[0m Epoch 1: train loss 1.4074619572957356, accuracy 0.5022222222222222\u001b[32m [repeated 2x across cluster]\u001b[0m\n"
          ]
        },
        {
          "name": "stderr",
          "output_type": "stream",
          "text": [
            "\u001b[92mINFO \u001b[0m:      aggregate_fit: received 4 results and 0 failures\n",
            "\u001b[92mINFO \u001b[0m:      fit progress: (9, 1.4226346809387207, {'accuracy': 0.4914}, 3518.3651324678212)\n",
            "\u001b[92mINFO \u001b[0m:      configure_evaluate: strategy sampled 4 clients (out of 4)\n"
          ]
        },
        {
          "name": "stdout",
          "output_type": "stream",
          "text": [
            "\u001b[36m(ClientAppActor pid=287322)\u001b[0m [Client 0] evaluate, config: {}\n",
            "\u001b[36m(ClientAppActor pid=287322)\u001b[0m Epoch 1: train loss 1.4404549389945136, accuracy 0.48444444444444446\n"
          ]
        },
        {
          "name": "stderr",
          "output_type": "stream",
          "text": [
            "\u001b[92mINFO \u001b[0m:      aggregate_evaluate: received 4 results and 0 failures\n",
            "\u001b[92mINFO \u001b[0m:      \n",
            "\u001b[92mINFO \u001b[0m:      [ROUND 10]\n",
            "\u001b[92mINFO \u001b[0m:      configure_fit: strategy sampled 4 clients (out of 4)\n"
          ]
        },
        {
          "name": "stdout",
          "output_type": "stream",
          "text": [
            "\u001b[36m(ClientAppActor pid=287323)\u001b[0m [Client 0] fit, config: {}\n",
            "\u001b[36m(ClientAppActor pid=287323)\u001b[0m [Client 2] evaluate, config: {}\u001b[32m [repeated 3x across cluster]\u001b[0m\n",
            "\u001b[36m(ClientAppActor pid=287323)\u001b[0m Epoch 1: train loss 1.401022023624844, accuracy 0.5126666666666667\n",
            "\u001b[36m(ClientAppActor pid=287322)\u001b[0m [Client 3] fit, config: {}\u001b[32m [repeated 3x across cluster]\u001b[0m\n",
            "\u001b[36m(ClientAppActor pid=287320)\u001b[0m Epoch 1: train loss 1.3786229405932957, accuracy 0.5195555555555555\u001b[32m [repeated 2x across cluster]\u001b[0m\n"
          ]
        },
        {
          "name": "stderr",
          "output_type": "stream",
          "text": [
            "\u001b[92mINFO \u001b[0m:      aggregate_fit: received 4 results and 0 failures\n",
            "\u001b[92mINFO \u001b[0m:      fit progress: (10, 1.3944031053543091, {'accuracy': 0.5047}, 3916.4451133238617)\n",
            "\u001b[92mINFO \u001b[0m:      configure_evaluate: strategy sampled 4 clients (out of 4)\n"
          ]
        },
        {
          "name": "stdout",
          "output_type": "stream",
          "text": [
            "\u001b[36m(ClientAppActor pid=287322)\u001b[0m [Client 1] evaluate, config: {}\n",
            "\u001b[36m(ClientAppActor pid=287322)\u001b[0m Epoch 1: train loss 1.4111629062228732, accuracy 0.4991111111111111\n"
          ]
        },
        {
          "name": "stderr",
          "output_type": "stream",
          "text": [
            "\u001b[92mINFO \u001b[0m:      aggregate_evaluate: received 4 results and 0 failures\n",
            "\u001b[92mINFO \u001b[0m:      \n",
            "\u001b[92mINFO \u001b[0m:      [ROUND 11]\n",
            "\u001b[92mINFO \u001b[0m:      configure_fit: strategy sampled 4 clients (out of 4)\n"
          ]
        },
        {
          "name": "stdout",
          "output_type": "stream",
          "text": [
            "\u001b[36m(ClientAppActor pid=287323)\u001b[0m [Client 3] fit, config: {}\n",
            "\u001b[36m(ClientAppActor pid=287323)\u001b[0m [Client 3] evaluate, config: {}\u001b[32m [repeated 3x across cluster]\u001b[0m\n",
            "\u001b[36m(ClientAppActor pid=287323)\u001b[0m Epoch 1: train loss 1.3816311699549357, accuracy 0.5148888888888888\n",
            "\u001b[36m(ClientAppActor pid=287322)\u001b[0m [Client 1] fit, config: {}\u001b[32m [repeated 3x across cluster]\u001b[0m\n",
            "\u001b[36m(ClientAppActor pid=287321)\u001b[0m Epoch 1: train loss 1.3662994399600559, accuracy 0.5308888888888889\n",
            "\u001b[36m(ClientAppActor pid=287320)\u001b[0m Epoch 1: train loss 1.373790783352322, accuracy 0.5186666666666667\n"
          ]
        },
        {
          "name": "stderr",
          "output_type": "stream",
          "text": [
            "\u001b[92mINFO \u001b[0m:      aggregate_fit: received 4 results and 0 failures\n",
            "\u001b[92mINFO \u001b[0m:      fit progress: (11, 1.375718928527832, {'accuracy': 0.5087}, 4303.928706746781)\n",
            "\u001b[92mINFO \u001b[0m:      configure_evaluate: strategy sampled 4 clients (out of 4)\n"
          ]
        },
        {
          "name": "stdout",
          "output_type": "stream",
          "text": [
            "\u001b[36m(ClientAppActor pid=287322)\u001b[0m [Client 2] evaluate, config: {}\n",
            "\u001b[36m(ClientAppActor pid=287322)\u001b[0m Epoch 1: train loss 1.348278974533081, accuracy 0.5226666666666666\n"
          ]
        },
        {
          "name": "stderr",
          "output_type": "stream",
          "text": [
            "\u001b[92mINFO \u001b[0m:      aggregate_evaluate: received 4 results and 0 failures\n",
            "\u001b[92mINFO \u001b[0m:      \n",
            "\u001b[92mINFO \u001b[0m:      [ROUND 12]\n",
            "\u001b[92mINFO \u001b[0m:      configure_fit: strategy sampled 4 clients (out of 4)\n"
          ]
        },
        {
          "name": "stdout",
          "output_type": "stream",
          "text": [
            "\u001b[36m(ClientAppActor pid=287323)\u001b[0m [Client 2] fit, config: {}\n",
            "\u001b[36m(ClientAppActor pid=287323)\u001b[0m [Client 0] evaluate, config: {}\u001b[32m [repeated 3x across cluster]\u001b[0m\n",
            "\u001b[36m(ClientAppActor pid=287323)\u001b[0m Epoch 1: train loss 1.3525142476823595, accuracy 0.5204444444444445\n",
            "\u001b[36m(ClientAppActor pid=287322)\u001b[0m [Client 0] fit, config: {}\u001b[32m [repeated 3x across cluster]\u001b[0m\n",
            "\u001b[36m(ClientAppActor pid=287320)\u001b[0m Epoch 1: train loss 1.3185335283279418, accuracy 0.5366666666666666\u001b[32m [repeated 2x across cluster]\u001b[0m\n"
          ]
        },
        {
          "name": "stderr",
          "output_type": "stream",
          "text": [
            "\u001b[92mINFO \u001b[0m:      aggregate_fit: received 4 results and 0 failures\n",
            "\u001b[92mINFO \u001b[0m:      fit progress: (12, 1.3535069292068482, {'accuracy': 0.5204}, 4696.648113436997)\n",
            "\u001b[92mINFO \u001b[0m:      configure_evaluate: strategy sampled 4 clients (out of 4)\n"
          ]
        },
        {
          "name": "stdout",
          "output_type": "stream",
          "text": [
            "\u001b[36m(ClientAppActor pid=287322)\u001b[0m [Client 1] evaluate, config: {}\n",
            "\u001b[36m(ClientAppActor pid=287322)\u001b[0m Epoch 1: train loss 1.3419518452750312, accuracy 0.5315555555555556\n"
          ]
        },
        {
          "name": "stderr",
          "output_type": "stream",
          "text": [
            "\u001b[92mINFO \u001b[0m:      aggregate_evaluate: received 4 results and 0 failures\n",
            "\u001b[92mINFO \u001b[0m:      \n",
            "\u001b[92mINFO \u001b[0m:      [ROUND 13]\n",
            "\u001b[92mINFO \u001b[0m:      configure_fit: strategy sampled 4 clients (out of 4)\n"
          ]
        },
        {
          "name": "stdout",
          "output_type": "stream",
          "text": [
            "\u001b[36m(ClientAppActor pid=287323)\u001b[0m [Client 0] fit, config: {}\n",
            "\u001b[36m(ClientAppActor pid=287323)\u001b[0m [Client 2] evaluate, config: {}\u001b[32m [repeated 3x across cluster]\u001b[0m\n",
            "\u001b[36m(ClientAppActor pid=287323)\u001b[0m Epoch 1: train loss 1.3127066583633422, accuracy 0.5448888888888889\n",
            "\u001b[36m(ClientAppActor pid=287322)\u001b[0m [Client 3] fit, config: {}\u001b[32m [repeated 3x across cluster]\u001b[0m\n",
            "\u001b[36m(ClientAppActor pid=287320)\u001b[0m Epoch 1: train loss 1.3286258533265856, accuracy 0.5357777777777778\u001b[32m [repeated 2x across cluster]\u001b[0m\n"
          ]
        },
        {
          "name": "stderr",
          "output_type": "stream",
          "text": [
            "\u001b[92mINFO \u001b[0m:      aggregate_fit: received 4 results and 0 failures\n",
            "\u001b[92mINFO \u001b[0m:      fit progress: (13, 1.3348885509490966, {'accuracy': 0.5234}, 5091.053035370773)\n",
            "\u001b[92mINFO \u001b[0m:      configure_evaluate: strategy sampled 4 clients (out of 4)\n"
          ]
        },
        {
          "name": "stdout",
          "output_type": "stream",
          "text": [
            "\u001b[36m(ClientAppActor pid=287322)\u001b[0m [Client 0] evaluate, config: {}\n",
            "\u001b[36m(ClientAppActor pid=287322)\u001b[0m Epoch 1: train loss 1.3348673130671183, accuracy 0.5375555555555556\n"
          ]
        },
        {
          "name": "stderr",
          "output_type": "stream",
          "text": [
            "\u001b[92mINFO \u001b[0m:      aggregate_evaluate: received 4 results and 0 failures\n",
            "\u001b[92mINFO \u001b[0m:      \n",
            "\u001b[92mINFO \u001b[0m:      [ROUND 14]\n",
            "\u001b[92mINFO \u001b[0m:      configure_fit: strategy sampled 4 clients (out of 4)\n"
          ]
        },
        {
          "name": "stdout",
          "output_type": "stream",
          "text": [
            "\u001b[36m(ClientAppActor pid=287323)\u001b[0m [Client 3] fit, config: {}\n",
            "\u001b[36m(ClientAppActor pid=287323)\u001b[0m [Client 3] evaluate, config: {}\u001b[32m [repeated 3x across cluster]\u001b[0m\n",
            "\u001b[36m(ClientAppActor pid=287323)\u001b[0m Epoch 1: train loss 1.3106984945933025, accuracy 0.5477777777777778\n",
            "\u001b[36m(ClientAppActor pid=287322)\u001b[0m [Client 2] fit, config: {}\u001b[32m [repeated 3x across cluster]\u001b[0m\n",
            "\u001b[36m(ClientAppActor pid=287320)\u001b[0m Epoch 1: train loss 1.292250598165724, accuracy 0.5595555555555556\u001b[32m [repeated 2x across cluster]\u001b[0m\n"
          ]
        },
        {
          "name": "stderr",
          "output_type": "stream",
          "text": [
            "\u001b[92mINFO \u001b[0m:      aggregate_fit: received 4 results and 0 failures\n",
            "\u001b[92mINFO \u001b[0m:      fit progress: (14, 1.3225952993392944, {'accuracy': 0.5327}, 5481.31486011087)\n",
            "\u001b[92mINFO \u001b[0m:      configure_evaluate: strategy sampled 4 clients (out of 4)\n"
          ]
        },
        {
          "name": "stdout",
          "output_type": "stream",
          "text": [
            "\u001b[36m(ClientAppActor pid=287322)\u001b[0m [Client 1] evaluate, config: {}\n",
            "\u001b[36m(ClientAppActor pid=287322)\u001b[0m Epoch 1: train loss 1.300202499601576, accuracy 0.5422222222222223\n"
          ]
        },
        {
          "name": "stderr",
          "output_type": "stream",
          "text": [
            "\u001b[92mINFO \u001b[0m:      aggregate_evaluate: received 4 results and 0 failures\n",
            "\u001b[92mINFO \u001b[0m:      \n",
            "\u001b[92mINFO \u001b[0m:      [ROUND 15]\n",
            "\u001b[92mINFO \u001b[0m:      configure_fit: strategy sampled 4 clients (out of 4)\n"
          ]
        },
        {
          "name": "stdout",
          "output_type": "stream",
          "text": [
            "\u001b[36m(ClientAppActor pid=287323)\u001b[0m [Client 3] fit, config: {}\n",
            "\u001b[36m(ClientAppActor pid=287323)\u001b[0m [Client 3] evaluate, config: {}\u001b[32m [repeated 3x across cluster]\u001b[0m\n",
            "\u001b[36m(ClientAppActor pid=287323)\u001b[0m Epoch 1: train loss 1.2948824558258056, accuracy 0.548\n",
            "\u001b[36m(ClientAppActor pid=287322)\u001b[0m [Client 0] fit, config: {}\u001b[32m [repeated 3x across cluster]\u001b[0m\n",
            "\u001b[36m(ClientAppActor pid=287321)\u001b[0m Epoch 1: train loss 1.283490997420417, accuracy 0.5488888888888889\n",
            "\u001b[36m(ClientAppActor pid=287320)\u001b[0m Epoch 1: train loss 1.254957685576545, accuracy 0.5653333333333334\n",
            "\u001b[36m(ClientAppActor pid=287322)\u001b[0m Epoch 1: train loss 1.2721255848142836, accuracy 0.5646666666666667\n"
          ]
        },
        {
          "name": "stderr",
          "output_type": "stream",
          "text": [
            "\u001b[92mINFO \u001b[0m:      aggregate_fit: received 4 results and 0 failures\n",
            "\u001b[92mINFO \u001b[0m:      fit progress: (15, 1.3033589977264404, {'accuracy': 0.5337}, 5874.726743713953)\n",
            "\u001b[92mINFO \u001b[0m:      configure_evaluate: strategy sampled 4 clients (out of 4)\n"
          ]
        },
        {
          "name": "stdout",
          "output_type": "stream",
          "text": [
            "\u001b[36m(ClientAppActor pid=287322)\u001b[0m [Client 1] evaluate, config: {}\n"
          ]
        },
        {
          "name": "stderr",
          "output_type": "stream",
          "text": [
            "\u001b[92mINFO \u001b[0m:      aggregate_evaluate: received 4 results and 0 failures\n",
            "\u001b[92mINFO \u001b[0m:      \n",
            "\u001b[92mINFO \u001b[0m:      [ROUND 16]\n",
            "\u001b[92mINFO \u001b[0m:      configure_fit: strategy sampled 4 clients (out of 4)\n"
          ]
        },
        {
          "name": "stdout",
          "output_type": "stream",
          "text": [
            "\u001b[36m(ClientAppActor pid=287323)\u001b[0m [Client 2] fit, config: {}\n",
            "\u001b[36m(ClientAppActor pid=287323)\u001b[0m [Client 3] evaluate, config: {}\u001b[32m [repeated 3x across cluster]\u001b[0m\n",
            "\u001b[36m(ClientAppActor pid=287323)\u001b[0m Epoch 1: train loss 1.2625413621266683, accuracy 0.5608888888888889\n",
            "\u001b[36m(ClientAppActor pid=287322)\u001b[0m [Client 3] fit, config: {}\u001b[32m [repeated 3x across cluster]\u001b[0m\n",
            "\u001b[36m(ClientAppActor pid=287320)\u001b[0m Epoch 1: train loss 1.231568371348911, accuracy 0.5737777777777778\u001b[32m [repeated 2x across cluster]\u001b[0m\n"
          ]
        },
        {
          "name": "stderr",
          "output_type": "stream",
          "text": [
            "\u001b[92mINFO \u001b[0m:      aggregate_fit: received 4 results and 0 failures\n",
            "\u001b[92mINFO \u001b[0m:      fit progress: (16, 1.2893765607833862, {'accuracy': 0.5453}, 6264.429494622862)\n",
            "\u001b[92mINFO \u001b[0m:      configure_evaluate: strategy sampled 4 clients (out of 4)\n"
          ]
        },
        {
          "name": "stdout",
          "output_type": "stream",
          "text": [
            "\u001b[36m(ClientAppActor pid=287322)\u001b[0m [Client 3] evaluate, config: {}\n",
            "\u001b[36m(ClientAppActor pid=287322)\u001b[0m Epoch 1: train loss 1.2594829544491237, accuracy 0.5708888888888889\n"
          ]
        },
        {
          "name": "stderr",
          "output_type": "stream",
          "text": [
            "\u001b[92mINFO \u001b[0m:      aggregate_evaluate: received 4 results and 0 failures\n",
            "\u001b[92mINFO \u001b[0m:      \n",
            "\u001b[92mINFO \u001b[0m:      [ROUND 17]\n",
            "\u001b[92mINFO \u001b[0m:      configure_fit: strategy sampled 4 clients (out of 4)\n"
          ]
        },
        {
          "name": "stdout",
          "output_type": "stream",
          "text": [
            "\u001b[36m(ClientAppActor pid=287323)\u001b[0m [Client 3] fit, config: {}\n",
            "\u001b[36m(ClientAppActor pid=287323)\u001b[0m [Client 0] evaluate, config: {}\u001b[32m [repeated 3x across cluster]\u001b[0m\n",
            "\u001b[36m(ClientAppActor pid=287323)\u001b[0m Epoch 1: train loss 1.2463243925836351, accuracy 0.5693333333333334\n",
            "\u001b[36m(ClientAppActor pid=287322)\u001b[0m [Client 1] fit, config: {}\u001b[32m [repeated 3x across cluster]\u001b[0m\n",
            "\u001b[36m(ClientAppActor pid=287320)\u001b[0m Epoch 1: train loss 1.2447328556908501, accuracy 0.5702222222222222\u001b[32m [repeated 2x across cluster]\u001b[0m\n"
          ]
        },
        {
          "name": "stderr",
          "output_type": "stream",
          "text": [
            "\u001b[92mINFO \u001b[0m:      aggregate_fit: received 4 results and 0 failures\n",
            "\u001b[92mINFO \u001b[0m:      fit progress: (17, 1.274260823059082, {'accuracy': 0.5496}, 6654.612402818864)\n",
            "\u001b[92mINFO \u001b[0m:      configure_evaluate: strategy sampled 4 clients (out of 4)\n"
          ]
        },
        {
          "name": "stdout",
          "output_type": "stream",
          "text": [
            "\u001b[36m(ClientAppActor pid=287322)\u001b[0m [Client 2] evaluate, config: {}\n",
            "\u001b[36m(ClientAppActor pid=287322)\u001b[0m Epoch 1: train loss 1.2062752211888632, accuracy 0.5797777777777777\n"
          ]
        },
        {
          "name": "stderr",
          "output_type": "stream",
          "text": [
            "\u001b[92mINFO \u001b[0m:      aggregate_evaluate: received 4 results and 0 failures\n",
            "\u001b[92mINFO \u001b[0m:      \n",
            "\u001b[92mINFO \u001b[0m:      [ROUND 18]\n",
            "\u001b[92mINFO \u001b[0m:      configure_fit: strategy sampled 4 clients (out of 4)\n"
          ]
        },
        {
          "name": "stdout",
          "output_type": "stream",
          "text": [
            "\u001b[36m(ClientAppActor pid=287323)\u001b[0m [Client 0] fit, config: {}\n",
            "\u001b[36m(ClientAppActor pid=287323)\u001b[0m [Client 0] evaluate, config: {}\u001b[32m [repeated 3x across cluster]\u001b[0m\n",
            "\u001b[36m(ClientAppActor pid=287323)\u001b[0m Epoch 1: train loss 1.2023504334555732, accuracy 0.5882222222222222\n",
            "\u001b[36m(ClientAppActor pid=287322)\u001b[0m [Client 2] fit, config: {}\u001b[32m [repeated 3x across cluster]\u001b[0m\n",
            "\u001b[36m(ClientAppActor pid=287321)\u001b[0m Epoch 1: train loss 1.2344186198976306, accuracy 0.5702222222222222\n",
            "\u001b[36m(ClientAppActor pid=287320)\u001b[0m Epoch 1: train loss 1.183247295856476, accuracy 0.5891111111111111\n",
            "\u001b[36m(ClientAppActor pid=287322)\u001b[0m Epoch 1: train loss 1.2208043015797934, accuracy 0.5837777777777777\n"
          ]
        },
        {
          "name": "stderr",
          "output_type": "stream",
          "text": [
            "\u001b[92mINFO \u001b[0m:      aggregate_fit: received 4 results and 0 failures\n",
            "\u001b[92mINFO \u001b[0m:      fit progress: (18, 1.261648603439331, {'accuracy': 0.5546}, 7051.682875026949)\n",
            "\u001b[92mINFO \u001b[0m:      configure_evaluate: strategy sampled 4 clients (out of 4)\n"
          ]
        },
        {
          "name": "stdout",
          "output_type": "stream",
          "text": [
            "\u001b[36m(ClientAppActor pid=287322)\u001b[0m [Client 0] evaluate, config: {}\n"
          ]
        },
        {
          "name": "stderr",
          "output_type": "stream",
          "text": [
            "\u001b[92mINFO \u001b[0m:      aggregate_evaluate: received 4 results and 0 failures\n",
            "\u001b[92mINFO \u001b[0m:      \n",
            "\u001b[92mINFO \u001b[0m:      [ROUND 19]\n",
            "\u001b[92mINFO \u001b[0m:      configure_fit: strategy sampled 4 clients (out of 4)\n"
          ]
        },
        {
          "name": "stdout",
          "output_type": "stream",
          "text": [
            "\u001b[36m(ClientAppActor pid=287323)\u001b[0m [Client 1] fit, config: {}\n",
            "\u001b[36m(ClientAppActor pid=287323)\u001b[0m [Client 2] evaluate, config: {}\u001b[32m [repeated 3x across cluster]\u001b[0m\n",
            "\u001b[36m(ClientAppActor pid=287323)\u001b[0m Epoch 1: train loss 1.1686060339609783, accuracy 0.5986666666666667\n",
            "\u001b[36m(ClientAppActor pid=287322)\u001b[0m [Client 2] fit, config: {}\u001b[32m [repeated 3x across cluster]\u001b[0m\n",
            "\u001b[36m(ClientAppActor pid=287320)\u001b[0m Epoch 1: train loss 1.209088697857327, accuracy 0.5848888888888889\u001b[32m [repeated 2x across cluster]\u001b[0m\n"
          ]
        },
        {
          "name": "stderr",
          "output_type": "stream",
          "text": [
            "\u001b[92mINFO \u001b[0m:      aggregate_fit: received 4 results and 0 failures\n",
            "\u001b[92mINFO \u001b[0m:      fit progress: (19, 1.245079165649414, {'accuracy': 0.5607}, 7441.253836003831)\n",
            "\u001b[92mINFO \u001b[0m:      configure_evaluate: strategy sampled 4 clients (out of 4)\n"
          ]
        },
        {
          "name": "stdout",
          "output_type": "stream",
          "text": [
            "\u001b[36m(ClientAppActor pid=287322)\u001b[0m [Client 0] evaluate, config: {}\n",
            "\u001b[36m(ClientAppActor pid=287322)\u001b[0m Epoch 1: train loss 1.2046438851886325, accuracy 0.5871111111111111\n"
          ]
        },
        {
          "name": "stderr",
          "output_type": "stream",
          "text": [
            "\u001b[92mINFO \u001b[0m:      aggregate_evaluate: received 4 results and 0 failures\n",
            "\u001b[92mINFO \u001b[0m:      \n",
            "\u001b[92mINFO \u001b[0m:      [ROUND 20]\n",
            "\u001b[92mINFO \u001b[0m:      configure_fit: strategy sampled 4 clients (out of 4)\n"
          ]
        },
        {
          "name": "stdout",
          "output_type": "stream",
          "text": [
            "\u001b[36m(ClientAppActor pid=287323)\u001b[0m [Client 3] fit, config: {}\n",
            "\u001b[36m(ClientAppActor pid=287323)\u001b[0m [Client 1] evaluate, config: {}\u001b[32m [repeated 3x across cluster]\u001b[0m\n",
            "\u001b[36m(ClientAppActor pid=287323)\u001b[0m Epoch 1: train loss 1.190072604921129, accuracy 0.5904444444444444\n",
            "\u001b[36m(ClientAppActor pid=287322)\u001b[0m [Client 2] fit, config: {}\u001b[32m [repeated 3x across cluster]\u001b[0m\n",
            "\u001b[36m(ClientAppActor pid=287321)\u001b[0m Epoch 1: train loss 1.1707193367216322, accuracy 0.5957777777777777\n",
            "\u001b[36m(ClientAppActor pid=287320)\u001b[0m Epoch 1: train loss 1.1451854271358914, accuracy 0.6051111111111112\n"
          ]
        },
        {
          "name": "stderr",
          "output_type": "stream",
          "text": [
            "\u001b[92mINFO \u001b[0m:      aggregate_fit: received 4 results and 0 failures\n",
            "\u001b[92mINFO \u001b[0m:      fit progress: (20, 1.2327204772949218, {'accuracy': 0.5648}, 7831.462127374951)\n",
            "\u001b[92mINFO \u001b[0m:      configure_evaluate: strategy sampled 4 clients (out of 4)\n"
          ]
        },
        {
          "name": "stdout",
          "output_type": "stream",
          "text": [
            "\u001b[36m(ClientAppActor pid=287322)\u001b[0m [Client 1] evaluate, config: {}\n",
            "\u001b[36m(ClientAppActor pid=287322)\u001b[0m Epoch 1: train loss 1.1785624270968966, accuracy 0.5995555555555555\n"
          ]
        },
        {
          "name": "stderr",
          "output_type": "stream",
          "text": [
            "\u001b[92mINFO \u001b[0m:      aggregate_evaluate: received 4 results and 0 failures\n",
            "\u001b[92mINFO \u001b[0m:      \n",
            "\u001b[92mINFO \u001b[0m:      [ROUND 21]\n",
            "\u001b[92mINFO \u001b[0m:      configure_fit: strategy sampled 4 clients (out of 4)\n"
          ]
        },
        {
          "name": "stdout",
          "output_type": "stream",
          "text": [
            "\u001b[36m(ClientAppActor pid=287323)\u001b[0m [Client 1] fit, config: {}\n",
            "\u001b[36m(ClientAppActor pid=287323)\u001b[0m [Client 3] evaluate, config: {}\u001b[32m [repeated 3x across cluster]\u001b[0m\n",
            "\u001b[36m(ClientAppActor pid=287323)\u001b[0m Epoch 1: train loss 1.1299459631178115, accuracy 0.6204444444444445\n",
            "\u001b[36m(ClientAppActor pid=287322)\u001b[0m [Client 3] fit, config: {}\u001b[32m [repeated 3x across cluster]\u001b[0m\n",
            "\u001b[36m(ClientAppActor pid=287320)\u001b[0m Epoch 1: train loss 1.1472739856508043, accuracy 0.6071111111111112\u001b[32m [repeated 2x across cluster]\u001b[0m\n"
          ]
        },
        {
          "name": "stderr",
          "output_type": "stream",
          "text": [
            "\u001b[92mINFO \u001b[0m:      aggregate_fit: received 4 results and 0 failures\n",
            "\u001b[92mINFO \u001b[0m:      fit progress: (21, 1.2217622579574585, {'accuracy': 0.5708}, 8227.26029113587)\n",
            "\u001b[92mINFO \u001b[0m:      configure_evaluate: strategy sampled 4 clients (out of 4)\n"
          ]
        },
        {
          "name": "stdout",
          "output_type": "stream",
          "text": [
            "\u001b[36m(ClientAppActor pid=287322)\u001b[0m [Client 2] evaluate, config: {}\n",
            "\u001b[36m(ClientAppActor pid=287322)\u001b[0m Epoch 1: train loss 1.1676567293802897, accuracy 0.594\n"
          ]
        },
        {
          "name": "stderr",
          "output_type": "stream",
          "text": [
            "\u001b[92mINFO \u001b[0m:      aggregate_evaluate: received 4 results and 0 failures\n",
            "\u001b[92mINFO \u001b[0m:      \n",
            "\u001b[92mINFO \u001b[0m:      [ROUND 22]\n",
            "\u001b[92mINFO \u001b[0m:      configure_fit: strategy sampled 4 clients (out of 4)\n"
          ]
        },
        {
          "name": "stdout",
          "output_type": "stream",
          "text": [
            "\u001b[36m(ClientAppActor pid=287323)\u001b[0m [Client 2] fit, config: {}\n",
            "\u001b[36m(ClientAppActor pid=287323)\u001b[0m [Client 1] evaluate, config: {}\u001b[32m [repeated 3x across cluster]\u001b[0m\n",
            "\u001b[36m(ClientAppActor pid=287323)\u001b[0m Epoch 1: train loss 1.1384304115507338, accuracy 0.6155555555555555\n",
            "\u001b[36m(ClientAppActor pid=287322)\u001b[0m [Client 0] fit, config: {}\u001b[32m [repeated 3x across cluster]\u001b[0m\n",
            "\u001b[36m(ClientAppActor pid=287320)\u001b[0m Epoch 1: train loss 1.111497042549981, accuracy 0.6188888888888889\u001b[32m [repeated 2x across cluster]\u001b[0m\n"
          ]
        },
        {
          "name": "stderr",
          "output_type": "stream",
          "text": [
            "\u001b[92mINFO \u001b[0m:      aggregate_fit: received 4 results and 0 failures\n",
            "\u001b[92mINFO \u001b[0m:      fit progress: (22, 1.2093775362014771, {'accuracy': 0.575}, 8614.615299841855)\n",
            "\u001b[92mINFO \u001b[0m:      configure_evaluate: strategy sampled 4 clients (out of 4)\n"
          ]
        },
        {
          "name": "stdout",
          "output_type": "stream",
          "text": [
            "\u001b[36m(ClientAppActor pid=287322)\u001b[0m [Client 2] evaluate, config: {}\n",
            "\u001b[36m(ClientAppActor pid=287322)\u001b[0m Epoch 1: train loss 1.1408336011038887, accuracy 0.6084444444444445\n"
          ]
        },
        {
          "name": "stderr",
          "output_type": "stream",
          "text": [
            "\u001b[92mINFO \u001b[0m:      aggregate_evaluate: received 4 results and 0 failures\n",
            "\u001b[92mINFO \u001b[0m:      \n",
            "\u001b[92mINFO \u001b[0m:      [ROUND 23]\n",
            "\u001b[92mINFO \u001b[0m:      configure_fit: strategy sampled 4 clients (out of 4)\n"
          ]
        },
        {
          "name": "stdout",
          "output_type": "stream",
          "text": [
            "\u001b[36m(ClientAppActor pid=287323)\u001b[0m [Client 1] fit, config: {}\n",
            "\u001b[36m(ClientAppActor pid=287323)\u001b[0m [Client 0] evaluate, config: {}\u001b[32m [repeated 3x across cluster]\u001b[0m\n",
            "\u001b[36m(ClientAppActor pid=287323)\u001b[0m Epoch 1: train loss 1.089060465282864, accuracy 0.6271111111111111\n",
            "\u001b[36m(ClientAppActor pid=287322)\u001b[0m [Client 0] fit, config: {}\u001b[32m [repeated 3x across cluster]\u001b[0m\n",
            "\u001b[36m(ClientAppActor pid=287320)\u001b[0m Epoch 1: train loss 1.1388415666156344, accuracy 0.6133333333333333\u001b[32m [repeated 2x across cluster]\u001b[0m\n"
          ]
        },
        {
          "name": "stderr",
          "output_type": "stream",
          "text": [
            "\u001b[92mINFO \u001b[0m:      aggregate_fit: received 4 results and 0 failures\n",
            "\u001b[92mINFO \u001b[0m:      fit progress: (23, 1.1967705598831178, {'accuracy': 0.5776}, 9004.135341080837)\n",
            "\u001b[92mINFO \u001b[0m:      configure_evaluate: strategy sampled 4 clients (out of 4)\n"
          ]
        },
        {
          "name": "stdout",
          "output_type": "stream",
          "text": [
            "\u001b[36m(ClientAppActor pid=287322)\u001b[0m [Client 0] evaluate, config: {}\n",
            "\u001b[36m(ClientAppActor pid=287322)\u001b[0m Epoch 1: train loss 1.107024636162652, accuracy 0.6253333333333333\n"
          ]
        },
        {
          "name": "stderr",
          "output_type": "stream",
          "text": [
            "\u001b[92mINFO \u001b[0m:      aggregate_evaluate: received 4 results and 0 failures\n",
            "\u001b[92mINFO \u001b[0m:      \n",
            "\u001b[92mINFO \u001b[0m:      [ROUND 24]\n",
            "\u001b[92mINFO \u001b[0m:      configure_fit: strategy sampled 4 clients (out of 4)\n"
          ]
        },
        {
          "name": "stdout",
          "output_type": "stream",
          "text": [
            "\u001b[36m(ClientAppActor pid=287323)\u001b[0m [Client 3] fit, config: {}\n",
            "\u001b[36m(ClientAppActor pid=287323)\u001b[0m [Client 1] evaluate, config: {}\u001b[32m [repeated 3x across cluster]\u001b[0m\n",
            "\u001b[36m(ClientAppActor pid=287323)\u001b[0m Epoch 1: train loss 1.1238645968437195, accuracy 0.6177777777777778\n",
            "\u001b[36m(ClientAppActor pid=287322)\u001b[0m [Client 2] fit, config: {}\u001b[32m [repeated 3x across cluster]\u001b[0m\n",
            "\u001b[36m(ClientAppActor pid=287320)\u001b[0m Epoch 1: train loss 1.0768872447543674, accuracy 0.6395555555555555\u001b[32m [repeated 2x across cluster]\u001b[0m\n"
          ]
        },
        {
          "name": "stderr",
          "output_type": "stream",
          "text": [
            "\u001b[92mINFO \u001b[0m:      aggregate_fit: received 4 results and 0 failures\n",
            "\u001b[92mINFO \u001b[0m:      fit progress: (24, 1.1852803899765014, {'accuracy': 0.5833}, 9396.58775890898)\n",
            "\u001b[92mINFO \u001b[0m:      configure_evaluate: strategy sampled 4 clients (out of 4)\n"
          ]
        },
        {
          "name": "stdout",
          "output_type": "stream",
          "text": [
            "\u001b[36m(ClientAppActor pid=287322)\u001b[0m [Client 1] evaluate, config: {}\n",
            "\u001b[36m(ClientAppActor pid=287322)\u001b[0m Epoch 1: train loss 1.1026277598275078, accuracy 0.6273333333333333\n"
          ]
        },
        {
          "name": "stderr",
          "output_type": "stream",
          "text": [
            "\u001b[92mINFO \u001b[0m:      aggregate_evaluate: received 4 results and 0 failures\n",
            "\u001b[92mINFO \u001b[0m:      \n",
            "\u001b[92mINFO \u001b[0m:      [ROUND 25]\n",
            "\u001b[92mINFO \u001b[0m:      configure_fit: strategy sampled 4 clients (out of 4)\n"
          ]
        },
        {
          "name": "stdout",
          "output_type": "stream",
          "text": [
            "\u001b[36m(ClientAppActor pid=287323)\u001b[0m [Client 3] fit, config: {}\n",
            "\u001b[36m(ClientAppActor pid=287323)\u001b[0m [Client 3] evaluate, config: {}\u001b[32m [repeated 3x across cluster]\u001b[0m\n",
            "\u001b[36m(ClientAppActor pid=287323)\u001b[0m Epoch 1: train loss 1.1048634314007229, accuracy 0.6222222222222222\n",
            "\u001b[36m(ClientAppActor pid=287322)\u001b[0m [Client 2] fit, config: {}\u001b[32m [repeated 3x across cluster]\u001b[0m\n",
            "\u001b[36m(ClientAppActor pid=287320)\u001b[0m Epoch 1: train loss 1.050466945860121, accuracy 0.6435555555555555\u001b[32m [repeated 2x across cluster]\u001b[0m\n"
          ]
        },
        {
          "name": "stderr",
          "output_type": "stream",
          "text": [
            "\u001b[92mINFO \u001b[0m:      aggregate_fit: received 4 results and 0 failures\n",
            "\u001b[92mINFO \u001b[0m:      fit progress: (25, 1.1720422534942627, {'accuracy': 0.5878}, 9787.813221118879)\n",
            "\u001b[92mINFO \u001b[0m:      configure_evaluate: strategy sampled 4 clients (out of 4)\n"
          ]
        },
        {
          "name": "stdout",
          "output_type": "stream",
          "text": [
            "\u001b[36m(ClientAppActor pid=287320)\u001b[0m [Client 3] evaluate, config: {}\n",
            "\u001b[36m(ClientAppActor pid=287322)\u001b[0m Epoch 1: train loss 1.0895493257310656, accuracy 0.6306666666666667\n"
          ]
        },
        {
          "name": "stderr",
          "output_type": "stream",
          "text": [
            "\u001b[92mINFO \u001b[0m:      aggregate_evaluate: received 4 results and 0 failures\n",
            "\u001b[92mINFO \u001b[0m:      \n",
            "\u001b[92mINFO \u001b[0m:      [ROUND 26]\n",
            "\u001b[92mINFO \u001b[0m:      configure_fit: strategy sampled 4 clients (out of 4)\n"
          ]
        },
        {
          "name": "stdout",
          "output_type": "stream",
          "text": [
            "\u001b[36m(ClientAppActor pid=287323)\u001b[0m [Client 1] fit, config: {}\n",
            "\u001b[36m(ClientAppActor pid=287323)\u001b[0m [Client 0] evaluate, config: {}\u001b[32m [repeated 3x across cluster]\u001b[0m\n",
            "\u001b[36m(ClientAppActor pid=287323)\u001b[0m Epoch 1: train loss 1.0386570800145467, accuracy 0.6515555555555556\n",
            "\u001b[36m(ClientAppActor pid=287320)\u001b[0m [Client 3] fit, config: {}\u001b[32m [repeated 3x across cluster]\u001b[0m\n",
            "\u001b[36m(ClientAppActor pid=287322)\u001b[0m Epoch 1: train loss 1.06100389374627, accuracy 0.6364444444444445\u001b[32m [repeated 2x across cluster]\u001b[0m\n",
            "\u001b[36m(ClientAppActor pid=287320)\u001b[0m Epoch 1: train loss 1.08899003039466, accuracy 0.6317777777777778\n"
          ]
        },
        {
          "name": "stderr",
          "output_type": "stream",
          "text": [
            "\u001b[92mINFO \u001b[0m:      aggregate_fit: received 4 results and 0 failures\n",
            "\u001b[92mINFO \u001b[0m:      fit progress: (26, 1.1705740604400634, {'accuracy': 0.5861}, 10179.57945049298)\n",
            "\u001b[92mINFO \u001b[0m:      configure_evaluate: strategy sampled 4 clients (out of 4)\n"
          ]
        },
        {
          "name": "stdout",
          "output_type": "stream",
          "text": [
            "\u001b[36m(ClientAppActor pid=287320)\u001b[0m [Client 3] evaluate, config: {}\n"
          ]
        },
        {
          "name": "stderr",
          "output_type": "stream",
          "text": [
            "\u001b[92mINFO \u001b[0m:      aggregate_evaluate: received 4 results and 0 failures\n",
            "\u001b[92mINFO \u001b[0m:      \n",
            "\u001b[92mINFO \u001b[0m:      [ROUND 27]\n",
            "\u001b[92mINFO \u001b[0m:      configure_fit: strategy sampled 4 clients (out of 4)\n"
          ]
        },
        {
          "name": "stdout",
          "output_type": "stream",
          "text": [
            "\u001b[36m(ClientAppActor pid=287323)\u001b[0m [Client 1] fit, config: {}\n",
            "\u001b[36m(ClientAppActor pid=287323)\u001b[0m [Client 2] evaluate, config: {}\u001b[32m [repeated 3x across cluster]\u001b[0m\n",
            "\u001b[36m(ClientAppActor pid=287323)\u001b[0m Epoch 1: train loss 1.0190512830946181, accuracy 0.6504444444444445\n",
            "\u001b[36m(ClientAppActor pid=287320)\u001b[0m [Client 3] fit, config: {}\u001b[32m [repeated 3x across cluster]\u001b[0m\n",
            "\u001b[36m(ClientAppActor pid=287322)\u001b[0m Epoch 1: train loss 1.0498607571919758, accuracy 0.6431111111111111\n",
            "\u001b[36m(ClientAppActor pid=287320)\u001b[0m Epoch 1: train loss 1.0716966813405355, accuracy 0.6324444444444445\n"
          ]
        },
        {
          "name": "stderr",
          "output_type": "stream",
          "text": [
            "\u001b[92mINFO \u001b[0m:      aggregate_fit: received 4 results and 0 failures\n",
            "\u001b[92mINFO \u001b[0m:      fit progress: (27, 1.1589813835144043, {'accuracy': 0.5908}, 10573.31473520887)\n",
            "\u001b[92mINFO \u001b[0m:      configure_evaluate: strategy sampled 4 clients (out of 4)\n"
          ]
        },
        {
          "name": "stdout",
          "output_type": "stream",
          "text": [
            "\u001b[36m(ClientAppActor pid=287321)\u001b[0m [Client 2] evaluate, config: {}\n",
            "\u001b[36m(ClientAppActor pid=287321)\u001b[0m Epoch 1: train loss 1.039434690899319, accuracy 0.6493333333333333\n"
          ]
        },
        {
          "name": "stderr",
          "output_type": "stream",
          "text": [
            "\u001b[92mINFO \u001b[0m:      aggregate_evaluate: received 4 results and 0 failures\n",
            "\u001b[92mINFO \u001b[0m:      \n",
            "\u001b[92mINFO \u001b[0m:      [ROUND 28]\n",
            "\u001b[92mINFO \u001b[0m:      configure_fit: strategy sampled 4 clients (out of 4)\n"
          ]
        },
        {
          "name": "stdout",
          "output_type": "stream",
          "text": [
            "\u001b[36m(ClientAppActor pid=287323)\u001b[0m [Client 1] fit, config: {}\n",
            "\u001b[36m(ClientAppActor pid=287323)\u001b[0m [Client 1] evaluate, config: {}\u001b[32m [repeated 3x across cluster]\u001b[0m\n",
            "\u001b[36m(ClientAppActor pid=287323)\u001b[0m Epoch 1: train loss 1.0050454308191936, accuracy 0.6568888888888889\n",
            "\u001b[36m(ClientAppActor pid=287321)\u001b[0m [Client 0] fit, config: {}\u001b[32m [repeated 3x across cluster]\u001b[0m\n",
            "\u001b[36m(ClientAppActor pid=287321)\u001b[0m Epoch 1: train loss 1.0185141807132296, accuracy 0.6544444444444445\n",
            "\u001b[36m(ClientAppActor pid=287320)\u001b[0m Epoch 1: train loss 1.037153948465983, accuracy 0.6522222222222223\n"
          ]
        },
        {
          "name": "stderr",
          "output_type": "stream",
          "text": [
            "\u001b[92mINFO \u001b[0m:      aggregate_fit: received 4 results and 0 failures\n",
            "\u001b[92mINFO \u001b[0m:      fit progress: (28, 1.149787373161316, {'accuracy': 0.5947}, 10961.503030441934)\n",
            "\u001b[92mINFO \u001b[0m:      configure_evaluate: strategy sampled 4 clients (out of 4)\n"
          ]
        },
        {
          "name": "stdout",
          "output_type": "stream",
          "text": [
            "\u001b[36m(ClientAppActor pid=287322)\u001b[0m [Client 0] evaluate, config: {}\n",
            "\u001b[36m(ClientAppActor pid=287322)\u001b[0m Epoch 1: train loss 1.0558555897606743, accuracy 0.6404444444444445\n"
          ]
        },
        {
          "name": "stderr",
          "output_type": "stream",
          "text": [
            "\u001b[92mINFO \u001b[0m:      aggregate_evaluate: received 4 results and 0 failures\n",
            "\u001b[92mINFO \u001b[0m:      \n",
            "\u001b[92mINFO \u001b[0m:      [ROUND 29]\n",
            "\u001b[92mINFO \u001b[0m:      configure_fit: strategy sampled 4 clients (out of 4)\n"
          ]
        },
        {
          "name": "stdout",
          "output_type": "stream",
          "text": [
            "\u001b[36m(ClientAppActor pid=287323)\u001b[0m [Client 0] fit, config: {}\n",
            "\u001b[36m(ClientAppActor pid=287323)\u001b[0m [Client 1] evaluate, config: {}\u001b[32m [repeated 3x across cluster]\u001b[0m\n",
            "\u001b[36m(ClientAppActor pid=287323)\u001b[0m Epoch 1: train loss 1.0011210984124077, accuracy 0.6697777777777778\n",
            "\u001b[36m(ClientAppActor pid=287322)\u001b[0m [Client 2] fit, config: {}\u001b[32m [repeated 3x across cluster]\u001b[0m\n",
            "\u001b[36m(ClientAppActor pid=287320)\u001b[0m Epoch 1: train loss 1.032208825217353, accuracy 0.6524444444444445\u001b[32m [repeated 2x across cluster]\u001b[0m\n"
          ]
        },
        {
          "name": "stderr",
          "output_type": "stream",
          "text": [
            "\u001b[92mINFO \u001b[0m:      aggregate_fit: received 4 results and 0 failures\n",
            "\u001b[92mINFO \u001b[0m:      fit progress: (29, 1.1372749086380005, {'accuracy': 0.6013}, 11348.94642902282)\n",
            "\u001b[92mINFO \u001b[0m:      configure_evaluate: strategy sampled 4 clients (out of 4)\n"
          ]
        },
        {
          "name": "stdout",
          "output_type": "stream",
          "text": [
            "\u001b[36m(ClientAppActor pid=287322)\u001b[0m [Client 3] evaluate, config: {}\n",
            "\u001b[36m(ClientAppActor pid=287322)\u001b[0m Epoch 1: train loss 1.0168217938741049, accuracy 0.6602222222222223\n"
          ]
        },
        {
          "name": "stderr",
          "output_type": "stream",
          "text": [
            "\u001b[92mINFO \u001b[0m:      aggregate_evaluate: received 4 results and 0 failures\n",
            "\u001b[92mINFO \u001b[0m:      \n",
            "\u001b[92mINFO \u001b[0m:      [ROUND 30]\n",
            "\u001b[92mINFO \u001b[0m:      configure_fit: strategy sampled 4 clients (out of 4)\n"
          ]
        },
        {
          "name": "stdout",
          "output_type": "stream",
          "text": [
            "\u001b[36m(ClientAppActor pid=287323)\u001b[0m [Client 3] fit, config: {}\n",
            "\u001b[36m(ClientAppActor pid=287323)\u001b[0m [Client 0] evaluate, config: {}\u001b[32m [repeated 3x across cluster]\u001b[0m\n",
            "\u001b[36m(ClientAppActor pid=287323)\u001b[0m Epoch 1: train loss 1.025897607697381, accuracy 0.6517777777777778\n",
            "\u001b[36m(ClientAppActor pid=287322)\u001b[0m [Client 2] fit, config: {}\u001b[32m [repeated 3x across cluster]\u001b[0m\n",
            "\u001b[36m(ClientAppActor pid=287320)\u001b[0m Epoch 1: train loss 0.9925826759338379, accuracy 0.6666666666666666\u001b[32m [repeated 2x across cluster]\u001b[0m\n"
          ]
        },
        {
          "name": "stderr",
          "output_type": "stream",
          "text": [
            "\u001b[92mINFO \u001b[0m:      aggregate_fit: received 4 results and 0 failures\n",
            "\u001b[92mINFO \u001b[0m:      fit progress: (30, 1.1309656888961792, {'accuracy': 0.6019}, 11734.600013826974)\n",
            "\u001b[92mINFO \u001b[0m:      configure_evaluate: strategy sampled 4 clients (out of 4)\n"
          ]
        },
        {
          "name": "stdout",
          "output_type": "stream",
          "text": [
            "\u001b[36m(ClientAppActor pid=287322)\u001b[0m [Client 3] evaluate, config: {}\n",
            "\u001b[36m(ClientAppActor pid=287322)\u001b[0m Epoch 1: train loss 0.9998050193786621, accuracy 0.6635555555555556\n"
          ]
        },
        {
          "name": "stderr",
          "output_type": "stream",
          "text": [
            "\u001b[92mINFO \u001b[0m:      aggregate_evaluate: received 4 results and 0 failures\n",
            "\u001b[92mINFO \u001b[0m:      \n",
            "\u001b[92mINFO \u001b[0m:      [ROUND 31]\n",
            "\u001b[92mINFO \u001b[0m:      configure_fit: strategy sampled 4 clients (out of 4)\n"
          ]
        },
        {
          "name": "stdout",
          "output_type": "stream",
          "text": [
            "\u001b[36m(ClientAppActor pid=287323)\u001b[0m [Client 1] fit, config: {}\n",
            "\u001b[36m(ClientAppActor pid=287323)\u001b[0m [Client 0] evaluate, config: {}\u001b[32m [repeated 3x across cluster]\u001b[0m\n",
            "\u001b[36m(ClientAppActor pid=287323)\u001b[0m Epoch 1: train loss 0.9637203371259901, accuracy 0.6773333333333333\n",
            "\u001b[36m(ClientAppActor pid=287322)\u001b[0m [Client 0] fit, config: {}\u001b[32m [repeated 3x across cluster]\u001b[0m\n",
            "\u001b[36m(ClientAppActor pid=287320)\u001b[0m Epoch 1: train loss 1.0086554185019598, accuracy 0.6604444444444444\u001b[32m [repeated 2x across cluster]\u001b[0m\n"
          ]
        },
        {
          "name": "stderr",
          "output_type": "stream",
          "text": [
            "\u001b[92mINFO \u001b[0m:      aggregate_fit: received 4 results and 0 failures\n",
            "\u001b[92mINFO \u001b[0m:      fit progress: (31, 1.1218374816894532, {'accuracy': 0.6078}, 12125.918075739872)\n",
            "\u001b[92mINFO \u001b[0m:      configure_evaluate: strategy sampled 4 clients (out of 4)\n"
          ]
        },
        {
          "name": "stdout",
          "output_type": "stream",
          "text": [
            "\u001b[36m(ClientAppActor pid=287322)\u001b[0m [Client 0] evaluate, config: {}\n",
            "\u001b[36m(ClientAppActor pid=287322)\u001b[0m Epoch 1: train loss 0.9803865813679166, accuracy 0.6751111111111111\n"
          ]
        },
        {
          "name": "stderr",
          "output_type": "stream",
          "text": [
            "\u001b[92mINFO \u001b[0m:      aggregate_evaluate: received 4 results and 0 failures\n",
            "\u001b[92mINFO \u001b[0m:      \n",
            "\u001b[92mINFO \u001b[0m:      [ROUND 32]\n",
            "\u001b[92mINFO \u001b[0m:      configure_fit: strategy sampled 4 clients (out of 4)\n"
          ]
        },
        {
          "name": "stdout",
          "output_type": "stream",
          "text": [
            "\u001b[36m(ClientAppActor pid=287323)\u001b[0m [Client 2] fit, config: {}\n",
            "\u001b[36m(ClientAppActor pid=287323)\u001b[0m [Client 2] evaluate, config: {}\u001b[32m [repeated 3x across cluster]\u001b[0m\n",
            "\u001b[36m(ClientAppActor pid=287321)\u001b[0m Epoch 1: train loss 0.9683568992614746, accuracy 0.6777777777777778\n",
            "\u001b[36m(ClientAppActor pid=287322)\u001b[0m [Client 1] fit, config: {}\u001b[32m [repeated 3x across cluster]\u001b[0m\n",
            "\u001b[36m(ClientAppActor pid=287320)\u001b[0m Epoch 1: train loss 0.9989462605582343, accuracy 0.6617777777777778\n",
            "\u001b[36m(ClientAppActor pid=287322)\u001b[0m Epoch 1: train loss 0.9460571480857002, accuracy 0.6817777777777778\n",
            "\u001b[36m(ClientAppActor pid=287323)\u001b[0m Epoch 1: train loss 0.9732059683269925, accuracy 0.6786666666666666\n"
          ]
        },
        {
          "name": "stderr",
          "output_type": "stream",
          "text": [
            "\u001b[92mINFO \u001b[0m:      aggregate_fit: received 4 results and 0 failures\n",
            "\u001b[92mINFO \u001b[0m:      fit progress: (32, 1.1167708526611329, {'accuracy': 0.6086}, 12531.840680048801)\n",
            "\u001b[92mINFO \u001b[0m:      configure_evaluate: strategy sampled 4 clients (out of 4)\n"
          ]
        },
        {
          "name": "stdout",
          "output_type": "stream",
          "text": [
            "\u001b[36m(ClientAppActor pid=287323)\u001b[0m [Client 3] evaluate, config: {}\n"
          ]
        },
        {
          "name": "stderr",
          "output_type": "stream",
          "text": [
            "\u001b[92mINFO \u001b[0m:      aggregate_evaluate: received 4 results and 0 failures\n",
            "\u001b[92mINFO \u001b[0m:      \n",
            "\u001b[92mINFO \u001b[0m:      [ROUND 33]\n",
            "\u001b[92mINFO \u001b[0m:      configure_fit: strategy sampled 4 clients (out of 4)\n"
          ]
        },
        {
          "name": "stdout",
          "output_type": "stream",
          "text": [
            "\u001b[36m(ClientAppActor pid=287321)\u001b[0m [Client 3] fit, config: {}\n",
            "\u001b[36m(ClientAppActor pid=287321)\u001b[0m [Client 1] evaluate, config: {}\u001b[32m [repeated 3x across cluster]\u001b[0m\n",
            "\u001b[36m(ClientAppActor pid=287321)\u001b[0m Epoch 1: train loss 0.977979891565111, accuracy 0.6757777777777778\n",
            "\u001b[36m(ClientAppActor pid=287323)\u001b[0m [Client 0] fit, config: {}\u001b[32m [repeated 3x across cluster]\u001b[0m\n",
            "\u001b[36m(ClientAppActor pid=287322)\u001b[0m Epoch 1: train loss 0.9544849385685391, accuracy 0.6826666666666666\n",
            "\u001b[36m(ClientAppActor pid=287320)\u001b[0m Epoch 1: train loss 0.9338950876659817, accuracy 0.6868888888888889\n",
            "\u001b[36m(ClientAppActor pid=287323)\u001b[0m Epoch 1: train loss 0.946816963089837, accuracy 0.686\n"
          ]
        },
        {
          "name": "stderr",
          "output_type": "stream",
          "text": [
            "\u001b[92mINFO \u001b[0m:      aggregate_fit: received 4 results and 0 failures\n",
            "\u001b[92mINFO \u001b[0m:      fit progress: (33, 1.1086033073425292, {'accuracy': 0.6104}, 12937.395967200864)\n",
            "\u001b[92mINFO \u001b[0m:      configure_evaluate: strategy sampled 4 clients (out of 4)\n"
          ]
        },
        {
          "name": "stdout",
          "output_type": "stream",
          "text": [
            "\u001b[36m(ClientAppActor pid=287323)\u001b[0m [Client 0] evaluate, config: {}\n"
          ]
        },
        {
          "name": "stderr",
          "output_type": "stream",
          "text": [
            "\u001b[92mINFO \u001b[0m:      aggregate_evaluate: received 4 results and 0 failures\n",
            "\u001b[92mINFO \u001b[0m:      \n",
            "\u001b[92mINFO \u001b[0m:      [ROUND 34]\n",
            "\u001b[92mINFO \u001b[0m:      configure_fit: strategy sampled 4 clients (out of 4)\n"
          ]
        },
        {
          "name": "stdout",
          "output_type": "stream",
          "text": [
            "\u001b[36m(ClientAppActor pid=287321)\u001b[0m [Client 1] fit, config: {}\n",
            "\u001b[36m(ClientAppActor pid=287321)\u001b[0m [Client 1] evaluate, config: {}\u001b[32m [repeated 3x across cluster]\u001b[0m\n",
            "\u001b[36m(ClientAppActor pid=287321)\u001b[0m Epoch 1: train loss 0.9256393248240153, accuracy 0.6853333333333333\n",
            "\u001b[36m(ClientAppActor pid=287323)\u001b[0m [Client 2] fit, config: {}\u001b[32m [repeated 3x across cluster]\u001b[0m\n",
            "\u001b[36m(ClientAppActor pid=287322)\u001b[0m Epoch 1: train loss 0.9649156507386102, accuracy 0.6813333333333333\n",
            "\u001b[36m(ClientAppActor pid=287320)\u001b[0m Epoch 1: train loss 0.9329510703616672, accuracy 0.6913333333333334\n",
            "\u001b[36m(ClientAppActor pid=287323)\u001b[0m Epoch 1: train loss 0.9409196746614245, accuracy 0.6904444444444444\n"
          ]
        },
        {
          "name": "stderr",
          "output_type": "stream",
          "text": [
            "\u001b[92mINFO \u001b[0m:      aggregate_fit: received 4 results and 0 failures\n",
            "\u001b[92mINFO \u001b[0m:      fit progress: (34, 1.1069476963043212, {'accuracy': 0.6105}, 13346.951680668863)\n",
            "\u001b[92mINFO \u001b[0m:      configure_evaluate: strategy sampled 4 clients (out of 4)\n"
          ]
        },
        {
          "name": "stdout",
          "output_type": "stream",
          "text": [
            "\u001b[36m(ClientAppActor pid=287323)\u001b[0m [Client 3] evaluate, config: {}\n"
          ]
        },
        {
          "name": "stderr",
          "output_type": "stream",
          "text": [
            "\u001b[92mINFO \u001b[0m:      aggregate_evaluate: received 4 results and 0 failures\n",
            "\u001b[92mINFO \u001b[0m:      \n",
            "\u001b[92mINFO \u001b[0m:      [ROUND 35]\n",
            "\u001b[92mINFO \u001b[0m:      configure_fit: strategy sampled 4 clients (out of 4)\n"
          ]
        },
        {
          "name": "stdout",
          "output_type": "stream",
          "text": [
            "\u001b[36m(ClientAppActor pid=287321)\u001b[0m [Client 2] fit, config: {}\n",
            "\u001b[36m(ClientAppActor pid=287321)\u001b[0m [Client 0] evaluate, config: {}\u001b[32m [repeated 3x across cluster]\u001b[0m\n",
            "\u001b[36m(ClientAppActor pid=287321)\u001b[0m Epoch 1: train loss 0.9298183518515692, accuracy 0.6904444444444444\n",
            "\u001b[36m(ClientAppActor pid=287323)\u001b[0m [Client 3] fit, config: {}\u001b[32m [repeated 3x across cluster]\u001b[0m\n",
            "\u001b[36m(ClientAppActor pid=287322)\u001b[0m Epoch 1: train loss 0.8991320057974921, accuracy 0.6973333333333334\n",
            "\u001b[36m(ClientAppActor pid=287320)\u001b[0m Epoch 1: train loss 0.925796735657586, accuracy 0.6957777777777778\n",
            "\u001b[36m(ClientAppActor pid=287323)\u001b[0m Epoch 1: train loss 0.955321906513638, accuracy 0.684\n"
          ]
        },
        {
          "name": "stderr",
          "output_type": "stream",
          "text": [
            "\u001b[92mINFO \u001b[0m:      aggregate_fit: received 4 results and 0 failures\n",
            "\u001b[92mINFO \u001b[0m:      fit progress: (35, 1.0907198446273805, {'accuracy': 0.6189}, 13754.138733921805)\n",
            "\u001b[92mINFO \u001b[0m:      configure_evaluate: strategy sampled 4 clients (out of 4)\n"
          ]
        },
        {
          "name": "stdout",
          "output_type": "stream",
          "text": [
            "\u001b[36m(ClientAppActor pid=287323)\u001b[0m [Client 2] evaluate, config: {}\n"
          ]
        },
        {
          "name": "stderr",
          "output_type": "stream",
          "text": [
            "\u001b[92mINFO \u001b[0m:      aggregate_evaluate: received 4 results and 0 failures\n",
            "\u001b[92mINFO \u001b[0m:      \n",
            "\u001b[92mINFO \u001b[0m:      [ROUND 36]\n",
            "\u001b[92mINFO \u001b[0m:      configure_fit: strategy sampled 4 clients (out of 4)\n"
          ]
        },
        {
          "name": "stdout",
          "output_type": "stream",
          "text": [
            "\u001b[36m(ClientAppActor pid=287321)\u001b[0m [Client 1] fit, config: {}\n",
            "\u001b[36m(ClientAppActor pid=287321)\u001b[0m [Client 1] evaluate, config: {}\u001b[32m [repeated 3x across cluster]\u001b[0m\n",
            "\u001b[36m(ClientAppActor pid=287321)\u001b[0m Epoch 1: train loss 0.8982540360556709, accuracy 0.7037777777777777\n",
            "\u001b[36m(ClientAppActor pid=287323)\u001b[0m [Client 3] fit, config: {}\u001b[32m [repeated 3x across cluster]\u001b[0m\n",
            "\u001b[36m(ClientAppActor pid=287322)\u001b[0m Epoch 1: train loss 0.9093314748340183, accuracy 0.7006666666666667\n",
            "\u001b[36m(ClientAppActor pid=287320)\u001b[0m Epoch 1: train loss 0.9031905789905125, accuracy 0.6971111111111111\n",
            "\u001b[36m(ClientAppActor pid=287323)\u001b[0m Epoch 1: train loss 0.9382296052508884, accuracy 0.6846666666666666\n"
          ]
        },
        {
          "name": "stderr",
          "output_type": "stream",
          "text": [
            "\u001b[92mINFO \u001b[0m:      aggregate_fit: received 4 results and 0 failures\n",
            "\u001b[92mINFO \u001b[0m:      fit progress: (36, 1.0911915756225585, {'accuracy': 0.6177}, 14158.461733633885)\n",
            "\u001b[92mINFO \u001b[0m:      configure_evaluate: strategy sampled 4 clients (out of 4)\n"
          ]
        },
        {
          "name": "stdout",
          "output_type": "stream",
          "text": [
            "\u001b[36m(ClientAppActor pid=287323)\u001b[0m [Client 1] evaluate, config: {}\n"
          ]
        },
        {
          "name": "stderr",
          "output_type": "stream",
          "text": [
            "\u001b[92mINFO \u001b[0m:      aggregate_evaluate: received 4 results and 0 failures\n",
            "\u001b[92mINFO \u001b[0m:      \n",
            "\u001b[92mINFO \u001b[0m:      [ROUND 37]\n",
            "\u001b[92mINFO \u001b[0m:      configure_fit: strategy sampled 4 clients (out of 4)\n"
          ]
        },
        {
          "name": "stdout",
          "output_type": "stream",
          "text": [
            "\u001b[36m(ClientAppActor pid=287321)\u001b[0m [Client 1] fit, config: {}\n",
            "\u001b[36m(ClientAppActor pid=287321)\u001b[0m [Client 3] evaluate, config: {}\u001b[32m [repeated 3x across cluster]\u001b[0m\n",
            "\u001b[36m(ClientAppActor pid=287321)\u001b[0m Epoch 1: train loss 0.8887145273420546, accuracy 0.7002222222222222\n",
            "\u001b[36m(ClientAppActor pid=287323)\u001b[0m [Client 3] fit, config: {}\u001b[32m [repeated 3x across cluster]\u001b[0m\n",
            "\u001b[36m(ClientAppActor pid=287322)\u001b[0m Epoch 1: train loss 0.9032501571973165, accuracy 0.7011111111111111\n",
            "\u001b[36m(ClientAppActor pid=287320)\u001b[0m Epoch 1: train loss 0.8924763108889262, accuracy 0.7097777777777777\n",
            "\u001b[36m(ClientAppActor pid=287323)\u001b[0m Epoch 1: train loss 0.9253560791545444, accuracy 0.688\n"
          ]
        },
        {
          "name": "stderr",
          "output_type": "stream",
          "text": [
            "\u001b[92mINFO \u001b[0m:      aggregate_fit: received 4 results and 0 failures\n",
            "\u001b[92mINFO \u001b[0m:      fit progress: (37, 1.0827532018661499, {'accuracy': 0.6186}, 14562.410701705841)\n",
            "\u001b[92mINFO \u001b[0m:      configure_evaluate: strategy sampled 4 clients (out of 4)\n"
          ]
        },
        {
          "name": "stdout",
          "output_type": "stream",
          "text": [
            "\u001b[36m(ClientAppActor pid=287323)\u001b[0m [Client 2] evaluate, config: {}\n"
          ]
        },
        {
          "name": "stderr",
          "output_type": "stream",
          "text": [
            "\u001b[92mINFO \u001b[0m:      aggregate_evaluate: received 4 results and 0 failures\n",
            "\u001b[92mINFO \u001b[0m:      \n",
            "\u001b[92mINFO \u001b[0m:      [ROUND 38]\n",
            "\u001b[92mINFO \u001b[0m:      configure_fit: strategy sampled 4 clients (out of 4)\n"
          ]
        },
        {
          "name": "stdout",
          "output_type": "stream",
          "text": [
            "\u001b[36m(ClientAppActor pid=287321)\u001b[0m [Client 1] fit, config: {}\n",
            "\u001b[36m(ClientAppActor pid=287321)\u001b[0m [Client 3] evaluate, config: {}\u001b[32m [repeated 3x across cluster]\u001b[0m\n",
            "\u001b[36m(ClientAppActor pid=287321)\u001b[0m Epoch 1: train loss 0.8670545420646667, accuracy 0.7097777777777777\n",
            "\u001b[36m(ClientAppActor pid=287323)\u001b[0m [Client 3] fit, config: {}\u001b[32m [repeated 3x across cluster]\u001b[0m\n",
            "\u001b[36m(ClientAppActor pid=287322)\u001b[0m Epoch 1: train loss 0.8963643352720473, accuracy 0.7035555555555556\n",
            "\u001b[36m(ClientAppActor pid=287320)\u001b[0m Epoch 1: train loss 0.8717821245193481, accuracy 0.7148888888888889\n",
            "\u001b[36m(ClientAppActor pid=287323)\u001b[0m Epoch 1: train loss 0.9089773364067077, accuracy 0.6935555555555556\n"
          ]
        },
        {
          "name": "stderr",
          "output_type": "stream",
          "text": [
            "\u001b[92mINFO \u001b[0m:      aggregate_fit: received 4 results and 0 failures\n",
            "\u001b[92mINFO \u001b[0m:      fit progress: (38, 1.0725305305480957, {'accuracy': 0.6236}, 14962.384983158903)\n",
            "\u001b[92mINFO \u001b[0m:      configure_evaluate: strategy sampled 4 clients (out of 4)\n"
          ]
        },
        {
          "name": "stdout",
          "output_type": "stream",
          "text": [
            "\u001b[36m(ClientAppActor pid=287323)\u001b[0m [Client 1] evaluate, config: {}\n"
          ]
        },
        {
          "name": "stderr",
          "output_type": "stream",
          "text": [
            "\u001b[92mINFO \u001b[0m:      aggregate_evaluate: received 4 results and 0 failures\n",
            "\u001b[92mINFO \u001b[0m:      \n",
            "\u001b[92mINFO \u001b[0m:      [ROUND 39]\n",
            "\u001b[92mINFO \u001b[0m:      configure_fit: strategy sampled 4 clients (out of 4)\n"
          ]
        },
        {
          "name": "stdout",
          "output_type": "stream",
          "text": [
            "\u001b[36m(ClientAppActor pid=287321)\u001b[0m [Client 2] fit, config: {}\n",
            "\u001b[36m(ClientAppActor pid=287321)\u001b[0m [Client 2] evaluate, config: {}\u001b[32m [repeated 3x across cluster]\u001b[0m\n",
            "\u001b[36m(ClientAppActor pid=287321)\u001b[0m Epoch 1: train loss 0.8704304657512241, accuracy 0.7155555555555555\n",
            "\u001b[36m(ClientAppActor pid=287323)\u001b[0m [Client 3] fit, config: {}\u001b[32m [repeated 3x across cluster]\u001b[0m\n",
            "\u001b[36m(ClientAppActor pid=287322)\u001b[0m Epoch 1: train loss 0.8654519897037082, accuracy 0.7191111111111111\n",
            "\u001b[36m(ClientAppActor pid=287320)\u001b[0m Epoch 1: train loss 0.8402739736239115, accuracy 0.7197777777777777\n",
            "\u001b[36m(ClientAppActor pid=287323)\u001b[0m Epoch 1: train loss 0.895005842950609, accuracy 0.7004444444444444\n"
          ]
        },
        {
          "name": "stderr",
          "output_type": "stream",
          "text": [
            "\u001b[92mINFO \u001b[0m:      aggregate_fit: received 4 results and 0 failures\n",
            "\u001b[92mINFO \u001b[0m:      fit progress: (39, 1.0695132457733154, {'accuracy': 0.6243}, 15362.622322729789)\n",
            "\u001b[92mINFO \u001b[0m:      configure_evaluate: strategy sampled 4 clients (out of 4)\n"
          ]
        },
        {
          "name": "stdout",
          "output_type": "stream",
          "text": [
            "\u001b[36m(ClientAppActor pid=287323)\u001b[0m [Client 1] evaluate, config: {}\n"
          ]
        },
        {
          "name": "stderr",
          "output_type": "stream",
          "text": [
            "\u001b[92mINFO \u001b[0m:      aggregate_evaluate: received 4 results and 0 failures\n",
            "\u001b[92mINFO \u001b[0m:      \n",
            "\u001b[92mINFO \u001b[0m:      [ROUND 40]\n",
            "\u001b[92mINFO \u001b[0m:      configure_fit: strategy sampled 4 clients (out of 4)\n"
          ]
        },
        {
          "name": "stdout",
          "output_type": "stream",
          "text": [
            "\u001b[36m(ClientAppActor pid=287321)\u001b[0m [Client 3] fit, config: {}\n",
            "\u001b[36m(ClientAppActor pid=287321)\u001b[0m [Client 0] evaluate, config: {}\u001b[32m [repeated 3x across cluster]\u001b[0m\n",
            "\u001b[36m(ClientAppActor pid=287321)\u001b[0m Epoch 1: train loss 0.8841742522451612, accuracy 0.7053333333333334\n",
            "\u001b[36m(ClientAppActor pid=287323)\u001b[0m [Client 2] fit, config: {}\u001b[32m [repeated 3x across cluster]\u001b[0m\n",
            "\u001b[36m(ClientAppActor pid=287322)\u001b[0m Epoch 1: train loss 0.8511544642978245, accuracy 0.7217777777777777\n",
            "\u001b[36m(ClientAppActor pid=287320)\u001b[0m Epoch 1: train loss 0.8303014508353339, accuracy 0.7231111111111111\n",
            "\u001b[36m(ClientAppActor pid=287323)\u001b[0m Epoch 1: train loss 0.8482569077809652, accuracy 0.7228888888888889\n"
          ]
        },
        {
          "name": "stderr",
          "output_type": "stream",
          "text": [
            "\u001b[92mINFO \u001b[0m:      aggregate_fit: received 4 results and 0 failures\n",
            "\u001b[92mINFO \u001b[0m:      fit progress: (40, 1.063858850479126, {'accuracy': 0.6282}, 15764.544975814875)\n",
            "\u001b[92mINFO \u001b[0m:      configure_evaluate: strategy sampled 4 clients (out of 4)\n"
          ]
        },
        {
          "name": "stdout",
          "output_type": "stream",
          "text": [
            "\u001b[36m(ClientAppActor pid=287323)\u001b[0m [Client 0] evaluate, config: {}\n"
          ]
        },
        {
          "name": "stderr",
          "output_type": "stream",
          "text": [
            "\u001b[92mINFO \u001b[0m:      aggregate_evaluate: received 4 results and 0 failures\n",
            "\u001b[92mINFO \u001b[0m:      \n",
            "\u001b[92mINFO \u001b[0m:      [ROUND 41]\n",
            "\u001b[92mINFO \u001b[0m:      configure_fit: strategy sampled 4 clients (out of 4)\n"
          ]
        },
        {
          "name": "stdout",
          "output_type": "stream",
          "text": [
            "\u001b[36m(ClientAppActor pid=287321)\u001b[0m [Client 0] fit, config: {}\n",
            "\u001b[36m(ClientAppActor pid=287321)\u001b[0m [Client 2] evaluate, config: {}\u001b[32m [repeated 3x across cluster]\u001b[0m\n",
            "\u001b[36m(ClientAppActor pid=287320)\u001b[0m Epoch 1: train loss 0.854520942846934, accuracy 0.7253333333333334\n",
            "\u001b[36m(ClientAppActor pid=287323)\u001b[0m [Client 3] fit, config: {}\u001b[32m [repeated 3x across cluster]\u001b[0m\n",
            "\u001b[36m(ClientAppActor pid=287323)\u001b[0m Epoch 1: train loss 0.8752726236979167, accuracy 0.7088888888888889\u001b[32m [repeated 3x across cluster]\u001b[0m\n"
          ]
        },
        {
          "name": "stderr",
          "output_type": "stream",
          "text": [
            "\u001b[92mINFO \u001b[0m:      aggregate_fit: received 4 results and 0 failures\n",
            "\u001b[92mINFO \u001b[0m:      fit progress: (41, 1.058687158203125, {'accuracy': 0.6278}, 16164.526032533962)\n",
            "\u001b[92mINFO \u001b[0m:      configure_evaluate: strategy sampled 4 clients (out of 4)\n"
          ]
        },
        {
          "name": "stdout",
          "output_type": "stream",
          "text": [
            "\u001b[36m(ClientAppActor pid=287323)\u001b[0m [Client 1] evaluate, config: {}\n"
          ]
        },
        {
          "name": "stderr",
          "output_type": "stream",
          "text": [
            "\u001b[92mINFO \u001b[0m:      aggregate_evaluate: received 4 results and 0 failures\n",
            "\u001b[92mINFO \u001b[0m:      \n",
            "\u001b[92mINFO \u001b[0m:      [ROUND 42]\n",
            "\u001b[92mINFO \u001b[0m:      configure_fit: strategy sampled 4 clients (out of 4)\n"
          ]
        },
        {
          "name": "stdout",
          "output_type": "stream",
          "text": [
            "\u001b[36m(ClientAppActor pid=287320)\u001b[0m [Client 0] fit, config: {}\n",
            "\u001b[36m(ClientAppActor pid=287320)\u001b[0m [Client 0] evaluate, config: {}\u001b[32m [repeated 3x across cluster]\u001b[0m\n",
            "\u001b[36m(ClientAppActor pid=287321)\u001b[0m Epoch 1: train loss 0.8206875818040635, accuracy 0.7206666666666667\n",
            "\u001b[36m(ClientAppActor pid=287323)\u001b[0m [Client 2] fit, config: {}\u001b[32m [repeated 3x across cluster]\u001b[0m\n",
            "\u001b[36m(ClientAppActor pid=287322)\u001b[0m Epoch 1: train loss 0.8547309845288594, accuracy 0.7104444444444444\n",
            "\u001b[36m(ClientAppActor pid=287320)\u001b[0m Epoch 1: train loss 0.8143821858829922, accuracy 0.7366666666666667\n",
            "\u001b[36m(ClientAppActor pid=287323)\u001b[0m Epoch 1: train loss 0.8334261950386895, accuracy 0.7326666666666667\n"
          ]
        },
        {
          "name": "stderr",
          "output_type": "stream",
          "text": [
            "\u001b[92mINFO \u001b[0m:      aggregate_fit: received 4 results and 0 failures\n",
            "\u001b[92mINFO \u001b[0m:      fit progress: (42, 1.055888410758972, {'accuracy': 0.629}, 16574.134299134836)\n",
            "\u001b[92mINFO \u001b[0m:      configure_evaluate: strategy sampled 4 clients (out of 4)\n"
          ]
        },
        {
          "name": "stdout",
          "output_type": "stream",
          "text": [
            "\u001b[36m(ClientAppActor pid=287323)\u001b[0m [Client 3] evaluate, config: {}\n"
          ]
        },
        {
          "name": "stderr",
          "output_type": "stream",
          "text": [
            "\u001b[92mINFO \u001b[0m:      aggregate_evaluate: received 4 results and 0 failures\n",
            "\u001b[92mINFO \u001b[0m:      \n",
            "\u001b[92mINFO \u001b[0m:      [ROUND 43]\n",
            "\u001b[92mINFO \u001b[0m:      configure_fit: strategy sampled 4 clients (out of 4)\n"
          ]
        },
        {
          "name": "stdout",
          "output_type": "stream",
          "text": [
            "\u001b[36m(ClientAppActor pid=287321)\u001b[0m [Client 1] fit, config: {}\n",
            "\u001b[36m(ClientAppActor pid=287321)\u001b[0m [Client 2] evaluate, config: {}\u001b[32m [repeated 3x across cluster]\u001b[0m\n",
            "\u001b[36m(ClientAppActor pid=287321)\u001b[0m Epoch 1: train loss 0.7898483617570665, accuracy 0.7437777777777778\n",
            "\u001b[36m(ClientAppActor pid=287323)\u001b[0m [Client 3] fit, config: {}\u001b[32m [repeated 3x across cluster]\u001b[0m\n",
            "\u001b[36m(ClientAppActor pid=287322)\u001b[0m Epoch 1: train loss 0.8122907313240899, accuracy 0.7353333333333333\n",
            "\u001b[36m(ClientAppActor pid=287320)\u001b[0m Epoch 1: train loss 0.8091046044561598, accuracy 0.744\n",
            "\u001b[36m(ClientAppActor pid=287323)\u001b[0m Epoch 1: train loss 0.8382901940875583, accuracy 0.7302222222222222\n"
          ]
        },
        {
          "name": "stderr",
          "output_type": "stream",
          "text": [
            "\u001b[92mINFO \u001b[0m:      aggregate_fit: received 4 results and 0 failures\n",
            "\u001b[92mINFO \u001b[0m:      fit progress: (43, 1.0469964824676514, {'accuracy': 0.6326}, 16981.231564000947)\n",
            "\u001b[92mINFO \u001b[0m:      configure_evaluate: strategy sampled 4 clients (out of 4)\n"
          ]
        },
        {
          "name": "stdout",
          "output_type": "stream",
          "text": [
            "\u001b[36m(ClientAppActor pid=287323)\u001b[0m [Client 2] evaluate, config: {}\n"
          ]
        },
        {
          "name": "stderr",
          "output_type": "stream",
          "text": [
            "\u001b[92mINFO \u001b[0m:      aggregate_evaluate: received 4 results and 0 failures\n",
            "\u001b[92mINFO \u001b[0m:      \n",
            "\u001b[92mINFO \u001b[0m:      [ROUND 44]\n",
            "\u001b[92mINFO \u001b[0m:      configure_fit: strategy sampled 4 clients (out of 4)\n"
          ]
        },
        {
          "name": "stdout",
          "output_type": "stream",
          "text": [
            "\u001b[36m(ClientAppActor pid=287321)\u001b[0m [Client 1] fit, config: {}\n",
            "\u001b[36m(ClientAppActor pid=287321)\u001b[0m [Client 1] evaluate, config: {}\u001b[32m [repeated 3x across cluster]\u001b[0m\n",
            "\u001b[36m(ClientAppActor pid=287321)\u001b[0m Epoch 1: train loss 0.7869956265555488, accuracy 0.742\n",
            "\u001b[36m(ClientAppActor pid=287323)\u001b[0m [Client 2] fit, config: {}\u001b[32m [repeated 3x across cluster]\u001b[0m\n",
            "\u001b[36m(ClientAppActor pid=287322)\u001b[0m Epoch 1: train loss 0.8286239545610216, accuracy 0.73\n",
            "\u001b[36m(ClientAppActor pid=287320)\u001b[0m Epoch 1: train loss 0.7915797931883071, accuracy 0.7435555555555555\n",
            "\u001b[36m(ClientAppActor pid=287323)\u001b[0m Epoch 1: train loss 0.7967970670594109, accuracy 0.7455555555555555\n"
          ]
        },
        {
          "name": "stderr",
          "output_type": "stream",
          "text": [
            "\u001b[92mINFO \u001b[0m:      aggregate_fit: received 4 results and 0 failures\n",
            "\u001b[92mINFO \u001b[0m:      fit progress: (44, 1.0435439697265625, {'accuracy': 0.6332}, 17388.42457086779)\n",
            "\u001b[92mINFO \u001b[0m:      configure_evaluate: strategy sampled 4 clients (out of 4)\n"
          ]
        },
        {
          "name": "stdout",
          "output_type": "stream",
          "text": [
            "\u001b[36m(ClientAppActor pid=287323)\u001b[0m [Client 1] evaluate, config: {}\n"
          ]
        },
        {
          "name": "stderr",
          "output_type": "stream",
          "text": [
            "\u001b[92mINFO \u001b[0m:      aggregate_evaluate: received 4 results and 0 failures\n",
            "\u001b[92mINFO \u001b[0m:      \n",
            "\u001b[92mINFO \u001b[0m:      [ROUND 45]\n",
            "\u001b[92mINFO \u001b[0m:      configure_fit: strategy sampled 4 clients (out of 4)\n"
          ]
        },
        {
          "name": "stdout",
          "output_type": "stream",
          "text": [
            "\u001b[36m(ClientAppActor pid=287321)\u001b[0m [Client 1] fit, config: {}\n",
            "\u001b[36m(ClientAppActor pid=287321)\u001b[0m [Client 2] evaluate, config: {}\u001b[32m [repeated 3x across cluster]\u001b[0m\n",
            "\u001b[36m(ClientAppActor pid=287321)\u001b[0m Epoch 1: train loss 0.780141744295756, accuracy 0.7488888888888889\n",
            "\u001b[36m(ClientAppActor pid=287323)\u001b[0m [Client 0] fit, config: {}\u001b[32m [repeated 3x across cluster]\u001b[0m\n",
            "\u001b[36m(ClientAppActor pid=287322)\u001b[0m Epoch 1: train loss 0.8107767097155253, accuracy 0.7351111111111112\n",
            "\u001b[36m(ClientAppActor pid=287320)\u001b[0m Epoch 1: train loss 0.7885456447601318, accuracy 0.7542222222222222\n",
            "\u001b[36m(ClientAppActor pid=287323)\u001b[0m Epoch 1: train loss 0.7803807316356235, accuracy 0.7484444444444445\n"
          ]
        },
        {
          "name": "stderr",
          "output_type": "stream",
          "text": [
            "\u001b[92mINFO \u001b[0m:      aggregate_fit: received 4 results and 0 failures\n",
            "\u001b[92mINFO \u001b[0m:      fit progress: (45, 1.036192160987854, {'accuracy': 0.6403}, 17792.5500280119)\n",
            "\u001b[92mINFO \u001b[0m:      configure_evaluate: strategy sampled 4 clients (out of 4)\n"
          ]
        },
        {
          "name": "stdout",
          "output_type": "stream",
          "text": [
            "\u001b[36m(ClientAppActor pid=287323)\u001b[0m [Client 1] evaluate, config: {}\n"
          ]
        },
        {
          "name": "stderr",
          "output_type": "stream",
          "text": [
            "\u001b[92mINFO \u001b[0m:      aggregate_evaluate: received 4 results and 0 failures\n",
            "\u001b[92mINFO \u001b[0m:      \n",
            "\u001b[92mINFO \u001b[0m:      [ROUND 46]\n",
            "\u001b[92mINFO \u001b[0m:      configure_fit: strategy sampled 4 clients (out of 4)\n"
          ]
        },
        {
          "name": "stdout",
          "output_type": "stream",
          "text": [
            "\u001b[36m(ClientAppActor pid=287321)\u001b[0m [Client 1] fit, config: {}\n",
            "\u001b[36m(ClientAppActor pid=287321)\u001b[0m [Client 3] evaluate, config: {}\u001b[32m [repeated 3x across cluster]\u001b[0m\n",
            "\u001b[36m(ClientAppActor pid=287321)\u001b[0m Epoch 1: train loss 0.7531362377272712, accuracy 0.7566666666666667\n",
            "\u001b[36m(ClientAppActor pid=287323)\u001b[0m [Client 2] fit, config: {}\u001b[32m [repeated 3x across cluster]\u001b[0m\n",
            "\u001b[36m(ClientAppActor pid=287322)\u001b[0m Epoch 1: train loss 0.7981602885988024, accuracy 0.74\n",
            "\u001b[36m(ClientAppActor pid=287320)\u001b[0m Epoch 1: train loss 0.7707386729982164, accuracy 0.752\n",
            "\u001b[36m(ClientAppActor pid=287323)\u001b[0m Epoch 1: train loss 0.77313879081938, accuracy 0.7526666666666667\n"
          ]
        },
        {
          "name": "stderr",
          "output_type": "stream",
          "text": [
            "\u001b[92mINFO \u001b[0m:      aggregate_fit: received 4 results and 0 failures\n",
            "\u001b[92mINFO \u001b[0m:      fit progress: (46, 1.0320084945678711, {'accuracy': 0.6367}, 18196.674162386917)\n",
            "\u001b[92mINFO \u001b[0m:      configure_evaluate: strategy sampled 4 clients (out of 4)\n"
          ]
        },
        {
          "name": "stdout",
          "output_type": "stream",
          "text": [
            "\u001b[36m(ClientAppActor pid=287323)\u001b[0m [Client 0] evaluate, config: {}\n"
          ]
        },
        {
          "name": "stderr",
          "output_type": "stream",
          "text": [
            "\u001b[92mINFO \u001b[0m:      aggregate_evaluate: received 4 results and 0 failures\n",
            "\u001b[92mINFO \u001b[0m:      \n",
            "\u001b[92mINFO \u001b[0m:      [ROUND 47]\n",
            "\u001b[92mINFO \u001b[0m:      configure_fit: strategy sampled 4 clients (out of 4)\n"
          ]
        },
        {
          "name": "stdout",
          "output_type": "stream",
          "text": [
            "\u001b[36m(ClientAppActor pid=287321)\u001b[0m [Client 0] fit, config: {}\n",
            "\u001b[36m(ClientAppActor pid=287321)\u001b[0m [Client 3] evaluate, config: {}\u001b[32m [repeated 3x across cluster]\u001b[0m\n",
            "\u001b[36m(ClientAppActor pid=287321)\u001b[0m Epoch 1: train loss 0.7604295072025723, accuracy 0.7604444444444445\n",
            "\u001b[36m(ClientAppActor pid=287323)\u001b[0m [Client 2] fit, config: {}\u001b[32m [repeated 3x across cluster]\u001b[0m\n",
            "\u001b[36m(ClientAppActor pid=287322)\u001b[0m Epoch 1: train loss 0.7407836160129971, accuracy 0.7593333333333333\n",
            "\u001b[36m(ClientAppActor pid=287320)\u001b[0m Epoch 1: train loss 0.7915397259394328, accuracy 0.7473333333333333\n",
            "\u001b[36m(ClientAppActor pid=287323)\u001b[0m Epoch 1: train loss 0.7598780485259162, accuracy 0.7624444444444445\n"
          ]
        },
        {
          "name": "stderr",
          "output_type": "stream",
          "text": [
            "\u001b[92mINFO \u001b[0m:      aggregate_fit: received 4 results and 0 failures\n",
            "\u001b[92mINFO \u001b[0m:      fit progress: (47, 1.0310048917770385, {'accuracy': 0.6357}, 18600.979706367943)\n",
            "\u001b[92mINFO \u001b[0m:      configure_evaluate: strategy sampled 4 clients (out of 4)\n"
          ]
        },
        {
          "name": "stdout",
          "output_type": "stream",
          "text": [
            "\u001b[36m(ClientAppActor pid=287323)\u001b[0m [Client 1] evaluate, config: {}\n"
          ]
        },
        {
          "name": "stderr",
          "output_type": "stream",
          "text": [
            "\u001b[92mINFO \u001b[0m:      aggregate_evaluate: received 4 results and 0 failures\n",
            "\u001b[92mINFO \u001b[0m:      \n",
            "\u001b[92mINFO \u001b[0m:      [ROUND 48]\n",
            "\u001b[92mINFO \u001b[0m:      configure_fit: strategy sampled 4 clients (out of 4)\n"
          ]
        },
        {
          "name": "stdout",
          "output_type": "stream",
          "text": [
            "\u001b[36m(ClientAppActor pid=287321)\u001b[0m [Client 2] fit, config: {}\n",
            "\u001b[36m(ClientAppActor pid=287321)\u001b[0m [Client 3] evaluate, config: {}\u001b[32m [repeated 3x across cluster]\u001b[0m\n",
            "\u001b[36m(ClientAppActor pid=287321)\u001b[0m Epoch 1: train loss 0.7521010156207615, accuracy 0.7615555555555555\n",
            "\u001b[36m(ClientAppActor pid=287323)\u001b[0m [Client 3] fit, config: {}\u001b[32m [repeated 3x across cluster]\u001b[0m\n",
            "\u001b[36m(ClientAppActor pid=287322)\u001b[0m Epoch 1: train loss 0.7398373428980509, accuracy 0.7593333333333333\n",
            "\u001b[36m(ClientAppActor pid=287320)\u001b[0m Epoch 1: train loss 0.7421879537370469, accuracy 0.7668888888888888\n",
            "\u001b[36m(ClientAppActor pid=287323)\u001b[0m Epoch 1: train loss 0.7658540820545621, accuracy 0.7493333333333333\n"
          ]
        },
        {
          "name": "stderr",
          "output_type": "stream",
          "text": [
            "\u001b[92mINFO \u001b[0m:      aggregate_fit: received 4 results and 0 failures\n",
            "\u001b[92mINFO \u001b[0m:      fit progress: (48, 1.025106400680542, {'accuracy': 0.6395}, 19000.734495471)\n",
            "\u001b[92mINFO \u001b[0m:      configure_evaluate: strategy sampled 4 clients (out of 4)\n"
          ]
        },
        {
          "name": "stdout",
          "output_type": "stream",
          "text": [
            "\u001b[36m(ClientAppActor pid=287323)\u001b[0m [Client 2] evaluate, config: {}\n"
          ]
        },
        {
          "name": "stderr",
          "output_type": "stream",
          "text": [
            "\u001b[92mINFO \u001b[0m:      aggregate_evaluate: received 4 results and 0 failures\n",
            "\u001b[92mINFO \u001b[0m:      \n",
            "\u001b[92mINFO \u001b[0m:      [ROUND 49]\n",
            "\u001b[92mINFO \u001b[0m:      configure_fit: strategy sampled 4 clients (out of 4)\n"
          ]
        },
        {
          "name": "stdout",
          "output_type": "stream",
          "text": [
            "\u001b[36m(ClientAppActor pid=287321)\u001b[0m [Client 3] fit, config: {}\n",
            "\u001b[36m(ClientAppActor pid=287321)\u001b[0m [Client 3] evaluate, config: {}\u001b[32m [repeated 3x across cluster]\u001b[0m\n",
            "\u001b[36m(ClientAppActor pid=287321)\u001b[0m Epoch 1: train loss 0.7594140742090013, accuracy 0.7526666666666667\n",
            "\u001b[36m(ClientAppActor pid=287323)\u001b[0m [Client 2] fit, config: {}\u001b[32m [repeated 3x across cluster]\u001b[0m\n",
            "\u001b[36m(ClientAppActor pid=287322)\u001b[0m Epoch 1: train loss 0.7373029742240905, accuracy 0.7671111111111111\n",
            "\u001b[36m(ClientAppActor pid=287320)\u001b[0m Epoch 1: train loss 0.7230848280058967, accuracy 0.764\n",
            "\u001b[36m(ClientAppActor pid=287323)\u001b[0m Epoch 1: train loss 0.7340139905081855, accuracy 0.7726666666666666\n"
          ]
        },
        {
          "name": "stderr",
          "output_type": "stream",
          "text": [
            "\u001b[92mINFO \u001b[0m:      aggregate_fit: received 4 results and 0 failures\n",
            "\u001b[92mINFO \u001b[0m:      fit progress: (49, 1.0291996454238892, {'accuracy': 0.6415}, 19406.303844772978)\n",
            "\u001b[92mINFO \u001b[0m:      configure_evaluate: strategy sampled 4 clients (out of 4)\n"
          ]
        },
        {
          "name": "stdout",
          "output_type": "stream",
          "text": [
            "\u001b[36m(ClientAppActor pid=287323)\u001b[0m [Client 0] evaluate, config: {}\n"
          ]
        },
        {
          "name": "stderr",
          "output_type": "stream",
          "text": [
            "\u001b[92mINFO \u001b[0m:      aggregate_evaluate: received 4 results and 0 failures\n",
            "\u001b[92mINFO \u001b[0m:      \n",
            "\u001b[92mINFO \u001b[0m:      [ROUND 50]\n",
            "\u001b[92mINFO \u001b[0m:      configure_fit: strategy sampled 4 clients (out of 4)\n"
          ]
        },
        {
          "name": "stdout",
          "output_type": "stream",
          "text": [
            "\u001b[36m(ClientAppActor pid=287321)\u001b[0m [Client 3] fit, config: {}\n",
            "\u001b[36m(ClientAppActor pid=287321)\u001b[0m [Client 2] evaluate, config: {}\u001b[32m [repeated 3x across cluster]\u001b[0m\n",
            "\u001b[36m(ClientAppActor pid=287321)\u001b[0m Epoch 1: train loss 0.7399432027604845, accuracy 0.7626666666666667\n",
            "\u001b[36m(ClientAppActor pid=287323)\u001b[0m [Client 0] fit, config: {}\u001b[32m [repeated 3x across cluster]\u001b[0m\n",
            "\u001b[36m(ClientAppActor pid=287320)\u001b[0m Epoch 1: train loss 0.7114423689842224, accuracy 0.7715555555555556\n",
            "\u001b[36m(ClientAppActor pid=287322)\u001b[0m Epoch 1: train loss 0.7267061057620579, accuracy 0.7622222222222222\n",
            "\u001b[36m(ClientAppActor pid=287323)\u001b[0m Epoch 1: train loss 0.7224506287574768, accuracy 0.7742222222222223\n"
          ]
        },
        {
          "name": "stderr",
          "output_type": "stream",
          "text": [
            "\u001b[92mINFO \u001b[0m:      aggregate_fit: received 4 results and 0 failures\n",
            "\u001b[92mINFO \u001b[0m:      fit progress: (50, 1.0295825239181517, {'accuracy': 0.6389}, 19811.654440945946)\n",
            "\u001b[92mINFO \u001b[0m:      configure_evaluate: strategy sampled 4 clients (out of 4)\n"
          ]
        },
        {
          "name": "stdout",
          "output_type": "stream",
          "text": [
            "\u001b[36m(ClientAppActor pid=287323)\u001b[0m [Client 1] evaluate, config: {}\n"
          ]
        },
        {
          "name": "stderr",
          "output_type": "stream",
          "text": [
            "\u001b[92mINFO \u001b[0m:      aggregate_evaluate: received 4 results and 0 failures\n",
            "\u001b[92mINFO \u001b[0m:      \n",
            "\u001b[92mINFO \u001b[0m:      [SUMMARY]\n",
            "\u001b[92mINFO \u001b[0m:      Run finished 50 round(s) in 19829.88s\n",
            "\u001b[92mINFO \u001b[0m:      \tHistory (loss, distributed):\n",
            "\u001b[92mINFO \u001b[0m:      \t\tround 1: 1.9526768653392792\n",
            "\u001b[92mINFO \u001b[0m:      \t\tround 2: 1.819146862268448\n",
            "\u001b[92mINFO \u001b[0m:      \t\tround 3: 1.7308230946063996\n",
            "\u001b[92mINFO \u001b[0m:      \t\tround 4: 1.6535907626152038\n",
            "\u001b[92mINFO \u001b[0m:      \t\tround 5: 1.5920916850566864\n",
            "\u001b[92mINFO \u001b[0m:      \t\tround 6: 1.540928983926773\n",
            "\u001b[92mINFO \u001b[0m:      \t\tround 7: 1.5025362362861632\n",
            "\u001b[92mINFO \u001b[0m:      \t\tround 8: 1.4672108643054962\n",
            "\u001b[92mINFO \u001b[0m:      \t\tround 9: 1.4347226297855378\n",
            "\u001b[92mINFO \u001b[0m:      \t\tround 10: 1.41237411403656\n",
            "\u001b[92mINFO \u001b[0m:      \t\tround 11: 1.3920526227951049\n",
            "\u001b[92mINFO \u001b[0m:      \t\tround 12: 1.3709916095733643\n",
            "\u001b[92mINFO \u001b[0m:      \t\tround 13: 1.348056334257126\n",
            "\u001b[92mINFO \u001b[0m:      \t\tround 14: 1.335237101316452\n",
            "\u001b[92mINFO \u001b[0m:      \t\tround 15: 1.3162569282054903\n",
            "\u001b[92mINFO \u001b[0m:      \t\tround 16: 1.3037657251358032\n",
            "\u001b[92mINFO \u001b[0m:      \t\tround 17: 1.290808629989624\n",
            "\u001b[92mINFO \u001b[0m:      \t\tround 18: 1.2789317269325258\n",
            "\u001b[92mINFO \u001b[0m:      \t\tround 19: 1.2568190426826478\n",
            "\u001b[92mINFO \u001b[0m:      \t\tround 20: 1.2421467392444612\n",
            "\u001b[92mINFO \u001b[0m:      \t\tround 21: 1.2345539648532868\n",
            "\u001b[92mINFO \u001b[0m:      \t\tround 22: 1.220293972969055\n",
            "\u001b[92mINFO \u001b[0m:      \t\tround 23: 1.206790424823761\n",
            "\u001b[92mINFO \u001b[0m:      \t\tround 24: 1.19596027469635\n",
            "\u001b[92mINFO \u001b[0m:      \t\tround 25: 1.1832697410583495\n",
            "\u001b[92mINFO \u001b[0m:      \t\tround 26: 1.1807254948616028\n",
            "\u001b[92mINFO \u001b[0m:      \t\tround 27: 1.1642842955589294\n",
            "\u001b[92mINFO \u001b[0m:      \t\tround 28: 1.1583858878612519\n",
            "\u001b[92mINFO \u001b[0m:      \t\tround 29: 1.145079386472702\n",
            "\u001b[92mINFO \u001b[0m:      \t\tround 30: 1.1392977706193923\n",
            "\u001b[92mINFO \u001b[0m:      \t\tround 31: 1.1287343744039535\n",
            "\u001b[92mINFO \u001b[0m:      \t\tround 32: 1.123517911195755\n",
            "\u001b[92mINFO \u001b[0m:      \t\tround 33: 1.1164315063953398\n",
            "\u001b[92mINFO \u001b[0m:      \t\tround 34: 1.114555602312088\n",
            "\u001b[92mINFO \u001b[0m:      \t\tround 35: 1.096449436545372\n",
            "\u001b[92mINFO \u001b[0m:      \t\tround 36: 1.093666947841644\n",
            "\u001b[92mINFO \u001b[0m:      \t\tround 37: 1.0817649891376495\n",
            "\u001b[92mINFO \u001b[0m:      \t\tround 38: 1.0756321996450424\n",
            "\u001b[92mINFO \u001b[0m:      \t\tround 39: 1.0697197264432907\n",
            "\u001b[92mINFO \u001b[0m:      \t\tround 40: 1.0709519522190094\n",
            "\u001b[92mINFO \u001b[0m:      \t\tround 41: 1.0622079038619994\n",
            "\u001b[92mINFO \u001b[0m:      \t\tround 42: 1.0554848437309265\n",
            "\u001b[92mINFO \u001b[0m:      \t\tround 43: 1.056258581519127\n",
            "\u001b[92mINFO \u001b[0m:      \t\tround 44: 1.0418057465553283\n",
            "\u001b[92mINFO \u001b[0m:      \t\tround 45: 1.0354088979959488\n",
            "\u001b[92mINFO \u001b[0m:      \t\tround 46: 1.036241466164589\n",
            "\u001b[92mINFO \u001b[0m:      \t\tround 47: 1.029690582036972\n",
            "\u001b[92mINFO \u001b[0m:      \t\tround 48: 1.027355611681938\n",
            "\u001b[92mINFO \u001b[0m:      \t\tround 49: 1.0306045610904693\n",
            "\u001b[92mINFO \u001b[0m:      \t\tround 50: 1.0293755450248718\n",
            "\u001b[92mINFO \u001b[0m:      \tHistory (loss, centralized):\n",
            "\u001b[92mINFO \u001b[0m:      \t\tround 0: 2.310616931915283\n",
            "\u001b[92mINFO \u001b[0m:      \t\tround 1: 1.9339944255828858\n",
            "\u001b[92mINFO \u001b[0m:      \t\tround 2: 1.7988666261672974\n",
            "\u001b[92mINFO \u001b[0m:      \t\tround 3: 1.7044036014556885\n",
            "\u001b[92mINFO \u001b[0m:      \t\tround 4: 1.6266125591278076\n",
            "\u001b[92mINFO \u001b[0m:      \t\tround 5: 1.569814175415039\n",
            "\u001b[92mINFO \u001b[0m:      \t\tround 6: 1.5183927597045899\n",
            "\u001b[92mINFO \u001b[0m:      \t\tround 7: 1.4806231258392335\n",
            "\u001b[92mINFO \u001b[0m:      \t\tround 8: 1.4474051218032837\n",
            "\u001b[92mINFO \u001b[0m:      \t\tround 9: 1.4226346809387207\n",
            "\u001b[92mINFO \u001b[0m:      \t\tround 10: 1.3944031053543091\n",
            "\u001b[92mINFO \u001b[0m:      \t\tround 11: 1.375718928527832\n",
            "\u001b[92mINFO \u001b[0m:      \t\tround 12: 1.3535069292068482\n",
            "\u001b[92mINFO \u001b[0m:      \t\tround 13: 1.3348885509490966\n",
            "\u001b[92mINFO \u001b[0m:      \t\tround 14: 1.3225952993392944\n",
            "\u001b[92mINFO \u001b[0m:      \t\tround 15: 1.3033589977264404\n",
            "\u001b[92mINFO \u001b[0m:      \t\tround 16: 1.2893765607833862\n",
            "\u001b[92mINFO \u001b[0m:      \t\tround 17: 1.274260823059082\n",
            "\u001b[92mINFO \u001b[0m:      \t\tround 18: 1.261648603439331\n",
            "\u001b[92mINFO \u001b[0m:      \t\tround 19: 1.245079165649414\n",
            "\u001b[92mINFO \u001b[0m:      \t\tround 20: 1.2327204772949218\n",
            "\u001b[92mINFO \u001b[0m:      \t\tround 21: 1.2217622579574585\n",
            "\u001b[92mINFO \u001b[0m:      \t\tround 22: 1.2093775362014771\n",
            "\u001b[92mINFO \u001b[0m:      \t\tround 23: 1.1967705598831178\n",
            "\u001b[92mINFO \u001b[0m:      \t\tround 24: 1.1852803899765014\n",
            "\u001b[92mINFO \u001b[0m:      \t\tround 25: 1.1720422534942627\n",
            "\u001b[92mINFO \u001b[0m:      \t\tround 26: 1.1705740604400634\n",
            "\u001b[92mINFO \u001b[0m:      \t\tround 27: 1.1589813835144043\n",
            "\u001b[92mINFO \u001b[0m:      \t\tround 28: 1.149787373161316\n",
            "\u001b[92mINFO \u001b[0m:      \t\tround 29: 1.1372749086380005\n",
            "\u001b[92mINFO \u001b[0m:      \t\tround 30: 1.1309656888961792\n",
            "\u001b[92mINFO \u001b[0m:      \t\tround 31: 1.1218374816894532\n",
            "\u001b[92mINFO \u001b[0m:      \t\tround 32: 1.1167708526611329\n",
            "\u001b[92mINFO \u001b[0m:      \t\tround 33: 1.1086033073425292\n",
            "\u001b[92mINFO \u001b[0m:      \t\tround 34: 1.1069476963043212\n",
            "\u001b[92mINFO \u001b[0m:      \t\tround 35: 1.0907198446273805\n",
            "\u001b[92mINFO \u001b[0m:      \t\tround 36: 1.0911915756225585\n",
            "\u001b[92mINFO \u001b[0m:      \t\tround 37: 1.0827532018661499\n",
            "\u001b[92mINFO \u001b[0m:      \t\tround 38: 1.0725305305480957\n",
            "\u001b[92mINFO \u001b[0m:      \t\tround 39: 1.0695132457733154\n",
            "\u001b[92mINFO \u001b[0m:      \t\tround 40: 1.063858850479126\n",
            "\u001b[92mINFO \u001b[0m:      \t\tround 41: 1.058687158203125\n",
            "\u001b[92mINFO \u001b[0m:      \t\tround 42: 1.055888410758972\n",
            "\u001b[92mINFO \u001b[0m:      \t\tround 43: 1.0469964824676514\n",
            "\u001b[92mINFO \u001b[0m:      \t\tround 44: 1.0435439697265625\n",
            "\u001b[92mINFO \u001b[0m:      \t\tround 45: 1.036192160987854\n",
            "\u001b[92mINFO \u001b[0m:      \t\tround 46: 1.0320084945678711\n",
            "\u001b[92mINFO \u001b[0m:      \t\tround 47: 1.0310048917770385\n",
            "\u001b[92mINFO \u001b[0m:      \t\tround 48: 1.025106400680542\n",
            "\u001b[92mINFO \u001b[0m:      \t\tround 49: 1.0291996454238892\n",
            "\u001b[92mINFO \u001b[0m:      \t\tround 50: 1.0295825239181517\n",
            "\u001b[92mINFO \u001b[0m:      \tHistory (metrics, distributed, fit):\n",
            "\u001b[92mINFO \u001b[0m:      \t{'bytes sent': [(1, 106809515.0),\n",
            "\u001b[92mINFO \u001b[0m:      \t                (2, 106809515.0),\n",
            "\u001b[92mINFO \u001b[0m:      \t                (3, 106809515.0),\n",
            "\u001b[92mINFO \u001b[0m:      \t                (4, 106809515.0),\n",
            "\u001b[92mINFO \u001b[0m:      \t                (5, 106809515.0),\n",
            "\u001b[92mINFO \u001b[0m:      \t                (6, 106809515.0),\n",
            "\u001b[92mINFO \u001b[0m:      \t                (7, 106809515.0),\n",
            "\u001b[92mINFO \u001b[0m:      \t                (8, 106809515.0),\n",
            "\u001b[92mINFO \u001b[0m:      \t                (9, 106809515.0),\n",
            "\u001b[92mINFO \u001b[0m:      \t                (10, 106809515.0),\n",
            "\u001b[92mINFO \u001b[0m:      \t                (11, 106809515.0),\n",
            "\u001b[92mINFO \u001b[0m:      \t                (12, 106809513.0),\n",
            "\u001b[92mINFO \u001b[0m:      \t                (13, 106809515.0),\n",
            "\u001b[92mINFO \u001b[0m:      \t                (14, 106809515.0),\n",
            "\u001b[92mINFO \u001b[0m:      \t                (15, 106809515.0),\n",
            "\u001b[92mINFO \u001b[0m:      \t                (16, 106809515.0),\n",
            "\u001b[92mINFO \u001b[0m:      \t                (17, 106809515.0),\n",
            "\u001b[92mINFO \u001b[0m:      \t                (18, 106809515.0),\n",
            "\u001b[92mINFO \u001b[0m:      \t                (19, 106809515.0),\n",
            "\u001b[92mINFO \u001b[0m:      \t                (20, 106809515.0),\n",
            "\u001b[92mINFO \u001b[0m:      \t                (21, 106809515.0),\n",
            "\u001b[92mINFO \u001b[0m:      \t                (22, 106809515.0),\n",
            "\u001b[92mINFO \u001b[0m:      \t                (23, 106809515.0),\n",
            "\u001b[92mINFO \u001b[0m:      \t                (24, 106809515.0),\n",
            "\u001b[92mINFO \u001b[0m:      \t                (25, 106809515.0),\n",
            "\u001b[92mINFO \u001b[0m:      \t                (26, 106809515.0),\n",
            "\u001b[92mINFO \u001b[0m:      \t                (27, 106809515.0),\n",
            "\u001b[92mINFO \u001b[0m:      \t                (28, 106809515.0),\n",
            "\u001b[92mINFO \u001b[0m:      \t                (29, 106809515.0),\n",
            "\u001b[92mINFO \u001b[0m:      \t                (30, 106809515.0),\n",
            "\u001b[92mINFO \u001b[0m:      \t                (31, 106809515.0),\n",
            "\u001b[92mINFO \u001b[0m:      \t                (32, 106809515.0),\n",
            "\u001b[92mINFO \u001b[0m:      \t                (33, 106809515.0),\n",
            "\u001b[92mINFO \u001b[0m:      \t                (34, 106809515.0),\n",
            "\u001b[92mINFO \u001b[0m:      \t                (35, 106809515.0),\n",
            "\u001b[92mINFO \u001b[0m:      \t                (36, 106809515.0),\n",
            "\u001b[92mINFO \u001b[0m:      \t                (37, 106809515.0),\n",
            "\u001b[92mINFO \u001b[0m:      \t                (38, 106809515.0),\n",
            "\u001b[92mINFO \u001b[0m:      \t                (39, 106809515.0),\n",
            "\u001b[92mINFO \u001b[0m:      \t                (40, 106809515.0),\n",
            "\u001b[92mINFO \u001b[0m:      \t                (41, 106809515.0),\n",
            "\u001b[92mINFO \u001b[0m:      \t                (42, 106809515.0),\n",
            "\u001b[92mINFO \u001b[0m:      \t                (43, 106809515.0),\n",
            "\u001b[92mINFO \u001b[0m:      \t                (44, 106809515.0),\n",
            "\u001b[92mINFO \u001b[0m:      \t                (45, 106809515.0),\n",
            "\u001b[92mINFO \u001b[0m:      \t                (46, 106809515.0),\n",
            "\u001b[92mINFO \u001b[0m:      \t                (47, 106809515.0),\n",
            "\u001b[92mINFO \u001b[0m:      \t                (48, 106809515.0),\n",
            "\u001b[92mINFO \u001b[0m:      \t                (49, 106809515.0),\n",
            "\u001b[92mINFO \u001b[0m:      \t                (50, 106809515.0)]}\n",
            "\u001b[92mINFO \u001b[0m:      \tHistory (metrics, distributed, evaluate):\n",
            "\u001b[92mINFO \u001b[0m:      \t{'accuracy': [(1, 0.309),\n",
            "\u001b[92mINFO \u001b[0m:      \t              (2, 0.34650000000000003),\n",
            "\u001b[92mINFO \u001b[0m:      \t              (3, 0.378),\n",
            "\u001b[92mINFO \u001b[0m:      \t              (4, 0.41000000000000003),\n",
            "\u001b[92mINFO \u001b[0m:      \t              (5, 0.429),\n",
            "\u001b[92mINFO \u001b[0m:      \t              (6, 0.441),\n",
            "\u001b[92mINFO \u001b[0m:      \t              (7, 0.45199999999999996),\n",
            "\u001b[92mINFO \u001b[0m:      \t              (8, 0.4705),\n",
            "\u001b[92mINFO \u001b[0m:      \t              (9, 0.4825),\n",
            "\u001b[92mINFO \u001b[0m:      \t              (10, 0.484),\n",
            "\u001b[92mINFO \u001b[0m:      \t              (11, 0.494),\n",
            "\u001b[92mINFO \u001b[0m:      \t              (12, 0.4975),\n",
            "\u001b[92mINFO \u001b[0m:      \t              (13, 0.512),\n",
            "\u001b[92mINFO \u001b[0m:      \t              (14, 0.5105),\n",
            "\u001b[92mINFO \u001b[0m:      \t              (15, 0.513),\n",
            "\u001b[92mINFO \u001b[0m:      \t              (16, 0.5335000000000001),\n",
            "\u001b[92mINFO \u001b[0m:      \t              (17, 0.5295000000000001),\n",
            "\u001b[92mINFO \u001b[0m:      \t              (18, 0.538),\n",
            "\u001b[92mINFO \u001b[0m:      \t              (19, 0.5505),\n",
            "\u001b[92mINFO \u001b[0m:      \t              (20, 0.5529999999999999),\n",
            "\u001b[92mINFO \u001b[0m:      \t              (21, 0.5525),\n",
            "\u001b[92mINFO \u001b[0m:      \t              (22, 0.5585),\n",
            "\u001b[92mINFO \u001b[0m:      \t              (23, 0.567),\n",
            "\u001b[92mINFO \u001b[0m:      \t              (24, 0.573),\n",
            "\u001b[92mINFO \u001b[0m:      \t              (25, 0.576),\n",
            "\u001b[92mINFO \u001b[0m:      \t              (26, 0.5785),\n",
            "\u001b[92mINFO \u001b[0m:      \t              (27, 0.5894999999999999),\n",
            "\u001b[92mINFO \u001b[0m:      \t              (28, 0.584),\n",
            "\u001b[92mINFO \u001b[0m:      \t              (29, 0.5864999999999999),\n",
            "\u001b[92mINFO \u001b[0m:      \t              (30, 0.592),\n",
            "\u001b[92mINFO \u001b[0m:      \t              (31, 0.5955),\n",
            "\u001b[92mINFO \u001b[0m:      \t              (32, 0.5974999999999999),\n",
            "\u001b[92mINFO \u001b[0m:      \t              (33, 0.5964999999999999),\n",
            "\u001b[92mINFO \u001b[0m:      \t              (34, 0.594),\n",
            "\u001b[92mINFO \u001b[0m:      \t              (35, 0.611),\n",
            "\u001b[92mINFO \u001b[0m:      \t              (36, 0.6084999999999999),\n",
            "\u001b[92mINFO \u001b[0m:      \t              (37, 0.6104999999999999),\n",
            "\u001b[92mINFO \u001b[0m:      \t              (38, 0.6155),\n",
            "\u001b[92mINFO \u001b[0m:      \t              (39, 0.6225),\n",
            "\u001b[92mINFO \u001b[0m:      \t              (40, 0.6165),\n",
            "\u001b[92mINFO \u001b[0m:      \t              (41, 0.615),\n",
            "\u001b[92mINFO \u001b[0m:      \t              (42, 0.6204999999999999),\n",
            "\u001b[92mINFO \u001b[0m:      \t              (43, 0.621),\n",
            "\u001b[92mINFO \u001b[0m:      \t              (44, 0.622),\n",
            "\u001b[92mINFO \u001b[0m:      \t              (45, 0.626),\n",
            "\u001b[92mINFO \u001b[0m:      \t              (46, 0.632),\n",
            "\u001b[92mINFO \u001b[0m:      \t              (47, 0.634),\n",
            "\u001b[92mINFO \u001b[0m:      \t              (48, 0.6305000000000001),\n",
            "\u001b[92mINFO \u001b[0m:      \t              (49, 0.632),\n",
            "\u001b[92mINFO \u001b[0m:      \t              (50, 0.634)]}\n",
            "\u001b[92mINFO \u001b[0m:      \tHistory (metrics, centralized):\n",
            "\u001b[92mINFO \u001b[0m:      \t{'accuracy': [(0, 0.0584),\n",
            "\u001b[92mINFO \u001b[0m:      \t              (1, 0.3092),\n",
            "\u001b[92mINFO \u001b[0m:      \t              (2, 0.3648),\n",
            "\u001b[92mINFO \u001b[0m:      \t              (3, 0.4013),\n",
            "\u001b[92mINFO \u001b[0m:      \t              (4, 0.4304),\n",
            "\u001b[92mINFO \u001b[0m:      \t              (5, 0.4462),\n",
            "\u001b[92mINFO \u001b[0m:      \t              (6, 0.4631),\n",
            "\u001b[92mINFO \u001b[0m:      \t              (7, 0.469),\n",
            "\u001b[92mINFO \u001b[0m:      \t              (8, 0.4824),\n",
            "\u001b[92mINFO \u001b[0m:      \t              (9, 0.4914),\n",
            "\u001b[92mINFO \u001b[0m:      \t              (10, 0.5047),\n",
            "\u001b[92mINFO \u001b[0m:      \t              (11, 0.5087),\n",
            "\u001b[92mINFO \u001b[0m:      \t              (12, 0.5204),\n",
            "\u001b[92mINFO \u001b[0m:      \t              (13, 0.5234),\n",
            "\u001b[92mINFO \u001b[0m:      \t              (14, 0.5327),\n",
            "\u001b[92mINFO \u001b[0m:      \t              (15, 0.5337),\n",
            "\u001b[92mINFO \u001b[0m:      \t              (16, 0.5453),\n",
            "\u001b[92mINFO \u001b[0m:      \t              (17, 0.5496),\n",
            "\u001b[92mINFO \u001b[0m:      \t              (18, 0.5546),\n",
            "\u001b[92mINFO \u001b[0m:      \t              (19, 0.5607),\n",
            "\u001b[92mINFO \u001b[0m:      \t              (20, 0.5648),\n",
            "\u001b[92mINFO \u001b[0m:      \t              (21, 0.5708),\n",
            "\u001b[92mINFO \u001b[0m:      \t              (22, 0.575),\n",
            "\u001b[92mINFO \u001b[0m:      \t              (23, 0.5776),\n",
            "\u001b[92mINFO \u001b[0m:      \t              (24, 0.5833),\n",
            "\u001b[92mINFO \u001b[0m:      \t              (25, 0.5878),\n",
            "\u001b[92mINFO \u001b[0m:      \t              (26, 0.5861),\n",
            "\u001b[92mINFO \u001b[0m:      \t              (27, 0.5908),\n",
            "\u001b[92mINFO \u001b[0m:      \t              (28, 0.5947),\n",
            "\u001b[92mINFO \u001b[0m:      \t              (29, 0.6013),\n",
            "\u001b[92mINFO \u001b[0m:      \t              (30, 0.6019),\n",
            "\u001b[92mINFO \u001b[0m:      \t              (31, 0.6078),\n",
            "\u001b[92mINFO \u001b[0m:      \t              (32, 0.6086),\n",
            "\u001b[92mINFO \u001b[0m:      \t              (33, 0.6104),\n",
            "\u001b[92mINFO \u001b[0m:      \t              (34, 0.6105),\n",
            "\u001b[92mINFO \u001b[0m:      \t              (35, 0.6189),\n",
            "\u001b[92mINFO \u001b[0m:      \t              (36, 0.6177),\n",
            "\u001b[92mINFO \u001b[0m:      \t              (37, 0.6186),\n",
            "\u001b[92mINFO \u001b[0m:      \t              (38, 0.6236),\n",
            "\u001b[92mINFO \u001b[0m:      \t              (39, 0.6243),\n",
            "\u001b[92mINFO \u001b[0m:      \t              (40, 0.6282),\n",
            "\u001b[92mINFO \u001b[0m:      \t              (41, 0.6278),\n",
            "\u001b[92mINFO \u001b[0m:      \t              (42, 0.629),\n",
            "\u001b[92mINFO \u001b[0m:      \t              (43, 0.6326),\n",
            "\u001b[92mINFO \u001b[0m:      \t              (44, 0.6332),\n",
            "\u001b[92mINFO \u001b[0m:      \t              (45, 0.6403),\n",
            "\u001b[92mINFO \u001b[0m:      \t              (46, 0.6367),\n",
            "\u001b[92mINFO \u001b[0m:      \t              (47, 0.6357),\n",
            "\u001b[92mINFO \u001b[0m:      \t              (48, 0.6395),\n",
            "\u001b[92mINFO \u001b[0m:      \t              (49, 0.6415),\n",
            "\u001b[92mINFO \u001b[0m:      \t              (50, 0.6389)]}\n",
            "\u001b[92mINFO \u001b[0m:      \n"
          ]
        },
        {
          "name": "stdout",
          "output_type": "stream",
          "text": [
            "Metrics logged\n"
          ]
        }
      ],
      "source": [
        "import json\n",
        "from torch.utils.data import DataLoader\n",
        "\n",
        "strategy = FedSparse(evaluate_metrics_aggregation_fn = weighted_average,\n",
        "                     fit_metrics_aggregation_fn = aggregate_fit_metrics,\n",
        "                     evaluate_fn=get_evaluate_fn(testloader))\n",
        "\n",
        "client_resources = None\n",
        "log_data = []\n",
        "if DEVICE.type == \"cuda\":\n",
        "    client_resources = {\"num_gpus\": 1}\n",
        "\n",
        "for pruning_rate in np.arange(0, 0.2, 0.1):\n",
        "    print(f\"Running simulation with pruning rate: {pruning_rate}\")\n",
        "\n",
        "    def client_fn(cid) -> FlowerClient:\n",
        "          net = ResNet12(feature_maps=64, input_shape=(3, 32, 32), num_classes=10, batchn=True)\n",
        "          trainloader = trainloaders[int(cid)]\n",
        "          valloader = valloaders[int(cid)]\n",
        "          return FlowerClient(cid, net, trainloader, valloader, pruning_rate)\n",
        "\n",
        "    history = fl.simulation.start_simulation(\n",
        "        strategy=strategy,\n",
        "        client_fn=client_fn,\n",
        "        num_clients=4,\n",
        "        config=fl.server.ServerConfig(num_rounds=50),\n",
        "        client_resources=client_resources,\n",
        "    )\n",
        "\n",
        "    # Collect the metrics\n",
        "    log_entry = {\n",
        "        \"pruning_rate\": pruning_rate,\n",
        "        \"history_loss_distributed\": history.losses_distributed,\n",
        "        \"history_loss_centralized\": history.losses_centralized,\n",
        "        \"history_metrics_distributed_fit\": history.metrics_distributed_fit,\n",
        "        \"history_metrics_distributed_evaluate\": history.metrics_distributed,\n",
        "        \"history_metrics_centralized\": history.metrics_centralized\n",
        "    }\n",
        "    log_data.append(log_entry)\n",
        "\n",
        "# Write the collected log data to a JSON file\n",
        "with open('CIFAR10_ResNet12_Unstructured.json', 'w') as f:\n",
        "    json.dump(log_data, f, indent=4)\n",
        "\n",
        "print(\"Metrics logged\")\n"
      ]
    }
  ],
  "metadata": {
    "colab": {
      "provenance": [],
      "toc_visible": true
    },
    "kernelspec": {
      "display_name": "Python 3",
      "name": "python3"
    },
    "language_info": {
      "codemirror_mode": {
        "name": "ipython",
        "version": 3
      },
      "file_extension": ".py",
      "mimetype": "text/x-python",
      "name": "python",
      "nbconvert_exporter": "python",
      "pygments_lexer": "ipython3",
      "version": "3.10.12"
    }
  },
  "nbformat": 4,
  "nbformat_minor": 0
}
