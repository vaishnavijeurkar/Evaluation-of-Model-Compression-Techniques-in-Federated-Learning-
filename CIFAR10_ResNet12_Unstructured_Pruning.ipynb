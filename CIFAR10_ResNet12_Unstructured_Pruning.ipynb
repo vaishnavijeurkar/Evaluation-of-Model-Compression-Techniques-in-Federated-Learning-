{
  "cells": [
    {
      "cell_type": "code",
      "execution_count": 15,
      "metadata": {
        "colab": {
          "base_uri": "https://localhost:8080/"
        },
        "id": "7Tqm342Kya-5",
        "outputId": "f1338173-082f-4276-ab57-f6fb7b8df71c"
      },
      "outputs": [],
      "source": [
        "# !pip install -q flwr[simulation] torch torchvision scipy\n",
        "# !pip install flwr_datasets[vision]"
      ]
    },
    {
      "cell_type": "markdown",
      "metadata": {},
      "source": [
        "We will be using the _simulation_ mode in Flower, which allows you to run a large number of clients without the overheads of manually managing devices. This is achieved via the [Virtual Client Engine](https://flower.ai/docs/framework/how-to-run-simulations.html) in Flower. With simulation, you can dynamically scale your experiments whether you run the code on your laptop, a machine with a single GPU, a server with multiple GPUs os even on a cluster with multiple servers. The `Virtual Client Engine` handles everything transparently and it allows you to specify how many resources (e.g. CPU cores, GPU VRAM) should be assigned to each virtual client."
      ]
    },
    {
      "cell_type": "markdown",
      "metadata": {},
      "source": [
        "\n",
        "Flower is agnostic to your choice of ML Framework. Flower works with `PyTorch`, `Tensorflow`, `NumPy`, `🤗 Transformers`, `MXNet`, `JAX`, `scikit-learn`, `fastai`, `Pandas`. Flower also supports all major platforms: `iOS`, `Android` and plain `C++`. You can find a _quickstart-_ example for each of the above in the [Flower Repository](https://github.com/adap/flower/tree/main/examples) inside the `examples/` directory.\n",
        "\n",
        "In this experiment we are going to use PyTorch, it comes pre-installed in your Collab runtime so there is no need to installed it again. If you wouuld like to install another version, you can still do that in the same way other packages are installed via `!pip`"
      ]
    },
    {
      "cell_type": "markdown",
      "metadata": {
        "id": "6Pq6T1oFya-6"
      },
      "source": [
        "Importing Libraries"
      ]
    },
    {
      "cell_type": "code",
      "execution_count": 16,
      "metadata": {
        "colab": {
          "base_uri": "https://localhost:8080/"
        },
        "id": "ayGxlwHOya-6",
        "outputId": "e21ad23f-5a43-4614-8f0f-55228e46debd"
      },
      "outputs": [
        {
          "name": "stdout",
          "output_type": "stream",
          "text": [
            "Training on cuda using PyTorch 2.3.1+cu121 and Flower 1.9.0\n"
          ]
        }
      ],
      "source": [
        "from collections import OrderedDict\n",
        "from typing import Dict, List, Optional, Tuple\n",
        "\n",
        "import numpy as np\n",
        "import torch\n",
        "import torch.nn as nn\n",
        "import torch.nn.functional as F\n",
        "import torchvision.transforms as transforms\n",
        "from torch.utils.data import DataLoader, random_split\n",
        "from torchvision.datasets import CIFAR10\n",
        "\n",
        "import flwr as fl\n",
        "\n",
        "DEVICE = torch.device(\"cuda\")  # Try \"cuda\" to train on GPU\n",
        "print(\n",
        "    f\"Training on {DEVICE} using PyTorch {torch.__version__} and Flower {fl.__version__}\"\n",
        ")"
      ]
    },
    {
      "cell_type": "markdown",
      "metadata": {
        "id": "mE9FDjOZya-6"
      },
      "source": [
        "It is possible to switch to a runtime that has GPU acceleration enabled (on Google Colab: `Runtime > Change runtime type > Hardware acclerator: GPU > Save`). Note, however, that Google Colab is not always able to offer GPU acceleration. If you see an error related to GPU availability in one of the following sections, consider switching back to CPU-based execution by setting `DEVICE = torch.device(\"cpu\")`. If the runtime has GPU acceleration enabled, you should see the output `Training on cuda`, otherwise it'll say `Training on cpu`."
      ]
    },
    {
      "cell_type": "markdown",
      "metadata": {
        "id": "Bjuuhoxcya-7"
      },
      "source": [
        "### Data loading\n",
        "\n",
        "Let's now load the CIFAR-10 training and test set, partition them into ten smaller datasets (each split into training and validation set), and wrap everything in their own `DataLoader`."
      ]
    },
    {
      "cell_type": "code",
      "execution_count": 17,
      "metadata": {
        "colab": {
          "base_uri": "https://localhost:8080/"
        },
        "id": "ff8h-Bc9ya-7",
        "outputId": "a623d82e-d3ab-4bc2-f0fc-db280075d2fe"
      },
      "outputs": [
        {
          "name": "stdout",
          "output_type": "stream",
          "text": [
            "Files already downloaded and verified\n",
            "Files already downloaded and verified\n"
          ]
        }
      ],
      "source": [
        "NUM_CLIENTS = 10\n",
        "\n",
        "\n",
        "def load_datasets(num_clients: int):\n",
        "    # Download and transform CIFAR-10 (train and test)\n",
        "    transform = transforms.Compose(\n",
        "        [transforms.ToTensor(), transforms.Normalize((0.5, 0.5, 0.5), (0.5, 0.5, 0.5))]\n",
        "    )\n",
        "    trainset = CIFAR10(\"./dataset\", train=True, download=True, transform=transform)\n",
        "    testset = CIFAR10(\"./dataset\", train=False, download=True, transform=transform)\n",
        "\n",
        "    # Split training set into `num_clients` partitions to simulate different local datasets\n",
        "    partition_size = len(trainset) // num_clients\n",
        "    lengths = [partition_size] * num_clients\n",
        "    datasets = random_split(trainset, lengths, torch.Generator().manual_seed(42))\n",
        "\n",
        "    # Split each partition into train/val and create DataLoader\n",
        "    trainloaders = []\n",
        "    valloaders = []\n",
        "    for ds in datasets:\n",
        "        len_val = len(ds) // 10  # 10 % validation set\n",
        "        len_train = len(ds) - len_val\n",
        "        lengths = [len_train, len_val]\n",
        "        ds_train, ds_val = random_split(ds, lengths, torch.Generator().manual_seed(42))\n",
        "        trainloaders.append(DataLoader(ds_train, batch_size=32, shuffle=True))\n",
        "        valloaders.append(DataLoader(ds_val, batch_size=32))\n",
        "    testloader = DataLoader(testset, batch_size=32)\n",
        "    return trainloaders, valloaders, testloader\n",
        "\n",
        "\n",
        "trainloaders, valloaders, testloader = load_datasets(NUM_CLIENTS)"
      ]
    },
    {
      "cell_type": "markdown",
      "metadata": {},
      "source": [
        "# Preparing the experiment\n",
        "\n",
        "We will be using ResNet12 model for CIFAR-10 image classification task\n"
      ]
    },
    {
      "cell_type": "code",
      "execution_count": 18,
      "metadata": {
        "id": "0jXdBnto2JdD"
      },
      "outputs": [],
      "source": [
        "import torch\n",
        "import torch.nn as nn\n",
        "import torch.nn.functional as F\n",
        "\n",
        "class BasicBlock(nn.Module):\n",
        "    def __init__(self, in_channels, out_channels, stride=1):\n",
        "        super(BasicBlock, self).__init__()\n",
        "        self.conv1 = nn.Conv2d(in_channels, out_channels, kernel_size=3, stride=stride, padding=1, bias=False)\n",
        "        self.bn1 = nn.BatchNorm2d(out_channels)\n",
        "        self.conv2 = nn.Conv2d(out_channels, out_channels, kernel_size=3, stride=1, padding=1, bias=False)\n",
        "        self.bn2 = nn.BatchNorm2d(out_channels)\n",
        "        self.shortcut = nn.Sequential()\n",
        "        if stride != 1 or in_channels != out_channels:\n",
        "            self.shortcut = nn.Sequential(\n",
        "                nn.Conv2d(in_channels, out_channels, kernel_size=1, stride=stride, bias=False),\n",
        "                nn.BatchNorm2d(out_channels)\n",
        "            )\n",
        "\n",
        "    def forward(self, x):\n",
        "        out = F.relu(self.bn1(self.conv1(x)))\n",
        "        out = self.bn2(self.conv2(out))\n",
        "        out += self.shortcut(x)\n",
        "        out = F.relu(out)\n",
        "        return out\n",
        "\n",
        "class ResNet12(nn.Module):\n",
        "    def __init__(self, num_classes=10):\n",
        "        super(ResNet12, self).__init__()\n",
        "        self.in_channels = 64\n",
        "        self.conv1 = nn.Conv2d(3, 64, kernel_size=3, stride=1, padding=1, bias=False)\n",
        "        self.bn1 = nn.BatchNorm2d(64)\n",
        "        self.layer1 = self._make_layer(64, 3, stride=1)\n",
        "        self.layer2 = self._make_layer(128, 3, stride=2)\n",
        "        self.layer3 = self._make_layer(256, 3, stride=2)\n",
        "        self.layer4 = self._make_layer(512, 3, stride=2)\n",
        "        self.linear = nn.Linear(512, num_classes)\n",
        "\n",
        "    def _make_layer(self, out_channels, blocks, stride):\n",
        "        layers = []\n",
        "        layers.append(BasicBlock(self.in_channels, out_channels, stride))\n",
        "        self.in_channels = out_channels\n",
        "        for _ in range(1, blocks):\n",
        "            layers.append(BasicBlock(self.in_channels, out_channels))\n",
        "        return nn.Sequential(*layers)\n",
        "\n",
        "    def forward(self, x):\n",
        "        out = F.relu(self.bn1(self.conv1(x)))\n",
        "        out = self.layer1(out)\n",
        "        out = self.layer2(out)\n",
        "        out = self.layer3(out)\n",
        "        out = self.layer4(out)\n",
        "        out = F.avg_pool2d(out, 4)\n",
        "        out = out.view(out.size(0), -1)\n",
        "        out = self.linear(out)\n",
        "        return out\n"
      ]
    },
    {
      "cell_type": "code",
      "execution_count": 19,
      "metadata": {
        "id": "wM2301L1ya-7"
      },
      "outputs": [],
      "source": [
        "def get_parameters(model: torch.nn.ModuleList) -> List[np.ndarray]:\n",
        "    \"\"\"Get model weights as a list of NumPy ndarrays.\"\"\"\n",
        "    return [val.cpu().numpy() for _, val in model.state_dict().items()]\n",
        "\n",
        "\n",
        "def set_parameters(model: torch.nn.ModuleList, params: List[np.ndarray]):\n",
        "    \"\"\"Set model weights from a list of NumPy ndarrays.\"\"\"\n",
        "    params_dict = zip(model.state_dict().keys(), params)\n",
        "    state_dict = OrderedDict({k: torch.from_numpy(np.copy(v)) for k, v in params_dict})\n",
        "    model.load_state_dict(state_dict, strict=True)\n",
        "\n",
        "\n",
        "def train(net, trainloader, epochs: int):\n",
        "    \"\"\"Train the network on the training set.\"\"\"\n",
        "    criterion = nn.CrossEntropyLoss()\n",
        "    optimizer = torch.optim.SGD(net.parameters(), lr=0.01, momentum=0.9)\n",
        "    net.train()\n",
        "    for epoch in range(epochs):\n",
        "        correct, total, epoch_loss = 0, 0, 0.0\n",
        "        for images, labels in trainloader:\n",
        "            images, labels = images.to(DEVICE), labels.to(DEVICE)\n",
        "            optimizer.zero_grad()\n",
        "            outputs = net(images)\n",
        "            loss = criterion(outputs, labels)\n",
        "            loss.backward()\n",
        "            optimizer.step()\n",
        "            # Metrics\n",
        "            epoch_loss += loss.item() * images.size(0)  # Summing the loss\n",
        "            total += labels.size(0)\n",
        "            correct += (torch.max(outputs.data, 1)[1] == labels).sum().item()\n",
        "        epoch_loss /= total  # Averaging the loss over the entire dataset\n",
        "        epoch_acc = correct / total\n",
        "        print(f\"Epoch {epoch+1}: train loss {epoch_loss}, accuracy {epoch_acc}\")\n",
        "\n",
        "def test(net, testloader):\n",
        "    \"\"\"Evaluate the network on the entire test set.\"\"\"\n",
        "    criterion = nn.CrossEntropyLoss()\n",
        "    correct, total, loss = 0, 0, 0.0\n",
        "    net.eval()\n",
        "    with torch.no_grad():\n",
        "        for images, labels in testloader:\n",
        "            images, labels = images.to(DEVICE), labels.to(DEVICE)\n",
        "            outputs = net(images)\n",
        "            loss += criterion(outputs, labels).item() * images.size(0)  # Summing the loss\n",
        "            _, predicted = torch.max(outputs.data, 1)\n",
        "            total += labels.size(0)\n",
        "            correct += (predicted == labels).sum().item()\n",
        "    loss /= total  # Averaging the loss over the entire dataset\n",
        "    accuracy = correct / total\n",
        "    return loss, accuracy\n"
      ]
    },
    {
      "cell_type": "markdown",
      "metadata": {},
      "source": [
        "Let's next define how our FL clients will behave.\n",
        "\n",
        "## Defining a Flower Client\n",
        "\n",
        "You can think of a client in FL as an entity that owns some data and trains a model using this data. The caveat is that the model is being trained _collaboratively_ in Federation by multiple clients (sometimes up to hundreds of thousands) and, in most instances of FL, is sent by a central server.\n",
        "\n",
        "A Flower Client is a simple Python class with four distinct methods:\n",
        "\n",
        "* `fit()`: With this method, the client does on-device training for a number of epochs using its own data. At the end, the resulting model is sent back to the server for aggregation.\n",
        "\n",
        "* `evaluate()`: With this method, the server can evaluate the performance of the global model on the local validation set of a client. This can be used for instance when there is no centralised dataset on the server for validation/test. Also, this method can be use to asses the degree of personalisation of the model being federated.\n",
        "\n",
        "* `set_parameters()`: This method takes the parameters sent by the server and uses them to initialise the parameters of the local model that is ML framework specific (e.g. TF, Pytorch, etc).\n",
        "\n",
        "* `get_parameters()`: It extract the parameters from the local model and transforms them into a list of NumPy arrays. This ML framework-agnostic representation of the model will be sent to the server.\n",
        "\n"
      ]
    },
    {
      "cell_type": "markdown",
      "metadata": {},
      "source": [
        "* `prune_model_unstructured()`: It applies unstructured pruning to the weights and bias of Linear and Convolution layers.\n",
        "\n",
        "FlowerClient(fl.client.Client) requires custom serialization and deserialization functions. We serialize the model parameters using `scipy.sparse.csr_matrix()` function and deserialize it by converting the sparse matrix to csr. Serializing the parameters to sparse matrix helps in reducing the number of bytes communicated from clients to server."
      ]
    },
    {
      "cell_type": "code",
      "execution_count": 20,
      "metadata": {
        "id": "JwiQEaqFya--"
      },
      "outputs": [],
      "source": [
        "from io import BytesIO\n",
        "from typing import cast\n",
        "\n",
        "import numpy as np\n",
        "import scipy\n",
        "\n",
        "from flwr.common.typing import NDArray, NDArrays, Parameters\n",
        "\n",
        "\n",
        "def ndarrays_to_sparse_parameters(ndarrays: NDArrays) -> Parameters:\n",
        "    \"\"\"Convert NumPy ndarrays to parameters object.\"\"\"\n",
        "    tensors = [ndarray_to_sparse_bytes(ndarray) for ndarray in ndarrays]\n",
        "    return Parameters(tensors=tensors, tensor_type=\"numpy.ndarray\")\n",
        "\n",
        "\n",
        "def sparse_parameters_to_ndarrays(parameters: Parameters) -> NDArrays:\n",
        "    \"\"\"Convert parameters object to NumPy ndarrays.\"\"\"\n",
        "    return [sparse_bytes_to_ndarray(tensor) for tensor in parameters.tensors]\n",
        "\n",
        "\n",
        "def ndarray_to_sparse_bytes(ndarray: NDArray) -> bytes:\n",
        "    \"\"\"Serialize NumPy ndarray to bytes.\"\"\"\n",
        "    bytes_io = BytesIO()\n",
        "\n",
        "    if len(ndarray.shape) > 1:\n",
        "        # Flatten higher-dimensional array to 2D\n",
        "        original_shape = ndarray.shape\n",
        "        ndarray = ndarray.reshape(-1, ndarray.shape[-1])\n",
        "\n",
        "        # Convert ndarray to sparse matrix\n",
        "        sparse_matrix = scipy.sparse.csr_matrix(ndarray)\n",
        "\n",
        "        np.savez(\n",
        "            bytes_io,\n",
        "            data=sparse_matrix.data,\n",
        "            indices=sparse_matrix.indices,\n",
        "            indptr=sparse_matrix.indptr,\n",
        "            shape=sparse_matrix.shape,\n",
        "            original_shape=original_shape,  # Store original shape for reshaping\n",
        "            allow_pickle=False,\n",
        "        )\n",
        "    else:\n",
        "        np.save(bytes_io, ndarray, allow_pickle=False)\n",
        "    return bytes_io.getvalue()\n",
        "\n",
        "\n",
        "def sparse_bytes_to_ndarray(tensor: bytes) -> NDArray:\n",
        "    \"\"\"Deserialize NumPy ndarray from bytes.\"\"\"\n",
        "    bytes_io = BytesIO(tensor)\n",
        "    loader = np.load(bytes_io, allow_pickle=False)\n",
        "\n",
        "    if \"indptr\" in loader:\n",
        "        # Convert sparse matrix back to ndarray\n",
        "        sparse_matrix = scipy.sparse.csr_matrix(\n",
        "            (loader[\"data\"], loader[\"indices\"], loader[\"indptr\"]),\n",
        "            shape=loader[\"shape\"]\n",
        "        )\n",
        "        ndarray_deserialized = sparse_matrix.toarray()\n",
        "\n",
        "        # Reshape back to original shape if needed\n",
        "        if \"original_shape\" in loader:\n",
        "            original_shape = loader[\"original_shape\"]\n",
        "            ndarray_deserialized = ndarray_deserialized.reshape(original_shape)\n",
        "    else:\n",
        "        ndarray_deserialized = loader\n",
        "    return cast(NDArray, ndarray_deserialized)"
      ]
    },
    {
      "cell_type": "code",
      "execution_count": 21,
      "metadata": {
        "id": "Yo97DTl9yhYE"
      },
      "outputs": [],
      "source": [
        "import torch\n",
        "import torch.nn.utils.prune as prune\n",
        "\n",
        "def prune_model_unstructured(model, pruning_method, **kwargs):\n",
        "    # Collect the parameters to prune\n",
        "    parameters_to_prune = []\n",
        "    for name, module in model.named_modules():\n",
        "        if isinstance(module, torch.nn.Conv2d) or isinstance(module, torch.nn.Linear):\n",
        "            parameters_to_prune.append((module, 'weight'))\n",
        "            if module.bias is not None:\n",
        "                parameters_to_prune.append((module, 'bias'))\n",
        "\n",
        "    # Apply global pruning\n",
        "    prune.global_unstructured(\n",
        "        parameters_to_prune,\n",
        "        pruning_method=pruning_method,\n",
        "        **kwargs\n",
        "    )\n",
        "\n",
        "    # Remove pruning reparameterization\n",
        "    for module, param in parameters_to_prune:\n",
        "        prune.remove(module, param)"
      ]
    },
    {
      "cell_type": "code",
      "execution_count": 22,
      "metadata": {
        "id": "fwCO1ygkya--"
      },
      "outputs": [],
      "source": [
        "from flwr.common import (\n",
        "    Code,\n",
        "    EvaluateIns,\n",
        "    EvaluateRes,\n",
        "    FitIns,\n",
        "    FitRes,\n",
        "    GetParametersIns,\n",
        "    GetParametersRes,\n",
        "    Status,\n",
        ")\n",
        "\n",
        "class FlowerClient(fl.client.Client):\n",
        "    def __init__(self, cid, net, trainloader, valloader, pruning_rate):\n",
        "        self.cid = cid\n",
        "        self.net = net\n",
        "        self.trainloader = trainloader\n",
        "        self.valloader = valloader\n",
        "        self.pruning_rate = pruning_rate\n",
        "\n",
        "    def get_parameters(self, ins: GetParametersIns) -> GetParametersRes:\n",
        "        print(f\"[Client {self.cid}] get_parameters\")\n",
        "\n",
        "        # Get parameters as a list of NumPy ndarray's\n",
        "        ndarrays: List[np.ndarray] = get_parameters(self.net)\n",
        "\n",
        "        # Serialize ndarray's into a Parameters object using our custom function\n",
        "        parameters = ndarrays_to_sparse_parameters(ndarrays)\n",
        "\n",
        "        # Build and return response\n",
        "        status = Status(code=Code.OK, message=\"Success\")\n",
        "        return GetParametersRes(\n",
        "            status=status,\n",
        "            parameters=parameters,\n",
        "        )\n",
        "\n",
        "    def fit(self, ins: FitIns) -> FitRes:\n",
        "        print(f\"[Client {self.cid}] fit, config: {ins.config}\")\n",
        "\n",
        "        # Deserialize parameters to NumPy ndarray's using our custom function\n",
        "        parameters_original = ins.parameters\n",
        "        ndarrays_original = sparse_parameters_to_ndarrays(parameters_original)\n",
        "\n",
        "        # Update local model, train, get updated parameters\n",
        "        set_parameters(self.net, ndarrays_original)\n",
        "        train(self.net, self.trainloader, epochs=1)\n",
        "        pruning_method = torch.nn.utils.prune.L1Unstructured\n",
        "        prune_model_unstructured(self.net, pruning_method, amount=self.pruning_rate)\n",
        "        ndarrays_updated = get_parameters(self.net)\n",
        "\n",
        "        # Serialize ndarray's into a Parameters object using our custom function\n",
        "        parameters_updated = ndarrays_to_sparse_parameters(ndarrays_updated)\n",
        "        # Save the sparse matrix to an .npz file\n",
        "        bytes_sent = sum(len(tensor) for tensor in parameters_updated.tensors)\n",
        "\n",
        "        # Build and return response\n",
        "        status = Status(code=Code.OK, message=\"Success\")\n",
        "        return FitRes(\n",
        "            status=status,\n",
        "            parameters=parameters_updated,\n",
        "            num_examples=len(self.trainloader),\n",
        "            metrics={\"bytes sent\" : bytes_sent},\n",
        "        )\n",
        "\n",
        "    def evaluate(self, ins: EvaluateIns) -> EvaluateRes:\n",
        "        print(f\"[Client {self.cid}] evaluate, config: {ins.config}\")\n",
        "\n",
        "        # Deserialize parameters to NumPy ndarray's using our custom function\n",
        "        parameters_original = ins.parameters\n",
        "        ndarrays_original = sparse_parameters_to_ndarrays(parameters_original)\n",
        "\n",
        "        set_parameters(self.net, ndarrays_original)\n",
        "        loss, accuracy = test(self.net, self.valloader)\n",
        "\n",
        "        # Build and return response\n",
        "        status = Status(code=Code.OK, message=\"Success\")\n",
        "        return EvaluateRes(\n",
        "            status=status,\n",
        "            loss=float(loss),\n",
        "            num_examples=len(self.valloader),\n",
        "            metrics={\"accuracy\": float(accuracy), \"loss\" : float(loss)},\n",
        "        )\n"
      ]
    },
    {
      "cell_type": "markdown",
      "metadata": {},
      "source": [
        "`evaluate_fn()` is the function for server side evaluation that uses the centralized testset"
      ]
    },
    {
      "cell_type": "code",
      "execution_count": 23,
      "metadata": {
        "id": "NNEjOqwpyyjI"
      },
      "outputs": [],
      "source": [
        "from datasets import Dataset\n",
        "def get_evaluate_fn(testloader: Dataset):\n",
        "    \"\"\"This is a function that returns a function. The returned\n",
        "    function (i.e. `evaluate_fn`) will be executed by the strategy\n",
        "    at the end of each round to evaluate the stat of the global\n",
        "    model.\"\"\"\n",
        "\n",
        "    def evaluate_fn(server_round: int, parameters, config):\n",
        "        \"\"\"This function is executed by the strategy it will instantiate\n",
        "        a model and replace its parameters with those from the global model.\n",
        "        The, the model will be evaluate on the test set (recall this is the\n",
        "        whole MNIST test set).\"\"\"\n",
        "\n",
        "        model = ResNet12(num_classes=10)\n",
        "\n",
        "        # Determine device\n",
        "        model.to(DEVICE)  # send model to device\n",
        "\n",
        "        # set parameters to the model\n",
        "        params_dict = zip(model.state_dict().keys(), parameters)\n",
        "        state_dict = OrderedDict({k: torch.from_numpy(np.copy(v)) for k, v in params_dict})\n",
        "        model.load_state_dict(state_dict, strict=True)\n",
        "\n",
        "        loss, accuracy = test(model, testloader)\n",
        "        return loss, {\"accuracy\": accuracy}\n",
        "\n",
        "    return evaluate_fn"
      ]
    },
    {
      "cell_type": "markdown",
      "metadata": {},
      "source": [
        "# Defining Server-Side Strategy\n",
        "`FedSparse()`: strategy uses the FedAvg aggregation method. To change the serialization and deserialization here, we only need to reimplement the evaluate and aggregate_fit functions of FedAvg. The other functions of the strategy will be inherited from the super class FedAvg"
      ]
    },
    {
      "cell_type": "code",
      "execution_count": 24,
      "metadata": {
        "id": "rHeJ1jZLya-_"
      },
      "outputs": [],
      "source": [
        "from logging import WARNING\n",
        "from typing import Callable, Dict, List, Optional, Tuple, Union\n",
        "\n",
        "from flwr.common import FitRes, MetricsAggregationFn, NDArrays, Parameters, Scalar\n",
        "from flwr.common.logger import log\n",
        "from flwr.server.client_proxy import ClientProxy\n",
        "from flwr.server.strategy import FedAvg\n",
        "from flwr.server.strategy.aggregate import aggregate\n",
        "\n",
        "WARNING_MIN_AVAILABLE_CLIENTS_TOO_LOW = \"\"\"\n",
        "Setting `min_available_clients` lower than `min_fit_clients` or\n",
        "`min_evaluate_clients` can cause the server to fail when there are too few clients\n",
        "connected to the server. `min_available_clients` must be set to a value larger\n",
        "than or equal to the values of `min_fit_clients` and `min_evaluate_clients`.\n",
        "\"\"\"\n",
        "\n",
        "\n",
        "class FedSparse(FedAvg):\n",
        "    def __init__(\n",
        "        self,\n",
        "        *,\n",
        "        fraction_fit: float = 1.0,\n",
        "        fraction_evaluate: float = 1.0,\n",
        "        min_fit_clients: int = 2,\n",
        "        min_evaluate_clients: int = 2,\n",
        "        min_available_clients: int = 2,\n",
        "        evaluate_fn: Optional[\n",
        "            Callable[\n",
        "                [int, NDArrays, Dict[str, Scalar]],\n",
        "                Optional[Tuple[float, Dict[str, Scalar]]],\n",
        "            ]\n",
        "        ] = None,\n",
        "        on_fit_config_fn: Optional[Callable[[int], Dict[str, Scalar]]] = None,\n",
        "        on_evaluate_config_fn: Optional[Callable[[int], Dict[str, Scalar]]] = None,\n",
        "        accept_failures: bool = True,\n",
        "        initial_parameters: Optional[Parameters] = None,\n",
        "        fit_metrics_aggregation_fn: Optional[MetricsAggregationFn] = None,\n",
        "        evaluate_metrics_aggregation_fn: Optional[MetricsAggregationFn] = None,\n",
        "    ) -> None:\n",
        "        \"\"\"Custom FedAvg strategy with sparse matrices.\n",
        "\n",
        "        Parameters\n",
        "        ----------\n",
        "        fraction_fit : float, optional\n",
        "            Fraction of clients used during training. Defaults to 0.1.\n",
        "        fraction_evaluate : float, optional\n",
        "            Fraction of clients used during validation. Defaults to 0.1.\n",
        "        min_fit_clients : int, optional\n",
        "            Minimum number of clients used during training. Defaults to 2.\n",
        "        min_evaluate_clients : int, optional\n",
        "            Minimum number of clients used during validation. Defaults to 2.\n",
        "        min_available_clients : int, optional\n",
        "            Minimum number of total clients in the system. Defaults to 2.\n",
        "        evaluate_fn : Optional[Callable[[int, NDArrays, Dict[str, Scalar]], Optional[Tuple[float, Dict[str, Scalar]]]]]\n",
        "            Optional function used for validation. Defaults to None.\n",
        "        on_fit_config_fn : Callable[[int], Dict[str, Scalar]], optional\n",
        "            Function used to configure training. Defaults to None.\n",
        "        on_evaluate_config_fn : Callable[[int], Dict[str, Scalar]], optional\n",
        "            Function used to configure validation. Defaults to None.\n",
        "        accept_failures : bool, optional\n",
        "            Whether or not accept rounds containing failures. Defaults to True.\n",
        "        initial_parameters : Parameters, optional\n",
        "            Initial global model parameters.\n",
        "        \"\"\"\n",
        "\n",
        "        if (\n",
        "            min_fit_clients > min_available_clients\n",
        "            or min_evaluate_clients > min_available_clients\n",
        "        ):\n",
        "            log(WARNING, WARNING_MIN_AVAILABLE_CLIENTS_TOO_LOW)\n",
        "\n",
        "        super().__init__(\n",
        "            fraction_fit=fraction_fit,\n",
        "            fraction_evaluate=fraction_evaluate,\n",
        "            min_fit_clients=min_fit_clients,\n",
        "            min_evaluate_clients=min_evaluate_clients,\n",
        "            min_available_clients=min_available_clients,\n",
        "            evaluate_fn=evaluate_fn,\n",
        "            on_fit_config_fn=on_fit_config_fn,\n",
        "            on_evaluate_config_fn=on_evaluate_config_fn,\n",
        "            accept_failures=accept_failures,\n",
        "            initial_parameters=initial_parameters,\n",
        "            fit_metrics_aggregation_fn=fit_metrics_aggregation_fn,\n",
        "            evaluate_metrics_aggregation_fn=evaluate_metrics_aggregation_fn,\n",
        "        )\n",
        "\n",
        "    def evaluate(\n",
        "        self, server_round: int, parameters: Parameters\n",
        "    ) -> Optional[Tuple[float, Dict[str, Scalar]]]:\n",
        "        \"\"\"Evaluate model parameters using an evaluation function.\"\"\"\n",
        "        if self.evaluate_fn is None:\n",
        "            # No evaluation function provided\n",
        "            return None\n",
        "\n",
        "        # We deserialize using our custom method\n",
        "        parameters_ndarrays = sparse_parameters_to_ndarrays(parameters)\n",
        "\n",
        "        eval_res = self.evaluate_fn(server_round, parameters_ndarrays, {})\n",
        "        if eval_res is None:\n",
        "            return None\n",
        "        loss, metrics = eval_res\n",
        "        return loss, metrics\n",
        "\n",
        "    def aggregate_fit(\n",
        "        self,\n",
        "        server_round: int,\n",
        "        results: List[Tuple[ClientProxy, FitRes]],\n",
        "        failures: List[Union[Tuple[ClientProxy, FitRes], BaseException]],\n",
        "    ) -> Tuple[Optional[Parameters], Dict[str, Scalar]]:\n",
        "        \"\"\"Aggregate fit results using weighted average.\"\"\"\n",
        "        if not results:\n",
        "            return None, {}\n",
        "        # Do not aggregate if there are failures and failures are not accepted\n",
        "        if not self.accept_failures and failures:\n",
        "            return None, {}\n",
        "\n",
        "        # We deserialize each of the results with our custom method\n",
        "        weights_results = [\n",
        "            (sparse_parameters_to_ndarrays(fit_res.parameters), fit_res.num_examples)\n",
        "            for _, fit_res in results\n",
        "        ]\n",
        "\n",
        "        # We serialize the aggregated result using our custom method\n",
        "        parameters_aggregated = ndarrays_to_sparse_parameters(\n",
        "            aggregate(weights_results)\n",
        "        )\n",
        "\n",
        "        # Aggregate custom metrics if aggregation fn was provided\n",
        "        metrics_aggregated = {}\n",
        "        if self.fit_metrics_aggregation_fn:\n",
        "            fit_metrics = [(res.num_examples, res.metrics) for _, res in results]\n",
        "            metrics_aggregated = self.fit_metrics_aggregation_fn(fit_metrics)\n",
        "        elif server_round == 1:  # Only log this warning once\n",
        "            log(WARNING, \"No fit_metrics_aggregation_fn provided\")\n",
        "\n",
        "        return parameters_aggregated, metrics_aggregated"
      ]
    },
    {
      "cell_type": "markdown",
      "metadata": {},
      "source": [
        "* `weighted_average()`: This function is used to aggregate the evaluation metrics returned by client `evaluate()` method. It calculates the average accuracy.\n",
        "\n",
        "* `aggregate_fit_metrics()`: This function aggregates custom fit metrics from clients to calculate the average bytes sent."
      ]
    },
    {
      "cell_type": "code",
      "execution_count": 25,
      "metadata": {
        "id": "_ni7tJdezAB8"
      },
      "outputs": [],
      "source": [
        "from flwr.common import Metrics\n",
        "\n",
        "def weighted_average(metrics: List[Tuple[int, Metrics]]) -> Metrics:\n",
        "    \"\"\"Aggregation function for (federated) evaluation metrics, i.e. those returned by\n",
        "    the client's evaluate() method.\"\"\"\n",
        "    # Multiply accuracy of each client by number of examples used\n",
        "    accuracies = [num_examples * m[\"accuracy\"] for num_examples, m in metrics]\n",
        "    examples = [num_examples for num_examples, _ in metrics]\n",
        "\n",
        "    # Aggregate and return custom metric (weighted average)\n",
        "    return {\"accuracy\": sum(accuracies) / sum(examples)}\n",
        "\n",
        "def aggregate_fit_metrics(metrics_list: List[Tuple[int, Dict[str, Scalar]]]) -> Dict[str, Scalar]:\n",
        "    \"\"\"Aggregate custom fit metrics from clients to calculate the average bytes sent.\n",
        "\n",
        "    Args:\n",
        "        metrics_list (List[Tuple[int, Dict[str, Scalar]]]): List of tuples, where each tuple\n",
        "        contains the number of examples and a dictionary of metrics from a client.\n",
        "\n",
        "    Returns:\n",
        "        Dict[str, Scalar]: Aggregated metrics containing the average bytes sent.\n",
        "    \"\"\"\n",
        "    total_bytes_sent = 0\n",
        "    num_clients = len(metrics_list)\n",
        "\n",
        "    for _, metrics in metrics_list:\n",
        "        total_bytes_sent += metrics[\"bytes sent\"]\n",
        "\n",
        "    # Calculate the average bytes sent\n",
        "    average_bytes_sent = total_bytes_sent / num_clients if num_clients > 0 else 0\n",
        "\n",
        "    # Create the aggregated metrics dictionary\n",
        "    aggregated_metrics = {\n",
        "        \"bytes sent\": average_bytes_sent,\n",
        "    }\n",
        "\n",
        "    return aggregated_metrics\n"
      ]
    },
    {
      "cell_type": "markdown",
      "metadata": {},
      "source": [
        "# Running the experiment\n",
        "Here we initialize the FedSparse strategy defined above and runs the experiment from pruning rates 0.1 to 0.9. Calculated metrics are logged to a JSON file. Flower simulation is run using `fl.simulation.start_simulation()` method."
      ]
    },
    {
      "cell_type": "code",
      "execution_count": 26,
      "metadata": {},
      "outputs": [],
      "source": [
        "import json\n",
        "from torch.utils.data import DataLoader\n",
        "\n",
        "strategy = FedSparse(evaluate_metrics_aggregation_fn = weighted_average,\n",
        "                     fit_metrics_aggregation_fn = aggregate_fit_metrics,\n",
        "                     evaluate_fn=get_evaluate_fn(testloader))\n",
        "\n",
        "client_resources = None\n",
        "if DEVICE.type == \"cuda\":\n",
        "    client_resources = {\"num_gpus\": 3, \"num_cpus\":40}\n",
        "\n",
        "# Load existing data from the JSON file if it exists\n",
        "log_data = []\n",
        "try:\n",
        "    with open('/Experimental data/CIFAR10_ResNet12_Unstructured_baseline.json', 'r') as f:\n",
        "        log_data = json.load(f)\n",
        "except FileNotFoundError:\n",
        "    pass  # If the file does not exist, start with an empty list\n"
      ]
    },
    {
      "cell_type": "code",
      "execution_count": 27,
      "metadata": {
        "colab": {
          "background_save": true,
          "base_uri": "https://localhost:8080/"
        },
        "id": "NTyPa5Bbya-_",
        "outputId": "a95d1316-81d0-453d-c3d8-d672a16dfa1b"
      },
      "outputs": [
        {
          "name": "stdout",
          "output_type": "stream",
          "text": [
            "\u001b[36m(ClientAppActor pid=3466390)\u001b[0m [Client 3] fit, config: {}\n",
            "\u001b[36m(ClientAppActor pid=3466390)\u001b[0m Epoch 1: train loss 2.0590798501968384, accuracy 0.2091111111111111\n",
            "\u001b[36m(ClientAppActor pid=3466390)\u001b[0m [Client 1] fit, config: {}\n",
            "\u001b[36m(ClientAppActor pid=3466390)\u001b[0m Epoch 1: train loss 2.041459384706285, accuracy 0.21733333333333332\n",
            "\u001b[36m(ClientAppActor pid=3466390)\u001b[0m [Client 2] fit, config: {}\n",
            "\u001b[36m(ClientAppActor pid=3466390)\u001b[0m Epoch 1: train loss 2.0537505672242906, accuracy 0.21777777777777776\n",
            "\u001b[36m(ClientAppActor pid=3466390)\u001b[0m [Client 0] fit, config: {}\n",
            "\u001b[36m(ClientAppActor pid=3466390)\u001b[0m Epoch 1: train loss 2.0673518930011325, accuracy 0.214\n"
          ]
        },
        {
          "name": "stderr",
          "output_type": "stream",
          "text": [
            "\u001b[92mINFO \u001b[0m:      aggregate_fit: received 4 results and 0 failures\n",
            "\u001b[92mINFO \u001b[0m:      fit progress: (25, 2.3916167110443114, {'accuracy': 0.1451}, 898.9752076030709)\n",
            "\u001b[92mINFO \u001b[0m:      configure_evaluate: strategy sampled 4 clients (out of 4)\n"
          ]
        },
        {
          "name": "stdout",
          "output_type": "stream",
          "text": [
            "\u001b[36m(ClientAppActor pid=3466390)\u001b[0m [Client 3] evaluate, config: {}\n",
            "\u001b[36m(ClientAppActor pid=3466390)\u001b[0m [Client 1] evaluate, config: {}\n",
            "\u001b[36m(ClientAppActor pid=3466390)\u001b[0m [Client 0] evaluate, config: {}\n",
            "\u001b[36m(ClientAppActor pid=3466390)\u001b[0m [Client 2] evaluate, config: {}\n"
          ]
        },
        {
          "name": "stderr",
          "output_type": "stream",
          "text": [
            "\u001b[92mINFO \u001b[0m:      aggregate_evaluate: received 4 results and 0 failures\n",
            "\u001b[92mINFO \u001b[0m:      \n",
            "\u001b[92mINFO \u001b[0m:      [ROUND 26]\n",
            "\u001b[92mINFO \u001b[0m:      configure_fit: strategy sampled 4 clients (out of 4)\n"
          ]
        },
        {
          "name": "stdout",
          "output_type": "stream",
          "text": [
            "\u001b[36m(ClientAppActor pid=3466390)\u001b[0m [Client 3] fit, config: {}\n",
            "\u001b[36m(ClientAppActor pid=3466390)\u001b[0m Epoch 1: train loss 2.0490591779285006, accuracy 0.21288888888888888\n",
            "\u001b[36m(ClientAppActor pid=3466390)\u001b[0m [Client 2] fit, config: {}\n",
            "\u001b[36m(ClientAppActor pid=3466390)\u001b[0m Epoch 1: train loss 2.035150977876451, accuracy 0.2228888888888889\n",
            "\u001b[36m(ClientAppActor pid=3466390)\u001b[0m [Client 0] fit, config: {}\n",
            "\u001b[36m(ClientAppActor pid=3466390)\u001b[0m Epoch 1: train loss 2.027064593633016, accuracy 0.21711111111111112\n",
            "\u001b[36m(ClientAppActor pid=3466390)\u001b[0m [Client 1] fit, config: {}\n",
            "\u001b[36m(ClientAppActor pid=3466390)\u001b[0m Epoch 1: train loss 2.0514164930979413, accuracy 0.20466666666666666\n"
          ]
        },
        {
          "name": "stderr",
          "output_type": "stream",
          "text": [
            "\u001b[92mINFO \u001b[0m:      aggregate_fit: received 4 results and 0 failures\n",
            "\u001b[92mINFO \u001b[0m:      fit progress: (26, 2.2798311599731447, {'accuracy': 0.1526}, 937.828900387045)\n",
            "\u001b[92mINFO \u001b[0m:      configure_evaluate: strategy sampled 4 clients (out of 4)\n"
          ]
        },
        {
          "name": "stdout",
          "output_type": "stream",
          "text": [
            "\u001b[36m(ClientAppActor pid=3466390)\u001b[0m [Client 3] evaluate, config: {}\n",
            "\u001b[36m(ClientAppActor pid=3466390)\u001b[0m [Client 0] evaluate, config: {}\n",
            "\u001b[36m(ClientAppActor pid=3466390)\u001b[0m [Client 1] evaluate, config: {}\n",
            "\u001b[36m(ClientAppActor pid=3466390)\u001b[0m [Client 2] evaluate, config: {}\n"
          ]
        },
        {
          "name": "stderr",
          "output_type": "stream",
          "text": [
            "\u001b[92mINFO \u001b[0m:      aggregate_evaluate: received 4 results and 0 failures\n",
            "\u001b[92mINFO \u001b[0m:      \n",
            "\u001b[92mINFO \u001b[0m:      [ROUND 27]\n",
            "\u001b[92mINFO \u001b[0m:      configure_fit: strategy sampled 4 clients (out of 4)\n"
          ]
        },
        {
          "name": "stdout",
          "output_type": "stream",
          "text": [
            "\u001b[36m(ClientAppActor pid=3466390)\u001b[0m [Client 1] fit, config: {}\n",
            "\u001b[36m(ClientAppActor pid=3466390)\u001b[0m Epoch 1: train loss 2.03134339650472, accuracy 0.21888888888888888\n",
            "\u001b[36m(ClientAppActor pid=3466390)\u001b[0m [Client 2] fit, config: {}\n",
            "\u001b[36m(ClientAppActor pid=3466390)\u001b[0m Epoch 1: train loss 2.0513410665724012, accuracy 0.21844444444444444\n",
            "\u001b[36m(ClientAppActor pid=3466390)\u001b[0m [Client 3] fit, config: {}\n",
            "\u001b[36m(ClientAppActor pid=3466390)\u001b[0m Epoch 1: train loss 2.053834257337782, accuracy 0.2068888888888889\n",
            "\u001b[36m(ClientAppActor pid=3466390)\u001b[0m [Client 0] fit, config: {}\n",
            "\u001b[36m(ClientAppActor pid=3466390)\u001b[0m Epoch 1: train loss 2.036720443725586, accuracy 0.21244444444444444\n"
          ]
        },
        {
          "name": "stderr",
          "output_type": "stream",
          "text": [
            "\u001b[92mINFO \u001b[0m:      aggregate_fit: received 4 results and 0 failures\n",
            "\u001b[92mINFO \u001b[0m:      fit progress: (27, 2.2813452239990233, {'accuracy': 0.1483}, 973.0472840820439)\n",
            "\u001b[92mINFO \u001b[0m:      configure_evaluate: strategy sampled 4 clients (out of 4)\n"
          ]
        },
        {
          "name": "stdout",
          "output_type": "stream",
          "text": [
            "\u001b[36m(ClientAppActor pid=3466390)\u001b[0m [Client 2] evaluate, config: {}\n",
            "\u001b[36m(ClientAppActor pid=3466390)\u001b[0m [Client 0] evaluate, config: {}\n",
            "\u001b[36m(ClientAppActor pid=3466390)\u001b[0m [Client 1] evaluate, config: {}\n",
            "\u001b[36m(ClientAppActor pid=3466390)\u001b[0m [Client 3] evaluate, config: {}\n"
          ]
        },
        {
          "name": "stderr",
          "output_type": "stream",
          "text": [
            "\u001b[92mINFO \u001b[0m:      aggregate_evaluate: received 4 results and 0 failures\n",
            "\u001b[92mINFO \u001b[0m:      \n",
            "\u001b[92mINFO \u001b[0m:      [ROUND 28]\n",
            "\u001b[92mINFO \u001b[0m:      configure_fit: strategy sampled 4 clients (out of 4)\n"
          ]
        },
        {
          "name": "stdout",
          "output_type": "stream",
          "text": [
            "\u001b[36m(ClientAppActor pid=3466390)\u001b[0m [Client 2] fit, config: {}\n",
            "\u001b[36m(ClientAppActor pid=3466390)\u001b[0m Epoch 1: train loss 2.0340980824364556, accuracy 0.22555555555555556\n",
            "\u001b[36m(ClientAppActor pid=3466390)\u001b[0m [Client 1] fit, config: {}\n",
            "\u001b[36m(ClientAppActor pid=3466390)\u001b[0m Epoch 1: train loss 2.0178960798051624, accuracy 0.22333333333333333\n",
            "\u001b[36m(ClientAppActor pid=3466390)\u001b[0m [Client 0] fit, config: {}\n",
            "\u001b[36m(ClientAppActor pid=3466390)\u001b[0m Epoch 1: train loss 2.0335827327304417, accuracy 0.21555555555555556\n",
            "\u001b[36m(ClientAppActor pid=3466390)\u001b[0m [Client 3] fit, config: {}\n",
            "\u001b[36m(ClientAppActor pid=3466390)\u001b[0m Epoch 1: train loss 2.028128526687622, accuracy 0.22022222222222224\n"
          ]
        },
        {
          "name": "stderr",
          "output_type": "stream",
          "text": [
            "\u001b[92mINFO \u001b[0m:      aggregate_fit: received 4 results and 0 failures\n",
            "\u001b[92mINFO \u001b[0m:      fit progress: (28, 2.333466148376465, {'accuracy': 0.1579}, 1007.9821557817049)\n",
            "\u001b[92mINFO \u001b[0m:      configure_evaluate: strategy sampled 4 clients (out of 4)\n"
          ]
        },
        {
          "name": "stdout",
          "output_type": "stream",
          "text": [
            "\u001b[36m(ClientAppActor pid=3466390)\u001b[0m [Client 0] evaluate, config: {}\n",
            "\u001b[36m(ClientAppActor pid=3466390)\u001b[0m [Client 3] evaluate, config: {}\n",
            "\u001b[36m(ClientAppActor pid=3466390)\u001b[0m [Client 1] evaluate, config: {}\n",
            "\u001b[36m(ClientAppActor pid=3466390)\u001b[0m [Client 2] evaluate, config: {}\n"
          ]
        },
        {
          "name": "stderr",
          "output_type": "stream",
          "text": [
            "\u001b[92mINFO \u001b[0m:      aggregate_evaluate: received 4 results and 0 failures\n",
            "\u001b[92mINFO \u001b[0m:      \n",
            "\u001b[92mINFO \u001b[0m:      [ROUND 29]\n",
            "\u001b[92mINFO \u001b[0m:      configure_fit: strategy sampled 4 clients (out of 4)\n"
          ]
        },
        {
          "name": "stdout",
          "output_type": "stream",
          "text": [
            "\u001b[36m(ClientAppActor pid=3466390)\u001b[0m [Client 3] fit, config: {}\n",
            "\u001b[36m(ClientAppActor pid=3466390)\u001b[0m Epoch 1: train loss 2.0299980925454033, accuracy 0.22333333333333333\n",
            "\u001b[36m(ClientAppActor pid=3466390)\u001b[0m [Client 0] fit, config: {}\n",
            "\u001b[36m(ClientAppActor pid=3466390)\u001b[0m Epoch 1: train loss 2.0277191002104016, accuracy 0.2308888888888889\n",
            "\u001b[36m(ClientAppActor pid=3466390)\u001b[0m [Client 2] fit, config: {}\n",
            "\u001b[36m(ClientAppActor pid=3466390)\u001b[0m Epoch 1: train loss 2.033179939164056, accuracy 0.2291111111111111\n",
            "\u001b[36m(ClientAppActor pid=3466390)\u001b[0m [Client 1] fit, config: {}\n",
            "\u001b[36m(ClientAppActor pid=3466390)\u001b[0m Epoch 1: train loss 2.044428626590305, accuracy 0.206\n"
          ]
        },
        {
          "name": "stderr",
          "output_type": "stream",
          "text": [
            "\u001b[92mINFO \u001b[0m:      aggregate_fit: received 4 results and 0 failures\n",
            "\u001b[92mINFO \u001b[0m:      fit progress: (29, 2.2573099433898927, {'accuracy': 0.1701}, 1044.8788848449476)\n",
            "\u001b[92mINFO \u001b[0m:      configure_evaluate: strategy sampled 4 clients (out of 4)\n"
          ]
        },
        {
          "name": "stdout",
          "output_type": "stream",
          "text": [
            "\u001b[36m(ClientAppActor pid=3466390)\u001b[0m [Client 1] evaluate, config: {}\n",
            "\u001b[36m(ClientAppActor pid=3466390)\u001b[0m [Client 2] evaluate, config: {}\n",
            "\u001b[36m(ClientAppActor pid=3466390)\u001b[0m [Client 0] evaluate, config: {}\n",
            "\u001b[36m(ClientAppActor pid=3466390)\u001b[0m [Client 3] evaluate, config: {}\n"
          ]
        },
        {
          "name": "stderr",
          "output_type": "stream",
          "text": [
            "\u001b[92mINFO \u001b[0m:      aggregate_evaluate: received 4 results and 0 failures\n",
            "\u001b[92mINFO \u001b[0m:      \n",
            "\u001b[92mINFO \u001b[0m:      [ROUND 30]\n",
            "\u001b[92mINFO \u001b[0m:      configure_fit: strategy sampled 4 clients (out of 4)\n"
          ]
        },
        {
          "name": "stdout",
          "output_type": "stream",
          "text": [
            "\u001b[36m(ClientAppActor pid=3466390)\u001b[0m [Client 0] fit, config: {}\n",
            "\u001b[36m(ClientAppActor pid=3466390)\u001b[0m Epoch 1: train loss 2.0299095585081313, accuracy 0.22133333333333333\n",
            "\u001b[36m(ClientAppActor pid=3466390)\u001b[0m [Client 2] fit, config: {}\n",
            "\u001b[36m(ClientAppActor pid=3466390)\u001b[0m Epoch 1: train loss 2.0201195958455402, accuracy 0.21977777777777777\n",
            "\u001b[36m(ClientAppActor pid=3466390)\u001b[0m [Client 3] fit, config: {}\n",
            "\u001b[36m(ClientAppActor pid=3466390)\u001b[0m Epoch 1: train loss 2.0359476829104954, accuracy 0.21822222222222223\n",
            "\u001b[36m(ClientAppActor pid=3466390)\u001b[0m [Client 1] fit, config: {}\n",
            "\u001b[36m(ClientAppActor pid=3466390)\u001b[0m Epoch 1: train loss 2.0329124285380047, accuracy 0.20466666666666666\n"
          ]
        },
        {
          "name": "stderr",
          "output_type": "stream",
          "text": [
            "\u001b[92mINFO \u001b[0m:      aggregate_fit: received 4 results and 0 failures\n",
            "\u001b[92mINFO \u001b[0m:      fit progress: (30, 2.2919919025421143, {'accuracy': 0.1641}, 1079.9272879939526)\n",
            "\u001b[92mINFO \u001b[0m:      configure_evaluate: strategy sampled 4 clients (out of 4)\n"
          ]
        },
        {
          "name": "stdout",
          "output_type": "stream",
          "text": [
            "\u001b[36m(ClientAppActor pid=3466390)\u001b[0m [Client 3] evaluate, config: {}\n",
            "\u001b[36m(ClientAppActor pid=3466390)\u001b[0m [Client 0] evaluate, config: {}\n",
            "\u001b[36m(ClientAppActor pid=3466390)\u001b[0m [Client 2] evaluate, config: {}\n",
            "\u001b[36m(ClientAppActor pid=3466390)\u001b[0m [Client 1] evaluate, config: {}\n"
          ]
        },
        {
          "name": "stderr",
          "output_type": "stream",
          "text": [
            "\u001b[92mINFO \u001b[0m:      aggregate_evaluate: received 4 results and 0 failures\n",
            "\u001b[92mINFO \u001b[0m:      \n",
            "\u001b[92mINFO \u001b[0m:      [ROUND 31]\n",
            "\u001b[92mINFO \u001b[0m:      configure_fit: strategy sampled 4 clients (out of 4)\n"
          ]
        },
        {
          "name": "stdout",
          "output_type": "stream",
          "text": [
            "\u001b[36m(ClientAppActor pid=3466390)\u001b[0m [Client 3] fit, config: {}\n",
            "\u001b[36m(ClientAppActor pid=3466390)\u001b[0m Epoch 1: train loss 2.0284944290584987, accuracy 0.21688888888888888\n",
            "\u001b[36m(ClientAppActor pid=3466390)\u001b[0m [Client 2] fit, config: {}\n",
            "\u001b[36m(ClientAppActor pid=3466390)\u001b[0m Epoch 1: train loss 2.0253669281005857, accuracy 0.21511111111111111\n",
            "\u001b[36m(ClientAppActor pid=3466390)\u001b[0m [Client 1] fit, config: {}\n",
            "\u001b[36m(ClientAppActor pid=3466390)\u001b[0m Epoch 1: train loss 2.013954475508796, accuracy 0.21822222222222223\n",
            "\u001b[36m(ClientAppActor pid=3466390)\u001b[0m [Client 0] fit, config: {}\n",
            "\u001b[36m(ClientAppActor pid=3466390)\u001b[0m Epoch 1: train loss 2.0219909031126235, accuracy 0.22466666666666665\n"
          ]
        },
        {
          "name": "stderr",
          "output_type": "stream",
          "text": [
            "\u001b[92mINFO \u001b[0m:      aggregate_fit: received 4 results and 0 failures\n",
            "\u001b[92mINFO \u001b[0m:      fit progress: (31, 2.340800400543213, {'accuracy': 0.1497}, 1116.7454019999132)\n",
            "\u001b[92mINFO \u001b[0m:      configure_evaluate: strategy sampled 4 clients (out of 4)\n"
          ]
        },
        {
          "name": "stdout",
          "output_type": "stream",
          "text": [
            "\u001b[36m(ClientAppActor pid=3466390)\u001b[0m [Client 1] evaluate, config: {}\n",
            "\u001b[36m(ClientAppActor pid=3466390)\u001b[0m [Client 3] evaluate, config: {}\n",
            "\u001b[36m(ClientAppActor pid=3466390)\u001b[0m [Client 0] evaluate, config: {}\n",
            "\u001b[36m(ClientAppActor pid=3466390)\u001b[0m [Client 2] evaluate, config: {}\n"
          ]
        },
        {
          "name": "stderr",
          "output_type": "stream",
          "text": [
            "\u001b[92mINFO \u001b[0m:      aggregate_evaluate: received 4 results and 0 failures\n",
            "\u001b[92mINFO \u001b[0m:      \n",
            "\u001b[92mINFO \u001b[0m:      [ROUND 32]\n",
            "\u001b[92mINFO \u001b[0m:      configure_fit: strategy sampled 4 clients (out of 4)\n"
          ]
        },
        {
          "name": "stdout",
          "output_type": "stream",
          "text": [
            "\u001b[36m(ClientAppActor pid=3466390)\u001b[0m [Client 1] fit, config: {}\n",
            "\u001b[36m(ClientAppActor pid=3466390)\u001b[0m Epoch 1: train loss 2.0211858054267036, accuracy 0.214\n",
            "\u001b[36m(ClientAppActor pid=3466390)\u001b[0m [Client 3] fit, config: {}\n",
            "\u001b[36m(ClientAppActor pid=3466390)\u001b[0m Epoch 1: train loss 2.020131673389011, accuracy 0.21222222222222223\n",
            "\u001b[36m(ClientAppActor pid=3466390)\u001b[0m [Client 0] fit, config: {}\n",
            "\u001b[36m(ClientAppActor pid=3466390)\u001b[0m Epoch 1: train loss 2.024093802664015, accuracy 0.22955555555555557\n",
            "\u001b[36m(ClientAppActor pid=3466390)\u001b[0m [Client 2] fit, config: {}\n",
            "\u001b[36m(ClientAppActor pid=3466390)\u001b[0m Epoch 1: train loss 2.0365494130452473, accuracy 0.216\n"
          ]
        },
        {
          "name": "stderr",
          "output_type": "stream",
          "text": [
            "\u001b[92mINFO \u001b[0m:      aggregate_fit: received 4 results and 0 failures\n",
            "\u001b[92mINFO \u001b[0m:      fit progress: (32, 2.2959102993011475, {'accuracy': 0.1499}, 1153.0475299060345)\n",
            "\u001b[92mINFO \u001b[0m:      configure_evaluate: strategy sampled 4 clients (out of 4)\n"
          ]
        },
        {
          "name": "stdout",
          "output_type": "stream",
          "text": [
            "\u001b[36m(ClientAppActor pid=3466390)\u001b[0m [Client 3] evaluate, config: {}\n",
            "\u001b[36m(ClientAppActor pid=3466390)\u001b[0m [Client 1] evaluate, config: {}\n",
            "\u001b[36m(ClientAppActor pid=3466390)\u001b[0m [Client 0] evaluate, config: {}\n",
            "\u001b[36m(ClientAppActor pid=3466390)\u001b[0m [Client 2] evaluate, config: {}\n"
          ]
        },
        {
          "name": "stderr",
          "output_type": "stream",
          "text": [
            "\u001b[92mINFO \u001b[0m:      aggregate_evaluate: received 4 results and 0 failures\n",
            "\u001b[92mINFO \u001b[0m:      \n",
            "\u001b[92mINFO \u001b[0m:      [ROUND 33]\n",
            "\u001b[92mINFO \u001b[0m:      configure_fit: strategy sampled 4 clients (out of 4)\n"
          ]
        },
        {
          "name": "stdout",
          "output_type": "stream",
          "text": [
            "\u001b[36m(ClientAppActor pid=3466390)\u001b[0m [Client 1] fit, config: {}\n",
            "\u001b[36m(ClientAppActor pid=3466390)\u001b[0m Epoch 1: train loss 2.024617980109321, accuracy 0.22044444444444444\n",
            "\u001b[36m(ClientAppActor pid=3466390)\u001b[0m [Client 0] fit, config: {}\n",
            "\u001b[36m(ClientAppActor pid=3466390)\u001b[0m Epoch 1: train loss 2.041880185657077, accuracy 0.22\n",
            "\u001b[36m(ClientAppActor pid=3466390)\u001b[0m [Client 3] fit, config: {}\n",
            "\u001b[36m(ClientAppActor pid=3466390)\u001b[0m Epoch 1: train loss 2.0124773201412625, accuracy 0.22444444444444445\n",
            "\u001b[36m(ClientAppActor pid=3466390)\u001b[0m [Client 2] fit, config: {}\n",
            "\u001b[36m(ClientAppActor pid=3466390)\u001b[0m Epoch 1: train loss 2.032089916865031, accuracy 0.22044444444444444\n"
          ]
        },
        {
          "name": "stderr",
          "output_type": "stream",
          "text": [
            "\u001b[92mINFO \u001b[0m:      aggregate_fit: received 4 results and 0 failures\n",
            "\u001b[92mINFO \u001b[0m:      fit progress: (33, 2.2189129554748535, {'accuracy': 0.1602}, 1188.7651904728264)\n",
            "\u001b[92mINFO \u001b[0m:      configure_evaluate: strategy sampled 4 clients (out of 4)\n"
          ]
        },
        {
          "name": "stdout",
          "output_type": "stream",
          "text": [
            "\u001b[36m(ClientAppActor pid=3466390)\u001b[0m [Client 1] evaluate, config: {}\n",
            "\u001b[36m(ClientAppActor pid=3466390)\u001b[0m [Client 3] evaluate, config: {}\n",
            "\u001b[36m(ClientAppActor pid=3466390)\u001b[0m [Client 2] evaluate, config: {}\n",
            "\u001b[36m(ClientAppActor pid=3466390)\u001b[0m [Client 0] evaluate, config: {}\n"
          ]
        },
        {
          "name": "stderr",
          "output_type": "stream",
          "text": [
            "\u001b[92mINFO \u001b[0m:      aggregate_evaluate: received 4 results and 0 failures\n",
            "\u001b[92mINFO \u001b[0m:      \n",
            "\u001b[92mINFO \u001b[0m:      [ROUND 34]\n",
            "\u001b[92mINFO \u001b[0m:      configure_fit: strategy sampled 4 clients (out of 4)\n"
          ]
        },
        {
          "name": "stdout",
          "output_type": "stream",
          "text": [
            "\u001b[36m(ClientAppActor pid=3466390)\u001b[0m [Client 1] fit, config: {}\n",
            "\u001b[36m(ClientAppActor pid=3466390)\u001b[0m Epoch 1: train loss 2.0039108776516383, accuracy 0.23244444444444445\n",
            "\u001b[36m(ClientAppActor pid=3466390)\u001b[0m [Client 2] fit, config: {}\n",
            "\u001b[36m(ClientAppActor pid=3466390)\u001b[0m Epoch 1: train loss 2.0071232918633357, accuracy 0.228\n",
            "\u001b[36m(ClientAppActor pid=3466390)\u001b[0m [Client 0] fit, config: {}\n",
            "\u001b[36m(ClientAppActor pid=3466390)\u001b[0m Epoch 1: train loss 2.028961289087931, accuracy 0.21511111111111111\n",
            "\u001b[36m(ClientAppActor pid=3466390)\u001b[0m [Client 3] fit, config: {}\n",
            "\u001b[36m(ClientAppActor pid=3466390)\u001b[0m Epoch 1: train loss 2.0133502333958946, accuracy 0.23044444444444445\n"
          ]
        },
        {
          "name": "stderr",
          "output_type": "stream",
          "text": [
            "\u001b[92mINFO \u001b[0m:      aggregate_fit: received 4 results and 0 failures\n",
            "\u001b[92mINFO \u001b[0m:      fit progress: (34, 2.156361376953125, {'accuracy': 0.1811}, 1225.1157023529522)\n",
            "\u001b[92mINFO \u001b[0m:      configure_evaluate: strategy sampled 4 clients (out of 4)\n"
          ]
        },
        {
          "name": "stdout",
          "output_type": "stream",
          "text": [
            "\u001b[36m(ClientAppActor pid=3466390)\u001b[0m [Client 0] evaluate, config: {}\n",
            "\u001b[36m(ClientAppActor pid=3466390)\u001b[0m [Client 3] evaluate, config: {}\n",
            "\u001b[36m(ClientAppActor pid=3466390)\u001b[0m [Client 2] evaluate, config: {}\n",
            "\u001b[36m(ClientAppActor pid=3466390)\u001b[0m [Client 1] evaluate, config: {}\n"
          ]
        },
        {
          "name": "stderr",
          "output_type": "stream",
          "text": [
            "\u001b[92mINFO \u001b[0m:      aggregate_evaluate: received 4 results and 0 failures\n",
            "\u001b[92mINFO \u001b[0m:      \n",
            "\u001b[92mINFO \u001b[0m:      [ROUND 35]\n",
            "\u001b[92mINFO \u001b[0m:      configure_fit: strategy sampled 4 clients (out of 4)\n"
          ]
        },
        {
          "name": "stdout",
          "output_type": "stream",
          "text": [
            "\u001b[36m(ClientAppActor pid=3466390)\u001b[0m [Client 3] fit, config: {}\n",
            "\u001b[36m(ClientAppActor pid=3466390)\u001b[0m Epoch 1: train loss 2.0210779859754773, accuracy 0.22088888888888888\n",
            "\u001b[36m(ClientAppActor pid=3466390)\u001b[0m [Client 2] fit, config: {}\n",
            "\u001b[36m(ClientAppActor pid=3466390)\u001b[0m Epoch 1: train loss 2.04537784131368, accuracy 0.2228888888888889\n",
            "\u001b[36m(ClientAppActor pid=3466390)\u001b[0m [Client 1] fit, config: {}\n",
            "\u001b[36m(ClientAppActor pid=3466390)\u001b[0m Epoch 1: train loss 2.0042795431349014, accuracy 0.22511111111111112\n",
            "\u001b[36m(ClientAppActor pid=3466390)\u001b[0m [Client 0] fit, config: {}\n"
          ]
        },
        {
          "name": "stderr",
          "output_type": "stream",
          "text": [
            "\u001b[92mINFO \u001b[0m:      aggregate_fit: received 4 results and 0 failures\n"
          ]
        },
        {
          "name": "stdout",
          "output_type": "stream",
          "text": [
            "\u001b[36m(ClientAppActor pid=3466390)\u001b[0m Epoch 1: train loss 2.004464908281962, accuracy 0.22466666666666665\n"
          ]
        },
        {
          "name": "stderr",
          "output_type": "stream",
          "text": [
            "\u001b[92mINFO \u001b[0m:      fit progress: (35, 2.1766122882843018, {'accuracy': 0.1717}, 1261.131421533879)\n",
            "\u001b[92mINFO \u001b[0m:      configure_evaluate: strategy sampled 4 clients (out of 4)\n"
          ]
        },
        {
          "name": "stdout",
          "output_type": "stream",
          "text": [
            "\u001b[36m(ClientAppActor pid=3466390)\u001b[0m [Client 1] evaluate, config: {}\n",
            "\u001b[36m(ClientAppActor pid=3466390)\u001b[0m [Client 0] evaluate, config: {}\n",
            "\u001b[36m(ClientAppActor pid=3466390)\u001b[0m [Client 2] evaluate, config: {}\n",
            "\u001b[36m(ClientAppActor pid=3466390)\u001b[0m [Client 3] evaluate, config: {}\n"
          ]
        },
        {
          "name": "stderr",
          "output_type": "stream",
          "text": [
            "\u001b[92mINFO \u001b[0m:      aggregate_evaluate: received 4 results and 0 failures\n",
            "\u001b[92mINFO \u001b[0m:      \n",
            "\u001b[92mINFO \u001b[0m:      [ROUND 36]\n",
            "\u001b[92mINFO \u001b[0m:      configure_fit: strategy sampled 4 clients (out of 4)\n"
          ]
        },
        {
          "name": "stdout",
          "output_type": "stream",
          "text": [
            "\u001b[36m(ClientAppActor pid=3466390)\u001b[0m [Client 3] fit, config: {}\n",
            "\u001b[36m(ClientAppActor pid=3466390)\u001b[0m Epoch 1: train loss 2.0116749023861353, accuracy 0.21266666666666667\n",
            "\u001b[36m(ClientAppActor pid=3466390)\u001b[0m [Client 2] fit, config: {}\n",
            "\u001b[36m(ClientAppActor pid=3466390)\u001b[0m Epoch 1: train loss 2.0173183464474147, accuracy 0.22333333333333333\n",
            "\u001b[36m(ClientAppActor pid=3466390)\u001b[0m [Client 1] fit, config: {}\n",
            "\u001b[36m(ClientAppActor pid=3466390)\u001b[0m Epoch 1: train loss 2.0133537521362306, accuracy 0.22444444444444445\n",
            "\u001b[36m(ClientAppActor pid=3466390)\u001b[0m [Client 0] fit, config: {}\n",
            "\u001b[36m(ClientAppActor pid=3466390)\u001b[0m Epoch 1: train loss 2.008286703957452, accuracy 0.22511111111111112\n"
          ]
        },
        {
          "name": "stderr",
          "output_type": "stream",
          "text": [
            "\u001b[92mINFO \u001b[0m:      aggregate_fit: received 4 results and 0 failures\n",
            "\u001b[92mINFO \u001b[0m:      fit progress: (36, 2.198290483093262, {'accuracy': 0.1724}, 1296.9112449879758)\n",
            "\u001b[92mINFO \u001b[0m:      configure_evaluate: strategy sampled 4 clients (out of 4)\n"
          ]
        },
        {
          "name": "stdout",
          "output_type": "stream",
          "text": [
            "\u001b[36m(ClientAppActor pid=3466390)\u001b[0m [Client 0] evaluate, config: {}\n",
            "\u001b[36m(ClientAppActor pid=3466390)\u001b[0m [Client 2] evaluate, config: {}\n",
            "\u001b[36m(ClientAppActor pid=3466390)\u001b[0m [Client 1] evaluate, config: {}\n",
            "\u001b[36m(ClientAppActor pid=3466390)\u001b[0m [Client 3] evaluate, config: {}\n"
          ]
        },
        {
          "name": "stderr",
          "output_type": "stream",
          "text": [
            "\u001b[92mINFO \u001b[0m:      aggregate_evaluate: received 4 results and 0 failures\n",
            "\u001b[92mINFO \u001b[0m:      \n",
            "\u001b[92mINFO \u001b[0m:      [ROUND 37]\n",
            "\u001b[92mINFO \u001b[0m:      configure_fit: strategy sampled 4 clients (out of 4)\n"
          ]
        },
        {
          "name": "stdout",
          "output_type": "stream",
          "text": [
            "\u001b[36m(ClientAppActor pid=3466390)\u001b[0m [Client 0] fit, config: {}\n",
            "\u001b[36m(ClientAppActor pid=3466390)\u001b[0m Epoch 1: train loss 2.00170047071245, accuracy 0.22644444444444445\n",
            "\u001b[36m(ClientAppActor pid=3466390)\u001b[0m [Client 1] fit, config: {}\n",
            "\u001b[36m(ClientAppActor pid=3466390)\u001b[0m Epoch 1: train loss 2.008385725021362, accuracy 0.2288888888888889\n",
            "\u001b[36m(ClientAppActor pid=3466390)\u001b[0m [Client 2] fit, config: {}\n",
            "\u001b[36m(ClientAppActor pid=3466390)\u001b[0m Epoch 1: train loss 2.0008909310234917, accuracy 0.22577777777777777\n",
            "\u001b[36m(ClientAppActor pid=3466390)\u001b[0m [Client 3] fit, config: {}\n",
            "\u001b[36m(ClientAppActor pid=3466390)\u001b[0m Epoch 1: train loss 2.000812450197008, accuracy 0.2308888888888889\n"
          ]
        },
        {
          "name": "stderr",
          "output_type": "stream",
          "text": [
            "\u001b[92mINFO \u001b[0m:      aggregate_fit: received 4 results and 0 failures\n",
            "\u001b[92mINFO \u001b[0m:      fit progress: (37, 2.170371674346924, {'accuracy': 0.1782}, 1331.6525086578913)\n",
            "\u001b[92mINFO \u001b[0m:      configure_evaluate: strategy sampled 4 clients (out of 4)\n"
          ]
        },
        {
          "name": "stdout",
          "output_type": "stream",
          "text": [
            "\u001b[36m(ClientAppActor pid=3466390)\u001b[0m [Client 2] evaluate, config: {}\n",
            "\u001b[36m(ClientAppActor pid=3466390)\u001b[0m [Client 1] evaluate, config: {}\n",
            "\u001b[36m(ClientAppActor pid=3466390)\u001b[0m [Client 3] evaluate, config: {}\n",
            "\u001b[36m(ClientAppActor pid=3466390)\u001b[0m [Client 0] evaluate, config: {}\n"
          ]
        },
        {
          "name": "stderr",
          "output_type": "stream",
          "text": [
            "\u001b[92mINFO \u001b[0m:      aggregate_evaluate: received 4 results and 0 failures\n",
            "\u001b[92mINFO \u001b[0m:      \n",
            "\u001b[92mINFO \u001b[0m:      [ROUND 38]\n",
            "\u001b[92mINFO \u001b[0m:      configure_fit: strategy sampled 4 clients (out of 4)\n"
          ]
        },
        {
          "name": "stdout",
          "output_type": "stream",
          "text": [
            "\u001b[36m(ClientAppActor pid=3466390)\u001b[0m [Client 3] fit, config: {}\n",
            "\u001b[36m(ClientAppActor pid=3466390)\u001b[0m Epoch 1: train loss 2.00962830458747, accuracy 0.22777777777777777\n",
            "\u001b[36m(ClientAppActor pid=3466390)\u001b[0m [Client 1] fit, config: {}\n",
            "\u001b[36m(ClientAppActor pid=3466390)\u001b[0m Epoch 1: train loss 1.9979500056372748, accuracy 0.22644444444444445\n",
            "\u001b[36m(ClientAppActor pid=3466390)\u001b[0m [Client 2] fit, config: {}\n",
            "\u001b[36m(ClientAppActor pid=3466390)\u001b[0m Epoch 1: train loss 2.000046083026462, accuracy 0.23\n",
            "\u001b[36m(ClientAppActor pid=3466390)\u001b[0m [Client 0] fit, config: {}\n",
            "\u001b[36m(ClientAppActor pid=3466390)\u001b[0m Epoch 1: train loss 2.01348042678833, accuracy 0.22866666666666666\n"
          ]
        },
        {
          "name": "stderr",
          "output_type": "stream",
          "text": [
            "\u001b[92mINFO \u001b[0m:      aggregate_fit: received 4 results and 0 failures\n",
            "\u001b[92mINFO \u001b[0m:      fit progress: (38, 2.3492701538085936, {'accuracy': 0.11}, 1367.664704744704)\n",
            "\u001b[92mINFO \u001b[0m:      configure_evaluate: strategy sampled 4 clients (out of 4)\n"
          ]
        },
        {
          "name": "stdout",
          "output_type": "stream",
          "text": [
            "\u001b[36m(ClientAppActor pid=3466390)\u001b[0m [Client 0] evaluate, config: {}\n",
            "\u001b[36m(ClientAppActor pid=3466390)\u001b[0m [Client 3] evaluate, config: {}\n",
            "\u001b[36m(ClientAppActor pid=3466390)\u001b[0m [Client 2] evaluate, config: {}\n",
            "\u001b[36m(ClientAppActor pid=3466390)\u001b[0m [Client 1] evaluate, config: {}\n"
          ]
        },
        {
          "name": "stderr",
          "output_type": "stream",
          "text": [
            "\u001b[92mINFO \u001b[0m:      aggregate_evaluate: received 4 results and 0 failures\n",
            "\u001b[92mINFO \u001b[0m:      \n",
            "\u001b[92mINFO \u001b[0m:      [ROUND 39]\n",
            "\u001b[92mINFO \u001b[0m:      configure_fit: strategy sampled 4 clients (out of 4)\n"
          ]
        },
        {
          "name": "stdout",
          "output_type": "stream",
          "text": [
            "\u001b[36m(ClientAppActor pid=3466390)\u001b[0m [Client 1] fit, config: {}\n",
            "\u001b[36m(ClientAppActor pid=3466390)\u001b[0m Epoch 1: train loss 1.987063565466139, accuracy 0.23422222222222222\n",
            "\u001b[36m(ClientAppActor pid=3466390)\u001b[0m [Client 2] fit, config: {}\n",
            "\u001b[36m(ClientAppActor pid=3466390)\u001b[0m Epoch 1: train loss 2.0140831445058187, accuracy 0.22666666666666666\n",
            "\u001b[36m(ClientAppActor pid=3466390)\u001b[0m [Client 3] fit, config: {}\n",
            "\u001b[36m(ClientAppActor pid=3466390)\u001b[0m Epoch 1: train loss 2.000994260152181, accuracy 0.22955555555555557\n",
            "\u001b[36m(ClientAppActor pid=3466390)\u001b[0m [Client 0] fit, config: {}\n"
          ]
        },
        {
          "name": "stderr",
          "output_type": "stream",
          "text": [
            "\u001b[92mINFO \u001b[0m:      aggregate_fit: received 4 results and 0 failures\n"
          ]
        },
        {
          "name": "stdout",
          "output_type": "stream",
          "text": [
            "\u001b[36m(ClientAppActor pid=3466390)\u001b[0m Epoch 1: train loss 1.9921005041334363, accuracy 0.23466666666666666\n"
          ]
        },
        {
          "name": "stderr",
          "output_type": "stream",
          "text": [
            "\u001b[92mINFO \u001b[0m:      fit progress: (39, 2.1717897132873536, {'accuracy': 0.1792}, 1403.0055703339167)\n",
            "\u001b[92mINFO \u001b[0m:      configure_evaluate: strategy sampled 4 clients (out of 4)\n"
          ]
        },
        {
          "name": "stdout",
          "output_type": "stream",
          "text": [
            "\u001b[36m(ClientAppActor pid=3466390)\u001b[0m [Client 0] evaluate, config: {}\n",
            "\u001b[36m(ClientAppActor pid=3466390)\u001b[0m [Client 2] evaluate, config: {}\n",
            "\u001b[36m(ClientAppActor pid=3466390)\u001b[0m [Client 1] evaluate, config: {}\n",
            "\u001b[36m(ClientAppActor pid=3466390)\u001b[0m [Client 3] evaluate, config: {}\n"
          ]
        },
        {
          "name": "stderr",
          "output_type": "stream",
          "text": [
            "\u001b[92mINFO \u001b[0m:      aggregate_evaluate: received 4 results and 0 failures\n",
            "\u001b[92mINFO \u001b[0m:      \n",
            "\u001b[92mINFO \u001b[0m:      [ROUND 40]\n",
            "\u001b[92mINFO \u001b[0m:      configure_fit: strategy sampled 4 clients (out of 4)\n"
          ]
        },
        {
          "name": "stdout",
          "output_type": "stream",
          "text": [
            "\u001b[36m(ClientAppActor pid=3466390)\u001b[0m [Client 3] fit, config: {}\n",
            "\u001b[36m(ClientAppActor pid=3466390)\u001b[0m Epoch 1: train loss 2.0104535287221275, accuracy 0.2308888888888889\n",
            "\u001b[36m(ClientAppActor pid=3466390)\u001b[0m [Client 0] fit, config: {}\n",
            "\u001b[36m(ClientAppActor pid=3466390)\u001b[0m Epoch 1: train loss 1.9979965470631917, accuracy 0.224\n",
            "\u001b[36m(ClientAppActor pid=3466390)\u001b[0m [Client 2] fit, config: {}\n",
            "\u001b[36m(ClientAppActor pid=3466390)\u001b[0m Epoch 1: train loss 1.9944682948854235, accuracy 0.23555555555555555\n",
            "\u001b[36m(ClientAppActor pid=3466390)\u001b[0m [Client 1] fit, config: {}\n",
            "\u001b[36m(ClientAppActor pid=3466390)\u001b[0m Epoch 1: train loss 1.9926421540578207, accuracy 0.2228888888888889\n"
          ]
        },
        {
          "name": "stderr",
          "output_type": "stream",
          "text": [
            "\u001b[92mINFO \u001b[0m:      aggregate_fit: received 4 results and 0 failures\n",
            "\u001b[92mINFO \u001b[0m:      fit progress: (40, 2.1321940757751463, {'accuracy': 0.1925}, 1439.0535736279562)\n",
            "\u001b[92mINFO \u001b[0m:      configure_evaluate: strategy sampled 4 clients (out of 4)\n"
          ]
        },
        {
          "name": "stdout",
          "output_type": "stream",
          "text": [
            "\u001b[36m(ClientAppActor pid=3466390)\u001b[0m [Client 3] evaluate, config: {}\n",
            "\u001b[36m(ClientAppActor pid=3466390)\u001b[0m [Client 2] evaluate, config: {}\n",
            "\u001b[36m(ClientAppActor pid=3466390)\u001b[0m [Client 1] evaluate, config: {}\n",
            "\u001b[36m(ClientAppActor pid=3466390)\u001b[0m [Client 0] evaluate, config: {}\n"
          ]
        },
        {
          "name": "stderr",
          "output_type": "stream",
          "text": [
            "\u001b[92mINFO \u001b[0m:      aggregate_evaluate: received 4 results and 0 failures\n",
            "\u001b[92mINFO \u001b[0m:      \n",
            "\u001b[92mINFO \u001b[0m:      [ROUND 41]\n",
            "\u001b[92mINFO \u001b[0m:      configure_fit: strategy sampled 4 clients (out of 4)\n"
          ]
        },
        {
          "name": "stdout",
          "output_type": "stream",
          "text": [
            "\u001b[36m(ClientAppActor pid=3466390)\u001b[0m [Client 1] fit, config: {}\n",
            "\u001b[36m(ClientAppActor pid=3466390)\u001b[0m Epoch 1: train loss 2.002578374226888, accuracy 0.22355555555555556\n",
            "\u001b[36m(ClientAppActor pid=3466390)\u001b[0m [Client 0] fit, config: {}\n",
            "\u001b[36m(ClientAppActor pid=3466390)\u001b[0m Epoch 1: train loss 1.9865236265394424, accuracy 0.22644444444444445\n",
            "\u001b[36m(ClientAppActor pid=3466390)\u001b[0m [Client 3] fit, config: {}\n",
            "\u001b[36m(ClientAppActor pid=3466390)\u001b[0m Epoch 1: train loss 2.0034119990666706, accuracy 0.22844444444444445\n",
            "\u001b[36m(ClientAppActor pid=3466390)\u001b[0m [Client 2] fit, config: {}\n"
          ]
        },
        {
          "name": "stderr",
          "output_type": "stream",
          "text": [
            "\u001b[92mINFO \u001b[0m:      aggregate_fit: received 4 results and 0 failures\n"
          ]
        },
        {
          "name": "stdout",
          "output_type": "stream",
          "text": [
            "\u001b[36m(ClientAppActor pid=3466390)\u001b[0m Epoch 1: train loss 1.9917945440080431, accuracy 0.238\n"
          ]
        },
        {
          "name": "stderr",
          "output_type": "stream",
          "text": [
            "\u001b[92mINFO \u001b[0m:      fit progress: (41, 2.161147139930725, {'accuracy': 0.1852}, 1475.4004039019346)\n",
            "\u001b[92mINFO \u001b[0m:      configure_evaluate: strategy sampled 4 clients (out of 4)\n"
          ]
        },
        {
          "name": "stdout",
          "output_type": "stream",
          "text": [
            "\u001b[36m(ClientAppActor pid=3466390)\u001b[0m [Client 0] evaluate, config: {}\n",
            "\u001b[36m(ClientAppActor pid=3466390)\u001b[0m [Client 3] evaluate, config: {}\n",
            "\u001b[36m(ClientAppActor pid=3466390)\u001b[0m [Client 2] evaluate, config: {}\n",
            "\u001b[36m(ClientAppActor pid=3466390)\u001b[0m [Client 1] evaluate, config: {}\n"
          ]
        },
        {
          "name": "stderr",
          "output_type": "stream",
          "text": [
            "\u001b[92mINFO \u001b[0m:      aggregate_evaluate: received 4 results and 0 failures\n",
            "\u001b[92mINFO \u001b[0m:      \n",
            "\u001b[92mINFO \u001b[0m:      [ROUND 42]\n",
            "\u001b[92mINFO \u001b[0m:      configure_fit: strategy sampled 4 clients (out of 4)\n"
          ]
        },
        {
          "name": "stdout",
          "output_type": "stream",
          "text": [
            "\u001b[36m(ClientAppActor pid=3466390)\u001b[0m [Client 1] fit, config: {}\n",
            "\u001b[36m(ClientAppActor pid=3466390)\u001b[0m Epoch 1: train loss 2.003237645255195, accuracy 0.2262222222222222\n",
            "\u001b[36m(ClientAppActor pid=3466390)\u001b[0m [Client 0] fit, config: {}\n",
            "\u001b[36m(ClientAppActor pid=3466390)\u001b[0m Epoch 1: train loss 1.9933435043758816, accuracy 0.23333333333333334\n",
            "\u001b[36m(ClientAppActor pid=3466390)\u001b[0m [Client 2] fit, config: {}\n",
            "\u001b[36m(ClientAppActor pid=3466390)\u001b[0m Epoch 1: train loss 2.004117081112332, accuracy 0.22977777777777778\n",
            "\u001b[36m(ClientAppActor pid=3466390)\u001b[0m [Client 3] fit, config: {}\n",
            "\u001b[36m(ClientAppActor pid=3466390)\u001b[0m Epoch 1: train loss 1.9806611147986517, accuracy 0.23377777777777778\n"
          ]
        },
        {
          "name": "stderr",
          "output_type": "stream",
          "text": [
            "\u001b[92mINFO \u001b[0m:      aggregate_fit: received 4 results and 0 failures\n",
            "\u001b[92mINFO \u001b[0m:      fit progress: (42, 2.2611903022766113, {'accuracy': 0.1714}, 1510.9259604457766)\n",
            "\u001b[92mINFO \u001b[0m:      configure_evaluate: strategy sampled 4 clients (out of 4)\n"
          ]
        },
        {
          "name": "stdout",
          "output_type": "stream",
          "text": [
            "\u001b[36m(ClientAppActor pid=3466390)\u001b[0m [Client 3] evaluate, config: {}\n",
            "\u001b[36m(ClientAppActor pid=3466390)\u001b[0m [Client 0] evaluate, config: {}\n",
            "\u001b[36m(ClientAppActor pid=3466390)\u001b[0m [Client 1] evaluate, config: {}\n",
            "\u001b[36m(ClientAppActor pid=3466390)\u001b[0m [Client 2] evaluate, config: {}\n"
          ]
        },
        {
          "name": "stderr",
          "output_type": "stream",
          "text": [
            "\u001b[92mINFO \u001b[0m:      aggregate_evaluate: received 4 results and 0 failures\n",
            "\u001b[92mINFO \u001b[0m:      \n",
            "\u001b[92mINFO \u001b[0m:      [ROUND 43]\n",
            "\u001b[92mINFO \u001b[0m:      configure_fit: strategy sampled 4 clients (out of 4)\n"
          ]
        },
        {
          "name": "stdout",
          "output_type": "stream",
          "text": [
            "\u001b[36m(ClientAppActor pid=3466390)\u001b[0m [Client 1] fit, config: {}\n",
            "\u001b[36m(ClientAppActor pid=3466390)\u001b[0m Epoch 1: train loss 1.994516553984748, accuracy 0.2242222222222222\n",
            "\u001b[36m(ClientAppActor pid=3466390)\u001b[0m [Client 2] fit, config: {}\n",
            "\u001b[36m(ClientAppActor pid=3466390)\u001b[0m Epoch 1: train loss 1.996659208509657, accuracy 0.22755555555555557\n",
            "\u001b[36m(ClientAppActor pid=3466390)\u001b[0m [Client 3] fit, config: {}\n",
            "\u001b[36m(ClientAppActor pid=3466390)\u001b[0m Epoch 1: train loss 1.9943062604268391, accuracy 0.23133333333333334\n",
            "\u001b[36m(ClientAppActor pid=3466390)\u001b[0m [Client 0] fit, config: {}\n",
            "\u001b[36m(ClientAppActor pid=3466390)\u001b[0m Epoch 1: train loss 1.983965470843845, accuracy 0.23933333333333334\n"
          ]
        },
        {
          "name": "stderr",
          "output_type": "stream",
          "text": [
            "\u001b[92mINFO \u001b[0m:      aggregate_fit: received 4 results and 0 failures\n",
            "\u001b[92mINFO \u001b[0m:      fit progress: (43, 2.1166698902130126, {'accuracy': 0.1969}, 1545.6252267649397)\n",
            "\u001b[92mINFO \u001b[0m:      configure_evaluate: strategy sampled 4 clients (out of 4)\n"
          ]
        },
        {
          "name": "stdout",
          "output_type": "stream",
          "text": [
            "\u001b[36m(ClientAppActor pid=3466390)\u001b[0m [Client 3] evaluate, config: {}\n",
            "\u001b[36m(ClientAppActor pid=3466390)\u001b[0m [Client 2] evaluate, config: {}\n",
            "\u001b[36m(ClientAppActor pid=3466390)\u001b[0m [Client 1] evaluate, config: {}\n",
            "\u001b[36m(ClientAppActor pid=3466390)\u001b[0m [Client 0] evaluate, config: {}\n"
          ]
        },
        {
          "name": "stderr",
          "output_type": "stream",
          "text": [
            "\u001b[92mINFO \u001b[0m:      aggregate_evaluate: received 4 results and 0 failures\n",
            "\u001b[92mINFO \u001b[0m:      \n",
            "\u001b[92mINFO \u001b[0m:      [ROUND 44]\n",
            "\u001b[92mINFO \u001b[0m:      configure_fit: strategy sampled 4 clients (out of 4)\n"
          ]
        },
        {
          "name": "stdout",
          "output_type": "stream",
          "text": [
            "\u001b[36m(ClientAppActor pid=3466390)\u001b[0m [Client 3] fit, config: {}\n",
            "\u001b[36m(ClientAppActor pid=3466390)\u001b[0m Epoch 1: train loss 2.014949350780911, accuracy 0.2262222222222222\n",
            "\u001b[36m(ClientAppActor pid=3466390)\u001b[0m [Client 1] fit, config: {}\n",
            "\u001b[36m(ClientAppActor pid=3466390)\u001b[0m Epoch 1: train loss 1.9901542716556124, accuracy 0.23266666666666666\n",
            "\u001b[36m(ClientAppActor pid=3466390)\u001b[0m [Client 2] fit, config: {}\n",
            "\u001b[36m(ClientAppActor pid=3466390)\u001b[0m Epoch 1: train loss 1.995229045232137, accuracy 0.23955555555555555\n",
            "\u001b[36m(ClientAppActor pid=3466390)\u001b[0m [Client 0] fit, config: {}\n",
            "\u001b[36m(ClientAppActor pid=3466390)\u001b[0m Epoch 1: train loss 1.9770571482976278, accuracy 0.2437777777777778\n"
          ]
        },
        {
          "name": "stderr",
          "output_type": "stream",
          "text": [
            "\u001b[92mINFO \u001b[0m:      aggregate_fit: received 4 results and 0 failures\n",
            "\u001b[92mINFO \u001b[0m:      fit progress: (44, 2.1804828411102295, {'accuracy': 0.1662}, 1582.2547253207304)\n",
            "\u001b[92mINFO \u001b[0m:      configure_evaluate: strategy sampled 4 clients (out of 4)\n"
          ]
        },
        {
          "name": "stdout",
          "output_type": "stream",
          "text": [
            "\u001b[36m(ClientAppActor pid=3466390)\u001b[0m [Client 1] evaluate, config: {}\n",
            "\u001b[36m(ClientAppActor pid=3466390)\u001b[0m [Client 2] evaluate, config: {}\n",
            "\u001b[36m(ClientAppActor pid=3466390)\u001b[0m [Client 3] evaluate, config: {}\n",
            "\u001b[36m(ClientAppActor pid=3466390)\u001b[0m [Client 0] evaluate, config: {}\n"
          ]
        },
        {
          "name": "stderr",
          "output_type": "stream",
          "text": [
            "\u001b[92mINFO \u001b[0m:      aggregate_evaluate: received 4 results and 0 failures\n",
            "\u001b[92mINFO \u001b[0m:      \n",
            "\u001b[92mINFO \u001b[0m:      [ROUND 45]\n",
            "\u001b[92mINFO \u001b[0m:      configure_fit: strategy sampled 4 clients (out of 4)\n"
          ]
        },
        {
          "name": "stdout",
          "output_type": "stream",
          "text": [
            "\u001b[36m(ClientAppActor pid=3466390)\u001b[0m [Client 2] fit, config: {}\n",
            "\u001b[36m(ClientAppActor pid=3466390)\u001b[0m Epoch 1: train loss 1.9592972140842013, accuracy 0.2437777777777778\n",
            "\u001b[36m(ClientAppActor pid=3466390)\u001b[0m [Client 3] fit, config: {}\n",
            "\u001b[36m(ClientAppActor pid=3466390)\u001b[0m Epoch 1: train loss 1.9389213367038303, accuracy 0.24822222222222223\n",
            "\u001b[36m(ClientAppActor pid=3466390)\u001b[0m [Client 0] fit, config: {}\n",
            "\u001b[36m(ClientAppActor pid=3466390)\u001b[0m Epoch 1: train loss 1.9860266851849027, accuracy 0.2308888888888889\n",
            "\u001b[36m(ClientAppActor pid=3466390)\u001b[0m [Client 1] fit, config: {}\n",
            "\u001b[36m(ClientAppActor pid=3466390)\u001b[0m Epoch 1: train loss 1.9562737062242297, accuracy 0.24155555555555555\n"
          ]
        },
        {
          "name": "stderr",
          "output_type": "stream",
          "text": [
            "\u001b[92mINFO \u001b[0m:      aggregate_fit: received 4 results and 0 failures\n",
            "\u001b[92mINFO \u001b[0m:      fit progress: (45, 2.8277306163787843, {'accuracy': 0.1091}, 1617.283544505015)\n",
            "\u001b[92mINFO \u001b[0m:      configure_evaluate: strategy sampled 4 clients (out of 4)\n"
          ]
        },
        {
          "name": "stdout",
          "output_type": "stream",
          "text": [
            "\u001b[36m(ClientAppActor pid=3466390)\u001b[0m [Client 0] evaluate, config: {}\n",
            "\u001b[36m(ClientAppActor pid=3466390)\u001b[0m [Client 2] evaluate, config: {}\n",
            "\u001b[36m(ClientAppActor pid=3466390)\u001b[0m [Client 1] evaluate, config: {}\n",
            "\u001b[36m(ClientAppActor pid=3466390)\u001b[0m [Client 3] evaluate, config: {}\n"
          ]
        },
        {
          "name": "stderr",
          "output_type": "stream",
          "text": [
            "\u001b[92mINFO \u001b[0m:      aggregate_evaluate: received 4 results and 0 failures\n",
            "\u001b[92mINFO \u001b[0m:      \n",
            "\u001b[92mINFO \u001b[0m:      [ROUND 46]\n",
            "\u001b[92mINFO \u001b[0m:      configure_fit: strategy sampled 4 clients (out of 4)\n"
          ]
        },
        {
          "name": "stdout",
          "output_type": "stream",
          "text": [
            "\u001b[36m(ClientAppActor pid=3466390)\u001b[0m [Client 3] fit, config: {}\n",
            "\u001b[36m(ClientAppActor pid=3466390)\u001b[0m Epoch 1: train loss 1.9998216177622476, accuracy 0.22377777777777777\n",
            "\u001b[36m(ClientAppActor pid=3466390)\u001b[0m [Client 0] fit, config: {}\n",
            "\u001b[36m(ClientAppActor pid=3466390)\u001b[0m Epoch 1: train loss 1.9964604572719997, accuracy 0.22644444444444445\n",
            "\u001b[36m(ClientAppActor pid=3466390)\u001b[0m [Client 1] fit, config: {}\n",
            "\u001b[36m(ClientAppActor pid=3466390)\u001b[0m Epoch 1: train loss 1.9842732728322348, accuracy 0.22866666666666666\n",
            "\u001b[36m(ClientAppActor pid=3466390)\u001b[0m [Client 2] fit, config: {}\n",
            "\u001b[36m(ClientAppActor pid=3466390)\u001b[0m Epoch 1: train loss 2.0094579101138645, accuracy 0.2291111111111111\n"
          ]
        },
        {
          "name": "stderr",
          "output_type": "stream",
          "text": [
            "\u001b[92mINFO \u001b[0m:      aggregate_fit: received 4 results and 0 failures\n",
            "\u001b[92mINFO \u001b[0m:      fit progress: (46, 2.084437137413025, {'accuracy': 0.1907}, 1652.540877178777)\n",
            "\u001b[92mINFO \u001b[0m:      configure_evaluate: strategy sampled 4 clients (out of 4)\n"
          ]
        },
        {
          "name": "stdout",
          "output_type": "stream",
          "text": [
            "\u001b[36m(ClientAppActor pid=3466390)\u001b[0m [Client 3] evaluate, config: {}\n",
            "\u001b[36m(ClientAppActor pid=3466390)\u001b[0m [Client 2] evaluate, config: {}\n",
            "\u001b[36m(ClientAppActor pid=3466390)\u001b[0m [Client 0] evaluate, config: {}\n",
            "\u001b[36m(ClientAppActor pid=3466390)\u001b[0m [Client 1] evaluate, config: {}\n"
          ]
        },
        {
          "name": "stderr",
          "output_type": "stream",
          "text": [
            "\u001b[92mINFO \u001b[0m:      aggregate_evaluate: received 4 results and 0 failures\n",
            "\u001b[92mINFO \u001b[0m:      \n",
            "\u001b[92mINFO \u001b[0m:      [ROUND 47]\n",
            "\u001b[92mINFO \u001b[0m:      configure_fit: strategy sampled 4 clients (out of 4)\n"
          ]
        },
        {
          "name": "stdout",
          "output_type": "stream",
          "text": [
            "\u001b[36m(ClientAppActor pid=3466390)\u001b[0m [Client 2] fit, config: {}\n",
            "\u001b[36m(ClientAppActor pid=3466390)\u001b[0m Epoch 1: train loss 2.0123659248352053, accuracy 0.22644444444444445\n",
            "\u001b[36m(ClientAppActor pid=3466390)\u001b[0m [Client 3] fit, config: {}\n",
            "\u001b[36m(ClientAppActor pid=3466390)\u001b[0m Epoch 1: train loss 1.9819318866729736, accuracy 0.23622222222222222\n",
            "\u001b[36m(ClientAppActor pid=3466390)\u001b[0m [Client 1] fit, config: {}\n",
            "\u001b[36m(ClientAppActor pid=3466390)\u001b[0m Epoch 1: train loss 1.9983748071458605, accuracy 0.22755555555555557\n",
            "\u001b[36m(ClientAppActor pid=3466390)\u001b[0m [Client 0] fit, config: {}\n",
            "\u001b[36m(ClientAppActor pid=3466390)\u001b[0m Epoch 1: train loss 2.0053975223965117, accuracy 0.24133333333333334\n"
          ]
        },
        {
          "name": "stderr",
          "output_type": "stream",
          "text": [
            "\u001b[92mINFO \u001b[0m:      aggregate_fit: received 4 results and 0 failures\n",
            "\u001b[92mINFO \u001b[0m:      fit progress: (47, 2.523222243118286, {'accuracy': 0.1177}, 1687.2262351866812)\n",
            "\u001b[92mINFO \u001b[0m:      configure_evaluate: strategy sampled 4 clients (out of 4)\n"
          ]
        },
        {
          "name": "stdout",
          "output_type": "stream",
          "text": [
            "\u001b[36m(ClientAppActor pid=3466390)\u001b[0m [Client 3] evaluate, config: {}\n",
            "\u001b[36m(ClientAppActor pid=3466390)\u001b[0m [Client 0] evaluate, config: {}\n",
            "\u001b[36m(ClientAppActor pid=3466390)\u001b[0m [Client 1] evaluate, config: {}\n",
            "\u001b[36m(ClientAppActor pid=3466390)\u001b[0m [Client 2] evaluate, config: {}\n"
          ]
        },
        {
          "name": "stderr",
          "output_type": "stream",
          "text": [
            "\u001b[92mINFO \u001b[0m:      aggregate_evaluate: received 4 results and 0 failures\n",
            "\u001b[92mINFO \u001b[0m:      \n",
            "\u001b[92mINFO \u001b[0m:      [ROUND 48]\n",
            "\u001b[92mINFO \u001b[0m:      configure_fit: strategy sampled 4 clients (out of 4)\n"
          ]
        },
        {
          "name": "stdout",
          "output_type": "stream",
          "text": [
            "\u001b[36m(ClientAppActor pid=3466390)\u001b[0m [Client 0] fit, config: {}\n",
            "\u001b[36m(ClientAppActor pid=3466390)\u001b[0m Epoch 1: train loss 1.9736341848373413, accuracy 0.2368888888888889\n",
            "\u001b[36m(ClientAppActor pid=3466390)\u001b[0m [Client 3] fit, config: {}\n",
            "\u001b[36m(ClientAppActor pid=3466390)\u001b[0m Epoch 1: train loss 2.0224555843141343, accuracy 0.21288888888888888\n",
            "\u001b[36m(ClientAppActor pid=3466390)\u001b[0m [Client 1] fit, config: {}\n",
            "\u001b[36m(ClientAppActor pid=3466390)\u001b[0m Epoch 1: train loss 1.9625975439283583, accuracy 0.23866666666666667\n",
            "\u001b[36m(ClientAppActor pid=3466390)\u001b[0m [Client 2] fit, config: {}\n",
            "\u001b[36m(ClientAppActor pid=3466390)\u001b[0m Epoch 1: train loss 2.001237497223748, accuracy 0.23044444444444445\n"
          ]
        },
        {
          "name": "stderr",
          "output_type": "stream",
          "text": [
            "\u001b[92mINFO \u001b[0m:      aggregate_fit: received 4 results and 0 failures\n",
            "\u001b[92mINFO \u001b[0m:      fit progress: (48, 2.262440235519409, {'accuracy': 0.115}, 1722.2822567527182)\n",
            "\u001b[92mINFO \u001b[0m:      configure_evaluate: strategy sampled 4 clients (out of 4)\n"
          ]
        },
        {
          "name": "stdout",
          "output_type": "stream",
          "text": [
            "\u001b[36m(ClientAppActor pid=3466390)\u001b[0m [Client 3] evaluate, config: {}\n",
            "\u001b[36m(ClientAppActor pid=3466390)\u001b[0m [Client 0] evaluate, config: {}\n",
            "\u001b[36m(ClientAppActor pid=3466390)\u001b[0m [Client 2] evaluate, config: {}\n",
            "\u001b[36m(ClientAppActor pid=3466390)\u001b[0m [Client 1] evaluate, config: {}\n"
          ]
        },
        {
          "name": "stderr",
          "output_type": "stream",
          "text": [
            "\u001b[92mINFO \u001b[0m:      aggregate_evaluate: received 4 results and 0 failures\n",
            "\u001b[92mINFO \u001b[0m:      \n",
            "\u001b[92mINFO \u001b[0m:      [ROUND 49]\n",
            "\u001b[92mINFO \u001b[0m:      configure_fit: strategy sampled 4 clients (out of 4)\n"
          ]
        },
        {
          "name": "stdout",
          "output_type": "stream",
          "text": [
            "\u001b[36m(ClientAppActor pid=3466390)\u001b[0m [Client 2] fit, config: {}\n",
            "\u001b[36m(ClientAppActor pid=3466390)\u001b[0m Epoch 1: train loss 1.9942756216261122, accuracy 0.23044444444444445\n",
            "\u001b[36m(ClientAppActor pid=3466390)\u001b[0m [Client 1] fit, config: {}\n",
            "\u001b[36m(ClientAppActor pid=3466390)\u001b[0m Epoch 1: train loss 1.9681450097825792, accuracy 0.22844444444444445\n",
            "\u001b[36m(ClientAppActor pid=3466390)\u001b[0m [Client 0] fit, config: {}\n",
            "\u001b[36m(ClientAppActor pid=3466390)\u001b[0m Epoch 1: train loss 1.9916342119640775, accuracy 0.23244444444444445\n",
            "\u001b[36m(ClientAppActor pid=3466390)\u001b[0m [Client 3] fit, config: {}\n",
            "\u001b[36m(ClientAppActor pid=3466390)\u001b[0m Epoch 1: train loss 1.9934617197248672, accuracy 0.23155555555555554\n"
          ]
        },
        {
          "name": "stderr",
          "output_type": "stream",
          "text": [
            "\u001b[92mINFO \u001b[0m:      aggregate_fit: received 4 results and 0 failures\n",
            "\u001b[92mINFO \u001b[0m:      fit progress: (49, 2.3669812816619875, {'accuracy': 0.1071}, 1756.962523915805)\n",
            "\u001b[92mINFO \u001b[0m:      configure_evaluate: strategy sampled 4 clients (out of 4)\n"
          ]
        },
        {
          "name": "stdout",
          "output_type": "stream",
          "text": [
            "\u001b[36m(ClientAppActor pid=3466390)\u001b[0m [Client 1] evaluate, config: {}\n",
            "\u001b[36m(ClientAppActor pid=3466390)\u001b[0m [Client 0] evaluate, config: {}\n",
            "\u001b[36m(ClientAppActor pid=3466390)\u001b[0m [Client 3] evaluate, config: {}\n",
            "\u001b[36m(ClientAppActor pid=3466390)\u001b[0m [Client 2] evaluate, config: {}\n"
          ]
        },
        {
          "name": "stderr",
          "output_type": "stream",
          "text": [
            "\u001b[92mINFO \u001b[0m:      aggregate_evaluate: received 4 results and 0 failures\n",
            "\u001b[92mINFO \u001b[0m:      \n",
            "\u001b[92mINFO \u001b[0m:      [ROUND 50]\n",
            "\u001b[92mINFO \u001b[0m:      configure_fit: strategy sampled 4 clients (out of 4)\n"
          ]
        },
        {
          "name": "stdout",
          "output_type": "stream",
          "text": [
            "\u001b[36m(ClientAppActor pid=3466390)\u001b[0m [Client 0] fit, config: {}\n",
            "\u001b[36m(ClientAppActor pid=3466390)\u001b[0m Epoch 1: train loss 1.9846902222103542, accuracy 0.24222222222222223\n",
            "\u001b[36m(ClientAppActor pid=3466390)\u001b[0m [Client 2] fit, config: {}\n",
            "\u001b[36m(ClientAppActor pid=3466390)\u001b[0m Epoch 1: train loss 1.99668113538954, accuracy 0.23066666666666666\n",
            "\u001b[36m(ClientAppActor pid=3466390)\u001b[0m [Client 1] fit, config: {}\n",
            "\u001b[36m(ClientAppActor pid=3466390)\u001b[0m Epoch 1: train loss 2.0039162062538995, accuracy 0.21533333333333332\n",
            "\u001b[36m(ClientAppActor pid=3466390)\u001b[0m [Client 3] fit, config: {}\n",
            "\u001b[36m(ClientAppActor pid=3466390)\u001b[0m Epoch 1: train loss 1.9734309813181559, accuracy 0.23666666666666666\n"
          ]
        },
        {
          "name": "stderr",
          "output_type": "stream",
          "text": [
            "\u001b[92mINFO \u001b[0m:      aggregate_fit: received 4 results and 0 failures\n",
            "\u001b[92mINFO \u001b[0m:      fit progress: (50, 2.290407793045044, {'accuracy': 0.1328}, 1793.8195520220324)\n",
            "\u001b[92mINFO \u001b[0m:      configure_evaluate: strategy sampled 4 clients (out of 4)\n"
          ]
        },
        {
          "name": "stdout",
          "output_type": "stream",
          "text": [
            "\u001b[36m(ClientAppActor pid=3466390)\u001b[0m [Client 2] evaluate, config: {}\n",
            "\u001b[36m(ClientAppActor pid=3466390)\u001b[0m [Client 0] evaluate, config: {}\n",
            "\u001b[36m(ClientAppActor pid=3466390)\u001b[0m [Client 3] evaluate, config: {}\n",
            "\u001b[36m(ClientAppActor pid=3466390)\u001b[0m [Client 1] evaluate, config: {}\n"
          ]
        },
        {
          "name": "stderr",
          "output_type": "stream",
          "text": [
            "\u001b[92mINFO \u001b[0m:      aggregate_evaluate: received 4 results and 0 failures\n",
            "\u001b[92mINFO \u001b[0m:      \n",
            "\u001b[92mINFO \u001b[0m:      [ROUND 51]\n",
            "\u001b[92mINFO \u001b[0m:      configure_fit: strategy sampled 4 clients (out of 4)\n"
          ]
        },
        {
          "name": "stdout",
          "output_type": "stream",
          "text": [
            "\u001b[36m(ClientAppActor pid=3466390)\u001b[0m [Client 0] fit, config: {}\n",
            "\u001b[36m(ClientAppActor pid=3466390)\u001b[0m Epoch 1: train loss 1.993273954603407, accuracy 0.22377777777777777\n",
            "\u001b[36m(ClientAppActor pid=3466390)\u001b[0m [Client 2] fit, config: {}\n",
            "\u001b[36m(ClientAppActor pid=3466390)\u001b[0m Epoch 1: train loss 1.9757526618109809, accuracy 0.24222222222222223\n",
            "\u001b[36m(ClientAppActor pid=3466390)\u001b[0m [Client 3] fit, config: {}\n",
            "\u001b[36m(ClientAppActor pid=3466390)\u001b[0m Epoch 1: train loss 1.9709866145451864, accuracy 0.2268888888888889\n",
            "\u001b[36m(ClientAppActor pid=3466390)\u001b[0m [Client 1] fit, config: {}\n",
            "\u001b[36m(ClientAppActor pid=3466390)\u001b[0m Epoch 1: train loss 1.975046843846639, accuracy 0.2288888888888889\n"
          ]
        },
        {
          "name": "stderr",
          "output_type": "stream",
          "text": [
            "\u001b[92mINFO \u001b[0m:      aggregate_fit: received 4 results and 0 failures\n",
            "\u001b[92mINFO \u001b[0m:      fit progress: (51, 2.196294033050537, {'accuracy': 0.1442}, 1830.787407801021)\n",
            "\u001b[92mINFO \u001b[0m:      configure_evaluate: strategy sampled 4 clients (out of 4)\n"
          ]
        },
        {
          "name": "stdout",
          "output_type": "stream",
          "text": [
            "\u001b[36m(ClientAppActor pid=3466390)\u001b[0m [Client 3] evaluate, config: {}\n",
            "\u001b[36m(ClientAppActor pid=3466390)\u001b[0m [Client 2] evaluate, config: {}\n",
            "\u001b[36m(ClientAppActor pid=3466390)\u001b[0m [Client 1] evaluate, config: {}\n",
            "\u001b[36m(ClientAppActor pid=3466390)\u001b[0m [Client 0] evaluate, config: {}\n"
          ]
        },
        {
          "name": "stderr",
          "output_type": "stream",
          "text": [
            "\u001b[92mINFO \u001b[0m:      aggregate_evaluate: received 4 results and 0 failures\n",
            "\u001b[92mINFO \u001b[0m:      \n",
            "\u001b[92mINFO \u001b[0m:      [ROUND 52]\n",
            "\u001b[92mINFO \u001b[0m:      configure_fit: strategy sampled 4 clients (out of 4)\n"
          ]
        },
        {
          "name": "stdout",
          "output_type": "stream",
          "text": [
            "\u001b[36m(ClientAppActor pid=3466390)\u001b[0m [Client 1] fit, config: {}\n",
            "\u001b[36m(ClientAppActor pid=3466390)\u001b[0m Epoch 1: train loss 1.9743285738627117, accuracy 0.22311111111111112\n",
            "\u001b[36m(ClientAppActor pid=3466390)\u001b[0m [Client 3] fit, config: {}\n",
            "\u001b[36m(ClientAppActor pid=3466390)\u001b[0m Epoch 1: train loss 1.9558052638371786, accuracy 0.22755555555555557\n",
            "\u001b[36m(ClientAppActor pid=3466390)\u001b[0m [Client 0] fit, config: {}\n",
            "\u001b[36m(ClientAppActor pid=3466390)\u001b[0m Epoch 1: train loss 1.948043901655409, accuracy 0.2408888888888889\n",
            "\u001b[36m(ClientAppActor pid=3466390)\u001b[0m [Client 2] fit, config: {}\n",
            "\u001b[36m(ClientAppActor pid=3466390)\u001b[0m Epoch 1: train loss 1.9792195213105943, accuracy 0.24488888888888888\n"
          ]
        },
        {
          "name": "stderr",
          "output_type": "stream",
          "text": [
            "\u001b[92mINFO \u001b[0m:      aggregate_fit: received 4 results and 0 failures\n",
            "\u001b[92mINFO \u001b[0m:      fit progress: (52, 2.1628709983825685, {'accuracy': 0.1582}, 1866.2833760096692)\n",
            "\u001b[92mINFO \u001b[0m:      configure_evaluate: strategy sampled 4 clients (out of 4)\n"
          ]
        },
        {
          "name": "stdout",
          "output_type": "stream",
          "text": [
            "\u001b[36m(ClientAppActor pid=3466390)\u001b[0m [Client 3] evaluate, config: {}\n",
            "\u001b[36m(ClientAppActor pid=3466390)\u001b[0m [Client 1] evaluate, config: {}\n",
            "\u001b[36m(ClientAppActor pid=3466390)\u001b[0m [Client 2] evaluate, config: {}\n",
            "\u001b[36m(ClientAppActor pid=3466390)\u001b[0m [Client 0] evaluate, config: {}\n"
          ]
        },
        {
          "name": "stderr",
          "output_type": "stream",
          "text": [
            "\u001b[92mINFO \u001b[0m:      aggregate_evaluate: received 4 results and 0 failures\n",
            "\u001b[92mINFO \u001b[0m:      \n",
            "\u001b[92mINFO \u001b[0m:      [ROUND 53]\n",
            "\u001b[92mINFO \u001b[0m:      configure_fit: strategy sampled 4 clients (out of 4)\n"
          ]
        },
        {
          "name": "stdout",
          "output_type": "stream",
          "text": [
            "\u001b[36m(ClientAppActor pid=3466390)\u001b[0m [Client 2] fit, config: {}\n",
            "\u001b[36m(ClientAppActor pid=3466390)\u001b[0m Epoch 1: train loss 1.9450199474758572, accuracy 0.25044444444444447\n",
            "\u001b[36m(ClientAppActor pid=3466390)\u001b[0m [Client 0] fit, config: {}\n",
            "\u001b[36m(ClientAppActor pid=3466390)\u001b[0m Epoch 1: train loss 1.9686967527601453, accuracy 0.24222222222222223\n",
            "\u001b[36m(ClientAppActor pid=3466390)\u001b[0m [Client 1] fit, config: {}\n",
            "\u001b[36m(ClientAppActor pid=3466390)\u001b[0m Epoch 1: train loss 1.9668758882946438, accuracy 0.23422222222222222\n",
            "\u001b[36m(ClientAppActor pid=3466390)\u001b[0m [Client 3] fit, config: {}\n",
            "\u001b[36m(ClientAppActor pid=3466390)\u001b[0m Epoch 1: train loss 1.9659469485812717, accuracy 0.23644444444444446\n"
          ]
        },
        {
          "name": "stderr",
          "output_type": "stream",
          "text": [
            "\u001b[92mINFO \u001b[0m:      aggregate_fit: received 4 results and 0 failures\n",
            "\u001b[92mINFO \u001b[0m:      fit progress: (53, 2.1283174867630006, {'accuracy': 0.1706}, 1902.2321295947768)\n",
            "\u001b[92mINFO \u001b[0m:      configure_evaluate: strategy sampled 4 clients (out of 4)\n"
          ]
        },
        {
          "name": "stdout",
          "output_type": "stream",
          "text": [
            "\u001b[36m(ClientAppActor pid=3466390)\u001b[0m [Client 2] evaluate, config: {}\n",
            "\u001b[36m(ClientAppActor pid=3466390)\u001b[0m [Client 0] evaluate, config: {}\n",
            "\u001b[36m(ClientAppActor pid=3466390)\u001b[0m [Client 1] evaluate, config: {}\n",
            "\u001b[36m(ClientAppActor pid=3466390)\u001b[0m [Client 3] evaluate, config: {}\n"
          ]
        },
        {
          "name": "stderr",
          "output_type": "stream",
          "text": [
            "\u001b[92mINFO \u001b[0m:      aggregate_evaluate: received 4 results and 0 failures\n",
            "\u001b[92mINFO \u001b[0m:      \n",
            "\u001b[92mINFO \u001b[0m:      [ROUND 54]\n",
            "\u001b[92mINFO \u001b[0m:      configure_fit: strategy sampled 4 clients (out of 4)\n"
          ]
        },
        {
          "name": "stdout",
          "output_type": "stream",
          "text": [
            "\u001b[36m(ClientAppActor pid=3466390)\u001b[0m [Client 3] fit, config: {}\n",
            "\u001b[36m(ClientAppActor pid=3466390)\u001b[0m Epoch 1: train loss 1.9294931243260702, accuracy 0.2437777777777778\n",
            "\u001b[36m(ClientAppActor pid=3466390)\u001b[0m [Client 2] fit, config: {}\n",
            "\u001b[36m(ClientAppActor pid=3466390)\u001b[0m Epoch 1: train loss 1.9722255120807224, accuracy 0.23177777777777778\n",
            "\u001b[36m(ClientAppActor pid=3466390)\u001b[0m [Client 0] fit, config: {}\n",
            "\u001b[36m(ClientAppActor pid=3466390)\u001b[0m Epoch 1: train loss 1.9585257267422147, accuracy 0.23755555555555555\n",
            "\u001b[36m(ClientAppActor pid=3466390)\u001b[0m [Client 1] fit, config: {}\n"
          ]
        },
        {
          "name": "stderr",
          "output_type": "stream",
          "text": [
            "\u001b[92mINFO \u001b[0m:      aggregate_fit: received 4 results and 0 failures\n"
          ]
        },
        {
          "name": "stdout",
          "output_type": "stream",
          "text": [
            "\u001b[36m(ClientAppActor pid=3466390)\u001b[0m Epoch 1: train loss 1.947174423429701, accuracy 0.2391111111111111\n"
          ]
        },
        {
          "name": "stderr",
          "output_type": "stream",
          "text": [
            "\u001b[92mINFO \u001b[0m:      fit progress: (54, 2.1873765167236328, {'accuracy': 0.1214}, 1937.1366530298255)\n",
            "\u001b[92mINFO \u001b[0m:      configure_evaluate: strategy sampled 4 clients (out of 4)\n"
          ]
        },
        {
          "name": "stdout",
          "output_type": "stream",
          "text": [
            "\u001b[36m(ClientAppActor pid=3466390)\u001b[0m [Client 0] evaluate, config: {}\n",
            "\u001b[36m(ClientAppActor pid=3466390)\u001b[0m [Client 2] evaluate, config: {}\n",
            "\u001b[36m(ClientAppActor pid=3466390)\u001b[0m [Client 1] evaluate, config: {}\n",
            "\u001b[36m(ClientAppActor pid=3466390)\u001b[0m [Client 3] evaluate, config: {}\n"
          ]
        },
        {
          "name": "stderr",
          "output_type": "stream",
          "text": [
            "\u001b[92mINFO \u001b[0m:      aggregate_evaluate: received 4 results and 0 failures\n",
            "\u001b[92mINFO \u001b[0m:      \n",
            "\u001b[92mINFO \u001b[0m:      [ROUND 55]\n",
            "\u001b[92mINFO \u001b[0m:      configure_fit: strategy sampled 4 clients (out of 4)\n"
          ]
        },
        {
          "name": "stdout",
          "output_type": "stream",
          "text": [
            "\u001b[36m(ClientAppActor pid=3466390)\u001b[0m [Client 2] fit, config: {}\n",
            "\u001b[36m(ClientAppActor pid=3466390)\u001b[0m Epoch 1: train loss 1.957416279051039, accuracy 0.24288888888888888\n",
            "\u001b[36m(ClientAppActor pid=3466390)\u001b[0m [Client 1] fit, config: {}\n",
            "\u001b[36m(ClientAppActor pid=3466390)\u001b[0m Epoch 1: train loss 1.9498475382063123, accuracy 0.23\n",
            "\u001b[36m(ClientAppActor pid=3466390)\u001b[0m [Client 0] fit, config: {}\n",
            "\u001b[36m(ClientAppActor pid=3466390)\u001b[0m Epoch 1: train loss 1.9520736395517986, accuracy 0.24666666666666667\n",
            "\u001b[36m(ClientAppActor pid=3466390)\u001b[0m [Client 3] fit, config: {}\n",
            "\u001b[36m(ClientAppActor pid=3466390)\u001b[0m Epoch 1: train loss 1.963268703142802, accuracy 0.23466666666666666\n"
          ]
        },
        {
          "name": "stderr",
          "output_type": "stream",
          "text": [
            "\u001b[92mINFO \u001b[0m:      aggregate_fit: received 4 results and 0 failures\n",
            "\u001b[92mINFO \u001b[0m:      fit progress: (55, 2.2547699810028075, {'accuracy': 0.1402}, 1972.8672665730119)\n",
            "\u001b[92mINFO \u001b[0m:      configure_evaluate: strategy sampled 4 clients (out of 4)\n"
          ]
        },
        {
          "name": "stdout",
          "output_type": "stream",
          "text": [
            "\u001b[36m(ClientAppActor pid=3466390)\u001b[0m [Client 1] evaluate, config: {}\n",
            "\u001b[36m(ClientAppActor pid=3466390)\u001b[0m [Client 3] evaluate, config: {}\n",
            "\u001b[36m(ClientAppActor pid=3466390)\u001b[0m [Client 0] evaluate, config: {}\n",
            "\u001b[36m(ClientAppActor pid=3466390)\u001b[0m [Client 2] evaluate, config: {}\n"
          ]
        },
        {
          "name": "stderr",
          "output_type": "stream",
          "text": [
            "\u001b[92mINFO \u001b[0m:      aggregate_evaluate: received 4 results and 0 failures\n",
            "\u001b[92mINFO \u001b[0m:      \n",
            "\u001b[92mINFO \u001b[0m:      [ROUND 56]\n",
            "\u001b[92mINFO \u001b[0m:      configure_fit: strategy sampled 4 clients (out of 4)\n"
          ]
        },
        {
          "name": "stdout",
          "output_type": "stream",
          "text": [
            "\u001b[36m(ClientAppActor pid=3466390)\u001b[0m [Client 2] fit, config: {}\n",
            "\u001b[36m(ClientAppActor pid=3466390)\u001b[0m Epoch 1: train loss 1.9590072905222575, accuracy 0.2477777777777778\n",
            "\u001b[36m(ClientAppActor pid=3466390)\u001b[0m [Client 3] fit, config: {}\n",
            "\u001b[36m(ClientAppActor pid=3466390)\u001b[0m Epoch 1: train loss 1.932176801469591, accuracy 0.24488888888888888\n",
            "\u001b[36m(ClientAppActor pid=3466390)\u001b[0m [Client 0] fit, config: {}\n",
            "\u001b[36m(ClientAppActor pid=3466390)\u001b[0m Epoch 1: train loss 1.9580838544633654, accuracy 0.24866666666666667\n",
            "\u001b[36m(ClientAppActor pid=3466390)\u001b[0m [Client 1] fit, config: {}\n",
            "\u001b[36m(ClientAppActor pid=3466390)\u001b[0m Epoch 1: train loss 1.9489095545874702, accuracy 0.2308888888888889\n"
          ]
        },
        {
          "name": "stderr",
          "output_type": "stream",
          "text": [
            "\u001b[92mINFO \u001b[0m:      aggregate_fit: received 4 results and 0 failures\n",
            "\u001b[92mINFO \u001b[0m:      fit progress: (56, 2.209051523590088, {'accuracy': 0.1412}, 2008.1161742629483)\n",
            "\u001b[92mINFO \u001b[0m:      configure_evaluate: strategy sampled 4 clients (out of 4)\n"
          ]
        },
        {
          "name": "stdout",
          "output_type": "stream",
          "text": [
            "\u001b[36m(ClientAppActor pid=3466390)\u001b[0m [Client 1] evaluate, config: {}\n",
            "\u001b[36m(ClientAppActor pid=3466390)\u001b[0m [Client 2] evaluate, config: {}\n",
            "\u001b[36m(ClientAppActor pid=3466390)\u001b[0m [Client 3] evaluate, config: {}\n",
            "\u001b[36m(ClientAppActor pid=3466390)\u001b[0m [Client 0] evaluate, config: {}\n"
          ]
        },
        {
          "name": "stderr",
          "output_type": "stream",
          "text": [
            "\u001b[92mINFO \u001b[0m:      aggregate_evaluate: received 4 results and 0 failures\n",
            "\u001b[92mINFO \u001b[0m:      \n",
            "\u001b[92mINFO \u001b[0m:      [ROUND 57]\n",
            "\u001b[92mINFO \u001b[0m:      configure_fit: strategy sampled 4 clients (out of 4)\n"
          ]
        },
        {
          "name": "stdout",
          "output_type": "stream",
          "text": [
            "\u001b[36m(ClientAppActor pid=3466390)\u001b[0m [Client 3] fit, config: {}\n",
            "\u001b[36m(ClientAppActor pid=3466390)\u001b[0m Epoch 1: train loss 1.9414533292982314, accuracy 0.238\n",
            "\u001b[36m(ClientAppActor pid=3466390)\u001b[0m [Client 1] fit, config: {}\n",
            "\u001b[36m(ClientAppActor pid=3466390)\u001b[0m Epoch 1: train loss 1.9376331901550292, accuracy 0.24844444444444444\n",
            "\u001b[36m(ClientAppActor pid=3466390)\u001b[0m [Client 2] fit, config: {}\n",
            "\u001b[36m(ClientAppActor pid=3466390)\u001b[0m Epoch 1: train loss 1.9303119864993625, accuracy 0.2591111111111111\n",
            "\u001b[36m(ClientAppActor pid=3466390)\u001b[0m [Client 0] fit, config: {}\n",
            "\u001b[36m(ClientAppActor pid=3466390)\u001b[0m Epoch 1: train loss 1.935057809829712, accuracy 0.2508888888888889\n"
          ]
        },
        {
          "name": "stderr",
          "output_type": "stream",
          "text": [
            "\u001b[92mINFO \u001b[0m:      aggregate_fit: received 4 results and 0 failures\n",
            "\u001b[92mINFO \u001b[0m:      fit progress: (57, 2.0881048990249633, {'accuracy': 0.1909}, 2042.7640634700656)\n",
            "\u001b[92mINFO \u001b[0m:      configure_evaluate: strategy sampled 4 clients (out of 4)\n"
          ]
        },
        {
          "name": "stdout",
          "output_type": "stream",
          "text": [
            "\u001b[36m(ClientAppActor pid=3466390)\u001b[0m [Client 0] evaluate, config: {}\n",
            "\u001b[36m(ClientAppActor pid=3466390)\u001b[0m [Client 3] evaluate, config: {}\n",
            "\u001b[36m(ClientAppActor pid=3466390)\u001b[0m [Client 2] evaluate, config: {}\n",
            "\u001b[36m(ClientAppActor pid=3466390)\u001b[0m [Client 1] evaluate, config: {}\n"
          ]
        },
        {
          "name": "stderr",
          "output_type": "stream",
          "text": [
            "\u001b[92mINFO \u001b[0m:      aggregate_evaluate: received 4 results and 0 failures\n",
            "\u001b[92mINFO \u001b[0m:      \n",
            "\u001b[92mINFO \u001b[0m:      [ROUND 58]\n",
            "\u001b[92mINFO \u001b[0m:      configure_fit: strategy sampled 4 clients (out of 4)\n"
          ]
        },
        {
          "name": "stdout",
          "output_type": "stream",
          "text": [
            "\u001b[36m(ClientAppActor pid=3466390)\u001b[0m [Client 3] fit, config: {}\n",
            "\u001b[36m(ClientAppActor pid=3466390)\u001b[0m Epoch 1: train loss 1.9078223453097873, accuracy 0.252\n",
            "\u001b[36m(ClientAppActor pid=3466390)\u001b[0m [Client 1] fit, config: {}\n",
            "\u001b[36m(ClientAppActor pid=3466390)\u001b[0m Epoch 1: train loss 1.9244937931696573, accuracy 0.246\n",
            "\u001b[36m(ClientAppActor pid=3466390)\u001b[0m [Client 2] fit, config: {}\n",
            "\u001b[36m(ClientAppActor pid=3466390)\u001b[0m Epoch 1: train loss 1.942157493379381, accuracy 0.25533333333333336\n",
            "\u001b[36m(ClientAppActor pid=3466390)\u001b[0m [Client 0] fit, config: {}\n",
            "\u001b[36m(ClientAppActor pid=3466390)\u001b[0m Epoch 1: train loss 1.9205493462880452, accuracy 0.25355555555555553\n"
          ]
        },
        {
          "name": "stderr",
          "output_type": "stream",
          "text": [
            "\u001b[92mINFO \u001b[0m:      aggregate_fit: received 4 results and 0 failures\n",
            "\u001b[92mINFO \u001b[0m:      fit progress: (58, 2.1386698585510255, {'accuracy': 0.1844}, 2077.2016388857737)\n",
            "\u001b[92mINFO \u001b[0m:      configure_evaluate: strategy sampled 4 clients (out of 4)\n"
          ]
        },
        {
          "name": "stdout",
          "output_type": "stream",
          "text": [
            "\u001b[36m(ClientAppActor pid=3466390)\u001b[0m [Client 0] evaluate, config: {}\n",
            "\u001b[36m(ClientAppActor pid=3466390)\u001b[0m [Client 3] evaluate, config: {}\n",
            "\u001b[36m(ClientAppActor pid=3466390)\u001b[0m [Client 1] evaluate, config: {}\n",
            "\u001b[36m(ClientAppActor pid=3466390)\u001b[0m [Client 2] evaluate, config: {}\n"
          ]
        },
        {
          "name": "stderr",
          "output_type": "stream",
          "text": [
            "\u001b[92mINFO \u001b[0m:      aggregate_evaluate: received 4 results and 0 failures\n",
            "\u001b[92mINFO \u001b[0m:      \n",
            "\u001b[92mINFO \u001b[0m:      [ROUND 59]\n",
            "\u001b[92mINFO \u001b[0m:      configure_fit: strategy sampled 4 clients (out of 4)\n"
          ]
        },
        {
          "name": "stdout",
          "output_type": "stream",
          "text": [
            "\u001b[36m(ClientAppActor pid=3466390)\u001b[0m [Client 1] fit, config: {}\n",
            "\u001b[36m(ClientAppActor pid=3466390)\u001b[0m Epoch 1: train loss 1.912898989783393, accuracy 0.2571111111111111\n",
            "\u001b[36m(ClientAppActor pid=3466390)\u001b[0m [Client 3] fit, config: {}\n",
            "\u001b[36m(ClientAppActor pid=3466390)\u001b[0m Epoch 1: train loss 1.9106493267483182, accuracy 0.25222222222222224\n",
            "\u001b[36m(ClientAppActor pid=3466390)\u001b[0m [Client 0] fit, config: {}\n",
            "\u001b[36m(ClientAppActor pid=3466390)\u001b[0m Epoch 1: train loss 1.919394801457723, accuracy 0.25066666666666665\n",
            "\u001b[36m(ClientAppActor pid=3466390)\u001b[0m [Client 2] fit, config: {}\n",
            "\u001b[36m(ClientAppActor pid=3466390)\u001b[0m Epoch 1: train loss 1.9189658635457356, accuracy 0.26022222222222224\n"
          ]
        },
        {
          "name": "stderr",
          "output_type": "stream",
          "text": [
            "\u001b[92mINFO \u001b[0m:      aggregate_fit: received 4 results and 0 failures\n",
            "\u001b[92mINFO \u001b[0m:      fit progress: (59, 2.2914634517669676, {'accuracy': 0.1405}, 2113.0777191799134)\n",
            "\u001b[92mINFO \u001b[0m:      configure_evaluate: strategy sampled 4 clients (out of 4)\n"
          ]
        },
        {
          "name": "stdout",
          "output_type": "stream",
          "text": [
            "\u001b[36m(ClientAppActor pid=3466390)\u001b[0m [Client 1] evaluate, config: {}\n",
            "\u001b[36m(ClientAppActor pid=3466390)\u001b[0m [Client 3] evaluate, config: {}\n",
            "\u001b[36m(ClientAppActor pid=3466390)\u001b[0m [Client 2] evaluate, config: {}\n",
            "\u001b[36m(ClientAppActor pid=3466390)\u001b[0m [Client 0] evaluate, config: {}\n"
          ]
        },
        {
          "name": "stderr",
          "output_type": "stream",
          "text": [
            "\u001b[92mINFO \u001b[0m:      aggregate_evaluate: received 4 results and 0 failures\n",
            "\u001b[92mINFO \u001b[0m:      \n",
            "\u001b[92mINFO \u001b[0m:      [ROUND 60]\n",
            "\u001b[92mINFO \u001b[0m:      configure_fit: strategy sampled 4 clients (out of 4)\n"
          ]
        },
        {
          "name": "stdout",
          "output_type": "stream",
          "text": [
            "\u001b[36m(ClientAppActor pid=3466390)\u001b[0m [Client 2] fit, config: {}\n",
            "\u001b[36m(ClientAppActor pid=3466390)\u001b[0m Epoch 1: train loss 1.9181359211603801, accuracy 0.2611111111111111\n",
            "\u001b[36m(ClientAppActor pid=3466390)\u001b[0m [Client 3] fit, config: {}\n",
            "\u001b[36m(ClientAppActor pid=3466390)\u001b[0m Epoch 1: train loss 1.9036776444117227, accuracy 0.25022222222222223\n",
            "\u001b[36m(ClientAppActor pid=3466390)\u001b[0m [Client 1] fit, config: {}\n",
            "\u001b[36m(ClientAppActor pid=3466390)\u001b[0m Epoch 1: train loss 1.9170028239356147, accuracy 0.25177777777777777\n",
            "\u001b[36m(ClientAppActor pid=3466390)\u001b[0m [Client 0] fit, config: {}\n"
          ]
        },
        {
          "name": "stderr",
          "output_type": "stream",
          "text": [
            "\u001b[92mINFO \u001b[0m:      aggregate_fit: received 4 results and 0 failures\n"
          ]
        },
        {
          "name": "stdout",
          "output_type": "stream",
          "text": [
            "\u001b[36m(ClientAppActor pid=3466390)\u001b[0m Epoch 1: train loss 1.9077977508968778, accuracy 0.258\n"
          ]
        },
        {
          "name": "stderr",
          "output_type": "stream",
          "text": [
            "\u001b[92mINFO \u001b[0m:      fit progress: (60, 2.099027239227295, {'accuracy': 0.1893}, 2148.1654079747386)\n",
            "\u001b[92mINFO \u001b[0m:      configure_evaluate: strategy sampled 4 clients (out of 4)\n"
          ]
        },
        {
          "name": "stdout",
          "output_type": "stream",
          "text": [
            "\u001b[36m(ClientAppActor pid=3466390)\u001b[0m [Client 3] evaluate, config: {}\n",
            "\u001b[36m(ClientAppActor pid=3466390)\u001b[0m [Client 0] evaluate, config: {}\n",
            "\u001b[36m(ClientAppActor pid=3466390)\u001b[0m [Client 2] evaluate, config: {}\n",
            "\u001b[36m(ClientAppActor pid=3466390)\u001b[0m [Client 1] evaluate, config: {}\n"
          ]
        },
        {
          "name": "stderr",
          "output_type": "stream",
          "text": [
            "\u001b[92mINFO \u001b[0m:      aggregate_evaluate: received 4 results and 0 failures\n",
            "\u001b[92mINFO \u001b[0m:      \n",
            "\u001b[92mINFO \u001b[0m:      [ROUND 61]\n",
            "\u001b[92mINFO \u001b[0m:      configure_fit: strategy sampled 4 clients (out of 4)\n"
          ]
        },
        {
          "name": "stdout",
          "output_type": "stream",
          "text": [
            "\u001b[36m(ClientAppActor pid=3466390)\u001b[0m [Client 2] fit, config: {}\n",
            "\u001b[36m(ClientAppActor pid=3466390)\u001b[0m Epoch 1: train loss 1.9016096419228448, accuracy 0.2608888888888889\n",
            "\u001b[36m(ClientAppActor pid=3466390)\u001b[0m [Client 0] fit, config: {}\n",
            "\u001b[36m(ClientAppActor pid=3466390)\u001b[0m Epoch 1: train loss 1.896182435883416, accuracy 0.25466666666666665\n",
            "\u001b[36m(ClientAppActor pid=3466390)\u001b[0m [Client 3] fit, config: {}\n",
            "\u001b[36m(ClientAppActor pid=3466390)\u001b[0m Epoch 1: train loss 1.9227028461032443, accuracy 0.2431111111111111\n",
            "\u001b[36m(ClientAppActor pid=3466390)\u001b[0m [Client 1] fit, config: {}\n",
            "\u001b[36m(ClientAppActor pid=3466390)\u001b[0m Epoch 1: train loss 1.9024822355906168, accuracy 0.25066666666666665\n"
          ]
        },
        {
          "name": "stderr",
          "output_type": "stream",
          "text": [
            "\u001b[92mINFO \u001b[0m:      aggregate_fit: received 4 results and 0 failures\n",
            "\u001b[92mINFO \u001b[0m:      fit progress: (61, 2.0985651515960693, {'accuracy': 0.1831}, 2183.046136696823)\n",
            "\u001b[92mINFO \u001b[0m:      configure_evaluate: strategy sampled 4 clients (out of 4)\n"
          ]
        },
        {
          "name": "stdout",
          "output_type": "stream",
          "text": [
            "\u001b[36m(ClientAppActor pid=3466390)\u001b[0m [Client 1] evaluate, config: {}\n",
            "\u001b[36m(ClientAppActor pid=3466390)\u001b[0m [Client 2] evaluate, config: {}\n",
            "\u001b[36m(ClientAppActor pid=3466390)\u001b[0m [Client 0] evaluate, config: {}\n",
            "\u001b[36m(ClientAppActor pid=3466390)\u001b[0m [Client 3] evaluate, config: {}\n"
          ]
        },
        {
          "name": "stderr",
          "output_type": "stream",
          "text": [
            "\u001b[92mINFO \u001b[0m:      aggregate_evaluate: received 4 results and 0 failures\n",
            "\u001b[92mINFO \u001b[0m:      \n",
            "\u001b[92mINFO \u001b[0m:      [ROUND 62]\n",
            "\u001b[92mINFO \u001b[0m:      configure_fit: strategy sampled 4 clients (out of 4)\n"
          ]
        },
        {
          "name": "stdout",
          "output_type": "stream",
          "text": [
            "\u001b[36m(ClientAppActor pid=3466390)\u001b[0m [Client 0] fit, config: {}\n",
            "\u001b[36m(ClientAppActor pid=3466390)\u001b[0m Epoch 1: train loss 1.8985840201907687, accuracy 0.26622222222222225\n",
            "\u001b[36m(ClientAppActor pid=3466390)\u001b[0m [Client 1] fit, config: {}\n",
            "\u001b[36m(ClientAppActor pid=3466390)\u001b[0m Epoch 1: train loss 1.8971726775699191, accuracy 0.2644444444444444\n",
            "\u001b[36m(ClientAppActor pid=3466390)\u001b[0m [Client 3] fit, config: {}\n",
            "\u001b[36m(ClientAppActor pid=3466390)\u001b[0m Epoch 1: train loss 1.9018911760118273, accuracy 0.254\n",
            "\u001b[36m(ClientAppActor pid=3466390)\u001b[0m [Client 2] fit, config: {}\n",
            "\u001b[36m(ClientAppActor pid=3466390)\u001b[0m Epoch 1: train loss 1.900497290081448, accuracy 0.2648888888888889\n"
          ]
        },
        {
          "name": "stderr",
          "output_type": "stream",
          "text": [
            "\u001b[92mINFO \u001b[0m:      aggregate_fit: received 4 results and 0 failures\n",
            "\u001b[92mINFO \u001b[0m:      fit progress: (62, 2.523001345062256, {'accuracy': 0.1394}, 2220.7679271358065)\n",
            "\u001b[92mINFO \u001b[0m:      configure_evaluate: strategy sampled 4 clients (out of 4)\n"
          ]
        },
        {
          "name": "stdout",
          "output_type": "stream",
          "text": [
            "\u001b[36m(ClientAppActor pid=3466390)\u001b[0m [Client 2] evaluate, config: {}\n",
            "\u001b[36m(ClientAppActor pid=3466390)\u001b[0m [Client 1] evaluate, config: {}\n",
            "\u001b[36m(ClientAppActor pid=3466390)\u001b[0m [Client 3] evaluate, config: {}\n",
            "\u001b[36m(ClientAppActor pid=3466390)\u001b[0m [Client 0] evaluate, config: {}\n"
          ]
        },
        {
          "name": "stderr",
          "output_type": "stream",
          "text": [
            "\u001b[92mINFO \u001b[0m:      aggregate_evaluate: received 4 results and 0 failures\n",
            "\u001b[92mINFO \u001b[0m:      \n",
            "\u001b[92mINFO \u001b[0m:      [ROUND 63]\n",
            "\u001b[92mINFO \u001b[0m:      configure_fit: strategy sampled 4 clients (out of 4)\n"
          ]
        },
        {
          "name": "stdout",
          "output_type": "stream",
          "text": [
            "\u001b[36m(ClientAppActor pid=3466390)\u001b[0m [Client 0] fit, config: {}\n",
            "\u001b[36m(ClientAppActor pid=3466390)\u001b[0m Epoch 1: train loss 1.9000237166086833, accuracy 0.24666666666666667\n",
            "\u001b[36m(ClientAppActor pid=3466390)\u001b[0m [Client 3] fit, config: {}\n",
            "\u001b[36m(ClientAppActor pid=3466390)\u001b[0m Epoch 1: train loss 1.889947111553616, accuracy 0.2551111111111111\n",
            "\u001b[36m(ClientAppActor pid=3466390)\u001b[0m [Client 2] fit, config: {}\n",
            "\u001b[36m(ClientAppActor pid=3466390)\u001b[0m Epoch 1: train loss 1.8812181623246935, accuracy 0.274\n",
            "\u001b[36m(ClientAppActor pid=3466390)\u001b[0m [Client 1] fit, config: {}\n",
            "\u001b[36m(ClientAppActor pid=3466390)\u001b[0m Epoch 1: train loss 1.8778124233881632, accuracy 0.26911111111111113\n"
          ]
        },
        {
          "name": "stderr",
          "output_type": "stream",
          "text": [
            "\u001b[92mINFO \u001b[0m:      aggregate_fit: received 4 results and 0 failures\n",
            "\u001b[92mINFO \u001b[0m:      fit progress: (63, 2.150529665184021, {'accuracy': 0.1463}, 2255.630158702843)\n",
            "\u001b[92mINFO \u001b[0m:      configure_evaluate: strategy sampled 4 clients (out of 4)\n"
          ]
        },
        {
          "name": "stdout",
          "output_type": "stream",
          "text": [
            "\u001b[36m(ClientAppActor pid=3466390)\u001b[0m [Client 1] evaluate, config: {}\n",
            "\u001b[36m(ClientAppActor pid=3466390)\u001b[0m [Client 3] evaluate, config: {}\n",
            "\u001b[36m(ClientAppActor pid=3466390)\u001b[0m [Client 2] evaluate, config: {}\n",
            "\u001b[36m(ClientAppActor pid=3466390)\u001b[0m [Client 0] evaluate, config: {}\n"
          ]
        },
        {
          "name": "stderr",
          "output_type": "stream",
          "text": [
            "\u001b[92mINFO \u001b[0m:      aggregate_evaluate: received 4 results and 0 failures\n",
            "\u001b[92mINFO \u001b[0m:      \n",
            "\u001b[92mINFO \u001b[0m:      [ROUND 64]\n",
            "\u001b[92mINFO \u001b[0m:      configure_fit: strategy sampled 4 clients (out of 4)\n"
          ]
        },
        {
          "name": "stdout",
          "output_type": "stream",
          "text": [
            "\u001b[36m(ClientAppActor pid=3466390)\u001b[0m [Client 1] fit, config: {}\n",
            "\u001b[36m(ClientAppActor pid=3466390)\u001b[0m Epoch 1: train loss 1.8746128829320272, accuracy 0.2608888888888889\n",
            "\u001b[36m(ClientAppActor pid=3466390)\u001b[0m [Client 2] fit, config: {}\n",
            "\u001b[36m(ClientAppActor pid=3466390)\u001b[0m Epoch 1: train loss 1.895526610692342, accuracy 0.2617777777777778\n",
            "\u001b[36m(ClientAppActor pid=3466390)\u001b[0m [Client 0] fit, config: {}\n",
            "\u001b[36m(ClientAppActor pid=3466390)\u001b[0m Epoch 1: train loss 1.8875429458618165, accuracy 0.26911111111111113\n",
            "\u001b[36m(ClientAppActor pid=3466390)\u001b[0m [Client 3] fit, config: {}\n",
            "\u001b[36m(ClientAppActor pid=3466390)\u001b[0m Epoch 1: train loss 1.87600401380327, accuracy 0.26355555555555554\n"
          ]
        },
        {
          "name": "stderr",
          "output_type": "stream",
          "text": [
            "\u001b[92mINFO \u001b[0m:      aggregate_fit: received 4 results and 0 failures\n",
            "\u001b[92mINFO \u001b[0m:      fit progress: (64, 2.1812841972351076, {'accuracy': 0.1407}, 2291.0009186170064)\n",
            "\u001b[92mINFO \u001b[0m:      configure_evaluate: strategy sampled 4 clients (out of 4)\n"
          ]
        },
        {
          "name": "stdout",
          "output_type": "stream",
          "text": [
            "\u001b[36m(ClientAppActor pid=3466390)\u001b[0m [Client 2] evaluate, config: {}\n",
            "\u001b[36m(ClientAppActor pid=3466390)\u001b[0m [Client 0] evaluate, config: {}\n",
            "\u001b[36m(ClientAppActor pid=3466390)\u001b[0m [Client 1] evaluate, config: {}\n",
            "\u001b[36m(ClientAppActor pid=3466390)\u001b[0m [Client 3] evaluate, config: {}\n"
          ]
        },
        {
          "name": "stderr",
          "output_type": "stream",
          "text": [
            "\u001b[92mINFO \u001b[0m:      aggregate_evaluate: received 4 results and 0 failures\n",
            "\u001b[92mINFO \u001b[0m:      \n",
            "\u001b[92mINFO \u001b[0m:      [ROUND 65]\n",
            "\u001b[92mINFO \u001b[0m:      configure_fit: strategy sampled 4 clients (out of 4)\n"
          ]
        },
        {
          "name": "stdout",
          "output_type": "stream",
          "text": [
            "\u001b[36m(ClientAppActor pid=3466390)\u001b[0m [Client 0] fit, config: {}\n",
            "\u001b[36m(ClientAppActor pid=3466390)\u001b[0m Epoch 1: train loss 1.8937517319785224, accuracy 0.26622222222222225\n",
            "\u001b[36m(ClientAppActor pid=3466390)\u001b[0m [Client 3] fit, config: {}\n",
            "\u001b[36m(ClientAppActor pid=3466390)\u001b[0m Epoch 1: train loss 1.8824890717400444, accuracy 0.24866666666666667\n",
            "\u001b[36m(ClientAppActor pid=3466390)\u001b[0m [Client 1] fit, config: {}\n",
            "\u001b[36m(ClientAppActor pid=3466390)\u001b[0m Epoch 1: train loss 1.866627992524041, accuracy 0.26644444444444443\n",
            "\u001b[36m(ClientAppActor pid=3466390)\u001b[0m [Client 2] fit, config: {}\n",
            "\u001b[36m(ClientAppActor pid=3466390)\u001b[0m Epoch 1: train loss 1.862556166966756, accuracy 0.2737777777777778\n"
          ]
        },
        {
          "name": "stderr",
          "output_type": "stream",
          "text": [
            "\u001b[92mINFO \u001b[0m:      aggregate_fit: received 4 results and 0 failures\n",
            "\u001b[92mINFO \u001b[0m:      fit progress: (65, 2.3527149864196777, {'accuracy': 0.1358}, 2326.3417935860343)\n",
            "\u001b[92mINFO \u001b[0m:      configure_evaluate: strategy sampled 4 clients (out of 4)\n"
          ]
        },
        {
          "name": "stdout",
          "output_type": "stream",
          "text": [
            "\u001b[36m(ClientAppActor pid=3466390)\u001b[0m [Client 3] evaluate, config: {}\n",
            "\u001b[36m(ClientAppActor pid=3466390)\u001b[0m [Client 1] evaluate, config: {}\n",
            "\u001b[36m(ClientAppActor pid=3466390)\u001b[0m [Client 2] evaluate, config: {}\n",
            "\u001b[36m(ClientAppActor pid=3466390)\u001b[0m [Client 0] evaluate, config: {}\n"
          ]
        },
        {
          "name": "stderr",
          "output_type": "stream",
          "text": [
            "\u001b[92mINFO \u001b[0m:      aggregate_evaluate: received 4 results and 0 failures\n",
            "\u001b[92mINFO \u001b[0m:      \n",
            "\u001b[92mINFO \u001b[0m:      [ROUND 66]\n",
            "\u001b[92mINFO \u001b[0m:      configure_fit: strategy sampled 4 clients (out of 4)\n"
          ]
        },
        {
          "name": "stdout",
          "output_type": "stream",
          "text": [
            "\u001b[36m(ClientAppActor pid=3466390)\u001b[0m [Client 3] fit, config: {}\n",
            "\u001b[36m(ClientAppActor pid=3466390)\u001b[0m Epoch 1: train loss 1.87488477007548, accuracy 0.2677777777777778\n",
            "\u001b[36m(ClientAppActor pid=3466390)\u001b[0m [Client 2] fit, config: {}\n",
            "\u001b[36m(ClientAppActor pid=3466390)\u001b[0m Epoch 1: train loss 1.8670693417655098, accuracy 0.2733333333333333\n",
            "\u001b[36m(ClientAppActor pid=3466390)\u001b[0m [Client 1] fit, config: {}\n",
            "\u001b[36m(ClientAppActor pid=3466390)\u001b[0m Epoch 1: train loss 1.868057683414883, accuracy 0.258\n",
            "\u001b[36m(ClientAppActor pid=3466390)\u001b[0m [Client 0] fit, config: {}\n"
          ]
        },
        {
          "name": "stderr",
          "output_type": "stream",
          "text": [
            "\u001b[92mINFO \u001b[0m:      aggregate_fit: received 4 results and 0 failures\n"
          ]
        },
        {
          "name": "stdout",
          "output_type": "stream",
          "text": [
            "\u001b[36m(ClientAppActor pid=3466390)\u001b[0m Epoch 1: train loss 1.8642215512593587, accuracy 0.2837777777777778\n"
          ]
        },
        {
          "name": "stderr",
          "output_type": "stream",
          "text": [
            "\u001b[92mINFO \u001b[0m:      fit progress: (66, 2.3407080764770507, {'accuracy': 0.1231}, 2360.8432658286765)\n",
            "\u001b[92mINFO \u001b[0m:      configure_evaluate: strategy sampled 4 clients (out of 4)\n"
          ]
        },
        {
          "name": "stdout",
          "output_type": "stream",
          "text": [
            "\u001b[36m(ClientAppActor pid=3466390)\u001b[0m [Client 2] evaluate, config: {}\n",
            "\u001b[36m(ClientAppActor pid=3466390)\u001b[0m [Client 1] evaluate, config: {}\n",
            "\u001b[36m(ClientAppActor pid=3466390)\u001b[0m [Client 3] evaluate, config: {}\n",
            "\u001b[36m(ClientAppActor pid=3466390)\u001b[0m [Client 0] evaluate, config: {}\n"
          ]
        },
        {
          "name": "stderr",
          "output_type": "stream",
          "text": [
            "\u001b[92mINFO \u001b[0m:      aggregate_evaluate: received 4 results and 0 failures\n",
            "\u001b[92mINFO \u001b[0m:      \n",
            "\u001b[92mINFO \u001b[0m:      [ROUND 67]\n",
            "\u001b[92mINFO \u001b[0m:      configure_fit: strategy sampled 4 clients (out of 4)\n"
          ]
        },
        {
          "name": "stdout",
          "output_type": "stream",
          "text": [
            "\u001b[36m(ClientAppActor pid=3466390)\u001b[0m [Client 0] fit, config: {}\n",
            "\u001b[36m(ClientAppActor pid=3466390)\u001b[0m Epoch 1: train loss 1.8729837483300102, accuracy 0.2682222222222222\n",
            "\u001b[36m(ClientAppActor pid=3466390)\u001b[0m [Client 2] fit, config: {}\n",
            "\u001b[36m(ClientAppActor pid=3466390)\u001b[0m Epoch 1: train loss 1.8828312367333306, accuracy 0.2751111111111111\n",
            "\u001b[36m(ClientAppActor pid=3466390)\u001b[0m [Client 3] fit, config: {}\n",
            "\u001b[36m(ClientAppActor pid=3466390)\u001b[0m Epoch 1: train loss 1.8619983128441704, accuracy 0.2611111111111111\n",
            "\u001b[36m(ClientAppActor pid=3466390)\u001b[0m [Client 1] fit, config: {}\n"
          ]
        },
        {
          "name": "stderr",
          "output_type": "stream",
          "text": [
            "\u001b[92mINFO \u001b[0m:      aggregate_fit: received 4 results and 0 failures\n"
          ]
        },
        {
          "name": "stdout",
          "output_type": "stream",
          "text": [
            "\u001b[36m(ClientAppActor pid=3466390)\u001b[0m Epoch 1: train loss 1.876714324209425, accuracy 0.2604444444444444\n"
          ]
        },
        {
          "name": "stderr",
          "output_type": "stream",
          "text": [
            "\u001b[92mINFO \u001b[0m:      fit progress: (67, 2.1181920867919923, {'accuracy': 0.1641}, 2395.6754433847964)\n",
            "\u001b[92mINFO \u001b[0m:      configure_evaluate: strategy sampled 4 clients (out of 4)\n"
          ]
        },
        {
          "name": "stdout",
          "output_type": "stream",
          "text": [
            "\u001b[36m(ClientAppActor pid=3466390)\u001b[0m [Client 3] evaluate, config: {}\n",
            "\u001b[36m(ClientAppActor pid=3466390)\u001b[0m [Client 0] evaluate, config: {}\n",
            "\u001b[36m(ClientAppActor pid=3466390)\u001b[0m [Client 2] evaluate, config: {}\n",
            "\u001b[36m(ClientAppActor pid=3466390)\u001b[0m [Client 1] evaluate, config: {}\n"
          ]
        },
        {
          "name": "stderr",
          "output_type": "stream",
          "text": [
            "\u001b[92mINFO \u001b[0m:      aggregate_evaluate: received 4 results and 0 failures\n",
            "\u001b[92mINFO \u001b[0m:      \n",
            "\u001b[92mINFO \u001b[0m:      [ROUND 68]\n",
            "\u001b[92mINFO \u001b[0m:      configure_fit: strategy sampled 4 clients (out of 4)\n"
          ]
        },
        {
          "name": "stdout",
          "output_type": "stream",
          "text": [
            "\u001b[36m(ClientAppActor pid=3466390)\u001b[0m [Client 1] fit, config: {}\n",
            "\u001b[36m(ClientAppActor pid=3466390)\u001b[0m Epoch 1: train loss 1.8508520286348131, accuracy 0.27044444444444443\n",
            "\u001b[36m(ClientAppActor pid=3466390)\u001b[0m [Client 2] fit, config: {}\n",
            "\u001b[36m(ClientAppActor pid=3466390)\u001b[0m Epoch 1: train loss 1.8713958917193942, accuracy 0.2677777777777778\n",
            "\u001b[36m(ClientAppActor pid=3466390)\u001b[0m [Client 3] fit, config: {}\n",
            "\u001b[36m(ClientAppActor pid=3466390)\u001b[0m Epoch 1: train loss 1.8694516039954292, accuracy 0.268\n",
            "\u001b[36m(ClientAppActor pid=3466390)\u001b[0m [Client 0] fit, config: {}\n",
            "\u001b[36m(ClientAppActor pid=3466390)\u001b[0m Epoch 1: train loss 1.8863612613677978, accuracy 0.26711111111111113\n"
          ]
        },
        {
          "name": "stderr",
          "output_type": "stream",
          "text": [
            "\u001b[92mINFO \u001b[0m:      aggregate_fit: received 4 results and 0 failures\n",
            "\u001b[92mINFO \u001b[0m:      fit progress: (68, 2.134733601951599, {'accuracy': 0.1738}, 2433.8513876786456)\n",
            "\u001b[92mINFO \u001b[0m:      configure_evaluate: strategy sampled 4 clients (out of 4)\n"
          ]
        },
        {
          "name": "stdout",
          "output_type": "stream",
          "text": [
            "\u001b[36m(ClientAppActor pid=3466390)\u001b[0m [Client 1] evaluate, config: {}\n",
            "\u001b[36m(ClientAppActor pid=3466390)\u001b[0m [Client 2] evaluate, config: {}\n",
            "\u001b[36m(ClientAppActor pid=3466390)\u001b[0m [Client 3] evaluate, config: {}\n",
            "\u001b[36m(ClientAppActor pid=3466390)\u001b[0m [Client 0] evaluate, config: {}\n"
          ]
        },
        {
          "name": "stderr",
          "output_type": "stream",
          "text": [
            "\u001b[92mINFO \u001b[0m:      aggregate_evaluate: received 4 results and 0 failures\n",
            "\u001b[92mINFO \u001b[0m:      \n",
            "\u001b[92mINFO \u001b[0m:      [ROUND 69]\n",
            "\u001b[92mINFO \u001b[0m:      configure_fit: strategy sampled 4 clients (out of 4)\n"
          ]
        },
        {
          "name": "stdout",
          "output_type": "stream",
          "text": [
            "\u001b[36m(ClientAppActor pid=3466390)\u001b[0m [Client 2] fit, config: {}\n",
            "\u001b[36m(ClientAppActor pid=3466390)\u001b[0m Epoch 1: train loss 1.8841646449830798, accuracy 0.26622222222222225\n",
            "\u001b[36m(ClientAppActor pid=3466390)\u001b[0m [Client 0] fit, config: {}\n",
            "\u001b[36m(ClientAppActor pid=3466390)\u001b[0m Epoch 1: train loss 1.8678944661882189, accuracy 0.27244444444444443\n",
            "\u001b[36m(ClientAppActor pid=3466390)\u001b[0m [Client 1] fit, config: {}\n",
            "\u001b[36m(ClientAppActor pid=3466390)\u001b[0m Epoch 1: train loss 1.8321581292682223, accuracy 0.2773333333333333\n",
            "\u001b[36m(ClientAppActor pid=3466390)\u001b[0m [Client 3] fit, config: {}\n",
            "\u001b[36m(ClientAppActor pid=3466390)\u001b[0m Epoch 1: train loss 1.8558041364881728, accuracy 0.26155555555555554\n"
          ]
        },
        {
          "name": "stderr",
          "output_type": "stream",
          "text": [
            "\u001b[92mINFO \u001b[0m:      aggregate_fit: received 4 results and 0 failures\n",
            "\u001b[92mINFO \u001b[0m:      fit progress: (69, 2.2535703090667725, {'accuracy': 0.1351}, 2470.029455490876)\n",
            "\u001b[92mINFO \u001b[0m:      configure_evaluate: strategy sampled 4 clients (out of 4)\n"
          ]
        },
        {
          "name": "stdout",
          "output_type": "stream",
          "text": [
            "\u001b[36m(ClientAppActor pid=3466390)\u001b[0m [Client 1] evaluate, config: {}\n",
            "\u001b[36m(ClientAppActor pid=3466390)\u001b[0m [Client 0] evaluate, config: {}\n",
            "\u001b[36m(ClientAppActor pid=3466390)\u001b[0m [Client 2] evaluate, config: {}\n",
            "\u001b[36m(ClientAppActor pid=3466390)\u001b[0m [Client 3] evaluate, config: {}\n"
          ]
        },
        {
          "name": "stderr",
          "output_type": "stream",
          "text": [
            "\u001b[92mINFO \u001b[0m:      aggregate_evaluate: received 4 results and 0 failures\n",
            "\u001b[92mINFO \u001b[0m:      \n",
            "\u001b[92mINFO \u001b[0m:      [ROUND 70]\n",
            "\u001b[92mINFO \u001b[0m:      configure_fit: strategy sampled 4 clients (out of 4)\n"
          ]
        },
        {
          "name": "stdout",
          "output_type": "stream",
          "text": [
            "\u001b[36m(ClientAppActor pid=3466390)\u001b[0m [Client 0] fit, config: {}\n",
            "\u001b[36m(ClientAppActor pid=3466390)\u001b[0m Epoch 1: train loss 1.8615234238306682, accuracy 0.272\n",
            "\u001b[36m(ClientAppActor pid=3466390)\u001b[0m [Client 2] fit, config: {}\n",
            "\u001b[36m(ClientAppActor pid=3466390)\u001b[0m Epoch 1: train loss 1.863182861963908, accuracy 0.26844444444444443\n",
            "\u001b[36m(ClientAppActor pid=3466390)\u001b[0m [Client 1] fit, config: {}\n",
            "\u001b[36m(ClientAppActor pid=3466390)\u001b[0m Epoch 1: train loss 1.85087082862854, accuracy 0.28044444444444444\n",
            "\u001b[36m(ClientAppActor pid=3466390)\u001b[0m [Client 3] fit, config: {}\n",
            "\u001b[36m(ClientAppActor pid=3466390)\u001b[0m Epoch 1: train loss 1.8525859116448296, accuracy 0.26666666666666666\n"
          ]
        },
        {
          "name": "stderr",
          "output_type": "stream",
          "text": [
            "\u001b[92mINFO \u001b[0m:      aggregate_fit: received 4 results and 0 failures\n",
            "\u001b[92mINFO \u001b[0m:      fit progress: (70, 2.200746843338013, {'accuracy': 0.1457}, 2506.2953725587577)\n",
            "\u001b[92mINFO \u001b[0m:      configure_evaluate: strategy sampled 4 clients (out of 4)\n"
          ]
        },
        {
          "name": "stdout",
          "output_type": "stream",
          "text": [
            "\u001b[36m(ClientAppActor pid=3466390)\u001b[0m [Client 2] evaluate, config: {}\n",
            "\u001b[36m(ClientAppActor pid=3466390)\u001b[0m [Client 3] evaluate, config: {}\n",
            "\u001b[36m(ClientAppActor pid=3466390)\u001b[0m [Client 1] evaluate, config: {}\n",
            "\u001b[36m(ClientAppActor pid=3466390)\u001b[0m [Client 0] evaluate, config: {}\n"
          ]
        },
        {
          "name": "stderr",
          "output_type": "stream",
          "text": [
            "\u001b[92mINFO \u001b[0m:      aggregate_evaluate: received 4 results and 0 failures\n",
            "\u001b[92mINFO \u001b[0m:      \n",
            "\u001b[92mINFO \u001b[0m:      [ROUND 71]\n",
            "\u001b[92mINFO \u001b[0m:      configure_fit: strategy sampled 4 clients (out of 4)\n"
          ]
        },
        {
          "name": "stdout",
          "output_type": "stream",
          "text": [
            "\u001b[36m(ClientAppActor pid=3466390)\u001b[0m [Client 3] fit, config: {}\n",
            "\u001b[36m(ClientAppActor pid=3466390)\u001b[0m Epoch 1: train loss 1.8617222357855903, accuracy 0.26955555555555555\n",
            "\u001b[36m(ClientAppActor pid=3466390)\u001b[0m [Client 2] fit, config: {}\n",
            "\u001b[36m(ClientAppActor pid=3466390)\u001b[0m Epoch 1: train loss 1.8635229392581516, accuracy 0.2851111111111111\n",
            "\u001b[36m(ClientAppActor pid=3466390)\u001b[0m [Client 0] fit, config: {}\n",
            "\u001b[36m(ClientAppActor pid=3466390)\u001b[0m Epoch 1: train loss 1.8514004145728218, accuracy 0.27066666666666667\n",
            "\u001b[36m(ClientAppActor pid=3466390)\u001b[0m [Client 1] fit, config: {}\n",
            "\u001b[36m(ClientAppActor pid=3466390)\u001b[0m Epoch 1: train loss 1.8301205043792725, accuracy 0.2791111111111111\n"
          ]
        },
        {
          "name": "stderr",
          "output_type": "stream",
          "text": [
            "\u001b[92mINFO \u001b[0m:      aggregate_fit: received 4 results and 0 failures\n",
            "\u001b[92mINFO \u001b[0m:      fit progress: (71, 2.0497632713317873, {'accuracy': 0.2189}, 2541.2659577457234)\n",
            "\u001b[92mINFO \u001b[0m:      configure_evaluate: strategy sampled 4 clients (out of 4)\n"
          ]
        },
        {
          "name": "stdout",
          "output_type": "stream",
          "text": [
            "\u001b[36m(ClientAppActor pid=3466390)\u001b[0m [Client 1] evaluate, config: {}\n",
            "\u001b[36m(ClientAppActor pid=3466390)\u001b[0m [Client 2] evaluate, config: {}\n",
            "\u001b[36m(ClientAppActor pid=3466390)\u001b[0m [Client 0] evaluate, config: {}\n",
            "\u001b[36m(ClientAppActor pid=3466390)\u001b[0m [Client 3] evaluate, config: {}\n"
          ]
        },
        {
          "name": "stderr",
          "output_type": "stream",
          "text": [
            "\u001b[92mINFO \u001b[0m:      aggregate_evaluate: received 4 results and 0 failures\n",
            "\u001b[92mINFO \u001b[0m:      \n",
            "\u001b[92mINFO \u001b[0m:      [ROUND 72]\n",
            "\u001b[92mINFO \u001b[0m:      configure_fit: strategy sampled 4 clients (out of 4)\n"
          ]
        },
        {
          "name": "stdout",
          "output_type": "stream",
          "text": [
            "\u001b[36m(ClientAppActor pid=3466390)\u001b[0m [Client 1] fit, config: {}\n",
            "\u001b[36m(ClientAppActor pid=3466390)\u001b[0m Epoch 1: train loss 1.8547597198486327, accuracy 0.26644444444444443\n",
            "\u001b[36m(ClientAppActor pid=3466390)\u001b[0m [Client 2] fit, config: {}\n",
            "\u001b[36m(ClientAppActor pid=3466390)\u001b[0m Epoch 1: train loss 1.8638548032972548, accuracy 0.272\n",
            "\u001b[36m(ClientAppActor pid=3466390)\u001b[0m [Client 3] fit, config: {}\n",
            "\u001b[36m(ClientAppActor pid=3466390)\u001b[0m Epoch 1: train loss 1.878607794019911, accuracy 0.266\n",
            "\u001b[36m(ClientAppActor pid=3466390)\u001b[0m [Client 0] fit, config: {}\n"
          ]
        },
        {
          "name": "stderr",
          "output_type": "stream",
          "text": [
            "\u001b[92mINFO \u001b[0m:      aggregate_fit: received 4 results and 0 failures\n"
          ]
        },
        {
          "name": "stdout",
          "output_type": "stream",
          "text": [
            "\u001b[36m(ClientAppActor pid=3466390)\u001b[0m Epoch 1: train loss 1.8511227401097616, accuracy 0.27111111111111114\n"
          ]
        },
        {
          "name": "stderr",
          "output_type": "stream",
          "text": [
            "\u001b[92mINFO \u001b[0m:      fit progress: (72, 2.307602136230469, {'accuracy': 0.1421}, 2576.5454806829803)\n",
            "\u001b[92mINFO \u001b[0m:      configure_evaluate: strategy sampled 4 clients (out of 4)\n"
          ]
        },
        {
          "name": "stdout",
          "output_type": "stream",
          "text": [
            "\u001b[36m(ClientAppActor pid=3466390)\u001b[0m [Client 0] evaluate, config: {}\n",
            "\u001b[36m(ClientAppActor pid=3466390)\u001b[0m [Client 2] evaluate, config: {}\n",
            "\u001b[36m(ClientAppActor pid=3466390)\u001b[0m [Client 1] evaluate, config: {}\n",
            "\u001b[36m(ClientAppActor pid=3466390)\u001b[0m [Client 3] evaluate, config: {}\n"
          ]
        },
        {
          "name": "stderr",
          "output_type": "stream",
          "text": [
            "\u001b[92mINFO \u001b[0m:      aggregate_evaluate: received 4 results and 0 failures\n",
            "\u001b[92mINFO \u001b[0m:      \n",
            "\u001b[92mINFO \u001b[0m:      [ROUND 73]\n",
            "\u001b[92mINFO \u001b[0m:      configure_fit: strategy sampled 4 clients (out of 4)\n"
          ]
        },
        {
          "name": "stdout",
          "output_type": "stream",
          "text": [
            "\u001b[36m(ClientAppActor pid=3466390)\u001b[0m [Client 0] fit, config: {}\n",
            "\u001b[36m(ClientAppActor pid=3466390)\u001b[0m Epoch 1: train loss 1.8349603322347006, accuracy 0.2733333333333333\n",
            "\u001b[36m(ClientAppActor pid=3466390)\u001b[0m [Client 3] fit, config: {}\n",
            "\u001b[36m(ClientAppActor pid=3466390)\u001b[0m Epoch 1: train loss 1.8545907380845812, accuracy 0.2751111111111111\n",
            "\u001b[36m(ClientAppActor pid=3466390)\u001b[0m [Client 1] fit, config: {}\n",
            "\u001b[36m(ClientAppActor pid=3466390)\u001b[0m Epoch 1: train loss 1.8442106204562716, accuracy 0.2697777777777778\n",
            "\u001b[36m(ClientAppActor pid=3466390)\u001b[0m [Client 2] fit, config: {}\n"
          ]
        },
        {
          "name": "stderr",
          "output_type": "stream",
          "text": [
            "\u001b[92mINFO \u001b[0m:      aggregate_fit: received 4 results and 0 failures\n"
          ]
        },
        {
          "name": "stdout",
          "output_type": "stream",
          "text": [
            "\u001b[36m(ClientAppActor pid=3466390)\u001b[0m Epoch 1: train loss 1.861659363746643, accuracy 0.27555555555555555\n"
          ]
        },
        {
          "name": "stderr",
          "output_type": "stream",
          "text": [
            "\u001b[92mINFO \u001b[0m:      fit progress: (73, 2.055858724784851, {'accuracy': 0.2027}, 2612.2319848947227)\n",
            "\u001b[92mINFO \u001b[0m:      configure_evaluate: strategy sampled 4 clients (out of 4)\n"
          ]
        },
        {
          "name": "stdout",
          "output_type": "stream",
          "text": [
            "\u001b[36m(ClientAppActor pid=3466390)\u001b[0m [Client 0] evaluate, config: {}\n",
            "\u001b[36m(ClientAppActor pid=3466390)\u001b[0m [Client 2] evaluate, config: {}\n",
            "\u001b[36m(ClientAppActor pid=3466390)\u001b[0m [Client 1] evaluate, config: {}\n",
            "\u001b[36m(ClientAppActor pid=3466390)\u001b[0m [Client 3] evaluate, config: {}\n"
          ]
        },
        {
          "name": "stderr",
          "output_type": "stream",
          "text": [
            "\u001b[92mINFO \u001b[0m:      aggregate_evaluate: received 4 results and 0 failures\n",
            "\u001b[92mINFO \u001b[0m:      \n",
            "\u001b[92mINFO \u001b[0m:      [ROUND 74]\n",
            "\u001b[92mINFO \u001b[0m:      configure_fit: strategy sampled 4 clients (out of 4)\n"
          ]
        },
        {
          "name": "stdout",
          "output_type": "stream",
          "text": [
            "\u001b[36m(ClientAppActor pid=3466390)\u001b[0m [Client 0] fit, config: {}\n",
            "\u001b[36m(ClientAppActor pid=3466390)\u001b[0m Epoch 1: train loss 1.8657678571277194, accuracy 0.26911111111111113\n",
            "\u001b[36m(ClientAppActor pid=3466390)\u001b[0m [Client 3] fit, config: {}\n",
            "\u001b[36m(ClientAppActor pid=3466390)\u001b[0m Epoch 1: train loss 1.8593947864108615, accuracy 0.26266666666666666\n",
            "\u001b[36m(ClientAppActor pid=3466390)\u001b[0m [Client 1] fit, config: {}\n",
            "\u001b[36m(ClientAppActor pid=3466390)\u001b[0m Epoch 1: train loss 1.8161595347722372, accuracy 0.2817777777777778\n",
            "\u001b[36m(ClientAppActor pid=3466390)\u001b[0m [Client 2] fit, config: {}\n",
            "\u001b[36m(ClientAppActor pid=3466390)\u001b[0m Epoch 1: train loss 1.848688889503479, accuracy 0.2788888888888889\n"
          ]
        },
        {
          "name": "stderr",
          "output_type": "stream",
          "text": [
            "\u001b[92mINFO \u001b[0m:      aggregate_fit: received 4 results and 0 failures\n",
            "\u001b[92mINFO \u001b[0m:      fit progress: (74, 1.9362589590072632, {'accuracy': 0.2281}, 2647.811396022793)\n",
            "\u001b[92mINFO \u001b[0m:      configure_evaluate: strategy sampled 4 clients (out of 4)\n"
          ]
        },
        {
          "name": "stdout",
          "output_type": "stream",
          "text": [
            "\u001b[36m(ClientAppActor pid=3466390)\u001b[0m [Client 0] evaluate, config: {}\n",
            "\u001b[36m(ClientAppActor pid=3466390)\u001b[0m [Client 1] evaluate, config: {}\n",
            "\u001b[36m(ClientAppActor pid=3466390)\u001b[0m [Client 2] evaluate, config: {}\n",
            "\u001b[36m(ClientAppActor pid=3466390)\u001b[0m [Client 3] evaluate, config: {}\n"
          ]
        },
        {
          "name": "stderr",
          "output_type": "stream",
          "text": [
            "\u001b[92mINFO \u001b[0m:      aggregate_evaluate: received 4 results and 0 failures\n",
            "\u001b[92mINFO \u001b[0m:      \n",
            "\u001b[92mINFO \u001b[0m:      [ROUND 75]\n",
            "\u001b[92mINFO \u001b[0m:      configure_fit: strategy sampled 4 clients (out of 4)\n"
          ]
        },
        {
          "name": "stdout",
          "output_type": "stream",
          "text": [
            "\u001b[36m(ClientAppActor pid=3466390)\u001b[0m [Client 2] fit, config: {}\n",
            "\u001b[36m(ClientAppActor pid=3466390)\u001b[0m Epoch 1: train loss 1.8479102107154, accuracy 0.2886666666666667\n",
            "\u001b[36m(ClientAppActor pid=3466390)\u001b[0m [Client 0] fit, config: {}\n",
            "\u001b[36m(ClientAppActor pid=3466390)\u001b[0m Epoch 1: train loss 1.8471295631196765, accuracy 0.2786666666666667\n",
            "\u001b[36m(ClientAppActor pid=3466390)\u001b[0m [Client 1] fit, config: {}\n",
            "\u001b[36m(ClientAppActor pid=3466390)\u001b[0m Epoch 1: train loss 1.8194209823608398, accuracy 0.28\n",
            "\u001b[36m(ClientAppActor pid=3466390)\u001b[0m [Client 3] fit, config: {}\n"
          ]
        },
        {
          "name": "stderr",
          "output_type": "stream",
          "text": [
            "\u001b[92mINFO \u001b[0m:      aggregate_fit: received 4 results and 0 failures\n"
          ]
        },
        {
          "name": "stdout",
          "output_type": "stream",
          "text": [
            "\u001b[36m(ClientAppActor pid=3466390)\u001b[0m Epoch 1: train loss 1.8508496507008871, accuracy 0.2797777777777778\n"
          ]
        },
        {
          "name": "stderr",
          "output_type": "stream",
          "text": [
            "\u001b[92mINFO \u001b[0m:      fit progress: (75, 2.0349653936386107, {'accuracy': 0.2168}, 2683.507663041819)\n",
            "\u001b[92mINFO \u001b[0m:      configure_evaluate: strategy sampled 4 clients (out of 4)\n"
          ]
        },
        {
          "name": "stdout",
          "output_type": "stream",
          "text": [
            "\u001b[36m(ClientAppActor pid=3466390)\u001b[0m [Client 3] evaluate, config: {}\n",
            "\u001b[36m(ClientAppActor pid=3466390)\u001b[0m [Client 0] evaluate, config: {}\n",
            "\u001b[36m(ClientAppActor pid=3466390)\u001b[0m [Client 2] evaluate, config: {}\n",
            "\u001b[36m(ClientAppActor pid=3466390)\u001b[0m [Client 1] evaluate, config: {}\n"
          ]
        },
        {
          "name": "stderr",
          "output_type": "stream",
          "text": [
            "\u001b[92mINFO \u001b[0m:      aggregate_evaluate: received 4 results and 0 failures\n",
            "\u001b[92mINFO \u001b[0m:      \n",
            "\u001b[92mINFO \u001b[0m:      [ROUND 76]\n",
            "\u001b[92mINFO \u001b[0m:      configure_fit: strategy sampled 4 clients (out of 4)\n"
          ]
        },
        {
          "name": "stdout",
          "output_type": "stream",
          "text": [
            "\u001b[36m(ClientAppActor pid=3466390)\u001b[0m [Client 3] fit, config: {}\n",
            "\u001b[36m(ClientAppActor pid=3466390)\u001b[0m Epoch 1: train loss 1.8664853387408786, accuracy 0.25555555555555554\n",
            "\u001b[36m(ClientAppActor pid=3466390)\u001b[0m [Client 2] fit, config: {}\n",
            "\u001b[36m(ClientAppActor pid=3466390)\u001b[0m Epoch 1: train loss 1.845031236436632, accuracy 0.27355555555555555\n",
            "\u001b[36m(ClientAppActor pid=3466390)\u001b[0m [Client 0] fit, config: {}\n",
            "\u001b[36m(ClientAppActor pid=3466390)\u001b[0m Epoch 1: train loss 1.8483330114152696, accuracy 0.2837777777777778\n",
            "\u001b[36m(ClientAppActor pid=3466390)\u001b[0m [Client 1] fit, config: {}\n",
            "\u001b[36m(ClientAppActor pid=3466390)\u001b[0m Epoch 1: train loss 1.8397846494250827, accuracy 0.27044444444444443\n"
          ]
        },
        {
          "name": "stderr",
          "output_type": "stream",
          "text": [
            "\u001b[92mINFO \u001b[0m:      aggregate_fit: received 4 results and 0 failures\n",
            "\u001b[92mINFO \u001b[0m:      fit progress: (76, 2.0961782329559324, {'accuracy': 0.1796}, 2718.0271900040098)\n",
            "\u001b[92mINFO \u001b[0m:      configure_evaluate: strategy sampled 4 clients (out of 4)\n"
          ]
        },
        {
          "name": "stdout",
          "output_type": "stream",
          "text": [
            "\u001b[36m(ClientAppActor pid=3466390)\u001b[0m [Client 1] evaluate, config: {}\n",
            "\u001b[36m(ClientAppActor pid=3466390)\u001b[0m [Client 2] evaluate, config: {}\n",
            "\u001b[36m(ClientAppActor pid=3466390)\u001b[0m [Client 0] evaluate, config: {}\n",
            "\u001b[36m(ClientAppActor pid=3466390)\u001b[0m [Client 3] evaluate, config: {}\n"
          ]
        },
        {
          "name": "stderr",
          "output_type": "stream",
          "text": [
            "\u001b[92mINFO \u001b[0m:      aggregate_evaluate: received 4 results and 0 failures\n",
            "\u001b[92mINFO \u001b[0m:      \n",
            "\u001b[92mINFO \u001b[0m:      [ROUND 77]\n",
            "\u001b[92mINFO \u001b[0m:      configure_fit: strategy sampled 4 clients (out of 4)\n"
          ]
        },
        {
          "name": "stdout",
          "output_type": "stream",
          "text": [
            "\u001b[36m(ClientAppActor pid=3466390)\u001b[0m [Client 2] fit, config: {}\n",
            "\u001b[36m(ClientAppActor pid=3466390)\u001b[0m Epoch 1: train loss 1.8304539965523614, accuracy 0.2806666666666667\n",
            "\u001b[36m(ClientAppActor pid=3466390)\u001b[0m [Client 1] fit, config: {}\n",
            "\u001b[36m(ClientAppActor pid=3466390)\u001b[0m Epoch 1: train loss 1.8300832297007243, accuracy 0.2777777777777778\n",
            "\u001b[36m(ClientAppActor pid=3466390)\u001b[0m [Client 0] fit, config: {}\n",
            "\u001b[36m(ClientAppActor pid=3466390)\u001b[0m Epoch 1: train loss 1.832602552731832, accuracy 0.2777777777777778\n",
            "\u001b[36m(ClientAppActor pid=3466390)\u001b[0m [Client 3] fit, config: {}\n",
            "\u001b[36m(ClientAppActor pid=3466390)\u001b[0m Epoch 1: train loss 1.836155486424764, accuracy 0.27066666666666667\n"
          ]
        },
        {
          "name": "stderr",
          "output_type": "stream",
          "text": [
            "\u001b[92mINFO \u001b[0m:      aggregate_fit: received 4 results and 0 failures\n",
            "\u001b[92mINFO \u001b[0m:      fit progress: (77, 2.013059666824341, {'accuracy': 0.2128}, 2753.0332368067466)\n",
            "\u001b[92mINFO \u001b[0m:      configure_evaluate: strategy sampled 4 clients (out of 4)\n"
          ]
        },
        {
          "name": "stdout",
          "output_type": "stream",
          "text": [
            "\u001b[36m(ClientAppActor pid=3466390)\u001b[0m [Client 1] evaluate, config: {}\n",
            "\u001b[36m(ClientAppActor pid=3466390)\u001b[0m [Client 0] evaluate, config: {}\n",
            "\u001b[36m(ClientAppActor pid=3466390)\u001b[0m [Client 3] evaluate, config: {}\n",
            "\u001b[36m(ClientAppActor pid=3466390)\u001b[0m [Client 2] evaluate, config: {}\n"
          ]
        },
        {
          "name": "stderr",
          "output_type": "stream",
          "text": [
            "\u001b[92mINFO \u001b[0m:      aggregate_evaluate: received 4 results and 0 failures\n",
            "\u001b[92mINFO \u001b[0m:      \n",
            "\u001b[92mINFO \u001b[0m:      [ROUND 78]\n",
            "\u001b[92mINFO \u001b[0m:      configure_fit: strategy sampled 4 clients (out of 4)\n"
          ]
        },
        {
          "name": "stdout",
          "output_type": "stream",
          "text": [
            "\u001b[36m(ClientAppActor pid=3466390)\u001b[0m [Client 0] fit, config: {}\n",
            "\u001b[36m(ClientAppActor pid=3466390)\u001b[0m Epoch 1: train loss 1.8384667729271782, accuracy 0.28244444444444444\n",
            "\u001b[36m(ClientAppActor pid=3466390)\u001b[0m [Client 1] fit, config: {}\n",
            "\u001b[36m(ClientAppActor pid=3466390)\u001b[0m Epoch 1: train loss 1.8234817689259848, accuracy 0.27844444444444444\n",
            "\u001b[36m(ClientAppActor pid=3466390)\u001b[0m [Client 2] fit, config: {}\n",
            "\u001b[36m(ClientAppActor pid=3466390)\u001b[0m Epoch 1: train loss 1.835951334423489, accuracy 0.27444444444444444\n",
            "\u001b[36m(ClientAppActor pid=3466390)\u001b[0m [Client 3] fit, config: {}\n"
          ]
        },
        {
          "name": "stderr",
          "output_type": "stream",
          "text": [
            "\u001b[92mINFO \u001b[0m:      aggregate_fit: received 4 results and 0 failures\n"
          ]
        },
        {
          "name": "stdout",
          "output_type": "stream",
          "text": [
            "\u001b[36m(ClientAppActor pid=3466390)\u001b[0m Epoch 1: train loss 1.8500051339467367, accuracy 0.2648888888888889\n"
          ]
        },
        {
          "name": "stderr",
          "output_type": "stream",
          "text": [
            "\u001b[92mINFO \u001b[0m:      fit progress: (78, 1.9229637657165528, {'accuracy': 0.2567}, 2788.5082764518447)\n",
            "\u001b[92mINFO \u001b[0m:      configure_evaluate: strategy sampled 4 clients (out of 4)\n"
          ]
        },
        {
          "name": "stdout",
          "output_type": "stream",
          "text": [
            "\u001b[36m(ClientAppActor pid=3466390)\u001b[0m [Client 0] evaluate, config: {}\n",
            "\u001b[36m(ClientAppActor pid=3466390)\u001b[0m [Client 2] evaluate, config: {}\n",
            "\u001b[36m(ClientAppActor pid=3466390)\u001b[0m [Client 3] evaluate, config: {}\n",
            "\u001b[36m(ClientAppActor pid=3466390)\u001b[0m [Client 1] evaluate, config: {}\n"
          ]
        },
        {
          "name": "stderr",
          "output_type": "stream",
          "text": [
            "\u001b[92mINFO \u001b[0m:      aggregate_evaluate: received 4 results and 0 failures\n",
            "\u001b[92mINFO \u001b[0m:      \n",
            "\u001b[92mINFO \u001b[0m:      [ROUND 79]\n",
            "\u001b[92mINFO \u001b[0m:      configure_fit: strategy sampled 4 clients (out of 4)\n"
          ]
        },
        {
          "name": "stdout",
          "output_type": "stream",
          "text": [
            "\u001b[36m(ClientAppActor pid=3466390)\u001b[0m [Client 1] fit, config: {}\n",
            "\u001b[36m(ClientAppActor pid=3466390)\u001b[0m Epoch 1: train loss 1.8321745431688097, accuracy 0.2793333333333333\n",
            "\u001b[36m(ClientAppActor pid=3466390)\u001b[0m [Client 3] fit, config: {}\n",
            "\u001b[36m(ClientAppActor pid=3466390)\u001b[0m Epoch 1: train loss 1.8481985660129123, accuracy 0.2717777777777778\n",
            "\u001b[36m(ClientAppActor pid=3466390)\u001b[0m [Client 2] fit, config: {}\n",
            "\u001b[36m(ClientAppActor pid=3466390)\u001b[0m Epoch 1: train loss 1.8366503881878322, accuracy 0.2831111111111111\n",
            "\u001b[36m(ClientAppActor pid=3466390)\u001b[0m [Client 0] fit, config: {}\n"
          ]
        },
        {
          "name": "stderr",
          "output_type": "stream",
          "text": [
            "\u001b[92mINFO \u001b[0m:      aggregate_fit: received 4 results and 0 failures\n"
          ]
        },
        {
          "name": "stdout",
          "output_type": "stream",
          "text": [
            "\u001b[36m(ClientAppActor pid=3466390)\u001b[0m Epoch 1: train loss 1.8294935810301038, accuracy 0.2917777777777778\n"
          ]
        },
        {
          "name": "stderr",
          "output_type": "stream",
          "text": [
            "\u001b[92mINFO \u001b[0m:      fit progress: (79, 2.0414510683059692, {'accuracy': 0.1834}, 2824.019641556777)\n",
            "\u001b[92mINFO \u001b[0m:      configure_evaluate: strategy sampled 4 clients (out of 4)\n"
          ]
        },
        {
          "name": "stdout",
          "output_type": "stream",
          "text": [
            "\u001b[36m(ClientAppActor pid=3466390)\u001b[0m [Client 2] evaluate, config: {}\n",
            "\u001b[36m(ClientAppActor pid=3466390)\u001b[0m [Client 1] evaluate, config: {}\n",
            "\u001b[36m(ClientAppActor pid=3466390)\u001b[0m [Client 0] evaluate, config: {}\n",
            "\u001b[36m(ClientAppActor pid=3466390)\u001b[0m [Client 3] evaluate, config: {}\n"
          ]
        },
        {
          "name": "stderr",
          "output_type": "stream",
          "text": [
            "\u001b[92mINFO \u001b[0m:      aggregate_evaluate: received 4 results and 0 failures\n",
            "\u001b[92mINFO \u001b[0m:      \n",
            "\u001b[92mINFO \u001b[0m:      [ROUND 80]\n",
            "\u001b[92mINFO \u001b[0m:      configure_fit: strategy sampled 4 clients (out of 4)\n"
          ]
        },
        {
          "name": "stdout",
          "output_type": "stream",
          "text": [
            "\u001b[36m(ClientAppActor pid=3466390)\u001b[0m [Client 0] fit, config: {}\n",
            "\u001b[36m(ClientAppActor pid=3466390)\u001b[0m Epoch 1: train loss 1.8330933318667941, accuracy 0.2833333333333333\n",
            "\u001b[36m(ClientAppActor pid=3466390)\u001b[0m [Client 3] fit, config: {}\n",
            "\u001b[36m(ClientAppActor pid=3466390)\u001b[0m Epoch 1: train loss 1.8320798839992947, accuracy 0.2728888888888889\n",
            "\u001b[36m(ClientAppActor pid=3466390)\u001b[0m [Client 1] fit, config: {}\n",
            "\u001b[36m(ClientAppActor pid=3466390)\u001b[0m Epoch 1: train loss 1.8210781649483574, accuracy 0.2857777777777778\n",
            "\u001b[36m(ClientAppActor pid=3466390)\u001b[0m [Client 2] fit, config: {}\n",
            "\u001b[36m(ClientAppActor pid=3466390)\u001b[0m Epoch 1: train loss 1.830640835126241, accuracy 0.2762222222222222\n"
          ]
        },
        {
          "name": "stderr",
          "output_type": "stream",
          "text": [
            "\u001b[92mINFO \u001b[0m:      aggregate_fit: received 4 results and 0 failures\n",
            "\u001b[92mINFO \u001b[0m:      fit progress: (80, 1.9476935462951661, {'accuracy': 0.2378}, 2860.117142168805)\n",
            "\u001b[92mINFO \u001b[0m:      configure_evaluate: strategy sampled 4 clients (out of 4)\n"
          ]
        },
        {
          "name": "stdout",
          "output_type": "stream",
          "text": [
            "\u001b[36m(ClientAppActor pid=3466390)\u001b[0m [Client 0] evaluate, config: {}\n",
            "\u001b[36m(ClientAppActor pid=3466390)\u001b[0m [Client 2] evaluate, config: {}\n",
            "\u001b[36m(ClientAppActor pid=3466390)\u001b[0m [Client 1] evaluate, config: {}\n",
            "\u001b[36m(ClientAppActor pid=3466390)\u001b[0m [Client 3] evaluate, config: {}\n"
          ]
        },
        {
          "name": "stderr",
          "output_type": "stream",
          "text": [
            "\u001b[92mINFO \u001b[0m:      aggregate_evaluate: received 4 results and 0 failures\n",
            "\u001b[92mINFO \u001b[0m:      \n",
            "\u001b[92mINFO \u001b[0m:      [ROUND 81]\n",
            "\u001b[92mINFO \u001b[0m:      configure_fit: strategy sampled 4 clients (out of 4)\n"
          ]
        },
        {
          "name": "stdout",
          "output_type": "stream",
          "text": [
            "\u001b[36m(ClientAppActor pid=3466390)\u001b[0m [Client 1] fit, config: {}\n",
            "\u001b[36m(ClientAppActor pid=3466390)\u001b[0m Epoch 1: train loss 1.8277350761625502, accuracy 0.27666666666666667\n",
            "\u001b[36m(ClientAppActor pid=3466390)\u001b[0m [Client 0] fit, config: {}\n",
            "\u001b[36m(ClientAppActor pid=3466390)\u001b[0m Epoch 1: train loss 1.8384284746381971, accuracy 0.28355555555555556\n",
            "\u001b[36m(ClientAppActor pid=3466390)\u001b[0m [Client 2] fit, config: {}\n",
            "\u001b[36m(ClientAppActor pid=3466390)\u001b[0m Epoch 1: train loss 1.8158273136350844, accuracy 0.284\n",
            "\u001b[36m(ClientAppActor pid=3466390)\u001b[0m [Client 3] fit, config: {}\n",
            "\u001b[36m(ClientAppActor pid=3466390)\u001b[0m Epoch 1: train loss 1.8507021961212158, accuracy 0.27266666666666667\n"
          ]
        },
        {
          "name": "stderr",
          "output_type": "stream",
          "text": [
            "\u001b[92mINFO \u001b[0m:      aggregate_fit: received 4 results and 0 failures\n",
            "\u001b[92mINFO \u001b[0m:      fit progress: (81, 1.9311735857009888, {'accuracy': 0.2349}, 2894.994845241774)\n",
            "\u001b[92mINFO \u001b[0m:      configure_evaluate: strategy sampled 4 clients (out of 4)\n"
          ]
        },
        {
          "name": "stdout",
          "output_type": "stream",
          "text": [
            "\u001b[36m(ClientAppActor pid=3466390)\u001b[0m [Client 0] evaluate, config: {}\n",
            "\u001b[36m(ClientAppActor pid=3466390)\u001b[0m [Client 2] evaluate, config: {}\n",
            "\u001b[36m(ClientAppActor pid=3466390)\u001b[0m [Client 1] evaluate, config: {}\n",
            "\u001b[36m(ClientAppActor pid=3466390)\u001b[0m [Client 3] evaluate, config: {}\n"
          ]
        },
        {
          "name": "stderr",
          "output_type": "stream",
          "text": [
            "\u001b[92mINFO \u001b[0m:      aggregate_evaluate: received 4 results and 0 failures\n",
            "\u001b[92mINFO \u001b[0m:      \n",
            "\u001b[92mINFO \u001b[0m:      [ROUND 82]\n",
            "\u001b[92mINFO \u001b[0m:      configure_fit: strategy sampled 4 clients (out of 4)\n"
          ]
        },
        {
          "name": "stdout",
          "output_type": "stream",
          "text": [
            "\u001b[36m(ClientAppActor pid=3466390)\u001b[0m [Client 0] fit, config: {}\n",
            "\u001b[36m(ClientAppActor pid=3466390)\u001b[0m Epoch 1: train loss 1.82575636461046, accuracy 0.28955555555555557\n",
            "\u001b[36m(ClientAppActor pid=3466390)\u001b[0m [Client 3] fit, config: {}\n",
            "\u001b[36m(ClientAppActor pid=3466390)\u001b[0m Epoch 1: train loss 1.822667846891615, accuracy 0.2786666666666667\n",
            "\u001b[36m(ClientAppActor pid=3466390)\u001b[0m [Client 2] fit, config: {}\n",
            "\u001b[36m(ClientAppActor pid=3466390)\u001b[0m Epoch 1: train loss 1.8292550988727145, accuracy 0.286\n",
            "\u001b[36m(ClientAppActor pid=3466390)\u001b[0m [Client 1] fit, config: {}\n",
            "\u001b[36m(ClientAppActor pid=3466390)\u001b[0m Epoch 1: train loss 1.8139699452718099, accuracy 0.2837777777777778\n"
          ]
        },
        {
          "name": "stderr",
          "output_type": "stream",
          "text": [
            "\u001b[92mINFO \u001b[0m:      aggregate_fit: received 4 results and 0 failures\n",
            "\u001b[92mINFO \u001b[0m:      fit progress: (82, 1.8946016040802003, {'accuracy': 0.2441}, 2929.745271086693)\n",
            "\u001b[92mINFO \u001b[0m:      configure_evaluate: strategy sampled 4 clients (out of 4)\n"
          ]
        },
        {
          "name": "stdout",
          "output_type": "stream",
          "text": [
            "\u001b[36m(ClientAppActor pid=3466390)\u001b[0m [Client 0] evaluate, config: {}\n",
            "\u001b[36m(ClientAppActor pid=3466390)\u001b[0m [Client 3] evaluate, config: {}\n",
            "\u001b[36m(ClientAppActor pid=3466390)\u001b[0m [Client 2] evaluate, config: {}\n",
            "\u001b[36m(ClientAppActor pid=3466390)\u001b[0m [Client 1] evaluate, config: {}\n"
          ]
        },
        {
          "name": "stderr",
          "output_type": "stream",
          "text": [
            "\u001b[92mINFO \u001b[0m:      aggregate_evaluate: received 4 results and 0 failures\n",
            "\u001b[92mINFO \u001b[0m:      \n",
            "\u001b[92mINFO \u001b[0m:      [ROUND 83]\n",
            "\u001b[92mINFO \u001b[0m:      configure_fit: strategy sampled 4 clients (out of 4)\n"
          ]
        },
        {
          "name": "stdout",
          "output_type": "stream",
          "text": [
            "\u001b[36m(ClientAppActor pid=3466390)\u001b[0m [Client 1] fit, config: {}\n",
            "\u001b[36m(ClientAppActor pid=3466390)\u001b[0m Epoch 1: train loss 1.8047108648088244, accuracy 0.2853333333333333\n",
            "\u001b[36m(ClientAppActor pid=3466390)\u001b[0m [Client 3] fit, config: {}\n",
            "\u001b[36m(ClientAppActor pid=3466390)\u001b[0m Epoch 1: train loss 1.8190233124627007, accuracy 0.2762222222222222\n",
            "\u001b[36m(ClientAppActor pid=3466390)\u001b[0m [Client 0] fit, config: {}\n",
            "\u001b[36m(ClientAppActor pid=3466390)\u001b[0m Epoch 1: train loss 1.8184615960650974, accuracy 0.2931111111111111\n",
            "\u001b[36m(ClientAppActor pid=3466390)\u001b[0m [Client 2] fit, config: {}\n",
            "\u001b[36m(ClientAppActor pid=3466390)\u001b[0m Epoch 1: train loss 1.8198557631174723, accuracy 0.2891111111111111\n"
          ]
        },
        {
          "name": "stderr",
          "output_type": "stream",
          "text": [
            "\u001b[92mINFO \u001b[0m:      aggregate_fit: received 4 results and 0 failures\n",
            "\u001b[92mINFO \u001b[0m:      fit progress: (83, 1.9070190269470215, {'accuracy': 0.2373}, 2966.7432021657005)\n",
            "\u001b[92mINFO \u001b[0m:      configure_evaluate: strategy sampled 4 clients (out of 4)\n"
          ]
        },
        {
          "name": "stdout",
          "output_type": "stream",
          "text": [
            "\u001b[36m(ClientAppActor pid=3466390)\u001b[0m [Client 3] evaluate, config: {}\n",
            "\u001b[36m(ClientAppActor pid=3466390)\u001b[0m [Client 1] evaluate, config: {}\n",
            "\u001b[36m(ClientAppActor pid=3466390)\u001b[0m [Client 0] evaluate, config: {}\n",
            "\u001b[36m(ClientAppActor pid=3466390)\u001b[0m [Client 2] evaluate, config: {}\n"
          ]
        },
        {
          "name": "stderr",
          "output_type": "stream",
          "text": [
            "\u001b[92mINFO \u001b[0m:      aggregate_evaluate: received 4 results and 0 failures\n",
            "\u001b[92mINFO \u001b[0m:      \n",
            "\u001b[92mINFO \u001b[0m:      [ROUND 84]\n",
            "\u001b[92mINFO \u001b[0m:      configure_fit: strategy sampled 4 clients (out of 4)\n"
          ]
        },
        {
          "name": "stdout",
          "output_type": "stream",
          "text": [
            "\u001b[36m(ClientAppActor pid=3466390)\u001b[0m [Client 3] fit, config: {}\n",
            "\u001b[36m(ClientAppActor pid=3466390)\u001b[0m Epoch 1: train loss 1.8345912810431586, accuracy 0.27355555555555555\n",
            "\u001b[36m(ClientAppActor pid=3466390)\u001b[0m [Client 0] fit, config: {}\n",
            "\u001b[36m(ClientAppActor pid=3466390)\u001b[0m Epoch 1: train loss 1.8196734790802003, accuracy 0.28733333333333333\n",
            "\u001b[36m(ClientAppActor pid=3466390)\u001b[0m [Client 2] fit, config: {}\n",
            "\u001b[36m(ClientAppActor pid=3466390)\u001b[0m Epoch 1: train loss 1.8307128711276583, accuracy 0.28244444444444444\n",
            "\u001b[36m(ClientAppActor pid=3466390)\u001b[0m [Client 1] fit, config: {}\n",
            "\u001b[36m(ClientAppActor pid=3466390)\u001b[0m Epoch 1: train loss 1.8012711341645982, accuracy 0.2842222222222222\n"
          ]
        },
        {
          "name": "stderr",
          "output_type": "stream",
          "text": [
            "\u001b[92mINFO \u001b[0m:      aggregate_fit: received 4 results and 0 failures\n",
            "\u001b[92mINFO \u001b[0m:      fit progress: (84, 1.8809640426635743, {'accuracy': 0.2545}, 3001.7965160259046)\n",
            "\u001b[92mINFO \u001b[0m:      configure_evaluate: strategy sampled 4 clients (out of 4)\n"
          ]
        },
        {
          "name": "stdout",
          "output_type": "stream",
          "text": [
            "\u001b[36m(ClientAppActor pid=3466390)\u001b[0m [Client 3] evaluate, config: {}\n",
            "\u001b[36m(ClientAppActor pid=3466390)\u001b[0m [Client 0] evaluate, config: {}\n",
            "\u001b[36m(ClientAppActor pid=3466390)\u001b[0m [Client 1] evaluate, config: {}\n",
            "\u001b[36m(ClientAppActor pid=3466390)\u001b[0m [Client 2] evaluate, config: {}\n"
          ]
        },
        {
          "name": "stderr",
          "output_type": "stream",
          "text": [
            "\u001b[92mINFO \u001b[0m:      aggregate_evaluate: received 4 results and 0 failures\n",
            "\u001b[92mINFO \u001b[0m:      \n",
            "\u001b[92mINFO \u001b[0m:      [ROUND 85]\n",
            "\u001b[92mINFO \u001b[0m:      configure_fit: strategy sampled 4 clients (out of 4)\n"
          ]
        },
        {
          "name": "stdout",
          "output_type": "stream",
          "text": [
            "\u001b[36m(ClientAppActor pid=3466390)\u001b[0m [Client 2] fit, config: {}\n",
            "\u001b[36m(ClientAppActor pid=3466390)\u001b[0m Epoch 1: train loss 1.8449583426581488, accuracy 0.2777777777777778\n",
            "\u001b[36m(ClientAppActor pid=3466390)\u001b[0m [Client 1] fit, config: {}\n",
            "\u001b[36m(ClientAppActor pid=3466390)\u001b[0m Epoch 1: train loss 1.82089920785692, accuracy 0.2877777777777778\n",
            "\u001b[36m(ClientAppActor pid=3466390)\u001b[0m [Client 3] fit, config: {}\n",
            "\u001b[36m(ClientAppActor pid=3466390)\u001b[0m Epoch 1: train loss 1.8294944099850126, accuracy 0.276\n",
            "\u001b[36m(ClientAppActor pid=3466390)\u001b[0m [Client 0] fit, config: {}\n"
          ]
        },
        {
          "name": "stderr",
          "output_type": "stream",
          "text": [
            "\u001b[92mINFO \u001b[0m:      aggregate_fit: received 4 results and 0 failures\n"
          ]
        },
        {
          "name": "stdout",
          "output_type": "stream",
          "text": [
            "\u001b[36m(ClientAppActor pid=3466390)\u001b[0m Epoch 1: train loss 1.8217338977389865, accuracy 0.2842222222222222\n"
          ]
        },
        {
          "name": "stderr",
          "output_type": "stream",
          "text": [
            "\u001b[92mINFO \u001b[0m:      fit progress: (85, 1.9403952894210816, {'accuracy': 0.2404}, 3037.0053883567452)\n",
            "\u001b[92mINFO \u001b[0m:      configure_evaluate: strategy sampled 4 clients (out of 4)\n"
          ]
        },
        {
          "name": "stdout",
          "output_type": "stream",
          "text": [
            "\u001b[36m(ClientAppActor pid=3466390)\u001b[0m [Client 1] evaluate, config: {}\n",
            "\u001b[36m(ClientAppActor pid=3466390)\u001b[0m [Client 2] evaluate, config: {}\n",
            "\u001b[36m(ClientAppActor pid=3466390)\u001b[0m [Client 0] evaluate, config: {}\n",
            "\u001b[36m(ClientAppActor pid=3466390)\u001b[0m [Client 3] evaluate, config: {}\n"
          ]
        },
        {
          "name": "stderr",
          "output_type": "stream",
          "text": [
            "\u001b[92mINFO \u001b[0m:      aggregate_evaluate: received 4 results and 0 failures\n",
            "\u001b[92mINFO \u001b[0m:      \n",
            "\u001b[92mINFO \u001b[0m:      [ROUND 86]\n",
            "\u001b[92mINFO \u001b[0m:      configure_fit: strategy sampled 4 clients (out of 4)\n"
          ]
        },
        {
          "name": "stdout",
          "output_type": "stream",
          "text": [
            "\u001b[36m(ClientAppActor pid=3466390)\u001b[0m [Client 3] fit, config: {}\n",
            "\u001b[36m(ClientAppActor pid=3466390)\u001b[0m Epoch 1: train loss 1.8250447149276734, accuracy 0.27355555555555555\n",
            "\u001b[36m(ClientAppActor pid=3466390)\u001b[0m [Client 1] fit, config: {}\n",
            "\u001b[36m(ClientAppActor pid=3466390)\u001b[0m Epoch 1: train loss 1.8067549300723607, accuracy 0.2886666666666667\n",
            "\u001b[36m(ClientAppActor pid=3466390)\u001b[0m [Client 0] fit, config: {}\n",
            "\u001b[36m(ClientAppActor pid=3466390)\u001b[0m Epoch 1: train loss 1.8070674115286933, accuracy 0.29533333333333334\n",
            "\u001b[36m(ClientAppActor pid=3466390)\u001b[0m [Client 2] fit, config: {}\n"
          ]
        },
        {
          "name": "stderr",
          "output_type": "stream",
          "text": [
            "\u001b[92mINFO \u001b[0m:      aggregate_fit: received 4 results and 0 failures\n"
          ]
        },
        {
          "name": "stdout",
          "output_type": "stream",
          "text": [
            "\u001b[36m(ClientAppActor pid=3466390)\u001b[0m Epoch 1: train loss 1.817690465291341, accuracy 0.29688888888888887\n"
          ]
        },
        {
          "name": "stderr",
          "output_type": "stream",
          "text": [
            "\u001b[92mINFO \u001b[0m:      fit progress: (86, 1.8862690616607667, {'accuracy': 0.2486}, 3073.9738255837)\n",
            "\u001b[92mINFO \u001b[0m:      configure_evaluate: strategy sampled 4 clients (out of 4)\n"
          ]
        },
        {
          "name": "stdout",
          "output_type": "stream",
          "text": [
            "\u001b[36m(ClientAppActor pid=3466390)\u001b[0m [Client 1] evaluate, config: {}\n",
            "\u001b[36m(ClientAppActor pid=3466390)\u001b[0m [Client 3] evaluate, config: {}\n",
            "\u001b[36m(ClientAppActor pid=3466390)\u001b[0m [Client 2] evaluate, config: {}\n",
            "\u001b[36m(ClientAppActor pid=3466390)\u001b[0m [Client 0] evaluate, config: {}\n"
          ]
        },
        {
          "name": "stderr",
          "output_type": "stream",
          "text": [
            "\u001b[92mINFO \u001b[0m:      aggregate_evaluate: received 4 results and 0 failures\n",
            "\u001b[92mINFO \u001b[0m:      \n",
            "\u001b[92mINFO \u001b[0m:      [ROUND 87]\n",
            "\u001b[92mINFO \u001b[0m:      configure_fit: strategy sampled 4 clients (out of 4)\n"
          ]
        },
        {
          "name": "stdout",
          "output_type": "stream",
          "text": [
            "\u001b[36m(ClientAppActor pid=3466390)\u001b[0m [Client 1] fit, config: {}\n",
            "\u001b[36m(ClientAppActor pid=3466390)\u001b[0m Epoch 1: train loss 1.7915454194810656, accuracy 0.29\n",
            "\u001b[36m(ClientAppActor pid=3466390)\u001b[0m [Client 2] fit, config: {}\n",
            "\u001b[36m(ClientAppActor pid=3466390)\u001b[0m Epoch 1: train loss 1.8165292055341933, accuracy 0.29088888888888886\n",
            "\u001b[36m(ClientAppActor pid=3466390)\u001b[0m [Client 0] fit, config: {}\n",
            "\u001b[36m(ClientAppActor pid=3466390)\u001b[0m Epoch 1: train loss 1.8119243324067857, accuracy 0.29088888888888886\n",
            "\u001b[36m(ClientAppActor pid=3466390)\u001b[0m [Client 3] fit, config: {}\n",
            "\u001b[36m(ClientAppActor pid=3466390)\u001b[0m Epoch 1: train loss 1.812354629304674, accuracy 0.276\n"
          ]
        },
        {
          "name": "stderr",
          "output_type": "stream",
          "text": [
            "\u001b[92mINFO \u001b[0m:      aggregate_fit: received 4 results and 0 failures\n",
            "\u001b[92mINFO \u001b[0m:      fit progress: (87, 1.8442135929107666, {'accuracy': 0.2699}, 3110.910047893878)\n",
            "\u001b[92mINFO \u001b[0m:      configure_evaluate: strategy sampled 4 clients (out of 4)\n"
          ]
        },
        {
          "name": "stdout",
          "output_type": "stream",
          "text": [
            "\u001b[36m(ClientAppActor pid=3466390)\u001b[0m [Client 1] evaluate, config: {}\n",
            "\u001b[36m(ClientAppActor pid=3466390)\u001b[0m [Client 0] evaluate, config: {}\n",
            "\u001b[36m(ClientAppActor pid=3466390)\u001b[0m [Client 3] evaluate, config: {}\n",
            "\u001b[36m(ClientAppActor pid=3466390)\u001b[0m [Client 2] evaluate, config: {}\n"
          ]
        },
        {
          "name": "stderr",
          "output_type": "stream",
          "text": [
            "\u001b[92mINFO \u001b[0m:      aggregate_evaluate: received 4 results and 0 failures\n",
            "\u001b[92mINFO \u001b[0m:      \n",
            "\u001b[92mINFO \u001b[0m:      [ROUND 88]\n",
            "\u001b[92mINFO \u001b[0m:      configure_fit: strategy sampled 4 clients (out of 4)\n"
          ]
        },
        {
          "name": "stdout",
          "output_type": "stream",
          "text": [
            "\u001b[36m(ClientAppActor pid=3466390)\u001b[0m [Client 3] fit, config: {}\n",
            "\u001b[36m(ClientAppActor pid=3466390)\u001b[0m Epoch 1: train loss 1.8285573670069377, accuracy 0.2753333333333333\n",
            "\u001b[36m(ClientAppActor pid=3466390)\u001b[0m [Client 1] fit, config: {}\n",
            "\u001b[36m(ClientAppActor pid=3466390)\u001b[0m Epoch 1: train loss 1.801729528427124, accuracy 0.292\n",
            "\u001b[36m(ClientAppActor pid=3466390)\u001b[0m [Client 0] fit, config: {}\n",
            "\u001b[36m(ClientAppActor pid=3466390)\u001b[0m Epoch 1: train loss 1.815586867544386, accuracy 0.2897777777777778\n",
            "\u001b[36m(ClientAppActor pid=3466390)\u001b[0m [Client 2] fit, config: {}\n",
            "\u001b[36m(ClientAppActor pid=3466390)\u001b[0m Epoch 1: train loss 1.813279317326016, accuracy 0.2966666666666667\n"
          ]
        },
        {
          "name": "stderr",
          "output_type": "stream",
          "text": [
            "\u001b[92mINFO \u001b[0m:      aggregate_fit: received 4 results and 0 failures\n",
            "\u001b[92mINFO \u001b[0m:      fit progress: (88, 1.9108993991851806, {'accuracy': 0.2459}, 3145.7603622558527)\n",
            "\u001b[92mINFO \u001b[0m:      configure_evaluate: strategy sampled 4 clients (out of 4)\n"
          ]
        },
        {
          "name": "stdout",
          "output_type": "stream",
          "text": [
            "\u001b[36m(ClientAppActor pid=3466390)\u001b[0m [Client 3] evaluate, config: {}\n",
            "\u001b[36m(ClientAppActor pid=3466390)\u001b[0m [Client 2] evaluate, config: {}\n",
            "\u001b[36m(ClientAppActor pid=3466390)\u001b[0m [Client 1] evaluate, config: {}\n",
            "\u001b[36m(ClientAppActor pid=3466390)\u001b[0m [Client 0] evaluate, config: {}\n"
          ]
        },
        {
          "name": "stderr",
          "output_type": "stream",
          "text": [
            "\u001b[92mINFO \u001b[0m:      aggregate_evaluate: received 4 results and 0 failures\n",
            "\u001b[92mINFO \u001b[0m:      \n",
            "\u001b[92mINFO \u001b[0m:      [ROUND 89]\n",
            "\u001b[92mINFO \u001b[0m:      configure_fit: strategy sampled 4 clients (out of 4)\n"
          ]
        },
        {
          "name": "stdout",
          "output_type": "stream",
          "text": [
            "\u001b[36m(ClientAppActor pid=3466390)\u001b[0m [Client 3] fit, config: {}\n",
            "\u001b[36m(ClientAppActor pid=3466390)\u001b[0m Epoch 1: train loss 1.8111268752415974, accuracy 0.2822222222222222\n",
            "\u001b[36m(ClientAppActor pid=3466390)\u001b[0m [Client 2] fit, config: {}\n",
            "\u001b[36m(ClientAppActor pid=3466390)\u001b[0m Epoch 1: train loss 1.8034658173455131, accuracy 0.2962222222222222\n",
            "\u001b[36m(ClientAppActor pid=3466390)\u001b[0m [Client 0] fit, config: {}\n",
            "\u001b[36m(ClientAppActor pid=3466390)\u001b[0m Epoch 1: train loss 1.8009920348061457, accuracy 0.29777777777777775\n",
            "\u001b[36m(ClientAppActor pid=3466390)\u001b[0m [Client 1] fit, config: {}\n",
            "\u001b[36m(ClientAppActor pid=3466390)\u001b[0m Epoch 1: train loss 1.8039442223442925, accuracy 0.296\n"
          ]
        },
        {
          "name": "stderr",
          "output_type": "stream",
          "text": [
            "\u001b[92mINFO \u001b[0m:      aggregate_fit: received 4 results and 0 failures\n",
            "\u001b[92mINFO \u001b[0m:      fit progress: (89, 1.8731559650421143, {'accuracy': 0.2677}, 3182.240228143055)\n",
            "\u001b[92mINFO \u001b[0m:      configure_evaluate: strategy sampled 4 clients (out of 4)\n"
          ]
        },
        {
          "name": "stdout",
          "output_type": "stream",
          "text": [
            "\u001b[36m(ClientAppActor pid=3466390)\u001b[0m [Client 1] evaluate, config: {}\n",
            "\u001b[36m(ClientAppActor pid=3466390)\u001b[0m [Client 0] evaluate, config: {}\n",
            "\u001b[36m(ClientAppActor pid=3466390)\u001b[0m [Client 3] evaluate, config: {}\n",
            "\u001b[36m(ClientAppActor pid=3466390)\u001b[0m [Client 2] evaluate, config: {}\n"
          ]
        },
        {
          "name": "stderr",
          "output_type": "stream",
          "text": [
            "\u001b[92mINFO \u001b[0m:      aggregate_evaluate: received 4 results and 0 failures\n",
            "\u001b[92mINFO \u001b[0m:      \n",
            "\u001b[92mINFO \u001b[0m:      [ROUND 90]\n",
            "\u001b[92mINFO \u001b[0m:      configure_fit: strategy sampled 4 clients (out of 4)\n"
          ]
        },
        {
          "name": "stdout",
          "output_type": "stream",
          "text": [
            "\u001b[36m(ClientAppActor pid=3466390)\u001b[0m [Client 0] fit, config: {}\n",
            "\u001b[36m(ClientAppActor pid=3466390)\u001b[0m Epoch 1: train loss 1.8106958709292942, accuracy 0.2966666666666667\n",
            "\u001b[36m(ClientAppActor pid=3466390)\u001b[0m [Client 2] fit, config: {}\n",
            "\u001b[36m(ClientAppActor pid=3466390)\u001b[0m Epoch 1: train loss 1.8000965570873684, accuracy 0.29088888888888886\n",
            "\u001b[36m(ClientAppActor pid=3466390)\u001b[0m [Client 1] fit, config: {}\n",
            "\u001b[36m(ClientAppActor pid=3466390)\u001b[0m Epoch 1: train loss 1.7867266758812799, accuracy 0.2966666666666667\n",
            "\u001b[36m(ClientAppActor pid=3466390)\u001b[0m [Client 3] fit, config: {}\n"
          ]
        },
        {
          "name": "stderr",
          "output_type": "stream",
          "text": [
            "\u001b[92mINFO \u001b[0m:      aggregate_fit: received 4 results and 0 failures\n"
          ]
        },
        {
          "name": "stdout",
          "output_type": "stream",
          "text": [
            "\u001b[36m(ClientAppActor pid=3466390)\u001b[0m Epoch 1: train loss 1.8048624286651611, accuracy 0.2846666666666667\n"
          ]
        },
        {
          "name": "stderr",
          "output_type": "stream",
          "text": [
            "\u001b[92mINFO \u001b[0m:      fit progress: (90, 1.856726343345642, {'accuracy': 0.2677}, 3219.075466018636)\n",
            "\u001b[92mINFO \u001b[0m:      configure_evaluate: strategy sampled 4 clients (out of 4)\n"
          ]
        },
        {
          "name": "stdout",
          "output_type": "stream",
          "text": [
            "\u001b[36m(ClientAppActor pid=3466390)\u001b[0m [Client 1] evaluate, config: {}\n",
            "\u001b[36m(ClientAppActor pid=3466390)\u001b[0m [Client 2] evaluate, config: {}\n",
            "\u001b[36m(ClientAppActor pid=3466390)\u001b[0m [Client 3] evaluate, config: {}\n",
            "\u001b[36m(ClientAppActor pid=3466390)\u001b[0m [Client 0] evaluate, config: {}\n"
          ]
        },
        {
          "name": "stderr",
          "output_type": "stream",
          "text": [
            "\u001b[92mINFO \u001b[0m:      aggregate_evaluate: received 4 results and 0 failures\n",
            "\u001b[92mINFO \u001b[0m:      \n",
            "\u001b[92mINFO \u001b[0m:      [ROUND 91]\n",
            "\u001b[92mINFO \u001b[0m:      configure_fit: strategy sampled 4 clients (out of 4)\n"
          ]
        },
        {
          "name": "stdout",
          "output_type": "stream",
          "text": [
            "\u001b[36m(ClientAppActor pid=3466390)\u001b[0m [Client 1] fit, config: {}\n",
            "\u001b[36m(ClientAppActor pid=3466390)\u001b[0m Epoch 1: train loss 1.7741747284995184, accuracy 0.29888888888888887\n",
            "\u001b[36m(ClientAppActor pid=3466390)\u001b[0m [Client 3] fit, config: {}\n",
            "\u001b[36m(ClientAppActor pid=3466390)\u001b[0m Epoch 1: train loss 1.8122743014229667, accuracy 0.2906666666666667\n",
            "\u001b[36m(ClientAppActor pid=3466390)\u001b[0m [Client 0] fit, config: {}\n",
            "\u001b[36m(ClientAppActor pid=3466390)\u001b[0m Epoch 1: train loss 1.8065240088568792, accuracy 0.28733333333333333\n",
            "\u001b[36m(ClientAppActor pid=3466390)\u001b[0m [Client 2] fit, config: {}\n"
          ]
        },
        {
          "name": "stderr",
          "output_type": "stream",
          "text": [
            "\u001b[92mINFO \u001b[0m:      aggregate_fit: received 4 results and 0 failures\n"
          ]
        },
        {
          "name": "stdout",
          "output_type": "stream",
          "text": [
            "\u001b[36m(ClientAppActor pid=3466390)\u001b[0m Epoch 1: train loss 1.8231041258705987, accuracy 0.278\n"
          ]
        },
        {
          "name": "stderr",
          "output_type": "stream",
          "text": [
            "\u001b[92mINFO \u001b[0m:      fit progress: (91, 1.8622003589630127, {'accuracy': 0.2791}, 3254.548688197974)\n",
            "\u001b[92mINFO \u001b[0m:      configure_evaluate: strategy sampled 4 clients (out of 4)\n"
          ]
        },
        {
          "name": "stdout",
          "output_type": "stream",
          "text": [
            "\u001b[36m(ClientAppActor pid=3466390)\u001b[0m [Client 0] evaluate, config: {}\n",
            "\u001b[36m(ClientAppActor pid=3466390)\u001b[0m [Client 3] evaluate, config: {}\n",
            "\u001b[36m(ClientAppActor pid=3466390)\u001b[0m [Client 1] evaluate, config: {}\n",
            "\u001b[36m(ClientAppActor pid=3466390)\u001b[0m [Client 2] evaluate, config: {}\n"
          ]
        },
        {
          "name": "stderr",
          "output_type": "stream",
          "text": [
            "\u001b[92mINFO \u001b[0m:      aggregate_evaluate: received 4 results and 0 failures\n",
            "\u001b[92mINFO \u001b[0m:      \n",
            "\u001b[92mINFO \u001b[0m:      [ROUND 92]\n",
            "\u001b[92mINFO \u001b[0m:      configure_fit: strategy sampled 4 clients (out of 4)\n"
          ]
        },
        {
          "name": "stdout",
          "output_type": "stream",
          "text": [
            "\u001b[36m(ClientAppActor pid=3466390)\u001b[0m [Client 3] fit, config: {}\n",
            "\u001b[36m(ClientAppActor pid=3466390)\u001b[0m Epoch 1: train loss 1.8077351347605388, accuracy 0.284\n",
            "\u001b[36m(ClientAppActor pid=3466390)\u001b[0m [Client 0] fit, config: {}\n",
            "\u001b[36m(ClientAppActor pid=3466390)\u001b[0m Epoch 1: train loss 1.79900180138482, accuracy 0.30177777777777776\n",
            "\u001b[36m(ClientAppActor pid=3466390)\u001b[0m [Client 2] fit, config: {}\n",
            "\u001b[36m(ClientAppActor pid=3466390)\u001b[0m Epoch 1: train loss 1.7930249173906114, accuracy 0.2991111111111111\n",
            "\u001b[36m(ClientAppActor pid=3466390)\u001b[0m [Client 1] fit, config: {}\n",
            "\u001b[36m(ClientAppActor pid=3466390)\u001b[0m Epoch 1: train loss 1.7912826919555664, accuracy 0.29333333333333333\n"
          ]
        },
        {
          "name": "stderr",
          "output_type": "stream",
          "text": [
            "\u001b[92mINFO \u001b[0m:      aggregate_fit: received 4 results and 0 failures\n",
            "\u001b[92mINFO \u001b[0m:      fit progress: (92, 1.866249619102478, {'accuracy': 0.2532}, 3290.8191132666543)\n",
            "\u001b[92mINFO \u001b[0m:      configure_evaluate: strategy sampled 4 clients (out of 4)\n"
          ]
        },
        {
          "name": "stdout",
          "output_type": "stream",
          "text": [
            "\u001b[36m(ClientAppActor pid=3466390)\u001b[0m [Client 0] evaluate, config: {}\n",
            "\u001b[36m(ClientAppActor pid=3466390)\u001b[0m [Client 2] evaluate, config: {}\n",
            "\u001b[36m(ClientAppActor pid=3466390)\u001b[0m [Client 3] evaluate, config: {}\n",
            "\u001b[36m(ClientAppActor pid=3466390)\u001b[0m [Client 1] evaluate, config: {}\n"
          ]
        },
        {
          "name": "stderr",
          "output_type": "stream",
          "text": [
            "\u001b[92mINFO \u001b[0m:      aggregate_evaluate: received 4 results and 0 failures\n",
            "\u001b[92mINFO \u001b[0m:      \n",
            "\u001b[92mINFO \u001b[0m:      [ROUND 93]\n",
            "\u001b[92mINFO \u001b[0m:      configure_fit: strategy sampled 4 clients (out of 4)\n"
          ]
        },
        {
          "name": "stdout",
          "output_type": "stream",
          "text": [
            "\u001b[36m(ClientAppActor pid=3466390)\u001b[0m [Client 3] fit, config: {}\n",
            "\u001b[36m(ClientAppActor pid=3466390)\u001b[0m Epoch 1: train loss 1.7911217119428846, accuracy 0.28644444444444445\n",
            "\u001b[36m(ClientAppActor pid=3466390)\u001b[0m [Client 2] fit, config: {}\n",
            "\u001b[36m(ClientAppActor pid=3466390)\u001b[0m Epoch 1: train loss 1.7948047296735976, accuracy 0.2946666666666667\n",
            "\u001b[36m(ClientAppActor pid=3466390)\u001b[0m [Client 0] fit, config: {}\n",
            "\u001b[36m(ClientAppActor pid=3466390)\u001b[0m Epoch 1: train loss 1.787373849550883, accuracy 0.304\n",
            "\u001b[36m(ClientAppActor pid=3466390)\u001b[0m [Client 1] fit, config: {}\n",
            "\u001b[36m(ClientAppActor pid=3466390)\u001b[0m Epoch 1: train loss 1.7750567644966972, accuracy 0.2911111111111111\n"
          ]
        },
        {
          "name": "stderr",
          "output_type": "stream",
          "text": [
            "\u001b[92mINFO \u001b[0m:      aggregate_fit: received 4 results and 0 failures\n",
            "\u001b[92mINFO \u001b[0m:      fit progress: (93, 1.8715314611434937, {'accuracy': 0.247}, 3327.047771404963)\n",
            "\u001b[92mINFO \u001b[0m:      configure_evaluate: strategy sampled 4 clients (out of 4)\n"
          ]
        },
        {
          "name": "stdout",
          "output_type": "stream",
          "text": [
            "\u001b[36m(ClientAppActor pid=3466390)\u001b[0m [Client 0] evaluate, config: {}\n",
            "\u001b[36m(ClientAppActor pid=3466390)\u001b[0m [Client 1] evaluate, config: {}\n",
            "\u001b[36m(ClientAppActor pid=3466390)\u001b[0m [Client 3] evaluate, config: {}\n",
            "\u001b[36m(ClientAppActor pid=3466390)\u001b[0m [Client 2] evaluate, config: {}\n"
          ]
        },
        {
          "name": "stderr",
          "output_type": "stream",
          "text": [
            "\u001b[92mINFO \u001b[0m:      aggregate_evaluate: received 4 results and 0 failures\n",
            "\u001b[92mINFO \u001b[0m:      \n",
            "\u001b[92mINFO \u001b[0m:      [ROUND 94]\n",
            "\u001b[92mINFO \u001b[0m:      configure_fit: strategy sampled 4 clients (out of 4)\n"
          ]
        },
        {
          "name": "stdout",
          "output_type": "stream",
          "text": [
            "\u001b[36m(ClientAppActor pid=3466390)\u001b[0m [Client 1] fit, config: {}\n",
            "\u001b[36m(ClientAppActor pid=3466390)\u001b[0m Epoch 1: train loss 1.7832065037621392, accuracy 0.29244444444444445\n",
            "\u001b[36m(ClientAppActor pid=3466390)\u001b[0m [Client 3] fit, config: {}\n",
            "\u001b[36m(ClientAppActor pid=3466390)\u001b[0m Epoch 1: train loss 1.79959287876553, accuracy 0.28155555555555556\n",
            "\u001b[36m(ClientAppActor pid=3466390)\u001b[0m [Client 0] fit, config: {}\n",
            "\u001b[36m(ClientAppActor pid=3466390)\u001b[0m Epoch 1: train loss 1.7981219437917073, accuracy 0.3015555555555556\n",
            "\u001b[36m(ClientAppActor pid=3466390)\u001b[0m [Client 2] fit, config: {}\n"
          ]
        },
        {
          "name": "stderr",
          "output_type": "stream",
          "text": [
            "\u001b[92mINFO \u001b[0m:      aggregate_fit: received 4 results and 0 failures\n"
          ]
        },
        {
          "name": "stdout",
          "output_type": "stream",
          "text": [
            "\u001b[36m(ClientAppActor pid=3466390)\u001b[0m Epoch 1: train loss 1.7948362318674724, accuracy 0.31555555555555553\n"
          ]
        },
        {
          "name": "stderr",
          "output_type": "stream",
          "text": [
            "\u001b[92mINFO \u001b[0m:      fit progress: (94, 1.8855753116607665, {'accuracy': 0.2571}, 3362.358336261008)\n",
            "\u001b[92mINFO \u001b[0m:      configure_evaluate: strategy sampled 4 clients (out of 4)\n"
          ]
        },
        {
          "name": "stdout",
          "output_type": "stream",
          "text": [
            "\u001b[36m(ClientAppActor pid=3466390)\u001b[0m [Client 2] evaluate, config: {}\n",
            "\u001b[36m(ClientAppActor pid=3466390)\u001b[0m [Client 0] evaluate, config: {}\n",
            "\u001b[36m(ClientAppActor pid=3466390)\u001b[0m [Client 1] evaluate, config: {}\n",
            "\u001b[36m(ClientAppActor pid=3466390)\u001b[0m [Client 3] evaluate, config: {}\n"
          ]
        },
        {
          "name": "stderr",
          "output_type": "stream",
          "text": [
            "\u001b[92mINFO \u001b[0m:      aggregate_evaluate: received 4 results and 0 failures\n",
            "\u001b[92mINFO \u001b[0m:      \n",
            "\u001b[92mINFO \u001b[0m:      [ROUND 95]\n",
            "\u001b[92mINFO \u001b[0m:      configure_fit: strategy sampled 4 clients (out of 4)\n"
          ]
        },
        {
          "name": "stdout",
          "output_type": "stream",
          "text": [
            "\u001b[36m(ClientAppActor pid=3466390)\u001b[0m [Client 0] fit, config: {}\n",
            "\u001b[36m(ClientAppActor pid=3466390)\u001b[0m Epoch 1: train loss 1.7944038124084474, accuracy 0.30866666666666664\n",
            "\u001b[36m(ClientAppActor pid=3466390)\u001b[0m [Client 2] fit, config: {}\n",
            "\u001b[36m(ClientAppActor pid=3466390)\u001b[0m Epoch 1: train loss 1.7966975349850125, accuracy 0.29555555555555557\n",
            "\u001b[36m(ClientAppActor pid=3466390)\u001b[0m [Client 3] fit, config: {}\n",
            "\u001b[36m(ClientAppActor pid=3466390)\u001b[0m Epoch 1: train loss 1.797158532248603, accuracy 0.28\n",
            "\u001b[36m(ClientAppActor pid=3466390)\u001b[0m [Client 1] fit, config: {}\n",
            "\u001b[36m(ClientAppActor pid=3466390)\u001b[0m Epoch 1: train loss 1.7797178405125935, accuracy 0.296\n"
          ]
        },
        {
          "name": "stderr",
          "output_type": "stream",
          "text": [
            "\u001b[92mINFO \u001b[0m:      aggregate_fit: received 4 results and 0 failures\n",
            "\u001b[92mINFO \u001b[0m:      fit progress: (95, 1.9373707544326781, {'accuracy': 0.2433}, 3398.038111801725)\n",
            "\u001b[92mINFO \u001b[0m:      configure_evaluate: strategy sampled 4 clients (out of 4)\n"
          ]
        },
        {
          "name": "stdout",
          "output_type": "stream",
          "text": [
            "\u001b[36m(ClientAppActor pid=3466390)\u001b[0m [Client 2] evaluate, config: {}\n",
            "\u001b[36m(ClientAppActor pid=3466390)\u001b[0m [Client 0] evaluate, config: {}\n",
            "\u001b[36m(ClientAppActor pid=3466390)\u001b[0m [Client 1] evaluate, config: {}\n",
            "\u001b[36m(ClientAppActor pid=3466390)\u001b[0m [Client 3] evaluate, config: {}\n"
          ]
        },
        {
          "name": "stderr",
          "output_type": "stream",
          "text": [
            "\u001b[92mINFO \u001b[0m:      aggregate_evaluate: received 4 results and 0 failures\n",
            "\u001b[92mINFO \u001b[0m:      \n",
            "\u001b[92mINFO \u001b[0m:      [ROUND 96]\n",
            "\u001b[92mINFO \u001b[0m:      configure_fit: strategy sampled 4 clients (out of 4)\n"
          ]
        },
        {
          "name": "stdout",
          "output_type": "stream",
          "text": [
            "\u001b[36m(ClientAppActor pid=3466390)\u001b[0m [Client 0] fit, config: {}\n",
            "\u001b[36m(ClientAppActor pid=3466390)\u001b[0m Epoch 1: train loss 1.7830924811893039, accuracy 0.29577777777777775\n",
            "\u001b[36m(ClientAppActor pid=3466390)\u001b[0m [Client 3] fit, config: {}\n",
            "\u001b[36m(ClientAppActor pid=3466390)\u001b[0m Epoch 1: train loss 1.8043461590872871, accuracy 0.2837777777777778\n",
            "\u001b[36m(ClientAppActor pid=3466390)\u001b[0m [Client 1] fit, config: {}\n",
            "\u001b[36m(ClientAppActor pid=3466390)\u001b[0m Epoch 1: train loss 1.776368295457628, accuracy 0.306\n",
            "\u001b[36m(ClientAppActor pid=3466390)\u001b[0m [Client 2] fit, config: {}\n",
            "\u001b[36m(ClientAppActor pid=3466390)\u001b[0m Epoch 1: train loss 1.804530983183119, accuracy 0.3051111111111111\n"
          ]
        },
        {
          "name": "stderr",
          "output_type": "stream",
          "text": [
            "\u001b[92mINFO \u001b[0m:      aggregate_fit: received 4 results and 0 failures\n",
            "\u001b[92mINFO \u001b[0m:      fit progress: (96, 1.8810241146087647, {'accuracy': 0.2588}, 3433.109192968812)\n",
            "\u001b[92mINFO \u001b[0m:      configure_evaluate: strategy sampled 4 clients (out of 4)\n"
          ]
        },
        {
          "name": "stdout",
          "output_type": "stream",
          "text": [
            "\u001b[36m(ClientAppActor pid=3466390)\u001b[0m [Client 3] evaluate, config: {}\n",
            "\u001b[36m(ClientAppActor pid=3466390)\u001b[0m [Client 0] evaluate, config: {}\n",
            "\u001b[36m(ClientAppActor pid=3466390)\u001b[0m [Client 1] evaluate, config: {}\n",
            "\u001b[36m(ClientAppActor pid=3466390)\u001b[0m [Client 2] evaluate, config: {}\n"
          ]
        },
        {
          "name": "stderr",
          "output_type": "stream",
          "text": [
            "\u001b[92mINFO \u001b[0m:      aggregate_evaluate: received 4 results and 0 failures\n",
            "\u001b[92mINFO \u001b[0m:      \n",
            "\u001b[92mINFO \u001b[0m:      [ROUND 97]\n",
            "\u001b[92mINFO \u001b[0m:      configure_fit: strategy sampled 4 clients (out of 4)\n"
          ]
        },
        {
          "name": "stdout",
          "output_type": "stream",
          "text": [
            "\u001b[36m(ClientAppActor pid=3466390)\u001b[0m [Client 0] fit, config: {}\n",
            "\u001b[36m(ClientAppActor pid=3466390)\u001b[0m Epoch 1: train loss 1.77755315123664, accuracy 0.31022222222222223\n",
            "\u001b[36m(ClientAppActor pid=3466390)\u001b[0m [Client 2] fit, config: {}\n",
            "\u001b[36m(ClientAppActor pid=3466390)\u001b[0m Epoch 1: train loss 1.7864061465793186, accuracy 0.31444444444444447\n",
            "\u001b[36m(ClientAppActor pid=3466390)\u001b[0m [Client 1] fit, config: {}\n",
            "\u001b[36m(ClientAppActor pid=3466390)\u001b[0m Epoch 1: train loss 1.7709964541329277, accuracy 0.3006666666666667\n",
            "\u001b[36m(ClientAppActor pid=3466390)\u001b[0m [Client 3] fit, config: {}\n",
            "\u001b[36m(ClientAppActor pid=3466390)\u001b[0m Epoch 1: train loss 1.7931406841278077, accuracy 0.28955555555555557\n"
          ]
        },
        {
          "name": "stderr",
          "output_type": "stream",
          "text": [
            "\u001b[92mINFO \u001b[0m:      aggregate_fit: received 4 results and 0 failures\n",
            "\u001b[92mINFO \u001b[0m:      fit progress: (97, 1.85341358833313, {'accuracy': 0.2764}, 3468.922079430893)\n",
            "\u001b[92mINFO \u001b[0m:      configure_evaluate: strategy sampled 4 clients (out of 4)\n"
          ]
        },
        {
          "name": "stdout",
          "output_type": "stream",
          "text": [
            "\u001b[36m(ClientAppActor pid=3466390)\u001b[0m [Client 0] evaluate, config: {}\n",
            "\u001b[36m(ClientAppActor pid=3466390)\u001b[0m [Client 1] evaluate, config: {}\n",
            "\u001b[36m(ClientAppActor pid=3466390)\u001b[0m [Client 3] evaluate, config: {}\n",
            "\u001b[36m(ClientAppActor pid=3466390)\u001b[0m [Client 2] evaluate, config: {}\n"
          ]
        },
        {
          "name": "stderr",
          "output_type": "stream",
          "text": [
            "\u001b[92mINFO \u001b[0m:      aggregate_evaluate: received 4 results and 0 failures\n",
            "\u001b[92mINFO \u001b[0m:      \n",
            "\u001b[92mINFO \u001b[0m:      [ROUND 98]\n",
            "\u001b[92mINFO \u001b[0m:      configure_fit: strategy sampled 4 clients (out of 4)\n"
          ]
        },
        {
          "name": "stdout",
          "output_type": "stream",
          "text": [
            "\u001b[36m(ClientAppActor pid=3466390)\u001b[0m [Client 2] fit, config: {}\n",
            "\u001b[36m(ClientAppActor pid=3466390)\u001b[0m Epoch 1: train loss 1.793213432100084, accuracy 0.2966666666666667\n",
            "\u001b[36m(ClientAppActor pid=3466390)\u001b[0m [Client 0] fit, config: {}\n",
            "\u001b[36m(ClientAppActor pid=3466390)\u001b[0m Epoch 1: train loss 1.7710551910400392, accuracy 0.3075555555555556\n",
            "\u001b[36m(ClientAppActor pid=3466390)\u001b[0m [Client 1] fit, config: {}\n",
            "\u001b[36m(ClientAppActor pid=3466390)\u001b[0m Epoch 1: train loss 1.7709768363104925, accuracy 0.2971111111111111\n",
            "\u001b[36m(ClientAppActor pid=3466390)\u001b[0m [Client 3] fit, config: {}\n",
            "\u001b[36m(ClientAppActor pid=3466390)\u001b[0m Epoch 1: train loss 1.7888718164232043, accuracy 0.2917777777777778\n"
          ]
        },
        {
          "name": "stderr",
          "output_type": "stream",
          "text": [
            "\u001b[92mINFO \u001b[0m:      aggregate_fit: received 4 results and 0 failures\n",
            "\u001b[92mINFO \u001b[0m:      fit progress: (98, 1.8312358324050904, {'accuracy': 0.2761}, 3506.2843101099133)\n",
            "\u001b[92mINFO \u001b[0m:      configure_evaluate: strategy sampled 4 clients (out of 4)\n"
          ]
        },
        {
          "name": "stdout",
          "output_type": "stream",
          "text": [
            "\u001b[36m(ClientAppActor pid=3466390)\u001b[0m [Client 3] evaluate, config: {}\n",
            "\u001b[36m(ClientAppActor pid=3466390)\u001b[0m [Client 2] evaluate, config: {}\n",
            "\u001b[36m(ClientAppActor pid=3466390)\u001b[0m [Client 0] evaluate, config: {}\n",
            "\u001b[36m(ClientAppActor pid=3466390)\u001b[0m [Client 1] evaluate, config: {}\n"
          ]
        },
        {
          "name": "stderr",
          "output_type": "stream",
          "text": [
            "\u001b[92mINFO \u001b[0m:      aggregate_evaluate: received 4 results and 0 failures\n",
            "\u001b[92mINFO \u001b[0m:      \n",
            "\u001b[92mINFO \u001b[0m:      [ROUND 99]\n",
            "\u001b[92mINFO \u001b[0m:      configure_fit: strategy sampled 4 clients (out of 4)\n"
          ]
        },
        {
          "name": "stdout",
          "output_type": "stream",
          "text": [
            "\u001b[36m(ClientAppActor pid=3466390)\u001b[0m [Client 3] fit, config: {}\n",
            "\u001b[36m(ClientAppActor pid=3466390)\u001b[0m Epoch 1: train loss 1.7880049332512749, accuracy 0.2962222222222222\n",
            "\u001b[36m(ClientAppActor pid=3466390)\u001b[0m [Client 2] fit, config: {}\n",
            "\u001b[36m(ClientAppActor pid=3466390)\u001b[0m Epoch 1: train loss 1.7756220143636068, accuracy 0.30666666666666664\n",
            "\u001b[36m(ClientAppActor pid=3466390)\u001b[0m [Client 1] fit, config: {}\n",
            "\u001b[36m(ClientAppActor pid=3466390)\u001b[0m Epoch 1: train loss 1.7751694267061022, accuracy 0.30177777777777776\n",
            "\u001b[36m(ClientAppActor pid=3466390)\u001b[0m [Client 0] fit, config: {}\n",
            "\u001b[36m(ClientAppActor pid=3466390)\u001b[0m Epoch 1: train loss 1.7896202042897542, accuracy 0.30666666666666664\n"
          ]
        },
        {
          "name": "stderr",
          "output_type": "stream",
          "text": [
            "\u001b[92mINFO \u001b[0m:      aggregate_fit: received 4 results and 0 failures\n",
            "\u001b[92mINFO \u001b[0m:      fit progress: (99, 1.9125157764434815, {'accuracy': 0.2463}, 3541.0750107220374)\n",
            "\u001b[92mINFO \u001b[0m:      configure_evaluate: strategy sampled 4 clients (out of 4)\n"
          ]
        },
        {
          "name": "stdout",
          "output_type": "stream",
          "text": [
            "\u001b[36m(ClientAppActor pid=3466390)\u001b[0m [Client 3] evaluate, config: {}\n",
            "\u001b[36m(ClientAppActor pid=3466390)\u001b[0m [Client 2] evaluate, config: {}\n",
            "\u001b[36m(ClientAppActor pid=3466390)\u001b[0m [Client 1] evaluate, config: {}\n",
            "\u001b[36m(ClientAppActor pid=3466390)\u001b[0m [Client 0] evaluate, config: {}\n"
          ]
        },
        {
          "name": "stderr",
          "output_type": "stream",
          "text": [
            "\u001b[92mINFO \u001b[0m:      aggregate_evaluate: received 4 results and 0 failures\n",
            "\u001b[92mINFO \u001b[0m:      \n",
            "\u001b[92mINFO \u001b[0m:      [ROUND 100]\n",
            "\u001b[92mINFO \u001b[0m:      configure_fit: strategy sampled 4 clients (out of 4)\n"
          ]
        },
        {
          "name": "stdout",
          "output_type": "stream",
          "text": [
            "\u001b[36m(ClientAppActor pid=3466390)\u001b[0m [Client 2] fit, config: {}\n",
            "\u001b[36m(ClientAppActor pid=3466390)\u001b[0m Epoch 1: train loss 1.7986372382905749, accuracy 0.2986666666666667\n",
            "\u001b[36m(ClientAppActor pid=3466390)\u001b[0m [Client 1] fit, config: {}\n",
            "\u001b[36m(ClientAppActor pid=3466390)\u001b[0m Epoch 1: train loss 1.771435094833374, accuracy 0.30333333333333334\n",
            "\u001b[36m(ClientAppActor pid=3466390)\u001b[0m [Client 0] fit, config: {}\n",
            "\u001b[36m(ClientAppActor pid=3466390)\u001b[0m Epoch 1: train loss 1.7840412726932102, accuracy 0.31866666666666665\n",
            "\u001b[36m(ClientAppActor pid=3466390)\u001b[0m [Client 3] fit, config: {}\n"
          ]
        },
        {
          "name": "stderr",
          "output_type": "stream",
          "text": [
            "\u001b[92mINFO \u001b[0m:      aggregate_fit: received 4 results and 0 failures\n"
          ]
        },
        {
          "name": "stdout",
          "output_type": "stream",
          "text": [
            "\u001b[36m(ClientAppActor pid=3466390)\u001b[0m Epoch 1: train loss 1.784764672279358, accuracy 0.29688888888888887\n"
          ]
        },
        {
          "name": "stderr",
          "output_type": "stream",
          "text": [
            "\u001b[92mINFO \u001b[0m:      fit progress: (100, 1.9026404281616212, {'accuracy': 0.259}, 3576.2802076530643)\n",
            "\u001b[92mINFO \u001b[0m:      configure_evaluate: strategy sampled 4 clients (out of 4)\n"
          ]
        },
        {
          "name": "stdout",
          "output_type": "stream",
          "text": [
            "\u001b[36m(ClientAppActor pid=3466390)\u001b[0m [Client 0] evaluate, config: {}\n",
            "\u001b[36m(ClientAppActor pid=3466390)\u001b[0m [Client 3] evaluate, config: {}\n",
            "\u001b[36m(ClientAppActor pid=3466390)\u001b[0m [Client 2] evaluate, config: {}\n",
            "\u001b[36m(ClientAppActor pid=3466390)\u001b[0m [Client 1] evaluate, config: {}\n"
          ]
        },
        {
          "name": "stderr",
          "output_type": "stream",
          "text": [
            "\u001b[92mINFO \u001b[0m:      aggregate_evaluate: received 4 results and 0 failures\n",
            "\u001b[92mINFO \u001b[0m:      \n",
            "\u001b[92mINFO \u001b[0m:      [SUMMARY]\n",
            "\u001b[92mINFO \u001b[0m:      Run finished 100 round(s) in 3584.12s\n",
            "\u001b[92mINFO \u001b[0m:      \tHistory (loss, distributed):\n",
            "\u001b[92mINFO \u001b[0m:      \t\tround 1: 2.3732264556884766\n",
            "\u001b[92mINFO \u001b[0m:      \t\tround 2: 2.35000418806076\n",
            "\u001b[92mINFO \u001b[0m:      \t\tround 3: 2.302639039516449\n",
            "\u001b[92mINFO \u001b[0m:      \t\tround 4: 2.3085089635849\n",
            "\u001b[92mINFO \u001b[0m:      \t\tround 5: 2.523065850734711\n",
            "\u001b[92mINFO \u001b[0m:      \t\tround 6: 2.32296461725235\n",
            "\u001b[92mINFO \u001b[0m:      \t\tround 7: 2.3336136488914487\n",
            "\u001b[92mINFO \u001b[0m:      \t\tround 8: 2.309448959350586\n",
            "\u001b[92mINFO \u001b[0m:      \t\tround 9: 2.3151571922302248\n",
            "\u001b[92mINFO \u001b[0m:      \t\tround 10: 2.3316840047836305\n",
            "\u001b[92mINFO \u001b[0m:      \t\tround 11: 2.3196477966308593\n",
            "\u001b[92mINFO \u001b[0m:      \t\tround 12: 2.2954623203277587\n",
            "\u001b[92mINFO \u001b[0m:      \t\tround 13: 3.110720365047455\n",
            "\u001b[92mINFO \u001b[0m:      \t\tround 14: 2.32832075214386\n",
            "\u001b[92mINFO \u001b[0m:      \t\tround 15: 2.3309555139541627\n",
            "\u001b[92mINFO \u001b[0m:      \t\tround 16: 2.312701166152954\n",
            "\u001b[92mINFO \u001b[0m:      \t\tround 17: 2.418446539878845\n",
            "\u001b[92mINFO \u001b[0m:      \t\tround 18: 2.2868872509002682\n",
            "\u001b[92mINFO \u001b[0m:      \t\tround 19: 2.272698643684387\n",
            "\u001b[92mINFO \u001b[0m:      \t\tround 20: 2.3049702587127685\n",
            "\u001b[92mINFO \u001b[0m:      \t\tround 21: 2.281226866722107\n",
            "\u001b[92mINFO \u001b[0m:      \t\tround 22: 2.260467206478119\n",
            "\u001b[92mINFO \u001b[0m:      \t\tround 23: 2.251116696357727\n",
            "\u001b[92mINFO \u001b[0m:      \t\tround 24: 2.4023228354454043\n",
            "\u001b[92mINFO \u001b[0m:      \t\tround 25: 2.3965479736328126\n",
            "\u001b[92mINFO \u001b[0m:      \t\tround 26: 2.2985306348800663\n",
            "\u001b[92mINFO \u001b[0m:      \t\tround 27: 2.3028611459732056\n",
            "\u001b[92mINFO \u001b[0m:      \t\tround 28: 2.3517808475494384\n",
            "\u001b[92mINFO \u001b[0m:      \t\tround 29: 2.273347857952118\n",
            "\u001b[92mINFO \u001b[0m:      \t\tround 30: 2.3032481751441956\n",
            "\u001b[92mINFO \u001b[0m:      \t\tround 31: 2.34990895318985\n",
            "\u001b[92mINFO \u001b[0m:      \t\tround 32: 2.30645236158371\n",
            "\u001b[92mINFO \u001b[0m:      \t\tround 33: 2.236534236907959\n",
            "\u001b[92mINFO \u001b[0m:      \t\tround 34: 2.171727663993835\n",
            "\u001b[92mINFO \u001b[0m:      \t\tround 35: 2.1979992156028745\n",
            "\u001b[92mINFO \u001b[0m:      \t\tround 36: 2.2099606928825377\n",
            "\u001b[92mINFO \u001b[0m:      \t\tround 37: 2.174869023323059\n",
            "\u001b[92mINFO \u001b[0m:      \t\tround 38: 2.3480602784156797\n",
            "\u001b[92mINFO \u001b[0m:      \t\tround 39: 2.186582256793976\n",
            "\u001b[92mINFO \u001b[0m:      \t\tround 40: 2.1490326027870177\n",
            "\u001b[92mINFO \u001b[0m:      \t\tround 41: 2.168608530521393\n",
            "\u001b[92mINFO \u001b[0m:      \t\tround 42: 2.2734621953964234\n",
            "\u001b[92mINFO \u001b[0m:      \t\tround 43: 2.134821364879608\n",
            "\u001b[92mINFO \u001b[0m:      \t\tround 44: 2.191579520702362\n",
            "\u001b[92mINFO \u001b[0m:      \t\tround 45: 2.803003774166107\n",
            "\u001b[92mINFO \u001b[0m:      \t\tround 46: 2.0910873227119446\n",
            "\u001b[92mINFO \u001b[0m:      \t\tround 47: 2.5082030653953553\n",
            "\u001b[92mINFO \u001b[0m:      \t\tround 48: 2.262840260028839\n",
            "\u001b[92mINFO \u001b[0m:      \t\tround 49: 2.3453312249183655\n",
            "\u001b[92mINFO \u001b[0m:      \t\tround 50: 2.2960481700897217\n",
            "\u001b[92mINFO \u001b[0m:      \t\tround 51: 2.2014169249534605\n",
            "\u001b[92mINFO \u001b[0m:      \t\tround 52: 2.17345183134079\n",
            "\u001b[92mINFO \u001b[0m:      \t\tround 53: 2.1407445697784424\n",
            "\u001b[92mINFO \u001b[0m:      \t\tround 54: 2.1917530553340914\n",
            "\u001b[92mINFO \u001b[0m:      \t\tround 55: 2.2719548811912538\n",
            "\u001b[92mINFO \u001b[0m:      \t\tround 56: 2.2122246346473693\n",
            "\u001b[92mINFO \u001b[0m:      \t\tround 57: 2.107189720630646\n",
            "\u001b[92mINFO \u001b[0m:      \t\tround 58: 2.131834480762482\n",
            "\u001b[92mINFO \u001b[0m:      \t\tround 59: 2.2808929629325867\n",
            "\u001b[92mINFO \u001b[0m:      \t\tround 60: 2.1085772948265076\n",
            "\u001b[92mINFO \u001b[0m:      \t\tround 61: 2.102187662124634\n",
            "\u001b[92mINFO \u001b[0m:      \t\tround 62: 2.5013252630233764\n",
            "\u001b[92mINFO \u001b[0m:      \t\tround 63: 2.1366619958877564\n",
            "\u001b[92mINFO \u001b[0m:      \t\tround 64: 2.185901952981949\n",
            "\u001b[92mINFO \u001b[0m:      \t\tround 65: 2.33308718252182\n",
            "\u001b[92mINFO \u001b[0m:      \t\tround 66: 2.321425798892975\n",
            "\u001b[92mINFO \u001b[0m:      \t\tround 67: 2.1090646052360533\n",
            "\u001b[92mINFO \u001b[0m:      \t\tround 68: 2.124566933870316\n",
            "\u001b[92mINFO \u001b[0m:      \t\tround 69: 2.2332497954368593\n",
            "\u001b[92mINFO \u001b[0m:      \t\tround 70: 2.1916597480773925\n",
            "\u001b[92mINFO \u001b[0m:      \t\tround 71: 2.0599119849205016\n",
            "\u001b[92mINFO \u001b[0m:      \t\tround 72: 2.288578001022339\n",
            "\u001b[92mINFO \u001b[0m:      \t\tround 73: 2.049148880958557\n",
            "\u001b[92mINFO \u001b[0m:      \t\tround 74: 1.9437207927703857\n",
            "\u001b[92mINFO \u001b[0m:      \t\tround 75: 2.0416316089630127\n",
            "\u001b[92mINFO \u001b[0m:      \t\tround 76: 2.099573318719864\n",
            "\u001b[92mINFO \u001b[0m:      \t\tround 77: 2.025122928619385\n",
            "\u001b[92mINFO \u001b[0m:      \t\tround 78: 1.9392335095405577\n",
            "\u001b[92mINFO \u001b[0m:      \t\tround 79: 2.048487469434738\n",
            "\u001b[92mINFO \u001b[0m:      \t\tround 80: 1.957013390302658\n",
            "\u001b[92mINFO \u001b[0m:      \t\tround 81: 1.9326194858551025\n",
            "\u001b[92mINFO \u001b[0m:      \t\tround 82: 1.9083948204517365\n",
            "\u001b[92mINFO \u001b[0m:      \t\tround 83: 1.9240836343765257\n",
            "\u001b[92mINFO \u001b[0m:      \t\tround 84: 1.8925462148189545\n",
            "\u001b[92mINFO \u001b[0m:      \t\tround 85: 1.9537160534858704\n",
            "\u001b[92mINFO \u001b[0m:      \t\tround 86: 1.8987578034400938\n",
            "\u001b[92mINFO \u001b[0m:      \t\tround 87: 1.8647322709560394\n",
            "\u001b[92mINFO \u001b[0m:      \t\tround 88: 1.9208218293190003\n",
            "\u001b[92mINFO \u001b[0m:      \t\tround 89: 1.8883423285484313\n",
            "\u001b[92mINFO \u001b[0m:      \t\tround 90: 1.876863590955734\n",
            "\u001b[92mINFO \u001b[0m:      \t\tround 91: 1.8821902563571928\n",
            "\u001b[92mINFO \u001b[0m:      \t\tround 92: 1.895458248138428\n",
            "\u001b[92mINFO \u001b[0m:      \t\tround 93: 1.8900545997619629\n",
            "\u001b[92mINFO \u001b[0m:      \t\tround 94: 1.9123234984874724\n",
            "\u001b[92mINFO \u001b[0m:      \t\tround 95: 1.9465196511745453\n",
            "\u001b[92mINFO \u001b[0m:      \t\tround 96: 1.9089515070915224\n",
            "\u001b[92mINFO \u001b[0m:      \t\tround 97: 1.876967827796936\n",
            "\u001b[92mINFO \u001b[0m:      \t\tround 98: 1.862257105588913\n",
            "\u001b[92mINFO \u001b[0m:      \t\tround 99: 1.9512634658813477\n",
            "\u001b[92mINFO \u001b[0m:      \t\tround 100: 1.9152718086242675\n",
            "\u001b[92mINFO \u001b[0m:      \tHistory (loss, centralized):\n",
            "\u001b[92mINFO \u001b[0m:      \t\tround 0: 2.302915634536743\n",
            "\u001b[92mINFO \u001b[0m:      \t\tround 1: 2.380026222229004\n",
            "\u001b[92mINFO \u001b[0m:      \t\tround 2: 2.335821974182129\n",
            "\u001b[92mINFO \u001b[0m:      \t\tround 3: 2.3026291969299315\n",
            "\u001b[92mINFO \u001b[0m:      \t\tround 4: 2.309572509765625\n",
            "\u001b[92mINFO \u001b[0m:      \t\tround 5: 2.544693342590332\n",
            "\u001b[92mINFO \u001b[0m:      \t\tround 6: 2.326107006072998\n",
            "\u001b[92mINFO \u001b[0m:      \t\tround 7: 2.335274815750122\n",
            "\u001b[92mINFO \u001b[0m:      \t\tround 8: 2.308913684463501\n",
            "\u001b[92mINFO \u001b[0m:      \t\tround 9: 2.313254256057739\n",
            "\u001b[92mINFO \u001b[0m:      \t\tround 10: 2.330140300369263\n",
            "\u001b[92mINFO \u001b[0m:      \t\tround 11: 2.3162846813201905\n",
            "\u001b[92mINFO \u001b[0m:      \t\tround 12: 2.291947372055054\n",
            "\u001b[92mINFO \u001b[0m:      \t\tround 13: 3.13856205368042\n",
            "\u001b[92mINFO \u001b[0m:      \t\tround 14: 2.326873328781128\n",
            "\u001b[92mINFO \u001b[0m:      \t\tround 15: 2.321513190841675\n",
            "\u001b[92mINFO \u001b[0m:      \t\tround 16: 2.306981036758423\n",
            "\u001b[92mINFO \u001b[0m:      \t\tround 17: 2.418610023880005\n",
            "\u001b[92mINFO \u001b[0m:      \t\tround 18: 2.272993661880493\n",
            "\u001b[92mINFO \u001b[0m:      \t\tround 19: 2.2577928195953367\n",
            "\u001b[92mINFO \u001b[0m:      \t\tround 20: 2.2959369316101075\n",
            "\u001b[92mINFO \u001b[0m:      \t\tround 21: 2.256848645782471\n",
            "\u001b[92mINFO \u001b[0m:      \t\tround 22: 2.239130089569092\n",
            "\u001b[92mINFO \u001b[0m:      \t\tround 23: 2.2291279106140136\n",
            "\u001b[92mINFO \u001b[0m:      \t\tround 24: 2.392196323776245\n",
            "\u001b[92mINFO \u001b[0m:      \t\tround 25: 2.3916167110443114\n",
            "\u001b[92mINFO \u001b[0m:      \t\tround 26: 2.2798311599731447\n",
            "\u001b[92mINFO \u001b[0m:      \t\tround 27: 2.2813452239990233\n",
            "\u001b[92mINFO \u001b[0m:      \t\tround 28: 2.333466148376465\n",
            "\u001b[92mINFO \u001b[0m:      \t\tround 29: 2.2573099433898927\n",
            "\u001b[92mINFO \u001b[0m:      \t\tround 30: 2.2919919025421143\n",
            "\u001b[92mINFO \u001b[0m:      \t\tround 31: 2.340800400543213\n",
            "\u001b[92mINFO \u001b[0m:      \t\tround 32: 2.2959102993011475\n",
            "\u001b[92mINFO \u001b[0m:      \t\tround 33: 2.2189129554748535\n",
            "\u001b[92mINFO \u001b[0m:      \t\tround 34: 2.156361376953125\n",
            "\u001b[92mINFO \u001b[0m:      \t\tround 35: 2.1766122882843018\n",
            "\u001b[92mINFO \u001b[0m:      \t\tround 36: 2.198290483093262\n",
            "\u001b[92mINFO \u001b[0m:      \t\tround 37: 2.170371674346924\n",
            "\u001b[92mINFO \u001b[0m:      \t\tround 38: 2.3492701538085936\n",
            "\u001b[92mINFO \u001b[0m:      \t\tround 39: 2.1717897132873536\n",
            "\u001b[92mINFO \u001b[0m:      \t\tround 40: 2.1321940757751463\n",
            "\u001b[92mINFO \u001b[0m:      \t\tround 41: 2.161147139930725\n",
            "\u001b[92mINFO \u001b[0m:      \t\tround 42: 2.2611903022766113\n",
            "\u001b[92mINFO \u001b[0m:      \t\tround 43: 2.1166698902130126\n",
            "\u001b[92mINFO \u001b[0m:      \t\tround 44: 2.1804828411102295\n",
            "\u001b[92mINFO \u001b[0m:      \t\tround 45: 2.8277306163787843\n",
            "\u001b[92mINFO \u001b[0m:      \t\tround 46: 2.084437137413025\n",
            "\u001b[92mINFO \u001b[0m:      \t\tround 47: 2.523222243118286\n",
            "\u001b[92mINFO \u001b[0m:      \t\tround 48: 2.262440235519409\n",
            "\u001b[92mINFO \u001b[0m:      \t\tround 49: 2.3669812816619875\n",
            "\u001b[92mINFO \u001b[0m:      \t\tround 50: 2.290407793045044\n",
            "\u001b[92mINFO \u001b[0m:      \t\tround 51: 2.196294033050537\n",
            "\u001b[92mINFO \u001b[0m:      \t\tround 52: 2.1628709983825685\n",
            "\u001b[92mINFO \u001b[0m:      \t\tround 53: 2.1283174867630006\n",
            "\u001b[92mINFO \u001b[0m:      \t\tround 54: 2.1873765167236328\n",
            "\u001b[92mINFO \u001b[0m:      \t\tround 55: 2.2547699810028075\n",
            "\u001b[92mINFO \u001b[0m:      \t\tround 56: 2.209051523590088\n",
            "\u001b[92mINFO \u001b[0m:      \t\tround 57: 2.0881048990249633\n",
            "\u001b[92mINFO \u001b[0m:      \t\tround 58: 2.1386698585510255\n",
            "\u001b[92mINFO \u001b[0m:      \t\tround 59: 2.2914634517669676\n",
            "\u001b[92mINFO \u001b[0m:      \t\tround 60: 2.099027239227295\n",
            "\u001b[92mINFO \u001b[0m:      \t\tround 61: 2.0985651515960693\n",
            "\u001b[92mINFO \u001b[0m:      \t\tround 62: 2.523001345062256\n",
            "\u001b[92mINFO \u001b[0m:      \t\tround 63: 2.150529665184021\n",
            "\u001b[92mINFO \u001b[0m:      \t\tround 64: 2.1812841972351076\n",
            "\u001b[92mINFO \u001b[0m:      \t\tround 65: 2.3527149864196777\n",
            "\u001b[92mINFO \u001b[0m:      \t\tround 66: 2.3407080764770507\n",
            "\u001b[92mINFO \u001b[0m:      \t\tround 67: 2.1181920867919923\n",
            "\u001b[92mINFO \u001b[0m:      \t\tround 68: 2.134733601951599\n",
            "\u001b[92mINFO \u001b[0m:      \t\tround 69: 2.2535703090667725\n",
            "\u001b[92mINFO \u001b[0m:      \t\tround 70: 2.200746843338013\n",
            "\u001b[92mINFO \u001b[0m:      \t\tround 71: 2.0497632713317873\n",
            "\u001b[92mINFO \u001b[0m:      \t\tround 72: 2.307602136230469\n",
            "\u001b[92mINFO \u001b[0m:      \t\tround 73: 2.055858724784851\n",
            "\u001b[92mINFO \u001b[0m:      \t\tround 74: 1.9362589590072632\n",
            "\u001b[92mINFO \u001b[0m:      \t\tround 75: 2.0349653936386107\n",
            "\u001b[92mINFO \u001b[0m:      \t\tround 76: 2.0961782329559324\n",
            "\u001b[92mINFO \u001b[0m:      \t\tround 77: 2.013059666824341\n",
            "\u001b[92mINFO \u001b[0m:      \t\tround 78: 1.9229637657165528\n",
            "\u001b[92mINFO \u001b[0m:      \t\tround 79: 2.0414510683059692\n",
            "\u001b[92mINFO \u001b[0m:      \t\tround 80: 1.9476935462951661\n",
            "\u001b[92mINFO \u001b[0m:      \t\tround 81: 1.9311735857009888\n",
            "\u001b[92mINFO \u001b[0m:      \t\tround 82: 1.8946016040802003\n",
            "\u001b[92mINFO \u001b[0m:      \t\tround 83: 1.9070190269470215\n",
            "\u001b[92mINFO \u001b[0m:      \t\tround 84: 1.8809640426635743\n",
            "\u001b[92mINFO \u001b[0m:      \t\tround 85: 1.9403952894210816\n",
            "\u001b[92mINFO \u001b[0m:      \t\tround 86: 1.8862690616607667\n",
            "\u001b[92mINFO \u001b[0m:      \t\tround 87: 1.8442135929107666\n",
            "\u001b[92mINFO \u001b[0m:      \t\tround 88: 1.9108993991851806\n",
            "\u001b[92mINFO \u001b[0m:      \t\tround 89: 1.8731559650421143\n",
            "\u001b[92mINFO \u001b[0m:      \t\tround 90: 1.856726343345642\n",
            "\u001b[92mINFO \u001b[0m:      \t\tround 91: 1.8622003589630127\n",
            "\u001b[92mINFO \u001b[0m:      \t\tround 92: 1.866249619102478\n",
            "\u001b[92mINFO \u001b[0m:      \t\tround 93: 1.8715314611434937\n",
            "\u001b[92mINFO \u001b[0m:      \t\tround 94: 1.8855753116607665\n",
            "\u001b[92mINFO \u001b[0m:      \t\tround 95: 1.9373707544326781\n",
            "\u001b[92mINFO \u001b[0m:      \t\tround 96: 1.8810241146087647\n",
            "\u001b[92mINFO \u001b[0m:      \t\tround 97: 1.85341358833313\n",
            "\u001b[92mINFO \u001b[0m:      \t\tround 98: 1.8312358324050904\n",
            "\u001b[92mINFO \u001b[0m:      \t\tround 99: 1.9125157764434815\n",
            "\u001b[92mINFO \u001b[0m:      \t\tround 100: 1.9026404281616212\n",
            "\u001b[92mINFO \u001b[0m:      \tHistory (metrics, distributed, fit):\n",
            "\u001b[92mINFO \u001b[0m:      \t{'bytes sent': [(1, 25259223.0),\n",
            "\u001b[92mINFO \u001b[0m:      \t                (2, 25259239.0),\n",
            "\u001b[92mINFO \u001b[0m:      \t                (3, 25259247.0),\n",
            "\u001b[92mINFO \u001b[0m:      \t                (4, 25259195.0),\n",
            "\u001b[92mINFO \u001b[0m:      \t                (5, 25259189.0),\n",
            "\u001b[92mINFO \u001b[0m:      \t                (6, 25259235.0),\n",
            "\u001b[92mINFO \u001b[0m:      \t                (7, 25259235.0),\n",
            "\u001b[92mINFO \u001b[0m:      \t                (8, 25259237.0),\n",
            "\u001b[92mINFO \u001b[0m:      \t                (9, 25259231.0),\n",
            "\u001b[92mINFO \u001b[0m:      \t                (10, 25259239.0),\n",
            "\u001b[92mINFO \u001b[0m:      \t                (11, 25259239.0),\n",
            "\u001b[92mINFO \u001b[0m:      \t                (12, 25259239.0),\n",
            "\u001b[92mINFO \u001b[0m:      \t                (13, 25259239.0),\n",
            "\u001b[92mINFO \u001b[0m:      \t                (14, 25259239.0),\n",
            "\u001b[92mINFO \u001b[0m:      \t                (15, 25259239.0),\n",
            "\u001b[92mINFO \u001b[0m:      \t                (16, 25259239.0),\n",
            "\u001b[92mINFO \u001b[0m:      \t                (17, 25259239.0),\n",
            "\u001b[92mINFO \u001b[0m:      \t                (18, 25259239.0),\n",
            "\u001b[92mINFO \u001b[0m:      \t                (19, 25259239.0),\n",
            "\u001b[92mINFO \u001b[0m:      \t                (20, 25259239.0),\n",
            "\u001b[92mINFO \u001b[0m:      \t                (21, 25259239.0),\n",
            "\u001b[92mINFO \u001b[0m:      \t                (22, 25259239.0),\n",
            "\u001b[92mINFO \u001b[0m:      \t                (23, 25259239.0),\n",
            "\u001b[92mINFO \u001b[0m:      \t                (24, 25259239.0),\n",
            "\u001b[92mINFO \u001b[0m:      \t                (25, 25259239.0),\n",
            "\u001b[92mINFO \u001b[0m:      \t                (26, 25259239.0),\n",
            "\u001b[92mINFO \u001b[0m:      \t                (27, 25259239.0),\n",
            "\u001b[92mINFO \u001b[0m:      \t                (28, 25259239.0),\n",
            "\u001b[92mINFO \u001b[0m:      \t                (29, 25259239.0),\n",
            "\u001b[92mINFO \u001b[0m:      \t                (30, 25259239.0),\n",
            "\u001b[92mINFO \u001b[0m:      \t                (31, 25259239.0),\n",
            "\u001b[92mINFO \u001b[0m:      \t                (32, 25259239.0),\n",
            "\u001b[92mINFO \u001b[0m:      \t                (33, 25259239.0),\n",
            "\u001b[92mINFO \u001b[0m:      \t                (34, 25259239.0),\n",
            "\u001b[92mINFO \u001b[0m:      \t                (35, 25259239.0),\n",
            "\u001b[92mINFO \u001b[0m:      \t                (36, 25259239.0),\n",
            "\u001b[92mINFO \u001b[0m:      \t                (37, 25259239.0),\n",
            "\u001b[92mINFO \u001b[0m:      \t                (38, 25259239.0),\n",
            "\u001b[92mINFO \u001b[0m:      \t                (39, 25259239.0),\n",
            "\u001b[92mINFO \u001b[0m:      \t                (40, 25259239.0),\n",
            "\u001b[92mINFO \u001b[0m:      \t                (41, 25259239.0),\n",
            "\u001b[92mINFO \u001b[0m:      \t                (42, 25259239.0),\n",
            "\u001b[92mINFO \u001b[0m:      \t                (43, 25259239.0),\n",
            "\u001b[92mINFO \u001b[0m:      \t                (44, 25259239.0),\n",
            "\u001b[92mINFO \u001b[0m:      \t                (45, 25259239.0),\n",
            "\u001b[92mINFO \u001b[0m:      \t                (46, 25259239.0),\n",
            "\u001b[92mINFO \u001b[0m:      \t                (47, 25259239.0),\n",
            "\u001b[92mINFO \u001b[0m:      \t                (48, 25259239.0),\n",
            "\u001b[92mINFO \u001b[0m:      \t                (49, 25259239.0),\n",
            "\u001b[92mINFO \u001b[0m:      \t                (50, 25259239.0),\n",
            "\u001b[92mINFO \u001b[0m:      \t                (51, 25259239.0),\n",
            "\u001b[92mINFO \u001b[0m:      \t                (52, 25259239.0),\n",
            "\u001b[92mINFO \u001b[0m:      \t                (53, 25259239.0),\n",
            "\u001b[92mINFO \u001b[0m:      \t                (54, 25259239.0),\n",
            "\u001b[92mINFO \u001b[0m:      \t                (55, 25259239.0),\n",
            "\u001b[92mINFO \u001b[0m:      \t                (56, 25259239.0),\n",
            "\u001b[92mINFO \u001b[0m:      \t                (57, 25259239.0),\n",
            "\u001b[92mINFO \u001b[0m:      \t                (58, 25259239.0),\n",
            "\u001b[92mINFO \u001b[0m:      \t                (59, 25259239.0),\n",
            "\u001b[92mINFO \u001b[0m:      \t                (60, 25259239.0),\n",
            "\u001b[92mINFO \u001b[0m:      \t                (61, 25259239.0),\n",
            "\u001b[92mINFO \u001b[0m:      \t                (62, 25259239.0),\n",
            "\u001b[92mINFO \u001b[0m:      \t                (63, 25259239.0),\n",
            "\u001b[92mINFO \u001b[0m:      \t                (64, 25259239.0),\n",
            "\u001b[92mINFO \u001b[0m:      \t                (65, 25259239.0),\n",
            "\u001b[92mINFO \u001b[0m:      \t                (66, 25259239.0),\n",
            "\u001b[92mINFO \u001b[0m:      \t                (67, 25259239.0),\n",
            "\u001b[92mINFO \u001b[0m:      \t                (68, 25259239.0),\n",
            "\u001b[92mINFO \u001b[0m:      \t                (69, 25259239.0),\n",
            "\u001b[92mINFO \u001b[0m:      \t                (70, 25259239.0),\n",
            "\u001b[92mINFO \u001b[0m:      \t                (71, 25259239.0),\n",
            "\u001b[92mINFO \u001b[0m:      \t                (72, 25259239.0),\n",
            "\u001b[92mINFO \u001b[0m:      \t                (73, 25259239.0),\n",
            "\u001b[92mINFO \u001b[0m:      \t                (74, 25259239.0),\n",
            "\u001b[92mINFO \u001b[0m:      \t                (75, 25259239.0),\n",
            "\u001b[92mINFO \u001b[0m:      \t                (76, 25259239.0),\n",
            "\u001b[92mINFO \u001b[0m:      \t                (77, 25259239.0),\n",
            "\u001b[92mINFO \u001b[0m:      \t                (78, 25259239.0),\n",
            "\u001b[92mINFO \u001b[0m:      \t                (79, 25259239.0),\n",
            "\u001b[92mINFO \u001b[0m:      \t                (80, 25259239.0),\n",
            "\u001b[92mINFO \u001b[0m:      \t                (81, 25259239.0),\n",
            "\u001b[92mINFO \u001b[0m:      \t                (82, 25259239.0),\n",
            "\u001b[92mINFO \u001b[0m:      \t                (83, 25259239.0),\n",
            "\u001b[92mINFO \u001b[0m:      \t                (84, 25259239.0),\n",
            "\u001b[92mINFO \u001b[0m:      \t                (85, 25259239.0),\n",
            "\u001b[92mINFO \u001b[0m:      \t                (86, 25259239.0),\n",
            "\u001b[92mINFO \u001b[0m:      \t                (87, 25259239.0),\n",
            "\u001b[92mINFO \u001b[0m:      \t                (88, 25259239.0),\n",
            "\u001b[92mINFO \u001b[0m:      \t                (89, 25259239.0),\n",
            "\u001b[92mINFO \u001b[0m:      \t                (90, 25259239.0),\n",
            "\u001b[92mINFO \u001b[0m:      \t                (91, 25259239.0),\n",
            "\u001b[92mINFO \u001b[0m:      \t                (92, 25259239.0),\n",
            "\u001b[92mINFO \u001b[0m:      \t                (93, 25259239.0),\n",
            "\u001b[92mINFO \u001b[0m:      \t                (94, 25259239.0),\n",
            "\u001b[92mINFO \u001b[0m:      \t                (95, 25259239.0),\n",
            "\u001b[92mINFO \u001b[0m:      \t                (96, 25259239.0),\n",
            "\u001b[92mINFO \u001b[0m:      \t                (97, 25259239.0),\n",
            "\u001b[92mINFO \u001b[0m:      \t                (98, 25259239.0),\n",
            "\u001b[92mINFO \u001b[0m:      \t                (99, 25259239.0),\n",
            "\u001b[92mINFO \u001b[0m:      \t                (100, 25259239.0)]}\n",
            "\u001b[92mINFO \u001b[0m:      \tHistory (metrics, distributed, evaluate):\n",
            "\u001b[92mINFO \u001b[0m:      \t{'accuracy': [(1, 0.10749999999999998),\n",
            "\u001b[92mINFO \u001b[0m:      \t              (2, 0.0895),\n",
            "\u001b[92mINFO \u001b[0m:      \t              (3, 0.101),\n",
            "\u001b[92mINFO \u001b[0m:      \t              (4, 0.09500000000000001),\n",
            "\u001b[92mINFO \u001b[0m:      \t              (5, 0.1055),\n",
            "\u001b[92mINFO \u001b[0m:      \t              (6, 0.095),\n",
            "\u001b[92mINFO \u001b[0m:      \t              (7, 0.0895),\n",
            "\u001b[92mINFO \u001b[0m:      \t              (8, 0.101),\n",
            "\u001b[92mINFO \u001b[0m:      \t              (9, 0.08750000000000001),\n",
            "\u001b[92mINFO \u001b[0m:      \t              (10, 0.09),\n",
            "\u001b[92mINFO \u001b[0m:      \t              (11, 0.09),\n",
            "\u001b[92mINFO \u001b[0m:      \t              (12, 0.10899999999999999),\n",
            "\u001b[92mINFO \u001b[0m:      \t              (13, 0.095),\n",
            "\u001b[92mINFO \u001b[0m:      \t              (14, 0.095),\n",
            "\u001b[92mINFO \u001b[0m:      \t              (15, 0.11549999999999999),\n",
            "\u001b[92mINFO \u001b[0m:      \t              (16, 0.14),\n",
            "\u001b[92mINFO \u001b[0m:      \t              (17, 0.118),\n",
            "\u001b[92mINFO \u001b[0m:      \t              (18, 0.1265),\n",
            "\u001b[92mINFO \u001b[0m:      \t              (19, 0.14150000000000001),\n",
            "\u001b[92mINFO \u001b[0m:      \t              (20, 0.1375),\n",
            "\u001b[92mINFO \u001b[0m:      \t              (21, 0.1065),\n",
            "\u001b[92mINFO \u001b[0m:      \t              (22, 0.137),\n",
            "\u001b[92mINFO \u001b[0m:      \t              (23, 0.128),\n",
            "\u001b[92mINFO \u001b[0m:      \t              (24, 0.1525),\n",
            "\u001b[92mINFO \u001b[0m:      \t              (25, 0.15050000000000002),\n",
            "\u001b[92mINFO \u001b[0m:      \t              (26, 0.1405),\n",
            "\u001b[92mINFO \u001b[0m:      \t              (27, 0.1345),\n",
            "\u001b[92mINFO \u001b[0m:      \t              (28, 0.14550000000000002),\n",
            "\u001b[92mINFO \u001b[0m:      \t              (29, 0.16),\n",
            "\u001b[92mINFO \u001b[0m:      \t              (30, 0.1555),\n",
            "\u001b[92mINFO \u001b[0m:      \t              (31, 0.139),\n",
            "\u001b[92mINFO \u001b[0m:      \t              (32, 0.1495),\n",
            "\u001b[92mINFO \u001b[0m:      \t              (33, 0.1495),\n",
            "\u001b[92mINFO \u001b[0m:      \t              (34, 0.1765),\n",
            "\u001b[92mINFO \u001b[0m:      \t              (35, 0.1675),\n",
            "\u001b[92mINFO \u001b[0m:      \t              (36, 0.165),\n",
            "\u001b[92mINFO \u001b[0m:      \t              (37, 0.17850000000000002),\n",
            "\u001b[92mINFO \u001b[0m:      \t              (38, 0.1175),\n",
            "\u001b[92mINFO \u001b[0m:      \t              (39, 0.1705),\n",
            "\u001b[92mINFO \u001b[0m:      \t              (40, 0.1855),\n",
            "\u001b[92mINFO \u001b[0m:      \t              (41, 0.1785),\n",
            "\u001b[92mINFO \u001b[0m:      \t              (42, 0.164),\n",
            "\u001b[92mINFO \u001b[0m:      \t              (43, 0.1795),\n",
            "\u001b[92mINFO \u001b[0m:      \t              (44, 0.16599999999999998),\n",
            "\u001b[92mINFO \u001b[0m:      \t              (45, 0.1045),\n",
            "\u001b[92mINFO \u001b[0m:      \t              (46, 0.192),\n",
            "\u001b[92mINFO \u001b[0m:      \t              (47, 0.1365),\n",
            "\u001b[92mINFO \u001b[0m:      \t              (48, 0.1335),\n",
            "\u001b[92mINFO \u001b[0m:      \t              (49, 0.1185),\n",
            "\u001b[92mINFO \u001b[0m:      \t              (50, 0.1405),\n",
            "\u001b[92mINFO \u001b[0m:      \t              (51, 0.162),\n",
            "\u001b[92mINFO \u001b[0m:      \t              (52, 0.16149999999999998),\n",
            "\u001b[92mINFO \u001b[0m:      \t              (53, 0.1755),\n",
            "\u001b[92mINFO \u001b[0m:      \t              (54, 0.1355),\n",
            "\u001b[92mINFO \u001b[0m:      \t              (55, 0.14),\n",
            "\u001b[92mINFO \u001b[0m:      \t              (56, 0.159),\n",
            "\u001b[92mINFO \u001b[0m:      \t              (57, 0.1935),\n",
            "\u001b[92mINFO \u001b[0m:      \t              (58, 0.1955),\n",
            "\u001b[92mINFO \u001b[0m:      \t              (59, 0.1535),\n",
            "\u001b[92mINFO \u001b[0m:      \t              (60, 0.1865),\n",
            "\u001b[92mINFO \u001b[0m:      \t              (61, 0.186),\n",
            "\u001b[92mINFO \u001b[0m:      \t              (62, 0.1345),\n",
            "\u001b[92mINFO \u001b[0m:      \t              (63, 0.159),\n",
            "\u001b[92mINFO \u001b[0m:      \t              (64, 0.15650000000000003),\n",
            "\u001b[92mINFO \u001b[0m:      \t              (65, 0.13),\n",
            "\u001b[92mINFO \u001b[0m:      \t              (66, 0.1295),\n",
            "\u001b[92mINFO \u001b[0m:      \t              (67, 0.17650000000000002),\n",
            "\u001b[92mINFO \u001b[0m:      \t              (68, 0.169),\n",
            "\u001b[92mINFO \u001b[0m:      \t              (69, 0.1355),\n",
            "\u001b[92mINFO \u001b[0m:      \t              (70, 0.151),\n",
            "\u001b[92mINFO \u001b[0m:      \t              (71, 0.21899999999999997),\n",
            "\u001b[92mINFO \u001b[0m:      \t              (72, 0.15000000000000002),\n",
            "\u001b[92mINFO \u001b[0m:      \t              (73, 0.192),\n",
            "\u001b[92mINFO \u001b[0m:      \t              (74, 0.2205),\n",
            "\u001b[92mINFO \u001b[0m:      \t              (75, 0.21699999999999997),\n",
            "\u001b[92mINFO \u001b[0m:      \t              (76, 0.1785),\n",
            "\u001b[92mINFO \u001b[0m:      \t              (77, 0.208),\n",
            "\u001b[92mINFO \u001b[0m:      \t              (78, 0.253),\n",
            "\u001b[92mINFO \u001b[0m:      \t              (79, 0.18200000000000002),\n",
            "\u001b[92mINFO \u001b[0m:      \t              (80, 0.22999999999999998),\n",
            "\u001b[92mINFO \u001b[0m:      \t              (81, 0.22849999999999998),\n",
            "\u001b[92mINFO \u001b[0m:      \t              (82, 0.2425),\n",
            "\u001b[92mINFO \u001b[0m:      \t              (83, 0.2235),\n",
            "\u001b[92mINFO \u001b[0m:      \t              (84, 0.2495),\n",
            "\u001b[92mINFO \u001b[0m:      \t              (85, 0.2345),\n",
            "\u001b[92mINFO \u001b[0m:      \t              (86, 0.2485),\n",
            "\u001b[92mINFO \u001b[0m:      \t              (87, 0.25),\n",
            "\u001b[92mINFO \u001b[0m:      \t              (88, 0.2355),\n",
            "\u001b[92mINFO \u001b[0m:      \t              (89, 0.25),\n",
            "\u001b[92mINFO \u001b[0m:      \t              (90, 0.251),\n",
            "\u001b[92mINFO \u001b[0m:      \t              (91, 0.2565),\n",
            "\u001b[92mINFO \u001b[0m:      \t              (92, 0.23299999999999998),\n",
            "\u001b[92mINFO \u001b[0m:      \t              (93, 0.2355),\n",
            "\u001b[92mINFO \u001b[0m:      \t              (94, 0.23049999999999998),\n",
            "\u001b[92mINFO \u001b[0m:      \t              (95, 0.2195),\n",
            "\u001b[92mINFO \u001b[0m:      \t              (96, 0.24),\n",
            "\u001b[92mINFO \u001b[0m:      \t              (97, 0.2565),\n",
            "\u001b[92mINFO \u001b[0m:      \t              (98, 0.2615),\n",
            "\u001b[92mINFO \u001b[0m:      \t              (99, 0.22599999999999998),\n",
            "\u001b[92mINFO \u001b[0m:      \t              (100, 0.244)]}\n",
            "\u001b[92mINFO \u001b[0m:      \tHistory (metrics, centralized):\n",
            "\u001b[92mINFO \u001b[0m:      \t{'accuracy': [(0, 0.0715),\n",
            "\u001b[92mINFO \u001b[0m:      \t              (1, 0.1),\n",
            "\u001b[92mINFO \u001b[0m:      \t              (2, 0.1),\n",
            "\u001b[92mINFO \u001b[0m:      \t              (3, 0.1),\n",
            "\u001b[92mINFO \u001b[0m:      \t              (4, 0.1),\n",
            "\u001b[92mINFO \u001b[0m:      \t              (5, 0.1),\n",
            "\u001b[92mINFO \u001b[0m:      \t              (6, 0.1),\n",
            "\u001b[92mINFO \u001b[0m:      \t              (7, 0.1),\n",
            "\u001b[92mINFO \u001b[0m:      \t              (8, 0.1),\n",
            "\u001b[92mINFO \u001b[0m:      \t              (9, 0.0933),\n",
            "\u001b[92mINFO \u001b[0m:      \t              (10, 0.1),\n",
            "\u001b[92mINFO \u001b[0m:      \t              (11, 0.1),\n",
            "\u001b[92mINFO \u001b[0m:      \t              (12, 0.1118),\n",
            "\u001b[92mINFO \u001b[0m:      \t              (13, 0.1),\n",
            "\u001b[92mINFO \u001b[0m:      \t              (14, 0.1),\n",
            "\u001b[92mINFO \u001b[0m:      \t              (15, 0.1124),\n",
            "\u001b[92mINFO \u001b[0m:      \t              (16, 0.1331),\n",
            "\u001b[92mINFO \u001b[0m:      \t              (17, 0.1099),\n",
            "\u001b[92mINFO \u001b[0m:      \t              (18, 0.1472),\n",
            "\u001b[92mINFO \u001b[0m:      \t              (19, 0.1603),\n",
            "\u001b[92mINFO \u001b[0m:      \t              (20, 0.1456),\n",
            "\u001b[92mINFO \u001b[0m:      \t              (21, 0.1156),\n",
            "\u001b[92mINFO \u001b[0m:      \t              (22, 0.1533),\n",
            "\u001b[92mINFO \u001b[0m:      \t              (23, 0.1464),\n",
            "\u001b[92mINFO \u001b[0m:      \t              (24, 0.1661),\n",
            "\u001b[92mINFO \u001b[0m:      \t              (25, 0.1451),\n",
            "\u001b[92mINFO \u001b[0m:      \t              (26, 0.1526),\n",
            "\u001b[92mINFO \u001b[0m:      \t              (27, 0.1483),\n",
            "\u001b[92mINFO \u001b[0m:      \t              (28, 0.1579),\n",
            "\u001b[92mINFO \u001b[0m:      \t              (29, 0.1701),\n",
            "\u001b[92mINFO \u001b[0m:      \t              (30, 0.1641),\n",
            "\u001b[92mINFO \u001b[0m:      \t              (31, 0.1497),\n",
            "\u001b[92mINFO \u001b[0m:      \t              (32, 0.1499),\n",
            "\u001b[92mINFO \u001b[0m:      \t              (33, 0.1602),\n",
            "\u001b[92mINFO \u001b[0m:      \t              (34, 0.1811),\n",
            "\u001b[92mINFO \u001b[0m:      \t              (35, 0.1717),\n",
            "\u001b[92mINFO \u001b[0m:      \t              (36, 0.1724),\n",
            "\u001b[92mINFO \u001b[0m:      \t              (37, 0.1782),\n",
            "\u001b[92mINFO \u001b[0m:      \t              (38, 0.11),\n",
            "\u001b[92mINFO \u001b[0m:      \t              (39, 0.1792),\n",
            "\u001b[92mINFO \u001b[0m:      \t              (40, 0.1925),\n",
            "\u001b[92mINFO \u001b[0m:      \t              (41, 0.1852),\n",
            "\u001b[92mINFO \u001b[0m:      \t              (42, 0.1714),\n",
            "\u001b[92mINFO \u001b[0m:      \t              (43, 0.1969),\n",
            "\u001b[92mINFO \u001b[0m:      \t              (44, 0.1662),\n",
            "\u001b[92mINFO \u001b[0m:      \t              (45, 0.1091),\n",
            "\u001b[92mINFO \u001b[0m:      \t              (46, 0.1907),\n",
            "\u001b[92mINFO \u001b[0m:      \t              (47, 0.1177),\n",
            "\u001b[92mINFO \u001b[0m:      \t              (48, 0.115),\n",
            "\u001b[92mINFO \u001b[0m:      \t              (49, 0.1071),\n",
            "\u001b[92mINFO \u001b[0m:      \t              (50, 0.1328),\n",
            "\u001b[92mINFO \u001b[0m:      \t              (51, 0.1442),\n",
            "\u001b[92mINFO \u001b[0m:      \t              (52, 0.1582),\n",
            "\u001b[92mINFO \u001b[0m:      \t              (53, 0.1706),\n",
            "\u001b[92mINFO \u001b[0m:      \t              (54, 0.1214),\n",
            "\u001b[92mINFO \u001b[0m:      \t              (55, 0.1402),\n",
            "\u001b[92mINFO \u001b[0m:      \t              (56, 0.1412),\n",
            "\u001b[92mINFO \u001b[0m:      \t              (57, 0.1909),\n",
            "\u001b[92mINFO \u001b[0m:      \t              (58, 0.1844),\n",
            "\u001b[92mINFO \u001b[0m:      \t              (59, 0.1405),\n",
            "\u001b[92mINFO \u001b[0m:      \t              (60, 0.1893),\n",
            "\u001b[92mINFO \u001b[0m:      \t              (61, 0.1831),\n",
            "\u001b[92mINFO \u001b[0m:      \t              (62, 0.1394),\n",
            "\u001b[92mINFO \u001b[0m:      \t              (63, 0.1463),\n",
            "\u001b[92mINFO \u001b[0m:      \t              (64, 0.1407),\n",
            "\u001b[92mINFO \u001b[0m:      \t              (65, 0.1358),\n",
            "\u001b[92mINFO \u001b[0m:      \t              (66, 0.1231),\n",
            "\u001b[92mINFO \u001b[0m:      \t              (67, 0.1641),\n",
            "\u001b[92mINFO \u001b[0m:      \t              (68, 0.1738),\n",
            "\u001b[92mINFO \u001b[0m:      \t              (69, 0.1351),\n",
            "\u001b[92mINFO \u001b[0m:      \t              (70, 0.1457),\n",
            "\u001b[92mINFO \u001b[0m:      \t              (71, 0.2189),\n",
            "\u001b[92mINFO \u001b[0m:      \t              (72, 0.1421),\n",
            "\u001b[92mINFO \u001b[0m:      \t              (73, 0.2027),\n",
            "\u001b[92mINFO \u001b[0m:      \t              (74, 0.2281),\n",
            "\u001b[92mINFO \u001b[0m:      \t              (75, 0.2168),\n",
            "\u001b[92mINFO \u001b[0m:      \t              (76, 0.1796),\n",
            "\u001b[92mINFO \u001b[0m:      \t              (77, 0.2128),\n",
            "\u001b[92mINFO \u001b[0m:      \t              (78, 0.2567),\n",
            "\u001b[92mINFO \u001b[0m:      \t              (79, 0.1834),\n",
            "\u001b[92mINFO \u001b[0m:      \t              (80, 0.2378),\n",
            "\u001b[92mINFO \u001b[0m:      \t              (81, 0.2349),\n",
            "\u001b[92mINFO \u001b[0m:      \t              (82, 0.2441),\n",
            "\u001b[92mINFO \u001b[0m:      \t              (83, 0.2373),\n",
            "\u001b[92mINFO \u001b[0m:      \t              (84, 0.2545),\n",
            "\u001b[92mINFO \u001b[0m:      \t              (85, 0.2404),\n",
            "\u001b[92mINFO \u001b[0m:      \t              (86, 0.2486),\n",
            "\u001b[92mINFO \u001b[0m:      \t              (87, 0.2699),\n",
            "\u001b[92mINFO \u001b[0m:      \t              (88, 0.2459),\n",
            "\u001b[92mINFO \u001b[0m:      \t              (89, 0.2677),\n",
            "\u001b[92mINFO \u001b[0m:      \t              (90, 0.2677),\n",
            "\u001b[92mINFO \u001b[0m:      \t              (91, 0.2791),\n",
            "\u001b[92mINFO \u001b[0m:      \t              (92, 0.2532),\n",
            "\u001b[92mINFO \u001b[0m:      \t              (93, 0.247),\n",
            "\u001b[92mINFO \u001b[0m:      \t              (94, 0.2571),\n",
            "\u001b[92mINFO \u001b[0m:      \t              (95, 0.2433),\n",
            "\u001b[92mINFO \u001b[0m:      \t              (96, 0.2588),\n",
            "\u001b[92mINFO \u001b[0m:      \t              (97, 0.2764),\n",
            "\u001b[92mINFO \u001b[0m:      \t              (98, 0.2761),\n",
            "\u001b[92mINFO \u001b[0m:      \t              (99, 0.2463),\n",
            "\u001b[92mINFO \u001b[0m:      \t              (100, 0.259)]}\n",
            "\u001b[92mINFO \u001b[0m:      \n"
          ]
        },
        {
          "name": "stdout",
          "output_type": "stream",
          "text": [
            "Metrics logged\n"
          ]
        }
      ],
      "source": [
        "\n",
        "for pruning_rate in np.arange(0.95, 1.0, 0.04):\n",
        "    print(f\"Running simulation with pruning rate: {pruning_rate}\")\n",
        "\n",
        "    def client_fn(cid) -> FlowerClient:\n",
        "        net = ResNet12(num_classes=10).to(DEVICE)\n",
        "        trainloader = trainloaders[int(cid)]\n",
        "        valloader = valloaders[int(cid)]\n",
        "        return FlowerClient(cid, net, trainloader, valloader, pruning_rate)\n",
        "\n",
        "    history = fl.simulation.start_simulation(\n",
        "        strategy=strategy,\n",
        "        client_fn=client_fn,\n",
        "        num_clients=4,\n",
        "        config=fl.server.ServerConfig(num_rounds=100),\n",
        "        client_resources=client_resources,\n",
        "    )\n",
        "\n",
        "    # Collect the metrics\n",
        "    log_entry = {\n",
        "        \"pruning_rate\": pruning_rate,\n",
        "        \"history_loss_distributed\": history.losses_distributed,\n",
        "        \"history_loss_centralized\": history.losses_centralized,\n",
        "        \"history_metrics_distributed_fit\": history.metrics_distributed_fit,\n",
        "        \"history_metrics_distributed_evaluate\": history.metrics_distributed,\n",
        "        \"history_metrics_centralized\": history.metrics_centralized\n",
        "    }\n",
        "    log_data.append(log_entry)\n",
        "\n",
        "    # Write the collected log data to the JSON file\n",
        "    with open('CIFAR10_ResNet12_Unstructured_baseline.json', 'w') as f:\n",
        "        json.dump(log_data, f, indent=4)\n",
        "\n",
        "print(\"Metrics logged\")\n"
      ]
    }
  ],
  "metadata": {
    "colab": {
      "provenance": [],
      "toc_visible": true
    },
    "kernelspec": {
      "display_name": "Python 3",
      "name": "python3"
    },
    "language_info": {
      "codemirror_mode": {
        "name": "ipython",
        "version": 3
      },
      "file_extension": ".py",
      "mimetype": "text/x-python",
      "name": "python",
      "nbconvert_exporter": "python",
      "pygments_lexer": "ipython3",
      "version": "3.10.12"
    }
  },
  "nbformat": 4,
  "nbformat_minor": 0
}
