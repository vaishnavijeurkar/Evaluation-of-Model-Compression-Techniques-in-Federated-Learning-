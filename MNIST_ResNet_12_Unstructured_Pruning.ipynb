{
  "cells": [
    {
      "cell_type": "code",
      "execution_count": 1,
      "metadata": {
        "colab": {
          "base_uri": "https://localhost:8080/"
        },
        "id": "DrcEK6PCaTYA",
        "outputId": "c2bc2d09-04a3-4973-a453-49582bf21001"
      },
      "outputs": [],
      "source": [
        "# depending on your shell, you might need to add `\\` before `[` and `]`.\n",
        "#!pip install -q flwr[simulation]\n",
        "#!pip install flwr_datasets[vision]"
      ]
    },
    {
      "cell_type": "markdown",
      "metadata": {
        "id": "Jg8kmgAuaTYA"
      },
      "source": [
        "We will be using the _simulation_ mode in Flower, which allows you to run a large number of clients without the overheads of manually managing devices. This is achieved via the [Virtual Client Engine](https://flower.ai/docs/framework/how-to-run-simulations.html) in Flower. With simulation, you can dynamically scale your experiments whether you run the code on your laptop, a machine with a single GPU, a server with multiple GPUs os even on a cluster with multiple servers. The `Virtual Client Engine` handles everything transparently and it allows you to specify how many resources (e.g. CPU cores, GPU VRAM) should be assigned to each virtual client."
      ]
    },
    {
      "cell_type": "markdown",
      "metadata": {
        "id": "f7Cpvms8aTYA"
      },
      "source": [
        "\n",
        "Flower is agnostic to your choice of ML Framework. Flower works with `PyTorch`, `Tensorflow`, `NumPy`, `🤗 Transformers`, `MXNet`, `JAX`, `scikit-learn`, `fastai`, `Pandas`. Flower also supports all major platforms: `iOS`, `Android` and plain `C++`. You can find a _quickstart-_ example for each of the above in the [Flower Repository](https://github.com/adap/flower/tree/main/examples) inside the `examples/` directory.\n",
        "\n",
        "In this tutorial we are going to use PyTorch, it comes pre-installed in your Collab runtime so there is no need to installed it again. If you wouuld like to install another version, you can still do that in the same way other packages are installed via `!pip`"
      ]
    },
    {
      "cell_type": "markdown",
      "metadata": {
        "id": "V6yThh8saTYB"
      },
      "source": [
        "We are going to install some other dependencies you are likely familiar with. Let's install `maplotlib` to plot our results at the end."
      ]
    },
    {
      "cell_type": "markdown",
      "metadata": {
        "id": "Lho9g6-OaTYB"
      },
      "source": [
        "# Preparing the experiment\n",
        "\n",
        "This tutorial is not so much about novel architectural designs so we keep things simple and make use of a typical CNN that is adequate for the MNIST image classification task.\n",
        "\n"
      ]
    },
    {
      "cell_type": "code",
      "execution_count": 2,
      "metadata": {
        "id": "Zu3bXdKJaTYB"
      },
      "outputs": [],
      "source": [
        "import torch\n",
        "import torch.nn as nn\n",
        "import torch.nn.functional as F\n",
        "\n",
        "class BasicBlock(nn.Module):\n",
        "    def __init__(self, in_channels, out_channels, stride=1):\n",
        "        super(BasicBlock, self).__init__()\n",
        "        self.conv1 = nn.Conv2d(in_channels, out_channels, kernel_size=3, stride=stride, padding=1, bias=False)\n",
        "        self.bn1 = nn.BatchNorm2d(out_channels)\n",
        "        self.conv2 = nn.Conv2d(out_channels, out_channels, kernel_size=3, stride=1, padding=1, bias=False)\n",
        "        self.bn2 = nn.BatchNorm2d(out_channels)\n",
        "        self.shortcut = nn.Sequential()\n",
        "        if stride != 1 or in_channels != out_channels:\n",
        "            self.shortcut = nn.Sequential(\n",
        "                nn.Conv2d(in_channels, out_channels, kernel_size=1, stride=stride, bias=False),\n",
        "                nn.BatchNorm2d(out_channels)\n",
        "            )\n",
        "\n",
        "    def forward(self, x):\n",
        "        out = F.relu(self.bn1(self.conv1(x)))\n",
        "        out = self.bn2(self.conv2(out))\n",
        "        out += self.shortcut(x)\n",
        "        out = F.relu(out)\n",
        "        return out\n",
        "\n",
        "class ResNet12(nn.Module):\n",
        "    def __init__(self, num_classes=10):\n",
        "        super(ResNet12, self).__init__()\n",
        "        self.in_channels = 64\n",
        "        self.conv1 = nn.Conv2d(1, 64, kernel_size=3, stride=1, padding=1, bias=False)  # Change input channels from 3 to 1\n",
        "        self.bn1 = nn.BatchNorm2d(64)\n",
        "        self.layer1 = self._make_layer(64, 3, stride=1)\n",
        "        self.layer2 = self._make_layer(128, 3, stride=2)\n",
        "        self.layer3 = self._make_layer(256, 3, stride=2)\n",
        "        self.layer4 = self._make_layer(512, 3, stride=2)\n",
        "        self.linear = nn.Linear(512, num_classes)\n",
        "\n",
        "    def _make_layer(self, out_channels, blocks, stride):\n",
        "        layers = []\n",
        "        layers.append(BasicBlock(self.in_channels, out_channels, stride))\n",
        "        self.in_channels = out_channels\n",
        "        for _ in range(1, blocks):\n",
        "            layers.append(BasicBlock(self.in_channels, out_channels))\n",
        "        return nn.Sequential(*layers)\n",
        "\n",
        "    def forward(self, x):\n",
        "        out = F.relu(self.bn1(self.conv1(x)))\n",
        "        out = self.layer1(out)\n",
        "        out = self.layer2(out)\n",
        "        out = self.layer3(out)\n",
        "        out = self.layer4(out)\n",
        "        out = F.avg_pool2d(out, 4)\n",
        "        out = out.view(out.size(0), -1)\n",
        "        out = self.linear(out)\n",
        "        return out\n"
      ]
    },
    {
      "cell_type": "markdown",
      "metadata": {
        "id": "NcqBEnfwaTYB"
      },
      "source": [
        "We'll be training the model in a Federated setting. In order to do that, we need to define two functions:\n",
        "\n",
        "* `train()` that will train the model given a dataloader.\n",
        "* `test()` that will be used to evaluate the performance of the model on held-out data, e.g., a training set."
      ]
    },
    {
      "cell_type": "code",
      "execution_count": 3,
      "metadata": {
        "id": "iT-OgTmfaTYC"
      },
      "outputs": [
        {
          "name": "stderr",
          "output_type": "stream",
          "text": [
            "/home/vaishnavi/.local/lib/python3.10/site-packages/tqdm/auto.py:21: TqdmWarning: IProgress not found. Please update jupyter and ipywidgets. See https://ipywidgets.readthedocs.io/en/stable/user_install.html\n",
            "  from .autonotebook import tqdm as notebook_tqdm\n",
            "2024-07-22 22:17:28,947\tINFO util.py:154 -- Missing packages: ['ipywidgets']. Run `pip install -U ipywidgets`, then restart the notebook server for rich notebook output.\n"
          ]
        }
      ],
      "source": [
        "import flwr as fl"
      ]
    },
    {
      "cell_type": "code",
      "execution_count": 4,
      "metadata": {
        "colab": {
          "base_uri": "https://localhost:8080/"
        },
        "id": "EKgaF_RdaTYB",
        "outputId": "4b6506c6-afed-49ae-dd2a-c6d30451bc94"
      },
      "outputs": [
        {
          "name": "stdout",
          "output_type": "stream",
          "text": [
            "Training on cpu using PyTorch 2.3.1+cu121 and Flower 1.9.0\n"
          ]
        }
      ],
      "source": [
        "DEVICE = torch.device(\"cpu\")  # Try \"cuda\" to train on GPU\n",
        "print(\n",
        "    f\"Training on {DEVICE} using PyTorch {torch.__version__} and Flower {fl.__version__}\"\n",
        ")\n",
        "def train(net, trainloader, epochs):\n",
        "    \"\"\"Train the network on the training set.\"\"\"\n",
        "    criterion = torch.nn.CrossEntropyLoss()\n",
        "    optim = torch.optim.SGD(net.parameters(), lr=0.01, momentum=0.9)\n",
        "    net.train()\n",
        "    for _ in range(epochs):\n",
        "        for batch in trainloader:\n",
        "            images, labels = batch[\"image\"].to(DEVICE), batch[\"label\"].to(DEVICE)\n",
        "            optim.zero_grad()\n",
        "            loss = criterion(net(images), labels)\n",
        "            loss.backward()\n",
        "            optim.step()\n",
        "\n",
        "\n",
        "def test(net, testloader):\n",
        "    \"\"\"Validate the network on the entire test set.\"\"\"\n",
        "    criterion = torch.nn.CrossEntropyLoss()\n",
        "    correct, loss = 0, 0.0\n",
        "    net.eval()\n",
        "    with torch.no_grad():\n",
        "        for data in testloader:\n",
        "            images, labels = data[\"image\"].to(DEVICE), data[\"label\"].to(DEVICE)\n",
        "            outputs = net(images)\n",
        "            loss += criterion(outputs, labels).item()\n",
        "            _, predicted = torch.max(outputs.data, 1)\n",
        "            correct += (predicted == labels).sum().item()\n",
        "    accuracy = correct / len(testloader.dataset)\n",
        "    return loss, accuracy"
      ]
    },
    {
      "cell_type": "markdown",
      "metadata": {
        "id": "J6p0shiiaTYB"
      },
      "source": [
        "The code we have written so far is not specific to Federated Learning. Then, what are the key differences between Federated Learning and Centralised Training? If you could only pick you, probably you'd say:\n",
        "* Federated Learning is distributed -- the model is trained on-device by the participating clients.\n",
        "* Data remains private and is owned by a specific _client_ -- the data is never sent to the central server.\n",
        "\n",
        "The are several more differences. But the above two are the main ones to always consider and that are common to all flavours of Federated Learning (e.g. _cross-device_ or _cross-silo_). The remaining of this tutorial is going to focus in transforming the code we have written so far for the centralised setting and construct a Federated Learning pipeline using Flower and PyTorch.\n",
        "\n",
        "Let's begin! 🚀"
      ]
    },
    {
      "cell_type": "markdown",
      "metadata": {
        "id": "0-4xaxyJaTYC"
      },
      "source": [
        "## One Client, One Data Partition\n",
        "\n",
        "To start designing a Federated Learning pipeline we need to meet one of the key properties in FL: each client has its own data partition. To accomplish this with the MNIST dataset, we are going to generate N random partitions, where N is the total number of clients in our FL system.\n",
        "\n",
        "We can use [Flower Datasets](https://flower.ai/docs/datasets/) to effortlessly obtain an off-the-shelf partitioned dataset or partition one that isn't pre-partitioned. Let's choose MNIST."
      ]
    },
    {
      "cell_type": "code",
      "execution_count": 5,
      "metadata": {
        "colab": {
          "base_uri": "https://localhost:8080/"
        },
        "id": "5Cp0TfJHaTYC",
        "outputId": "92a09663-a1c5-46f6-f4ee-044e92ac9a91"
      },
      "outputs": [
        {
          "name": "stderr",
          "output_type": "stream",
          "text": [
            "/home/vaishnavi/.local/lib/python3.10/site-packages/datasets/load.py:1491: FutureWarning: The repository for mnist contains custom code which must be executed to correctly load the dataset. You can inspect the repository content at https://hf.co/datasets/mnist\n",
            "You can avoid this message in future by passing the argument `trust_remote_code=True`.\n",
            "Passing `trust_remote_code=True` will be mandatory to load this dataset from the next major release of `datasets`.\n",
            "  warnings.warn(\n"
          ]
        }
      ],
      "source": [
        "from datasets import Dataset\n",
        "from flwr_datasets import FederatedDataset\n",
        "from datasets.utils.logging import disable_progress_bar\n",
        "\n",
        "# Let's set a simulation involving a total of 100 clients\n",
        "NUM_CLIENTS = 100\n",
        "\n",
        "# Download MNIST dataset and partition the \"train\" partition (so one can be assigned to each client)\n",
        "mnist_fds = FederatedDataset(dataset=\"mnist\", partitioners={\"train\": NUM_CLIENTS})\n",
        "# Let's keep the test set as is, and use it to evaluate the global model on the server\n",
        "centralized_testset = mnist_fds.load_split(\"test\")"
      ]
    },
    {
      "cell_type": "markdown",
      "metadata": {
        "id": "6kcx7gkNaTYC"
      },
      "source": [
        "Let's create a function that returns a set of transforms to apply to our images"
      ]
    },
    {
      "cell_type": "code",
      "execution_count": 6,
      "metadata": {
        "colab": {
          "base_uri": "https://localhost:8080/"
        },
        "id": "vP4bJ-2UaTYC",
        "outputId": "fe9a07bc-52be-469a-9ec6-2e06fc3b5782"
      },
      "outputs": [],
      "source": [
        "from torchvision.transforms import ToTensor, Normalize, Compose\n",
        "\n",
        "\n",
        "def apply_transforms(batch):\n",
        "    \"\"\"Get transformation for MNIST dataset\"\"\"\n",
        "\n",
        "    # transformation to convert images to tensors and apply normalization\n",
        "    transforms = Compose([ToTensor(), Normalize((0.1307,), (0.3081,))])\n",
        "    batch[\"image\"] = [transforms(img) for img in batch[\"image\"]]\n",
        "    return batch"
      ]
    },
    {
      "cell_type": "markdown",
      "metadata": {
        "id": "wHZPfiyAaTYC"
      },
      "source": [
        "Let's next define how our FL clients will behave.\n",
        "\n",
        "## Defining a Flower Client\n",
        "\n",
        "You can think of a client in FL as an entity that owns some data and trains a model using this data. The caveat is that the model is being trained _collaboratively_ in Federation by multiple clients (sometimes up to hundreds of thousands) and, in most instances of FL, is sent by a central server.\n",
        "\n",
        "A Flower Client is a simple Python class with four distinct methods:\n",
        "\n",
        "* `fit()`: With this method, the client does on-device training for a number of epochs using its own data. At the end, the resulting model is sent back to the server for aggregation.\n",
        "\n",
        "* `evaluate()`: With this method, the server can evaluate the performance of the global model on the local validation set of a client. This can be used for instance when there is no centralised dataset on the server for validation/test. Also, this method can be use to asses the degree of personalisation of the model being federated.\n",
        "\n",
        "* `set_parameters()`: This method takes the parameters sent by the server and uses them to initialise the parameters of the local model that is ML framework specific (e.g. TF, Pytorch, etc).\n",
        "\n",
        "* `get_parameters()`: It extract the parameters from the local model and transforms them into a list of NumPy arrays. This ML framework-agnostic representation of the model will be sent to the server.\n",
        "\n",
        "Let's start by importing Flower!"
      ]
    },
    {
      "cell_type": "markdown",
      "metadata": {
        "id": "CyDFGmetaTYC"
      },
      "source": [
        "Now let's defice our Flower Client class:"
      ]
    },
    {
      "cell_type": "code",
      "execution_count": 7,
      "metadata": {
        "id": "xAd77Whyb4cL"
      },
      "outputs": [],
      "source": [
        "import torch\n",
        "import torch.nn.utils.prune as prune\n",
        "\n",
        "def prune_model_unstructured(model, pruning_method, **kwargs):\n",
        "    # Collect the parameters to prune\n",
        "    parameters_to_prune = []\n",
        "    for name, module in model.named_modules():\n",
        "        if isinstance(module, torch.nn.Conv2d) or isinstance(module, torch.nn.Linear):\n",
        "            parameters_to_prune.append((module, 'weight'))\n",
        "            if module.bias is not None:\n",
        "                parameters_to_prune.append((module, 'bias'))\n",
        "\n",
        "    # Apply global pruning\n",
        "    prune.global_unstructured(\n",
        "        parameters_to_prune,\n",
        "        pruning_method=pruning_method,\n",
        "        **kwargs\n",
        "    )\n",
        "\n",
        "    # Remove pruning reparameterization\n",
        "    for module, param in parameters_to_prune:\n",
        "        prune.remove(module, param)"
      ]
    },
    {
      "cell_type": "code",
      "execution_count": 8,
      "metadata": {
        "id": "ShZkquPSlSqG"
      },
      "outputs": [],
      "source": [
        "from io import BytesIO\n",
        "from typing import cast\n",
        "\n",
        "import numpy as np\n",
        "import scipy\n",
        "\n",
        "from flwr.common.typing import NDArray, NDArrays, Parameters\n",
        "\n",
        "\n",
        "def ndarrays_to_sparse_parameters(ndarrays: NDArrays) -> Parameters:\n",
        "    \"\"\"Convert NumPy ndarrays to parameters object.\"\"\"\n",
        "    tensors = [ndarray_to_sparse_bytes(ndarray) for ndarray in ndarrays]\n",
        "    return Parameters(tensors=tensors, tensor_type=\"numpy.ndarray\")\n",
        "\n",
        "\n",
        "def sparse_parameters_to_ndarrays(parameters: Parameters) -> NDArrays:\n",
        "    \"\"\"Convert parameters object to NumPy ndarrays.\"\"\"\n",
        "    return [sparse_bytes_to_ndarray(tensor) for tensor in parameters.tensors]\n",
        "\n",
        "\n",
        "def ndarray_to_sparse_bytes(ndarray: NDArray) -> bytes:\n",
        "    \"\"\"Serialize NumPy ndarray to bytes.\"\"\"\n",
        "    bytes_io = BytesIO()\n",
        "\n",
        "    if len(ndarray.shape) > 1:\n",
        "        # Flatten higher-dimensional array to 2D\n",
        "        original_shape = ndarray.shape\n",
        "        ndarray = ndarray.reshape(-1, ndarray.shape[-1])\n",
        "\n",
        "        # Convert ndarray to sparse matrix\n",
        "        sparse_matrix = scipy.sparse.csr_matrix(ndarray)\n",
        "\n",
        "        np.savez(\n",
        "            bytes_io,\n",
        "            data=sparse_matrix.data,\n",
        "            indices=sparse_matrix.indices,\n",
        "            indptr=sparse_matrix.indptr,\n",
        "            shape=sparse_matrix.shape,\n",
        "            original_shape=original_shape,  # Store original shape for reshaping\n",
        "            allow_pickle=False,\n",
        "        )\n",
        "    else:\n",
        "        np.save(bytes_io, ndarray, allow_pickle=False)\n",
        "    return bytes_io.getvalue()\n",
        "\n",
        "\n",
        "def sparse_bytes_to_ndarray(tensor: bytes) -> NDArray:\n",
        "    \"\"\"Deserialize NumPy ndarray from bytes.\"\"\"\n",
        "    bytes_io = BytesIO(tensor)\n",
        "    loader = np.load(bytes_io, allow_pickle=False)\n",
        "\n",
        "    if \"indptr\" in loader:\n",
        "        # Convert sparse matrix back to ndarray\n",
        "        sparse_matrix = scipy.sparse.csr_matrix(\n",
        "            (loader[\"data\"], loader[\"indices\"], loader[\"indptr\"]),\n",
        "            shape=loader[\"shape\"]\n",
        "        )\n",
        "        ndarray_deserialized = sparse_matrix.toarray()\n",
        "\n",
        "        # Reshape back to original shape if needed\n",
        "        if \"original_shape\" in loader:\n",
        "            original_shape = loader[\"original_shape\"]\n",
        "            ndarray_deserialized = ndarray_deserialized.reshape(original_shape)\n",
        "    else:\n",
        "        ndarray_deserialized = loader\n",
        "    return cast(NDArray, ndarray_deserialized)"
      ]
    },
    {
      "cell_type": "code",
      "execution_count": 9,
      "metadata": {
        "id": "Po5GZm9gnIu8"
      },
      "outputs": [],
      "source": [
        "from typing import Dict, List, Optional, Tuple\n",
        "from collections import OrderedDict\n",
        "\n",
        "def get_parameters(model: torch.nn.ModuleList) -> List[np.ndarray]:\n",
        "    \"\"\"Get model weights as a list of NumPy ndarrays.\"\"\"\n",
        "    return [val.cpu().numpy() for _, val in model.state_dict().items()]\n",
        "\n",
        "\n",
        "def set_parameters(model: torch.nn.ModuleList, params: List[np.ndarray]):\n",
        "    \"\"\"Set model weights from a list of NumPy ndarrays.\"\"\"\n",
        "    params_dict = zip(model.state_dict().keys(), params)\n",
        "    state_dict = OrderedDict({k: torch.from_numpy(np.copy(v)) for k, v in params_dict})\n",
        "    model.load_state_dict(state_dict, strict=True)"
      ]
    },
    {
      "cell_type": "code",
      "execution_count": 10,
      "metadata": {
        "id": "wsD3zEwAlYdF"
      },
      "outputs": [],
      "source": [
        "from flwr.common import (\n",
        "    Code,\n",
        "    EvaluateIns,\n",
        "    EvaluateRes,\n",
        "    FitIns,\n",
        "    FitRes,\n",
        "    GetParametersIns,\n",
        "    GetParametersRes,\n",
        "    Status,\n",
        ")\n",
        "\n",
        "class FlowerClient(fl.client.Client):\n",
        "    def __init__(self, cid, net, trainloader, valloader, pruning_rate):\n",
        "        self.cid = cid\n",
        "        self.net = net\n",
        "        self.trainloader = trainloader\n",
        "        self.valloader = valloader\n",
        "        self.pruning_rate = pruning_rate\n",
        "\n",
        "    def get_parameters(self, ins: GetParametersIns) -> GetParametersRes:\n",
        "        print(f\"[Client {self.cid}] get_parameters\")\n",
        "\n",
        "        # Get parameters as a list of NumPy ndarray's\n",
        "        ndarrays: List[np.ndarray] = get_parameters(self.net)\n",
        "\n",
        "        # Serialize ndarray's into a Parameters object using our custom function\n",
        "        parameters = ndarrays_to_sparse_parameters(ndarrays)\n",
        "\n",
        "        # Build and return response\n",
        "        status = Status(code=Code.OK, message=\"Success\")\n",
        "        return GetParametersRes(\n",
        "            status=status,\n",
        "            parameters=parameters,\n",
        "        )\n",
        "\n",
        "    def fit(self, ins: FitIns) -> FitRes:\n",
        "        print(f\"[Client {self.cid}] fit, config: {ins.config}\")\n",
        "\n",
        "        # Deserialize parameters to NumPy ndarray's using our custom function\n",
        "        parameters_original = ins.parameters\n",
        "        ndarrays_original = sparse_parameters_to_ndarrays(parameters_original)\n",
        "\n",
        "        # Update local model, train, get updated parameters\n",
        "        set_parameters(self.net, ndarrays_original)\n",
        "        train(self.net, self.trainloader, epochs=1)\n",
        "        pruning_method = torch.nn.utils.prune.L1Unstructured\n",
        "        prune_model_unstructured(self.net, pruning_method, amount=self.pruning_rate)\n",
        "        ndarrays_updated = get_parameters(self.net)\n",
        "\n",
        "        # Serialize ndarray's into a Parameters object using our custom function\n",
        "        parameters_updated = ndarrays_to_sparse_parameters(ndarrays_updated)\n",
        "        # Save the sparse matrix to an .npz file\n",
        "        bytes_sent = sum(len(tensor) for tensor in parameters_updated.tensors)\n",
        "\n",
        "        # Build and return response\n",
        "        status = Status(code=Code.OK, message=\"Success\")\n",
        "        return FitRes(\n",
        "            status=status,\n",
        "            parameters=parameters_updated,\n",
        "            num_examples=len(self.trainloader),\n",
        "            metrics={\"bytes sent\" : bytes_sent},\n",
        "        )\n",
        "\n",
        "    def evaluate(self, ins: EvaluateIns) -> EvaluateRes:\n",
        "        print(f\"[Client {self.cid}] evaluate, config: {ins.config}\")\n",
        "\n",
        "        # Deserialize parameters to NumPy ndarray's using our custom function\n",
        "        parameters_original = ins.parameters\n",
        "        ndarrays_original = sparse_parameters_to_ndarrays(parameters_original)\n",
        "\n",
        "        set_parameters(self.net, ndarrays_original)\n",
        "        loss, accuracy = test(self.net, self.valloader)\n",
        "\n",
        "        # Build and return response\n",
        "        status = Status(code=Code.OK, message=\"Success\")\n",
        "        return EvaluateRes(\n",
        "            status=status,\n",
        "            loss=float(loss),\n",
        "            num_examples=len(self.valloader),\n",
        "            metrics={\"accuracy\": float(accuracy), \"loss\" : float(loss)},\n",
        "        )"
      ]
    },
    {
      "cell_type": "code",
      "execution_count": 11,
      "metadata": {
        "colab": {
          "base_uri": "https://localhost:8080/"
        },
        "id": "xxk51wtHvecb",
        "outputId": "aee32bfc-dd6a-460b-ff62-d480b616c288"
      },
      "outputs": [],
      "source": [
        "def get_evaluate_fn(centralized_testset: Dataset):\n",
        "    \"\"\"This is a function that returns a function. The returned\n",
        "    function (i.e. `evaluate_fn`) will be executed by the strategy\n",
        "    at the end of each round to evaluate the stat of the global\n",
        "    model.\"\"\"\n",
        "\n",
        "    def evaluate_fn(server_round: int, parameters, config):\n",
        "        \"\"\"This function is executed by the strategy it will instantiate\n",
        "        a model and replace its parameters with those from the global model.\n",
        "        The, the model will be evaluate on the test set (recall this is the\n",
        "        whole MNIST test set).\"\"\"\n",
        "\n",
        "        model = ResNet12(num_classes=10)\n",
        "\n",
        "        # Determine device\n",
        "        model.to(DEVICE)  # send model to device\n",
        "\n",
        "        # set parameters to the model\n",
        "        params_dict = zip(model.state_dict().keys(), parameters)\n",
        "        state_dict = OrderedDict({k: torch.from_numpy(np.copy(v)) for k, v in params_dict})\n",
        "        model.load_state_dict(state_dict, strict=True)\n",
        "\n",
        "        # Apply transform to dataset\n",
        "        testset = centralized_testset.with_transform(apply_transforms)\n",
        "\n",
        "        testloader = DataLoader(testset, batch_size=50)\n",
        "        # call test\n",
        "        loss, accuracy = test(model, testloader)\n",
        "        return loss, {\"accuracy\": accuracy}\n",
        "\n",
        "    return evaluate_fn"
      ]
    },
    {
      "cell_type": "code",
      "execution_count": 12,
      "metadata": {
        "id": "AEHRR7zJl0dH"
      },
      "outputs": [],
      "source": [
        "from logging import WARNING\n",
        "from typing import Callable, Dict, List, Optional, Tuple, Union\n",
        "\n",
        "from flwr.common import FitRes, MetricsAggregationFn, NDArrays, Parameters, Scalar\n",
        "from flwr.common.logger import log\n",
        "from flwr.server.client_proxy import ClientProxy\n",
        "from flwr.server.strategy import FedAvg\n",
        "from flwr.server.strategy.aggregate import aggregate\n",
        "\n",
        "WARNING_MIN_AVAILABLE_CLIENTS_TOO_LOW = \"\"\"\n",
        "Setting `min_available_clients` lower than `min_fit_clients` or\n",
        "`min_evaluate_clients` can cause the server to fail when there are too few clients\n",
        "connected to the server. `min_available_clients` must be set to a value larger\n",
        "than or equal to the values of `min_fit_clients` and `min_evaluate_clients`.\n",
        "\"\"\"\n",
        "\n",
        "\n",
        "class FedSparse(FedAvg):\n",
        "    def __init__(\n",
        "        self,\n",
        "        *,\n",
        "        fraction_fit: float = 1.0,\n",
        "        fraction_evaluate: float = 1.0,\n",
        "        min_fit_clients: int = 2,\n",
        "        min_evaluate_clients: int = 2,\n",
        "        min_available_clients: int = 2,\n",
        "        evaluate_fn: Optional[\n",
        "            Callable[\n",
        "                [int, NDArrays, Dict[str, Scalar]],\n",
        "                Optional[Tuple[float, Dict[str, Scalar]]],\n",
        "            ]\n",
        "        ] = None,\n",
        "        on_fit_config_fn: Optional[Callable[[int], Dict[str, Scalar]]] = None,\n",
        "        on_evaluate_config_fn: Optional[Callable[[int], Dict[str, Scalar]]] = None,\n",
        "        accept_failures: bool = True,\n",
        "        initial_parameters: Optional[Parameters] = None,\n",
        "        fit_metrics_aggregation_fn: Optional[MetricsAggregationFn] = None,\n",
        "        evaluate_metrics_aggregation_fn: Optional[MetricsAggregationFn] = None,\n",
        "    ) -> None:\n",
        "        \"\"\"Custom FedAvg strategy with sparse matrices.\n",
        "\n",
        "        Parameters\n",
        "        ----------\n",
        "        fraction_fit : float, optional\n",
        "            Fraction of clients used during training. Defaults to 0.1.\n",
        "        fraction_evaluate : float, optional\n",
        "            Fraction of clients used during validation. Defaults to 0.1.\n",
        "        min_fit_clients : int, optional\n",
        "            Minimum number of clients used during training. Defaults to 2.\n",
        "        min_evaluate_clients : int, optional\n",
        "            Minimum number of clients used during validation. Defaults to 2.\n",
        "        min_available_clients : int, optional\n",
        "            Minimum number of total clients in the system. Defaults to 2.\n",
        "        evaluate_fn : Optional[Callable[[int, NDArrays, Dict[str, Scalar]], Optional[Tuple[float, Dict[str, Scalar]]]]]\n",
        "            Optional function used for validation. Defaults to None.\n",
        "        on_fit_config_fn : Callable[[int], Dict[str, Scalar]], optional\n",
        "            Function used to configure training. Defaults to None.\n",
        "        on_evaluate_config_fn : Callable[[int], Dict[str, Scalar]], optional\n",
        "            Function used to configure validation. Defaults to None.\n",
        "        accept_failures : bool, optional\n",
        "            Whether or not accept rounds containing failures. Defaults to True.\n",
        "        initial_parameters : Parameters, optional\n",
        "            Initial global model parameters.\n",
        "        \"\"\"\n",
        "\n",
        "        if (\n",
        "            min_fit_clients > min_available_clients\n",
        "            or min_evaluate_clients > min_available_clients\n",
        "        ):\n",
        "            log(WARNING, WARNING_MIN_AVAILABLE_CLIENTS_TOO_LOW)\n",
        "\n",
        "        super().__init__(\n",
        "            fraction_fit=fraction_fit,\n",
        "            fraction_evaluate=fraction_evaluate,\n",
        "            min_fit_clients=min_fit_clients,\n",
        "            min_evaluate_clients=min_evaluate_clients,\n",
        "            min_available_clients=min_available_clients,\n",
        "            evaluate_fn=evaluate_fn,\n",
        "            on_fit_config_fn=on_fit_config_fn,\n",
        "            on_evaluate_config_fn=on_evaluate_config_fn,\n",
        "            accept_failures=accept_failures,\n",
        "            initial_parameters=initial_parameters,\n",
        "            fit_metrics_aggregation_fn=fit_metrics_aggregation_fn,\n",
        "            evaluate_metrics_aggregation_fn=evaluate_metrics_aggregation_fn,\n",
        "        )\n",
        "\n",
        "    def evaluate(\n",
        "        self, server_round: int, parameters: Parameters\n",
        "    ) -> Optional[Tuple[float, Dict[str, Scalar]]]:\n",
        "        \"\"\"Evaluate model parameters using an evaluation function.\"\"\"\n",
        "        if self.evaluate_fn is None:\n",
        "            # No evaluation function provided\n",
        "            return None\n",
        "\n",
        "        # We deserialize using our custom method\n",
        "        parameters_ndarrays = sparse_parameters_to_ndarrays(parameters)\n",
        "\n",
        "        eval_res = self.evaluate_fn(server_round, parameters_ndarrays, {})\n",
        "        if eval_res is None:\n",
        "            return None\n",
        "        loss, metrics = eval_res\n",
        "        return loss, metrics\n",
        "\n",
        "    def aggregate_fit(\n",
        "        self,\n",
        "        server_round: int,\n",
        "        results: List[Tuple[ClientProxy, FitRes]],\n",
        "        failures: List[Union[Tuple[ClientProxy, FitRes], BaseException]],\n",
        "    ) -> Tuple[Optional[Parameters], Dict[str, Scalar]]:\n",
        "        \"\"\"Aggregate fit results using weighted average.\"\"\"\n",
        "        if not results:\n",
        "            return None, {}\n",
        "        # Do not aggregate if there are failures and failures are not accepted\n",
        "        if not self.accept_failures and failures:\n",
        "            return None, {}\n",
        "\n",
        "        # We deserialize each of the results with our custom method\n",
        "        weights_results = [\n",
        "            (sparse_parameters_to_ndarrays(fit_res.parameters), fit_res.num_examples)\n",
        "            for _, fit_res in results\n",
        "        ]\n",
        "\n",
        "        # We serialize the aggregated result using our custom method\n",
        "        parameters_aggregated = ndarrays_to_sparse_parameters(\n",
        "            aggregate(weights_results)\n",
        "        )\n",
        "\n",
        "        # Aggregate custom metrics if aggregation fn was provided\n",
        "        metrics_aggregated = {}\n",
        "        if self.fit_metrics_aggregation_fn:\n",
        "            fit_metrics = [(res.num_examples, res.metrics) for _, res in results]\n",
        "            metrics_aggregated = self.fit_metrics_aggregation_fn(fit_metrics)\n",
        "        elif server_round == 1:  # Only log this warning once\n",
        "            log(WARNING, \"No fit_metrics_aggregation_fn provided\")\n",
        "\n",
        "        return parameters_aggregated, metrics_aggregated"
      ]
    },
    {
      "cell_type": "code",
      "execution_count": 13,
      "metadata": {
        "id": "-sFG-UYL1BWw"
      },
      "outputs": [],
      "source": [
        "from flwr.common import Metrics\n",
        "\n",
        "def weighted_average(metrics: List[Tuple[int, Metrics]]) -> Metrics:\n",
        "    \"\"\"Aggregation function for (federated) evaluation metrics, i.e. those returned by\n",
        "    the client's evaluate() method.\"\"\"\n",
        "    # Multiply accuracy of each client by number of examples used\n",
        "    accuracies = [num_examples * m[\"accuracy\"] for num_examples, m in metrics]\n",
        "    examples = [num_examples for num_examples, _ in metrics]\n",
        "\n",
        "    # Aggregate and return custom metric (weighted average)\n",
        "    return {\"accuracy\": sum(accuracies) / sum(examples)}\n",
        "\n",
        "def aggregate_fit_metrics(metrics_list: List[Tuple[int, Dict[str, Scalar]]]) -> Dict[str, Scalar]:\n",
        "    \"\"\"Aggregate custom fit metrics from clients to calculate the average bytes sent.\n",
        "\n",
        "    Args:\n",
        "        metrics_list (List[Tuple[int, Dict[str, Scalar]]]): List of tuples, where each tuple\n",
        "        contains the number of examples and a dictionary of metrics from a client.\n",
        "\n",
        "    Returns:\n",
        "        Dict[str, Scalar]: Aggregated metrics containing the average bytes sent.\n",
        "    \"\"\"\n",
        "    total_bytes_sent = 0\n",
        "    num_clients = len(metrics_list)\n",
        "\n",
        "    for _, metrics in metrics_list:\n",
        "        total_bytes_sent += metrics[\"bytes sent\"]\n",
        "\n",
        "    # Calculate the average bytes sent\n",
        "    average_bytes_sent = total_bytes_sent / num_clients if num_clients > 0 else 0\n",
        "\n",
        "    # Create the aggregated metrics dictionary\n",
        "    aggregated_metrics = {\n",
        "        \"bytes sent\": average_bytes_sent,\n",
        "    }\n",
        "\n",
        "    return aggregated_metrics\n"
      ]
    },
    {
      "cell_type": "code",
      "execution_count": 14,
      "metadata": {
        "id": "Hy7uyFM-aTYD"
      },
      "outputs": [
        {
          "name": "stderr",
          "output_type": "stream",
          "text": [
            "\u001b[92mINFO \u001b[0m:      Starting Flower simulation, config: num_rounds=15, no round_timeout\n"
          ]
        },
        {
          "name": "stdout",
          "output_type": "stream",
          "text": [
            "Running simulation with pruning rate: 0.1\n"
          ]
        },
        {
          "name": "stderr",
          "output_type": "stream",
          "text": [
            "2024-07-22 22:17:38,063\tINFO worker.py:1752 -- Started a local Ray instance.\n",
            "\u001b[92mINFO \u001b[0m:      Flower VCE: Ray initialized with resources: {'object_store_memory': 200000000000.0, 'accelerator_type:RTX': 1.0, 'GPU': 3.0, 'memory': 864989723648.0, 'node:__internal_head__': 1.0, 'CPU': 40.0, 'node:10.8.0.3': 1.0}\n",
            "\u001b[92mINFO \u001b[0m:      Optimize your simulation with Flower VCE: https://flower.ai/docs/framework/how-to-run-simulations.html\n",
            "\u001b[92mINFO \u001b[0m:      No `client_resources` specified. Using minimal resources for clients.\n",
            "\u001b[92mINFO \u001b[0m:      Flower VCE: Resources for each Virtual Client: {'num_cpus': 1, 'num_gpus': 0.0}\n",
            "\u001b[92mINFO \u001b[0m:      Flower VCE: Creating VirtualClientEngineActorPool with 40 actors\n",
            "\u001b[92mINFO \u001b[0m:      [INIT]\n",
            "\u001b[92mINFO \u001b[0m:      Requesting initial parameters from one random client\n"
          ]
        },
        {
          "name": "stdout",
          "output_type": "stream",
          "text": [
            "\u001b[36m(ClientAppActor pid=3295261)\u001b[0m [Client 1] get_parameters\n"
          ]
        },
        {
          "name": "stderr",
          "output_type": "stream",
          "text": [
            "\u001b[92mINFO \u001b[0m:      Received initial parameters from one random client\n",
            "\u001b[92mINFO \u001b[0m:      Evaluating initial global parameters\n",
            "\u001b[92mINFO \u001b[0m:      initial parameters (loss, other metrics): 460.5787146091461, {'accuracy': 0.098}\n",
            "\u001b[92mINFO \u001b[0m:      \n",
            "\u001b[92mINFO \u001b[0m:      [ROUND 1]\n",
            "\u001b[92mINFO \u001b[0m:      configure_fit: strategy sampled 2 clients (out of 2)\n"
          ]
        },
        {
          "name": "stdout",
          "output_type": "stream",
          "text": [
            "\u001b[36m(ClientAppActor pid=3295261)\u001b[0m [Client 0] fit, config: {}\n"
          ]
        },
        {
          "name": "stderr",
          "output_type": "stream",
          "text": [
            "\u001b[92mINFO \u001b[0m:      aggregate_fit: received 2 results and 0 failures\n",
            "\u001b[92mINFO \u001b[0m:      fit progress: (1, 824.2960486412048, {'accuracy': 0.1135}, 94.14239163184538)\n",
            "\u001b[92mINFO \u001b[0m:      configure_evaluate: strategy sampled 2 clients (out of 2)\n"
          ]
        },
        {
          "name": "stdout",
          "output_type": "stream",
          "text": [
            "\u001b[36m(ClientAppActor pid=3295260)\u001b[0m [Client 1] evaluate, config: {}\n",
            "\u001b[36m(ClientAppActor pid=3295260)\u001b[0m [Client 1] fit, config: {}\n"
          ]
        },
        {
          "name": "stderr",
          "output_type": "stream",
          "text": [
            "\u001b[92mINFO \u001b[0m:      aggregate_evaluate: received 2 results and 0 failures\n",
            "\u001b[92mINFO \u001b[0m:      \n",
            "\u001b[92mINFO \u001b[0m:      [ROUND 2]\n",
            "\u001b[92mINFO \u001b[0m:      configure_fit: strategy sampled 2 clients (out of 2)\n"
          ]
        },
        {
          "name": "stdout",
          "output_type": "stream",
          "text": [
            "\u001b[36m(ClientAppActor pid=3295261)\u001b[0m [Client 0] fit, config: {}\n"
          ]
        },
        {
          "name": "stderr",
          "output_type": "stream",
          "text": [
            "\u001b[92mINFO \u001b[0m:      aggregate_fit: received 2 results and 0 failures\n",
            "\u001b[92mINFO \u001b[0m:      fit progress: (2, 194.77953431010246, {'accuracy': 0.705}, 185.78037229389884)\n",
            "\u001b[92mINFO \u001b[0m:      configure_evaluate: strategy sampled 2 clients (out of 2)\n"
          ]
        },
        {
          "name": "stdout",
          "output_type": "stream",
          "text": [
            "\u001b[36m(ClientAppActor pid=3295260)\u001b[0m [Client 0] evaluate, config: {}\u001b[32m [repeated 2x across cluster] (Ray deduplicates logs by default. Set RAY_DEDUP_LOGS=0 to disable log deduplication, or see https://docs.ray.io/en/master/ray-observability/ray-logging.html#log-deduplication for more options.)\u001b[0m\n",
            "\u001b[36m(ClientAppActor pid=3295260)\u001b[0m [Client 1] fit, config: {}\n"
          ]
        },
        {
          "name": "stderr",
          "output_type": "stream",
          "text": [
            "\u001b[92mINFO \u001b[0m:      aggregate_evaluate: received 2 results and 0 failures\n",
            "\u001b[92mINFO \u001b[0m:      \n",
            "\u001b[92mINFO \u001b[0m:      [ROUND 3]\n",
            "\u001b[92mINFO \u001b[0m:      configure_fit: strategy sampled 2 clients (out of 2)\n"
          ]
        },
        {
          "name": "stdout",
          "output_type": "stream",
          "text": [
            "\u001b[36m(ClientAppActor pid=3295261)\u001b[0m [Client 1] fit, config: {}\n"
          ]
        },
        {
          "name": "stderr",
          "output_type": "stream",
          "text": [
            "\u001b[92mINFO \u001b[0m:      aggregate_fit: received 2 results and 0 failures\n",
            "\u001b[92mINFO \u001b[0m:      fit progress: (3, 88.95391127467155, {'accuracy': 0.8662}, 277.01306950696744)\n",
            "\u001b[92mINFO \u001b[0m:      configure_evaluate: strategy sampled 2 clients (out of 2)\n"
          ]
        },
        {
          "name": "stdout",
          "output_type": "stream",
          "text": [
            "\u001b[36m(ClientAppActor pid=3295260)\u001b[0m [Client 1] evaluate, config: {}\u001b[32m [repeated 2x across cluster]\u001b[0m\n",
            "\u001b[36m(ClientAppActor pid=3295260)\u001b[0m [Client 0] fit, config: {}\n"
          ]
        },
        {
          "name": "stderr",
          "output_type": "stream",
          "text": [
            "\u001b[92mINFO \u001b[0m:      aggregate_evaluate: received 2 results and 0 failures\n",
            "\u001b[92mINFO \u001b[0m:      \n",
            "\u001b[92mINFO \u001b[0m:      [ROUND 4]\n",
            "\u001b[92mINFO \u001b[0m:      configure_fit: strategy sampled 2 clients (out of 2)\n"
          ]
        },
        {
          "name": "stdout",
          "output_type": "stream",
          "text": [
            "\u001b[36m(ClientAppActor pid=3295261)\u001b[0m [Client 0] fit, config: {}\n"
          ]
        },
        {
          "name": "stderr",
          "output_type": "stream",
          "text": [
            "\u001b[92mINFO \u001b[0m:      aggregate_fit: received 2 results and 0 failures\n",
            "\u001b[92mINFO \u001b[0m:      fit progress: (4, 99.02646918594837, {'accuracy': 0.8427}, 370.0793933609966)\n",
            "\u001b[92mINFO \u001b[0m:      configure_evaluate: strategy sampled 2 clients (out of 2)\n"
          ]
        },
        {
          "name": "stdout",
          "output_type": "stream",
          "text": [
            "\u001b[36m(ClientAppActor pid=3295260)\u001b[0m [Client 1] evaluate, config: {}\u001b[32m [repeated 2x across cluster]\u001b[0m\n",
            "\u001b[36m(ClientAppActor pid=3295260)\u001b[0m [Client 1] fit, config: {}\n"
          ]
        },
        {
          "name": "stderr",
          "output_type": "stream",
          "text": [
            "\u001b[92mINFO \u001b[0m:      aggregate_evaluate: received 2 results and 0 failures\n",
            "\u001b[92mINFO \u001b[0m:      \n",
            "\u001b[92mINFO \u001b[0m:      [ROUND 5]\n",
            "\u001b[92mINFO \u001b[0m:      configure_fit: strategy sampled 2 clients (out of 2)\n"
          ]
        },
        {
          "name": "stdout",
          "output_type": "stream",
          "text": [
            "\u001b[36m(ClientAppActor pid=3295261)\u001b[0m [Client 1] fit, config: {}\n"
          ]
        },
        {
          "name": "stderr",
          "output_type": "stream",
          "text": [
            "\u001b[92mINFO \u001b[0m:      aggregate_fit: received 2 results and 0 failures\n",
            "\u001b[92mINFO \u001b[0m:      fit progress: (5, 39.197779117152095, {'accuracy': 0.9397}, 462.153251422802)\n",
            "\u001b[92mINFO \u001b[0m:      configure_evaluate: strategy sampled 2 clients (out of 2)\n"
          ]
        },
        {
          "name": "stdout",
          "output_type": "stream",
          "text": [
            "\u001b[36m(ClientAppActor pid=3295260)\u001b[0m [Client 1] evaluate, config: {}\u001b[32m [repeated 2x across cluster]\u001b[0m\n",
            "\u001b[36m(ClientAppActor pid=3295260)\u001b[0m [Client 0] fit, config: {}\n"
          ]
        },
        {
          "name": "stderr",
          "output_type": "stream",
          "text": [
            "\u001b[92mINFO \u001b[0m:      aggregate_evaluate: received 2 results and 0 failures\n",
            "\u001b[92mINFO \u001b[0m:      \n",
            "\u001b[92mINFO \u001b[0m:      [ROUND 6]\n",
            "\u001b[92mINFO \u001b[0m:      configure_fit: strategy sampled 2 clients (out of 2)\n"
          ]
        },
        {
          "name": "stdout",
          "output_type": "stream",
          "text": [
            "\u001b[36m(ClientAppActor pid=3295261)\u001b[0m [Client 0] fit, config: {}\n"
          ]
        },
        {
          "name": "stderr",
          "output_type": "stream",
          "text": [
            "\u001b[92mINFO \u001b[0m:      aggregate_fit: received 2 results and 0 failures\n",
            "\u001b[92mINFO \u001b[0m:      fit progress: (6, 26.188014981802553, {'accuracy': 0.96}, 549.3804960809648)\n",
            "\u001b[92mINFO \u001b[0m:      configure_evaluate: strategy sampled 2 clients (out of 2)\n"
          ]
        },
        {
          "name": "stdout",
          "output_type": "stream",
          "text": [
            "\u001b[36m(ClientAppActor pid=3295260)\u001b[0m [Client 0] evaluate, config: {}\u001b[32m [repeated 2x across cluster]\u001b[0m\n",
            "\u001b[36m(ClientAppActor pid=3295260)\u001b[0m [Client 1] fit, config: {}\n"
          ]
        },
        {
          "name": "stderr",
          "output_type": "stream",
          "text": [
            "\u001b[92mINFO \u001b[0m:      aggregate_evaluate: received 2 results and 0 failures\n",
            "\u001b[92mINFO \u001b[0m:      \n",
            "\u001b[92mINFO \u001b[0m:      [ROUND 7]\n",
            "\u001b[92mINFO \u001b[0m:      configure_fit: strategy sampled 2 clients (out of 2)\n"
          ]
        },
        {
          "name": "stdout",
          "output_type": "stream",
          "text": [
            "\u001b[36m(ClientAppActor pid=3295261)\u001b[0m [Client 1] fit, config: {}\n"
          ]
        },
        {
          "name": "stderr",
          "output_type": "stream",
          "text": [
            "\u001b[92mINFO \u001b[0m:      aggregate_fit: received 2 results and 0 failures\n",
            "\u001b[92mINFO \u001b[0m:      fit progress: (7, 24.76902827352751, {'accuracy': 0.9601}, 636.1035468408372)\n",
            "\u001b[92mINFO \u001b[0m:      configure_evaluate: strategy sampled 2 clients (out of 2)\n"
          ]
        },
        {
          "name": "stdout",
          "output_type": "stream",
          "text": [
            "\u001b[36m(ClientAppActor pid=3295260)\u001b[0m [Client 0] evaluate, config: {}\u001b[32m [repeated 2x across cluster]\u001b[0m\n",
            "\u001b[36m(ClientAppActor pid=3295260)\u001b[0m [Client 0] fit, config: {}\n"
          ]
        },
        {
          "name": "stderr",
          "output_type": "stream",
          "text": [
            "\u001b[92mINFO \u001b[0m:      aggregate_evaluate: received 2 results and 0 failures\n",
            "\u001b[92mINFO \u001b[0m:      \n",
            "\u001b[92mINFO \u001b[0m:      [ROUND 8]\n",
            "\u001b[92mINFO \u001b[0m:      configure_fit: strategy sampled 2 clients (out of 2)\n"
          ]
        },
        {
          "name": "stdout",
          "output_type": "stream",
          "text": [
            "\u001b[36m(ClientAppActor pid=3295261)\u001b[0m [Client 1] fit, config: {}\n"
          ]
        },
        {
          "name": "stderr",
          "output_type": "stream",
          "text": [
            "\u001b[92mINFO \u001b[0m:      aggregate_fit: received 2 results and 0 failures\n",
            "\u001b[92mINFO \u001b[0m:      fit progress: (8, 26.285818033502437, {'accuracy': 0.9596}, 722.8102312509436)\n",
            "\u001b[92mINFO \u001b[0m:      configure_evaluate: strategy sampled 2 clients (out of 2)\n"
          ]
        },
        {
          "name": "stdout",
          "output_type": "stream",
          "text": [
            "\u001b[36m(ClientAppActor pid=3295260)\u001b[0m [Client 0] evaluate, config: {}\u001b[32m [repeated 2x across cluster]\u001b[0m\n",
            "\u001b[36m(ClientAppActor pid=3295260)\u001b[0m [Client 0] fit, config: {}\n"
          ]
        },
        {
          "name": "stderr",
          "output_type": "stream",
          "text": [
            "\u001b[92mINFO \u001b[0m:      aggregate_evaluate: received 2 results and 0 failures\n",
            "\u001b[92mINFO \u001b[0m:      \n",
            "\u001b[92mINFO \u001b[0m:      [ROUND 9]\n",
            "\u001b[92mINFO \u001b[0m:      configure_fit: strategy sampled 2 clients (out of 2)\n"
          ]
        },
        {
          "name": "stdout",
          "output_type": "stream",
          "text": [
            "\u001b[36m(ClientAppActor pid=3295261)\u001b[0m [Client 1] fit, config: {}\n"
          ]
        },
        {
          "name": "stderr",
          "output_type": "stream",
          "text": [
            "\u001b[92mINFO \u001b[0m:      aggregate_fit: received 2 results and 0 failures\n",
            "\u001b[92mINFO \u001b[0m:      fit progress: (9, 23.00535119487904, {'accuracy': 0.964}, 812.6340124558192)\n",
            "\u001b[92mINFO \u001b[0m:      configure_evaluate: strategy sampled 2 clients (out of 2)\n"
          ]
        },
        {
          "name": "stdout",
          "output_type": "stream",
          "text": [
            "\u001b[36m(ClientAppActor pid=3295260)\u001b[0m [Client 1] evaluate, config: {}\u001b[32m [repeated 2x across cluster]\u001b[0m\n",
            "\u001b[36m(ClientAppActor pid=3295260)\u001b[0m [Client 0] fit, config: {}\n"
          ]
        },
        {
          "name": "stderr",
          "output_type": "stream",
          "text": [
            "\u001b[92mINFO \u001b[0m:      aggregate_evaluate: received 2 results and 0 failures\n",
            "\u001b[92mINFO \u001b[0m:      \n",
            "\u001b[92mINFO \u001b[0m:      [ROUND 10]\n",
            "\u001b[92mINFO \u001b[0m:      configure_fit: strategy sampled 2 clients (out of 2)\n"
          ]
        },
        {
          "name": "stdout",
          "output_type": "stream",
          "text": [
            "\u001b[36m(ClientAppActor pid=3295261)\u001b[0m [Client 0] fit, config: {}\n"
          ]
        },
        {
          "name": "stderr",
          "output_type": "stream",
          "text": [
            "\u001b[92mINFO \u001b[0m:      aggregate_fit: received 2 results and 0 failures\n",
            "\u001b[92mINFO \u001b[0m:      fit progress: (10, 22.879456451162696, {'accuracy': 0.9647}, 904.9202234977856)\n",
            "\u001b[92mINFO \u001b[0m:      configure_evaluate: strategy sampled 2 clients (out of 2)\n"
          ]
        },
        {
          "name": "stdout",
          "output_type": "stream",
          "text": [
            "\u001b[36m(ClientAppActor pid=3295260)\u001b[0m [Client 1] evaluate, config: {}\u001b[32m [repeated 2x across cluster]\u001b[0m\n",
            "\u001b[36m(ClientAppActor pid=3295260)\u001b[0m [Client 1] fit, config: {}\n"
          ]
        },
        {
          "name": "stderr",
          "output_type": "stream",
          "text": [
            "\u001b[92mINFO \u001b[0m:      aggregate_evaluate: received 2 results and 0 failures\n",
            "\u001b[92mINFO \u001b[0m:      \n",
            "\u001b[92mINFO \u001b[0m:      [ROUND 11]\n",
            "\u001b[92mINFO \u001b[0m:      configure_fit: strategy sampled 2 clients (out of 2)\n"
          ]
        },
        {
          "name": "stdout",
          "output_type": "stream",
          "text": [
            "\u001b[36m(ClientAppActor pid=3295261)\u001b[0m [Client 0] fit, config: {}\n"
          ]
        },
        {
          "name": "stderr",
          "output_type": "stream",
          "text": [
            "\u001b[92mINFO \u001b[0m:      aggregate_fit: received 2 results and 0 failures\n",
            "\u001b[92mINFO \u001b[0m:      fit progress: (11, 22.819101416040212, {'accuracy': 0.9632}, 992.6423748638481)\n",
            "\u001b[92mINFO \u001b[0m:      configure_evaluate: strategy sampled 2 clients (out of 2)\n"
          ]
        },
        {
          "name": "stdout",
          "output_type": "stream",
          "text": [
            "\u001b[36m(ClientAppActor pid=3295260)\u001b[0m [Client 0] evaluate, config: {}\u001b[32m [repeated 2x across cluster]\u001b[0m\n",
            "\u001b[36m(ClientAppActor pid=3295260)\u001b[0m [Client 1] fit, config: {}\n"
          ]
        },
        {
          "name": "stderr",
          "output_type": "stream",
          "text": [
            "\u001b[92mINFO \u001b[0m:      aggregate_evaluate: received 2 results and 0 failures\n",
            "\u001b[92mINFO \u001b[0m:      \n",
            "\u001b[92mINFO \u001b[0m:      [ROUND 12]\n",
            "\u001b[92mINFO \u001b[0m:      configure_fit: strategy sampled 2 clients (out of 2)\n"
          ]
        },
        {
          "name": "stdout",
          "output_type": "stream",
          "text": [
            "\u001b[36m(ClientAppActor pid=3295261)\u001b[0m [Client 0] fit, config: {}\n"
          ]
        },
        {
          "name": "stderr",
          "output_type": "stream",
          "text": [
            "\u001b[92mINFO \u001b[0m:      aggregate_fit: received 2 results and 0 failures\n",
            "\u001b[92mINFO \u001b[0m:      fit progress: (12, 22.21025124687003, {'accuracy': 0.9642}, 1083.5883982100058)\n",
            "\u001b[92mINFO \u001b[0m:      configure_evaluate: strategy sampled 2 clients (out of 2)\n"
          ]
        },
        {
          "name": "stdout",
          "output_type": "stream",
          "text": [
            "\u001b[36m(ClientAppActor pid=3295260)\u001b[0m [Client 0] evaluate, config: {}\u001b[32m [repeated 2x across cluster]\u001b[0m\n",
            "\u001b[36m(ClientAppActor pid=3295260)\u001b[0m [Client 1] fit, config: {}\n"
          ]
        },
        {
          "name": "stderr",
          "output_type": "stream",
          "text": [
            "\u001b[92mINFO \u001b[0m:      aggregate_evaluate: received 2 results and 0 failures\n",
            "\u001b[92mINFO \u001b[0m:      \n",
            "\u001b[92mINFO \u001b[0m:      [ROUND 13]\n",
            "\u001b[92mINFO \u001b[0m:      configure_fit: strategy sampled 2 clients (out of 2)\n"
          ]
        },
        {
          "name": "stdout",
          "output_type": "stream",
          "text": [
            "\u001b[36m(ClientAppActor pid=3295261)\u001b[0m [Client 0] fit, config: {}\n"
          ]
        },
        {
          "name": "stderr",
          "output_type": "stream",
          "text": [
            "\u001b[92mINFO \u001b[0m:      aggregate_fit: received 2 results and 0 failures\n",
            "\u001b[92mINFO \u001b[0m:      fit progress: (13, 22.05784115102142, {'accuracy': 0.965}, 1178.3177385278977)\n",
            "\u001b[92mINFO \u001b[0m:      configure_evaluate: strategy sampled 2 clients (out of 2)\n"
          ]
        },
        {
          "name": "stdout",
          "output_type": "stream",
          "text": [
            "\u001b[36m(ClientAppActor pid=3295260)\u001b[0m [Client 0] evaluate, config: {}\u001b[32m [repeated 2x across cluster]\u001b[0m\n",
            "\u001b[36m(ClientAppActor pid=3295260)\u001b[0m [Client 1] fit, config: {}\n"
          ]
        },
        {
          "name": "stderr",
          "output_type": "stream",
          "text": [
            "\u001b[92mINFO \u001b[0m:      aggregate_evaluate: received 2 results and 0 failures\n",
            "\u001b[92mINFO \u001b[0m:      \n",
            "\u001b[92mINFO \u001b[0m:      [ROUND 14]\n",
            "\u001b[92mINFO \u001b[0m:      configure_fit: strategy sampled 2 clients (out of 2)\n"
          ]
        },
        {
          "name": "stdout",
          "output_type": "stream",
          "text": [
            "\u001b[36m(ClientAppActor pid=3295261)\u001b[0m [Client 1] fit, config: {}\n"
          ]
        },
        {
          "name": "stderr",
          "output_type": "stream",
          "text": [
            "\u001b[92mINFO \u001b[0m:      aggregate_fit: received 2 results and 0 failures\n",
            "\u001b[92mINFO \u001b[0m:      fit progress: (14, 21.894068912486546, {'accuracy': 0.9655}, 1270.496601455845)\n",
            "\u001b[92mINFO \u001b[0m:      configure_evaluate: strategy sampled 2 clients (out of 2)\n"
          ]
        },
        {
          "name": "stdout",
          "output_type": "stream",
          "text": [
            "\u001b[36m(ClientAppActor pid=3295260)\u001b[0m [Client 0] evaluate, config: {}\u001b[32m [repeated 2x across cluster]\u001b[0m\n",
            "\u001b[36m(ClientAppActor pid=3295260)\u001b[0m [Client 0] fit, config: {}\n"
          ]
        },
        {
          "name": "stderr",
          "output_type": "stream",
          "text": [
            "\u001b[92mINFO \u001b[0m:      aggregate_evaluate: received 2 results and 0 failures\n",
            "\u001b[92mINFO \u001b[0m:      \n",
            "\u001b[92mINFO \u001b[0m:      [ROUND 15]\n",
            "\u001b[92mINFO \u001b[0m:      configure_fit: strategy sampled 2 clients (out of 2)\n"
          ]
        },
        {
          "name": "stdout",
          "output_type": "stream",
          "text": [
            "\u001b[36m(ClientAppActor pid=3295261)\u001b[0m [Client 0] fit, config: {}\n"
          ]
        },
        {
          "name": "stderr",
          "output_type": "stream",
          "text": [
            "\u001b[92mINFO \u001b[0m:      aggregate_fit: received 2 results and 0 failures\n",
            "\u001b[92mINFO \u001b[0m:      fit progress: (15, 21.969475043239072, {'accuracy': 0.965}, 1359.9187245219946)\n",
            "\u001b[92mINFO \u001b[0m:      configure_evaluate: strategy sampled 2 clients (out of 2)\n"
          ]
        },
        {
          "name": "stdout",
          "output_type": "stream",
          "text": [
            "\u001b[36m(ClientAppActor pid=3295260)\u001b[0m [Client 1] evaluate, config: {}\u001b[32m [repeated 2x across cluster]\u001b[0m\n",
            "\u001b[36m(ClientAppActor pid=3295260)\u001b[0m [Client 1] fit, config: {}\n"
          ]
        },
        {
          "name": "stderr",
          "output_type": "stream",
          "text": [
            "\u001b[92mINFO \u001b[0m:      aggregate_evaluate: received 2 results and 0 failures\n",
            "\u001b[92mINFO \u001b[0m:      \n",
            "\u001b[92mINFO \u001b[0m:      [SUMMARY]\n",
            "\u001b[92mINFO \u001b[0m:      Run finished 15 round(s) in 1362.72s\n",
            "\u001b[92mINFO \u001b[0m:      \tHistory (loss, distributed):\n",
            "\u001b[92mINFO \u001b[0m:      \t\tround 1: 8.420037388801575\n",
            "\u001b[92mINFO \u001b[0m:      \t\tround 2: 2.155486047267914\n",
            "\u001b[92mINFO \u001b[0m:      \t\tround 3: 0.9901022464036942\n",
            "\u001b[92mINFO \u001b[0m:      \t\tround 4: 1.0338658690452576\n",
            "\u001b[92mINFO \u001b[0m:      \t\tround 5: 0.4080747477710247\n",
            "\u001b[92mINFO \u001b[0m:      \t\tround 6: 0.16455331072211266\n",
            "\u001b[92mINFO \u001b[0m:      \t\tround 7: 0.22728446824476123\n",
            "\u001b[92mINFO \u001b[0m:      \t\tround 8: 0.16737014707177877\n",
            "\u001b[92mINFO \u001b[0m:      \t\tround 9: 0.18998966179788113\n",
            "\u001b[92mINFO \u001b[0m:      \t\tround 10: 0.18477132124826312\n",
            "\u001b[92mINFO \u001b[0m:      \t\tround 11: 0.17737269587814808\n",
            "\u001b[92mINFO \u001b[0m:      \t\tround 12: 0.17652863822877407\n",
            "\u001b[92mINFO \u001b[0m:      \t\tround 13: 0.17290480970405042\n",
            "\u001b[92mINFO \u001b[0m:      \t\tround 14: 0.18575745215639472\n",
            "\u001b[92mINFO \u001b[0m:      \t\tround 15: 0.17899255198426545\n",
            "\u001b[92mINFO \u001b[0m:      \tHistory (loss, centralized):\n",
            "\u001b[92mINFO \u001b[0m:      \t\tround 0: 460.5787146091461\n",
            "\u001b[92mINFO \u001b[0m:      \t\tround 1: 824.2960486412048\n",
            "\u001b[92mINFO \u001b[0m:      \t\tround 2: 194.77953431010246\n",
            "\u001b[92mINFO \u001b[0m:      \t\tround 3: 88.95391127467155\n",
            "\u001b[92mINFO \u001b[0m:      \t\tround 4: 99.02646918594837\n",
            "\u001b[92mINFO \u001b[0m:      \t\tround 5: 39.197779117152095\n",
            "\u001b[92mINFO \u001b[0m:      \t\tround 6: 26.188014981802553\n",
            "\u001b[92mINFO \u001b[0m:      \t\tround 7: 24.76902827352751\n",
            "\u001b[92mINFO \u001b[0m:      \t\tround 8: 26.285818033502437\n",
            "\u001b[92mINFO \u001b[0m:      \t\tround 9: 23.00535119487904\n",
            "\u001b[92mINFO \u001b[0m:      \t\tround 10: 22.879456451162696\n",
            "\u001b[92mINFO \u001b[0m:      \t\tround 11: 22.819101416040212\n",
            "\u001b[92mINFO \u001b[0m:      \t\tround 12: 22.21025124687003\n",
            "\u001b[92mINFO \u001b[0m:      \t\tround 13: 22.05784115102142\n",
            "\u001b[92mINFO \u001b[0m:      \t\tround 14: 21.894068912486546\n",
            "\u001b[92mINFO \u001b[0m:      \t\tround 15: 21.969475043239072\n",
            "\u001b[92mINFO \u001b[0m:      \tHistory (metrics, distributed, fit):\n",
            "\u001b[92mINFO \u001b[0m:      \t{'bytes sent': [(1, 149359783.0),\n",
            "\u001b[92mINFO \u001b[0m:      \t                (2, 149359783.0),\n",
            "\u001b[92mINFO \u001b[0m:      \t                (3, 149359783.0),\n",
            "\u001b[92mINFO \u001b[0m:      \t                (4, 149359783.0),\n",
            "\u001b[92mINFO \u001b[0m:      \t                (5, 149359783.0),\n",
            "\u001b[92mINFO \u001b[0m:      \t                (6, 149359783.0),\n",
            "\u001b[92mINFO \u001b[0m:      \t                (7, 149359783.0),\n",
            "\u001b[92mINFO \u001b[0m:      \t                (8, 149359783.0),\n",
            "\u001b[92mINFO \u001b[0m:      \t                (9, 149359783.0),\n",
            "\u001b[92mINFO \u001b[0m:      \t                (10, 149359783.0),\n",
            "\u001b[92mINFO \u001b[0m:      \t                (11, 149359783.0),\n",
            "\u001b[92mINFO \u001b[0m:      \t                (12, 149359783.0),\n",
            "\u001b[92mINFO \u001b[0m:      \t                (13, 149359783.0),\n",
            "\u001b[92mINFO \u001b[0m:      \t                (14, 149359783.0),\n",
            "\u001b[92mINFO \u001b[0m:      \t                (15, 149359783.0)]}\n",
            "\u001b[92mINFO \u001b[0m:      \tHistory (metrics, distributed, evaluate):\n",
            "\u001b[92mINFO \u001b[0m:      \t{'accuracy': [(1, 0.1),\n",
            "\u001b[92mINFO \u001b[0m:      \t              (2, 0.675),\n",
            "\u001b[92mINFO \u001b[0m:      \t              (3, 0.85),\n",
            "\u001b[92mINFO \u001b[0m:      \t              (4, 0.8333333333333333),\n",
            "\u001b[92mINFO \u001b[0m:      \t              (5, 0.9333333333333333),\n",
            "\u001b[92mINFO \u001b[0m:      \t              (6, 0.9666666666666667),\n",
            "\u001b[92mINFO \u001b[0m:      \t              (7, 0.9833333333333334),\n",
            "\u001b[92mINFO \u001b[0m:      \t              (8, 0.9916666666666667),\n",
            "\u001b[92mINFO \u001b[0m:      \t              (9, 0.975),\n",
            "\u001b[92mINFO \u001b[0m:      \t              (10, 0.975),\n",
            "\u001b[92mINFO \u001b[0m:      \t              (11, 0.9833333333333334),\n",
            "\u001b[92mINFO \u001b[0m:      \t              (12, 0.9833333333333334),\n",
            "\u001b[92mINFO \u001b[0m:      \t              (13, 0.9833333333333334),\n",
            "\u001b[92mINFO \u001b[0m:      \t              (14, 0.9833333333333334),\n",
            "\u001b[92mINFO \u001b[0m:      \t              (15, 0.9833333333333334)]}\n",
            "\u001b[92mINFO \u001b[0m:      \tHistory (metrics, centralized):\n",
            "\u001b[92mINFO \u001b[0m:      \t{'accuracy': [(0, 0.098),\n",
            "\u001b[92mINFO \u001b[0m:      \t              (1, 0.1135),\n",
            "\u001b[92mINFO \u001b[0m:      \t              (2, 0.705),\n",
            "\u001b[92mINFO \u001b[0m:      \t              (3, 0.8662),\n",
            "\u001b[92mINFO \u001b[0m:      \t              (4, 0.8427),\n",
            "\u001b[92mINFO \u001b[0m:      \t              (5, 0.9397),\n",
            "\u001b[92mINFO \u001b[0m:      \t              (6, 0.96),\n",
            "\u001b[92mINFO \u001b[0m:      \t              (7, 0.9601),\n",
            "\u001b[92mINFO \u001b[0m:      \t              (8, 0.9596),\n",
            "\u001b[92mINFO \u001b[0m:      \t              (9, 0.964),\n",
            "\u001b[92mINFO \u001b[0m:      \t              (10, 0.9647),\n",
            "\u001b[92mINFO \u001b[0m:      \t              (11, 0.9632),\n",
            "\u001b[92mINFO \u001b[0m:      \t              (12, 0.9642),\n",
            "\u001b[92mINFO \u001b[0m:      \t              (13, 0.965),\n",
            "\u001b[92mINFO \u001b[0m:      \t              (14, 0.9655),\n",
            "\u001b[92mINFO \u001b[0m:      \t              (15, 0.965)]}\n",
            "\u001b[92mINFO \u001b[0m:      \n",
            "\u001b[92mINFO \u001b[0m:      Starting Flower simulation, config: num_rounds=15, no round_timeout\n"
          ]
        },
        {
          "name": "stdout",
          "output_type": "stream",
          "text": [
            "Running simulation with pruning rate: 0.2\n",
            "\u001b[36m(ClientAppActor pid=3295261)\u001b[0m [Client 0] evaluate, config: {}\n"
          ]
        },
        {
          "name": "stderr",
          "output_type": "stream",
          "text": [
            "2024-07-22 22:41:12,504\tINFO worker.py:1752 -- Started a local Ray instance.\n",
            "\u001b[92mINFO \u001b[0m:      Flower VCE: Ray initialized with resources: {'object_store_memory': 200000000000.0, 'accelerator_type:RTX': 1.0, 'node:10.8.0.3': 1.0, 'CPU': 40.0, 'GPU': 3.0, 'node:__internal_head__': 1.0, 'memory': 864125381632.0}\n",
            "\u001b[92mINFO \u001b[0m:      Optimize your simulation with Flower VCE: https://flower.ai/docs/framework/how-to-run-simulations.html\n",
            "\u001b[92mINFO \u001b[0m:      No `client_resources` specified. Using minimal resources for clients.\n",
            "\u001b[92mINFO \u001b[0m:      Flower VCE: Resources for each Virtual Client: {'num_cpus': 1, 'num_gpus': 0.0}\n",
            "\u001b[92mINFO \u001b[0m:      Flower VCE: Creating VirtualClientEngineActorPool with 40 actors\n",
            "\u001b[92mINFO \u001b[0m:      [INIT]\n",
            "\u001b[92mINFO \u001b[0m:      Requesting initial parameters from one random client\n"
          ]
        },
        {
          "name": "stdout",
          "output_type": "stream",
          "text": [
            "\u001b[36m(ClientAppActor pid=3307036)\u001b[0m [Client 0] get_parameters\n"
          ]
        },
        {
          "name": "stderr",
          "output_type": "stream",
          "text": [
            "\u001b[92mINFO \u001b[0m:      Received initial parameters from one random client\n",
            "\u001b[92mINFO \u001b[0m:      Evaluating initial global parameters\n",
            "\u001b[92mINFO \u001b[0m:      initial parameters (loss, other metrics): 460.8479595184326, {'accuracy': 0.1086}\n",
            "\u001b[92mINFO \u001b[0m:      \n",
            "\u001b[92mINFO \u001b[0m:      [ROUND 1]\n",
            "\u001b[92mINFO \u001b[0m:      configure_fit: strategy sampled 2 clients (out of 2)\n"
          ]
        },
        {
          "name": "stdout",
          "output_type": "stream",
          "text": [
            "\u001b[36m(ClientAppActor pid=3307036)\u001b[0m [Client 1] fit, config: {}\n"
          ]
        },
        {
          "name": "stderr",
          "output_type": "stream",
          "text": [
            "\u001b[92mINFO \u001b[0m:      aggregate_fit: received 2 results and 0 failures\n",
            "\u001b[92mINFO \u001b[0m:      fit progress: (1, 648.0272026062012, {'accuracy': 0.1135}, 92.72650321293622)\n",
            "\u001b[92mINFO \u001b[0m:      configure_evaluate: strategy sampled 2 clients (out of 2)\n"
          ]
        },
        {
          "name": "stdout",
          "output_type": "stream",
          "text": [
            "\u001b[36m(ClientAppActor pid=3307035)\u001b[0m [Client 1] evaluate, config: {}\n",
            "\u001b[36m(ClientAppActor pid=3307035)\u001b[0m [Client 0] fit, config: {}\n"
          ]
        },
        {
          "name": "stderr",
          "output_type": "stream",
          "text": [
            "\u001b[92mINFO \u001b[0m:      aggregate_evaluate: received 2 results and 0 failures\n",
            "\u001b[92mINFO \u001b[0m:      \n",
            "\u001b[92mINFO \u001b[0m:      [ROUND 2]\n",
            "\u001b[92mINFO \u001b[0m:      configure_fit: strategy sampled 2 clients (out of 2)\n"
          ]
        },
        {
          "name": "stdout",
          "output_type": "stream",
          "text": [
            "\u001b[36m(ClientAppActor pid=3307036)\u001b[0m [Client 1] fit, config: {}\n"
          ]
        },
        {
          "name": "stderr",
          "output_type": "stream",
          "text": [
            "\u001b[92mINFO \u001b[0m:      aggregate_fit: received 2 results and 0 failures\n",
            "\u001b[92mINFO \u001b[0m:      fit progress: (2, 203.8964106440544, {'accuracy': 0.6352}, 179.59729262511246)\n",
            "\u001b[92mINFO \u001b[0m:      configure_evaluate: strategy sampled 2 clients (out of 2)\n"
          ]
        },
        {
          "name": "stdout",
          "output_type": "stream",
          "text": [
            "\u001b[36m(ClientAppActor pid=3307035)\u001b[0m [Client 0] evaluate, config: {}\u001b[32m [repeated 2x across cluster]\u001b[0m\n",
            "\u001b[36m(ClientAppActor pid=3307035)\u001b[0m [Client 0] fit, config: {}\n"
          ]
        },
        {
          "name": "stderr",
          "output_type": "stream",
          "text": [
            "\u001b[92mINFO \u001b[0m:      aggregate_evaluate: received 2 results and 0 failures\n",
            "\u001b[92mINFO \u001b[0m:      \n",
            "\u001b[92mINFO \u001b[0m:      [ROUND 3]\n",
            "\u001b[92mINFO \u001b[0m:      configure_fit: strategy sampled 2 clients (out of 2)\n"
          ]
        },
        {
          "name": "stdout",
          "output_type": "stream",
          "text": [
            "\u001b[36m(ClientAppActor pid=3307036)\u001b[0m [Client 0] fit, config: {}\n"
          ]
        },
        {
          "name": "stderr",
          "output_type": "stream",
          "text": [
            "\u001b[92mINFO \u001b[0m:      aggregate_fit: received 2 results and 0 failures\n",
            "\u001b[92mINFO \u001b[0m:      fit progress: (3, 89.76103247702122, {'accuracy': 0.8568}, 265.88257838296704)\n",
            "\u001b[92mINFO \u001b[0m:      configure_evaluate: strategy sampled 2 clients (out of 2)\n"
          ]
        },
        {
          "name": "stdout",
          "output_type": "stream",
          "text": [
            "\u001b[36m(ClientAppActor pid=3307035)\u001b[0m [Client 1] evaluate, config: {}\u001b[32m [repeated 2x across cluster]\u001b[0m\n",
            "\u001b[36m(ClientAppActor pid=3307035)\u001b[0m [Client 1] fit, config: {}\n"
          ]
        },
        {
          "name": "stderr",
          "output_type": "stream",
          "text": [
            "\u001b[92mINFO \u001b[0m:      aggregate_evaluate: received 2 results and 0 failures\n",
            "\u001b[92mINFO \u001b[0m:      \n",
            "\u001b[92mINFO \u001b[0m:      [ROUND 4]\n",
            "\u001b[92mINFO \u001b[0m:      configure_fit: strategy sampled 2 clients (out of 2)\n"
          ]
        },
        {
          "name": "stdout",
          "output_type": "stream",
          "text": [
            "\u001b[36m(ClientAppActor pid=3307036)\u001b[0m [Client 0] fit, config: {}\n"
          ]
        },
        {
          "name": "stderr",
          "output_type": "stream",
          "text": [
            "\u001b[92mINFO \u001b[0m:      aggregate_fit: received 2 results and 0 failures\n",
            "\u001b[92mINFO \u001b[0m:      fit progress: (4, 45.30186051502824, {'accuracy': 0.9275}, 352.48173100315034)\n",
            "\u001b[92mINFO \u001b[0m:      configure_evaluate: strategy sampled 2 clients (out of 2)\n"
          ]
        },
        {
          "name": "stdout",
          "output_type": "stream",
          "text": [
            "\u001b[36m(ClientAppActor pid=3307035)\u001b[0m [Client 1] evaluate, config: {}\u001b[32m [repeated 2x across cluster]\u001b[0m\n",
            "\u001b[36m(ClientAppActor pid=3307035)\u001b[0m [Client 1] fit, config: {}\n"
          ]
        },
        {
          "name": "stderr",
          "output_type": "stream",
          "text": [
            "\u001b[92mINFO \u001b[0m:      aggregate_evaluate: received 2 results and 0 failures\n",
            "\u001b[92mINFO \u001b[0m:      \n",
            "\u001b[92mINFO \u001b[0m:      [ROUND 5]\n",
            "\u001b[92mINFO \u001b[0m:      configure_fit: strategy sampled 2 clients (out of 2)\n"
          ]
        },
        {
          "name": "stdout",
          "output_type": "stream",
          "text": [
            "\u001b[36m(ClientAppActor pid=3307036)\u001b[0m [Client 0] fit, config: {}\n"
          ]
        },
        {
          "name": "stderr",
          "output_type": "stream",
          "text": [
            "\u001b[92mINFO \u001b[0m:      aggregate_fit: received 2 results and 0 failures\n",
            "\u001b[92mINFO \u001b[0m:      fit progress: (5, 31.687770888209343, {'accuracy': 0.9502}, 441.0449476521462)\n",
            "\u001b[92mINFO \u001b[0m:      configure_evaluate: strategy sampled 2 clients (out of 2)\n"
          ]
        },
        {
          "name": "stdout",
          "output_type": "stream",
          "text": [
            "\u001b[36m(ClientAppActor pid=3307036)\u001b[0m [Client 0] evaluate, config: {}\u001b[32m [repeated 2x across cluster]\u001b[0m\n",
            "\u001b[36m(ClientAppActor pid=3307035)\u001b[0m [Client 1] fit, config: {}\n"
          ]
        },
        {
          "name": "stderr",
          "output_type": "stream",
          "text": [
            "\u001b[92mINFO \u001b[0m:      aggregate_evaluate: received 2 results and 0 failures\n",
            "\u001b[92mINFO \u001b[0m:      \n",
            "\u001b[92mINFO \u001b[0m:      [ROUND 6]\n",
            "\u001b[92mINFO \u001b[0m:      configure_fit: strategy sampled 2 clients (out of 2)\n"
          ]
        },
        {
          "name": "stdout",
          "output_type": "stream",
          "text": [
            "\u001b[36m(ClientAppActor pid=3307035)\u001b[0m [Client 1] fit, config: {}\n"
          ]
        },
        {
          "name": "stderr",
          "output_type": "stream",
          "text": [
            "\u001b[92mINFO \u001b[0m:      aggregate_fit: received 2 results and 0 failures\n",
            "\u001b[92mINFO \u001b[0m:      fit progress: (6, 25.24406563816592, {'accuracy': 0.9588}, 530.3759926781058)\n",
            "\u001b[92mINFO \u001b[0m:      configure_evaluate: strategy sampled 2 clients (out of 2)\n"
          ]
        },
        {
          "name": "stdout",
          "output_type": "stream",
          "text": [
            "\u001b[36m(ClientAppActor pid=3307036)\u001b[0m [Client 1] evaluate, config: {}\u001b[32m [repeated 2x across cluster]\u001b[0m\n",
            "\u001b[36m(ClientAppActor pid=3307036)\u001b[0m [Client 0] fit, config: {}\n"
          ]
        },
        {
          "name": "stderr",
          "output_type": "stream",
          "text": [
            "\u001b[92mINFO \u001b[0m:      aggregate_evaluate: received 2 results and 0 failures\n",
            "\u001b[92mINFO \u001b[0m:      \n",
            "\u001b[92mINFO \u001b[0m:      [ROUND 7]\n",
            "\u001b[92mINFO \u001b[0m:      configure_fit: strategy sampled 2 clients (out of 2)\n"
          ]
        },
        {
          "name": "stdout",
          "output_type": "stream",
          "text": [
            "\u001b[36m(ClientAppActor pid=3307035)\u001b[0m [Client 0] fit, config: {}\n"
          ]
        },
        {
          "name": "stderr",
          "output_type": "stream",
          "text": [
            "\u001b[92mINFO \u001b[0m:      aggregate_fit: received 2 results and 0 failures\n",
            "\u001b[92mINFO \u001b[0m:      fit progress: (7, 25.895762392086908, {'accuracy': 0.959}, 621.950099137146)\n",
            "\u001b[92mINFO \u001b[0m:      configure_evaluate: strategy sampled 2 clients (out of 2)\n"
          ]
        },
        {
          "name": "stdout",
          "output_type": "stream",
          "text": [
            "\u001b[36m(ClientAppActor pid=3307035)\u001b[0m [Client 1] evaluate, config: {}\u001b[32m [repeated 2x across cluster]\u001b[0m\n",
            "\u001b[36m(ClientAppActor pid=3307036)\u001b[0m [Client 1] fit, config: {}\n"
          ]
        },
        {
          "name": "stderr",
          "output_type": "stream",
          "text": [
            "\u001b[92mINFO \u001b[0m:      aggregate_evaluate: received 2 results and 0 failures\n",
            "\u001b[92mINFO \u001b[0m:      \n",
            "\u001b[92mINFO \u001b[0m:      [ROUND 8]\n",
            "\u001b[92mINFO \u001b[0m:      configure_fit: strategy sampled 2 clients (out of 2)\n"
          ]
        },
        {
          "name": "stdout",
          "output_type": "stream",
          "text": [
            "\u001b[36m(ClientAppActor pid=3307036)\u001b[0m [Client 0] fit, config: {}\n"
          ]
        },
        {
          "name": "stderr",
          "output_type": "stream",
          "text": [
            "\u001b[92mINFO \u001b[0m:      aggregate_fit: received 2 results and 0 failures\n",
            "\u001b[92mINFO \u001b[0m:      fit progress: (8, 23.43369500467088, {'accuracy': 0.9626}, 711.8442576969974)\n",
            "\u001b[92mINFO \u001b[0m:      configure_evaluate: strategy sampled 2 clients (out of 2)\n"
          ]
        },
        {
          "name": "stdout",
          "output_type": "stream",
          "text": [
            "\u001b[36m(ClientAppActor pid=3307036)\u001b[0m [Client 1] evaluate, config: {}\u001b[32m [repeated 2x across cluster]\u001b[0m\n",
            "\u001b[36m(ClientAppActor pid=3307035)\u001b[0m [Client 1] fit, config: {}\n"
          ]
        },
        {
          "name": "stderr",
          "output_type": "stream",
          "text": [
            "\u001b[92mINFO \u001b[0m:      aggregate_evaluate: received 2 results and 0 failures\n",
            "\u001b[92mINFO \u001b[0m:      \n",
            "\u001b[92mINFO \u001b[0m:      [ROUND 9]\n",
            "\u001b[92mINFO \u001b[0m:      configure_fit: strategy sampled 2 clients (out of 2)\n"
          ]
        },
        {
          "name": "stdout",
          "output_type": "stream",
          "text": [
            "\u001b[36m(ClientAppActor pid=3307035)\u001b[0m [Client 0] fit, config: {}\n"
          ]
        },
        {
          "name": "stderr",
          "output_type": "stream",
          "text": [
            "\u001b[92mINFO \u001b[0m:      aggregate_fit: received 2 results and 0 failures\n",
            "\u001b[92mINFO \u001b[0m:      fit progress: (9, 22.724818551680073, {'accuracy': 0.9646}, 800.9651911540423)\n",
            "\u001b[92mINFO \u001b[0m:      configure_evaluate: strategy sampled 2 clients (out of 2)\n"
          ]
        },
        {
          "name": "stdout",
          "output_type": "stream",
          "text": [
            "\u001b[36m(ClientAppActor pid=3307036)\u001b[0m [Client 0] evaluate, config: {}\u001b[32m [repeated 2x across cluster]\u001b[0m\n",
            "\u001b[36m(ClientAppActor pid=3307036)\u001b[0m [Client 1] fit, config: {}\n"
          ]
        },
        {
          "name": "stderr",
          "output_type": "stream",
          "text": [
            "\u001b[92mINFO \u001b[0m:      aggregate_evaluate: received 2 results and 0 failures\n",
            "\u001b[92mINFO \u001b[0m:      \n",
            "\u001b[92mINFO \u001b[0m:      [ROUND 10]\n",
            "\u001b[92mINFO \u001b[0m:      configure_fit: strategy sampled 2 clients (out of 2)\n"
          ]
        },
        {
          "name": "stdout",
          "output_type": "stream",
          "text": [
            "\u001b[36m(ClientAppActor pid=3307035)\u001b[0m [Client 1] fit, config: {}\n"
          ]
        },
        {
          "name": "stderr",
          "output_type": "stream",
          "text": [
            "\u001b[92mINFO \u001b[0m:      aggregate_fit: received 2 results and 0 failures\n",
            "\u001b[92mINFO \u001b[0m:      fit progress: (10, 22.273399557103403, {'accuracy': 0.9656}, 888.7990275989287)\n",
            "\u001b[92mINFO \u001b[0m:      configure_evaluate: strategy sampled 2 clients (out of 2)\n"
          ]
        },
        {
          "name": "stdout",
          "output_type": "stream",
          "text": [
            "\u001b[36m(ClientAppActor pid=3307036)\u001b[0m [Client 1] evaluate, config: {}\u001b[32m [repeated 2x across cluster]\u001b[0m\n",
            "\u001b[36m(ClientAppActor pid=3307036)\u001b[0m [Client 0] fit, config: {}\n"
          ]
        },
        {
          "name": "stderr",
          "output_type": "stream",
          "text": [
            "\u001b[92mINFO \u001b[0m:      aggregate_evaluate: received 2 results and 0 failures\n",
            "\u001b[92mINFO \u001b[0m:      \n",
            "\u001b[92mINFO \u001b[0m:      [ROUND 11]\n",
            "\u001b[92mINFO \u001b[0m:      configure_fit: strategy sampled 2 clients (out of 2)\n"
          ]
        },
        {
          "name": "stdout",
          "output_type": "stream",
          "text": [
            "\u001b[36m(ClientAppActor pid=3307035)\u001b[0m [Client 0] fit, config: {}\n"
          ]
        },
        {
          "name": "stderr",
          "output_type": "stream",
          "text": [
            "\u001b[92mINFO \u001b[0m:      aggregate_fit: received 2 results and 0 failures\n",
            "\u001b[92mINFO \u001b[0m:      fit progress: (11, 22.304256161558442, {'accuracy': 0.9639}, 977.328732087044)\n",
            "\u001b[92mINFO \u001b[0m:      configure_evaluate: strategy sampled 2 clients (out of 2)\n"
          ]
        },
        {
          "name": "stdout",
          "output_type": "stream",
          "text": [
            "\u001b[36m(ClientAppActor pid=3307035)\u001b[0m [Client 0] evaluate, config: {}\u001b[32m [repeated 2x across cluster]\u001b[0m\n",
            "\u001b[36m(ClientAppActor pid=3307036)\u001b[0m [Client 1] fit, config: {}\n"
          ]
        },
        {
          "name": "stderr",
          "output_type": "stream",
          "text": [
            "\u001b[92mINFO \u001b[0m:      aggregate_evaluate: received 2 results and 0 failures\n",
            "\u001b[92mINFO \u001b[0m:      \n",
            "\u001b[92mINFO \u001b[0m:      [ROUND 12]\n",
            "\u001b[92mINFO \u001b[0m:      configure_fit: strategy sampled 2 clients (out of 2)\n"
          ]
        },
        {
          "name": "stdout",
          "output_type": "stream",
          "text": [
            "\u001b[36m(ClientAppActor pid=3307036)\u001b[0m [Client 1] fit, config: {}\n"
          ]
        },
        {
          "name": "stderr",
          "output_type": "stream",
          "text": [
            "\u001b[92mINFO \u001b[0m:      aggregate_fit: received 2 results and 0 failures\n",
            "\u001b[92mINFO \u001b[0m:      fit progress: (12, 22.6989610879682, {'accuracy': 0.9637}, 1065.1775459640194)\n",
            "\u001b[92mINFO \u001b[0m:      configure_evaluate: strategy sampled 2 clients (out of 2)\n"
          ]
        },
        {
          "name": "stdout",
          "output_type": "stream",
          "text": [
            "\u001b[36m(ClientAppActor pid=3307035)\u001b[0m [Client 1] evaluate, config: {}\u001b[32m [repeated 2x across cluster]\u001b[0m\n",
            "\u001b[36m(ClientAppActor pid=3307035)\u001b[0m [Client 0] fit, config: {}\n"
          ]
        },
        {
          "name": "stderr",
          "output_type": "stream",
          "text": [
            "\u001b[92mINFO \u001b[0m:      aggregate_evaluate: received 2 results and 0 failures\n",
            "\u001b[92mINFO \u001b[0m:      \n",
            "\u001b[92mINFO \u001b[0m:      [ROUND 13]\n",
            "\u001b[92mINFO \u001b[0m:      configure_fit: strategy sampled 2 clients (out of 2)\n"
          ]
        },
        {
          "name": "stdout",
          "output_type": "stream",
          "text": [
            "\u001b[36m(ClientAppActor pid=3307036)\u001b[0m [Client 0] fit, config: {}\n"
          ]
        },
        {
          "name": "stderr",
          "output_type": "stream",
          "text": [
            "\u001b[92mINFO \u001b[0m:      aggregate_fit: received 2 results and 0 failures\n",
            "\u001b[92mINFO \u001b[0m:      fit progress: (13, 22.57520982704591, {'accuracy': 0.9642}, 1152.7730970161501)\n",
            "\u001b[92mINFO \u001b[0m:      configure_evaluate: strategy sampled 2 clients (out of 2)\n"
          ]
        },
        {
          "name": "stdout",
          "output_type": "stream",
          "text": [
            "\u001b[36m(ClientAppActor pid=3307035)\u001b[0m [Client 0] evaluate, config: {}\u001b[32m [repeated 2x across cluster]\u001b[0m\n",
            "\u001b[36m(ClientAppActor pid=3307035)\u001b[0m [Client 1] fit, config: {}\n"
          ]
        },
        {
          "name": "stderr",
          "output_type": "stream",
          "text": [
            "\u001b[92mINFO \u001b[0m:      aggregate_evaluate: received 2 results and 0 failures\n",
            "\u001b[92mINFO \u001b[0m:      \n",
            "\u001b[92mINFO \u001b[0m:      [ROUND 14]\n",
            "\u001b[92mINFO \u001b[0m:      configure_fit: strategy sampled 2 clients (out of 2)\n"
          ]
        },
        {
          "name": "stdout",
          "output_type": "stream",
          "text": [
            "\u001b[36m(ClientAppActor pid=3307036)\u001b[0m [Client 0] fit, config: {}\n"
          ]
        },
        {
          "name": "stderr",
          "output_type": "stream",
          "text": [
            "\u001b[92mINFO \u001b[0m:      aggregate_fit: received 2 results and 0 failures\n",
            "\u001b[92mINFO \u001b[0m:      fit progress: (14, 22.348082250042353, {'accuracy': 0.965}, 1240.0880723220762)\n",
            "\u001b[92mINFO \u001b[0m:      configure_evaluate: strategy sampled 2 clients (out of 2)\n"
          ]
        },
        {
          "name": "stdout",
          "output_type": "stream",
          "text": [
            "\u001b[36m(ClientAppActor pid=3307035)\u001b[0m [Client 0] evaluate, config: {}\u001b[32m [repeated 2x across cluster]\u001b[0m\n",
            "\u001b[36m(ClientAppActor pid=3307035)\u001b[0m [Client 1] fit, config: {}\n"
          ]
        },
        {
          "name": "stderr",
          "output_type": "stream",
          "text": [
            "\u001b[92mINFO \u001b[0m:      aggregate_evaluate: received 2 results and 0 failures\n",
            "\u001b[92mINFO \u001b[0m:      \n",
            "\u001b[92mINFO \u001b[0m:      [ROUND 15]\n",
            "\u001b[92mINFO \u001b[0m:      configure_fit: strategy sampled 2 clients (out of 2)\n"
          ]
        },
        {
          "name": "stdout",
          "output_type": "stream",
          "text": [
            "\u001b[36m(ClientAppActor pid=3307036)\u001b[0m [Client 0] fit, config: {}\n"
          ]
        },
        {
          "name": "stderr",
          "output_type": "stream",
          "text": [
            "\u001b[92mINFO \u001b[0m:      aggregate_fit: received 2 results and 0 failures\n",
            "\u001b[92mINFO \u001b[0m:      fit progress: (15, 22.287570300977677, {'accuracy': 0.9645}, 1328.87307530595)\n",
            "\u001b[92mINFO \u001b[0m:      configure_evaluate: strategy sampled 2 clients (out of 2)\n"
          ]
        },
        {
          "name": "stdout",
          "output_type": "stream",
          "text": [
            "\u001b[36m(ClientAppActor pid=3307035)\u001b[0m [Client 0] evaluate, config: {}\u001b[32m [repeated 2x across cluster]\u001b[0m\n",
            "\u001b[36m(ClientAppActor pid=3307035)\u001b[0m [Client 1] fit, config: {}\n"
          ]
        },
        {
          "name": "stderr",
          "output_type": "stream",
          "text": [
            "\u001b[92mINFO \u001b[0m:      aggregate_evaluate: received 2 results and 0 failures\n",
            "\u001b[92mINFO \u001b[0m:      \n",
            "\u001b[92mINFO \u001b[0m:      [SUMMARY]\n",
            "\u001b[92mINFO \u001b[0m:      Run finished 15 round(s) in 1331.64s\n",
            "\u001b[92mINFO \u001b[0m:      \tHistory (loss, distributed):\n",
            "\u001b[92mINFO \u001b[0m:      \t\tround 1: 6.479375839233398\n",
            "\u001b[92mINFO \u001b[0m:      \t\tround 2: 2.6168824434280396\n",
            "\u001b[92mINFO \u001b[0m:      \t\tround 3: 1.1053667217493057\n",
            "\u001b[92mINFO \u001b[0m:      \t\tround 4: 0.3721312563866377\n",
            "\u001b[92mINFO \u001b[0m:      \t\tround 5: 0.36109858751296997\n",
            "\u001b[92mINFO \u001b[0m:      \t\tround 6: 0.24311099387705326\n",
            "\u001b[92mINFO \u001b[0m:      \t\tround 7: 0.17666379548609257\n",
            "\u001b[92mINFO \u001b[0m:      \t\tround 8: 0.17674367502331734\n",
            "\u001b[92mINFO \u001b[0m:      \t\tround 9: 0.17089364025741816\n",
            "\u001b[92mINFO \u001b[0m:      \t\tround 10: 0.15171315148472786\n",
            "\u001b[92mINFO \u001b[0m:      \t\tround 11: 0.14654962718486786\n",
            "\u001b[92mINFO \u001b[0m:      \t\tround 12: 0.15096499025821686\n",
            "\u001b[92mINFO \u001b[0m:      \t\tround 13: 0.1596426023170352\n",
            "\u001b[92mINFO \u001b[0m:      \t\tround 14: 0.1487898100167513\n",
            "\u001b[92mINFO \u001b[0m:      \t\tround 15: 0.1503572314977646\n",
            "\u001b[92mINFO \u001b[0m:      \tHistory (loss, centralized):\n",
            "\u001b[92mINFO \u001b[0m:      \t\tround 0: 460.8479595184326\n",
            "\u001b[92mINFO \u001b[0m:      \t\tround 1: 648.0272026062012\n",
            "\u001b[92mINFO \u001b[0m:      \t\tround 2: 203.8964106440544\n",
            "\u001b[92mINFO \u001b[0m:      \t\tround 3: 89.76103247702122\n",
            "\u001b[92mINFO \u001b[0m:      \t\tround 4: 45.30186051502824\n",
            "\u001b[92mINFO \u001b[0m:      \t\tround 5: 31.687770888209343\n",
            "\u001b[92mINFO \u001b[0m:      \t\tround 6: 25.24406563816592\n",
            "\u001b[92mINFO \u001b[0m:      \t\tround 7: 25.895762392086908\n",
            "\u001b[92mINFO \u001b[0m:      \t\tround 8: 23.43369500467088\n",
            "\u001b[92mINFO \u001b[0m:      \t\tround 9: 22.724818551680073\n",
            "\u001b[92mINFO \u001b[0m:      \t\tround 10: 22.273399557103403\n",
            "\u001b[92mINFO \u001b[0m:      \t\tround 11: 22.304256161558442\n",
            "\u001b[92mINFO \u001b[0m:      \t\tround 12: 22.6989610879682\n",
            "\u001b[92mINFO \u001b[0m:      \t\tround 13: 22.57520982704591\n",
            "\u001b[92mINFO \u001b[0m:      \t\tround 14: 22.348082250042353\n",
            "\u001b[92mINFO \u001b[0m:      \t\tround 15: 22.287570300977677\n",
            "\u001b[92mINFO \u001b[0m:      \tHistory (metrics, distributed, fit):\n",
            "\u001b[92mINFO \u001b[0m:      \t{'bytes sent': [(1, 135415723.0),\n",
            "\u001b[92mINFO \u001b[0m:      \t                (2, 135415715.0),\n",
            "\u001b[92mINFO \u001b[0m:      \t                (3, 135415719.0),\n",
            "\u001b[92mINFO \u001b[0m:      \t                (4, 135415711.0),\n",
            "\u001b[92mINFO \u001b[0m:      \t                (5, 135415715.0),\n",
            "\u001b[92mINFO \u001b[0m:      \t                (6, 135415711.0),\n",
            "\u001b[92mINFO \u001b[0m:      \t                (7, 135415715.0),\n",
            "\u001b[92mINFO \u001b[0m:      \t                (8, 135415719.0),\n",
            "\u001b[92mINFO \u001b[0m:      \t                (9, 135415719.0),\n",
            "\u001b[92mINFO \u001b[0m:      \t                (10, 135415711.0),\n",
            "\u001b[92mINFO \u001b[0m:      \t                (11, 135415715.0),\n",
            "\u001b[92mINFO \u001b[0m:      \t                (12, 135415711.0),\n",
            "\u001b[92mINFO \u001b[0m:      \t                (13, 135415715.0),\n",
            "\u001b[92mINFO \u001b[0m:      \t                (14, 135415715.0),\n",
            "\u001b[92mINFO \u001b[0m:      \t                (15, 135415711.0)]}\n",
            "\u001b[92mINFO \u001b[0m:      \tHistory (metrics, distributed, evaluate):\n",
            "\u001b[92mINFO \u001b[0m:      \t{'accuracy': [(1, 0.1),\n",
            "\u001b[92mINFO \u001b[0m:      \t              (2, 0.5666666666666667),\n",
            "\u001b[92mINFO \u001b[0m:      \t              (3, 0.85),\n",
            "\u001b[92mINFO \u001b[0m:      \t              (4, 0.9333333333333333),\n",
            "\u001b[92mINFO \u001b[0m:      \t              (5, 0.95),\n",
            "\u001b[92mINFO \u001b[0m:      \t              (6, 0.9416666666666667),\n",
            "\u001b[92mINFO \u001b[0m:      \t              (7, 0.9666666666666666),\n",
            "\u001b[92mINFO \u001b[0m:      \t              (8, 0.975),\n",
            "\u001b[92mINFO \u001b[0m:      \t              (9, 0.9833333333333333),\n",
            "\u001b[92mINFO \u001b[0m:      \t              (10, 0.975),\n",
            "\u001b[92mINFO \u001b[0m:      \t              (11, 0.9833333333333334),\n",
            "\u001b[92mINFO \u001b[0m:      \t              (12, 0.9833333333333333),\n",
            "\u001b[92mINFO \u001b[0m:      \t              (13, 0.9666666666666666),\n",
            "\u001b[92mINFO \u001b[0m:      \t              (14, 0.9833333333333334),\n",
            "\u001b[92mINFO \u001b[0m:      \t              (15, 0.975)]}\n",
            "\u001b[92mINFO \u001b[0m:      \tHistory (metrics, centralized):\n",
            "\u001b[92mINFO \u001b[0m:      \t{'accuracy': [(0, 0.1086),\n",
            "\u001b[92mINFO \u001b[0m:      \t              (1, 0.1135),\n",
            "\u001b[92mINFO \u001b[0m:      \t              (2, 0.6352),\n",
            "\u001b[92mINFO \u001b[0m:      \t              (3, 0.8568),\n",
            "\u001b[92mINFO \u001b[0m:      \t              (4, 0.9275),\n",
            "\u001b[92mINFO \u001b[0m:      \t              (5, 0.9502),\n",
            "\u001b[92mINFO \u001b[0m:      \t              (6, 0.9588),\n",
            "\u001b[92mINFO \u001b[0m:      \t              (7, 0.959),\n",
            "\u001b[92mINFO \u001b[0m:      \t              (8, 0.9626),\n",
            "\u001b[92mINFO \u001b[0m:      \t              (9, 0.9646),\n",
            "\u001b[92mINFO \u001b[0m:      \t              (10, 0.9656),\n",
            "\u001b[92mINFO \u001b[0m:      \t              (11, 0.9639),\n",
            "\u001b[92mINFO \u001b[0m:      \t              (12, 0.9637),\n",
            "\u001b[92mINFO \u001b[0m:      \t              (13, 0.9642),\n",
            "\u001b[92mINFO \u001b[0m:      \t              (14, 0.965),\n",
            "\u001b[92mINFO \u001b[0m:      \t              (15, 0.9645)]}\n",
            "\u001b[92mINFO \u001b[0m:      \n",
            "\u001b[92mINFO \u001b[0m:      Starting Flower simulation, config: num_rounds=15, no round_timeout\n"
          ]
        },
        {
          "name": "stdout",
          "output_type": "stream",
          "text": [
            "Running simulation with pruning rate: 0.30000000000000004\n",
            "\u001b[36m(ClientAppActor pid=3307036)\u001b[0m [Client 1] evaluate, config: {}\n"
          ]
        },
        {
          "name": "stderr",
          "output_type": "stream",
          "text": [
            "2024-07-22 23:04:04,979\tINFO worker.py:1752 -- Started a local Ray instance.\n",
            "\u001b[92mINFO \u001b[0m:      Flower VCE: Ray initialized with resources: {'node:__internal_head__': 1.0, 'accelerator_type:RTX': 1.0, 'object_store_memory': 200000000000.0, 'GPU': 3.0, 'node:10.8.0.3': 1.0, 'CPU': 40.0, 'memory': 862914071552.0}\n",
            "\u001b[92mINFO \u001b[0m:      Optimize your simulation with Flower VCE: https://flower.ai/docs/framework/how-to-run-simulations.html\n",
            "\u001b[92mINFO \u001b[0m:      No `client_resources` specified. Using minimal resources for clients.\n",
            "\u001b[92mINFO \u001b[0m:      Flower VCE: Resources for each Virtual Client: {'num_cpus': 1, 'num_gpus': 0.0}\n",
            "\u001b[92mINFO \u001b[0m:      Flower VCE: Creating VirtualClientEngineActorPool with 40 actors\n",
            "\u001b[92mINFO \u001b[0m:      [INIT]\n",
            "\u001b[92mINFO \u001b[0m:      Requesting initial parameters from one random client\n"
          ]
        },
        {
          "name": "stdout",
          "output_type": "stream",
          "text": [
            "\u001b[36m(ClientAppActor pid=3318553)\u001b[0m [Client 0] get_parameters\n"
          ]
        },
        {
          "name": "stderr",
          "output_type": "stream",
          "text": [
            "\u001b[92mINFO \u001b[0m:      Received initial parameters from one random client\n",
            "\u001b[92mINFO \u001b[0m:      Evaluating initial global parameters\n",
            "\u001b[92mINFO \u001b[0m:      initial parameters (loss, other metrics): 460.7862710952759, {'accuracy': 0.0892}\n",
            "\u001b[92mINFO \u001b[0m:      \n",
            "\u001b[92mINFO \u001b[0m:      [ROUND 1]\n",
            "\u001b[92mINFO \u001b[0m:      configure_fit: strategy sampled 2 clients (out of 2)\n"
          ]
        },
        {
          "name": "stdout",
          "output_type": "stream",
          "text": [
            "\u001b[36m(ClientAppActor pid=3318553)\u001b[0m [Client 0] fit, config: {}\n"
          ]
        },
        {
          "name": "stderr",
          "output_type": "stream",
          "text": [
            "\u001b[92mINFO \u001b[0m:      aggregate_fit: received 2 results and 0 failures\n",
            "\u001b[92mINFO \u001b[0m:      fit progress: (1, 749.0192489624023, {'accuracy': 0.1135}, 92.18185606901534)\n",
            "\u001b[92mINFO \u001b[0m:      configure_evaluate: strategy sampled 2 clients (out of 2)\n"
          ]
        },
        {
          "name": "stdout",
          "output_type": "stream",
          "text": [
            "\u001b[36m(ClientAppActor pid=3318552)\u001b[0m [Client 0] evaluate, config: {}\n",
            "\u001b[36m(ClientAppActor pid=3318552)\u001b[0m [Client 1] fit, config: {}\n"
          ]
        },
        {
          "name": "stderr",
          "output_type": "stream",
          "text": [
            "\u001b[92mINFO \u001b[0m:      aggregate_evaluate: received 2 results and 0 failures\n",
            "\u001b[92mINFO \u001b[0m:      \n",
            "\u001b[92mINFO \u001b[0m:      [ROUND 2]\n",
            "\u001b[92mINFO \u001b[0m:      configure_fit: strategy sampled 2 clients (out of 2)\n"
          ]
        },
        {
          "name": "stdout",
          "output_type": "stream",
          "text": [
            "\u001b[36m(ClientAppActor pid=3318553)\u001b[0m [Client 0] fit, config: {}\n"
          ]
        },
        {
          "name": "stderr",
          "output_type": "stream",
          "text": [
            "\u001b[92mINFO \u001b[0m:      aggregate_fit: received 2 results and 0 failures\n",
            "\u001b[92mINFO \u001b[0m:      fit progress: (2, 135.03707766532898, {'accuracy': 0.7817}, 184.2575119070243)\n",
            "\u001b[92mINFO \u001b[0m:      configure_evaluate: strategy sampled 2 clients (out of 2)\n"
          ]
        },
        {
          "name": "stdout",
          "output_type": "stream",
          "text": [
            "\u001b[36m(ClientAppActor pid=3318553)\u001b[0m [Client 1] evaluate, config: {}\u001b[32m [repeated 2x across cluster]\u001b[0m\n",
            "\u001b[36m(ClientAppActor pid=3318552)\u001b[0m [Client 1] fit, config: {}\n"
          ]
        },
        {
          "name": "stderr",
          "output_type": "stream",
          "text": [
            "\u001b[92mINFO \u001b[0m:      aggregate_evaluate: received 2 results and 0 failures\n",
            "\u001b[92mINFO \u001b[0m:      \n",
            "\u001b[92mINFO \u001b[0m:      [ROUND 3]\n",
            "\u001b[92mINFO \u001b[0m:      configure_fit: strategy sampled 2 clients (out of 2)\n"
          ]
        },
        {
          "name": "stdout",
          "output_type": "stream",
          "text": [
            "\u001b[36m(ClientAppActor pid=3318552)\u001b[0m [Client 1] fit, config: {}\n"
          ]
        },
        {
          "name": "stderr",
          "output_type": "stream",
          "text": [
            "\u001b[92mINFO \u001b[0m:      aggregate_fit: received 2 results and 0 failures\n",
            "\u001b[92mINFO \u001b[0m:      fit progress: (3, 81.36352449655533, {'accuracy': 0.8731}, 275.4765436470043)\n",
            "\u001b[92mINFO \u001b[0m:      configure_evaluate: strategy sampled 2 clients (out of 2)\n"
          ]
        },
        {
          "name": "stdout",
          "output_type": "stream",
          "text": [
            "\u001b[36m(ClientAppActor pid=3318553)\u001b[0m [Client 0] evaluate, config: {}\u001b[32m [repeated 2x across cluster]\u001b[0m\n",
            "\u001b[36m(ClientAppActor pid=3318553)\u001b[0m [Client 0] fit, config: {}\n"
          ]
        },
        {
          "name": "stderr",
          "output_type": "stream",
          "text": [
            "\u001b[92mINFO \u001b[0m:      aggregate_evaluate: received 2 results and 0 failures\n",
            "\u001b[92mINFO \u001b[0m:      \n",
            "\u001b[92mINFO \u001b[0m:      [ROUND 4]\n",
            "\u001b[92mINFO \u001b[0m:      configure_fit: strategy sampled 2 clients (out of 2)\n"
          ]
        },
        {
          "name": "stdout",
          "output_type": "stream",
          "text": [
            "\u001b[36m(ClientAppActor pid=3318552)\u001b[0m [Client 1] fit, config: {}\n"
          ]
        },
        {
          "name": "stderr",
          "output_type": "stream",
          "text": [
            "\u001b[92mINFO \u001b[0m:      aggregate_fit: received 2 results and 0 failures\n",
            "\u001b[92mINFO \u001b[0m:      fit progress: (4, 60.68647122755647, {'accuracy': 0.9034}, 364.3423179020174)\n",
            "\u001b[92mINFO \u001b[0m:      configure_evaluate: strategy sampled 2 clients (out of 2)\n"
          ]
        },
        {
          "name": "stdout",
          "output_type": "stream",
          "text": [
            "\u001b[36m(ClientAppActor pid=3318553)\u001b[0m [Client 0] evaluate, config: {}\u001b[32m [repeated 2x across cluster]\u001b[0m\n",
            "\u001b[36m(ClientAppActor pid=3318553)\u001b[0m [Client 0] fit, config: {}\n"
          ]
        },
        {
          "name": "stderr",
          "output_type": "stream",
          "text": [
            "\u001b[92mINFO \u001b[0m:      aggregate_evaluate: received 2 results and 0 failures\n",
            "\u001b[92mINFO \u001b[0m:      \n",
            "\u001b[92mINFO \u001b[0m:      [ROUND 5]\n",
            "\u001b[92mINFO \u001b[0m:      configure_fit: strategy sampled 2 clients (out of 2)\n"
          ]
        },
        {
          "name": "stdout",
          "output_type": "stream",
          "text": [
            "\u001b[36m(ClientAppActor pid=3318552)\u001b[0m [Client 0] fit, config: {}\n"
          ]
        },
        {
          "name": "stderr",
          "output_type": "stream",
          "text": [
            "\u001b[92mINFO \u001b[0m:      aggregate_fit: received 2 results and 0 failures\n",
            "\u001b[92mINFO \u001b[0m:      fit progress: (5, 41.650426644831896, {'accuracy': 0.9395}, 450.2805799250491)\n",
            "\u001b[92mINFO \u001b[0m:      configure_evaluate: strategy sampled 2 clients (out of 2)\n"
          ]
        },
        {
          "name": "stdout",
          "output_type": "stream",
          "text": [
            "\u001b[36m(ClientAppActor pid=3318553)\u001b[0m [Client 0] evaluate, config: {}\u001b[32m [repeated 2x across cluster]\u001b[0m\n",
            "\u001b[36m(ClientAppActor pid=3318553)\u001b[0m [Client 1] fit, config: {}\n"
          ]
        },
        {
          "name": "stderr",
          "output_type": "stream",
          "text": [
            "\u001b[92mINFO \u001b[0m:      aggregate_evaluate: received 2 results and 0 failures\n",
            "\u001b[92mINFO \u001b[0m:      \n",
            "\u001b[92mINFO \u001b[0m:      [ROUND 6]\n",
            "\u001b[92mINFO \u001b[0m:      configure_fit: strategy sampled 2 clients (out of 2)\n"
          ]
        },
        {
          "name": "stdout",
          "output_type": "stream",
          "text": [
            "\u001b[36m(ClientAppActor pid=3318552)\u001b[0m [Client 1] fit, config: {}\n"
          ]
        },
        {
          "name": "stderr",
          "output_type": "stream",
          "text": [
            "\u001b[92mINFO \u001b[0m:      aggregate_fit: received 2 results and 0 failures\n",
            "\u001b[92mINFO \u001b[0m:      fit progress: (6, 26.265159462112933, {'accuracy': 0.9583}, 536.9174586650915)\n",
            "\u001b[92mINFO \u001b[0m:      configure_evaluate: strategy sampled 2 clients (out of 2)\n"
          ]
        },
        {
          "name": "stdout",
          "output_type": "stream",
          "text": [
            "\u001b[36m(ClientAppActor pid=3318553)\u001b[0m [Client 0] evaluate, config: {}\u001b[32m [repeated 2x across cluster]\u001b[0m\n",
            "\u001b[36m(ClientAppActor pid=3318553)\u001b[0m [Client 0] fit, config: {}\n"
          ]
        },
        {
          "name": "stderr",
          "output_type": "stream",
          "text": [
            "\u001b[92mINFO \u001b[0m:      aggregate_evaluate: received 2 results and 0 failures\n",
            "\u001b[92mINFO \u001b[0m:      \n",
            "\u001b[92mINFO \u001b[0m:      [ROUND 7]\n",
            "\u001b[92mINFO \u001b[0m:      configure_fit: strategy sampled 2 clients (out of 2)\n"
          ]
        },
        {
          "name": "stdout",
          "output_type": "stream",
          "text": [
            "\u001b[36m(ClientAppActor pid=3318552)\u001b[0m [Client 1] fit, config: {}\n"
          ]
        },
        {
          "name": "stderr",
          "output_type": "stream",
          "text": [
            "\u001b[92mINFO \u001b[0m:      aggregate_fit: received 2 results and 0 failures\n",
            "\u001b[92mINFO \u001b[0m:      fit progress: (7, 26.57880668551661, {'accuracy': 0.958}, 623.6510884659365)\n",
            "\u001b[92mINFO \u001b[0m:      configure_evaluate: strategy sampled 2 clients (out of 2)\n"
          ]
        },
        {
          "name": "stdout",
          "output_type": "stream",
          "text": [
            "\u001b[36m(ClientAppActor pid=3318553)\u001b[0m [Client 0] evaluate, config: {}\u001b[32m [repeated 2x across cluster]\u001b[0m\n",
            "\u001b[36m(ClientAppActor pid=3318553)\u001b[0m [Client 0] fit, config: {}\n"
          ]
        },
        {
          "name": "stderr",
          "output_type": "stream",
          "text": [
            "\u001b[92mINFO \u001b[0m:      aggregate_evaluate: received 2 results and 0 failures\n",
            "\u001b[92mINFO \u001b[0m:      \n",
            "\u001b[92mINFO \u001b[0m:      [ROUND 8]\n",
            "\u001b[92mINFO \u001b[0m:      configure_fit: strategy sampled 2 clients (out of 2)\n"
          ]
        },
        {
          "name": "stdout",
          "output_type": "stream",
          "text": [
            "\u001b[36m(ClientAppActor pid=3318552)\u001b[0m [Client 0] fit, config: {}\n"
          ]
        },
        {
          "name": "stderr",
          "output_type": "stream",
          "text": [
            "\u001b[92mINFO \u001b[0m:      aggregate_fit: received 2 results and 0 failures\n",
            "\u001b[92mINFO \u001b[0m:      fit progress: (8, 23.46853697206825, {'accuracy': 0.9629}, 710.498879305087)\n",
            "\u001b[92mINFO \u001b[0m:      configure_evaluate: strategy sampled 2 clients (out of 2)\n"
          ]
        },
        {
          "name": "stdout",
          "output_type": "stream",
          "text": [
            "\u001b[36m(ClientAppActor pid=3318553)\u001b[0m [Client 0] evaluate, config: {}\u001b[32m [repeated 2x across cluster]\u001b[0m\n",
            "\u001b[36m(ClientAppActor pid=3318553)\u001b[0m [Client 1] fit, config: {}\n"
          ]
        },
        {
          "name": "stderr",
          "output_type": "stream",
          "text": [
            "\u001b[92mINFO \u001b[0m:      aggregate_evaluate: received 2 results and 0 failures\n",
            "\u001b[92mINFO \u001b[0m:      \n",
            "\u001b[92mINFO \u001b[0m:      [ROUND 9]\n",
            "\u001b[92mINFO \u001b[0m:      configure_fit: strategy sampled 2 clients (out of 2)\n"
          ]
        },
        {
          "name": "stdout",
          "output_type": "stream",
          "text": [
            "\u001b[36m(ClientAppActor pid=3318552)\u001b[0m [Client 0] fit, config: {}\n"
          ]
        },
        {
          "name": "stderr",
          "output_type": "stream",
          "text": [
            "\u001b[92mINFO \u001b[0m:      aggregate_fit: received 2 results and 0 failures\n",
            "\u001b[92mINFO \u001b[0m:      fit progress: (9, 23.452400827314705, {'accuracy': 0.9629}, 800.3039493861143)\n",
            "\u001b[92mINFO \u001b[0m:      configure_evaluate: strategy sampled 2 clients (out of 2)\n"
          ]
        },
        {
          "name": "stdout",
          "output_type": "stream",
          "text": [
            "\u001b[36m(ClientAppActor pid=3318553)\u001b[0m [Client 1] evaluate, config: {}\u001b[32m [repeated 2x across cluster]\u001b[0m\n",
            "\u001b[36m(ClientAppActor pid=3318553)\u001b[0m [Client 1] fit, config: {}\n"
          ]
        },
        {
          "name": "stderr",
          "output_type": "stream",
          "text": [
            "\u001b[92mINFO \u001b[0m:      aggregate_evaluate: received 2 results and 0 failures\n",
            "\u001b[92mINFO \u001b[0m:      \n",
            "\u001b[92mINFO \u001b[0m:      [ROUND 10]\n",
            "\u001b[92mINFO \u001b[0m:      configure_fit: strategy sampled 2 clients (out of 2)\n"
          ]
        },
        {
          "name": "stdout",
          "output_type": "stream",
          "text": [
            "\u001b[36m(ClientAppActor pid=3318552)\u001b[0m [Client 0] fit, config: {}\n"
          ]
        },
        {
          "name": "stderr",
          "output_type": "stream",
          "text": [
            "\u001b[92mINFO \u001b[0m:      aggregate_fit: received 2 results and 0 failures\n",
            "\u001b[92mINFO \u001b[0m:      fit progress: (10, 22.65739482745994, {'accuracy': 0.9637}, 888.1220202599652)\n",
            "\u001b[92mINFO \u001b[0m:      configure_evaluate: strategy sampled 2 clients (out of 2)\n"
          ]
        },
        {
          "name": "stdout",
          "output_type": "stream",
          "text": [
            "\u001b[36m(ClientAppActor pid=3318553)\u001b[0m [Client 1] evaluate, config: {}\u001b[32m [repeated 2x across cluster]\u001b[0m\n",
            "\u001b[36m(ClientAppActor pid=3318553)\u001b[0m [Client 1] fit, config: {}\n"
          ]
        },
        {
          "name": "stderr",
          "output_type": "stream",
          "text": [
            "\u001b[92mINFO \u001b[0m:      aggregate_evaluate: received 2 results and 0 failures\n",
            "\u001b[92mINFO \u001b[0m:      \n",
            "\u001b[92mINFO \u001b[0m:      [ROUND 11]\n",
            "\u001b[92mINFO \u001b[0m:      configure_fit: strategy sampled 2 clients (out of 2)\n"
          ]
        },
        {
          "name": "stdout",
          "output_type": "stream",
          "text": [
            "\u001b[36m(ClientAppActor pid=3318552)\u001b[0m [Client 0] fit, config: {}\n"
          ]
        },
        {
          "name": "stderr",
          "output_type": "stream",
          "text": [
            "\u001b[92mINFO \u001b[0m:      aggregate_fit: received 2 results and 0 failures\n",
            "\u001b[92mINFO \u001b[0m:      fit progress: (11, 22.976992757059634, {'accuracy': 0.963}, 975.1776641921606)\n",
            "\u001b[92mINFO \u001b[0m:      configure_evaluate: strategy sampled 2 clients (out of 2)\n"
          ]
        },
        {
          "name": "stdout",
          "output_type": "stream",
          "text": [
            "\u001b[36m(ClientAppActor pid=3318553)\u001b[0m [Client 0] evaluate, config: {}\u001b[32m [repeated 2x across cluster]\u001b[0m\n",
            "\u001b[36m(ClientAppActor pid=3318553)\u001b[0m [Client 1] fit, config: {}\n"
          ]
        },
        {
          "name": "stderr",
          "output_type": "stream",
          "text": [
            "\u001b[92mINFO \u001b[0m:      aggregate_evaluate: received 2 results and 0 failures\n",
            "\u001b[92mINFO \u001b[0m:      \n",
            "\u001b[92mINFO \u001b[0m:      [ROUND 12]\n",
            "\u001b[92mINFO \u001b[0m:      configure_fit: strategy sampled 2 clients (out of 2)\n"
          ]
        },
        {
          "name": "stdout",
          "output_type": "stream",
          "text": [
            "\u001b[36m(ClientAppActor pid=3318552)\u001b[0m [Client 1] fit, config: {}\n"
          ]
        },
        {
          "name": "stderr",
          "output_type": "stream",
          "text": [
            "\u001b[92mINFO \u001b[0m:      aggregate_fit: received 2 results and 0 failures\n",
            "\u001b[92mINFO \u001b[0m:      fit progress: (12, 22.431795556563884, {'accuracy': 0.9637}, 1065.3340174530167)\n",
            "\u001b[92mINFO \u001b[0m:      configure_evaluate: strategy sampled 2 clients (out of 2)\n"
          ]
        },
        {
          "name": "stdout",
          "output_type": "stream",
          "text": [
            "\u001b[36m(ClientAppActor pid=3318553)\u001b[0m [Client 0] evaluate, config: {}\u001b[32m [repeated 2x across cluster]\u001b[0m\n",
            "\u001b[36m(ClientAppActor pid=3318553)\u001b[0m [Client 0] fit, config: {}\n"
          ]
        },
        {
          "name": "stderr",
          "output_type": "stream",
          "text": [
            "\u001b[92mINFO \u001b[0m:      aggregate_evaluate: received 2 results and 0 failures\n",
            "\u001b[92mINFO \u001b[0m:      \n",
            "\u001b[92mINFO \u001b[0m:      [ROUND 13]\n",
            "\u001b[92mINFO \u001b[0m:      configure_fit: strategy sampled 2 clients (out of 2)\n"
          ]
        },
        {
          "name": "stdout",
          "output_type": "stream",
          "text": [
            "\u001b[36m(ClientAppActor pid=3318552)\u001b[0m [Client 1] fit, config: {}\n"
          ]
        },
        {
          "name": "stderr",
          "output_type": "stream",
          "text": [
            "\u001b[92mINFO \u001b[0m:      aggregate_fit: received 2 results and 0 failures\n",
            "\u001b[92mINFO \u001b[0m:      fit progress: (13, 22.20032929064473, {'accuracy': 0.9655}, 1155.3689633430913)\n",
            "\u001b[92mINFO \u001b[0m:      configure_evaluate: strategy sampled 2 clients (out of 2)\n"
          ]
        },
        {
          "name": "stdout",
          "output_type": "stream",
          "text": [
            "\u001b[36m(ClientAppActor pid=3318553)\u001b[0m [Client 0] evaluate, config: {}\u001b[32m [repeated 2x across cluster]\u001b[0m\n",
            "\u001b[36m(ClientAppActor pid=3318553)\u001b[0m [Client 0] fit, config: {}\n"
          ]
        },
        {
          "name": "stderr",
          "output_type": "stream",
          "text": [
            "\u001b[92mINFO \u001b[0m:      aggregate_evaluate: received 2 results and 0 failures\n",
            "\u001b[92mINFO \u001b[0m:      \n",
            "\u001b[92mINFO \u001b[0m:      [ROUND 14]\n",
            "\u001b[92mINFO \u001b[0m:      configure_fit: strategy sampled 2 clients (out of 2)\n"
          ]
        },
        {
          "name": "stdout",
          "output_type": "stream",
          "text": [
            "\u001b[36m(ClientAppActor pid=3318552)\u001b[0m [Client 0] fit, config: {}\n"
          ]
        },
        {
          "name": "stderr",
          "output_type": "stream",
          "text": [
            "\u001b[92mINFO \u001b[0m:      aggregate_fit: received 2 results and 0 failures\n",
            "\u001b[92mINFO \u001b[0m:      fit progress: (14, 22.172001493512653, {'accuracy': 0.9651}, 1243.3307781519834)\n",
            "\u001b[92mINFO \u001b[0m:      configure_evaluate: strategy sampled 2 clients (out of 2)\n"
          ]
        },
        {
          "name": "stdout",
          "output_type": "stream",
          "text": [
            "\u001b[36m(ClientAppActor pid=3318553)\u001b[0m [Client 0] evaluate, config: {}\u001b[32m [repeated 2x across cluster]\u001b[0m\n",
            "\u001b[36m(ClientAppActor pid=3318553)\u001b[0m [Client 1] fit, config: {}\n"
          ]
        },
        {
          "name": "stderr",
          "output_type": "stream",
          "text": [
            "\u001b[92mINFO \u001b[0m:      aggregate_evaluate: received 2 results and 0 failures\n",
            "\u001b[92mINFO \u001b[0m:      \n",
            "\u001b[92mINFO \u001b[0m:      [ROUND 15]\n",
            "\u001b[92mINFO \u001b[0m:      configure_fit: strategy sampled 2 clients (out of 2)\n"
          ]
        },
        {
          "name": "stdout",
          "output_type": "stream",
          "text": [
            "\u001b[36m(ClientAppActor pid=3318552)\u001b[0m [Client 1] fit, config: {}\n"
          ]
        },
        {
          "name": "stderr",
          "output_type": "stream",
          "text": [
            "\u001b[92mINFO \u001b[0m:      aggregate_fit: received 2 results and 0 failures\n",
            "\u001b[92mINFO \u001b[0m:      fit progress: (15, 22.033568295359146, {'accuracy': 0.9656}, 1330.41893351404)\n",
            "\u001b[92mINFO \u001b[0m:      configure_evaluate: strategy sampled 2 clients (out of 2)\n"
          ]
        },
        {
          "name": "stdout",
          "output_type": "stream",
          "text": [
            "\u001b[36m(ClientAppActor pid=3318553)\u001b[0m [Client 0] evaluate, config: {}\u001b[32m [repeated 2x across cluster]\u001b[0m\n",
            "\u001b[36m(ClientAppActor pid=3318553)\u001b[0m [Client 0] fit, config: {}\n"
          ]
        },
        {
          "name": "stderr",
          "output_type": "stream",
          "text": [
            "\u001b[92mINFO \u001b[0m:      aggregate_evaluate: received 2 results and 0 failures\n",
            "\u001b[92mINFO \u001b[0m:      \n",
            "\u001b[92mINFO \u001b[0m:      [SUMMARY]\n",
            "\u001b[92mINFO \u001b[0m:      Run finished 15 round(s) in 1333.07s\n",
            "\u001b[92mINFO \u001b[0m:      \tHistory (loss, distributed):\n",
            "\u001b[92mINFO \u001b[0m:      \t\tround 1: 7.564435839653015\n",
            "\u001b[92mINFO \u001b[0m:      \t\tround 2: 1.7487928569316864\n",
            "\u001b[92mINFO \u001b[0m:      \t\tround 3: 1.1489079892635345\n",
            "\u001b[92mINFO \u001b[0m:      \t\tround 4: 0.664080049842596\n",
            "\u001b[92mINFO \u001b[0m:      \t\tround 5: 0.48149753734469414\n",
            "\u001b[92mINFO \u001b[0m:      \t\tround 6: 0.159491085447371\n",
            "\u001b[92mINFO \u001b[0m:      \t\tround 7: 0.26128468103706837\n",
            "\u001b[92mINFO \u001b[0m:      \t\tround 8: 0.20231154654175043\n",
            "\u001b[92mINFO \u001b[0m:      \t\tround 9: 0.1943293190561235\n",
            "\u001b[92mINFO \u001b[0m:      \t\tround 10: 0.1870197900570929\n",
            "\u001b[92mINFO \u001b[0m:      \t\tround 11: 0.19457089947536588\n",
            "\u001b[92mINFO \u001b[0m:      \t\tround 12: 0.19896946800872684\n",
            "\u001b[92mINFO \u001b[0m:      \t\tround 13: 0.18682482978329062\n",
            "\u001b[92mINFO \u001b[0m:      \t\tround 14: 0.19457192486152053\n",
            "\u001b[92mINFO \u001b[0m:      \t\tround 15: 0.2108391998335719\n",
            "\u001b[92mINFO \u001b[0m:      \tHistory (loss, centralized):\n",
            "\u001b[92mINFO \u001b[0m:      \t\tround 0: 460.7862710952759\n",
            "\u001b[92mINFO \u001b[0m:      \t\tround 1: 749.0192489624023\n",
            "\u001b[92mINFO \u001b[0m:      \t\tround 2: 135.03707766532898\n",
            "\u001b[92mINFO \u001b[0m:      \t\tround 3: 81.36352449655533\n",
            "\u001b[92mINFO \u001b[0m:      \t\tround 4: 60.68647122755647\n",
            "\u001b[92mINFO \u001b[0m:      \t\tround 5: 41.650426644831896\n",
            "\u001b[92mINFO \u001b[0m:      \t\tround 6: 26.265159462112933\n",
            "\u001b[92mINFO \u001b[0m:      \t\tround 7: 26.57880668551661\n",
            "\u001b[92mINFO \u001b[0m:      \t\tround 8: 23.46853697206825\n",
            "\u001b[92mINFO \u001b[0m:      \t\tround 9: 23.452400827314705\n",
            "\u001b[92mINFO \u001b[0m:      \t\tround 10: 22.65739482745994\n",
            "\u001b[92mINFO \u001b[0m:      \t\tround 11: 22.976992757059634\n",
            "\u001b[92mINFO \u001b[0m:      \t\tround 12: 22.431795556563884\n",
            "\u001b[92mINFO \u001b[0m:      \t\tround 13: 22.20032929064473\n",
            "\u001b[92mINFO \u001b[0m:      \t\tround 14: 22.172001493512653\n",
            "\u001b[92mINFO \u001b[0m:      \t\tround 15: 22.033568295359146\n",
            "\u001b[92mINFO \u001b[0m:      \tHistory (metrics, distributed, fit):\n",
            "\u001b[92mINFO \u001b[0m:      \t{'bytes sent': [(1, 121471651.0),\n",
            "\u001b[92mINFO \u001b[0m:      \t                (2, 121471651.0),\n",
            "\u001b[92mINFO \u001b[0m:      \t                (3, 121471647.0),\n",
            "\u001b[92mINFO \u001b[0m:      \t                (4, 121471655.0),\n",
            "\u001b[92mINFO \u001b[0m:      \t                (5, 121471655.0),\n",
            "\u001b[92mINFO \u001b[0m:      \t                (6, 121471651.0),\n",
            "\u001b[92mINFO \u001b[0m:      \t                (7, 121471647.0),\n",
            "\u001b[92mINFO \u001b[0m:      \t                (8, 121471647.0),\n",
            "\u001b[92mINFO \u001b[0m:      \t                (9, 121471647.0),\n",
            "\u001b[92mINFO \u001b[0m:      \t                (10, 121471643.0),\n",
            "\u001b[92mINFO \u001b[0m:      \t                (11, 121471643.0),\n",
            "\u001b[92mINFO \u001b[0m:      \t                (12, 121471643.0),\n",
            "\u001b[92mINFO \u001b[0m:      \t                (13, 121471639.0),\n",
            "\u001b[92mINFO \u001b[0m:      \t                (14, 121471643.0),\n",
            "\u001b[92mINFO \u001b[0m:      \t                (15, 121471647.0)]}\n",
            "\u001b[92mINFO \u001b[0m:      \tHistory (metrics, distributed, evaluate):\n",
            "\u001b[92mINFO \u001b[0m:      \t{'accuracy': [(1, 0.1),\n",
            "\u001b[92mINFO \u001b[0m:      \t              (2, 0.7),\n",
            "\u001b[92mINFO \u001b[0m:      \t              (3, 0.8416666666666667),\n",
            "\u001b[92mINFO \u001b[0m:      \t              (4, 0.8999999999999999),\n",
            "\u001b[92mINFO \u001b[0m:      \t              (5, 0.8999999999999999),\n",
            "\u001b[92mINFO \u001b[0m:      \t              (6, 0.9833333333333333),\n",
            "\u001b[92mINFO \u001b[0m:      \t              (7, 0.95),\n",
            "\u001b[92mINFO \u001b[0m:      \t              (8, 0.9833333333333333),\n",
            "\u001b[92mINFO \u001b[0m:      \t              (9, 0.9833333333333333),\n",
            "\u001b[92mINFO \u001b[0m:      \t              (10, 0.9833333333333333),\n",
            "\u001b[92mINFO \u001b[0m:      \t              (11, 0.9833333333333333),\n",
            "\u001b[92mINFO \u001b[0m:      \t              (12, 0.9833333333333333),\n",
            "\u001b[92mINFO \u001b[0m:      \t              (13, 0.9833333333333333),\n",
            "\u001b[92mINFO \u001b[0m:      \t              (14, 0.9833333333333333),\n",
            "\u001b[92mINFO \u001b[0m:      \t              (15, 0.9833333333333333)]}\n",
            "\u001b[92mINFO \u001b[0m:      \tHistory (metrics, centralized):\n",
            "\u001b[92mINFO \u001b[0m:      \t{'accuracy': [(0, 0.0892),\n",
            "\u001b[92mINFO \u001b[0m:      \t              (1, 0.1135),\n",
            "\u001b[92mINFO \u001b[0m:      \t              (2, 0.7817),\n",
            "\u001b[92mINFO \u001b[0m:      \t              (3, 0.8731),\n",
            "\u001b[92mINFO \u001b[0m:      \t              (4, 0.9034),\n",
            "\u001b[92mINFO \u001b[0m:      \t              (5, 0.9395),\n",
            "\u001b[92mINFO \u001b[0m:      \t              (6, 0.9583),\n",
            "\u001b[92mINFO \u001b[0m:      \t              (7, 0.958),\n",
            "\u001b[92mINFO \u001b[0m:      \t              (8, 0.9629),\n",
            "\u001b[92mINFO \u001b[0m:      \t              (9, 0.9629),\n",
            "\u001b[92mINFO \u001b[0m:      \t              (10, 0.9637),\n",
            "\u001b[92mINFO \u001b[0m:      \t              (11, 0.963),\n",
            "\u001b[92mINFO \u001b[0m:      \t              (12, 0.9637),\n",
            "\u001b[92mINFO \u001b[0m:      \t              (13, 0.9655),\n",
            "\u001b[92mINFO \u001b[0m:      \t              (14, 0.9651),\n",
            "\u001b[92mINFO \u001b[0m:      \t              (15, 0.9656)]}\n",
            "\u001b[92mINFO \u001b[0m:      \n",
            "\u001b[92mINFO \u001b[0m:      Starting Flower simulation, config: num_rounds=15, no round_timeout\n"
          ]
        },
        {
          "name": "stdout",
          "output_type": "stream",
          "text": [
            "Running simulation with pruning rate: 0.4\n",
            "\u001b[36m(ClientAppActor pid=3318552)\u001b[0m [Client 1] evaluate, config: {}\n"
          ]
        },
        {
          "name": "stderr",
          "output_type": "stream",
          "text": [
            "2024-07-22 23:26:58,523\tINFO worker.py:1752 -- Started a local Ray instance.\n",
            "\u001b[92mINFO \u001b[0m:      Flower VCE: Ray initialized with resources: {'memory': 862128167936.0, 'accelerator_type:RTX': 1.0, 'GPU': 3.0, 'object_store_memory': 200000000000.0, 'node:__internal_head__': 1.0, 'node:10.8.0.3': 1.0, 'CPU': 40.0}\n",
            "\u001b[92mINFO \u001b[0m:      Optimize your simulation with Flower VCE: https://flower.ai/docs/framework/how-to-run-simulations.html\n",
            "\u001b[92mINFO \u001b[0m:      No `client_resources` specified. Using minimal resources for clients.\n",
            "\u001b[92mINFO \u001b[0m:      Flower VCE: Resources for each Virtual Client: {'num_cpus': 1, 'num_gpus': 0.0}\n",
            "\u001b[92mINFO \u001b[0m:      Flower VCE: Creating VirtualClientEngineActorPool with 40 actors\n",
            "\u001b[92mINFO \u001b[0m:      [INIT]\n",
            "\u001b[92mINFO \u001b[0m:      Requesting initial parameters from one random client\n"
          ]
        },
        {
          "name": "stdout",
          "output_type": "stream",
          "text": [
            "\u001b[36m(ClientAppActor pid=3330109)\u001b[0m [Client 0] get_parameters\n"
          ]
        },
        {
          "name": "stderr",
          "output_type": "stream",
          "text": [
            "\u001b[92mINFO \u001b[0m:      Received initial parameters from one random client\n",
            "\u001b[92mINFO \u001b[0m:      Evaluating initial global parameters\n",
            "\u001b[92mINFO \u001b[0m:      initial parameters (loss, other metrics): 460.78340888023376, {'accuracy': 0.095}\n",
            "\u001b[92mINFO \u001b[0m:      \n",
            "\u001b[92mINFO \u001b[0m:      [ROUND 1]\n",
            "\u001b[92mINFO \u001b[0m:      configure_fit: strategy sampled 2 clients (out of 2)\n"
          ]
        },
        {
          "name": "stdout",
          "output_type": "stream",
          "text": [
            "\u001b[36m(ClientAppActor pid=3330109)\u001b[0m [Client 1] fit, config: {}\n",
            "\u001b[36m(ClientAppActor pid=3330108)\u001b[0m [Client 0] fit, config: {}\n"
          ]
        },
        {
          "name": "stderr",
          "output_type": "stream",
          "text": [
            "\u001b[92mINFO \u001b[0m:      aggregate_fit: received 2 results and 0 failures\n",
            "\u001b[92mINFO \u001b[0m:      fit progress: (1, 748.1416389942169, {'accuracy': 0.1135}, 90.97692810813896)\n",
            "\u001b[92mINFO \u001b[0m:      configure_evaluate: strategy sampled 2 clients (out of 2)\n"
          ]
        },
        {
          "name": "stdout",
          "output_type": "stream",
          "text": [
            "\u001b[36m(ClientAppActor pid=3330108)\u001b[0m [Client 0] evaluate, config: {}\n"
          ]
        },
        {
          "name": "stderr",
          "output_type": "stream",
          "text": [
            "\u001b[92mINFO \u001b[0m:      aggregate_evaluate: received 2 results and 0 failures\n",
            "\u001b[92mINFO \u001b[0m:      \n",
            "\u001b[92mINFO \u001b[0m:      [ROUND 2]\n",
            "\u001b[92mINFO \u001b[0m:      configure_fit: strategy sampled 2 clients (out of 2)\n"
          ]
        },
        {
          "name": "stdout",
          "output_type": "stream",
          "text": [
            "\u001b[36m(ClientAppActor pid=3330109)\u001b[0m [Client 0] fit, config: {}\n"
          ]
        },
        {
          "name": "stderr",
          "output_type": "stream",
          "text": [
            "\u001b[92mINFO \u001b[0m:      aggregate_fit: received 2 results and 0 failures\n",
            "\u001b[92mINFO \u001b[0m:      fit progress: (2, 204.60560569167137, {'accuracy': 0.6666}, 180.4744065599516)\n",
            "\u001b[92mINFO \u001b[0m:      configure_evaluate: strategy sampled 2 clients (out of 2)\n"
          ]
        },
        {
          "name": "stdout",
          "output_type": "stream",
          "text": [
            "\u001b[36m(ClientAppActor pid=3330109)\u001b[0m [Client 0] evaluate, config: {}\u001b[32m [repeated 2x across cluster]\u001b[0m\n",
            "\u001b[36m(ClientAppActor pid=3330108)\u001b[0m [Client 1] fit, config: {}\n"
          ]
        },
        {
          "name": "stderr",
          "output_type": "stream",
          "text": [
            "\u001b[92mINFO \u001b[0m:      aggregate_evaluate: received 2 results and 0 failures\n",
            "\u001b[92mINFO \u001b[0m:      \n",
            "\u001b[92mINFO \u001b[0m:      [ROUND 3]\n",
            "\u001b[92mINFO \u001b[0m:      configure_fit: strategy sampled 2 clients (out of 2)\n"
          ]
        },
        {
          "name": "stdout",
          "output_type": "stream",
          "text": [
            "\u001b[36m(ClientAppActor pid=3330108)\u001b[0m [Client 0] fit, config: {}\n"
          ]
        },
        {
          "name": "stderr",
          "output_type": "stream",
          "text": [
            "\u001b[92mINFO \u001b[0m:      aggregate_fit: received 2 results and 0 failures\n",
            "\u001b[92mINFO \u001b[0m:      fit progress: (3, 52.6202248968184, {'accuracy': 0.9126}, 267.56187091302127)\n",
            "\u001b[92mINFO \u001b[0m:      configure_evaluate: strategy sampled 2 clients (out of 2)\n"
          ]
        },
        {
          "name": "stdout",
          "output_type": "stream",
          "text": [
            "\u001b[36m(ClientAppActor pid=3330109)\u001b[0m [Client 1] evaluate, config: {}\u001b[32m [repeated 2x across cluster]\u001b[0m\n",
            "\u001b[36m(ClientAppActor pid=3330109)\u001b[0m [Client 1] fit, config: {}\n"
          ]
        },
        {
          "name": "stderr",
          "output_type": "stream",
          "text": [
            "\u001b[92mINFO \u001b[0m:      aggregate_evaluate: received 2 results and 0 failures\n",
            "\u001b[92mINFO \u001b[0m:      \n",
            "\u001b[92mINFO \u001b[0m:      [ROUND 4]\n",
            "\u001b[92mINFO \u001b[0m:      configure_fit: strategy sampled 2 clients (out of 2)\n"
          ]
        },
        {
          "name": "stdout",
          "output_type": "stream",
          "text": [
            "\u001b[36m(ClientAppActor pid=3330108)\u001b[0m [Client 0] fit, config: {}\n"
          ]
        },
        {
          "name": "stderr",
          "output_type": "stream",
          "text": [
            "\u001b[92mINFO \u001b[0m:      aggregate_fit: received 2 results and 0 failures\n",
            "\u001b[92mINFO \u001b[0m:      fit progress: (4, 46.02039282768965, {'accuracy': 0.9321}, 353.7476932629943)\n",
            "\u001b[92mINFO \u001b[0m:      configure_evaluate: strategy sampled 2 clients (out of 2)\n"
          ]
        },
        {
          "name": "stdout",
          "output_type": "stream",
          "text": [
            "\u001b[36m(ClientAppActor pid=3330109)\u001b[0m [Client 0] evaluate, config: {}\u001b[32m [repeated 2x across cluster]\u001b[0m\n",
            "\u001b[36m(ClientAppActor pid=3330109)\u001b[0m [Client 1] fit, config: {}\n"
          ]
        },
        {
          "name": "stderr",
          "output_type": "stream",
          "text": [
            "\u001b[92mINFO \u001b[0m:      aggregate_evaluate: received 2 results and 0 failures\n",
            "\u001b[92mINFO \u001b[0m:      \n",
            "\u001b[92mINFO \u001b[0m:      [ROUND 5]\n",
            "\u001b[92mINFO \u001b[0m:      configure_fit: strategy sampled 2 clients (out of 2)\n"
          ]
        },
        {
          "name": "stdout",
          "output_type": "stream",
          "text": [
            "\u001b[36m(ClientAppActor pid=3330108)\u001b[0m [Client 0] fit, config: {}\n"
          ]
        },
        {
          "name": "stderr",
          "output_type": "stream",
          "text": [
            "\u001b[92mINFO \u001b[0m:      aggregate_fit: received 2 results and 0 failures\n",
            "\u001b[92mINFO \u001b[0m:      fit progress: (5, 31.303277552127838, {'accuracy': 0.9485}, 440.3796030541416)\n",
            "\u001b[92mINFO \u001b[0m:      configure_evaluate: strategy sampled 2 clients (out of 2)\n"
          ]
        },
        {
          "name": "stdout",
          "output_type": "stream",
          "text": [
            "\u001b[36m(ClientAppActor pid=3330109)\u001b[0m [Client 0] evaluate, config: {}\u001b[32m [repeated 2x across cluster]\u001b[0m\n",
            "\u001b[36m(ClientAppActor pid=3330109)\u001b[0m [Client 1] fit, config: {}\n"
          ]
        },
        {
          "name": "stderr",
          "output_type": "stream",
          "text": [
            "\u001b[92mINFO \u001b[0m:      aggregate_evaluate: received 2 results and 0 failures\n",
            "\u001b[92mINFO \u001b[0m:      \n",
            "\u001b[92mINFO \u001b[0m:      [ROUND 6]\n",
            "\u001b[92mINFO \u001b[0m:      configure_fit: strategy sampled 2 clients (out of 2)\n"
          ]
        },
        {
          "name": "stdout",
          "output_type": "stream",
          "text": [
            "\u001b[36m(ClientAppActor pid=3330108)\u001b[0m [Client 1] fit, config: {}\n"
          ]
        },
        {
          "name": "stderr",
          "output_type": "stream",
          "text": [
            "\u001b[92mINFO \u001b[0m:      aggregate_fit: received 2 results and 0 failures\n",
            "\u001b[92mINFO \u001b[0m:      fit progress: (6, 29.48907355684787, {'accuracy': 0.9537}, 526.7791390379425)\n",
            "\u001b[92mINFO \u001b[0m:      configure_evaluate: strategy sampled 2 clients (out of 2)\n"
          ]
        },
        {
          "name": "stdout",
          "output_type": "stream",
          "text": [
            "\u001b[36m(ClientAppActor pid=3330109)\u001b[0m [Client 1] evaluate, config: {}\u001b[32m [repeated 2x across cluster]\u001b[0m\n",
            "\u001b[36m(ClientAppActor pid=3330109)\u001b[0m [Client 0] fit, config: {}\n"
          ]
        },
        {
          "name": "stderr",
          "output_type": "stream",
          "text": [
            "\u001b[92mINFO \u001b[0m:      aggregate_evaluate: received 2 results and 0 failures\n",
            "\u001b[92mINFO \u001b[0m:      \n",
            "\u001b[92mINFO \u001b[0m:      [ROUND 7]\n",
            "\u001b[92mINFO \u001b[0m:      configure_fit: strategy sampled 2 clients (out of 2)\n"
          ]
        },
        {
          "name": "stdout",
          "output_type": "stream",
          "text": [
            "\u001b[36m(ClientAppActor pid=3330108)\u001b[0m [Client 1] fit, config: {}\n"
          ]
        },
        {
          "name": "stderr",
          "output_type": "stream",
          "text": [
            "\u001b[92mINFO \u001b[0m:      aggregate_fit: received 2 results and 0 failures\n",
            "\u001b[92mINFO \u001b[0m:      fit progress: (7, 26.58513270947151, {'accuracy': 0.9579}, 612.7711424960289)\n",
            "\u001b[92mINFO \u001b[0m:      configure_evaluate: strategy sampled 2 clients (out of 2)\n"
          ]
        },
        {
          "name": "stdout",
          "output_type": "stream",
          "text": [
            "\u001b[36m(ClientAppActor pid=3330109)\u001b[0m [Client 1] evaluate, config: {}\u001b[32m [repeated 2x across cluster]\u001b[0m\n",
            "\u001b[36m(ClientAppActor pid=3330109)\u001b[0m [Client 0] fit, config: {}\n"
          ]
        },
        {
          "name": "stderr",
          "output_type": "stream",
          "text": [
            "\u001b[92mINFO \u001b[0m:      aggregate_evaluate: received 2 results and 0 failures\n",
            "\u001b[92mINFO \u001b[0m:      \n",
            "\u001b[92mINFO \u001b[0m:      [ROUND 8]\n",
            "\u001b[92mINFO \u001b[0m:      configure_fit: strategy sampled 2 clients (out of 2)\n"
          ]
        },
        {
          "name": "stdout",
          "output_type": "stream",
          "text": [
            "\u001b[36m(ClientAppActor pid=3330108)\u001b[0m [Client 1] fit, config: {}\n"
          ]
        },
        {
          "name": "stderr",
          "output_type": "stream",
          "text": [
            "\u001b[92mINFO \u001b[0m:      aggregate_fit: received 2 results and 0 failures\n",
            "\u001b[92mINFO \u001b[0m:      fit progress: (8, 24.922515004174784, {'accuracy': 0.9601}, 699.9690142569598)\n",
            "\u001b[92mINFO \u001b[0m:      configure_evaluate: strategy sampled 2 clients (out of 2)\n"
          ]
        },
        {
          "name": "stdout",
          "output_type": "stream",
          "text": [
            "\u001b[36m(ClientAppActor pid=3330108)\u001b[0m [Client 1] evaluate, config: {}\u001b[32m [repeated 2x across cluster]\u001b[0m\n",
            "\u001b[36m(ClientAppActor pid=3330109)\u001b[0m [Client 0] fit, config: {}\n"
          ]
        },
        {
          "name": "stderr",
          "output_type": "stream",
          "text": [
            "\u001b[92mINFO \u001b[0m:      aggregate_evaluate: received 2 results and 0 failures\n",
            "\u001b[92mINFO \u001b[0m:      \n",
            "\u001b[92mINFO \u001b[0m:      [ROUND 9]\n",
            "\u001b[92mINFO \u001b[0m:      configure_fit: strategy sampled 2 clients (out of 2)\n"
          ]
        },
        {
          "name": "stdout",
          "output_type": "stream",
          "text": [
            "\u001b[36m(ClientAppActor pid=3330109)\u001b[0m [Client 0] fit, config: {}\n"
          ]
        },
        {
          "name": "stderr",
          "output_type": "stream",
          "text": [
            "\u001b[92mINFO \u001b[0m:      aggregate_fit: received 2 results and 0 failures\n",
            "\u001b[92mINFO \u001b[0m:      fit progress: (9, 24.002986068022437, {'accuracy': 0.9622}, 788.9257592740469)\n",
            "\u001b[92mINFO \u001b[0m:      configure_evaluate: strategy sampled 2 clients (out of 2)\n"
          ]
        },
        {
          "name": "stdout",
          "output_type": "stream",
          "text": [
            "\u001b[36m(ClientAppActor pid=3330108)\u001b[0m [Client 1] evaluate, config: {}\u001b[32m [repeated 2x across cluster]\u001b[0m\n",
            "\u001b[36m(ClientAppActor pid=3330108)\u001b[0m [Client 1] fit, config: {}\n"
          ]
        },
        {
          "name": "stderr",
          "output_type": "stream",
          "text": [
            "\u001b[92mINFO \u001b[0m:      aggregate_evaluate: received 2 results and 0 failures\n",
            "\u001b[92mINFO \u001b[0m:      \n",
            "\u001b[92mINFO \u001b[0m:      [ROUND 10]\n",
            "\u001b[92mINFO \u001b[0m:      configure_fit: strategy sampled 2 clients (out of 2)\n"
          ]
        },
        {
          "name": "stdout",
          "output_type": "stream",
          "text": [
            "\u001b[36m(ClientAppActor pid=3330108)\u001b[0m [Client 0] fit, config: {}\n"
          ]
        },
        {
          "name": "stderr",
          "output_type": "stream",
          "text": [
            "\u001b[92mINFO \u001b[0m:      aggregate_fit: received 2 results and 0 failures\n",
            "\u001b[92mINFO \u001b[0m:      fit progress: (10, 24.252445411751978, {'accuracy': 0.961}, 877.3229874160606)\n",
            "\u001b[92mINFO \u001b[0m:      configure_evaluate: strategy sampled 2 clients (out of 2)\n"
          ]
        },
        {
          "name": "stdout",
          "output_type": "stream",
          "text": [
            "\u001b[36m(ClientAppActor pid=3330108)\u001b[0m [Client 0] evaluate, config: {}\u001b[32m [repeated 2x across cluster]\u001b[0m\n",
            "\u001b[36m(ClientAppActor pid=3330109)\u001b[0m [Client 1] fit, config: {}\n"
          ]
        },
        {
          "name": "stderr",
          "output_type": "stream",
          "text": [
            "\u001b[92mINFO \u001b[0m:      aggregate_evaluate: received 2 results and 0 failures\n",
            "\u001b[92mINFO \u001b[0m:      \n",
            "\u001b[92mINFO \u001b[0m:      [ROUND 11]\n",
            "\u001b[92mINFO \u001b[0m:      configure_fit: strategy sampled 2 clients (out of 2)\n"
          ]
        },
        {
          "name": "stdout",
          "output_type": "stream",
          "text": [
            "\u001b[36m(ClientAppActor pid=3330109)\u001b[0m [Client 1] fit, config: {}\n"
          ]
        },
        {
          "name": "stderr",
          "output_type": "stream",
          "text": [
            "\u001b[92mINFO \u001b[0m:      aggregate_fit: received 2 results and 0 failures\n",
            "\u001b[92mINFO \u001b[0m:      fit progress: (11, 24.04517154081259, {'accuracy': 0.9608}, 968.6602686790284)\n",
            "\u001b[92mINFO \u001b[0m:      configure_evaluate: strategy sampled 2 clients (out of 2)\n"
          ]
        },
        {
          "name": "stdout",
          "output_type": "stream",
          "text": [
            "\u001b[36m(ClientAppActor pid=3330108)\u001b[0m [Client 0] evaluate, config: {}\u001b[32m [repeated 2x across cluster]\u001b[0m\n",
            "\u001b[36m(ClientAppActor pid=3330108)\u001b[0m [Client 0] fit, config: {}\n"
          ]
        },
        {
          "name": "stderr",
          "output_type": "stream",
          "text": [
            "\u001b[92mINFO \u001b[0m:      aggregate_evaluate: received 2 results and 0 failures\n",
            "\u001b[92mINFO \u001b[0m:      \n",
            "\u001b[92mINFO \u001b[0m:      [ROUND 12]\n",
            "\u001b[92mINFO \u001b[0m:      configure_fit: strategy sampled 2 clients (out of 2)\n"
          ]
        },
        {
          "name": "stdout",
          "output_type": "stream",
          "text": [
            "\u001b[36m(ClientAppActor pid=3330109)\u001b[0m [Client 1] fit, config: {}\n"
          ]
        },
        {
          "name": "stderr",
          "output_type": "stream",
          "text": [
            "\u001b[92mINFO \u001b[0m:      aggregate_fit: received 2 results and 0 failures\n",
            "\u001b[92mINFO \u001b[0m:      fit progress: (12, 23.657918955315836, {'accuracy': 0.9618}, 1060.3434975109994)\n",
            "\u001b[92mINFO \u001b[0m:      configure_evaluate: strategy sampled 2 clients (out of 2)\n"
          ]
        },
        {
          "name": "stdout",
          "output_type": "stream",
          "text": [
            "\u001b[36m(ClientAppActor pid=3330108)\u001b[0m [Client 0] evaluate, config: {}\u001b[32m [repeated 2x across cluster]\u001b[0m\n",
            "\u001b[36m(ClientAppActor pid=3330108)\u001b[0m [Client 0] fit, config: {}\n"
          ]
        },
        {
          "name": "stderr",
          "output_type": "stream",
          "text": [
            "\u001b[92mINFO \u001b[0m:      aggregate_evaluate: received 2 results and 0 failures\n",
            "\u001b[92mINFO \u001b[0m:      \n",
            "\u001b[92mINFO \u001b[0m:      [ROUND 13]\n",
            "\u001b[92mINFO \u001b[0m:      configure_fit: strategy sampled 2 clients (out of 2)\n"
          ]
        },
        {
          "name": "stdout",
          "output_type": "stream",
          "text": [
            "\u001b[36m(ClientAppActor pid=3330109)\u001b[0m [Client 0] fit, config: {}\n"
          ]
        },
        {
          "name": "stderr",
          "output_type": "stream",
          "text": [
            "\u001b[92mINFO \u001b[0m:      aggregate_fit: received 2 results and 0 failures\n",
            "\u001b[92mINFO \u001b[0m:      fit progress: (13, 23.417224184493534, {'accuracy': 0.9625}, 1148.4076350389514)\n",
            "\u001b[92mINFO \u001b[0m:      configure_evaluate: strategy sampled 2 clients (out of 2)\n"
          ]
        },
        {
          "name": "stdout",
          "output_type": "stream",
          "text": [
            "\u001b[36m(ClientAppActor pid=3330108)\u001b[0m [Client 1] evaluate, config: {}\u001b[32m [repeated 2x across cluster]\u001b[0m\n",
            "\u001b[36m(ClientAppActor pid=3330108)\u001b[0m [Client 1] fit, config: {}\n"
          ]
        },
        {
          "name": "stderr",
          "output_type": "stream",
          "text": [
            "\u001b[92mINFO \u001b[0m:      aggregate_evaluate: received 2 results and 0 failures\n",
            "\u001b[92mINFO \u001b[0m:      \n",
            "\u001b[92mINFO \u001b[0m:      [ROUND 14]\n",
            "\u001b[92mINFO \u001b[0m:      configure_fit: strategy sampled 2 clients (out of 2)\n"
          ]
        },
        {
          "name": "stdout",
          "output_type": "stream",
          "text": [
            "\u001b[36m(ClientAppActor pid=3330109)\u001b[0m [Client 0] fit, config: {}\n"
          ]
        },
        {
          "name": "stderr",
          "output_type": "stream",
          "text": [
            "\u001b[92mINFO \u001b[0m:      aggregate_fit: received 2 results and 0 failures\n",
            "\u001b[92mINFO \u001b[0m:      fit progress: (14, 23.249159637838602, {'accuracy': 0.9622}, 1235.6842046719976)\n",
            "\u001b[92mINFO \u001b[0m:      configure_evaluate: strategy sampled 2 clients (out of 2)\n"
          ]
        },
        {
          "name": "stdout",
          "output_type": "stream",
          "text": [
            "\u001b[36m(ClientAppActor pid=3330108)\u001b[0m [Client 1] evaluate, config: {}\u001b[32m [repeated 2x across cluster]\u001b[0m\n",
            "\u001b[36m(ClientAppActor pid=3330108)\u001b[0m [Client 1] fit, config: {}\n"
          ]
        },
        {
          "name": "stderr",
          "output_type": "stream",
          "text": [
            "\u001b[92mINFO \u001b[0m:      aggregate_evaluate: received 2 results and 0 failures\n",
            "\u001b[92mINFO \u001b[0m:      \n",
            "\u001b[92mINFO \u001b[0m:      [ROUND 15]\n",
            "\u001b[92mINFO \u001b[0m:      configure_fit: strategy sampled 2 clients (out of 2)\n"
          ]
        },
        {
          "name": "stdout",
          "output_type": "stream",
          "text": [
            "\u001b[36m(ClientAppActor pid=3330109)\u001b[0m [Client 1] fit, config: {}\n"
          ]
        },
        {
          "name": "stderr",
          "output_type": "stream",
          "text": [
            "\u001b[92mINFO \u001b[0m:      aggregate_fit: received 2 results and 0 failures\n",
            "\u001b[92mINFO \u001b[0m:      fit progress: (15, 23.066759309731424, {'accuracy': 0.9632}, 1323.6459482121281)\n",
            "\u001b[92mINFO \u001b[0m:      configure_evaluate: strategy sampled 2 clients (out of 2)\n"
          ]
        },
        {
          "name": "stdout",
          "output_type": "stream",
          "text": [
            "\u001b[36m(ClientAppActor pid=3330108)\u001b[0m [Client 1] evaluate, config: {}\u001b[32m [repeated 2x across cluster]\u001b[0m\n",
            "\u001b[36m(ClientAppActor pid=3330108)\u001b[0m [Client 0] fit, config: {}\n"
          ]
        },
        {
          "name": "stderr",
          "output_type": "stream",
          "text": [
            "\u001b[92mINFO \u001b[0m:      aggregate_evaluate: received 2 results and 0 failures\n",
            "\u001b[92mINFO \u001b[0m:      \n",
            "\u001b[92mINFO \u001b[0m:      [SUMMARY]\n",
            "\u001b[92mINFO \u001b[0m:      Run finished 15 round(s) in 1326.50s\n",
            "\u001b[92mINFO \u001b[0m:      \tHistory (loss, distributed):\n",
            "\u001b[92mINFO \u001b[0m:      \t\tround 1: 7.583672285079956\n",
            "\u001b[92mINFO \u001b[0m:      \t\tround 2: 2.4142450094223022\n",
            "\u001b[92mINFO \u001b[0m:      \t\tround 3: 0.6621730551123619\n",
            "\u001b[92mINFO \u001b[0m:      \t\tround 4: 0.4148241840302944\n",
            "\u001b[92mINFO \u001b[0m:      \t\tround 5: 0.23742404207587242\n",
            "\u001b[92mINFO \u001b[0m:      \t\tround 6: 0.24877318879589438\n",
            "\u001b[92mINFO \u001b[0m:      \t\tround 7: 0.1800096444785595\n",
            "\u001b[92mINFO \u001b[0m:      \t\tround 8: 0.16196203604340553\n",
            "\u001b[92mINFO \u001b[0m:      \t\tround 9: 0.15303086442872882\n",
            "\u001b[92mINFO \u001b[0m:      \t\tround 10: 0.1547030583024025\n",
            "\u001b[92mINFO \u001b[0m:      \t\tround 11: 0.15172332059592009\n",
            "\u001b[92mINFO \u001b[0m:      \t\tround 12: 0.15497353579849005\n",
            "\u001b[92mINFO \u001b[0m:      \t\tround 13: 0.1507057873532176\n",
            "\u001b[92mINFO \u001b[0m:      \t\tround 14: 0.14658983377739787\n",
            "\u001b[92mINFO \u001b[0m:      \t\tround 15: 0.14798079058527946\n",
            "\u001b[92mINFO \u001b[0m:      \tHistory (loss, centralized):\n",
            "\u001b[92mINFO \u001b[0m:      \t\tround 0: 460.78340888023376\n",
            "\u001b[92mINFO \u001b[0m:      \t\tround 1: 748.1416389942169\n",
            "\u001b[92mINFO \u001b[0m:      \t\tround 2: 204.60560569167137\n",
            "\u001b[92mINFO \u001b[0m:      \t\tround 3: 52.6202248968184\n",
            "\u001b[92mINFO \u001b[0m:      \t\tround 4: 46.02039282768965\n",
            "\u001b[92mINFO \u001b[0m:      \t\tround 5: 31.303277552127838\n",
            "\u001b[92mINFO \u001b[0m:      \t\tround 6: 29.48907355684787\n",
            "\u001b[92mINFO \u001b[0m:      \t\tround 7: 26.58513270947151\n",
            "\u001b[92mINFO \u001b[0m:      \t\tround 8: 24.922515004174784\n",
            "\u001b[92mINFO \u001b[0m:      \t\tround 9: 24.002986068022437\n",
            "\u001b[92mINFO \u001b[0m:      \t\tround 10: 24.252445411751978\n",
            "\u001b[92mINFO \u001b[0m:      \t\tround 11: 24.04517154081259\n",
            "\u001b[92mINFO \u001b[0m:      \t\tround 12: 23.657918955315836\n",
            "\u001b[92mINFO \u001b[0m:      \t\tround 13: 23.417224184493534\n",
            "\u001b[92mINFO \u001b[0m:      \t\tround 14: 23.249159637838602\n",
            "\u001b[92mINFO \u001b[0m:      \t\tround 15: 23.066759309731424\n",
            "\u001b[92mINFO \u001b[0m:      \tHistory (metrics, distributed, fit):\n",
            "\u001b[92mINFO \u001b[0m:      \t{'bytes sent': [(1, 107527583.0),\n",
            "\u001b[92mINFO \u001b[0m:      \t                (2, 107527583.0),\n",
            "\u001b[92mINFO \u001b[0m:      \t                (3, 107527579.0),\n",
            "\u001b[92mINFO \u001b[0m:      \t                (4, 107527579.0),\n",
            "\u001b[92mINFO \u001b[0m:      \t                (5, 107527579.0),\n",
            "\u001b[92mINFO \u001b[0m:      \t                (6, 107527575.0),\n",
            "\u001b[92mINFO \u001b[0m:      \t                (7, 107527579.0),\n",
            "\u001b[92mINFO \u001b[0m:      \t                (8, 107527575.0),\n",
            "\u001b[92mINFO \u001b[0m:      \t                (9, 107527571.0),\n",
            "\u001b[92mINFO \u001b[0m:      \t                (10, 107527571.0),\n",
            "\u001b[92mINFO \u001b[0m:      \t                (11, 107527571.0),\n",
            "\u001b[92mINFO \u001b[0m:      \t                (12, 107527567.0),\n",
            "\u001b[92mINFO \u001b[0m:      \t                (13, 107527567.0),\n",
            "\u001b[92mINFO \u001b[0m:      \t                (14, 107527567.0),\n",
            "\u001b[92mINFO \u001b[0m:      \t                (15, 107527571.0)]}\n",
            "\u001b[92mINFO \u001b[0m:      \tHistory (metrics, distributed, evaluate):\n",
            "\u001b[92mINFO \u001b[0m:      \t{'accuracy': [(1, 0.1),\n",
            "\u001b[92mINFO \u001b[0m:      \t              (2, 0.5916666666666667),\n",
            "\u001b[92mINFO \u001b[0m:      \t              (3, 0.8916666666666666),\n",
            "\u001b[92mINFO \u001b[0m:      \t              (4, 0.9416666666666667),\n",
            "\u001b[92mINFO \u001b[0m:      \t              (5, 0.9583333333333333),\n",
            "\u001b[92mINFO \u001b[0m:      \t              (6, 0.9666666666666667),\n",
            "\u001b[92mINFO \u001b[0m:      \t              (7, 0.9833333333333334),\n",
            "\u001b[92mINFO \u001b[0m:      \t              (8, 0.9916666666666667),\n",
            "\u001b[92mINFO \u001b[0m:      \t              (9, 0.9833333333333334),\n",
            "\u001b[92mINFO \u001b[0m:      \t              (10, 0.9833333333333334),\n",
            "\u001b[92mINFO \u001b[0m:      \t              (11, 0.9833333333333334),\n",
            "\u001b[92mINFO \u001b[0m:      \t              (12, 0.9833333333333334),\n",
            "\u001b[92mINFO \u001b[0m:      \t              (13, 0.9916666666666667),\n",
            "\u001b[92mINFO \u001b[0m:      \t              (14, 0.9833333333333334),\n",
            "\u001b[92mINFO \u001b[0m:      \t              (15, 0.9916666666666667)]}\n",
            "\u001b[92mINFO \u001b[0m:      \tHistory (metrics, centralized):\n",
            "\u001b[92mINFO \u001b[0m:      \t{'accuracy': [(0, 0.095),\n",
            "\u001b[92mINFO \u001b[0m:      \t              (1, 0.1135),\n",
            "\u001b[92mINFO \u001b[0m:      \t              (2, 0.6666),\n",
            "\u001b[92mINFO \u001b[0m:      \t              (3, 0.9126),\n",
            "\u001b[92mINFO \u001b[0m:      \t              (4, 0.9321),\n",
            "\u001b[92mINFO \u001b[0m:      \t              (5, 0.9485),\n",
            "\u001b[92mINFO \u001b[0m:      \t              (6, 0.9537),\n",
            "\u001b[92mINFO \u001b[0m:      \t              (7, 0.9579),\n",
            "\u001b[92mINFO \u001b[0m:      \t              (8, 0.9601),\n",
            "\u001b[92mINFO \u001b[0m:      \t              (9, 0.9622),\n",
            "\u001b[92mINFO \u001b[0m:      \t              (10, 0.961),\n",
            "\u001b[92mINFO \u001b[0m:      \t              (11, 0.9608),\n",
            "\u001b[92mINFO \u001b[0m:      \t              (12, 0.9618),\n",
            "\u001b[92mINFO \u001b[0m:      \t              (13, 0.9625),\n",
            "\u001b[92mINFO \u001b[0m:      \t              (14, 0.9622),\n",
            "\u001b[92mINFO \u001b[0m:      \t              (15, 0.9632)]}\n",
            "\u001b[92mINFO \u001b[0m:      \n",
            "\u001b[92mINFO \u001b[0m:      Starting Flower simulation, config: num_rounds=15, no round_timeout\n"
          ]
        },
        {
          "name": "stdout",
          "output_type": "stream",
          "text": [
            "Running simulation with pruning rate: 0.5\n",
            "\u001b[36m(ClientAppActor pid=3330109)\u001b[0m [Client 0] evaluate, config: {}\n"
          ]
        },
        {
          "name": "stderr",
          "output_type": "stream",
          "text": [
            "2024-07-22 23:49:43,937\tINFO worker.py:1752 -- Started a local Ray instance.\n",
            "\u001b[92mINFO \u001b[0m:      Flower VCE: Ray initialized with resources: {'memory': 861546384384.0, 'node:__internal_head__': 1.0, 'GPU': 3.0, 'node:10.8.0.3': 1.0, 'CPU': 40.0, 'accelerator_type:RTX': 1.0, 'object_store_memory': 200000000000.0}\n",
            "\u001b[92mINFO \u001b[0m:      Optimize your simulation with Flower VCE: https://flower.ai/docs/framework/how-to-run-simulations.html\n",
            "\u001b[92mINFO \u001b[0m:      No `client_resources` specified. Using minimal resources for clients.\n",
            "\u001b[92mINFO \u001b[0m:      Flower VCE: Resources for each Virtual Client: {'num_cpus': 1, 'num_gpus': 0.0}\n",
            "\u001b[92mINFO \u001b[0m:      Flower VCE: Creating VirtualClientEngineActorPool with 40 actors\n",
            "\u001b[92mINFO \u001b[0m:      [INIT]\n",
            "\u001b[92mINFO \u001b[0m:      Requesting initial parameters from one random client\n"
          ]
        },
        {
          "name": "stdout",
          "output_type": "stream",
          "text": [
            "\u001b[36m(ClientAppActor pid=3341613)\u001b[0m [Client 1] get_parameters\n"
          ]
        },
        {
          "name": "stderr",
          "output_type": "stream",
          "text": [
            "\u001b[92mINFO \u001b[0m:      Received initial parameters from one random client\n",
            "\u001b[92mINFO \u001b[0m:      Evaluating initial global parameters\n",
            "\u001b[92mINFO \u001b[0m:      initial parameters (loss, other metrics): 460.4514904022217, {'accuracy': 0.1032}\n",
            "\u001b[92mINFO \u001b[0m:      \n",
            "\u001b[92mINFO \u001b[0m:      [ROUND 1]\n",
            "\u001b[92mINFO \u001b[0m:      configure_fit: strategy sampled 2 clients (out of 2)\n"
          ]
        },
        {
          "name": "stdout",
          "output_type": "stream",
          "text": [
            "\u001b[36m(ClientAppActor pid=3341613)\u001b[0m [Client 0] fit, config: {}\n"
          ]
        },
        {
          "name": "stderr",
          "output_type": "stream",
          "text": [
            "\u001b[92mINFO \u001b[0m:      aggregate_fit: received 2 results and 0 failures\n",
            "\u001b[92mINFO \u001b[0m:      fit progress: (1, 910.6736121177673, {'accuracy': 0.1135}, 100.08318682410754)\n",
            "\u001b[92mINFO \u001b[0m:      configure_evaluate: strategy sampled 2 clients (out of 2)\n"
          ]
        },
        {
          "name": "stdout",
          "output_type": "stream",
          "text": [
            "\u001b[36m(ClientAppActor pid=3341612)\u001b[0m [Client 0] evaluate, config: {}\n",
            "\u001b[36m(ClientAppActor pid=3341612)\u001b[0m [Client 1] fit, config: {}\n"
          ]
        },
        {
          "name": "stderr",
          "output_type": "stream",
          "text": [
            "\u001b[92mINFO \u001b[0m:      aggregate_evaluate: received 2 results and 0 failures\n",
            "\u001b[92mINFO \u001b[0m:      \n",
            "\u001b[92mINFO \u001b[0m:      [ROUND 2]\n",
            "\u001b[92mINFO \u001b[0m:      configure_fit: strategy sampled 2 clients (out of 2)\n"
          ]
        },
        {
          "name": "stdout",
          "output_type": "stream",
          "text": [
            "\u001b[36m(ClientAppActor pid=3341612)\u001b[0m [Client 0] fit, config: {}\n"
          ]
        },
        {
          "name": "stderr",
          "output_type": "stream",
          "text": [
            "\u001b[92mINFO \u001b[0m:      aggregate_fit: received 2 results and 0 failures\n",
            "\u001b[92mINFO \u001b[0m:      fit progress: (2, 312.01530373096466, {'accuracy': 0.5342}, 189.85896374820732)\n",
            "\u001b[92mINFO \u001b[0m:      configure_evaluate: strategy sampled 2 clients (out of 2)\n"
          ]
        },
        {
          "name": "stdout",
          "output_type": "stream",
          "text": [
            "\u001b[36m(ClientAppActor pid=3341613)\u001b[0m [Client 1] evaluate, config: {}\u001b[32m [repeated 2x across cluster]\u001b[0m\n",
            "\u001b[36m(ClientAppActor pid=3341613)\u001b[0m [Client 1] fit, config: {}\n"
          ]
        },
        {
          "name": "stderr",
          "output_type": "stream",
          "text": [
            "\u001b[92mINFO \u001b[0m:      aggregate_evaluate: received 2 results and 0 failures\n",
            "\u001b[92mINFO \u001b[0m:      \n",
            "\u001b[92mINFO \u001b[0m:      [ROUND 3]\n",
            "\u001b[92mINFO \u001b[0m:      configure_fit: strategy sampled 2 clients (out of 2)\n"
          ]
        },
        {
          "name": "stdout",
          "output_type": "stream",
          "text": [
            "\u001b[36m(ClientAppActor pid=3341612)\u001b[0m [Client 1] fit, config: {}\n"
          ]
        },
        {
          "name": "stderr",
          "output_type": "stream",
          "text": [
            "\u001b[92mINFO \u001b[0m:      aggregate_fit: received 2 results and 0 failures\n",
            "\u001b[92mINFO \u001b[0m:      fit progress: (3, 52.93070312589407, {'accuracy': 0.9203}, 283.5984148189891)\n",
            "\u001b[92mINFO \u001b[0m:      configure_evaluate: strategy sampled 2 clients (out of 2)\n"
          ]
        },
        {
          "name": "stdout",
          "output_type": "stream",
          "text": [
            "\u001b[36m(ClientAppActor pid=3341612)\u001b[0m [Client 0] evaluate, config: {}\u001b[32m [repeated 2x across cluster]\u001b[0m\n",
            "\u001b[36m(ClientAppActor pid=3341613)\u001b[0m [Client 0] fit, config: {}\n"
          ]
        },
        {
          "name": "stderr",
          "output_type": "stream",
          "text": [
            "\u001b[92mINFO \u001b[0m:      aggregate_evaluate: received 2 results and 0 failures\n",
            "\u001b[92mINFO \u001b[0m:      \n",
            "\u001b[92mINFO \u001b[0m:      [ROUND 4]\n",
            "\u001b[92mINFO \u001b[0m:      configure_fit: strategy sampled 2 clients (out of 2)\n"
          ]
        },
        {
          "name": "stdout",
          "output_type": "stream",
          "text": [
            "\u001b[36m(ClientAppActor pid=3341613)\u001b[0m [Client 1] fit, config: {}\n"
          ]
        },
        {
          "name": "stderr",
          "output_type": "stream",
          "text": [
            "\u001b[92mINFO \u001b[0m:      aggregate_fit: received 2 results and 0 failures\n",
            "\u001b[92mINFO \u001b[0m:      fit progress: (4, 69.23442846536636, {'accuracy': 0.8867}, 373.2733302321285)\n",
            "\u001b[92mINFO \u001b[0m:      configure_evaluate: strategy sampled 2 clients (out of 2)\n"
          ]
        },
        {
          "name": "stdout",
          "output_type": "stream",
          "text": [
            "\u001b[36m(ClientAppActor pid=3341612)\u001b[0m [Client 0] evaluate, config: {}\u001b[32m [repeated 2x across cluster]\u001b[0m\n",
            "\u001b[36m(ClientAppActor pid=3341612)\u001b[0m [Client 0] fit, config: {}\n"
          ]
        },
        {
          "name": "stderr",
          "output_type": "stream",
          "text": [
            "\u001b[92mINFO \u001b[0m:      aggregate_evaluate: received 2 results and 0 failures\n",
            "\u001b[92mINFO \u001b[0m:      \n",
            "\u001b[92mINFO \u001b[0m:      [ROUND 5]\n",
            "\u001b[92mINFO \u001b[0m:      configure_fit: strategy sampled 2 clients (out of 2)\n"
          ]
        },
        {
          "name": "stdout",
          "output_type": "stream",
          "text": [
            "\u001b[36m(ClientAppActor pid=3341613)\u001b[0m [Client 0] fit, config: {}\n"
          ]
        },
        {
          "name": "stderr",
          "output_type": "stream",
          "text": [
            "\u001b[92mINFO \u001b[0m:      aggregate_fit: received 2 results and 0 failures\n",
            "\u001b[92mINFO \u001b[0m:      fit progress: (5, 39.79713368974626, {'accuracy': 0.9407}, 466.49230200308375)\n",
            "\u001b[92mINFO \u001b[0m:      configure_evaluate: strategy sampled 2 clients (out of 2)\n"
          ]
        },
        {
          "name": "stdout",
          "output_type": "stream",
          "text": [
            "\u001b[36m(ClientAppActor pid=3341612)\u001b[0m [Client 1] evaluate, config: {}\u001b[32m [repeated 2x across cluster]\u001b[0m\n",
            "\u001b[36m(ClientAppActor pid=3341612)\u001b[0m [Client 1] fit, config: {}\n"
          ]
        },
        {
          "name": "stderr",
          "output_type": "stream",
          "text": [
            "\u001b[92mINFO \u001b[0m:      aggregate_evaluate: received 2 results and 0 failures\n",
            "\u001b[92mINFO \u001b[0m:      \n",
            "\u001b[92mINFO \u001b[0m:      [ROUND 6]\n",
            "\u001b[92mINFO \u001b[0m:      configure_fit: strategy sampled 2 clients (out of 2)\n"
          ]
        },
        {
          "name": "stdout",
          "output_type": "stream",
          "text": [
            "\u001b[36m(ClientAppActor pid=3341613)\u001b[0m [Client 1] fit, config: {}\n"
          ]
        },
        {
          "name": "stderr",
          "output_type": "stream",
          "text": [
            "\u001b[92mINFO \u001b[0m:      aggregate_fit: received 2 results and 0 failures\n",
            "\u001b[92mINFO \u001b[0m:      fit progress: (6, 33.44181242771447, {'accuracy': 0.9485}, 555.0351987259928)\n",
            "\u001b[92mINFO \u001b[0m:      configure_evaluate: strategy sampled 2 clients (out of 2)\n"
          ]
        },
        {
          "name": "stdout",
          "output_type": "stream",
          "text": [
            "\u001b[36m(ClientAppActor pid=3341612)\u001b[0m [Client 0] evaluate, config: {}\u001b[32m [repeated 2x across cluster]\u001b[0m\n",
            "\u001b[36m(ClientAppActor pid=3341612)\u001b[0m [Client 0] fit, config: {}\n"
          ]
        },
        {
          "name": "stderr",
          "output_type": "stream",
          "text": [
            "\u001b[92mINFO \u001b[0m:      aggregate_evaluate: received 2 results and 0 failures\n",
            "\u001b[92mINFO \u001b[0m:      \n",
            "\u001b[92mINFO \u001b[0m:      [ROUND 7]\n",
            "\u001b[92mINFO \u001b[0m:      configure_fit: strategy sampled 2 clients (out of 2)\n"
          ]
        },
        {
          "name": "stdout",
          "output_type": "stream",
          "text": [
            "\u001b[36m(ClientAppActor pid=3341613)\u001b[0m [Client 0] fit, config: {}\n"
          ]
        },
        {
          "name": "stderr",
          "output_type": "stream",
          "text": [
            "\u001b[92mINFO \u001b[0m:      aggregate_fit: received 2 results and 0 failures\n",
            "\u001b[92mINFO \u001b[0m:      fit progress: (7, 26.377579933498055, {'accuracy': 0.9595}, 643.7095496670809)\n",
            "\u001b[92mINFO \u001b[0m:      configure_evaluate: strategy sampled 2 clients (out of 2)\n"
          ]
        },
        {
          "name": "stdout",
          "output_type": "stream",
          "text": [
            "\u001b[36m(ClientAppActor pid=3341612)\u001b[0m [Client 0] evaluate, config: {}\u001b[32m [repeated 2x across cluster]\u001b[0m\n",
            "\u001b[36m(ClientAppActor pid=3341612)\u001b[0m [Client 1] fit, config: {}\n"
          ]
        },
        {
          "name": "stderr",
          "output_type": "stream",
          "text": [
            "\u001b[92mINFO \u001b[0m:      aggregate_evaluate: received 2 results and 0 failures\n",
            "\u001b[92mINFO \u001b[0m:      \n",
            "\u001b[92mINFO \u001b[0m:      [ROUND 8]\n",
            "\u001b[92mINFO \u001b[0m:      configure_fit: strategy sampled 2 clients (out of 2)\n"
          ]
        },
        {
          "name": "stdout",
          "output_type": "stream",
          "text": [
            "\u001b[36m(ClientAppActor pid=3341613)\u001b[0m [Client 1] fit, config: {}\n"
          ]
        },
        {
          "name": "stderr",
          "output_type": "stream",
          "text": [
            "\u001b[92mINFO \u001b[0m:      aggregate_fit: received 2 results and 0 failures\n",
            "\u001b[92mINFO \u001b[0m:      fit progress: (8, 24.244851788971573, {'accuracy': 0.9631}, 731.7237070961855)\n",
            "\u001b[92mINFO \u001b[0m:      configure_evaluate: strategy sampled 2 clients (out of 2)\n"
          ]
        },
        {
          "name": "stdout",
          "output_type": "stream",
          "text": [
            "\u001b[36m(ClientAppActor pid=3341612)\u001b[0m [Client 1] evaluate, config: {}\u001b[32m [repeated 2x across cluster]\u001b[0m\n",
            "\u001b[36m(ClientAppActor pid=3341612)\u001b[0m [Client 0] fit, config: {}\n"
          ]
        },
        {
          "name": "stderr",
          "output_type": "stream",
          "text": [
            "\u001b[92mINFO \u001b[0m:      aggregate_evaluate: received 2 results and 0 failures\n",
            "\u001b[92mINFO \u001b[0m:      \n",
            "\u001b[92mINFO \u001b[0m:      [ROUND 9]\n",
            "\u001b[92mINFO \u001b[0m:      configure_fit: strategy sampled 2 clients (out of 2)\n"
          ]
        },
        {
          "name": "stdout",
          "output_type": "stream",
          "text": [
            "\u001b[36m(ClientAppActor pid=3341613)\u001b[0m [Client 0] fit, config: {}\n"
          ]
        },
        {
          "name": "stderr",
          "output_type": "stream",
          "text": [
            "\u001b[92mINFO \u001b[0m:      aggregate_fit: received 2 results and 0 failures\n",
            "\u001b[92mINFO \u001b[0m:      fit progress: (9, 24.50356691912748, {'accuracy': 0.9629}, 820.5603600591421)\n",
            "\u001b[92mINFO \u001b[0m:      configure_evaluate: strategy sampled 2 clients (out of 2)\n"
          ]
        },
        {
          "name": "stdout",
          "output_type": "stream",
          "text": [
            "\u001b[36m(ClientAppActor pid=3341612)\u001b[0m [Client 0] evaluate, config: {}\u001b[32m [repeated 2x across cluster]\u001b[0m\n",
            "\u001b[36m(ClientAppActor pid=3341612)\u001b[0m [Client 1] fit, config: {}\n"
          ]
        },
        {
          "name": "stderr",
          "output_type": "stream",
          "text": [
            "\u001b[92mINFO \u001b[0m:      aggregate_evaluate: received 2 results and 0 failures\n",
            "\u001b[92mINFO \u001b[0m:      \n",
            "\u001b[92mINFO \u001b[0m:      [ROUND 10]\n",
            "\u001b[92mINFO \u001b[0m:      configure_fit: strategy sampled 2 clients (out of 2)\n"
          ]
        },
        {
          "name": "stdout",
          "output_type": "stream",
          "text": [
            "\u001b[36m(ClientAppActor pid=3341613)\u001b[0m [Client 1] fit, config: {}\n"
          ]
        },
        {
          "name": "stderr",
          "output_type": "stream",
          "text": [
            "\u001b[92mINFO \u001b[0m:      aggregate_fit: received 2 results and 0 failures\n",
            "\u001b[92mINFO \u001b[0m:      fit progress: (10, 23.20672814140562, {'accuracy': 0.9641}, 913.4322782631498)\n",
            "\u001b[92mINFO \u001b[0m:      configure_evaluate: strategy sampled 2 clients (out of 2)\n"
          ]
        },
        {
          "name": "stdout",
          "output_type": "stream",
          "text": [
            "\u001b[36m(ClientAppActor pid=3341612)\u001b[0m [Client 0] evaluate, config: {}\u001b[32m [repeated 2x across cluster]\u001b[0m\n",
            "\u001b[36m(ClientAppActor pid=3341612)\u001b[0m [Client 0] fit, config: {}\n"
          ]
        },
        {
          "name": "stderr",
          "output_type": "stream",
          "text": [
            "\u001b[92mINFO \u001b[0m:      aggregate_evaluate: received 2 results and 0 failures\n",
            "\u001b[92mINFO \u001b[0m:      \n",
            "\u001b[92mINFO \u001b[0m:      [ROUND 11]\n",
            "\u001b[92mINFO \u001b[0m:      configure_fit: strategy sampled 2 clients (out of 2)\n"
          ]
        },
        {
          "name": "stdout",
          "output_type": "stream",
          "text": [
            "\u001b[36m(ClientAppActor pid=3341612)\u001b[0m [Client 1] fit, config: {}\n"
          ]
        },
        {
          "name": "stderr",
          "output_type": "stream",
          "text": [
            "\u001b[92mINFO \u001b[0m:      aggregate_fit: received 2 results and 0 failures\n",
            "\u001b[92mINFO \u001b[0m:      fit progress: (11, 24.341575371683575, {'accuracy': 0.9633}, 1005.077012848109)\n",
            "\u001b[92mINFO \u001b[0m:      configure_evaluate: strategy sampled 2 clients (out of 2)\n"
          ]
        },
        {
          "name": "stdout",
          "output_type": "stream",
          "text": [
            "\u001b[36m(ClientAppActor pid=3341612)\u001b[0m [Client 1] evaluate, config: {}\u001b[32m [repeated 2x across cluster]\u001b[0m\n",
            "\u001b[36m(ClientAppActor pid=3341613)\u001b[0m [Client 0] fit, config: {}\n"
          ]
        },
        {
          "name": "stderr",
          "output_type": "stream",
          "text": [
            "\u001b[92mINFO \u001b[0m:      aggregate_evaluate: received 2 results and 0 failures\n",
            "\u001b[92mINFO \u001b[0m:      \n",
            "\u001b[92mINFO \u001b[0m:      [ROUND 12]\n",
            "\u001b[92mINFO \u001b[0m:      configure_fit: strategy sampled 2 clients (out of 2)\n"
          ]
        },
        {
          "name": "stdout",
          "output_type": "stream",
          "text": [
            "\u001b[36m(ClientAppActor pid=3341613)\u001b[0m [Client 1] fit, config: {}\n"
          ]
        },
        {
          "name": "stderr",
          "output_type": "stream",
          "text": [
            "\u001b[92mINFO \u001b[0m:      aggregate_fit: received 2 results and 0 failures\n",
            "\u001b[92mINFO \u001b[0m:      fit progress: (12, 23.755940137431026, {'accuracy': 0.9643}, 1095.4418796331156)\n",
            "\u001b[92mINFO \u001b[0m:      configure_evaluate: strategy sampled 2 clients (out of 2)\n"
          ]
        },
        {
          "name": "stdout",
          "output_type": "stream",
          "text": [
            "\u001b[36m(ClientAppActor pid=3341612)\u001b[0m [Client 0] evaluate, config: {}\u001b[32m [repeated 2x across cluster]\u001b[0m\n",
            "\u001b[36m(ClientAppActor pid=3341612)\u001b[0m [Client 0] fit, config: {}\n"
          ]
        },
        {
          "name": "stderr",
          "output_type": "stream",
          "text": [
            "\u001b[92mINFO \u001b[0m:      aggregate_evaluate: received 2 results and 0 failures\n",
            "\u001b[92mINFO \u001b[0m:      \n",
            "\u001b[92mINFO \u001b[0m:      [ROUND 13]\n",
            "\u001b[92mINFO \u001b[0m:      configure_fit: strategy sampled 2 clients (out of 2)\n"
          ]
        },
        {
          "name": "stdout",
          "output_type": "stream",
          "text": [
            "\u001b[36m(ClientAppActor pid=3341613)\u001b[0m [Client 0] fit, config: {}\n"
          ]
        },
        {
          "name": "stderr",
          "output_type": "stream",
          "text": [
            "\u001b[92mINFO \u001b[0m:      aggregate_fit: received 2 results and 0 failures\n",
            "\u001b[92mINFO \u001b[0m:      fit progress: (13, 23.200289539643563, {'accuracy': 0.9646}, 1183.2623867981602)\n",
            "\u001b[92mINFO \u001b[0m:      configure_evaluate: strategy sampled 2 clients (out of 2)\n"
          ]
        },
        {
          "name": "stdout",
          "output_type": "stream",
          "text": [
            "\u001b[36m(ClientAppActor pid=3341612)\u001b[0m [Client 0] evaluate, config: {}\u001b[32m [repeated 2x across cluster]\u001b[0m\n",
            "\u001b[36m(ClientAppActor pid=3341612)\u001b[0m [Client 1] fit, config: {}\n"
          ]
        },
        {
          "name": "stderr",
          "output_type": "stream",
          "text": [
            "\u001b[92mINFO \u001b[0m:      aggregate_evaluate: received 2 results and 0 failures\n",
            "\u001b[92mINFO \u001b[0m:      \n",
            "\u001b[92mINFO \u001b[0m:      [ROUND 14]\n",
            "\u001b[92mINFO \u001b[0m:      configure_fit: strategy sampled 2 clients (out of 2)\n"
          ]
        },
        {
          "name": "stdout",
          "output_type": "stream",
          "text": [
            "\u001b[36m(ClientAppActor pid=3341613)\u001b[0m [Client 0] fit, config: {}\n"
          ]
        },
        {
          "name": "stderr",
          "output_type": "stream",
          "text": [
            "\u001b[92mINFO \u001b[0m:      aggregate_fit: received 2 results and 0 failures\n",
            "\u001b[92mINFO \u001b[0m:      fit progress: (14, 22.93397287838161, {'accuracy': 0.9647}, 1272.1553390310146)\n",
            "\u001b[92mINFO \u001b[0m:      configure_evaluate: strategy sampled 2 clients (out of 2)\n"
          ]
        },
        {
          "name": "stdout",
          "output_type": "stream",
          "text": [
            "\u001b[36m(ClientAppActor pid=3341612)\u001b[0m [Client 1] evaluate, config: {}\u001b[32m [repeated 2x across cluster]\u001b[0m\n",
            "\u001b[36m(ClientAppActor pid=3341612)\u001b[0m [Client 1] fit, config: {}\n"
          ]
        },
        {
          "name": "stderr",
          "output_type": "stream",
          "text": [
            "\u001b[92mINFO \u001b[0m:      aggregate_evaluate: received 2 results and 0 failures\n",
            "\u001b[92mINFO \u001b[0m:      \n",
            "\u001b[92mINFO \u001b[0m:      [ROUND 15]\n",
            "\u001b[92mINFO \u001b[0m:      configure_fit: strategy sampled 2 clients (out of 2)\n"
          ]
        },
        {
          "name": "stdout",
          "output_type": "stream",
          "text": [
            "\u001b[36m(ClientAppActor pid=3341613)\u001b[0m [Client 0] fit, config: {}\n"
          ]
        },
        {
          "name": "stderr",
          "output_type": "stream",
          "text": [
            "\u001b[92mINFO \u001b[0m:      aggregate_fit: received 2 results and 0 failures\n",
            "\u001b[92mINFO \u001b[0m:      fit progress: (15, 23.06690795486793, {'accuracy': 0.9654}, 1363.4710623400752)\n",
            "\u001b[92mINFO \u001b[0m:      configure_evaluate: strategy sampled 2 clients (out of 2)\n"
          ]
        },
        {
          "name": "stdout",
          "output_type": "stream",
          "text": [
            "\u001b[36m(ClientAppActor pid=3341612)\u001b[0m [Client 0] evaluate, config: {}\u001b[32m [repeated 2x across cluster]\u001b[0m\n",
            "\u001b[36m(ClientAppActor pid=3341612)\u001b[0m [Client 1] fit, config: {}\n"
          ]
        },
        {
          "name": "stderr",
          "output_type": "stream",
          "text": [
            "\u001b[92mINFO \u001b[0m:      aggregate_evaluate: received 2 results and 0 failures\n",
            "\u001b[92mINFO \u001b[0m:      \n",
            "\u001b[92mINFO \u001b[0m:      [SUMMARY]\n",
            "\u001b[92mINFO \u001b[0m:      Run finished 15 round(s) in 1366.07s\n",
            "\u001b[92mINFO \u001b[0m:      \tHistory (loss, distributed):\n",
            "\u001b[92mINFO \u001b[0m:      \t\tround 1: 9.439974546432495\n",
            "\u001b[92mINFO \u001b[0m:      \t\tround 2: 4.011667966842651\n",
            "\u001b[92mINFO \u001b[0m:      \t\tround 3: 0.6031151860952377\n",
            "\u001b[92mINFO \u001b[0m:      \t\tround 4: 0.6640930399298668\n",
            "\u001b[92mINFO \u001b[0m:      \t\tround 5: 0.39136550575494766\n",
            "\u001b[92mINFO \u001b[0m:      \t\tround 6: 0.35391818545758724\n",
            "\u001b[92mINFO \u001b[0m:      \t\tround 7: 0.2140392493456602\n",
            "\u001b[92mINFO \u001b[0m:      \t\tround 8: 0.20602679252624512\n",
            "\u001b[92mINFO \u001b[0m:      \t\tround 9: 0.21051856130361557\n",
            "\u001b[92mINFO \u001b[0m:      \t\tround 10: 0.17731945123523474\n",
            "\u001b[92mINFO \u001b[0m:      \t\tround 11: 0.20447617676109076\n",
            "\u001b[92mINFO \u001b[0m:      \t\tround 12: 0.20309318229556084\n",
            "\u001b[92mINFO \u001b[0m:      \t\tround 13: 0.1896084025502205\n",
            "\u001b[92mINFO \u001b[0m:      \t\tround 14: 0.16889801248908043\n",
            "\u001b[92mINFO \u001b[0m:      \t\tround 15: 0.1793481968343258\n",
            "\u001b[92mINFO \u001b[0m:      \tHistory (loss, centralized):\n",
            "\u001b[92mINFO \u001b[0m:      \t\tround 0: 460.4514904022217\n",
            "\u001b[92mINFO \u001b[0m:      \t\tround 1: 910.6736121177673\n",
            "\u001b[92mINFO \u001b[0m:      \t\tround 2: 312.01530373096466\n",
            "\u001b[92mINFO \u001b[0m:      \t\tround 3: 52.93070312589407\n",
            "\u001b[92mINFO \u001b[0m:      \t\tround 4: 69.23442846536636\n",
            "\u001b[92mINFO \u001b[0m:      \t\tround 5: 39.79713368974626\n",
            "\u001b[92mINFO \u001b[0m:      \t\tround 6: 33.44181242771447\n",
            "\u001b[92mINFO \u001b[0m:      \t\tround 7: 26.377579933498055\n",
            "\u001b[92mINFO \u001b[0m:      \t\tround 8: 24.244851788971573\n",
            "\u001b[92mINFO \u001b[0m:      \t\tround 9: 24.50356691912748\n",
            "\u001b[92mINFO \u001b[0m:      \t\tround 10: 23.20672814140562\n",
            "\u001b[92mINFO \u001b[0m:      \t\tround 11: 24.341575371683575\n",
            "\u001b[92mINFO \u001b[0m:      \t\tround 12: 23.755940137431026\n",
            "\u001b[92mINFO \u001b[0m:      \t\tround 13: 23.200289539643563\n",
            "\u001b[92mINFO \u001b[0m:      \t\tround 14: 22.93397287838161\n",
            "\u001b[92mINFO \u001b[0m:      \t\tround 15: 23.06690795486793\n",
            "\u001b[92mINFO \u001b[0m:      \tHistory (metrics, distributed, fit):\n",
            "\u001b[92mINFO \u001b[0m:      \t{'bytes sent': [(1, 93583511.0),\n",
            "\u001b[92mINFO \u001b[0m:      \t                (2, 93583511.0),\n",
            "\u001b[92mINFO \u001b[0m:      \t                (3, 93583511.0),\n",
            "\u001b[92mINFO \u001b[0m:      \t                (4, 93583503.0),\n",
            "\u001b[92mINFO \u001b[0m:      \t                (5, 93583507.0),\n",
            "\u001b[92mINFO \u001b[0m:      \t                (6, 93583503.0),\n",
            "\u001b[92mINFO \u001b[0m:      \t                (7, 93583503.0),\n",
            "\u001b[92mINFO \u001b[0m:      \t                (8, 93583507.0),\n",
            "\u001b[92mINFO \u001b[0m:      \t                (9, 93583507.0),\n",
            "\u001b[92mINFO \u001b[0m:      \t                (10, 93583503.0),\n",
            "\u001b[92mINFO \u001b[0m:      \t                (11, 93583511.0),\n",
            "\u001b[92mINFO \u001b[0m:      \t                (12, 93583503.0),\n",
            "\u001b[92mINFO \u001b[0m:      \t                (13, 93583503.0),\n",
            "\u001b[92mINFO \u001b[0m:      \t                (14, 93583507.0),\n",
            "\u001b[92mINFO \u001b[0m:      \t                (15, 93583511.0)]}\n",
            "\u001b[92mINFO \u001b[0m:      \tHistory (metrics, distributed, evaluate):\n",
            "\u001b[92mINFO \u001b[0m:      \t{'accuracy': [(1, 0.1),\n",
            "\u001b[92mINFO \u001b[0m:      \t              (2, 0.43333333333333335),\n",
            "\u001b[92mINFO \u001b[0m:      \t              (3, 0.9083333333333333),\n",
            "\u001b[92mINFO \u001b[0m:      \t              (4, 0.9083333333333333),\n",
            "\u001b[92mINFO \u001b[0m:      \t              (5, 0.95),\n",
            "\u001b[92mINFO \u001b[0m:      \t              (6, 0.95),\n",
            "\u001b[92mINFO \u001b[0m:      \t              (7, 0.9583333333333333),\n",
            "\u001b[92mINFO \u001b[0m:      \t              (8, 0.975),\n",
            "\u001b[92mINFO \u001b[0m:      \t              (9, 0.9666666666666667),\n",
            "\u001b[92mINFO \u001b[0m:      \t              (10, 0.9833333333333333),\n",
            "\u001b[92mINFO \u001b[0m:      \t              (11, 0.975),\n",
            "\u001b[92mINFO \u001b[0m:      \t              (12, 0.975),\n",
            "\u001b[92mINFO \u001b[0m:      \t              (13, 0.975),\n",
            "\u001b[92mINFO \u001b[0m:      \t              (14, 0.975),\n",
            "\u001b[92mINFO \u001b[0m:      \t              (15, 0.975)]}\n",
            "\u001b[92mINFO \u001b[0m:      \tHistory (metrics, centralized):\n",
            "\u001b[92mINFO \u001b[0m:      \t{'accuracy': [(0, 0.1032),\n",
            "\u001b[92mINFO \u001b[0m:      \t              (1, 0.1135),\n",
            "\u001b[92mINFO \u001b[0m:      \t              (2, 0.5342),\n",
            "\u001b[92mINFO \u001b[0m:      \t              (3, 0.9203),\n",
            "\u001b[92mINFO \u001b[0m:      \t              (4, 0.8867),\n",
            "\u001b[92mINFO \u001b[0m:      \t              (5, 0.9407),\n",
            "\u001b[92mINFO \u001b[0m:      \t              (6, 0.9485),\n",
            "\u001b[92mINFO \u001b[0m:      \t              (7, 0.9595),\n",
            "\u001b[92mINFO \u001b[0m:      \t              (8, 0.9631),\n",
            "\u001b[92mINFO \u001b[0m:      \t              (9, 0.9629),\n",
            "\u001b[92mINFO \u001b[0m:      \t              (10, 0.9641),\n",
            "\u001b[92mINFO \u001b[0m:      \t              (11, 0.9633),\n",
            "\u001b[92mINFO \u001b[0m:      \t              (12, 0.9643),\n",
            "\u001b[92mINFO \u001b[0m:      \t              (13, 0.9646),\n",
            "\u001b[92mINFO \u001b[0m:      \t              (14, 0.9647),\n",
            "\u001b[92mINFO \u001b[0m:      \t              (15, 0.9654)]}\n",
            "\u001b[92mINFO \u001b[0m:      \n",
            "\u001b[92mINFO \u001b[0m:      Starting Flower simulation, config: num_rounds=15, no round_timeout\n"
          ]
        },
        {
          "name": "stdout",
          "output_type": "stream",
          "text": [
            "Running simulation with pruning rate: 0.6\n",
            "\u001b[36m(ClientAppActor pid=3341613)\u001b[0m [Client 1] evaluate, config: {}\n"
          ]
        },
        {
          "name": "stderr",
          "output_type": "stream",
          "text": [
            "2024-07-23 00:13:11,826\tINFO worker.py:1752 -- Started a local Ray instance.\n",
            "\u001b[92mINFO \u001b[0m:      Flower VCE: Ray initialized with resources: {'accelerator_type:RTX': 1.0, 'memory': 861065436160.0, 'object_store_memory': 200000000000.0, 'node:__internal_head__': 1.0, 'GPU': 3.0, 'node:10.8.0.3': 1.0, 'CPU': 40.0}\n",
            "\u001b[92mINFO \u001b[0m:      Optimize your simulation with Flower VCE: https://flower.ai/docs/framework/how-to-run-simulations.html\n",
            "\u001b[92mINFO \u001b[0m:      No `client_resources` specified. Using minimal resources for clients.\n",
            "\u001b[92mINFO \u001b[0m:      Flower VCE: Resources for each Virtual Client: {'num_cpus': 1, 'num_gpus': 0.0}\n",
            "\u001b[92mINFO \u001b[0m:      Flower VCE: Creating VirtualClientEngineActorPool with 40 actors\n",
            "\u001b[92mINFO \u001b[0m:      [INIT]\n",
            "\u001b[92mINFO \u001b[0m:      Requesting initial parameters from one random client\n"
          ]
        },
        {
          "name": "stdout",
          "output_type": "stream",
          "text": [
            "\u001b[36m(ClientAppActor pid=3353411)\u001b[0m [Client 0] get_parameters\n"
          ]
        },
        {
          "name": "stderr",
          "output_type": "stream",
          "text": [
            "\u001b[92mINFO \u001b[0m:      Received initial parameters from one random client\n",
            "\u001b[92mINFO \u001b[0m:      Evaluating initial global parameters\n",
            "\u001b[92mINFO \u001b[0m:      initial parameters (loss, other metrics): 460.7414638996124, {'accuracy': 0.0958}\n",
            "\u001b[92mINFO \u001b[0m:      \n",
            "\u001b[92mINFO \u001b[0m:      [ROUND 1]\n",
            "\u001b[92mINFO \u001b[0m:      configure_fit: strategy sampled 2 clients (out of 2)\n"
          ]
        },
        {
          "name": "stdout",
          "output_type": "stream",
          "text": [
            "\u001b[36m(ClientAppActor pid=3353411)\u001b[0m [Client 0] fit, config: {}\n",
            "\u001b[36m(ClientAppActor pid=3353410)\u001b[0m [Client 1] fit, config: {}\n"
          ]
        },
        {
          "name": "stderr",
          "output_type": "stream",
          "text": [
            "\u001b[92mINFO \u001b[0m:      aggregate_fit: received 2 results and 0 failures\n",
            "\u001b[92mINFO \u001b[0m:      fit progress: (1, 778.4841907024384, {'accuracy': 0.1135}, 90.59366161585785)\n",
            "\u001b[92mINFO \u001b[0m:      configure_evaluate: strategy sampled 2 clients (out of 2)\n"
          ]
        },
        {
          "name": "stdout",
          "output_type": "stream",
          "text": [
            "\u001b[36m(ClientAppActor pid=3353410)\u001b[0m [Client 0] evaluate, config: {}\n"
          ]
        },
        {
          "name": "stderr",
          "output_type": "stream",
          "text": [
            "\u001b[92mINFO \u001b[0m:      aggregate_evaluate: received 2 results and 0 failures\n",
            "\u001b[92mINFO \u001b[0m:      \n",
            "\u001b[92mINFO \u001b[0m:      [ROUND 2]\n",
            "\u001b[92mINFO \u001b[0m:      configure_fit: strategy sampled 2 clients (out of 2)\n"
          ]
        },
        {
          "name": "stdout",
          "output_type": "stream",
          "text": [
            "\u001b[36m(ClientAppActor pid=3353411)\u001b[0m [Client 1] fit, config: {}\n"
          ]
        },
        {
          "name": "stderr",
          "output_type": "stream",
          "text": [
            "\u001b[92mINFO \u001b[0m:      aggregate_fit: received 2 results and 0 failures\n",
            "\u001b[92mINFO \u001b[0m:      fit progress: (2, 702.9830551147461, {'accuracy': 0.1687}, 177.5313385638874)\n",
            "\u001b[92mINFO \u001b[0m:      configure_evaluate: strategy sampled 2 clients (out of 2)\n"
          ]
        },
        {
          "name": "stdout",
          "output_type": "stream",
          "text": [
            "\u001b[36m(ClientAppActor pid=3353410)\u001b[0m [Client 0] evaluate, config: {}\u001b[32m [repeated 2x across cluster]\u001b[0m\n",
            "\u001b[36m(ClientAppActor pid=3353410)\u001b[0m [Client 0] fit, config: {}\n"
          ]
        },
        {
          "name": "stderr",
          "output_type": "stream",
          "text": [
            "\u001b[92mINFO \u001b[0m:      aggregate_evaluate: received 2 results and 0 failures\n",
            "\u001b[92mINFO \u001b[0m:      \n",
            "\u001b[92mINFO \u001b[0m:      [ROUND 3]\n",
            "\u001b[92mINFO \u001b[0m:      configure_fit: strategy sampled 2 clients (out of 2)\n"
          ]
        },
        {
          "name": "stdout",
          "output_type": "stream",
          "text": [
            "\u001b[36m(ClientAppActor pid=3353411)\u001b[0m [Client 0] fit, config: {}\n"
          ]
        },
        {
          "name": "stderr",
          "output_type": "stream",
          "text": [
            "\u001b[92mINFO \u001b[0m:      aggregate_fit: received 2 results and 0 failures\n",
            "\u001b[92mINFO \u001b[0m:      fit progress: (3, 71.0418878942728, {'accuracy': 0.8917}, 263.6546907857992)\n",
            "\u001b[92mINFO \u001b[0m:      configure_evaluate: strategy sampled 2 clients (out of 2)\n"
          ]
        },
        {
          "name": "stdout",
          "output_type": "stream",
          "text": [
            "\u001b[36m(ClientAppActor pid=3353410)\u001b[0m [Client 1] evaluate, config: {}\u001b[32m [repeated 2x across cluster]\u001b[0m\n",
            "\u001b[36m(ClientAppActor pid=3353410)\u001b[0m [Client 1] fit, config: {}\n"
          ]
        },
        {
          "name": "stderr",
          "output_type": "stream",
          "text": [
            "\u001b[92mINFO \u001b[0m:      aggregate_evaluate: received 2 results and 0 failures\n",
            "\u001b[92mINFO \u001b[0m:      \n",
            "\u001b[92mINFO \u001b[0m:      [ROUND 4]\n",
            "\u001b[92mINFO \u001b[0m:      configure_fit: strategy sampled 2 clients (out of 2)\n"
          ]
        },
        {
          "name": "stdout",
          "output_type": "stream",
          "text": [
            "\u001b[36m(ClientAppActor pid=3353411)\u001b[0m [Client 1] fit, config: {}\n"
          ]
        },
        {
          "name": "stderr",
          "output_type": "stream",
          "text": [
            "\u001b[92mINFO \u001b[0m:      aggregate_fit: received 2 results and 0 failures\n",
            "\u001b[92mINFO \u001b[0m:      fit progress: (4, 71.6757802888751, {'accuracy': 0.8947}, 350.6695498859044)\n",
            "\u001b[92mINFO \u001b[0m:      configure_evaluate: strategy sampled 2 clients (out of 2)\n"
          ]
        },
        {
          "name": "stdout",
          "output_type": "stream",
          "text": [
            "\u001b[36m(ClientAppActor pid=3353410)\u001b[0m [Client 0] evaluate, config: {}\u001b[32m [repeated 2x across cluster]\u001b[0m\n",
            "\u001b[36m(ClientAppActor pid=3353410)\u001b[0m [Client 0] fit, config: {}\n"
          ]
        },
        {
          "name": "stderr",
          "output_type": "stream",
          "text": [
            "\u001b[92mINFO \u001b[0m:      aggregate_evaluate: received 2 results and 0 failures\n",
            "\u001b[92mINFO \u001b[0m:      \n",
            "\u001b[92mINFO \u001b[0m:      [ROUND 5]\n",
            "\u001b[92mINFO \u001b[0m:      configure_fit: strategy sampled 2 clients (out of 2)\n"
          ]
        },
        {
          "name": "stdout",
          "output_type": "stream",
          "text": [
            "\u001b[36m(ClientAppActor pid=3353411)\u001b[0m [Client 1] fit, config: {}\n"
          ]
        },
        {
          "name": "stderr",
          "output_type": "stream",
          "text": [
            "\u001b[92mINFO \u001b[0m:      aggregate_fit: received 2 results and 0 failures\n",
            "\u001b[92mINFO \u001b[0m:      fit progress: (5, 35.307018134742975, {'accuracy': 0.9444}, 441.1538040218875)\n",
            "\u001b[92mINFO \u001b[0m:      configure_evaluate: strategy sampled 2 clients (out of 2)\n"
          ]
        },
        {
          "name": "stdout",
          "output_type": "stream",
          "text": [
            "\u001b[36m(ClientAppActor pid=3353411)\u001b[0m [Client 1] evaluate, config: {}\u001b[32m [repeated 2x across cluster]\u001b[0m\n",
            "\u001b[36m(ClientAppActor pid=3353410)\u001b[0m [Client 0] fit, config: {}\n"
          ]
        },
        {
          "name": "stderr",
          "output_type": "stream",
          "text": [
            "\u001b[92mINFO \u001b[0m:      aggregate_evaluate: received 2 results and 0 failures\n",
            "\u001b[92mINFO \u001b[0m:      \n",
            "\u001b[92mINFO \u001b[0m:      [ROUND 6]\n",
            "\u001b[92mINFO \u001b[0m:      configure_fit: strategy sampled 2 clients (out of 2)\n"
          ]
        },
        {
          "name": "stdout",
          "output_type": "stream",
          "text": [
            "\u001b[36m(ClientAppActor pid=3353411)\u001b[0m [Client 1] fit, config: {}\n"
          ]
        },
        {
          "name": "stderr",
          "output_type": "stream",
          "text": [
            "\u001b[92mINFO \u001b[0m:      aggregate_fit: received 2 results and 0 failures\n",
            "\u001b[92mINFO \u001b[0m:      fit progress: (6, 30.359463126398623, {'accuracy': 0.9532}, 529.5103602828458)\n",
            "\u001b[92mINFO \u001b[0m:      configure_evaluate: strategy sampled 2 clients (out of 2)\n"
          ]
        },
        {
          "name": "stdout",
          "output_type": "stream",
          "text": [
            "\u001b[36m(ClientAppActor pid=3353411)\u001b[0m [Client 1] evaluate, config: {}\u001b[32m [repeated 2x across cluster]\u001b[0m\n",
            "\u001b[36m(ClientAppActor pid=3353410)\u001b[0m [Client 0] fit, config: {}\n"
          ]
        },
        {
          "name": "stderr",
          "output_type": "stream",
          "text": [
            "\u001b[92mINFO \u001b[0m:      aggregate_evaluate: received 2 results and 0 failures\n",
            "\u001b[92mINFO \u001b[0m:      \n",
            "\u001b[92mINFO \u001b[0m:      [ROUND 7]\n",
            "\u001b[92mINFO \u001b[0m:      configure_fit: strategy sampled 2 clients (out of 2)\n"
          ]
        },
        {
          "name": "stdout",
          "output_type": "stream",
          "text": [
            "\u001b[36m(ClientAppActor pid=3353410)\u001b[0m [Client 0] fit, config: {}\n"
          ]
        },
        {
          "name": "stderr",
          "output_type": "stream",
          "text": [
            "\u001b[92mINFO \u001b[0m:      aggregate_fit: received 2 results and 0 failures\n",
            "\u001b[92mINFO \u001b[0m:      fit progress: (7, 27.64612726913765, {'accuracy': 0.9563}, 618.7967764649075)\n",
            "\u001b[92mINFO \u001b[0m:      configure_evaluate: strategy sampled 2 clients (out of 2)\n"
          ]
        },
        {
          "name": "stdout",
          "output_type": "stream",
          "text": [
            "\u001b[36m(ClientAppActor pid=3353411)\u001b[0m [Client 0] evaluate, config: {}\u001b[32m [repeated 2x across cluster]\u001b[0m\n",
            "\u001b[36m(ClientAppActor pid=3353411)\u001b[0m [Client 1] fit, config: {}\n"
          ]
        },
        {
          "name": "stderr",
          "output_type": "stream",
          "text": [
            "\u001b[92mINFO \u001b[0m:      aggregate_evaluate: received 2 results and 0 failures\n",
            "\u001b[92mINFO \u001b[0m:      \n",
            "\u001b[92mINFO \u001b[0m:      [ROUND 8]\n",
            "\u001b[92mINFO \u001b[0m:      configure_fit: strategy sampled 2 clients (out of 2)\n"
          ]
        },
        {
          "name": "stdout",
          "output_type": "stream",
          "text": [
            "\u001b[36m(ClientAppActor pid=3353410)\u001b[0m [Client 1] fit, config: {}\n"
          ]
        },
        {
          "name": "stderr",
          "output_type": "stream",
          "text": [
            "\u001b[92mINFO \u001b[0m:      aggregate_fit: received 2 results and 0 failures\n",
            "\u001b[92mINFO \u001b[0m:      fit progress: (8, 24.848423020681366, {'accuracy': 0.9614}, 710.8152821578551)\n",
            "\u001b[92mINFO \u001b[0m:      configure_evaluate: strategy sampled 2 clients (out of 2)\n"
          ]
        },
        {
          "name": "stdout",
          "output_type": "stream",
          "text": [
            "\u001b[36m(ClientAppActor pid=3353411)\u001b[0m [Client 1] evaluate, config: {}\u001b[32m [repeated 2x across cluster]\u001b[0m\n",
            "\u001b[36m(ClientAppActor pid=3353411)\u001b[0m [Client 0] fit, config: {}\n"
          ]
        },
        {
          "name": "stderr",
          "output_type": "stream",
          "text": [
            "\u001b[92mINFO \u001b[0m:      aggregate_evaluate: received 2 results and 0 failures\n",
            "\u001b[92mINFO \u001b[0m:      \n",
            "\u001b[92mINFO \u001b[0m:      [ROUND 9]\n",
            "\u001b[92mINFO \u001b[0m:      configure_fit: strategy sampled 2 clients (out of 2)\n"
          ]
        },
        {
          "name": "stdout",
          "output_type": "stream",
          "text": [
            "\u001b[36m(ClientAppActor pid=3353410)\u001b[0m [Client 1] fit, config: {}\n"
          ]
        },
        {
          "name": "stderr",
          "output_type": "stream",
          "text": [
            "\u001b[92mINFO \u001b[0m:      aggregate_fit: received 2 results and 0 failures\n",
            "\u001b[92mINFO \u001b[0m:      fit progress: (9, 23.84988056658767, {'accuracy': 0.9623}, 797.7903970449697)\n",
            "\u001b[92mINFO \u001b[0m:      configure_evaluate: strategy sampled 2 clients (out of 2)\n"
          ]
        },
        {
          "name": "stdout",
          "output_type": "stream",
          "text": [
            "\u001b[36m(ClientAppActor pid=3353411)\u001b[0m [Client 0] evaluate, config: {}\u001b[32m [repeated 2x across cluster]\u001b[0m\n",
            "\u001b[36m(ClientAppActor pid=3353411)\u001b[0m [Client 0] fit, config: {}\n"
          ]
        },
        {
          "name": "stderr",
          "output_type": "stream",
          "text": [
            "\u001b[92mINFO \u001b[0m:      aggregate_evaluate: received 2 results and 0 failures\n",
            "\u001b[92mINFO \u001b[0m:      \n",
            "\u001b[92mINFO \u001b[0m:      [ROUND 10]\n",
            "\u001b[92mINFO \u001b[0m:      configure_fit: strategy sampled 2 clients (out of 2)\n"
          ]
        },
        {
          "name": "stdout",
          "output_type": "stream",
          "text": [
            "\u001b[36m(ClientAppActor pid=3353410)\u001b[0m [Client 1] fit, config: {}\n"
          ]
        },
        {
          "name": "stderr",
          "output_type": "stream",
          "text": [
            "\u001b[92mINFO \u001b[0m:      aggregate_fit: received 2 results and 0 failures\n",
            "\u001b[92mINFO \u001b[0m:      fit progress: (10, 23.814924174337648, {'accuracy': 0.9619}, 886.0064767398871)\n",
            "\u001b[92mINFO \u001b[0m:      configure_evaluate: strategy sampled 2 clients (out of 2)\n"
          ]
        },
        {
          "name": "stdout",
          "output_type": "stream",
          "text": [
            "\u001b[36m(ClientAppActor pid=3353411)\u001b[0m [Client 1] evaluate, config: {}\u001b[32m [repeated 2x across cluster]\u001b[0m\n",
            "\u001b[36m(ClientAppActor pid=3353411)\u001b[0m [Client 0] fit, config: {}\n"
          ]
        },
        {
          "name": "stderr",
          "output_type": "stream",
          "text": [
            "\u001b[92mINFO \u001b[0m:      aggregate_evaluate: received 2 results and 0 failures\n",
            "\u001b[92mINFO \u001b[0m:      \n",
            "\u001b[92mINFO \u001b[0m:      [ROUND 11]\n",
            "\u001b[92mINFO \u001b[0m:      configure_fit: strategy sampled 2 clients (out of 2)\n"
          ]
        },
        {
          "name": "stdout",
          "output_type": "stream",
          "text": [
            "\u001b[36m(ClientAppActor pid=3353410)\u001b[0m [Client 0] fit, config: {}\n"
          ]
        },
        {
          "name": "stderr",
          "output_type": "stream",
          "text": [
            "\u001b[92mINFO \u001b[0m:      aggregate_fit: received 2 results and 0 failures\n",
            "\u001b[92mINFO \u001b[0m:      fit progress: (11, 23.210445255273953, {'accuracy': 0.963}, 973.1769650799688)\n",
            "\u001b[92mINFO \u001b[0m:      configure_evaluate: strategy sampled 2 clients (out of 2)\n"
          ]
        },
        {
          "name": "stdout",
          "output_type": "stream",
          "text": [
            "\u001b[36m(ClientAppActor pid=3353411)\u001b[0m [Client 1] evaluate, config: {}\u001b[32m [repeated 2x across cluster]\u001b[0m\n",
            "\u001b[36m(ClientAppActor pid=3353411)\u001b[0m [Client 1] fit, config: {}\n"
          ]
        },
        {
          "name": "stderr",
          "output_type": "stream",
          "text": [
            "\u001b[92mINFO \u001b[0m:      aggregate_evaluate: received 2 results and 0 failures\n",
            "\u001b[92mINFO \u001b[0m:      \n",
            "\u001b[92mINFO \u001b[0m:      [ROUND 12]\n",
            "\u001b[92mINFO \u001b[0m:      configure_fit: strategy sampled 2 clients (out of 2)\n"
          ]
        },
        {
          "name": "stdout",
          "output_type": "stream",
          "text": [
            "\u001b[36m(ClientAppActor pid=3353411)\u001b[0m [Client 0] fit, config: {}\n"
          ]
        },
        {
          "name": "stderr",
          "output_type": "stream",
          "text": [
            "\u001b[92mINFO \u001b[0m:      aggregate_fit: received 2 results and 0 failures\n",
            "\u001b[92mINFO \u001b[0m:      fit progress: (12, 23.79295638645999, {'accuracy': 0.9631}, 1059.8252727699)\n",
            "\u001b[92mINFO \u001b[0m:      configure_evaluate: strategy sampled 2 clients (out of 2)\n"
          ]
        },
        {
          "name": "stdout",
          "output_type": "stream",
          "text": [
            "\u001b[36m(ClientAppActor pid=3353411)\u001b[0m [Client 1] evaluate, config: {}\u001b[32m [repeated 2x across cluster]\u001b[0m\n",
            "\u001b[36m(ClientAppActor pid=3353410)\u001b[0m [Client 1] fit, config: {}\n"
          ]
        },
        {
          "name": "stderr",
          "output_type": "stream",
          "text": [
            "\u001b[92mINFO \u001b[0m:      aggregate_evaluate: received 2 results and 0 failures\n",
            "\u001b[92mINFO \u001b[0m:      \n",
            "\u001b[92mINFO \u001b[0m:      [ROUND 13]\n",
            "\u001b[92mINFO \u001b[0m:      configure_fit: strategy sampled 2 clients (out of 2)\n"
          ]
        },
        {
          "name": "stdout",
          "output_type": "stream",
          "text": [
            "\u001b[36m(ClientAppActor pid=3353410)\u001b[0m [Client 1] fit, config: {}\n"
          ]
        },
        {
          "name": "stderr",
          "output_type": "stream",
          "text": [
            "\u001b[92mINFO \u001b[0m:      aggregate_fit: received 2 results and 0 failures\n",
            "\u001b[92mINFO \u001b[0m:      fit progress: (13, 30.563321974594146, {'accuracy': 0.9532}, 1146.110412538983)\n",
            "\u001b[92mINFO \u001b[0m:      configure_evaluate: strategy sampled 2 clients (out of 2)\n"
          ]
        },
        {
          "name": "stdout",
          "output_type": "stream",
          "text": [
            "\u001b[36m(ClientAppActor pid=3353411)\u001b[0m [Client 0] evaluate, config: {}\u001b[32m [repeated 2x across cluster]\u001b[0m\n",
            "\u001b[36m(ClientAppActor pid=3353411)\u001b[0m [Client 0] fit, config: {}\n"
          ]
        },
        {
          "name": "stderr",
          "output_type": "stream",
          "text": [
            "\u001b[92mINFO \u001b[0m:      aggregate_evaluate: received 2 results and 0 failures\n",
            "\u001b[92mINFO \u001b[0m:      \n",
            "\u001b[92mINFO \u001b[0m:      [ROUND 14]\n",
            "\u001b[92mINFO \u001b[0m:      configure_fit: strategy sampled 2 clients (out of 2)\n"
          ]
        },
        {
          "name": "stdout",
          "output_type": "stream",
          "text": [
            "\u001b[36m(ClientAppActor pid=3353410)\u001b[0m [Client 0] fit, config: {}\n"
          ]
        },
        {
          "name": "stderr",
          "output_type": "stream",
          "text": [
            "\u001b[92mINFO \u001b[0m:      aggregate_fit: received 2 results and 0 failures\n",
            "\u001b[92mINFO \u001b[0m:      fit progress: (14, 25.467271378031, {'accuracy': 0.9608}, 1235.533038096968)\n",
            "\u001b[92mINFO \u001b[0m:      configure_evaluate: strategy sampled 2 clients (out of 2)\n"
          ]
        },
        {
          "name": "stdout",
          "output_type": "stream",
          "text": [
            "\u001b[36m(ClientAppActor pid=3353411)\u001b[0m [Client 0] evaluate, config: {}\u001b[32m [repeated 2x across cluster]\u001b[0m\n",
            "\u001b[36m(ClientAppActor pid=3353411)\u001b[0m [Client 1] fit, config: {}\n"
          ]
        },
        {
          "name": "stderr",
          "output_type": "stream",
          "text": [
            "\u001b[92mINFO \u001b[0m:      aggregate_evaluate: received 2 results and 0 failures\n",
            "\u001b[92mINFO \u001b[0m:      \n",
            "\u001b[92mINFO \u001b[0m:      [ROUND 15]\n",
            "\u001b[92mINFO \u001b[0m:      configure_fit: strategy sampled 2 clients (out of 2)\n"
          ]
        },
        {
          "name": "stdout",
          "output_type": "stream",
          "text": [
            "\u001b[36m(ClientAppActor pid=3353410)\u001b[0m [Client 0] fit, config: {}\n"
          ]
        },
        {
          "name": "stderr",
          "output_type": "stream",
          "text": [
            "\u001b[92mINFO \u001b[0m:      aggregate_fit: received 2 results and 0 failures\n",
            "\u001b[92mINFO \u001b[0m:      fit progress: (15, 23.35361053876113, {'accuracy': 0.9635}, 1328.0522283008322)\n",
            "\u001b[92mINFO \u001b[0m:      configure_evaluate: strategy sampled 2 clients (out of 2)\n"
          ]
        },
        {
          "name": "stdout",
          "output_type": "stream",
          "text": [
            "\u001b[36m(ClientAppActor pid=3353411)\u001b[0m [Client 1] evaluate, config: {}\u001b[32m [repeated 2x across cluster]\u001b[0m\n",
            "\u001b[36m(ClientAppActor pid=3353411)\u001b[0m [Client 1] fit, config: {}\n"
          ]
        },
        {
          "name": "stderr",
          "output_type": "stream",
          "text": [
            "\u001b[92mINFO \u001b[0m:      aggregate_evaluate: received 2 results and 0 failures\n",
            "\u001b[92mINFO \u001b[0m:      \n",
            "\u001b[92mINFO \u001b[0m:      [SUMMARY]\n",
            "\u001b[92mINFO \u001b[0m:      Run finished 15 round(s) in 1330.55s\n",
            "\u001b[92mINFO \u001b[0m:      \tHistory (loss, distributed):\n",
            "\u001b[92mINFO \u001b[0m:      \t\tround 1: 7.876749157905579\n",
            "\u001b[92mINFO \u001b[0m:      \t\tround 2: 8.07259714603424\n",
            "\u001b[92mINFO \u001b[0m:      \t\tround 3: 0.7860081270337105\n",
            "\u001b[92mINFO \u001b[0m:      \t\tround 4: 1.0317923873662949\n",
            "\u001b[92mINFO \u001b[0m:      \t\tround 5: 0.42368937470018864\n",
            "\u001b[92mINFO \u001b[0m:      \t\tround 6: 0.3113863868638873\n",
            "\u001b[92mINFO \u001b[0m:      \t\tround 7: 0.26578581240028143\n",
            "\u001b[92mINFO \u001b[0m:      \t\tround 8: 0.2222795719280839\n",
            "\u001b[92mINFO \u001b[0m:      \t\tround 9: 0.23012529406696558\n",
            "\u001b[92mINFO \u001b[0m:      \t\tround 10: 0.2226119046099484\n",
            "\u001b[92mINFO \u001b[0m:      \t\tround 11: 0.22041260730475187\n",
            "\u001b[92mINFO \u001b[0m:      \t\tround 12: 0.22485482273623347\n",
            "\u001b[92mINFO \u001b[0m:      \t\tround 13: 0.34364571003243327\n",
            "\u001b[92mINFO \u001b[0m:      \t\tround 14: 0.2626652531325817\n",
            "\u001b[92mINFO \u001b[0m:      \t\tround 15: 0.2287549371831119\n",
            "\u001b[92mINFO \u001b[0m:      \tHistory (loss, centralized):\n",
            "\u001b[92mINFO \u001b[0m:      \t\tround 0: 460.7414638996124\n",
            "\u001b[92mINFO \u001b[0m:      \t\tround 1: 778.4841907024384\n",
            "\u001b[92mINFO \u001b[0m:      \t\tround 2: 702.9830551147461\n",
            "\u001b[92mINFO \u001b[0m:      \t\tround 3: 71.0418878942728\n",
            "\u001b[92mINFO \u001b[0m:      \t\tround 4: 71.6757802888751\n",
            "\u001b[92mINFO \u001b[0m:      \t\tround 5: 35.307018134742975\n",
            "\u001b[92mINFO \u001b[0m:      \t\tround 6: 30.359463126398623\n",
            "\u001b[92mINFO \u001b[0m:      \t\tround 7: 27.64612726913765\n",
            "\u001b[92mINFO \u001b[0m:      \t\tround 8: 24.848423020681366\n",
            "\u001b[92mINFO \u001b[0m:      \t\tround 9: 23.84988056658767\n",
            "\u001b[92mINFO \u001b[0m:      \t\tround 10: 23.814924174337648\n",
            "\u001b[92mINFO \u001b[0m:      \t\tround 11: 23.210445255273953\n",
            "\u001b[92mINFO \u001b[0m:      \t\tround 12: 23.79295638645999\n",
            "\u001b[92mINFO \u001b[0m:      \t\tround 13: 30.563321974594146\n",
            "\u001b[92mINFO \u001b[0m:      \t\tround 14: 25.467271378031\n",
            "\u001b[92mINFO \u001b[0m:      \t\tround 15: 23.35361053876113\n",
            "\u001b[92mINFO \u001b[0m:      \tHistory (metrics, distributed, fit):\n",
            "\u001b[92mINFO \u001b[0m:      \t{'bytes sent': [(1, 79639431.0),\n",
            "\u001b[92mINFO \u001b[0m:      \t                (2, 79639431.0),\n",
            "\u001b[92mINFO \u001b[0m:      \t                (3, 79639427.0),\n",
            "\u001b[92mINFO \u001b[0m:      \t                (4, 79639427.0),\n",
            "\u001b[92mINFO \u001b[0m:      \t                (5, 79639423.0),\n",
            "\u001b[92mINFO \u001b[0m:      \t                (6, 79639423.0),\n",
            "\u001b[92mINFO \u001b[0m:      \t                (7, 79639423.0),\n",
            "\u001b[92mINFO \u001b[0m:      \t                (8, 79639423.0),\n",
            "\u001b[92mINFO \u001b[0m:      \t                (9, 79639423.0),\n",
            "\u001b[92mINFO \u001b[0m:      \t                (10, 79639423.0),\n",
            "\u001b[92mINFO \u001b[0m:      \t                (11, 79639423.0),\n",
            "\u001b[92mINFO \u001b[0m:      \t                (12, 79639423.0),\n",
            "\u001b[92mINFO \u001b[0m:      \t                (13, 79639423.0),\n",
            "\u001b[92mINFO \u001b[0m:      \t                (14, 79639423.0),\n",
            "\u001b[92mINFO \u001b[0m:      \t                (15, 79639423.0)]}\n",
            "\u001b[92mINFO \u001b[0m:      \tHistory (metrics, distributed, evaluate):\n",
            "\u001b[92mINFO \u001b[0m:      \t{'accuracy': [(1, 0.1),\n",
            "\u001b[92mINFO \u001b[0m:      \t              (2, 0.14166666666666666),\n",
            "\u001b[92mINFO \u001b[0m:      \t              (3, 0.8833333333333333),\n",
            "\u001b[92mINFO \u001b[0m:      \t              (4, 0.85),\n",
            "\u001b[92mINFO \u001b[0m:      \t              (5, 0.9166666666666666),\n",
            "\u001b[92mINFO \u001b[0m:      \t              (6, 0.95),\n",
            "\u001b[92mINFO \u001b[0m:      \t              (7, 0.95),\n",
            "\u001b[92mINFO \u001b[0m:      \t              (8, 0.975),\n",
            "\u001b[92mINFO \u001b[0m:      \t              (9, 0.975),\n",
            "\u001b[92mINFO \u001b[0m:      \t              (10, 0.975),\n",
            "\u001b[92mINFO \u001b[0m:      \t              (11, 0.975),\n",
            "\u001b[92mINFO \u001b[0m:      \t              (12, 0.975),\n",
            "\u001b[92mINFO \u001b[0m:      \t              (13, 0.975),\n",
            "\u001b[92mINFO \u001b[0m:      \t              (14, 0.975),\n",
            "\u001b[92mINFO \u001b[0m:      \t              (15, 0.975)]}\n",
            "\u001b[92mINFO \u001b[0m:      \tHistory (metrics, centralized):\n",
            "\u001b[92mINFO \u001b[0m:      \t{'accuracy': [(0, 0.0958),\n",
            "\u001b[92mINFO \u001b[0m:      \t              (1, 0.1135),\n",
            "\u001b[92mINFO \u001b[0m:      \t              (2, 0.1687),\n",
            "\u001b[92mINFO \u001b[0m:      \t              (3, 0.8917),\n",
            "\u001b[92mINFO \u001b[0m:      \t              (4, 0.8947),\n",
            "\u001b[92mINFO \u001b[0m:      \t              (5, 0.9444),\n",
            "\u001b[92mINFO \u001b[0m:      \t              (6, 0.9532),\n",
            "\u001b[92mINFO \u001b[0m:      \t              (7, 0.9563),\n",
            "\u001b[92mINFO \u001b[0m:      \t              (8, 0.9614),\n",
            "\u001b[92mINFO \u001b[0m:      \t              (9, 0.9623),\n",
            "\u001b[92mINFO \u001b[0m:      \t              (10, 0.9619),\n",
            "\u001b[92mINFO \u001b[0m:      \t              (11, 0.963),\n",
            "\u001b[92mINFO \u001b[0m:      \t              (12, 0.9631),\n",
            "\u001b[92mINFO \u001b[0m:      \t              (13, 0.9532),\n",
            "\u001b[92mINFO \u001b[0m:      \t              (14, 0.9608),\n",
            "\u001b[92mINFO \u001b[0m:      \t              (15, 0.9635)]}\n",
            "\u001b[92mINFO \u001b[0m:      \n",
            "\u001b[92mINFO \u001b[0m:      Starting Flower simulation, config: num_rounds=15, no round_timeout\n"
          ]
        },
        {
          "name": "stdout",
          "output_type": "stream",
          "text": [
            "Running simulation with pruning rate: 0.7000000000000001\n",
            "\u001b[36m(ClientAppActor pid=3353410)\u001b[0m [Client 0] evaluate, config: {}\n"
          ]
        },
        {
          "name": "stderr",
          "output_type": "stream",
          "text": [
            "2024-07-23 00:36:01,777\tINFO worker.py:1752 -- Started a local Ray instance.\n",
            "\u001b[92mINFO \u001b[0m:      Flower VCE: Ray initialized with resources: {'accelerator_type:RTX': 1.0, 'memory': 861206002688.0, 'GPU': 3.0, 'object_store_memory': 200000000000.0, 'node:10.8.0.3': 1.0, 'CPU': 40.0, 'node:__internal_head__': 1.0}\n",
            "\u001b[92mINFO \u001b[0m:      Optimize your simulation with Flower VCE: https://flower.ai/docs/framework/how-to-run-simulations.html\n",
            "\u001b[92mINFO \u001b[0m:      No `client_resources` specified. Using minimal resources for clients.\n",
            "\u001b[92mINFO \u001b[0m:      Flower VCE: Resources for each Virtual Client: {'num_cpus': 1, 'num_gpus': 0.0}\n",
            "\u001b[92mINFO \u001b[0m:      Flower VCE: Creating VirtualClientEngineActorPool with 40 actors\n",
            "\u001b[92mINFO \u001b[0m:      [INIT]\n",
            "\u001b[92mINFO \u001b[0m:      Requesting initial parameters from one random client\n"
          ]
        },
        {
          "name": "stdout",
          "output_type": "stream",
          "text": [
            "\u001b[36m(ClientAppActor pid=3364927)\u001b[0m [Client 0] get_parameters\n"
          ]
        },
        {
          "name": "stderr",
          "output_type": "stream",
          "text": [
            "\u001b[92mINFO \u001b[0m:      Received initial parameters from one random client\n",
            "\u001b[92mINFO \u001b[0m:      Evaluating initial global parameters\n",
            "\u001b[92mINFO \u001b[0m:      initial parameters (loss, other metrics): 460.50451827049255, {'accuracy': 0.0958}\n",
            "\u001b[92mINFO \u001b[0m:      \n",
            "\u001b[92mINFO \u001b[0m:      [ROUND 1]\n",
            "\u001b[92mINFO \u001b[0m:      configure_fit: strategy sampled 2 clients (out of 2)\n"
          ]
        },
        {
          "name": "stdout",
          "output_type": "stream",
          "text": [
            "\u001b[36m(ClientAppActor pid=3364927)\u001b[0m [Client 0] fit, config: {}\n"
          ]
        },
        {
          "name": "stderr",
          "output_type": "stream",
          "text": [
            "\u001b[92mINFO \u001b[0m:      aggregate_fit: received 2 results and 0 failures\n",
            "\u001b[92mINFO \u001b[0m:      fit progress: (1, 722.6982469558716, {'accuracy': 0.1135}, 88.78690452408046)\n",
            "\u001b[92mINFO \u001b[0m:      configure_evaluate: strategy sampled 2 clients (out of 2)\n"
          ]
        },
        {
          "name": "stdout",
          "output_type": "stream",
          "text": [
            "\u001b[36m(ClientAppActor pid=3364926)\u001b[0m [Client 0] evaluate, config: {}\n",
            "\u001b[36m(ClientAppActor pid=3364926)\u001b[0m [Client 1] fit, config: {}\n"
          ]
        },
        {
          "name": "stderr",
          "output_type": "stream",
          "text": [
            "\u001b[92mINFO \u001b[0m:      aggregate_evaluate: received 2 results and 0 failures\n",
            "\u001b[92mINFO \u001b[0m:      \n",
            "\u001b[92mINFO \u001b[0m:      [ROUND 2]\n",
            "\u001b[92mINFO \u001b[0m:      configure_fit: strategy sampled 2 clients (out of 2)\n"
          ]
        },
        {
          "name": "stdout",
          "output_type": "stream",
          "text": [
            "\u001b[36m(ClientAppActor pid=3364927)\u001b[0m [Client 1] fit, config: {}\n"
          ]
        },
        {
          "name": "stderr",
          "output_type": "stream",
          "text": [
            "\u001b[92mINFO \u001b[0m:      aggregate_fit: received 2 results and 0 failures\n",
            "\u001b[92mINFO \u001b[0m:      fit progress: (2, 672.3466920852661, {'accuracy': 0.1363}, 176.16798877017573)\n",
            "\u001b[92mINFO \u001b[0m:      configure_evaluate: strategy sampled 2 clients (out of 2)\n"
          ]
        },
        {
          "name": "stdout",
          "output_type": "stream",
          "text": [
            "\u001b[36m(ClientAppActor pid=3364927)\u001b[0m [Client 0] evaluate, config: {}\u001b[32m [repeated 2x across cluster]\u001b[0m\n",
            "\u001b[36m(ClientAppActor pid=3364926)\u001b[0m [Client 0] fit, config: {}\n"
          ]
        },
        {
          "name": "stderr",
          "output_type": "stream",
          "text": [
            "\u001b[92mINFO \u001b[0m:      aggregate_evaluate: received 2 results and 0 failures\n",
            "\u001b[92mINFO \u001b[0m:      \n",
            "\u001b[92mINFO \u001b[0m:      [ROUND 3]\n",
            "\u001b[92mINFO \u001b[0m:      configure_fit: strategy sampled 2 clients (out of 2)\n"
          ]
        },
        {
          "name": "stdout",
          "output_type": "stream",
          "text": [
            "\u001b[36m(ClientAppActor pid=3364926)\u001b[0m [Client 1] fit, config: {}\n"
          ]
        },
        {
          "name": "stderr",
          "output_type": "stream",
          "text": [
            "\u001b[92mINFO \u001b[0m:      aggregate_fit: received 2 results and 0 failures\n",
            "\u001b[92mINFO \u001b[0m:      fit progress: (3, 69.66141033172607, {'accuracy': 0.8945}, 264.67701327311806)\n",
            "\u001b[92mINFO \u001b[0m:      configure_evaluate: strategy sampled 2 clients (out of 2)\n"
          ]
        },
        {
          "name": "stdout",
          "output_type": "stream",
          "text": [
            "\u001b[36m(ClientAppActor pid=3364927)\u001b[0m [Client 1] evaluate, config: {}\u001b[32m [repeated 2x across cluster]\u001b[0m\n",
            "\u001b[36m(ClientAppActor pid=3364927)\u001b[0m [Client 0] fit, config: {}\n"
          ]
        },
        {
          "name": "stderr",
          "output_type": "stream",
          "text": [
            "\u001b[92mINFO \u001b[0m:      aggregate_evaluate: received 2 results and 0 failures\n",
            "\u001b[92mINFO \u001b[0m:      \n",
            "\u001b[92mINFO \u001b[0m:      [ROUND 4]\n",
            "\u001b[92mINFO \u001b[0m:      configure_fit: strategy sampled 2 clients (out of 2)\n"
          ]
        },
        {
          "name": "stdout",
          "output_type": "stream",
          "text": [
            "\u001b[36m(ClientAppActor pid=3364926)\u001b[0m [Client 0] fit, config: {}\n"
          ]
        },
        {
          "name": "stderr",
          "output_type": "stream",
          "text": [
            "\u001b[92mINFO \u001b[0m:      aggregate_fit: received 2 results and 0 failures\n",
            "\u001b[92mINFO \u001b[0m:      fit progress: (4, 48.98454961925745, {'accuracy': 0.9264}, 352.2574675541837)\n",
            "\u001b[92mINFO \u001b[0m:      configure_evaluate: strategy sampled 2 clients (out of 2)\n"
          ]
        },
        {
          "name": "stdout",
          "output_type": "stream",
          "text": [
            "\u001b[36m(ClientAppActor pid=3364927)\u001b[0m [Client 1] evaluate, config: {}\u001b[32m [repeated 2x across cluster]\u001b[0m\n",
            "\u001b[36m(ClientAppActor pid=3364927)\u001b[0m [Client 1] fit, config: {}\n"
          ]
        },
        {
          "name": "stderr",
          "output_type": "stream",
          "text": [
            "\u001b[92mINFO \u001b[0m:      aggregate_evaluate: received 2 results and 0 failures\n",
            "\u001b[92mINFO \u001b[0m:      \n",
            "\u001b[92mINFO \u001b[0m:      [ROUND 5]\n",
            "\u001b[92mINFO \u001b[0m:      configure_fit: strategy sampled 2 clients (out of 2)\n"
          ]
        },
        {
          "name": "stdout",
          "output_type": "stream",
          "text": [
            "\u001b[36m(ClientAppActor pid=3364926)\u001b[0m [Client 0] fit, config: {}\n"
          ]
        },
        {
          "name": "stderr",
          "output_type": "stream",
          "text": [
            "\u001b[92mINFO \u001b[0m:      aggregate_fit: received 2 results and 0 failures\n",
            "\u001b[92mINFO \u001b[0m:      fit progress: (5, 44.534467248246074, {'accuracy': 0.9307}, 444.9903708421625)\n",
            "\u001b[92mINFO \u001b[0m:      configure_evaluate: strategy sampled 2 clients (out of 2)\n"
          ]
        },
        {
          "name": "stdout",
          "output_type": "stream",
          "text": [
            "\u001b[36m(ClientAppActor pid=3364927)\u001b[0m [Client 1] evaluate, config: {}\u001b[32m [repeated 2x across cluster]\u001b[0m\n",
            "\u001b[36m(ClientAppActor pid=3364927)\u001b[0m [Client 1] fit, config: {}\n"
          ]
        },
        {
          "name": "stderr",
          "output_type": "stream",
          "text": [
            "\u001b[92mINFO \u001b[0m:      aggregate_evaluate: received 2 results and 0 failures\n",
            "\u001b[92mINFO \u001b[0m:      \n",
            "\u001b[92mINFO \u001b[0m:      [ROUND 6]\n",
            "\u001b[92mINFO \u001b[0m:      configure_fit: strategy sampled 2 clients (out of 2)\n"
          ]
        },
        {
          "name": "stdout",
          "output_type": "stream",
          "text": [
            "\u001b[36m(ClientAppActor pid=3364926)\u001b[0m [Client 0] fit, config: {}\n"
          ]
        },
        {
          "name": "stderr",
          "output_type": "stream",
          "text": [
            "\u001b[92mINFO \u001b[0m:      aggregate_fit: received 2 results and 0 failures\n",
            "\u001b[92mINFO \u001b[0m:      fit progress: (6, 34.72495717462152, {'accuracy': 0.9464}, 531.755690179998)\n",
            "\u001b[92mINFO \u001b[0m:      configure_evaluate: strategy sampled 2 clients (out of 2)\n"
          ]
        },
        {
          "name": "stdout",
          "output_type": "stream",
          "text": [
            "\u001b[36m(ClientAppActor pid=3364927)\u001b[0m [Client 0] evaluate, config: {}\u001b[32m [repeated 2x across cluster]\u001b[0m\n",
            "\u001b[36m(ClientAppActor pid=3364927)\u001b[0m [Client 1] fit, config: {}\n"
          ]
        },
        {
          "name": "stderr",
          "output_type": "stream",
          "text": [
            "\u001b[92mINFO \u001b[0m:      aggregate_evaluate: received 2 results and 0 failures\n",
            "\u001b[92mINFO \u001b[0m:      \n",
            "\u001b[92mINFO \u001b[0m:      [ROUND 7]\n",
            "\u001b[92mINFO \u001b[0m:      configure_fit: strategy sampled 2 clients (out of 2)\n"
          ]
        },
        {
          "name": "stdout",
          "output_type": "stream",
          "text": [
            "\u001b[36m(ClientAppActor pid=3364926)\u001b[0m [Client 1] fit, config: {}\n"
          ]
        },
        {
          "name": "stderr",
          "output_type": "stream",
          "text": [
            "\u001b[92mINFO \u001b[0m:      aggregate_fit: received 2 results and 0 failures\n",
            "\u001b[92mINFO \u001b[0m:      fit progress: (7, 24.71560824732296, {'accuracy': 0.9619}, 624.7694427152164)\n",
            "\u001b[92mINFO \u001b[0m:      configure_evaluate: strategy sampled 2 clients (out of 2)\n"
          ]
        },
        {
          "name": "stdout",
          "output_type": "stream",
          "text": [
            "\u001b[36m(ClientAppActor pid=3364927)\u001b[0m [Client 0] evaluate, config: {}\u001b[32m [repeated 2x across cluster]\u001b[0m\n",
            "\u001b[36m(ClientAppActor pid=3364927)\u001b[0m [Client 0] fit, config: {}\n"
          ]
        },
        {
          "name": "stderr",
          "output_type": "stream",
          "text": [
            "\u001b[92mINFO \u001b[0m:      aggregate_evaluate: received 2 results and 0 failures\n",
            "\u001b[92mINFO \u001b[0m:      \n",
            "\u001b[92mINFO \u001b[0m:      [ROUND 8]\n",
            "\u001b[92mINFO \u001b[0m:      configure_fit: strategy sampled 2 clients (out of 2)\n"
          ]
        },
        {
          "name": "stdout",
          "output_type": "stream",
          "text": [
            "\u001b[36m(ClientAppActor pid=3364926)\u001b[0m [Client 0] fit, config: {}\n"
          ]
        },
        {
          "name": "stderr",
          "output_type": "stream",
          "text": [
            "\u001b[92mINFO \u001b[0m:      aggregate_fit: received 2 results and 0 failures\n",
            "\u001b[92mINFO \u001b[0m:      fit progress: (8, 23.19294075202197, {'accuracy': 0.9626}, 712.1093201250769)\n",
            "\u001b[92mINFO \u001b[0m:      configure_evaluate: strategy sampled 2 clients (out of 2)\n"
          ]
        },
        {
          "name": "stdout",
          "output_type": "stream",
          "text": [
            "\u001b[36m(ClientAppActor pid=3364927)\u001b[0m [Client 0] evaluate, config: {}\u001b[32m [repeated 2x across cluster]\u001b[0m\n",
            "\u001b[36m(ClientAppActor pid=3364927)\u001b[0m [Client 1] fit, config: {}\n"
          ]
        },
        {
          "name": "stderr",
          "output_type": "stream",
          "text": [
            "\u001b[92mINFO \u001b[0m:      aggregate_evaluate: received 2 results and 0 failures\n",
            "\u001b[92mINFO \u001b[0m:      \n",
            "\u001b[92mINFO \u001b[0m:      [ROUND 9]\n",
            "\u001b[92mINFO \u001b[0m:      configure_fit: strategy sampled 2 clients (out of 2)\n"
          ]
        },
        {
          "name": "stdout",
          "output_type": "stream",
          "text": [
            "\u001b[36m(ClientAppActor pid=3364926)\u001b[0m [Client 1] fit, config: {}\n"
          ]
        },
        {
          "name": "stderr",
          "output_type": "stream",
          "text": [
            "\u001b[92mINFO \u001b[0m:      aggregate_fit: received 2 results and 0 failures\n",
            "\u001b[92mINFO \u001b[0m:      fit progress: (9, 21.555252333637327, {'accuracy': 0.9661}, 798.5038832321297)\n",
            "\u001b[92mINFO \u001b[0m:      configure_evaluate: strategy sampled 2 clients (out of 2)\n"
          ]
        },
        {
          "name": "stdout",
          "output_type": "stream",
          "text": [
            "\u001b[36m(ClientAppActor pid=3364927)\u001b[0m [Client 0] evaluate, config: {}\u001b[32m [repeated 2x across cluster]\u001b[0m\n",
            "\u001b[36m(ClientAppActor pid=3364927)\u001b[0m [Client 0] fit, config: {}\n"
          ]
        },
        {
          "name": "stderr",
          "output_type": "stream",
          "text": [
            "\u001b[92mINFO \u001b[0m:      aggregate_evaluate: received 2 results and 0 failures\n",
            "\u001b[92mINFO \u001b[0m:      \n",
            "\u001b[92mINFO \u001b[0m:      [ROUND 10]\n",
            "\u001b[92mINFO \u001b[0m:      configure_fit: strategy sampled 2 clients (out of 2)\n"
          ]
        },
        {
          "name": "stdout",
          "output_type": "stream",
          "text": [
            "\u001b[36m(ClientAppActor pid=3364926)\u001b[0m [Client 0] fit, config: {}\n"
          ]
        },
        {
          "name": "stderr",
          "output_type": "stream",
          "text": [
            "\u001b[92mINFO \u001b[0m:      aggregate_fit: received 2 results and 0 failures\n",
            "\u001b[92mINFO \u001b[0m:      fit progress: (10, 21.283925930038095, {'accuracy': 0.9667}, 886.7041547570843)\n",
            "\u001b[92mINFO \u001b[0m:      configure_evaluate: strategy sampled 2 clients (out of 2)\n"
          ]
        },
        {
          "name": "stdout",
          "output_type": "stream",
          "text": [
            "\u001b[36m(ClientAppActor pid=3364927)\u001b[0m [Client 1] evaluate, config: {}\u001b[32m [repeated 2x across cluster]\u001b[0m\n",
            "\u001b[36m(ClientAppActor pid=3364927)\u001b[0m [Client 1] fit, config: {}\n"
          ]
        },
        {
          "name": "stderr",
          "output_type": "stream",
          "text": [
            "\u001b[92mINFO \u001b[0m:      aggregate_evaluate: received 2 results and 0 failures\n",
            "\u001b[92mINFO \u001b[0m:      \n",
            "\u001b[92mINFO \u001b[0m:      [ROUND 11]\n",
            "\u001b[92mINFO \u001b[0m:      configure_fit: strategy sampled 2 clients (out of 2)\n"
          ]
        },
        {
          "name": "stdout",
          "output_type": "stream",
          "text": [
            "\u001b[36m(ClientAppActor pid=3364926)\u001b[0m [Client 0] fit, config: {}\n"
          ]
        },
        {
          "name": "stderr",
          "output_type": "stream",
          "text": [
            "\u001b[92mINFO \u001b[0m:      aggregate_fit: received 2 results and 0 failures\n",
            "\u001b[92mINFO \u001b[0m:      fit progress: (11, 21.02834640839137, {'accuracy': 0.9669}, 974.3540976380464)\n",
            "\u001b[92mINFO \u001b[0m:      configure_evaluate: strategy sampled 2 clients (out of 2)\n"
          ]
        },
        {
          "name": "stdout",
          "output_type": "stream",
          "text": [
            "\u001b[36m(ClientAppActor pid=3364927)\u001b[0m [Client 1] evaluate, config: {}\u001b[32m [repeated 2x across cluster]\u001b[0m\n",
            "\u001b[36m(ClientAppActor pid=3364927)\u001b[0m [Client 1] fit, config: {}\n"
          ]
        },
        {
          "name": "stderr",
          "output_type": "stream",
          "text": [
            "\u001b[92mINFO \u001b[0m:      aggregate_evaluate: received 2 results and 0 failures\n",
            "\u001b[92mINFO \u001b[0m:      \n",
            "\u001b[92mINFO \u001b[0m:      [ROUND 12]\n",
            "\u001b[92mINFO \u001b[0m:      configure_fit: strategy sampled 2 clients (out of 2)\n"
          ]
        },
        {
          "name": "stdout",
          "output_type": "stream",
          "text": [
            "\u001b[36m(ClientAppActor pid=3364926)\u001b[0m [Client 0] fit, config: {}\n"
          ]
        },
        {
          "name": "stderr",
          "output_type": "stream",
          "text": [
            "\u001b[92mINFO \u001b[0m:      aggregate_fit: received 2 results and 0 failures\n",
            "\u001b[92mINFO \u001b[0m:      fit progress: (12, 20.98730109166354, {'accuracy': 0.967}, 1061.4998238380067)\n",
            "\u001b[92mINFO \u001b[0m:      configure_evaluate: strategy sampled 2 clients (out of 2)\n"
          ]
        },
        {
          "name": "stdout",
          "output_type": "stream",
          "text": [
            "\u001b[36m(ClientAppActor pid=3364927)\u001b[0m [Client 0] evaluate, config: {}\u001b[32m [repeated 2x across cluster]\u001b[0m\n",
            "\u001b[36m(ClientAppActor pid=3364927)\u001b[0m [Client 1] fit, config: {}\n"
          ]
        },
        {
          "name": "stderr",
          "output_type": "stream",
          "text": [
            "\u001b[92mINFO \u001b[0m:      aggregate_evaluate: received 2 results and 0 failures\n",
            "\u001b[92mINFO \u001b[0m:      \n",
            "\u001b[92mINFO \u001b[0m:      [ROUND 13]\n",
            "\u001b[92mINFO \u001b[0m:      configure_fit: strategy sampled 2 clients (out of 2)\n"
          ]
        },
        {
          "name": "stdout",
          "output_type": "stream",
          "text": [
            "\u001b[36m(ClientAppActor pid=3364926)\u001b[0m [Client 1] fit, config: {}\n"
          ]
        },
        {
          "name": "stderr",
          "output_type": "stream",
          "text": [
            "\u001b[92mINFO \u001b[0m:      aggregate_fit: received 2 results and 0 failures\n",
            "\u001b[92mINFO \u001b[0m:      fit progress: (13, 20.751582814496942, {'accuracy': 0.9671}, 1152.813686494017)\n",
            "\u001b[92mINFO \u001b[0m:      configure_evaluate: strategy sampled 2 clients (out of 2)\n"
          ]
        },
        {
          "name": "stdout",
          "output_type": "stream",
          "text": [
            "\u001b[36m(ClientAppActor pid=3364927)\u001b[0m [Client 0] evaluate, config: {}\u001b[32m [repeated 2x across cluster]\u001b[0m\n",
            "\u001b[36m(ClientAppActor pid=3364927)\u001b[0m [Client 0] fit, config: {}\n"
          ]
        },
        {
          "name": "stderr",
          "output_type": "stream",
          "text": [
            "\u001b[92mINFO \u001b[0m:      aggregate_evaluate: received 2 results and 0 failures\n",
            "\u001b[92mINFO \u001b[0m:      \n",
            "\u001b[92mINFO \u001b[0m:      [ROUND 14]\n",
            "\u001b[92mINFO \u001b[0m:      configure_fit: strategy sampled 2 clients (out of 2)\n"
          ]
        },
        {
          "name": "stdout",
          "output_type": "stream",
          "text": [
            "\u001b[36m(ClientAppActor pid=3364926)\u001b[0m [Client 0] fit, config: {}\n"
          ]
        },
        {
          "name": "stderr",
          "output_type": "stream",
          "text": [
            "\u001b[92mINFO \u001b[0m:      aggregate_fit: received 2 results and 0 failures\n",
            "\u001b[92mINFO \u001b[0m:      fit progress: (14, 20.965509916306473, {'accuracy': 0.9669}, 1244.9237791581545)\n",
            "\u001b[92mINFO \u001b[0m:      configure_evaluate: strategy sampled 2 clients (out of 2)\n"
          ]
        },
        {
          "name": "stdout",
          "output_type": "stream",
          "text": [
            "\u001b[36m(ClientAppActor pid=3364927)\u001b[0m [Client 0] evaluate, config: {}\u001b[32m [repeated 2x across cluster]\u001b[0m\n",
            "\u001b[36m(ClientAppActor pid=3364927)\u001b[0m [Client 1] fit, config: {}\n"
          ]
        },
        {
          "name": "stderr",
          "output_type": "stream",
          "text": [
            "\u001b[92mINFO \u001b[0m:      aggregate_evaluate: received 2 results and 0 failures\n",
            "\u001b[92mINFO \u001b[0m:      \n",
            "\u001b[92mINFO \u001b[0m:      [ROUND 15]\n",
            "\u001b[92mINFO \u001b[0m:      configure_fit: strategy sampled 2 clients (out of 2)\n"
          ]
        },
        {
          "name": "stdout",
          "output_type": "stream",
          "text": [
            "\u001b[36m(ClientAppActor pid=3364927)\u001b[0m [Client 1] fit, config: {}\n"
          ]
        },
        {
          "name": "stderr",
          "output_type": "stream",
          "text": [
            "\u001b[92mINFO \u001b[0m:      aggregate_fit: received 2 results and 0 failures\n",
            "\u001b[92mINFO \u001b[0m:      fit progress: (15, 20.644935681601055, {'accuracy': 0.9682}, 1338.1548995431513)\n",
            "\u001b[92mINFO \u001b[0m:      configure_evaluate: strategy sampled 2 clients (out of 2)\n"
          ]
        },
        {
          "name": "stdout",
          "output_type": "stream",
          "text": [
            "\u001b[36m(ClientAppActor pid=3364927)\u001b[0m [Client 0] evaluate, config: {}\u001b[32m [repeated 2x across cluster]\u001b[0m\n",
            "\u001b[36m(ClientAppActor pid=3364926)\u001b[0m [Client 0] fit, config: {}\n"
          ]
        },
        {
          "name": "stderr",
          "output_type": "stream",
          "text": [
            "\u001b[92mINFO \u001b[0m:      aggregate_evaluate: received 2 results and 0 failures\n",
            "\u001b[92mINFO \u001b[0m:      \n",
            "\u001b[92mINFO \u001b[0m:      [SUMMARY]\n",
            "\u001b[92mINFO \u001b[0m:      Run finished 15 round(s) in 1340.60s\n",
            "\u001b[92mINFO \u001b[0m:      \tHistory (loss, distributed):\n",
            "\u001b[92mINFO \u001b[0m:      \t\tround 1: 7.167777180671692\n",
            "\u001b[92mINFO \u001b[0m:      \t\tround 2: 7.362692832946777\n",
            "\u001b[92mINFO \u001b[0m:      \t\tround 3: 0.7981878370046616\n",
            "\u001b[92mINFO \u001b[0m:      \t\tround 4: 0.40468067675828934\n",
            "\u001b[92mINFO \u001b[0m:      \t\tround 5: 0.283028706908226\n",
            "\u001b[92mINFO \u001b[0m:      \t\tround 6: 0.17231298983097076\n",
            "\u001b[92mINFO \u001b[0m:      \t\tround 7: 0.1369993081316352\n",
            "\u001b[92mINFO \u001b[0m:      \t\tround 8: 0.11919987108558416\n",
            "\u001b[92mINFO \u001b[0m:      \t\tround 9: 0.10592554789036512\n",
            "\u001b[92mINFO \u001b[0m:      \t\tround 10: 0.10176560329273343\n",
            "\u001b[92mINFO \u001b[0m:      \t\tround 11: 0.10266132699325681\n",
            "\u001b[92mINFO \u001b[0m:      \t\tround 12: 0.1010039895772934\n",
            "\u001b[92mINFO \u001b[0m:      \t\tround 13: 0.10052322829142213\n",
            "\u001b[92mINFO \u001b[0m:      \t\tround 14: 0.09786942461505532\n",
            "\u001b[92mINFO \u001b[0m:      \t\tround 15: 0.09966444550082088\n",
            "\u001b[92mINFO \u001b[0m:      \tHistory (loss, centralized):\n",
            "\u001b[92mINFO \u001b[0m:      \t\tround 0: 460.50451827049255\n",
            "\u001b[92mINFO \u001b[0m:      \t\tround 1: 722.6982469558716\n",
            "\u001b[92mINFO \u001b[0m:      \t\tround 2: 672.3466920852661\n",
            "\u001b[92mINFO \u001b[0m:      \t\tround 3: 69.66141033172607\n",
            "\u001b[92mINFO \u001b[0m:      \t\tround 4: 48.98454961925745\n",
            "\u001b[92mINFO \u001b[0m:      \t\tround 5: 44.534467248246074\n",
            "\u001b[92mINFO \u001b[0m:      \t\tround 6: 34.72495717462152\n",
            "\u001b[92mINFO \u001b[0m:      \t\tround 7: 24.71560824732296\n",
            "\u001b[92mINFO \u001b[0m:      \t\tround 8: 23.19294075202197\n",
            "\u001b[92mINFO \u001b[0m:      \t\tround 9: 21.555252333637327\n",
            "\u001b[92mINFO \u001b[0m:      \t\tround 10: 21.283925930038095\n",
            "\u001b[92mINFO \u001b[0m:      \t\tround 11: 21.02834640839137\n",
            "\u001b[92mINFO \u001b[0m:      \t\tround 12: 20.98730109166354\n",
            "\u001b[92mINFO \u001b[0m:      \t\tround 13: 20.751582814496942\n",
            "\u001b[92mINFO \u001b[0m:      \t\tround 14: 20.965509916306473\n",
            "\u001b[92mINFO \u001b[0m:      \t\tround 15: 20.644935681601055\n",
            "\u001b[92mINFO \u001b[0m:      \tHistory (metrics, distributed, fit):\n",
            "\u001b[92mINFO \u001b[0m:      \t{'bytes sent': [(1, 65695359.0),\n",
            "\u001b[92mINFO \u001b[0m:      \t                (2, 65695359.0),\n",
            "\u001b[92mINFO \u001b[0m:      \t                (3, 65695359.0),\n",
            "\u001b[92mINFO \u001b[0m:      \t                (4, 65695359.0),\n",
            "\u001b[92mINFO \u001b[0m:      \t                (5, 65695359.0),\n",
            "\u001b[92mINFO \u001b[0m:      \t                (6, 65695355.0),\n",
            "\u001b[92mINFO \u001b[0m:      \t                (7, 65695359.0),\n",
            "\u001b[92mINFO \u001b[0m:      \t                (8, 65695355.0),\n",
            "\u001b[92mINFO \u001b[0m:      \t                (9, 65695359.0),\n",
            "\u001b[92mINFO \u001b[0m:      \t                (10, 65695359.0),\n",
            "\u001b[92mINFO \u001b[0m:      \t                (11, 65695355.0),\n",
            "\u001b[92mINFO \u001b[0m:      \t                (12, 65695351.0),\n",
            "\u001b[92mINFO \u001b[0m:      \t                (13, 65695351.0),\n",
            "\u001b[92mINFO \u001b[0m:      \t                (14, 65695355.0),\n",
            "\u001b[92mINFO \u001b[0m:      \t                (15, 65695355.0)]}\n",
            "\u001b[92mINFO \u001b[0m:      \tHistory (metrics, distributed, evaluate):\n",
            "\u001b[92mINFO \u001b[0m:      \t{'accuracy': [(1, 0.1),\n",
            "\u001b[92mINFO \u001b[0m:      \t              (2, 0.11666666666666667),\n",
            "\u001b[92mINFO \u001b[0m:      \t              (3, 0.8666666666666667),\n",
            "\u001b[92mINFO \u001b[0m:      \t              (4, 0.95),\n",
            "\u001b[92mINFO \u001b[0m:      \t              (5, 0.9583333333333333),\n",
            "\u001b[92mINFO \u001b[0m:      \t              (6, 0.9666666666666667),\n",
            "\u001b[92mINFO \u001b[0m:      \t              (7, 0.9833333333333334),\n",
            "\u001b[92mINFO \u001b[0m:      \t              (8, 0.9833333333333334),\n",
            "\u001b[92mINFO \u001b[0m:      \t              (9, 0.9916666666666667),\n",
            "\u001b[92mINFO \u001b[0m:      \t              (10, 0.9916666666666667),\n",
            "\u001b[92mINFO \u001b[0m:      \t              (11, 0.9916666666666667),\n",
            "\u001b[92mINFO \u001b[0m:      \t              (12, 0.9916666666666667),\n",
            "\u001b[92mINFO \u001b[0m:      \t              (13, 0.9916666666666667),\n",
            "\u001b[92mINFO \u001b[0m:      \t              (14, 0.9916666666666667),\n",
            "\u001b[92mINFO \u001b[0m:      \t              (15, 0.9916666666666667)]}\n",
            "\u001b[92mINFO \u001b[0m:      \tHistory (metrics, centralized):\n",
            "\u001b[92mINFO \u001b[0m:      \t{'accuracy': [(0, 0.0958),\n",
            "\u001b[92mINFO \u001b[0m:      \t              (1, 0.1135),\n",
            "\u001b[92mINFO \u001b[0m:      \t              (2, 0.1363),\n",
            "\u001b[92mINFO \u001b[0m:      \t              (3, 0.8945),\n",
            "\u001b[92mINFO \u001b[0m:      \t              (4, 0.9264),\n",
            "\u001b[92mINFO \u001b[0m:      \t              (5, 0.9307),\n",
            "\u001b[92mINFO \u001b[0m:      \t              (6, 0.9464),\n",
            "\u001b[92mINFO \u001b[0m:      \t              (7, 0.9619),\n",
            "\u001b[92mINFO \u001b[0m:      \t              (8, 0.9626),\n",
            "\u001b[92mINFO \u001b[0m:      \t              (9, 0.9661),\n",
            "\u001b[92mINFO \u001b[0m:      \t              (10, 0.9667),\n",
            "\u001b[92mINFO \u001b[0m:      \t              (11, 0.9669),\n",
            "\u001b[92mINFO \u001b[0m:      \t              (12, 0.967),\n",
            "\u001b[92mINFO \u001b[0m:      \t              (13, 0.9671),\n",
            "\u001b[92mINFO \u001b[0m:      \t              (14, 0.9669),\n",
            "\u001b[92mINFO \u001b[0m:      \t              (15, 0.9682)]}\n",
            "\u001b[92mINFO \u001b[0m:      \n",
            "\u001b[92mINFO \u001b[0m:      Starting Flower simulation, config: num_rounds=15, no round_timeout\n"
          ]
        },
        {
          "name": "stdout",
          "output_type": "stream",
          "text": [
            "Running simulation with pruning rate: 0.8\n",
            "\u001b[36m(ClientAppActor pid=3364926)\u001b[0m [Client 1] evaluate, config: {}\n"
          ]
        },
        {
          "name": "stderr",
          "output_type": "stream",
          "text": [
            "2024-07-23 00:59:02,618\tINFO worker.py:1752 -- Started a local Ray instance.\n",
            "\u001b[92mINFO \u001b[0m:      Flower VCE: Ray initialized with resources: {'node:__internal_head__': 1.0, 'GPU': 3.0, 'accelerator_type:RTX': 1.0, 'object_store_memory': 200000000000.0, 'CPU': 40.0, 'node:10.8.0.3': 1.0, 'memory': 861036956672.0}\n",
            "\u001b[92mINFO \u001b[0m:      Optimize your simulation with Flower VCE: https://flower.ai/docs/framework/how-to-run-simulations.html\n",
            "\u001b[92mINFO \u001b[0m:      No `client_resources` specified. Using minimal resources for clients.\n",
            "\u001b[92mINFO \u001b[0m:      Flower VCE: Resources for each Virtual Client: {'num_cpus': 1, 'num_gpus': 0.0}\n",
            "\u001b[92mINFO \u001b[0m:      Flower VCE: Creating VirtualClientEngineActorPool with 40 actors\n",
            "\u001b[92mINFO \u001b[0m:      [INIT]\n",
            "\u001b[92mINFO \u001b[0m:      Requesting initial parameters from one random client\n"
          ]
        },
        {
          "name": "stdout",
          "output_type": "stream",
          "text": [
            "\u001b[36m(ClientAppActor pid=3376506)\u001b[0m [Client 1] get_parameters\n"
          ]
        },
        {
          "name": "stderr",
          "output_type": "stream",
          "text": [
            "\u001b[92mINFO \u001b[0m:      Received initial parameters from one random client\n",
            "\u001b[92mINFO \u001b[0m:      Evaluating initial global parameters\n",
            "\u001b[92mINFO \u001b[0m:      initial parameters (loss, other metrics): 460.8699908256531, {'accuracy': 0.1225}\n",
            "\u001b[92mINFO \u001b[0m:      \n",
            "\u001b[92mINFO \u001b[0m:      [ROUND 1]\n",
            "\u001b[92mINFO \u001b[0m:      configure_fit: strategy sampled 2 clients (out of 2)\n"
          ]
        },
        {
          "name": "stdout",
          "output_type": "stream",
          "text": [
            "\u001b[36m(ClientAppActor pid=3376506)\u001b[0m [Client 0] fit, config: {}\n"
          ]
        },
        {
          "name": "stderr",
          "output_type": "stream",
          "text": [
            "\u001b[92mINFO \u001b[0m:      aggregate_fit: received 2 results and 0 failures\n",
            "\u001b[92mINFO \u001b[0m:      fit progress: (1, 608.9555218219757, {'accuracy': 0.1135}, 89.25943414703943)\n",
            "\u001b[92mINFO \u001b[0m:      configure_evaluate: strategy sampled 2 clients (out of 2)\n"
          ]
        },
        {
          "name": "stdout",
          "output_type": "stream",
          "text": [
            "\u001b[36m(ClientAppActor pid=3376505)\u001b[0m [Client 0] evaluate, config: {}\n",
            "\u001b[36m(ClientAppActor pid=3376505)\u001b[0m [Client 1] fit, config: {}\n"
          ]
        },
        {
          "name": "stderr",
          "output_type": "stream",
          "text": [
            "\u001b[92mINFO \u001b[0m:      aggregate_evaluate: received 2 results and 0 failures\n",
            "\u001b[92mINFO \u001b[0m:      \n",
            "\u001b[92mINFO \u001b[0m:      [ROUND 2]\n",
            "\u001b[92mINFO \u001b[0m:      configure_fit: strategy sampled 2 clients (out of 2)\n"
          ]
        },
        {
          "name": "stdout",
          "output_type": "stream",
          "text": [
            "\u001b[36m(ClientAppActor pid=3376506)\u001b[0m [Client 1] fit, config: {}\n"
          ]
        },
        {
          "name": "stderr",
          "output_type": "stream",
          "text": [
            "\u001b[92mINFO \u001b[0m:      aggregate_fit: received 2 results and 0 failures\n",
            "\u001b[92mINFO \u001b[0m:      fit progress: (2, 713.9736497402191, {'accuracy': 0.1135}, 177.552150772186)\n",
            "\u001b[92mINFO \u001b[0m:      configure_evaluate: strategy sampled 2 clients (out of 2)\n"
          ]
        },
        {
          "name": "stdout",
          "output_type": "stream",
          "text": [
            "\u001b[36m(ClientAppActor pid=3376506)\u001b[0m [Client 1] evaluate, config: {}\u001b[32m [repeated 2x across cluster]\u001b[0m\n",
            "\u001b[36m(ClientAppActor pid=3376505)\u001b[0m [Client 0] fit, config: {}\n"
          ]
        },
        {
          "name": "stderr",
          "output_type": "stream",
          "text": [
            "\u001b[92mINFO \u001b[0m:      aggregate_evaluate: received 2 results and 0 failures\n",
            "\u001b[92mINFO \u001b[0m:      \n",
            "\u001b[92mINFO \u001b[0m:      [ROUND 3]\n",
            "\u001b[92mINFO \u001b[0m:      configure_fit: strategy sampled 2 clients (out of 2)\n"
          ]
        },
        {
          "name": "stdout",
          "output_type": "stream",
          "text": [
            "\u001b[36m(ClientAppActor pid=3376505)\u001b[0m [Client 1] fit, config: {}\n"
          ]
        },
        {
          "name": "stderr",
          "output_type": "stream",
          "text": [
            "\u001b[92mINFO \u001b[0m:      aggregate_fit: received 2 results and 0 failures\n",
            "\u001b[92mINFO \u001b[0m:      fit progress: (3, 321.81756615638733, {'accuracy': 0.3426}, 265.3574691209942)\n",
            "\u001b[92mINFO \u001b[0m:      configure_evaluate: strategy sampled 2 clients (out of 2)\n"
          ]
        },
        {
          "name": "stdout",
          "output_type": "stream",
          "text": [
            "\u001b[36m(ClientAppActor pid=3376506)\u001b[0m [Client 0] evaluate, config: {}\u001b[32m [repeated 2x across cluster]\u001b[0m\n",
            "\u001b[36m(ClientAppActor pid=3376506)\u001b[0m [Client 0] fit, config: {}\n"
          ]
        },
        {
          "name": "stderr",
          "output_type": "stream",
          "text": [
            "\u001b[92mINFO \u001b[0m:      aggregate_evaluate: received 2 results and 0 failures\n",
            "\u001b[92mINFO \u001b[0m:      \n",
            "\u001b[92mINFO \u001b[0m:      [ROUND 4]\n",
            "\u001b[92mINFO \u001b[0m:      configure_fit: strategy sampled 2 clients (out of 2)\n"
          ]
        },
        {
          "name": "stdout",
          "output_type": "stream",
          "text": [
            "\u001b[36m(ClientAppActor pid=3376505)\u001b[0m [Client 1] fit, config: {}\n"
          ]
        },
        {
          "name": "stderr",
          "output_type": "stream",
          "text": [
            "\u001b[92mINFO \u001b[0m:      aggregate_fit: received 2 results and 0 failures\n",
            "\u001b[92mINFO \u001b[0m:      fit progress: (4, 100.82815863192081, {'accuracy': 0.8375}, 354.09368907311)\n",
            "\u001b[92mINFO \u001b[0m:      configure_evaluate: strategy sampled 2 clients (out of 2)\n"
          ]
        },
        {
          "name": "stdout",
          "output_type": "stream",
          "text": [
            "\u001b[36m(ClientAppActor pid=3376506)\u001b[0m [Client 1] evaluate, config: {}\u001b[32m [repeated 2x across cluster]\u001b[0m\n",
            "\u001b[36m(ClientAppActor pid=3376506)\u001b[0m [Client 0] fit, config: {}\n"
          ]
        },
        {
          "name": "stderr",
          "output_type": "stream",
          "text": [
            "\u001b[92mINFO \u001b[0m:      aggregate_evaluate: received 2 results and 0 failures\n",
            "\u001b[92mINFO \u001b[0m:      \n",
            "\u001b[92mINFO \u001b[0m:      [ROUND 5]\n",
            "\u001b[92mINFO \u001b[0m:      configure_fit: strategy sampled 2 clients (out of 2)\n"
          ]
        },
        {
          "name": "stdout",
          "output_type": "stream",
          "text": [
            "\u001b[36m(ClientAppActor pid=3376505)\u001b[0m [Client 1] fit, config: {}\n"
          ]
        },
        {
          "name": "stderr",
          "output_type": "stream",
          "text": [
            "\u001b[92mINFO \u001b[0m:      aggregate_fit: received 2 results and 0 failures\n",
            "\u001b[92mINFO \u001b[0m:      fit progress: (5, 51.21607327833772, {'accuracy': 0.9194}, 441.29834874509834)\n",
            "\u001b[92mINFO \u001b[0m:      configure_evaluate: strategy sampled 2 clients (out of 2)\n"
          ]
        },
        {
          "name": "stdout",
          "output_type": "stream",
          "text": [
            "\u001b[36m(ClientAppActor pid=3376506)\u001b[0m [Client 0] evaluate, config: {}\u001b[32m [repeated 2x across cluster]\u001b[0m\n",
            "\u001b[36m(ClientAppActor pid=3376506)\u001b[0m [Client 0] fit, config: {}\n"
          ]
        },
        {
          "name": "stderr",
          "output_type": "stream",
          "text": [
            "\u001b[92mINFO \u001b[0m:      aggregate_evaluate: received 2 results and 0 failures\n",
            "\u001b[92mINFO \u001b[0m:      \n",
            "\u001b[92mINFO \u001b[0m:      [ROUND 6]\n",
            "\u001b[92mINFO \u001b[0m:      configure_fit: strategy sampled 2 clients (out of 2)\n"
          ]
        },
        {
          "name": "stdout",
          "output_type": "stream",
          "text": [
            "\u001b[36m(ClientAppActor pid=3376505)\u001b[0m [Client 0] fit, config: {}\n"
          ]
        },
        {
          "name": "stderr",
          "output_type": "stream",
          "text": [
            "\u001b[92mINFO \u001b[0m:      aggregate_fit: received 2 results and 0 failures\n",
            "\u001b[92mINFO \u001b[0m:      fit progress: (6, 36.54224198218435, {'accuracy': 0.9423}, 527.8611762900837)\n",
            "\u001b[92mINFO \u001b[0m:      configure_evaluate: strategy sampled 2 clients (out of 2)\n"
          ]
        },
        {
          "name": "stdout",
          "output_type": "stream",
          "text": [
            "\u001b[36m(ClientAppActor pid=3376505)\u001b[0m [Client 0] evaluate, config: {}\u001b[32m [repeated 2x across cluster]\u001b[0m\n",
            "\u001b[36m(ClientAppActor pid=3376506)\u001b[0m [Client 1] fit, config: {}\n"
          ]
        },
        {
          "name": "stderr",
          "output_type": "stream",
          "text": [
            "\u001b[92mINFO \u001b[0m:      aggregate_evaluate: received 2 results and 0 failures\n",
            "\u001b[92mINFO \u001b[0m:      \n",
            "\u001b[92mINFO \u001b[0m:      [ROUND 7]\n",
            "\u001b[92mINFO \u001b[0m:      configure_fit: strategy sampled 2 clients (out of 2)\n"
          ]
        },
        {
          "name": "stdout",
          "output_type": "stream",
          "text": [
            "\u001b[36m(ClientAppActor pid=3376506)\u001b[0m [Client 0] fit, config: {}\n"
          ]
        },
        {
          "name": "stderr",
          "output_type": "stream",
          "text": [
            "\u001b[92mINFO \u001b[0m:      aggregate_fit: received 2 results and 0 failures\n",
            "\u001b[92mINFO \u001b[0m:      fit progress: (7, 35.296145901083946, {'accuracy': 0.944}, 615.0553046660498)\n",
            "\u001b[92mINFO \u001b[0m:      configure_evaluate: strategy sampled 2 clients (out of 2)\n"
          ]
        },
        {
          "name": "stdout",
          "output_type": "stream",
          "text": [
            "\u001b[36m(ClientAppActor pid=3376506)\u001b[0m [Client 0] evaluate, config: {}\u001b[32m [repeated 2x across cluster]\u001b[0m\n",
            "\u001b[36m(ClientAppActor pid=3376505)\u001b[0m [Client 1] fit, config: {}\n"
          ]
        },
        {
          "name": "stderr",
          "output_type": "stream",
          "text": [
            "\u001b[92mINFO \u001b[0m:      aggregate_evaluate: received 2 results and 0 failures\n",
            "\u001b[92mINFO \u001b[0m:      \n",
            "\u001b[92mINFO \u001b[0m:      [ROUND 8]\n",
            "\u001b[92mINFO \u001b[0m:      configure_fit: strategy sampled 2 clients (out of 2)\n"
          ]
        },
        {
          "name": "stdout",
          "output_type": "stream",
          "text": [
            "\u001b[36m(ClientAppActor pid=3376506)\u001b[0m [Client 1] fit, config: {}\n"
          ]
        },
        {
          "name": "stderr",
          "output_type": "stream",
          "text": [
            "\u001b[92mINFO \u001b[0m:      aggregate_fit: received 2 results and 0 failures\n",
            "\u001b[92mINFO \u001b[0m:      fit progress: (8, 27.520722748711705, {'accuracy': 0.9572}, 702.0094951041974)\n",
            "\u001b[92mINFO \u001b[0m:      configure_evaluate: strategy sampled 2 clients (out of 2)\n"
          ]
        },
        {
          "name": "stdout",
          "output_type": "stream",
          "text": [
            "\u001b[36m(ClientAppActor pid=3376506)\u001b[0m [Client 0] evaluate, config: {}\u001b[32m [repeated 2x across cluster]\u001b[0m\n",
            "\u001b[36m(ClientAppActor pid=3376505)\u001b[0m [Client 0] fit, config: {}\n"
          ]
        },
        {
          "name": "stderr",
          "output_type": "stream",
          "text": [
            "\u001b[92mINFO \u001b[0m:      aggregate_evaluate: received 2 results and 0 failures\n",
            "\u001b[92mINFO \u001b[0m:      \n",
            "\u001b[92mINFO \u001b[0m:      [ROUND 9]\n",
            "\u001b[92mINFO \u001b[0m:      configure_fit: strategy sampled 2 clients (out of 2)\n"
          ]
        },
        {
          "name": "stdout",
          "output_type": "stream",
          "text": [
            "\u001b[36m(ClientAppActor pid=3376505)\u001b[0m [Client 1] fit, config: {}\n"
          ]
        },
        {
          "name": "stderr",
          "output_type": "stream",
          "text": [
            "\u001b[92mINFO \u001b[0m:      aggregate_fit: received 2 results and 0 failures\n",
            "\u001b[92mINFO \u001b[0m:      fit progress: (9, 23.2594339014031, {'accuracy': 0.9632}, 791.1632634261623)\n",
            "\u001b[92mINFO \u001b[0m:      configure_evaluate: strategy sampled 2 clients (out of 2)\n"
          ]
        },
        {
          "name": "stdout",
          "output_type": "stream",
          "text": [
            "\u001b[36m(ClientAppActor pid=3376506)\u001b[0m [Client 1] evaluate, config: {}\u001b[32m [repeated 2x across cluster]\u001b[0m\n",
            "\u001b[36m(ClientAppActor pid=3376506)\u001b[0m [Client 0] fit, config: {}\n"
          ]
        },
        {
          "name": "stderr",
          "output_type": "stream",
          "text": [
            "\u001b[92mINFO \u001b[0m:      aggregate_evaluate: received 2 results and 0 failures\n",
            "\u001b[92mINFO \u001b[0m:      \n",
            "\u001b[92mINFO \u001b[0m:      [ROUND 10]\n",
            "\u001b[92mINFO \u001b[0m:      configure_fit: strategy sampled 2 clients (out of 2)\n"
          ]
        },
        {
          "name": "stdout",
          "output_type": "stream",
          "text": [
            "\u001b[36m(ClientAppActor pid=3376505)\u001b[0m [Client 1] fit, config: {}\n"
          ]
        },
        {
          "name": "stderr",
          "output_type": "stream",
          "text": [
            "\u001b[92mINFO \u001b[0m:      aggregate_fit: received 2 results and 0 failures\n",
            "\u001b[92mINFO \u001b[0m:      fit progress: (10, 23.79657953698188, {'accuracy': 0.9623}, 884.4131183940917)\n",
            "\u001b[92mINFO \u001b[0m:      configure_evaluate: strategy sampled 2 clients (out of 2)\n"
          ]
        },
        {
          "name": "stdout",
          "output_type": "stream",
          "text": [
            "\u001b[36m(ClientAppActor pid=3376506)\u001b[0m [Client 1] evaluate, config: {}\u001b[32m [repeated 2x across cluster]\u001b[0m\n",
            "\u001b[36m(ClientAppActor pid=3376506)\u001b[0m [Client 0] fit, config: {}\n"
          ]
        },
        {
          "name": "stderr",
          "output_type": "stream",
          "text": [
            "\u001b[92mINFO \u001b[0m:      aggregate_evaluate: received 2 results and 0 failures\n",
            "\u001b[92mINFO \u001b[0m:      \n",
            "\u001b[92mINFO \u001b[0m:      [ROUND 11]\n",
            "\u001b[92mINFO \u001b[0m:      configure_fit: strategy sampled 2 clients (out of 2)\n"
          ]
        },
        {
          "name": "stdout",
          "output_type": "stream",
          "text": [
            "\u001b[36m(ClientAppActor pid=3376506)\u001b[0m [Client 0] fit, config: {}\n"
          ]
        },
        {
          "name": "stderr",
          "output_type": "stream",
          "text": [
            "\u001b[92mINFO \u001b[0m:      aggregate_fit: received 2 results and 0 failures\n",
            "\u001b[92mINFO \u001b[0m:      fit progress: (11, 27.39604489353951, {'accuracy': 0.9568}, 971.4771989681758)\n",
            "\u001b[92mINFO \u001b[0m:      configure_evaluate: strategy sampled 2 clients (out of 2)\n"
          ]
        },
        {
          "name": "stdout",
          "output_type": "stream",
          "text": [
            "\u001b[36m(ClientAppActor pid=3376506)\u001b[0m [Client 1] evaluate, config: {}\u001b[32m [repeated 2x across cluster]\u001b[0m\n",
            "\u001b[36m(ClientAppActor pid=3376505)\u001b[0m [Client 1] fit, config: {}\n"
          ]
        },
        {
          "name": "stderr",
          "output_type": "stream",
          "text": [
            "\u001b[92mINFO \u001b[0m:      aggregate_evaluate: received 2 results and 0 failures\n",
            "\u001b[92mINFO \u001b[0m:      \n",
            "\u001b[92mINFO \u001b[0m:      [ROUND 12]\n",
            "\u001b[92mINFO \u001b[0m:      configure_fit: strategy sampled 2 clients (out of 2)\n"
          ]
        },
        {
          "name": "stdout",
          "output_type": "stream",
          "text": [
            "\u001b[36m(ClientAppActor pid=3376506)\u001b[0m [Client 0] fit, config: {}\n"
          ]
        },
        {
          "name": "stderr",
          "output_type": "stream",
          "text": [
            "\u001b[92mINFO \u001b[0m:      aggregate_fit: received 2 results and 0 failures\n",
            "\u001b[92mINFO \u001b[0m:      fit progress: (12, 24.360512753017247, {'accuracy': 0.9615}, 1058.661877030041)\n",
            "\u001b[92mINFO \u001b[0m:      configure_evaluate: strategy sampled 2 clients (out of 2)\n"
          ]
        },
        {
          "name": "stdout",
          "output_type": "stream",
          "text": [
            "\u001b[36m(ClientAppActor pid=3376505)\u001b[0m [Client 1] evaluate, config: {}\u001b[32m [repeated 2x across cluster]\u001b[0m\n",
            "\u001b[36m(ClientAppActor pid=3376505)\u001b[0m [Client 1] fit, config: {}\n"
          ]
        },
        {
          "name": "stderr",
          "output_type": "stream",
          "text": [
            "\u001b[92mINFO \u001b[0m:      aggregate_evaluate: received 2 results and 0 failures\n",
            "\u001b[92mINFO \u001b[0m:      \n",
            "\u001b[92mINFO \u001b[0m:      [ROUND 13]\n",
            "\u001b[92mINFO \u001b[0m:      configure_fit: strategy sampled 2 clients (out of 2)\n"
          ]
        },
        {
          "name": "stdout",
          "output_type": "stream",
          "text": [
            "\u001b[36m(ClientAppActor pid=3376506)\u001b[0m [Client 1] fit, config: {}\n"
          ]
        },
        {
          "name": "stderr",
          "output_type": "stream",
          "text": [
            "\u001b[92mINFO \u001b[0m:      aggregate_fit: received 2 results and 0 failures\n",
            "\u001b[92mINFO \u001b[0m:      fit progress: (13, 21.976307832170278, {'accuracy': 0.9646}, 1147.1232313730288)\n",
            "\u001b[92mINFO \u001b[0m:      configure_evaluate: strategy sampled 2 clients (out of 2)\n"
          ]
        },
        {
          "name": "stdout",
          "output_type": "stream",
          "text": [
            "\u001b[36m(ClientAppActor pid=3376506)\u001b[0m [Client 1] evaluate, config: {}\u001b[32m [repeated 2x across cluster]\u001b[0m\n",
            "\u001b[36m(ClientAppActor pid=3376505)\u001b[0m [Client 0] fit, config: {}\n"
          ]
        },
        {
          "name": "stderr",
          "output_type": "stream",
          "text": [
            "\u001b[92mINFO \u001b[0m:      aggregate_evaluate: received 2 results and 0 failures\n",
            "\u001b[92mINFO \u001b[0m:      \n",
            "\u001b[92mINFO \u001b[0m:      [ROUND 14]\n",
            "\u001b[92mINFO \u001b[0m:      configure_fit: strategy sampled 2 clients (out of 2)\n"
          ]
        },
        {
          "name": "stdout",
          "output_type": "stream",
          "text": [
            "\u001b[36m(ClientAppActor pid=3376505)\u001b[0m [Client 1] fit, config: {}\n"
          ]
        },
        {
          "name": "stderr",
          "output_type": "stream",
          "text": [
            "\u001b[92mINFO \u001b[0m:      aggregate_fit: received 2 results and 0 failures\n",
            "\u001b[92mINFO \u001b[0m:      fit progress: (14, 21.224760595709085, {'accuracy': 0.9649}, 1236.1502361600287)\n",
            "\u001b[92mINFO \u001b[0m:      configure_evaluate: strategy sampled 2 clients (out of 2)\n"
          ]
        },
        {
          "name": "stdout",
          "output_type": "stream",
          "text": [
            "\u001b[36m(ClientAppActor pid=3376506)\u001b[0m [Client 0] evaluate, config: {}\u001b[32m [repeated 2x across cluster]\u001b[0m\n",
            "\u001b[36m(ClientAppActor pid=3376506)\u001b[0m [Client 0] fit, config: {}\n"
          ]
        },
        {
          "name": "stderr",
          "output_type": "stream",
          "text": [
            "\u001b[92mINFO \u001b[0m:      aggregate_evaluate: received 2 results and 0 failures\n",
            "\u001b[92mINFO \u001b[0m:      \n",
            "\u001b[92mINFO \u001b[0m:      [ROUND 15]\n",
            "\u001b[92mINFO \u001b[0m:      configure_fit: strategy sampled 2 clients (out of 2)\n"
          ]
        },
        {
          "name": "stdout",
          "output_type": "stream",
          "text": [
            "\u001b[36m(ClientAppActor pid=3376505)\u001b[0m [Client 0] fit, config: {}\n"
          ]
        },
        {
          "name": "stderr",
          "output_type": "stream",
          "text": [
            "\u001b[92mINFO \u001b[0m:      aggregate_fit: received 2 results and 0 failures\n",
            "\u001b[92mINFO \u001b[0m:      fit progress: (15, 20.72627733205445, {'accuracy': 0.9657}, 1323.0349817629904)\n",
            "\u001b[92mINFO \u001b[0m:      configure_evaluate: strategy sampled 2 clients (out of 2)\n"
          ]
        },
        {
          "name": "stdout",
          "output_type": "stream",
          "text": [
            "\u001b[36m(ClientAppActor pid=3376506)\u001b[0m [Client 1] evaluate, config: {}\u001b[32m [repeated 2x across cluster]\u001b[0m\n",
            "\u001b[36m(ClientAppActor pid=3376506)\u001b[0m [Client 1] fit, config: {}\n"
          ]
        },
        {
          "name": "stderr",
          "output_type": "stream",
          "text": [
            "\u001b[92mINFO \u001b[0m:      aggregate_evaluate: received 2 results and 0 failures\n",
            "\u001b[92mINFO \u001b[0m:      \n",
            "\u001b[92mINFO \u001b[0m:      [SUMMARY]\n",
            "\u001b[92mINFO \u001b[0m:      Run finished 15 round(s) in 1325.36s\n",
            "\u001b[92mINFO \u001b[0m:      \tHistory (loss, distributed):\n",
            "\u001b[92mINFO \u001b[0m:      \t\tround 1: 5.9971747398376465\n",
            "\u001b[92mINFO \u001b[0m:      \t\tround 2: 7.3012375831604\n",
            "\u001b[92mINFO \u001b[0m:      \t\tround 3: 3.683214843273163\n",
            "\u001b[92mINFO \u001b[0m:      \t\tround 4: 1.0776074677705765\n",
            "\u001b[92mINFO \u001b[0m:      \t\tround 5: 0.44487179815769196\n",
            "\u001b[92mINFO \u001b[0m:      \t\tround 6: 0.3023713380098343\n",
            "\u001b[92mINFO \u001b[0m:      \t\tround 7: 0.3121250756084919\n",
            "\u001b[92mINFO \u001b[0m:      \t\tround 8: 0.17480407189577818\n",
            "\u001b[92mINFO \u001b[0m:      \t\tround 9: 0.15041993325576186\n",
            "\u001b[92mINFO \u001b[0m:      \t\tround 10: 0.17468253709375858\n",
            "\u001b[92mINFO \u001b[0m:      \t\tround 11: 0.252847402356565\n",
            "\u001b[92mINFO \u001b[0m:      \t\tround 12: 0.1989042516797781\n",
            "\u001b[92mINFO \u001b[0m:      \t\tround 13: 0.1646041264757514\n",
            "\u001b[92mINFO \u001b[0m:      \t\tround 14: 0.15990972518920898\n",
            "\u001b[92mINFO \u001b[0m:      \t\tround 15: 0.16127308597788215\n",
            "\u001b[92mINFO \u001b[0m:      \tHistory (loss, centralized):\n",
            "\u001b[92mINFO \u001b[0m:      \t\tround 0: 460.8699908256531\n",
            "\u001b[92mINFO \u001b[0m:      \t\tround 1: 608.9555218219757\n",
            "\u001b[92mINFO \u001b[0m:      \t\tround 2: 713.9736497402191\n",
            "\u001b[92mINFO \u001b[0m:      \t\tround 3: 321.81756615638733\n",
            "\u001b[92mINFO \u001b[0m:      \t\tround 4: 100.82815863192081\n",
            "\u001b[92mINFO \u001b[0m:      \t\tround 5: 51.21607327833772\n",
            "\u001b[92mINFO \u001b[0m:      \t\tround 6: 36.54224198218435\n",
            "\u001b[92mINFO \u001b[0m:      \t\tround 7: 35.296145901083946\n",
            "\u001b[92mINFO \u001b[0m:      \t\tround 8: 27.520722748711705\n",
            "\u001b[92mINFO \u001b[0m:      \t\tround 9: 23.2594339014031\n",
            "\u001b[92mINFO \u001b[0m:      \t\tround 10: 23.79657953698188\n",
            "\u001b[92mINFO \u001b[0m:      \t\tround 11: 27.39604489353951\n",
            "\u001b[92mINFO \u001b[0m:      \t\tround 12: 24.360512753017247\n",
            "\u001b[92mINFO \u001b[0m:      \t\tround 13: 21.976307832170278\n",
            "\u001b[92mINFO \u001b[0m:      \t\tround 14: 21.224760595709085\n",
            "\u001b[92mINFO \u001b[0m:      \t\tround 15: 20.72627733205445\n",
            "\u001b[92mINFO \u001b[0m:      \tHistory (metrics, distributed, fit):\n",
            "\u001b[92mINFO \u001b[0m:      \t{'bytes sent': [(1, 51751287.0),\n",
            "\u001b[92mINFO \u001b[0m:      \t                (2, 51751287.0),\n",
            "\u001b[92mINFO \u001b[0m:      \t                (3, 51751287.0),\n",
            "\u001b[92mINFO \u001b[0m:      \t                (4, 51751287.0),\n",
            "\u001b[92mINFO \u001b[0m:      \t                (5, 51751287.0),\n",
            "\u001b[92mINFO \u001b[0m:      \t                (6, 51751283.0),\n",
            "\u001b[92mINFO \u001b[0m:      \t                (7, 51751283.0),\n",
            "\u001b[92mINFO \u001b[0m:      \t                (8, 51751287.0),\n",
            "\u001b[92mINFO \u001b[0m:      \t                (9, 51751287.0),\n",
            "\u001b[92mINFO \u001b[0m:      \t                (10, 51751283.0),\n",
            "\u001b[92mINFO \u001b[0m:      \t                (11, 51751287.0),\n",
            "\u001b[92mINFO \u001b[0m:      \t                (12, 51751287.0),\n",
            "\u001b[92mINFO \u001b[0m:      \t                (13, 51751283.0),\n",
            "\u001b[92mINFO \u001b[0m:      \t                (14, 51751279.0),\n",
            "\u001b[92mINFO \u001b[0m:      \t                (15, 51751279.0)]}\n",
            "\u001b[92mINFO \u001b[0m:      \tHistory (metrics, distributed, evaluate):\n",
            "\u001b[92mINFO \u001b[0m:      \t{'accuracy': [(1, 0.1),\n",
            "\u001b[92mINFO \u001b[0m:      \t              (2, 0.1),\n",
            "\u001b[92mINFO \u001b[0m:      \t              (3, 0.26666666666666666),\n",
            "\u001b[92mINFO \u001b[0m:      \t              (4, 0.7833333333333333),\n",
            "\u001b[92mINFO \u001b[0m:      \t              (5, 0.9333333333333333),\n",
            "\u001b[92mINFO \u001b[0m:      \t              (6, 0.9583333333333333),\n",
            "\u001b[92mINFO \u001b[0m:      \t              (7, 0.9583333333333333),\n",
            "\u001b[92mINFO \u001b[0m:      \t              (8, 0.9916666666666667),\n",
            "\u001b[92mINFO \u001b[0m:      \t              (9, 0.9833333333333333),\n",
            "\u001b[92mINFO \u001b[0m:      \t              (10, 0.9833333333333333),\n",
            "\u001b[92mINFO \u001b[0m:      \t              (11, 0.9833333333333333),\n",
            "\u001b[92mINFO \u001b[0m:      \t              (12, 0.975),\n",
            "\u001b[92mINFO \u001b[0m:      \t              (13, 0.9833333333333333),\n",
            "\u001b[92mINFO \u001b[0m:      \t              (14, 0.9833333333333333),\n",
            "\u001b[92mINFO \u001b[0m:      \t              (15, 0.9833333333333333)]}\n",
            "\u001b[92mINFO \u001b[0m:      \tHistory (metrics, centralized):\n",
            "\u001b[92mINFO \u001b[0m:      \t{'accuracy': [(0, 0.1225),\n",
            "\u001b[92mINFO \u001b[0m:      \t              (1, 0.1135),\n",
            "\u001b[92mINFO \u001b[0m:      \t              (2, 0.1135),\n",
            "\u001b[92mINFO \u001b[0m:      \t              (3, 0.3426),\n",
            "\u001b[92mINFO \u001b[0m:      \t              (4, 0.8375),\n",
            "\u001b[92mINFO \u001b[0m:      \t              (5, 0.9194),\n",
            "\u001b[92mINFO \u001b[0m:      \t              (6, 0.9423),\n",
            "\u001b[92mINFO \u001b[0m:      \t              (7, 0.944),\n",
            "\u001b[92mINFO \u001b[0m:      \t              (8, 0.9572),\n",
            "\u001b[92mINFO \u001b[0m:      \t              (9, 0.9632),\n",
            "\u001b[92mINFO \u001b[0m:      \t              (10, 0.9623),\n",
            "\u001b[92mINFO \u001b[0m:      \t              (11, 0.9568),\n",
            "\u001b[92mINFO \u001b[0m:      \t              (12, 0.9615),\n",
            "\u001b[92mINFO \u001b[0m:      \t              (13, 0.9646),\n",
            "\u001b[92mINFO \u001b[0m:      \t              (14, 0.9649),\n",
            "\u001b[92mINFO \u001b[0m:      \t              (15, 0.9657)]}\n",
            "\u001b[92mINFO \u001b[0m:      \n",
            "\u001b[92mINFO \u001b[0m:      Starting Flower simulation, config: num_rounds=15, no round_timeout\n"
          ]
        },
        {
          "name": "stdout",
          "output_type": "stream",
          "text": [
            "Running simulation with pruning rate: 0.9\n",
            "\u001b[36m(ClientAppActor pid=3376505)\u001b[0m [Client 0] evaluate, config: {}\n"
          ]
        },
        {
          "name": "stderr",
          "output_type": "stream",
          "text": [
            "2024-07-23 01:21:50,307\tINFO worker.py:1752 -- Started a local Ray instance.\n",
            "\u001b[92mINFO \u001b[0m:      Flower VCE: Ray initialized with resources: {'object_store_memory': 200000000000.0, 'memory': 860970306560.0, 'node:__internal_head__': 1.0, 'GPU': 3.0, 'accelerator_type:RTX': 1.0, 'node:10.8.0.3': 1.0, 'CPU': 40.0}\n",
            "\u001b[92mINFO \u001b[0m:      Optimize your simulation with Flower VCE: https://flower.ai/docs/framework/how-to-run-simulations.html\n",
            "\u001b[92mINFO \u001b[0m:      No `client_resources` specified. Using minimal resources for clients.\n",
            "\u001b[92mINFO \u001b[0m:      Flower VCE: Resources for each Virtual Client: {'num_cpus': 1, 'num_gpus': 0.0}\n",
            "\u001b[92mINFO \u001b[0m:      Flower VCE: Creating VirtualClientEngineActorPool with 40 actors\n",
            "\u001b[92mINFO \u001b[0m:      [INIT]\n",
            "\u001b[92mINFO \u001b[0m:      Requesting initial parameters from one random client\n"
          ]
        },
        {
          "name": "stdout",
          "output_type": "stream",
          "text": [
            "\u001b[36m(ClientAppActor pid=3388057)\u001b[0m [Client 0] get_parameters\n"
          ]
        },
        {
          "name": "stderr",
          "output_type": "stream",
          "text": [
            "\u001b[92mINFO \u001b[0m:      Received initial parameters from one random client\n",
            "\u001b[92mINFO \u001b[0m:      Evaluating initial global parameters\n",
            "\u001b[92mINFO \u001b[0m:      initial parameters (loss, other metrics): 460.6258029937744, {'accuracy': 0.0982}\n",
            "\u001b[92mINFO \u001b[0m:      \n",
            "\u001b[92mINFO \u001b[0m:      [ROUND 1]\n",
            "\u001b[92mINFO \u001b[0m:      configure_fit: strategy sampled 2 clients (out of 2)\n"
          ]
        },
        {
          "name": "stdout",
          "output_type": "stream",
          "text": [
            "\u001b[36m(ClientAppActor pid=3388057)\u001b[0m [Client 1] fit, config: {}\n"
          ]
        },
        {
          "name": "stderr",
          "output_type": "stream",
          "text": [
            "\u001b[92mINFO \u001b[0m:      aggregate_fit: received 2 results and 0 failures\n",
            "\u001b[92mINFO \u001b[0m:      fit progress: (1, 574.2001459598541, {'accuracy': 0.1135}, 92.7316365018487)\n",
            "\u001b[92mINFO \u001b[0m:      configure_evaluate: strategy sampled 2 clients (out of 2)\n"
          ]
        },
        {
          "name": "stdout",
          "output_type": "stream",
          "text": [
            "\u001b[36m(ClientAppActor pid=3388057)\u001b[0m [Client 0] evaluate, config: {}\n",
            "\u001b[36m(ClientAppActor pid=3388056)\u001b[0m [Client 0] fit, config: {}\n"
          ]
        },
        {
          "name": "stderr",
          "output_type": "stream",
          "text": [
            "\u001b[92mINFO \u001b[0m:      aggregate_evaluate: received 2 results and 0 failures\n",
            "\u001b[92mINFO \u001b[0m:      \n",
            "\u001b[92mINFO \u001b[0m:      [ROUND 2]\n",
            "\u001b[92mINFO \u001b[0m:      configure_fit: strategy sampled 2 clients (out of 2)\n"
          ]
        },
        {
          "name": "stdout",
          "output_type": "stream",
          "text": [
            "\u001b[36m(ClientAppActor pid=3388057)\u001b[0m [Client 1] fit, config: {}\n"
          ]
        },
        {
          "name": "stderr",
          "output_type": "stream",
          "text": [
            "\u001b[92mINFO \u001b[0m:      aggregate_fit: received 2 results and 0 failures\n",
            "\u001b[92mINFO \u001b[0m:      fit progress: (2, 610.9589512348175, {'accuracy': 0.0982}, 179.2530750129372)\n",
            "\u001b[92mINFO \u001b[0m:      configure_evaluate: strategy sampled 2 clients (out of 2)\n"
          ]
        },
        {
          "name": "stdout",
          "output_type": "stream",
          "text": [
            "\u001b[36m(ClientAppActor pid=3388056)\u001b[0m [Client 0] evaluate, config: {}\u001b[32m [repeated 2x across cluster]\u001b[0m\n",
            "\u001b[36m(ClientAppActor pid=3388056)\u001b[0m [Client 0] fit, config: {}\n"
          ]
        },
        {
          "name": "stderr",
          "output_type": "stream",
          "text": [
            "\u001b[92mINFO \u001b[0m:      aggregate_evaluate: received 2 results and 0 failures\n",
            "\u001b[92mINFO \u001b[0m:      \n",
            "\u001b[92mINFO \u001b[0m:      [ROUND 3]\n",
            "\u001b[92mINFO \u001b[0m:      configure_fit: strategy sampled 2 clients (out of 2)\n"
          ]
        },
        {
          "name": "stdout",
          "output_type": "stream",
          "text": [
            "\u001b[36m(ClientAppActor pid=3388056)\u001b[0m [Client 0] fit, config: {}\n"
          ]
        },
        {
          "name": "stderr",
          "output_type": "stream",
          "text": [
            "\u001b[92mINFO \u001b[0m:      aggregate_fit: received 2 results and 0 failures\n",
            "\u001b[92mINFO \u001b[0m:      fit progress: (3, 590.2972815036774, {'accuracy': 0.0974}, 265.7343325128313)\n",
            "\u001b[92mINFO \u001b[0m:      configure_evaluate: strategy sampled 2 clients (out of 2)\n"
          ]
        },
        {
          "name": "stdout",
          "output_type": "stream",
          "text": [
            "\u001b[36m(ClientAppActor pid=3388056)\u001b[0m [Client 0] evaluate, config: {}\u001b[32m [repeated 2x across cluster]\u001b[0m\n",
            "\u001b[36m(ClientAppActor pid=3388057)\u001b[0m [Client 1] fit, config: {}\n"
          ]
        },
        {
          "name": "stderr",
          "output_type": "stream",
          "text": [
            "\u001b[92mINFO \u001b[0m:      aggregate_evaluate: received 2 results and 0 failures\n",
            "\u001b[92mINFO \u001b[0m:      \n",
            "\u001b[92mINFO \u001b[0m:      [ROUND 4]\n",
            "\u001b[92mINFO \u001b[0m:      configure_fit: strategy sampled 2 clients (out of 2)\n"
          ]
        },
        {
          "name": "stdout",
          "output_type": "stream",
          "text": [
            "\u001b[36m(ClientAppActor pid=3388057)\u001b[0m [Client 0] fit, config: {}\n"
          ]
        },
        {
          "name": "stderr",
          "output_type": "stream",
          "text": [
            "\u001b[92mINFO \u001b[0m:      aggregate_fit: received 2 results and 0 failures\n",
            "\u001b[92mINFO \u001b[0m:      fit progress: (4, 626.5965645313263, {'accuracy': 0.1179}, 352.11358393589035)\n",
            "\u001b[92mINFO \u001b[0m:      configure_evaluate: strategy sampled 2 clients (out of 2)\n"
          ]
        },
        {
          "name": "stdout",
          "output_type": "stream",
          "text": [
            "\u001b[36m(ClientAppActor pid=3388057)\u001b[0m [Client 0] evaluate, config: {}\u001b[32m [repeated 2x across cluster]\u001b[0m\n",
            "\u001b[36m(ClientAppActor pid=3388056)\u001b[0m [Client 1] fit, config: {}\n"
          ]
        },
        {
          "name": "stderr",
          "output_type": "stream",
          "text": [
            "\u001b[92mINFO \u001b[0m:      aggregate_evaluate: received 2 results and 0 failures\n",
            "\u001b[92mINFO \u001b[0m:      \n",
            "\u001b[92mINFO \u001b[0m:      [ROUND 5]\n",
            "\u001b[92mINFO \u001b[0m:      configure_fit: strategy sampled 2 clients (out of 2)\n"
          ]
        },
        {
          "name": "stdout",
          "output_type": "stream",
          "text": [
            "\u001b[36m(ClientAppActor pid=3388057)\u001b[0m [Client 0] fit, config: {}\n"
          ]
        },
        {
          "name": "stderr",
          "output_type": "stream",
          "text": [
            "\u001b[92mINFO \u001b[0m:      aggregate_fit: received 2 results and 0 failures\n",
            "\u001b[92mINFO \u001b[0m:      fit progress: (5, 659.7310061454773, {'accuracy': 0.0974}, 440.56847862084396)\n",
            "\u001b[92mINFO \u001b[0m:      configure_evaluate: strategy sampled 2 clients (out of 2)\n"
          ]
        },
        {
          "name": "stdout",
          "output_type": "stream",
          "text": [
            "\u001b[36m(ClientAppActor pid=3388057)\u001b[0m [Client 0] evaluate, config: {}\u001b[32m [repeated 2x across cluster]\u001b[0m\n",
            "\u001b[36m(ClientAppActor pid=3388056)\u001b[0m [Client 1] fit, config: {}\n"
          ]
        },
        {
          "name": "stderr",
          "output_type": "stream",
          "text": [
            "\u001b[92mINFO \u001b[0m:      aggregate_evaluate: received 2 results and 0 failures\n",
            "\u001b[92mINFO \u001b[0m:      \n",
            "\u001b[92mINFO \u001b[0m:      [ROUND 6]\n",
            "\u001b[92mINFO \u001b[0m:      configure_fit: strategy sampled 2 clients (out of 2)\n"
          ]
        },
        {
          "name": "stdout",
          "output_type": "stream",
          "text": [
            "\u001b[36m(ClientAppActor pid=3388056)\u001b[0m [Client 1] fit, config: {}\n"
          ]
        },
        {
          "name": "stderr",
          "output_type": "stream",
          "text": [
            "\u001b[92mINFO \u001b[0m:      aggregate_fit: received 2 results and 0 failures\n",
            "\u001b[92mINFO \u001b[0m:      fit progress: (6, 664.0192980766296, {'accuracy': 0.0974}, 529.4721142610069)\n",
            "\u001b[92mINFO \u001b[0m:      configure_evaluate: strategy sampled 2 clients (out of 2)\n"
          ]
        },
        {
          "name": "stdout",
          "output_type": "stream",
          "text": [
            "\u001b[36m(ClientAppActor pid=3388057)\u001b[0m [Client 0] evaluate, config: {}\u001b[32m [repeated 2x across cluster]\u001b[0m\n",
            "\u001b[36m(ClientAppActor pid=3388057)\u001b[0m [Client 0] fit, config: {}\n"
          ]
        },
        {
          "name": "stderr",
          "output_type": "stream",
          "text": [
            "\u001b[92mINFO \u001b[0m:      aggregate_evaluate: received 2 results and 0 failures\n",
            "\u001b[92mINFO \u001b[0m:      \n",
            "\u001b[92mINFO \u001b[0m:      [ROUND 7]\n",
            "\u001b[92mINFO \u001b[0m:      configure_fit: strategy sampled 2 clients (out of 2)\n"
          ]
        },
        {
          "name": "stdout",
          "output_type": "stream",
          "text": [
            "\u001b[36m(ClientAppActor pid=3388057)\u001b[0m [Client 1] fit, config: {}\n"
          ]
        },
        {
          "name": "stderr",
          "output_type": "stream",
          "text": [
            "\u001b[92mINFO \u001b[0m:      aggregate_fit: received 2 results and 0 failures\n",
            "\u001b[92mINFO \u001b[0m:      fit progress: (7, 770.4146225452423, {'accuracy': 0.0974}, 618.3222224588972)\n",
            "\u001b[92mINFO \u001b[0m:      configure_evaluate: strategy sampled 2 clients (out of 2)\n"
          ]
        },
        {
          "name": "stdout",
          "output_type": "stream",
          "text": [
            "\u001b[36m(ClientAppActor pid=3388056)\u001b[0m [Client 1] evaluate, config: {}\u001b[32m [repeated 2x across cluster]\u001b[0m\n",
            "\u001b[36m(ClientAppActor pid=3388056)\u001b[0m [Client 0] fit, config: {}\n"
          ]
        },
        {
          "name": "stderr",
          "output_type": "stream",
          "text": [
            "\u001b[92mINFO \u001b[0m:      aggregate_evaluate: received 2 results and 0 failures\n",
            "\u001b[92mINFO \u001b[0m:      \n",
            "\u001b[92mINFO \u001b[0m:      [ROUND 8]\n",
            "\u001b[92mINFO \u001b[0m:      configure_fit: strategy sampled 2 clients (out of 2)\n"
          ]
        },
        {
          "name": "stdout",
          "output_type": "stream",
          "text": [
            "\u001b[36m(ClientAppActor pid=3388057)\u001b[0m [Client 1] fit, config: {}\n"
          ]
        },
        {
          "name": "stderr",
          "output_type": "stream",
          "text": [
            "\u001b[92mINFO \u001b[0m:      aggregate_fit: received 2 results and 0 failures\n",
            "\u001b[92mINFO \u001b[0m:      fit progress: (8, 693.2341313362122, {'accuracy': 0.104}, 708.7688318029977)\n",
            "\u001b[92mINFO \u001b[0m:      configure_evaluate: strategy sampled 2 clients (out of 2)\n"
          ]
        },
        {
          "name": "stdout",
          "output_type": "stream",
          "text": [
            "\u001b[36m(ClientAppActor pid=3388056)\u001b[0m [Client 0] evaluate, config: {}\u001b[32m [repeated 2x across cluster]\u001b[0m\n",
            "\u001b[36m(ClientAppActor pid=3388056)\u001b[0m [Client 0] fit, config: {}\n"
          ]
        },
        {
          "name": "stderr",
          "output_type": "stream",
          "text": [
            "\u001b[92mINFO \u001b[0m:      aggregate_evaluate: received 2 results and 0 failures\n",
            "\u001b[92mINFO \u001b[0m:      \n",
            "\u001b[92mINFO \u001b[0m:      [ROUND 9]\n",
            "\u001b[92mINFO \u001b[0m:      configure_fit: strategy sampled 2 clients (out of 2)\n"
          ]
        },
        {
          "name": "stdout",
          "output_type": "stream",
          "text": [
            "\u001b[36m(ClientAppActor pid=3388057)\u001b[0m [Client 1] fit, config: {}\n"
          ]
        },
        {
          "name": "stderr",
          "output_type": "stream",
          "text": [
            "\u001b[92mINFO \u001b[0m:      aggregate_fit: received 2 results and 0 failures\n",
            "\u001b[92mINFO \u001b[0m:      fit progress: (9, 647.7011466026306, {'accuracy': 0.1831}, 796.2251869668253)\n",
            "\u001b[92mINFO \u001b[0m:      configure_evaluate: strategy sampled 2 clients (out of 2)\n"
          ]
        },
        {
          "name": "stdout",
          "output_type": "stream",
          "text": [
            "\u001b[36m(ClientAppActor pid=3388056)\u001b[0m [Client 0] evaluate, config: {}\u001b[32m [repeated 2x across cluster]\u001b[0m\n",
            "\u001b[36m(ClientAppActor pid=3388056)\u001b[0m [Client 0] fit, config: {}\n"
          ]
        },
        {
          "name": "stderr",
          "output_type": "stream",
          "text": [
            "\u001b[92mINFO \u001b[0m:      aggregate_evaluate: received 2 results and 0 failures\n",
            "\u001b[92mINFO \u001b[0m:      \n",
            "\u001b[92mINFO \u001b[0m:      [ROUND 10]\n",
            "\u001b[92mINFO \u001b[0m:      configure_fit: strategy sampled 2 clients (out of 2)\n"
          ]
        },
        {
          "name": "stdout",
          "output_type": "stream",
          "text": [
            "\u001b[36m(ClientAppActor pid=3388057)\u001b[0m [Client 1] fit, config: {}\n"
          ]
        },
        {
          "name": "stderr",
          "output_type": "stream",
          "text": [
            "\u001b[92mINFO \u001b[0m:      aggregate_fit: received 2 results and 0 failures\n",
            "\u001b[92mINFO \u001b[0m:      fit progress: (10, 674.7631068229675, {'accuracy': 0.1955}, 882.6756683539134)\n",
            "\u001b[92mINFO \u001b[0m:      configure_evaluate: strategy sampled 2 clients (out of 2)\n"
          ]
        },
        {
          "name": "stdout",
          "output_type": "stream",
          "text": [
            "\u001b[36m(ClientAppActor pid=3388056)\u001b[0m [Client 0] evaluate, config: {}\u001b[32m [repeated 2x across cluster]\u001b[0m\n",
            "\u001b[36m(ClientAppActor pid=3388056)\u001b[0m [Client 0] fit, config: {}\n"
          ]
        },
        {
          "name": "stderr",
          "output_type": "stream",
          "text": [
            "\u001b[92mINFO \u001b[0m:      aggregate_evaluate: received 2 results and 0 failures\n",
            "\u001b[92mINFO \u001b[0m:      \n",
            "\u001b[92mINFO \u001b[0m:      [ROUND 11]\n",
            "\u001b[92mINFO \u001b[0m:      configure_fit: strategy sampled 2 clients (out of 2)\n"
          ]
        },
        {
          "name": "stdout",
          "output_type": "stream",
          "text": [
            "\u001b[36m(ClientAppActor pid=3388057)\u001b[0m [Client 0] fit, config: {}\n"
          ]
        },
        {
          "name": "stderr",
          "output_type": "stream",
          "text": [
            "\u001b[92mINFO \u001b[0m:      aggregate_fit: received 2 results and 0 failures\n",
            "\u001b[92mINFO \u001b[0m:      fit progress: (11, 661.2968201637268, {'accuracy': 0.2105}, 969.061130448943)\n",
            "\u001b[92mINFO \u001b[0m:      configure_evaluate: strategy sampled 2 clients (out of 2)\n"
          ]
        },
        {
          "name": "stdout",
          "output_type": "stream",
          "text": [
            "\u001b[36m(ClientAppActor pid=3388056)\u001b[0m [Client 0] evaluate, config: {}\u001b[32m [repeated 2x across cluster]\u001b[0m\n",
            "\u001b[36m(ClientAppActor pid=3388056)\u001b[0m [Client 1] fit, config: {}\n"
          ]
        },
        {
          "name": "stderr",
          "output_type": "stream",
          "text": [
            "\u001b[92mINFO \u001b[0m:      aggregate_evaluate: received 2 results and 0 failures\n",
            "\u001b[92mINFO \u001b[0m:      \n",
            "\u001b[92mINFO \u001b[0m:      [ROUND 12]\n",
            "\u001b[92mINFO \u001b[0m:      configure_fit: strategy sampled 2 clients (out of 2)\n"
          ]
        },
        {
          "name": "stdout",
          "output_type": "stream",
          "text": [
            "\u001b[36m(ClientAppActor pid=3388057)\u001b[0m [Client 0] fit, config: {}\n"
          ]
        },
        {
          "name": "stderr",
          "output_type": "stream",
          "text": [
            "\u001b[92mINFO \u001b[0m:      aggregate_fit: received 2 results and 0 failures\n",
            "\u001b[92mINFO \u001b[0m:      fit progress: (12, 657.5441753864288, {'accuracy': 0.1229}, 1054.5699777838308)\n",
            "\u001b[92mINFO \u001b[0m:      configure_evaluate: strategy sampled 2 clients (out of 2)\n"
          ]
        },
        {
          "name": "stdout",
          "output_type": "stream",
          "text": [
            "\u001b[36m(ClientAppActor pid=3388057)\u001b[0m [Client 0] evaluate, config: {}\u001b[32m [repeated 2x across cluster]\u001b[0m\n",
            "\u001b[36m(ClientAppActor pid=3388056)\u001b[0m [Client 1] fit, config: {}\n"
          ]
        },
        {
          "name": "stderr",
          "output_type": "stream",
          "text": [
            "\u001b[92mINFO \u001b[0m:      aggregate_evaluate: received 2 results and 0 failures\n",
            "\u001b[92mINFO \u001b[0m:      \n",
            "\u001b[92mINFO \u001b[0m:      [ROUND 13]\n",
            "\u001b[92mINFO \u001b[0m:      configure_fit: strategy sampled 2 clients (out of 2)\n"
          ]
        },
        {
          "name": "stdout",
          "output_type": "stream",
          "text": [
            "\u001b[36m(ClientAppActor pid=3388056)\u001b[0m [Client 1] fit, config: {}\n"
          ]
        },
        {
          "name": "stderr",
          "output_type": "stream",
          "text": [
            "\u001b[92mINFO \u001b[0m:      aggregate_fit: received 2 results and 0 failures\n",
            "\u001b[92mINFO \u001b[0m:      fit progress: (13, 450.3532646894455, {'accuracy': 0.2279}, 1143.141302254051)\n",
            "\u001b[92mINFO \u001b[0m:      configure_evaluate: strategy sampled 2 clients (out of 2)\n"
          ]
        },
        {
          "name": "stdout",
          "output_type": "stream",
          "text": [
            "\u001b[36m(ClientAppActor pid=3388057)\u001b[0m [Client 0] evaluate, config: {}\u001b[32m [repeated 2x across cluster]\u001b[0m\n",
            "\u001b[36m(ClientAppActor pid=3388057)\u001b[0m [Client 0] fit, config: {}\n"
          ]
        },
        {
          "name": "stderr",
          "output_type": "stream",
          "text": [
            "\u001b[92mINFO \u001b[0m:      aggregate_evaluate: received 2 results and 0 failures\n",
            "\u001b[92mINFO \u001b[0m:      \n",
            "\u001b[92mINFO \u001b[0m:      [ROUND 14]\n",
            "\u001b[92mINFO \u001b[0m:      configure_fit: strategy sampled 2 clients (out of 2)\n"
          ]
        },
        {
          "name": "stdout",
          "output_type": "stream",
          "text": [
            "\u001b[36m(ClientAppActor pid=3388057)\u001b[0m [Client 0] fit, config: {}\n"
          ]
        },
        {
          "name": "stderr",
          "output_type": "stream",
          "text": [
            "\u001b[92mINFO \u001b[0m:      aggregate_fit: received 2 results and 0 failures\n",
            "\u001b[92mINFO \u001b[0m:      fit progress: (14, 257.608473777771, {'accuracy': 0.4893}, 1234.1072378440294)\n",
            "\u001b[92mINFO \u001b[0m:      configure_evaluate: strategy sampled 2 clients (out of 2)\n"
          ]
        },
        {
          "name": "stdout",
          "output_type": "stream",
          "text": [
            "\u001b[36m(ClientAppActor pid=3388056)\u001b[0m [Client 0] evaluate, config: {}\u001b[32m [repeated 2x across cluster]\u001b[0m\n",
            "\u001b[36m(ClientAppActor pid=3388056)\u001b[0m [Client 1] fit, config: {}\n"
          ]
        },
        {
          "name": "stderr",
          "output_type": "stream",
          "text": [
            "\u001b[92mINFO \u001b[0m:      aggregate_evaluate: received 2 results and 0 failures\n",
            "\u001b[92mINFO \u001b[0m:      \n",
            "\u001b[92mINFO \u001b[0m:      [ROUND 15]\n",
            "\u001b[92mINFO \u001b[0m:      configure_fit: strategy sampled 2 clients (out of 2)\n"
          ]
        },
        {
          "name": "stdout",
          "output_type": "stream",
          "text": [
            "\u001b[36m(ClientAppActor pid=3388057)\u001b[0m [Client 0] fit, config: {}\n"
          ]
        },
        {
          "name": "stderr",
          "output_type": "stream",
          "text": [
            "\u001b[92mINFO \u001b[0m:      aggregate_fit: received 2 results and 0 failures\n",
            "\u001b[92mINFO \u001b[0m:      fit progress: (15, 347.8917852640152, {'accuracy': 0.434}, 1327.6262149629183)\n",
            "\u001b[92mINFO \u001b[0m:      configure_evaluate: strategy sampled 2 clients (out of 2)\n"
          ]
        },
        {
          "name": "stdout",
          "output_type": "stream",
          "text": [
            "\u001b[36m(ClientAppActor pid=3388056)\u001b[0m [Client 0] evaluate, config: {}\u001b[32m [repeated 2x across cluster]\u001b[0m\n",
            "\u001b[36m(ClientAppActor pid=3388056)\u001b[0m [Client 1] fit, config: {}\n"
          ]
        },
        {
          "name": "stderr",
          "output_type": "stream",
          "text": [
            "\u001b[92mINFO \u001b[0m:      aggregate_evaluate: received 2 results and 0 failures\n",
            "\u001b[92mINFO \u001b[0m:      \n",
            "\u001b[92mINFO \u001b[0m:      [SUMMARY]\n",
            "\u001b[92mINFO \u001b[0m:      Run finished 15 round(s) in 1329.92s\n",
            "\u001b[92mINFO \u001b[0m:      \tHistory (loss, distributed):\n",
            "\u001b[92mINFO \u001b[0m:      \t\tround 1: 5.654668688774109\n",
            "\u001b[92mINFO \u001b[0m:      \t\tround 2: 6.206220626831055\n",
            "\u001b[92mINFO \u001b[0m:      \t\tround 3: 6.24607515335083\n",
            "\u001b[92mINFO \u001b[0m:      \t\tround 4: 6.495274186134338\n",
            "\u001b[92mINFO \u001b[0m:      \t\tround 5: 6.430019378662109\n",
            "\u001b[92mINFO \u001b[0m:      \t\tround 6: 6.402304291725159\n",
            "\u001b[92mINFO \u001b[0m:      \t\tround 7: 7.555027604103088\n",
            "\u001b[92mINFO \u001b[0m:      \t\tround 8: 6.792508125305176\n",
            "\u001b[92mINFO \u001b[0m:      \t\tround 9: 6.355649948120117\n",
            "\u001b[92mINFO \u001b[0m:      \t\tround 10: 6.740254044532776\n",
            "\u001b[92mINFO \u001b[0m:      \t\tround 11: 6.631877541542053\n",
            "\u001b[92mINFO \u001b[0m:      \t\tround 12: 6.587355017662048\n",
            "\u001b[92mINFO \u001b[0m:      \t\tround 13: 4.8144636154174805\n",
            "\u001b[92mINFO \u001b[0m:      \t\tround 14: 2.6777924299240112\n",
            "\u001b[92mINFO \u001b[0m:      \t\tround 15: 3.664959669113159\n",
            "\u001b[92mINFO \u001b[0m:      \tHistory (loss, centralized):\n",
            "\u001b[92mINFO \u001b[0m:      \t\tround 0: 460.6258029937744\n",
            "\u001b[92mINFO \u001b[0m:      \t\tround 1: 574.2001459598541\n",
            "\u001b[92mINFO \u001b[0m:      \t\tround 2: 610.9589512348175\n",
            "\u001b[92mINFO \u001b[0m:      \t\tround 3: 590.2972815036774\n",
            "\u001b[92mINFO \u001b[0m:      \t\tround 4: 626.5965645313263\n",
            "\u001b[92mINFO \u001b[0m:      \t\tround 5: 659.7310061454773\n",
            "\u001b[92mINFO \u001b[0m:      \t\tround 6: 664.0192980766296\n",
            "\u001b[92mINFO \u001b[0m:      \t\tround 7: 770.4146225452423\n",
            "\u001b[92mINFO \u001b[0m:      \t\tround 8: 693.2341313362122\n",
            "\u001b[92mINFO \u001b[0m:      \t\tround 9: 647.7011466026306\n",
            "\u001b[92mINFO \u001b[0m:      \t\tround 10: 674.7631068229675\n",
            "\u001b[92mINFO \u001b[0m:      \t\tround 11: 661.2968201637268\n",
            "\u001b[92mINFO \u001b[0m:      \t\tround 12: 657.5441753864288\n",
            "\u001b[92mINFO \u001b[0m:      \t\tround 13: 450.3532646894455\n",
            "\u001b[92mINFO \u001b[0m:      \t\tround 14: 257.608473777771\n",
            "\u001b[92mINFO \u001b[0m:      \t\tround 15: 347.8917852640152\n",
            "\u001b[92mINFO \u001b[0m:      \tHistory (metrics, distributed, fit):\n",
            "\u001b[92mINFO \u001b[0m:      \t{'bytes sent': [(1, 37807215.0),\n",
            "\u001b[92mINFO \u001b[0m:      \t                (2, 37807215.0),\n",
            "\u001b[92mINFO \u001b[0m:      \t                (3, 37807219.0),\n",
            "\u001b[92mINFO \u001b[0m:      \t                (4, 37807223.0),\n",
            "\u001b[92mINFO \u001b[0m:      \t                (5, 37807223.0),\n",
            "\u001b[92mINFO \u001b[0m:      \t                (6, 37807223.0),\n",
            "\u001b[92mINFO \u001b[0m:      \t                (7, 37807223.0),\n",
            "\u001b[92mINFO \u001b[0m:      \t                (8, 37807223.0),\n",
            "\u001b[92mINFO \u001b[0m:      \t                (9, 37807223.0),\n",
            "\u001b[92mINFO \u001b[0m:      \t                (10, 37807223.0),\n",
            "\u001b[92mINFO \u001b[0m:      \t                (11, 37807223.0),\n",
            "\u001b[92mINFO \u001b[0m:      \t                (12, 37807223.0),\n",
            "\u001b[92mINFO \u001b[0m:      \t                (13, 37807223.0),\n",
            "\u001b[92mINFO \u001b[0m:      \t                (14, 37807223.0),\n",
            "\u001b[92mINFO \u001b[0m:      \t                (15, 37807223.0)]}\n",
            "\u001b[92mINFO \u001b[0m:      \tHistory (metrics, distributed, evaluate):\n",
            "\u001b[92mINFO \u001b[0m:      \t{'accuracy': [(1, 0.1),\n",
            "\u001b[92mINFO \u001b[0m:      \t              (2, 0.058333333333333334),\n",
            "\u001b[92mINFO \u001b[0m:      \t              (3, 0.125),\n",
            "\u001b[92mINFO \u001b[0m:      \t              (4, 0.13333333333333333),\n",
            "\u001b[92mINFO \u001b[0m:      \t              (5, 0.125),\n",
            "\u001b[92mINFO \u001b[0m:      \t              (6, 0.125),\n",
            "\u001b[92mINFO \u001b[0m:      \t              (7, 0.125),\n",
            "\u001b[92mINFO \u001b[0m:      \t              (8, 0.125),\n",
            "\u001b[92mINFO \u001b[0m:      \t              (9, 0.18333333333333335),\n",
            "\u001b[92mINFO \u001b[0m:      \t              (10, 0.225),\n",
            "\u001b[92mINFO \u001b[0m:      \t              (11, 0.225),\n",
            "\u001b[92mINFO \u001b[0m:      \t              (12, 0.1),\n",
            "\u001b[92mINFO \u001b[0m:      \t              (13, 0.2),\n",
            "\u001b[92mINFO \u001b[0m:      \t              (14, 0.45),\n",
            "\u001b[92mINFO \u001b[0m:      \t              (15, 0.45)]}\n",
            "\u001b[92mINFO \u001b[0m:      \tHistory (metrics, centralized):\n",
            "\u001b[92mINFO \u001b[0m:      \t{'accuracy': [(0, 0.0982),\n",
            "\u001b[92mINFO \u001b[0m:      \t              (1, 0.1135),\n",
            "\u001b[92mINFO \u001b[0m:      \t              (2, 0.0982),\n",
            "\u001b[92mINFO \u001b[0m:      \t              (3, 0.0974),\n",
            "\u001b[92mINFO \u001b[0m:      \t              (4, 0.1179),\n",
            "\u001b[92mINFO \u001b[0m:      \t              (5, 0.0974),\n",
            "\u001b[92mINFO \u001b[0m:      \t              (6, 0.0974),\n",
            "\u001b[92mINFO \u001b[0m:      \t              (7, 0.0974),\n",
            "\u001b[92mINFO \u001b[0m:      \t              (8, 0.104),\n",
            "\u001b[92mINFO \u001b[0m:      \t              (9, 0.1831),\n",
            "\u001b[92mINFO \u001b[0m:      \t              (10, 0.1955),\n",
            "\u001b[92mINFO \u001b[0m:      \t              (11, 0.2105),\n",
            "\u001b[92mINFO \u001b[0m:      \t              (12, 0.1229),\n",
            "\u001b[92mINFO \u001b[0m:      \t              (13, 0.2279),\n",
            "\u001b[92mINFO \u001b[0m:      \t              (14, 0.4893),\n",
            "\u001b[92mINFO \u001b[0m:      \t              (15, 0.434)]}\n",
            "\u001b[92mINFO \u001b[0m:      \n"
          ]
        },
        {
          "name": "stdout",
          "output_type": "stream",
          "text": [
            "Metrics logged\n"
          ]
        }
      ],
      "source": [
        "import json\n",
        "from torch.utils.data import DataLoader\n",
        "\n",
        "strategy = FedSparse(evaluate_metrics_aggregation_fn = weighted_average,\n",
        "                     fit_metrics_aggregation_fn = aggregate_fit_metrics,\n",
        "                     evaluate_fn=get_evaluate_fn(centralized_testset))\n",
        "client_resources = None\n",
        "log_data = []\n",
        "if DEVICE.type == \"cuda\":\n",
        "    client_resources = {\"num_gpus\": 1}\n",
        "for pruning_rate in np.arange(0.1, 1.0, 0.1):\n",
        "    print(f\"Running simulation with pruning rate: {pruning_rate}\")\n",
        "    def get_client_fn(dataset: FederatedDataset):\n",
        "        \"\"\"Return a function to construct a client.\n",
        "\n",
        "        The VirtualClientEngine will execute this function whenever a client is sampled by\n",
        "        the strategy to participate.\n",
        "        \"\"\"\n",
        "\n",
        "        def client_fn(cid: str) -> FlowerClient:\n",
        "            \"\"\"Construct a FlowerClient with its own dataset partition.\"\"\"\n",
        "\n",
        "            # Let's get the partition corresponding to the i-th client\n",
        "            client_dataset = dataset.load_partition(int(cid), \"train\")\n",
        "\n",
        "            # Now let's split it into train (90%) and validation (10%)\n",
        "            client_dataset_splits = client_dataset.train_test_split(test_size=0.1, seed=42)\n",
        "\n",
        "            trainset = client_dataset_splits[\"train\"]\n",
        "            valset = client_dataset_splits[\"test\"]\n",
        "\n",
        "            # Now we apply the transform to each batch.\n",
        "            trainloader = DataLoader(\n",
        "                trainset.with_transform(apply_transforms), batch_size=32, shuffle=True\n",
        "            )\n",
        "            valloader = DataLoader(valset.with_transform(apply_transforms), batch_size=32)\n",
        "\n",
        "            # Create the model and move it to the correct device\n",
        "            net = ResNet12(num_classes=10).to(DEVICE)\n",
        "\n",
        "            # Create and return client\n",
        "            return FlowerClient(cid, net, trainloader, valloader, pruning_rate)\n",
        "\n",
        "        return client_fn\n",
        "\n",
        "    client_fn_callback = get_client_fn(mnist_fds)\n",
        "    history = fl.simulation.start_simulation(\n",
        "        strategy=strategy,\n",
        "        client_fn=client_fn_callback,\n",
        "        num_clients=2,\n",
        "        config=fl.server.ServerConfig(num_rounds=15),\n",
        "        client_resources=client_resources,\n",
        "    )\n",
        "\n",
        "    # Collect the metrics\n",
        "    log_entry = {\n",
        "        \"pruning_rate\": pruning_rate,\n",
        "        \"history_loss_distributed\": history.losses_distributed,\n",
        "        \"history_loss_centralized\": history.losses_centralized,\n",
        "        \"history_metrics_distributed_fit\": history.metrics_distributed_fit,\n",
        "        \"history_metrics_distributed_evaluate\": history.metrics_distributed,\n",
        "        \"history_metrics_centralized\": history.metrics_centralized\n",
        "    }\n",
        "    log_data.append(log_entry)\n",
        "\n",
        "# Write the collected log data to a JSON file\n",
        "with open('MNIST_ResNet12_Unstructured.json', 'w') as f:\n",
        "    json.dump(log_data, f, indent=4)\n",
        "\n",
        "print(\"Metrics logged\")\n"
      ]
    }
  ],
  "metadata": {
    "accelerator": "GPU",
    "colab": {
      "gpuType": "T4",
      "provenance": []
    },
    "kernelspec": {
      "display_name": "Python 3",
      "name": "python3"
    },
    "language_info": {
      "codemirror_mode": {
        "name": "ipython",
        "version": 3
      },
      "file_extension": ".py",
      "mimetype": "text/x-python",
      "name": "python",
      "nbconvert_exporter": "python",
      "pygments_lexer": "ipython3",
      "version": "3.10.12"
    }
  },
  "nbformat": 4,
  "nbformat_minor": 0
}
